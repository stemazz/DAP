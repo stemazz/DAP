{
 "cells": [
  {
   "cell_type": "code",
   "execution_count": 1,
   "metadata": {
    "collapsed": true
   },
   "outputs": [],
   "source": [
    "#spark.stop()\n",
    "%run ../connection.python.port22000.py"
   ]
  },
  {
   "cell_type": "code",
   "execution_count": 2,
   "metadata": {
    "collapsed": true
   },
   "outputs": [],
   "source": [
    "calcio_df= spark.read.format('parquet').load('hdfs:///user/alessandro/interessati_calcio_cb.parquet')\n",
    "calcio_df.createOrReplaceTempView(\"calcio\")"
   ]
  },
  {
   "cell_type": "code",
   "execution_count": 3,
   "metadata": {},
   "outputs": [
    {
     "name": "stdout",
     "output_type": "stream",
     "text": [
      "+------------------------------------------------+--------------------+----------------------------------+------------------------+\n",
      "|COD_CLIENTE_CIFRATO                             |digitalizzazione_bin|pacchetto                         |interesse_binario_calcio|\n",
      "+------------------------------------------------+--------------------+----------------------------------+------------------------+\n",
      "|00101e2ced5ad041ae9e703464c00777b05a7285507a9734|8                   |FAMIGLIA + CINEMA + SPORT         |1                       |\n",
      "|001541959abc938943cb81fb5c3364f8e907f3add16f956c|1                   |CINEMA                            |null                    |\n",
      "|00175c8cf1d513d821f3b8d89f2b5a0355b977535c40191b|2                   |BASE                              |null                    |\n",
      "|00182b76af9875f69ce2750747a2f7f1132512d080235258|0                   |FAMIGLIA + SPORT                  |null                    |\n",
      "|0018b4a7c06775a527e18c23eef8dd560cf6d103509634d4|0                   |CALCIO                            |null                    |\n",
      "|001f81d85e9d223932d75bc6b260cc37306dd4b115fc2719|0                   |FAMIGLIA + CINEMA + SPORT + CALCIO|null                    |\n",
      "|002000957e920325b064ffa5e19ffffb675018f125c10256|7                   |FAMIGLIA + CINEMA + SPORT         |0                       |\n",
      "|002008244073269f0594e39045cc9e3b0cd593fb7f2a491a|7                   |FAMIGLIA + CINEMA + SPORT + CALCIO|0                       |\n",
      "|002008244073269f0594e39045cc9e3b0cd593fb7f2a491a|7                   |FAMIGLIA + CINEMA + SPORT + CALCIO|0                       |\n",
      "|00243cba7aece739b9bf7f24a72d0283912940156918a33e|1                   |FAMIGLIA + CINEMA + SPORT + CALCIO|null                    |\n",
      "+------------------------------------------------+--------------------+----------------------------------+------------------------+\n",
      "only showing top 10 rows\n",
      "\n"
     ]
    }
   ],
   "source": [
    "calcio_df.show(10,False)"
   ]
  },
  {
   "cell_type": "code",
   "execution_count": 7,
   "metadata": {},
   "outputs": [
    {
     "name": "stdout",
     "output_type": "stream",
     "text": [
      "+------------------------+--------+\n",
      "|interesse_binario_calcio|count(1)|\n",
      "+------------------------+--------+\n",
      "|null                    |1616770 |\n",
      "|1                       |1349849 |\n",
      "|0                       |1359213 |\n",
      "+------------------------+--------+\n",
      "\n"
     ]
    }
   ],
   "source": [
    "spark.sql(\"select interesse_binario_calcio, count(*) from calcio group by 1\").show(10,False)"
   ]
  },
  {
   "cell_type": "code",
   "execution_count": 8,
   "metadata": {
    "collapsed": true
   },
   "outputs": [],
   "source": [
    "cinema_df= spark.read.format('parquet').load('hdfs:///user/alessandro/interessati_cinema_cb.parquet')\n",
    "cinema_df.createOrReplaceTempView(\"cinema\")"
   ]
  },
  {
   "cell_type": "code",
   "execution_count": 9,
   "metadata": {},
   "outputs": [
    {
     "name": "stdout",
     "output_type": "stream",
     "text": [
      "+------------------------+--------+\n",
      "|interesse_binario_cinema|count(1)|\n",
      "+------------------------+--------+\n",
      "|null                    |1616770 |\n",
      "|1                       |776322  |\n",
      "|0                       |1932740 |\n",
      "+------------------------+--------+\n",
      "\n"
     ]
    }
   ],
   "source": [
    "spark.sql(\"select interesse_binario_cinema, count(*) from cinema group by 1\").show(10,False)"
   ]
  },
  {
   "cell_type": "code",
   "execution_count": 10,
   "metadata": {
    "collapsed": true
   },
   "outputs": [],
   "source": [
    "sport_df= spark.read.format('parquet').load('hdfs:///user/alessandro/interessati_sport_cb.parquet')\n",
    "sport_df.createOrReplaceTempView(\"sport\")"
   ]
  },
  {
   "cell_type": "code",
   "execution_count": 11,
   "metadata": {},
   "outputs": [
    {
     "name": "stdout",
     "output_type": "stream",
     "text": [
      "+-----------------------+--------+\n",
      "|interesse_binario_sport|count(1)|\n",
      "+-----------------------+--------+\n",
      "|null                   |1616770 |\n",
      "|1                      |2570300 |\n",
      "|0                      |138762  |\n",
      "+-----------------------+--------+\n",
      "\n"
     ]
    }
   ],
   "source": [
    "spark.sql(\"select interesse_binario_sport, count(*) from sport group by 1\").show(10,False)"
   ]
  },
  {
   "cell_type": "code",
   "execution_count": 12,
   "metadata": {},
   "outputs": [
    {
     "name": "stdout",
     "output_type": "stream",
     "text": [
      "+------------------------------------------------+------------------------+--------------+---------+-------+-------------+------------------+-----------------+------------------------+-----------------------+\n",
      "|skyid                                           |livello_digitalizzazione|predictionCMDM|scoreCMDM|cluster|cluster_score|devices_prediction|visite_prediction|devices_prediction_score|visite_prediction_score|\n",
      "+------------------------------------------------+------------------------+--------------+---------+-------+-------------+------------------+-----------------+------------------------+-----------------------+\n",
      "|00101e2ced5ad041ae9e703464c00777b05a7285507a9734|22.301000000000002      |6             |4.301    |2      |8            |0                 |4                |5                       |5                      |\n",
      "+------------------------------------------------+------------------------+--------------+---------+-------+-------------+------------------+-----------------+------------------------+-----------------------+\n",
      "only showing top 1 row\n",
      "\n"
     ]
    }
   ],
   "source": [
    "digitalizzazione_old_df= spark.read.format('parquet').load('hdfs:///user/alessandro/clusterfinalscore_conApp.parquet')\n",
    "digitalizzazione_old_df.createOrReplaceTempView(\"digitalizzazione_old\")\n",
    "digitalizzazione_old_df.show(1,False)"
   ]
  },
  {
   "cell_type": "code",
   "execution_count": 4,
   "metadata": {
    "collapsed": true
   },
   "outputs": [],
   "source": [
    "skyid_imps_201809_df= spark.read.format('parquet').load('hdfs:///user/stefano.mazzucca/R_digitalizzazione/201809_sm_skyid_imps_aggr_finale.parquet')\n",
    "skyid_imps_201809_df.createOrReplaceTempView(\"skyid_imps_201809\")"
   ]
  },
  {
   "cell_type": "code",
   "execution_count": 7,
   "metadata": {},
   "outputs": [
    {
     "data": {
      "text/plain": [
       "3785570"
      ]
     },
     "execution_count": 7,
     "metadata": {},
     "output_type": "execute_result"
    }
   ],
   "source": [
    "skyid_imps_201809_df.count()"
   ]
  },
  {
   "cell_type": "code",
   "execution_count": 5,
   "metadata": {
    "collapsed": true
   },
   "outputs": [],
   "source": [
    "skyid_imps_df= spark.read.format('parquet').load('hdfs:///user/silvia/sm_skyid_imps_aggr_finale')\n",
    "skyid_imps_df.createOrReplaceTempView(\"skyid_imps\")"
   ]
  },
  {
   "cell_type": "code",
   "execution_count": 8,
   "metadata": {},
   "outputs": [
    {
     "data": {
      "text/plain": [
       "2922730"
      ]
     },
     "execution_count": 8,
     "metadata": {},
     "output_type": "execute_result"
    }
   ],
   "source": [
    "skyid_imps_df.count()"
   ]
  },
  {
   "cell_type": "code",
   "execution_count": 14,
   "metadata": {
    "collapsed": true
   },
   "outputs": [],
   "source": [
    "cluster_201809_df= spark.read.format('parquet').load('hdfs:///user/stefano.mazzucca/sm_cluster_k_6_score')\n",
    "cluster_201809_df.createOrReplaceTempView(\"cluster_201809_df\")"
   ]
  },
  {
   "cell_type": "code",
   "execution_count": 15,
   "metadata": {},
   "outputs": [
    {
     "data": {
      "text/plain": [
       "3785570"
      ]
     },
     "execution_count": 15,
     "metadata": {},
     "output_type": "execute_result"
    }
   ],
   "source": [
    "cluster_201809_df.count()"
   ]
  },
  {
   "cell_type": "code",
   "execution_count": 16,
   "metadata": {},
   "outputs": [
    {
     "name": "stdout",
     "output_type": "stream",
     "text": [
      "+------------------------------------------------+-------+-------------+\n",
      "|skyid                                           |cluster|cluster_score|\n",
      "+------------------------------------------------+-------+-------------+\n",
      "|0005f3f18bda8a53a22af40921ad131c0e4e913cbdb5f565|4      |6            |\n",
      "|000607b14d7652547155855b3b36c6d3002c130560a03096|1      |2            |\n",
      "|0006530d860a31ca2a4b3539ad9baab4e2d668b4ee0da1a4|4      |6            |\n",
      "|0006b83f9d38ac301f2026071b2b816841bab3c09da501cc|2      |8            |\n",
      "|000ae1a773010077dc8fe659c79d5e23d11901e567efcc91|1      |2            |\n",
      "|000aec8698c204ecadd4011222549f24efc5bc3ac949c457|5      |4            |\n",
      "|000effd99733aebfe511e729e39b71cdee0c9edd644891f5|2      |8            |\n",
      "|000fd3e0c929462b34a48485da2eb775e19b90b2a467e904|0      |10           |\n",
      "|001516de23bee4c89ee975bc01f82af32a4228043563858b|1      |2            |\n",
      "|001a2224a6e43beefdf4ad48b4eb61b8d398ca1353590d6a|5      |4            |\n",
      "+------------------------------------------------+-------+-------------+\n",
      "only showing top 10 rows\n",
      "\n"
     ]
    }
   ],
   "source": [
    "cluster_201809_df.show(10,False)"
   ]
  },
  {
   "cell_type": "code",
   "execution_count": null,
   "metadata": {
    "collapsed": true
   },
   "outputs": [],
   "source": [
    "#2673596"
   ]
  },
  {
   "cell_type": "code",
   "execution_count": null,
   "metadata": {
    "collapsed": true
   },
   "outputs": [],
   "source": []
  },
  {
   "cell_type": "code",
   "execution_count": null,
   "metadata": {
    "collapsed": true
   },
   "outputs": [],
   "source": []
  },
  {
   "cell_type": "code",
   "execution_count": 13,
   "metadata": {},
   "outputs": [
    {
     "name": "stdout",
     "output_type": "stream",
     "text": [
      "+-----------------+------------------------------------------------+----------+\n",
      "|features         |label                                           |prediction|\n",
      "+-----------------+------------------------------------------------+----------+\n",
      "|[4.0,4.0,1.0,2.0]|0005f3f18bda8a53a22af40921ad131c0e4e913cbdb5f565|2         |\n",
      "|[2.0,1.0,1.0,3.0]|000607b14d7652547155855b3b36c6d3002c130560a03096|0         |\n",
      "|[6.0,5.0,1.0,1.0]|0006530d860a31ca2a4b3539ad9baab4e2d668b4ee0da1a4|1         |\n",
      "|[1.0,2.0,1.0,1.0]|0006b83f9d38ac301f2026071b2b816841bab3c09da501cc|0         |\n",
      "|[1.0,2.0,1.0,1.0]|000ae1a773010077dc8fe659c79d5e23d11901e567efcc91|0         |\n",
      "|[5.0,2.0,3.0,3.0]|000aec8698c204ecadd4011222549f24efc5bc3ac949c457|3         |\n",
      "|[6.0,1.0,2.0,5.0]|000effd99733aebfe511e729e39b71cdee0c9edd644891f5|4         |\n",
      "|[7.0,1.0,3.0,4.0]|000fd3e0c929462b34a48485da2eb775e19b90b2a467e904|4         |\n",
      "|[4.0,2.0,1.0,3.0]|001516de23bee4c89ee975bc01f82af32a4228043563858b|3         |\n",
      "|[6.0,4.0,3.0,3.0]|001a2224a6e43beefdf4ad48b4eb61b8d398ca1353590d6a|1         |\n",
      "+-----------------+------------------------------------------------+----------+\n",
      "only showing top 10 rows\n",
      "\n"
     ]
    }
   ],
   "source": [
    "cluster_siti_interni_device_df= spark.read.format('parquet').load('hdfs:///user/riccardo.motta/Aggiornamento_Digitalizzazione_20180301_20180831/predictions_device.parquet')\n",
    "cluster_siti_interni_device_df.createOrReplaceTempView(\"cluster_siti_interni_device\")\n",
    "cluster_siti_interni_device_df.show(10,False)"
   ]
  },
  {
   "cell_type": "code",
   "execution_count": 14,
   "metadata": {
    "collapsed": true
   },
   "outputs": [],
   "source": [
    "cluster_siti_interni_device_score_df=spark.sql(\"select label as skyid, prediction as prediction_siti_int_device, case when prediction=0 then 1 when prediction=1 then 5 when prediction=2 then 5 when prediction=3 then 2 when prediction=4 then 4 else null end as score_siti_int_device from cluster_siti_interni_device\").persist()"
   ]
  },
  {
   "cell_type": "code",
   "execution_count": 15,
   "metadata": {},
   "outputs": [
    {
     "name": "stdout",
     "output_type": "stream",
     "text": [
      "+------------------------------------------------+--------------------------+---------------------+\n",
      "|skyid                                           |prediction_siti_int_device|score_siti_int_device|\n",
      "+------------------------------------------------+--------------------------+---------------------+\n",
      "|0005f3f18bda8a53a22af40921ad131c0e4e913cbdb5f565|2                         |5                    |\n",
      "|000607b14d7652547155855b3b36c6d3002c130560a03096|0                         |1                    |\n",
      "|0006530d860a31ca2a4b3539ad9baab4e2d668b4ee0da1a4|1                         |5                    |\n",
      "|0006b83f9d38ac301f2026071b2b816841bab3c09da501cc|0                         |1                    |\n",
      "|000ae1a773010077dc8fe659c79d5e23d11901e567efcc91|0                         |1                    |\n",
      "|000aec8698c204ecadd4011222549f24efc5bc3ac949c457|3                         |2                    |\n",
      "|000effd99733aebfe511e729e39b71cdee0c9edd644891f5|4                         |4                    |\n",
      "|000fd3e0c929462b34a48485da2eb775e19b90b2a467e904|4                         |4                    |\n",
      "|001516de23bee4c89ee975bc01f82af32a4228043563858b|3                         |2                    |\n",
      "|001a2224a6e43beefdf4ad48b4eb61b8d398ca1353590d6a|1                         |5                    |\n",
      "+------------------------------------------------+--------------------------+---------------------+\n",
      "only showing top 10 rows\n",
      "\n"
     ]
    }
   ],
   "source": [
    "cluster_siti_interni_device_score_df.show(10,False)"
   ]
  },
  {
   "cell_type": "code",
   "execution_count": 16,
   "metadata": {
    "collapsed": true
   },
   "outputs": [],
   "source": [
    "cluster_siti_interni_device_score_df.createOrReplaceTempView(\"cluster_siti_interni_device_score\")"
   ]
  },
  {
   "cell_type": "code",
   "execution_count": 17,
   "metadata": {},
   "outputs": [
    {
     "name": "stdout",
     "output_type": "stream",
     "text": [
      "+---------------------+--------------------------+--------+\n",
      "|score_siti_int_device|prediction_siti_int_device|count(1)|\n",
      "+---------------------+--------------------------+--------+\n",
      "|1                    |0                         |1061607 |\n",
      "|2                    |3                         |441589  |\n",
      "|5                    |2                         |500296  |\n",
      "|5                    |1                         |636166  |\n",
      "|4                    |4                         |366907  |\n",
      "+---------------------+--------------------------+--------+\n",
      "\n"
     ]
    }
   ],
   "source": [
    "spark.sql(\"select score_siti_int_device,prediction_siti_int_device, count(*) from cluster_siti_interni_device_score group by 1,2\").show(10,False)"
   ]
  },
  {
   "cell_type": "code",
   "execution_count": null,
   "metadata": {
    "collapsed": true
   },
   "outputs": [],
   "source": [
    "\n",
    "## Tabella degli ATTIVI\n",
    "cb_attivi <- read.df(\"/user/silvia/External_id_sept2018_advocacy.csv\", source = \"csv\", header = \"true\", delimiter = \",\")\n",
    "View(head(cb_attivi,100))\n",
    "nrow(cb_attivi)\n",
    "# 4.260.581\n",
    "## pred_int_attivi\n",
    "createOrReplaceTempView(pred_int, \"pred_int\")\n",
    "createOrReplaceTempView(cb_attivi, \"cb_attivi\")\n",
    "pred_int_attivi <- sql(\"select distinct t2.COD_CLIENTE_CIFRATO as skyid, t1.prediction as cluster_int\n",
    "                      from pred_int t1\n",
    "                      left join cb_attivi t2\n",
    "                      on t1.label = t2.COD_CLIENTE_CIFRATO\")\n",
    "View(head(pred_int_attivi,100))\n",
    "nrow(pred_int_attivi)\n",
    "# 2.685.499\n",
    "\n",
    "valdist_cluster_int <- distinct(select(pred_int_attivi, \"cluster_int\"))\n",
    "View(head(valdist_cluster_int,100))\n",
    "# cluster_int\n",
    "# 0\n",
    "# 1\n",
    "# 2\n",
    "# 3\n",
    "# 4\n",
    "createOrReplaceTempView(cb_advocacy_1, \"cb_advocacy_1\")\n",
    "cb_advocacy_2 <- sql(\"select skyid,\n",
    "                                 case when cluster_int = 4 then 'Heavy Users Multidevices'\n",
    "                                   when cluster_int = 3 then 'Nuovi Digitali' else 0 end as cluster_nav_siti_int,\n",
    "                                 case when cluster_ext = 10 then 'Smartphone Addicted'\n",
    "                                   when cluster_ext = 8 then 'True Multi-device' else 0 end as cluster_nav_siti_ext\n",
    "                         from cb_advocacy_1\")\n",
    "View(head(cb_advocacy_2,100))\n",
    "nrow(cb_advocacy_2)\n"
   ]
  },
  {
   "cell_type": "code",
   "execution_count": 18,
   "metadata": {},
   "outputs": [
    {
     "name": "stdout",
     "output_type": "stream",
     "text": [
      "+-------------------------+------------------------------------------------+----------+\n",
      "|features                 |label                                           |prediction|\n",
      "+-------------------------+------------------------------------------------+----------+\n",
      "|[2.0,1.0,1.0,3.0,0.0,0.0]|0005f3f18bda8a53a22af40921ad131c0e4e913cbdb5f565|1         |\n",
      "|[1.0,1.0,1.0,1.0,0.0,0.0]|000607b14d7652547155855b3b36c6d3002c130560a03096|1         |\n",
      "|[4.0,1.0,1.0,6.0,0.0,1.0]|0006530d860a31ca2a4b3539ad9baab4e2d668b4ee0da1a4|2         |\n",
      "|[1.0,1.0,1.0,1.0,0.0,0.0]|0006b83f9d38ac301f2026071b2b816841bab3c09da501cc|1         |\n",
      "|[2.0,1.0,1.0,2.0,0.0,0.0]|000ae1a773010077dc8fe659c79d5e23d11901e567efcc91|1         |\n",
      "|[2.0,4.0,3.0,5.0,0.0,0.0]|000aec8698c204ecadd4011222549f24efc5bc3ac949c457|0         |\n",
      "|[1.0,6.0,2.0,6.0,0.0,0.0]|000effd99733aebfe511e729e39b71cdee0c9edd644891f5|0         |\n",
      "|[1.0,3.0,3.0,8.0,0.0,1.0]|000fd3e0c929462b34a48485da2eb775e19b90b2a467e904|0         |\n",
      "|[1.0,3.0,1.0,3.0,0.0,0.0]|001516de23bee4c89ee975bc01f82af32a4228043563858b|1         |\n",
      "|[3.0,5.0,2.0,6.0,0.0,1.0]|001a2224a6e43beefdf4ad48b4eb61b8d398ca1353590d6a|0         |\n",
      "+-------------------------+------------------------------------------------+----------+\n",
      "only showing top 10 rows\n",
      "\n"
     ]
    }
   ],
   "source": [
    "cluster_siti_interni_visite_df= spark.read.format('parquet').load('hdfs:///user/riccardo.motta/Aggiornamento_Digitalizzazione_20180301_20180831/predictions4.parquet')\n",
    "cluster_siti_interni_visite_df.createOrReplaceTempView(\"cluster_siti_interni_visite\")\n",
    "cluster_siti_interni_visite_df.show(10,False)"
   ]
  },
  {
   "cell_type": "code",
   "execution_count": 19,
   "metadata": {
    "collapsed": true
   },
   "outputs": [],
   "source": [
    "cluster_siti_interni_visite_score_df=spark.sql(\"select label as skyid, prediction as prediction_siti_int_visite, case when prediction=0 then 4 when prediction=1 then 1 when prediction=2 then 2 when prediction=3 then 5 when prediction=4 then 5 else null end as score_siti_int_visite from cluster_siti_interni_visite\").persist()"
   ]
  },
  {
   "cell_type": "code",
   "execution_count": 20,
   "metadata": {},
   "outputs": [
    {
     "name": "stdout",
     "output_type": "stream",
     "text": [
      "+------------------------------------------------+--------------------------+---------------------+\n",
      "|skyid                                           |prediction_siti_int_visite|score_siti_int_visite|\n",
      "+------------------------------------------------+--------------------------+---------------------+\n",
      "|0005f3f18bda8a53a22af40921ad131c0e4e913cbdb5f565|1                         |1                    |\n",
      "|000607b14d7652547155855b3b36c6d3002c130560a03096|1                         |1                    |\n",
      "|0006530d860a31ca2a4b3539ad9baab4e2d668b4ee0da1a4|2                         |2                    |\n",
      "|0006b83f9d38ac301f2026071b2b816841bab3c09da501cc|1                         |1                    |\n",
      "|000ae1a773010077dc8fe659c79d5e23d11901e567efcc91|1                         |1                    |\n",
      "|000aec8698c204ecadd4011222549f24efc5bc3ac949c457|0                         |4                    |\n",
      "|000effd99733aebfe511e729e39b71cdee0c9edd644891f5|0                         |4                    |\n",
      "|000fd3e0c929462b34a48485da2eb775e19b90b2a467e904|0                         |4                    |\n",
      "|001516de23bee4c89ee975bc01f82af32a4228043563858b|1                         |1                    |\n",
      "|001a2224a6e43beefdf4ad48b4eb61b8d398ca1353590d6a|0                         |4                    |\n",
      "+------------------------------------------------+--------------------------+---------------------+\n",
      "only showing top 10 rows\n",
      "\n"
     ]
    }
   ],
   "source": [
    "cluster_siti_interni_visite_score_df.show(10,False)"
   ]
  },
  {
   "cell_type": "code",
   "execution_count": 21,
   "metadata": {
    "collapsed": true
   },
   "outputs": [],
   "source": [
    "cluster_siti_interni_visite_score_df.createOrReplaceTempView(\"cluster_siti_interni_visite_score\")"
   ]
  },
  {
   "cell_type": "code",
   "execution_count": 22,
   "metadata": {},
   "outputs": [
    {
     "name": "stdout",
     "output_type": "stream",
     "text": [
      "+---------------------+--------------------------+--------+\n",
      "|score_siti_int_visite|prediction_siti_int_visite|count(1)|\n",
      "+---------------------+--------------------------+--------+\n",
      "|2                    |2                         |464726  |\n",
      "|4                    |0                         |628984  |\n",
      "|1                    |1                         |1167734 |\n",
      "|5                    |4                         |344178  |\n",
      "|5                    |3                         |400943  |\n",
      "+---------------------+--------------------------+--------+\n",
      "\n"
     ]
    }
   ],
   "source": [
    "spark.sql(\"select score_siti_int_visite,prediction_siti_int_visite, count(*) from cluster_siti_interni_visite_score group by 1,2\").show(10,False)"
   ]
  },
  {
   "cell_type": "code",
   "execution_count": 23,
   "metadata": {},
   "outputs": [
    {
     "name": "stdout",
     "output_type": "stream",
     "text": [
      "+------------------------------------------------+-------+-------------+\n",
      "|skyid                                           |cluster|cluster_score|\n",
      "+------------------------------------------------+-------+-------------+\n",
      "|0005f3f18bda8a53a22af40921ad131c0e4e913cbdb5f565|4      |6            |\n",
      "|000607b14d7652547155855b3b36c6d3002c130560a03096|1      |2            |\n",
      "|0006530d860a31ca2a4b3539ad9baab4e2d668b4ee0da1a4|4      |6            |\n",
      "|0006b83f9d38ac301f2026071b2b816841bab3c09da501cc|2      |4            |\n",
      "|000ae1a773010077dc8fe659c79d5e23d11901e567efcc91|1      |2            |\n",
      "|000aec8698c204ecadd4011222549f24efc5bc3ac949c457|5      |8            |\n",
      "|000effd99733aebfe511e729e39b71cdee0c9edd644891f5|2      |4            |\n",
      "|000fd3e0c929462b34a48485da2eb775e19b90b2a467e904|0      |10           |\n",
      "|001516de23bee4c89ee975bc01f82af32a4228043563858b|1      |2            |\n",
      "|001a2224a6e43beefdf4ad48b4eb61b8d398ca1353590d6a|5      |8            |\n",
      "+------------------------------------------------+-------+-------------+\n",
      "only showing top 10 rows\n",
      "\n"
     ]
    }
   ],
   "source": [
    "cluster_siti_esterni_score_df= spark.read.format('parquet').load('hdfs:///user/stefano.mazzucca/digitalizzazione/sm_cluster_k_6_score')\n",
    "cluster_siti_esterni_score_df.createOrReplaceTempView(\"cluster_siti_esterni_score\")\n",
    "cluster_siti_esterni_score_df.show(10,False)"
   ]
  },
  {
   "cell_type": "code",
   "execution_count": 30,
   "metadata": {},
   "outputs": [
    {
     "data": {
      "text/plain": [
       "3785570"
      ]
     },
     "execution_count": 30,
     "metadata": {},
     "output_type": "execute_result"
    }
   ],
   "source": [
    "cluster_siti_esterni_score_df.count()"
   ]
  },
  {
   "cell_type": "code",
   "execution_count": 66,
   "metadata": {},
   "outputs": [
    {
     "data": {
      "text/plain": [
       "3006565"
      ]
     },
     "execution_count": 66,
     "metadata": {},
     "output_type": "execute_result"
    }
   ],
   "source": [
    "cluster_siti_interni_visite_score_df.count()"
   ]
  },
  {
   "cell_type": "code",
   "execution_count": 28,
   "metadata": {},
   "outputs": [
    {
     "data": {
      "text/plain": [
       "3006565"
      ]
     },
     "execution_count": 28,
     "metadata": {},
     "output_type": "execute_result"
    }
   ],
   "source": [
    "cluster_siti_interni_device_score_df.count()"
   ]
  },
  {
   "cell_type": "code",
   "execution_count": 67,
   "metadata": {},
   "outputs": [
    {
     "data": {
      "text/plain": [
       "3785570"
      ]
     },
     "execution_count": 67,
     "metadata": {},
     "output_type": "execute_result"
    }
   ],
   "source": [
    "cluster_siti_esterni_score_df.select('skyid').distinct().count()"
   ]
  },
  {
   "cell_type": "code",
   "execution_count": 68,
   "metadata": {},
   "outputs": [
    {
     "data": {
      "text/plain": [
       "3006565"
      ]
     },
     "execution_count": 68,
     "metadata": {},
     "output_type": "execute_result"
    }
   ],
   "source": [
    "cluster_siti_interni_visite_score_df.select('skyid').distinct().count()"
   ]
  },
  {
   "cell_type": "code",
   "execution_count": 69,
   "metadata": {},
   "outputs": [
    {
     "data": {
      "text/plain": [
       "3006565"
      ]
     },
     "execution_count": 69,
     "metadata": {},
     "output_type": "execute_result"
    }
   ],
   "source": [
    "cluster_siti_interni_device_score_df.select('skyid').distinct().count()"
   ]
  },
  {
   "cell_type": "code",
   "execution_count": 32,
   "metadata": {
    "collapsed": true
   },
   "outputs": [],
   "source": [
    "cluster_siti_interni_df=spark.sql(\"select a.skyid as skyid, score_siti_int_visite, prediction_siti_int_visite, score_siti_int_device, prediction_siti_int_device from cluster_siti_interni_visite_score a join cluster_siti_interni_device_score b on a.skyid=b.skyid\").persist()"
   ]
  },
  {
   "cell_type": "code",
   "execution_count": 37,
   "metadata": {
    "collapsed": true
   },
   "outputs": [],
   "source": [
    "cluster_siti_interni_df.createOrReplaceTempView(\"cluster_siti_interni\")"
   ]
  },
  {
   "cell_type": "code",
   "execution_count": 33,
   "metadata": {},
   "outputs": [
    {
     "data": {
      "text/plain": [
       "3006565"
      ]
     },
     "execution_count": 33,
     "metadata": {},
     "output_type": "execute_result"
    }
   ],
   "source": [
    "cluster_siti_interni_df.count()"
   ]
  },
  {
   "cell_type": "code",
   "execution_count": 34,
   "metadata": {},
   "outputs": [
    {
     "name": "stdout",
     "output_type": "stream",
     "text": [
      "+------------------------------------------------+---------------------+--------------------------+---------------------+--------------------------+\n",
      "|skyid                                           |score_siti_int_visite|prediction_siti_int_visite|score_siti_int_device|prediction_siti_int_device|\n",
      "+------------------------------------------------+---------------------+--------------------------+---------------------+--------------------------+\n",
      "|000268bb9b4d06e6ac81329a96fcc744e05c79835496da4b|5                    |3                         |5                    |1                         |\n",
      "|0003fe6fa141cd593acb65361edd4832c6ca28d9a70e9aba|4                    |0                         |1                    |0                         |\n",
      "|0005a79a8451f3eac98207d3d3111926e4e5a15a13e7d093|5                    |3                         |4                    |4                         |\n",
      "|0006ecec67c1a61e374022c955e98b3ffa326783316cf9aa|5                    |3                         |5                    |1                         |\n",
      "|000b0850c5deb106e8528933477f8de336ecc62ec46eb24c|5                    |4                         |5                    |1                         |\n",
      "|000d4e5158beb4f03872ed57b86565777a011f56e6550916|4                    |0                         |1                    |0                         |\n",
      "|00111532921d6830675cab7cc4d3b70dbee2b5a6e78fc08d|5                    |4                         |5                    |1                         |\n",
      "|0011f1505715ea0090fcdda1fa4ca380c8a3c9c00aeaaa93|1                    |1                         |1                    |0                         |\n",
      "|001c55fd054d139db9ef29b5eb9bda94c787b23aa62b8afd|1                    |1                         |1                    |0                         |\n",
      "|001f9a2827d51dc6ed6d739f1db9c42ace4915262a81018e|1                    |1                         |1                    |0                         |\n",
      "+------------------------------------------------+---------------------+--------------------------+---------------------+--------------------------+\n",
      "only showing top 10 rows\n",
      "\n"
     ]
    }
   ],
   "source": [
    "cluster_siti_interni_df.show(10,False)"
   ]
  },
  {
   "cell_type": "code",
   "execution_count": 44,
   "metadata": {
    "collapsed": true
   },
   "outputs": [],
   "source": [
    "cluster_siti_interni_esterni_df=spark.sql(\"select case when a.skyid is null then b.skyid else a.skyid end as skyid, case when score_siti_int_visite is null then 0 else score_siti_int_visite end as score_siti_int_visite, prediction_siti_int_visite, case when score_siti_int_device is null then 0 else score_siti_int_device end as score_siti_int_device, prediction_siti_int_device,  case when cluster_score is null then 0 else cluster_score end as score_siti_esterni, cluster as prediction_siti_esterni from cluster_siti_interni a full outer join cluster_siti_esterni_score b on a.skyid=b.skyid\").persist()"
   ]
  },
  {
   "cell_type": "code",
   "execution_count": 45,
   "metadata": {},
   "outputs": [
    {
     "data": {
      "text/plain": [
       "3796231"
      ]
     },
     "execution_count": 45,
     "metadata": {},
     "output_type": "execute_result"
    }
   ],
   "source": [
    "cluster_siti_interni_esterni_df.count()"
   ]
  },
  {
   "cell_type": "code",
   "execution_count": 47,
   "metadata": {
    "collapsed": true
   },
   "outputs": [],
   "source": [
    "cluster_siti_interni_esterni_df.createOrReplaceTempView(\"cluster_siti_interni_esterni\")"
   ]
  },
  {
   "cell_type": "code",
   "execution_count": 46,
   "metadata": {},
   "outputs": [
    {
     "name": "stdout",
     "output_type": "stream",
     "text": [
      "+------------------------------------------------+---------------------+--------------------------+---------------------+--------------------------+------------------+-----------------------+\n",
      "|skyid                                           |score_siti_int_visite|prediction_siti_int_visite|score_siti_int_device|prediction_siti_int_device|score_siti_esterni|prediction_siti_esterni|\n",
      "+------------------------------------------------+---------------------+--------------------------+---------------------+--------------------------+------------------+-----------------------+\n",
      "|000268bb9b4d06e6ac81329a96fcc744e05c79835496da4b|5                    |3                         |5                    |1                         |8                 |5                      |\n",
      "|0003fe6fa141cd593acb65361edd4832c6ca28d9a70e9aba|4                    |0                         |1                    |0                         |4                 |2                      |\n",
      "|0005a79a8451f3eac98207d3d3111926e4e5a15a13e7d093|5                    |3                         |4                    |4                         |8                 |5                      |\n",
      "|0006ecec67c1a61e374022c955e98b3ffa326783316cf9aa|5                    |3                         |5                    |1                         |10                |0                      |\n",
      "|000b0850c5deb106e8528933477f8de336ecc62ec46eb24c|5                    |4                         |5                    |1                         |6                 |3                      |\n",
      "|000d4e5158beb4f03872ed57b86565777a011f56e6550916|4                    |0                         |1                    |0                         |6                 |3                      |\n",
      "|00111532921d6830675cab7cc4d3b70dbee2b5a6e78fc08d|5                    |4                         |5                    |1                         |6                 |4                      |\n",
      "|0011f1505715ea0090fcdda1fa4ca380c8a3c9c00aeaaa93|1                    |1                         |1                    |0                         |4                 |2                      |\n",
      "|0017cac79130ecafd14ec4eac5322da63ef124d9e3d09209|0                    |null                      |0                    |null                      |2                 |1                      |\n",
      "|001c55fd054d139db9ef29b5eb9bda94c787b23aa62b8afd|1                    |1                         |1                    |0                         |2                 |1                      |\n",
      "+------------------------------------------------+---------------------+--------------------------+---------------------+--------------------------+------------------+-----------------------+\n",
      "only showing top 10 rows\n",
      "\n"
     ]
    }
   ],
   "source": [
    "cluster_siti_interni_esterni_df.show(10,False)"
   ]
  },
  {
   "cell_type": "code",
   "execution_count": 48,
   "metadata": {
    "collapsed": true
   },
   "outputs": [],
   "source": [
    "digitalizzazione_navigazione_df=spark.sql(\"select *, score_siti_int_device+score_siti_int_visite as score_siti_interni, (score_siti_esterni+score_siti_int_device+score_siti_int_visite)/2 as score_totale_navigazione from cluster_siti_interni_esterni\").persist()"
   ]
  },
  {
   "cell_type": "code",
   "execution_count": 50,
   "metadata": {},
   "outputs": [
    {
     "name": "stdout",
     "output_type": "stream",
     "text": [
      "+------------------------------------------------+---------------------+--------------------------+---------------------+--------------------------+------------------+-----------------------+------------------+------------------------+\n",
      "|skyid                                           |score_siti_int_visite|prediction_siti_int_visite|score_siti_int_device|prediction_siti_int_device|score_siti_esterni|prediction_siti_esterni|score_siti_interni|score_totale_navigazione|\n",
      "+------------------------------------------------+---------------------+--------------------------+---------------------+--------------------------+------------------+-----------------------+------------------+------------------------+\n",
      "|000268bb9b4d06e6ac81329a96fcc744e05c79835496da4b|5                    |3                         |5                    |1                         |8                 |5                      |10                |9.0                     |\n",
      "|0003fe6fa141cd593acb65361edd4832c6ca28d9a70e9aba|4                    |0                         |1                    |0                         |4                 |2                      |5                 |4.5                     |\n",
      "|0005a79a8451f3eac98207d3d3111926e4e5a15a13e7d093|5                    |3                         |4                    |4                         |8                 |5                      |9                 |8.5                     |\n",
      "|0006ecec67c1a61e374022c955e98b3ffa326783316cf9aa|5                    |3                         |5                    |1                         |10                |0                      |10                |10.0                    |\n",
      "|000b0850c5deb106e8528933477f8de336ecc62ec46eb24c|5                    |4                         |5                    |1                         |6                 |3                      |10                |8.0                     |\n",
      "|000d4e5158beb4f03872ed57b86565777a011f56e6550916|4                    |0                         |1                    |0                         |6                 |3                      |5                 |5.5                     |\n",
      "|00111532921d6830675cab7cc4d3b70dbee2b5a6e78fc08d|5                    |4                         |5                    |1                         |6                 |4                      |10                |8.0                     |\n",
      "|0011f1505715ea0090fcdda1fa4ca380c8a3c9c00aeaaa93|1                    |1                         |1                    |0                         |4                 |2                      |2                 |3.0                     |\n",
      "|0017cac79130ecafd14ec4eac5322da63ef124d9e3d09209|0                    |null                      |0                    |null                      |2                 |1                      |0                 |1.0                     |\n",
      "|001c55fd054d139db9ef29b5eb9bda94c787b23aa62b8afd|1                    |1                         |1                    |0                         |2                 |1                      |2                 |2.0                     |\n",
      "+------------------------------------------------+---------------------+--------------------------+---------------------+--------------------------+------------------+-----------------------+------------------+------------------------+\n",
      "only showing top 10 rows\n",
      "\n"
     ]
    }
   ],
   "source": [
    "digitalizzazione_navigazione_df.show(10,False)"
   ]
  },
  {
   "cell_type": "code",
   "execution_count": 70,
   "metadata": {},
   "outputs": [
    {
     "data": {
      "text/plain": [
       "3796231"
      ]
     },
     "execution_count": 70,
     "metadata": {},
     "output_type": "execute_result"
    }
   ],
   "source": [
    "digitalizzazione_navigazione_df.count()"
   ]
  },
  {
   "cell_type": "code",
   "execution_count": 71,
   "metadata": {},
   "outputs": [
    {
     "data": {
      "text/plain": [
       "3796231"
      ]
     },
     "execution_count": 71,
     "metadata": {},
     "output_type": "execute_result"
    }
   ],
   "source": [
    "digitalizzazione_navigazione_df.select('skyid').distinct().count()"
   ]
  },
  {
   "cell_type": "code",
   "execution_count": 51,
   "metadata": {
    "collapsed": true
   },
   "outputs": [],
   "source": [
    "digitalizzazione_navigazione_df.createOrReplaceTempView(\"digitalizzazione_navigazione\")"
   ]
  },
  {
   "cell_type": "code",
   "execution_count": 53,
   "metadata": {},
   "outputs": [
    {
     "name": "stdout",
     "output_type": "stream",
     "text": [
      "+------------------------+--------+\n",
      "|score_totale_navigazione|count(1)|\n",
      "+------------------------+--------+\n",
      "|8.0                     |104294  |\n",
      "|7.0                     |166487  |\n",
      "|3.5                     |126191  |\n",
      "|9.5                     |35235   |\n",
      "|4.5                     |175119  |\n",
      "|6.5                     |159850  |\n",
      "|2.5                     |54535   |\n",
      "|1.0                     |478777  |\n",
      "|7.5                     |166730  |\n",
      "|4.0                     |263684  |\n",
      "|8.5                     |128509  |\n",
      "|3.0                     |350003  |\n",
      "|2.0                     |438314  |\n",
      "|1.5                     |155     |\n",
      "|10.0                    |453198  |\n",
      "|6.0                     |221193  |\n",
      "|5.0                     |169947  |\n",
      "|9.0                     |134820  |\n",
      "|5.5                     |169190  |\n",
      "+------------------------+--------+\n",
      "\n"
     ]
    }
   ],
   "source": [
    "spark.sql(\"select score_totale_navigazione, count(*) from digitalizzazione_navigazione group by 1\").show(200,False)"
   ]
  },
  {
   "cell_type": "code",
   "execution_count": 56,
   "metadata": {},
   "outputs": [
    {
     "name": "stdout",
     "output_type": "stream",
     "text": [
      "+-------------+--------------------+-----------------+--------------------+---------------------+------------------------------------------------+--------------------+---------+---------------------+------------------------+----------------+------------------------------------------------+--------------------------+-----------+\n",
      "|COD_CONTRATTO|COD_CLIENTE_FRUITORE|COD_PROVINCIA_FRU|DES_AREA_NIELSEN_FRU|DES_NOME_REG_FRU     |DES_PACCHETTO_POSSEDUTO                         |DAT_PRIMA_ATTIV_CNTR|FLG_SKYGO|FLG_SKYGO_PLUS_ATTIVO|DES_TIPO_DEVICE_SKYGO   |NUM_DEVICE_SKYGO|COD_CLIENTE_CIFRATO                             |pack                      |piattaforma|\n",
      "+-------------+--------------------+-----------------+--------------------+---------------------+------------------------------------------------+--------------------+---------+---------------------+------------------------+----------------+------------------------------------------------+--------------------------+-----------+\n",
      "|10000003     |V6082160            |AV               |4 - SUD ISOLE       |CAMPANIA             |SKY TV + FAMIGLIA + CINEMA + HD                 |12NOV2007:00:00:00  |0        |0                    |null                    |0               |d9d34c48270bc6e3be0292bfc0b80c3b5346dc8b4bf53bc9|5.Base+Cinema             |DTH        |\n",
      "|10000005     |V6082162            |ME               |4 - SUD ISOLE       |SICILIA              |SKY TV + FAMIGLIA + CINEMA + SPORT + HD         |08NOV2007:00:00:00  |1        |1                    |Tablet + PC + Smartphone|3               |479f2922f486b3a165f64f5b63ac68f55d42a89aa23b93ea|8.Base+Cinema+Sport       |DTH        |\n",
      "|10000022     |V6082168            |TV               |2 - NORD EST        |VENETO               |SKY TV + CINEMA + SPORT + HD                    |07NOV2007:00:00:00  |1        |0                    |PC                      |1               |d9102f9d0ddf8c5302a24e068ab79aad357d9110b6a84011|8.Base+Cinema+Sport       |DTH        |\n",
      "|10000024     |V6082169            |TV               |2 - NORD EST        |VENETO               |SKY TV + FAMIGLIA + CINEMA + SPORT + HD         |08NOV2007:00:00:00  |1        |0                    |PC                      |1               |bd8ecc98b2dcee9f899d0fc0eeb81c0fd11364fa3d6c7b3f|8.Base+Cinema+Sport       |DTH        |\n",
      "|10000025     |V4730626            |TN               |2 - NORD EST        |TRENTINO ALTO ADIGE  |SKY TV + FAMIGLIA + HD                          |07NOV2007:00:00:00  |1        |0                    |Tablet + Smartphone     |2               |773050fdc93c9a000ad94b3c9414ab430c53acae51f9be45|1.Base                    |DTH        |\n",
      "|10000026     |V3590028            |AT               |1 - NORD OVEST      |PIEMONTE             |SKY TV + FAMIGLIA + CINEMA + SPORT + CALCIO + HD|08NOV2007:00:00:00  |1        |0                    |Smartphone              |1               |af322f00e2f3c5d728d5f1ca5b970496f50e4008e47e1df2|9.Base+Cinema+Sport+Calcio|DTH        |\n",
      "|10000043     |V6082172            |RE               |2 - NORD EST        |EMILIA ROMAGNA       |SKY TV + FAMIGLIA + CINEMA + HD                 |12NOV2007:00:00:00  |0        |0                    |null                    |0               |f39c993dd4d2c464b862bc9938e4a9b85ece8c3a962f5419|5.Base+Cinema             |DTH        |\n",
      "|10000047     |V6082176            |NA               |4 - SUD ISOLE       |CAMPANIA             |SKY TV + FAMIGLIA + CINEMA + SPORT + CALCIO + HD|07NOV2007:00:00:00  |1        |1                    |null                    |0               |d9e47072f42cd0db64b9f7fdaa722cb612be2f0f95a1fe26|9.Base+Cinema+Sport+Calcio|DTH        |\n",
      "|10000049     |V1142730            |SR               |4 - SUD ISOLE       |SICILIA              |SKY TV + SPORT + CALCIO                         |06NOV2007:00:00:00  |1        |0                    |Smartphone              |1               |f78771460aa776d5ef382f0c38f7b6e149d51b40b09915f7|6.Base+Sport+Calcio       |DTH        |\n",
      "|10000054     |V6082179            |PN               |2 - NORD EST        |FRIULI VENEZIA GIULIA|SKY TV + FAMIGLIA + HD                          |13NOV2007:00:00:00  |0        |0                    |null                    |0               |3a87df9158747f556d2ad6d831db13f7c5565356a5984cbb|1.Base                    |DTH        |\n",
      "+-------------+--------------------+-----------------+--------------------+---------------------+------------------------------------------------+--------------------+---------+---------------------+------------------------+----------------+------------------------------------------------+--------------------------+-----------+\n",
      "only showing top 10 rows\n",
      "\n"
     ]
    }
   ],
   "source": [
    "cb_201809_path='hdfs:///user/stefano.mazzucca/skygo/cb_oggi.csv'\n",
    "cb_201809_df= spark.read.csv(cb_201809_path, sep=',',header='TRUE')\n",
    "cb_201809_df.show(10,False)\n",
    "cb_201809_df.createOrReplaceTempView(\"cb_201809\")"
   ]
  },
  {
   "cell_type": "code",
   "execution_count": 72,
   "metadata": {
    "collapsed": true
   },
   "outputs": [],
   "source": [
    "cb_201809_skyid_df=cb_201809_df.select('cod_cliente_cifrato').distinct()"
   ]
  },
  {
   "cell_type": "code",
   "execution_count": 73,
   "metadata": {
    "collapsed": true
   },
   "outputs": [],
   "source": [
    "cb_201809_skyid_df.createOrReplaceTempView('cb_201809_skyid')"
   ]
  },
  {
   "cell_type": "code",
   "execution_count": 74,
   "metadata": {
    "collapsed": true
   },
   "outputs": [],
   "source": [
    "digitalizzazione_navigazione_score_df=spark.sql(\"select a.cod_cliente_cifrato as skyid, case when b.skyid is null then 0 else score_totale_navigazione end as score_totale_navigazione from cb_201809_skyid a left join digitalizzazione_navigazione b on a.cod_cliente_cifrato=b.skyid\").persist()"
   ]
  },
  {
   "cell_type": "code",
   "execution_count": 85,
   "metadata": {},
   "outputs": [
    {
     "data": {
      "text/plain": [
       "1271922"
      ]
     },
     "execution_count": 85,
     "metadata": {},
     "output_type": "execute_result"
    }
   ],
   "source": [
    "digitalizzazione_navigazione_score_df.where(\"score_totale_navigazione=0\").count()"
   ]
  },
  {
   "cell_type": "code",
   "execution_count": 75,
   "metadata": {
    "collapsed": true
   },
   "outputs": [],
   "source": [
    "import pyspark.sql.functions as F\n",
    "digitalizzazione_navigazione_score_final_df=digitalizzazione_navigazione_score_df.withColumn('livello_digitalizzazione', F.expr(\"IF(score_totale_navigazione = 0, 0, IF(score_totale_navigazione <=1, 1, IF(score_totale_navigazione <=2, 2, IF(score_totale_navigazione <=3, 3, IF(score_totale_navigazione <=4, 4, IF(score_totale_navigazione <=5, 5, IF(score_totale_navigazione <=6, 6, IF(score_totale_navigazione <=7, 7, IF(score_totale_navigazione <=8, 8, IF(score_totale_navigazione <=9, 9, IF(score_totale_navigazione <=10, 10, null)))))))))))\"))"
   ]
  },
  {
   "cell_type": "code",
   "execution_count": 76,
   "metadata": {},
   "outputs": [
    {
     "data": {
      "text/plain": [
       "4506444"
      ]
     },
     "execution_count": 76,
     "metadata": {},
     "output_type": "execute_result"
    }
   ],
   "source": [
    "digitalizzazione_navigazione_score_final_df.count()"
   ]
  },
  {
   "cell_type": "code",
   "execution_count": 77,
   "metadata": {},
   "outputs": [
    {
     "name": "stdout",
     "output_type": "stream",
     "text": [
      "+------------------------------------------------+------------------------+------------------------+\n",
      "|skyid                                           |score_totale_navigazione|livello_digitalizzazione|\n",
      "+------------------------------------------------+------------------------+------------------------+\n",
      "|000268bb9b4d06e6ac81329a96fcc744e05c79835496da4b|9.0                     |9                       |\n",
      "|0003fe6fa141cd593acb65361edd4832c6ca28d9a70e9aba|4.5                     |5                       |\n",
      "|0005a79a8451f3eac98207d3d3111926e4e5a15a13e7d093|8.5                     |9                       |\n",
      "|000b0850c5deb106e8528933477f8de336ecc62ec46eb24c|8.0                     |8                       |\n",
      "|00111532921d6830675cab7cc4d3b70dbee2b5a6e78fc08d|8.0                     |8                       |\n",
      "|0011f1505715ea0090fcdda1fa4ca380c8a3c9c00aeaaa93|3.0                     |3                       |\n",
      "|001579af9e613f62ae391c70645e024562b39434ddc19215|0.0                     |0                       |\n",
      "|0017cac79130ecafd14ec4eac5322da63ef124d9e3d09209|1.0                     |1                       |\n",
      "|001c55fd054d139db9ef29b5eb9bda94c787b23aa62b8afd|2.0                     |2                       |\n",
      "|001f9a2827d51dc6ed6d739f1db9c42ace4915262a81018e|4.0                     |4                       |\n",
      "+------------------------------------------------+------------------------+------------------------+\n",
      "only showing top 10 rows\n",
      "\n"
     ]
    }
   ],
   "source": [
    "digitalizzazione_navigazione_score_final_df.show(10,False)"
   ]
  },
  {
   "cell_type": "code",
   "execution_count": 78,
   "metadata": {},
   "outputs": [
    {
     "data": {
      "text/plain": [
       "4506444"
      ]
     },
     "execution_count": 78,
     "metadata": {},
     "output_type": "execute_result"
    }
   ],
   "source": [
    "digitalizzazione_navigazione_score_final_df.select('skyid').distinct().count()"
   ]
  },
  {
   "cell_type": "code",
   "execution_count": 82,
   "metadata": {},
   "outputs": [
    {
     "name": "stdout",
     "output_type": "stream",
     "text": [
      "+------------------------+-------+\n",
      "|livello_digitalizzazione|count  |\n",
      "+------------------------+-------+\n",
      "|1                       |276419 |\n",
      "|6                       |358963 |\n",
      "|3                       |326641 |\n",
      "|5                       |309597 |\n",
      "|9                       |250478 |\n",
      "|4                       |338753 |\n",
      "|8                       |256619 |\n",
      "|7                       |307044 |\n",
      "|10                      |466004 |\n",
      "|2                       |344004 |\n",
      "|0                       |1271922|\n",
      "+------------------------+-------+\n",
      "\n"
     ]
    }
   ],
   "source": [
    "digitalizzazione_navigazione_score_final_df.groupBy('livello_digitalizzazione').count().show(100,False)"
   ]
  },
  {
   "cell_type": "code",
   "execution_count": 83,
   "metadata": {
    "collapsed": true
   },
   "outputs": [],
   "source": [
    "digitalizzazione_navigazione_score_final_df.write.parquet(\"digitalizzazione_parziale_navigazione_201810\",mode=\"overwrite\")"
   ]
  },
  {
   "cell_type": "code",
   "execution_count": 86,
   "metadata": {},
   "outputs": [
    {
     "name": "stdout",
     "output_type": "stream",
     "text": [
      "+------------------------------------------------+---------------------+-------------------+------------------+-------------------+-------------------+---------------------+-------------+---------------------+------------------------------------------------+------------------------------------------------+\n",
      "|COD_CLIENTE_CIFRATO                             |DAT_PRIMA_ATTIVAZIONE|DAT_CESSAZIONE_CNTR|DAT_ATVZ_UPSELLING|DES_CANALE_CONTATTO|DES_PREMIUM_PACK_UP|DES_PREMIUM_PACK_DOWN|DES_GENERI_UP|DES_GENERI_DOWN      |PACK_REAL_OLD                                   |PACK_REAL_NEW                                   |\n",
      "+------------------------------------------------+---------------------+-------------------+------------------+-------------------+-------------------+---------------------+-------------+---------------------+------------------------------------------------+------------------------------------------------+\n",
      "|7466559d0cd7238eea8888ede277ca2a32b978a3f5b091c2|02/01/2014           |31/07/2018         |01/08/2018        |Undefined          |Undefined          |HD                   |Undefined    |SKY_TV               |SKY TV + HD                                     |Residual                                        |\n",
      "|2e989e92865a30029092ec5bb210c953b9057f3cbeaa813f|16/01/2010           |31/12/9999         |03/08/2018        |Undefined          |Undefined          |CALCIO               |Undefined    |SKY_FAMIGLIA         |SKY TV + FAMIGLIA + CALCIO + HD                 |SKY TV + HD                                     |\n",
      "|3959be31c8090a3a726e5714b19e72af6c90dedf0f50de3b|30/01/2004           |31/12/9999         |17/08/2018        |TELEFONO           |CALCIO             |Undefined            |Undefined    |Undefined            |SKY TV + FAMIGLIA + SPORT                       |SKY TV + FAMIGLIA + SPORT + CALCIO              |\n",
      "|5bd54db6556b3d957c63268bad9309d9f617ef1ac4c30c87|08/12/2016           |31/12/9999         |19/08/2018        |WEB                |SPORT              |Undefined            |Undefined    |Undefined            |SKY TV + CALCIO + HD                            |SKY TV + SPORT + CALCIO + HD                    |\n",
      "|875f98d225356c52a65adb12173e9f1e18ed6947d53373b6|15/12/2000           |31/12/9999         |02/08/2018        |WEB                |CALCIO             |Undefined            |Undefined    |Undefined            |SKY TV + FAMIGLIA + CINEMA + SPORT + HD         |SKY TV + FAMIGLIA + CINEMA + SPORT + CALCIO + HD|\n",
      "|a2dd4d53ab7a3d22ce70203e937611e6ad76db8963088bab|22/06/2016           |31/12/9999         |02/09/2018        |MOBILE             |CALCIO             |Undefined            |Undefined    |Undefined            |SKY TV + FAMIGLIA + SPORT + HD                  |SKY TV + FAMIGLIA + SPORT + CALCIO + HD         |\n",
      "|b7a44d16db965dfe59a0c59d61ba211b259c99f30b17d98d|13/12/2017           |31/12/9999         |01/08/2018        |TELEFONO           |Undefined          |CALCIO               |Undefined    |Undefined            |SKY TV + FAMIGLIA + CINEMA + SPORT + CALCIO + HD|SKY TV + FAMIGLIA + CINEMA + SPORT + HD         |\n",
      "|262ea8cfdb6113c7d4b39df8b4d67e5d4859f3365cfb60cb|04/05/2016           |30/06/2018         |07/07/2018        |Undefined          |Undefined          |CINEMA + SPORT + HD  |Undefined    |SKY_TV + SKY_FAMIGLIA|SKY TV + FAMIGLIA + CINEMA + SPORT + HD         |Residual                                        |\n",
      "|d78f6585b5e68d37b972c0403d426e28a2f280daea6c26a2|17/11/2006           |30/06/2018         |01/07/2018        |Undefined          |Undefined          |HD                   |Undefined    |SKY_TV               |SKY TV + HD                                     |Residual                                        |\n",
      "|f4ce8233da993c5ce17d04e168fc00bf90eef56de1bd36ee|13/12/2009           |31/12/9999         |12/09/2018        |TELEFONO           |CINEMA             |CALCIO               |Undefined    |Undefined            |SKY TV + FAMIGLIA + CALCIO + HD                 |SKY TV + FAMIGLIA + CINEMA + HD                 |\n",
      "+------------------------------------------------+---------------------+-------------------+------------------+-------------------+-------------------+---------------------+-------------+---------------------+------------------------------------------------+------------------------------------------------+\n",
      "only showing top 10 rows\n",
      "\n"
     ]
    }
   ],
   "source": [
    "ups_df= spark.read.csv('hdfs:///user/stefano.mazzucca/up_post_disservizio_crm/20180917_UPSELLING.csv', sep=';',header='TRUE')\n",
    "ups_df.show(10,False)"
   ]
  },
  {
   "cell_type": "code",
   "execution_count": 87,
   "metadata": {
    "collapsed": true
   },
   "outputs": [],
   "source": [
    "ups_df.createOrReplaceTempView(\"ups_df\")"
   ]
  },
  {
   "cell_type": "code",
   "execution_count": null,
   "metadata": {
    "collapsed": true
   },
   "outputs": [],
   "source": [
    "SPARK.SQL"
   ]
  },
  {
   "cell_type": "code",
   "execution_count": 91,
   "metadata": {},
   "outputs": [
    {
     "name": "stdout",
     "output_type": "stream",
     "text": [
      "+--------+\n",
      "|count(1)|\n",
      "+--------+\n",
      "|114160  |\n",
      "+--------+\n",
      "\n"
     ]
    }
   ],
   "source": [
    "spark.sql(\"select count(*) from ups_df where DES_CANALE_CONTATTO in('WEB','WEBMAIL', 'CHAT','MOBILE', 'EMAIL') and DES_PREMIUM_PACK_UP!='Undefined'\").show(10,False)"
   ]
  }
 ],
 "metadata": {
  "kernelspec": {
   "display_name": "Python 3",
   "language": "python",
   "name": "python3"
  },
  "language_info": {
   "codemirror_mode": {
    "name": "ipython",
    "version": 3
   },
   "file_extension": ".py",
   "mimetype": "text/x-python",
   "name": "python",
   "nbconvert_exporter": "python",
   "pygments_lexer": "ipython3",
   "version": "3.5.3"
  }
 },
 "nbformat": 4,
 "nbformat_minor": 2
}
