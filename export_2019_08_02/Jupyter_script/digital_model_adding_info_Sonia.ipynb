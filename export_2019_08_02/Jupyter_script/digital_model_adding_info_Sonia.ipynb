{
 "cells": [
  {
   "cell_type": "code",
   "execution_count": 11,
   "metadata": {},
   "outputs": [
    {
     "ename": "ValueError",
     "evalue": "Cannot run multiple SparkContexts at once; existing SparkContext(app=sonia.pasquini.Jupyter, master=mesos://leader.mesos:5050) created by __init__ at <ipython-input-2-d7834dccfba5>:44 ",
     "output_type": "error",
     "traceback": [
      "\u001b[0;31m---------------------------------------------------------------------------\u001b[0m",
      "\u001b[0;31mValueError\u001b[0m                                Traceback (most recent call last)",
      "\u001b[0;32m<ipython-input-11-d7834dccfba5>\u001b[0m in \u001b[0;36m<module>\u001b[0;34m()\u001b[0m\n\u001b[1;32m     42\u001b[0m \u001b[0;34m\u001b[0m\u001b[0m\n\u001b[1;32m     43\u001b[0m \u001b[0;31m# inizializzare lo spark context\u001b[0m\u001b[0;34m\u001b[0m\u001b[0;34m\u001b[0m\u001b[0m\n\u001b[0;32m---> 44\u001b[0;31m \u001b[0msc\u001b[0m \u001b[0;34m=\u001b[0m \u001b[0mSparkContext\u001b[0m\u001b[0;34m(\u001b[0m\u001b[0mconf\u001b[0m \u001b[0;34m=\u001b[0m \u001b[0mconfig\u001b[0m\u001b[0;34m)\u001b[0m\u001b[0;34m\u001b[0m\u001b[0m\n\u001b[0m\u001b[1;32m     45\u001b[0m \u001b[0;34m\u001b[0m\u001b[0m\n\u001b[1;32m     46\u001b[0m \u001b[0;31m# inizializzare\u001b[0m\u001b[0;34m\u001b[0m\u001b[0;34m\u001b[0m\u001b[0m\n",
      "\u001b[0;32m/usr/local/spark/python/pyspark/context.py\u001b[0m in \u001b[0;36m__init__\u001b[0;34m(self, master, appName, sparkHome, pyFiles, environment, batchSize, serializer, conf, gateway, jsc, profiler_cls)\u001b[0m\n\u001b[1;32m    113\u001b[0m         \"\"\"\n\u001b[1;32m    114\u001b[0m         \u001b[0mself\u001b[0m\u001b[0;34m.\u001b[0m\u001b[0m_callsite\u001b[0m \u001b[0;34m=\u001b[0m \u001b[0mfirst_spark_call\u001b[0m\u001b[0;34m(\u001b[0m\u001b[0;34m)\u001b[0m \u001b[0;32mor\u001b[0m \u001b[0mCallSite\u001b[0m\u001b[0;34m(\u001b[0m\u001b[0;32mNone\u001b[0m\u001b[0;34m,\u001b[0m \u001b[0;32mNone\u001b[0m\u001b[0;34m,\u001b[0m \u001b[0;32mNone\u001b[0m\u001b[0;34m)\u001b[0m\u001b[0;34m\u001b[0m\u001b[0m\n\u001b[0;32m--> 115\u001b[0;31m         \u001b[0mSparkContext\u001b[0m\u001b[0;34m.\u001b[0m\u001b[0m_ensure_initialized\u001b[0m\u001b[0;34m(\u001b[0m\u001b[0mself\u001b[0m\u001b[0;34m,\u001b[0m \u001b[0mgateway\u001b[0m\u001b[0;34m=\u001b[0m\u001b[0mgateway\u001b[0m\u001b[0;34m,\u001b[0m \u001b[0mconf\u001b[0m\u001b[0;34m=\u001b[0m\u001b[0mconf\u001b[0m\u001b[0;34m)\u001b[0m\u001b[0;34m\u001b[0m\u001b[0m\n\u001b[0m\u001b[1;32m    116\u001b[0m         \u001b[0;32mtry\u001b[0m\u001b[0;34m:\u001b[0m\u001b[0;34m\u001b[0m\u001b[0m\n\u001b[1;32m    117\u001b[0m             self._do_init(master, appName, sparkHome, pyFiles, environment, batchSize, serializer,\n",
      "\u001b[0;32m/usr/local/spark/python/pyspark/context.py\u001b[0m in \u001b[0;36m_ensure_initialized\u001b[0;34m(cls, instance, gateway, conf)\u001b[0m\n\u001b[1;32m    270\u001b[0m                         \u001b[0;34m\" created by %s at %s:%s \"\u001b[0m\u001b[0;34m\u001b[0m\u001b[0m\n\u001b[1;32m    271\u001b[0m                         % (currentAppName, currentMaster,\n\u001b[0;32m--> 272\u001b[0;31m                             callsite.function, callsite.file, callsite.linenum))\n\u001b[0m\u001b[1;32m    273\u001b[0m                 \u001b[0;32melse\u001b[0m\u001b[0;34m:\u001b[0m\u001b[0;34m\u001b[0m\u001b[0m\n\u001b[1;32m    274\u001b[0m                     \u001b[0mSparkContext\u001b[0m\u001b[0;34m.\u001b[0m\u001b[0m_active_spark_context\u001b[0m \u001b[0;34m=\u001b[0m \u001b[0minstance\u001b[0m\u001b[0;34m\u001b[0m\u001b[0m\n",
      "\u001b[0;31mValueError\u001b[0m: Cannot run multiple SparkContexts at once; existing SparkContext(app=sonia.pasquini.Jupyter, master=mesos://leader.mesos:5050) created by __init__ at <ipython-input-2-d7834dccfba5>:44 "
     ]
    }
   ],
   "source": [
    "import os\n",
    "import sys\n",
    "import datetime\n",
    "import pyspark\n",
    "from pyspark import SparkContext, SparkConf\n",
    "from pyspark.sql import SparkSession, Window, WindowSpec\n",
    "from pyspark.sql.functions import *\n",
    "import pyspark.sql.functions as func\n",
    "\n",
    "spark_framework_user = \"sonia.pasquini\"\n",
    "\n",
    "\n",
    "os.environ[\"SPARK_HOME\"] = \"/usr/local/spark-2.1.0-bin-hadoop2.7/\"\n",
    "os.environ[\"SPARK_HOME_VERSION\"] = \"2.1.0\"\n",
    "os.environ[\"HADOOP_CONF_DIR\"] = \"/opt/hadoop/\"\n",
    "os.environ[\"SPARK_USER\"] = spark_framework_user\n",
    "#os.environ[\"PACKAGES\"] = \"com.databricks:spark-cassandra-connector_2.11-2.0.2.jar\"\n",
    "#os.environ[\"PACKAGES\"] = \"com.databricks:spark-csv_2.10:1.5.0\"\n",
    "#os.environ[\"PACKAGES\"] = \"com.databricks:spark-avro_2.11:3.2.0\"\n",
    "#os.environ[\"PYSPARK_SUBMIT_ARGS\"] = \"--packages \" + os.environ[\"PACKAGES\"] + \" pyspark-shell\"\n",
    "\n",
    "## impostare le configurazioni\n",
    "config = SparkConf()\\\n",
    "        .setAppName(spark_framework_user+\".Jupyter\")\\\n",
    "        .setMaster(\"mesos://leader.mesos:5050\")\n",
    "  \n",
    " \n",
    "config.set(\"spark.mesos.executor.docker.image\", \"artifacts.slu.bskyb.com:5003/mesosphere/spark:1.0.9-2.1.0-1-hadoop-2.7\")\n",
    "config.set(\"spark.mesos.executor.home\", \"/opt/spark/dist\")\n",
    "config.set(\"spark.executor.cores\", \"2\")\n",
    "config.set(\"spark.executor.memory\", \"15G\")\n",
    "config.set(\"spark.executor.heartbeat\", \"60s\")\n",
    "config.set(\"spark.cores.max\", \"10\")\n",
    "config.set(\"spark.driver.maxResultSize\", \"40G\")\n",
    "config.set(\"spark.driver.memory\", \"6G\")\n",
    "config.set(\"spark.driver.cores\", \"2\")\n",
    "#config.set(\"spark.cassandra.connection.host\", \"node-0-server.cassandra.mesos\")\n",
    "#config.set(\"spark.cassandra.connection.port\", \"9042\")\n",
    "#config.set(\"spark.cassandra.input.consistency.level\",\"TWO\")\n",
    "\n",
    "config.set(\"spark.mesos.driver.failoverTimeout\",\"5.0\")\n",
    "config.set(\"spark.ui.port\", \"22000\")\n",
    "# spark.ui.port = 22001\n",
    "\n",
    "# inizializzare lo spark context\n",
    "sc = SparkContext(conf = config)\n",
    "\n",
    "# inizializzare \n",
    "spark = SparkSession(sc)"
   ]
  },
  {
   "cell_type": "code",
   "execution_count": 53,
   "metadata": {
    "collapsed": true
   },
   "outputs": [],
   "source": [
    "path = \"/user/stefano.mazzucca/new_kpi_digital/score_finale_ext_id.parquet\"\n",
    "\n",
    "id_digital = spark.read.parquet(path)"
   ]
  },
  {
   "cell_type": "code",
   "execution_count": 79,
   "metadata": {},
   "outputs": [
    {
     "data": {
      "text/plain": [
       "2692058"
      ]
     },
     "execution_count": 79,
     "metadata": {},
     "output_type": "execute_result"
    }
   ],
   "source": [
    "id_digital.count()"
   ]
  },
  {
   "cell_type": "code",
   "execution_count": 80,
   "metadata": {},
   "outputs": [
    {
     "data": {
      "text/plain": [
       "2622817"
      ]
     },
     "execution_count": 80,
     "metadata": {},
     "output_type": "execute_result"
    }
   ],
   "source": [
    "id_digital.distinct().count()"
   ]
  },
  {
   "cell_type": "code",
   "execution_count": 54,
   "metadata": {},
   "outputs": [
    {
     "name": "stdout",
     "output_type": "stream",
     "text": [
      "root\n",
      " |-- external_id: string (nullable = true)\n",
      " |-- decile_kpi_digital: double (nullable = true)\n",
      "\n"
     ]
    }
   ],
   "source": [
    "id_digital.printSchema()"
   ]
  },
  {
   "cell_type": "code",
   "execution_count": 55,
   "metadata": {
    "collapsed": true
   },
   "outputs": [],
   "source": [
    "comp_contatto = spark.read.csv(\"/user/sonia.pasquini/WORK_COMP_CONTATTO_FILTER1.csv\", header=True, sep= \";\")"
   ]
  },
  {
   "cell_type": "code",
   "execution_count": 56,
   "metadata": {},
   "outputs": [
    {
     "name": "stdout",
     "output_type": "stream",
     "text": [
      "root\n",
      " |-- DAT_INI_VAL: string (nullable = true)\n",
      " |-- COD_CLIENTE_FRUITORE: string (nullable = true)\n",
      " |-- COD_CONTRATTO: string (nullable = true)\n",
      " |-- COD_CLIENTE_CIFRATO: string (nullable = true)\n",
      " |-- FASCIA_AGEING: string (nullable = true)\n",
      " |-- des_decoder_principale: string (nullable = true)\n",
      " |-- DES_STATO_BUSINESS: string (nullable = true)\n",
      " |-- num_gestite_om_360d: string (nullable = true)\n",
      " |-- num_accessi_APP: string (nullable = true)\n",
      " |-- num_accessi_WEB: string (nullable = true)\n",
      " |-- num_contatti_BO: string (nullable = true)\n",
      " |-- num_contatti_CHAT: string (nullable = true)\n",
      " |-- num_contatti_IVR: string (nullable = true)\n",
      " |-- comp_contatto: string (nullable = true)\n",
      " |-- COD_SESSO_CLIENTE_FRU: string (nullable = true)\n",
      " |-- FLG_SKYGO: string (nullable = true)\n",
      " |-- DES_AREA_NIELSEN_FRU: string (nullable = true)\n",
      " |-- DES_FORMATO_FATTURA: string (nullable = true)\n",
      " |-- DAT_NASCITA_CLIENTE_FRU: string (nullable = true)\n",
      " |-- DES_AMBIENTE_SERVIZIO: string (nullable = true)\n",
      " |-- data_iscrizione_skyextra: string (nullable = true)\n",
      " |-- FLG_ISCRIZIONE: string (nullable = true)\n",
      " |-- FLG_DISISCRIZIONE: string (nullable = true)\n",
      " |-- DAT_REGISTRAZIONE_WEB: string (nullable = true)\n",
      " |-- des_tech: string (nullable = true)\n",
      " |-- FASCIA_SDM_PDISC_M1: string (nullable = true)\n",
      " |-- FASCIA_SDM_PDISC_M3: string (nullable = true)\n",
      " |-- FASCIA_SDM_PDISC_M6: string (nullable = true)\n",
      " |-- FLG_CINEMA_PACVIS: string (nullable = true)\n",
      " |-- FLG_CALCIO_PACVIS: string (nullable = true)\n",
      " |-- FLG_HD_PACVIS: string (nullable = true)\n",
      " |-- FLG_SKYTV_PACVIS: string (nullable = true)\n",
      " |-- FLG_SKYFAMIGLIA_PACVIS: string (nullable = true)\n",
      " |-- FLG_SPORT_PACVIS: string (nullable = true)\n",
      " |-- FLG_CONTRATTO_BUNDLE: string (nullable = true)\n",
      " |-- flg_Q_one: string (nullable = true)\n",
      " |-- flg_Q_platinum: string (nullable = true)\n",
      "\n"
     ]
    }
   ],
   "source": [
    "comp_contatto.printSchema()"
   ]
  },
  {
   "cell_type": "code",
   "execution_count": 57,
   "metadata": {},
   "outputs": [
    {
     "data": {
      "text/plain": [
       "4606458"
      ]
     },
     "execution_count": 57,
     "metadata": {},
     "output_type": "execute_result"
    }
   ],
   "source": [
    "#quanti contratti ho al 01feb2019 (contratto_sto di gennaio19)\n",
    "comp_contatto.select(\"COD_CONTRATTO\", \"COD_CLIENTE_FRUITORE\", \"COD_CLIENTE_CIFRATO\").distinct().count()"
   ]
  },
  {
   "cell_type": "code",
   "execution_count": 58,
   "metadata": {},
   "outputs": [
    {
     "data": {
      "text/plain": [
       "4469087"
      ]
     },
     "execution_count": 58,
     "metadata": {},
     "output_type": "execute_result"
    }
   ],
   "source": [
    "#quanti clienti ho al 01feb2019 (contratto_sto di gennaio19)\n",
    "comp_contatto.select(\"COD_CLIENTE_CIFRATO\").distinct().count()"
   ]
  },
  {
   "cell_type": "code",
   "execution_count": 59,
   "metadata": {},
   "outputs": [],
   "source": [
    "#faccio una distinct sulla lista di stefano\n",
    "id_digital_distinct = id_digital.distinct()"
   ]
  },
  {
   "cell_type": "code",
   "execution_count": 60,
   "metadata": {
    "collapsed": true
   },
   "outputs": [],
   "source": [
    "# join con le info di contratto\n",
    "digital_contatto = id_digital_distinct.join(comp_contatto, id_digital_distinct[\"external_id\"] == comp_contatto[\"COD_CLIENTE_CIFRATO\"], \"left\")"
   ]
  },
  {
   "cell_type": "code",
   "execution_count": 67,
   "metadata": {},
   "outputs": [
    {
     "data": {
      "text/plain": [
       "2716489"
      ]
     },
     "execution_count": 67,
     "metadata": {},
     "output_type": "execute_result"
    }
   ],
   "source": [
    "# conto quanti external id sono riuscita a matchare con i contratti\n",
    "digital_contatto.filter(\"COD_CONTRATTO is not null \").count()"
   ]
  },
  {
   "cell_type": "code",
   "execution_count": 66,
   "metadata": {},
   "outputs": [
    {
     "data": {
      "text/plain": [
       "5787"
      ]
     },
     "execution_count": 66,
     "metadata": {},
     "output_type": "execute_result"
    }
   ],
   "source": [
    "# conto quanti external ID  NON sono riuscita a matchare con i contratti\n",
    "digital_contatto.filter(\"COD_CONTRATTO is null \").count()"
   ]
  },
  {
   "cell_type": "code",
   "execution_count": 69,
   "metadata": {
    "collapsed": true
   },
   "outputs": [],
   "source": [
    "##  numero di contratti per external_id\n",
    "count = digital_contatto.filter(\"COD_CONTRATTO is not null \").groupBy(\"external_id\").agg({\"COD_CONTRATTO\": \"count\"})"
   ]
  },
  {
   "cell_type": "code",
   "execution_count": 76,
   "metadata": {},
   "outputs": [
    {
     "name": "stdout",
     "output_type": "stream",
     "text": [
      "+--------------------+---------------------------+\n",
      "|count(COD_CONTRATTO)|count(count(COD_CONTRATTO))|\n",
      "+--------------------+---------------------------+\n",
      "|                   1|                    2523037|\n",
      "|                   2|                      90803|\n",
      "|                   3|                       2581|\n",
      "|                   4|                        365|\n",
      "|                   5|                        118|\n",
      "|                   6|                         34|\n",
      "|                   8|                         19|\n",
      "|                   7|                         19|\n",
      "|                   9|                          8|\n",
      "|                  12|                          6|\n",
      "|                  11|                          6|\n",
      "|                  15|                          5|\n",
      "|                  13|                          5|\n",
      "|                  16|                          3|\n",
      "|                  10|                          2|\n",
      "|                  19|                          2|\n",
      "|                  18|                          2|\n",
      "|                  20|                          2|\n",
      "|                  14|                          2|\n",
      "|                  17|                          1|\n",
      "|                  25|                          1|\n",
      "|                 181|                          1|\n",
      "|                  27|                          1|\n",
      "|                  67|                          1|\n",
      "|                  26|                          1|\n",
      "|                  29|                          1|\n",
      "|                  94|                          1|\n",
      "|                  35|                          1|\n",
      "|                 482|                          1|\n",
      "|                  21|                          1|\n",
      "+--------------------+---------------------------+\n",
      "\n"
     ]
    }
   ],
   "source": [
    "# distribuzione del n° di contratti a cliente \n",
    "\n",
    "count.groupBy(\"count(COD_CONTRATTO)\").agg({\"count(COD_CONTRATTO)\": \"count\"}).orderBy(desc(\"count(count(COD_CONTRATTO))\")).show(45)"
   ]
  },
  {
   "cell_type": "code",
   "execution_count": null,
   "metadata": {
    "collapsed": true
   },
   "outputs": [],
   "source": []
  }
 ],
 "metadata": {
  "kernelspec": {
   "display_name": "Python 3",
   "language": "python",
   "name": "python3"
  },
  "language_info": {
   "codemirror_mode": {
    "name": "ipython",
    "version": 3
   },
   "file_extension": ".py",
   "mimetype": "text/x-python",
   "name": "python",
   "nbconvert_exporter": "python",
   "pygments_lexer": "ipython3",
   "version": "3.5.3"
  }
 },
 "nbformat": 4,
 "nbformat_minor": 2
}
