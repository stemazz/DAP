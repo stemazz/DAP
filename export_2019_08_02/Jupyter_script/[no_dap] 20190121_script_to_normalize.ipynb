{
 "cells": [
  {
   "cell_type": "code",
   "execution_count": 9,
   "metadata": {
    "collapsed": true
   },
   "outputs": [],
   "source": [
    "#get current working directory\n",
    "import os\n",
    "cwd = os.getcwd()\n",
    "cwd\n",
    "os.chdir('C:\\\\Users\\\\mazzucas\\\\Documents\\\\DM\\\\PDISC\\\\CERBERUS project\\\\estrazioni cdm_sdm')"
   ]
  },
  {
   "cell_type": "code",
   "execution_count": 14,
   "metadata": {},
   "outputs": [
    {
     "name": "stdout",
     "output_type": "stream",
     "text": [
      "                                COD_CLIENTE_CIFRATO DAT_PRIMA_ATTIV_CNTR_dt  \\\n",
      "0  002d0c39500428416bac9e40c9ab8f435d344625c5af421e              2006-12-18   \n",
      "1  0210f05c16433eb27a8fa467787f9db048c0701d87b2a8ba              2004-03-03   \n",
      "2  03421b1ff7e6d6e6ede5313036dbbe72f5abf65676920269              2009-11-02   \n",
      "3  0e90bc139a523fda39f9f97ecad1780dc9e181cfaa476fac              2000-10-28   \n",
      "4  0f4567e9cc6ad91ced8c6dc85909da705f493563c9b3bff7              2004-01-26   \n",
      "\n",
      "   decile_cdm  score_cdm  fascia_1_sdm  score_1_sdm  fascia_4_sdm  \\\n",
      "0        10.0   0.036275             8     0.003199             9   \n",
      "1         NaN        NaN             9     0.001797             5   \n",
      "2         NaN        NaN             2     0.017093             2   \n",
      "3         5.0   0.098166            10     0.001546            10   \n",
      "4         4.0   0.116511             2     0.016134             9   \n",
      "\n",
      "   score_4_sdm pdisc1 pdisc2  \n",
      "0     0.009437    NaN    NaN  \n",
      "1     0.024827    NaN    NaN  \n",
      "2     0.111636    NaN    NaN  \n",
      "3     0.006267    NaN    NaN  \n",
      "4     0.009955    NaN    NaN  \n"
     ]
    }
   ],
   "source": [
    "#Import dataset\n",
    "import pandas\n",
    "df = pandas.read_csv('ver_csv_171201.csv',sep=';')\n",
    "print(df.head(5))"
   ]
  },
  {
   "cell_type": "code",
   "execution_count": 8,
   "metadata": {
    "collapsed": true
   },
   "outputs": [],
   "source": [
    "#create a new column of prediction normalized:\n",
    "col_to_norm = ['prediction']\n",
    "df['prediction_normalized'] = df[col_to_norm].apply(lambda x: (x - x.min()) / (x.max() - x.min()))\n",
    "print(df.head(5))"
   ]
  },
  {
   "cell_type": "code",
   "execution_count": 26,
   "metadata": {},
   "outputs": [
    {
     "data": {
      "text/html": [
       "<div>\n",
       "<style scoped>\n",
       "    .dataframe tbody tr th:only-of-type {\n",
       "        vertical-align: middle;\n",
       "    }\n",
       "\n",
       "    .dataframe tbody tr th {\n",
       "        vertical-align: top;\n",
       "    }\n",
       "\n",
       "    .dataframe thead th {\n",
       "        text-align: right;\n",
       "    }\n",
       "</style>\n",
       "<table border=\"1\" class=\"dataframe\">\n",
       "  <thead>\n",
       "    <tr style=\"text-align: right;\">\n",
       "      <th></th>\n",
       "      <th>prediction</th>\n",
       "      <th>decile</th>\n",
       "      <th>prediction_normalized</th>\n",
       "      <th>division</th>\n",
       "    </tr>\n",
       "  </thead>\n",
       "  <tbody>\n",
       "    <tr>\n",
       "      <th>count</th>\n",
       "      <td>1.521526e+06</td>\n",
       "      <td>1.521526e+06</td>\n",
       "      <td>1.521526e+06</td>\n",
       "      <td>1.521526e+06</td>\n",
       "    </tr>\n",
       "    <tr>\n",
       "      <th>mean</th>\n",
       "      <td>1.417941e-01</td>\n",
       "      <td>5.499992e+00</td>\n",
       "      <td>1.377147e-01</td>\n",
       "      <td>7.530032e-02</td>\n",
       "    </tr>\n",
       "    <tr>\n",
       "      <th>std</th>\n",
       "      <td>1.476925e-01</td>\n",
       "      <td>2.872281e+00</td>\n",
       "      <td>1.434672e-01</td>\n",
       "      <td>1.528232e-01</td>\n",
       "    </tr>\n",
       "    <tr>\n",
       "      <th>min</th>\n",
       "      <td>2.356106e-05</td>\n",
       "      <td>1.000000e+00</td>\n",
       "      <td>0.000000e+00</td>\n",
       "      <td>0.000000e+00</td>\n",
       "    </tr>\n",
       "    <tr>\n",
       "      <th>25%</th>\n",
       "      <td>4.528123e-02</td>\n",
       "      <td>3.000000e+00</td>\n",
       "      <td>4.396291e-02</td>\n",
       "      <td>5.495364e-03</td>\n",
       "    </tr>\n",
       "    <tr>\n",
       "      <th>50%</th>\n",
       "      <td>9.044719e-02</td>\n",
       "      <td>5.000000e+00</td>\n",
       "      <td>8.783674e-02</td>\n",
       "      <td>1.756735e-02</td>\n",
       "    </tr>\n",
       "    <tr>\n",
       "      <th>75%</th>\n",
       "      <td>1.411832e-01</td>\n",
       "      <td>8.000000e+00</td>\n",
       "      <td>1.371213e-01</td>\n",
       "      <td>4.570709e-02</td>\n",
       "    </tr>\n",
       "    <tr>\n",
       "      <th>max</th>\n",
       "      <td>1.029475e+00</td>\n",
       "      <td>1.000000e+01</td>\n",
       "      <td>1.000000e+00</td>\n",
       "      <td>1.000000e+00</td>\n",
       "    </tr>\n",
       "  </tbody>\n",
       "</table>\n",
       "</div>"
      ],
      "text/plain": [
       "         prediction        decile  prediction_normalized      division\n",
       "count  1.521526e+06  1.521526e+06           1.521526e+06  1.521526e+06\n",
       "mean   1.417941e-01  5.499992e+00           1.377147e-01  7.530032e-02\n",
       "std    1.476925e-01  2.872281e+00           1.434672e-01  1.528232e-01\n",
       "min    2.356106e-05  1.000000e+00           0.000000e+00  0.000000e+00\n",
       "25%    4.528123e-02  3.000000e+00           4.396291e-02  5.495364e-03\n",
       "50%    9.044719e-02  5.000000e+00           8.783674e-02  1.756735e-02\n",
       "75%    1.411832e-01  8.000000e+00           1.371213e-01  4.570709e-02\n",
       "max    1.029475e+00  1.000000e+01           1.000000e+00  1.000000e+00"
      ]
     },
     "execution_count": 26,
     "metadata": {},
     "output_type": "execute_result"
    }
   ],
   "source": [
    "#Print summary:\n",
    "df.describe()"
   ]
  },
  {
   "cell_type": "code",
   "execution_count": 18,
   "metadata": {},
   "outputs": [
    {
     "data": {
      "text/plain": [
       "(array([872003., 338954., 173171.,  47447.,  33248.,  10014.,  32896.,\n",
       "          3711.,   6788.,   3294.]),\n",
       " array([0. , 0.1, 0.2, 0.3, 0.4, 0.5, 0.6, 0.7, 0.8, 0.9, 1. ]),\n",
       " <a list of 10 Patch objects>)"
      ]
     },
     "execution_count": 18,
     "metadata": {},
     "output_type": "execute_result"
    },
    {
     "data": {
      "image/png": "[encoded data removed]",
      "text/plain": [
       "<Figure size 432x288 with 1 Axes>"
      ]
     },
     "metadata": {
      "needs_background": "light"
     },
     "output_type": "display_data"
    }
   ],
   "source": [
    "#Plot the histogram of prediction normalized:\n",
    "import matplotlib.pyplot as plt\n",
    "plt.hist(x=df['prediction_normalized'],\n",
    "                            alpha=0.7, rwidth=0.85)"
   ]
  },
  {
   "cell_type": "code",
   "execution_count": 28,
   "metadata": {},
   "outputs": [
    {
     "data": {
      "text/plain": [
       "(array([152153., 152153., 152153., 152153., 152153., 152153., 152152.,\n",
       "        152152., 152152., 152152.]),\n",
       " array([ 1. ,  1.9,  2.8,  3.7,  4.6,  5.5,  6.4,  7.3,  8.2,  9.1, 10. ]),\n",
       " <a list of 10 Patch objects>)"
      ]
     },
     "execution_count": 28,
     "metadata": {},
     "output_type": "execute_result"
    },
    {
     "data": {
      "image/png": "[encoded data removed]",
      "text/plain": [
       "<Figure size 432x288 with 1 Axes>"
      ]
     },
     "metadata": {
      "needs_background": "light"
     },
     "output_type": "display_data"
    }
   ],
   "source": [
    "#Plot the histogram of decile:\n",
    "import matplotlib.pyplot as plt\n",
    "plt.hist(x=df['decile'],alpha=0.7, rwidth=0.85)"
   ]
  },
  {
   "cell_type": "code",
   "execution_count": null,
   "metadata": {
    "collapsed": true
   },
   "outputs": [],
   "source": [
    "CICLO FOR per NORMALIZZARE piuDataFrame"
   ]
  },
  {
   "cell_type": "code",
   "execution_count": 16,
   "metadata": {},
   "outputs": [
    {
     "name": "stdout",
     "output_type": "stream",
     "text": [
      "[171201, 171216, 180101, 180116, 180201, 180216, 180301, 180316, 180401, 180416, 180501, 180516, 180601, 180616, 180701, 180716, 180801, 180816, 180901, 180916, 181001, 181016, 181101, 181116, 181201, 181216]\n",
      "26\n"
     ]
    }
   ],
   "source": [
    "#create the index of the dates to be inserted into each dataset title:\n",
    "index=[171201,171216,180101,180116,180201,180216,180301,180316,180401,180416,180501,180516,180601,180616,180701,180716,180801,180816,180901,180916,181001,181016,181101,181116,181201,181216]\n",
    "print(index)\n",
    "print(len(index)) #should be 26"
   ]
  },
  {
   "cell_type": "code",
   "execution_count": 17,
   "metadata": {
    "collapsed": true,
    "scrolled": true
   },
   "outputs": [],
   "source": [
    "#Upload 26 datasets, normalize one columnn and create a csv file for each of the 26 datasets into the folder 'normalize' in the cwd:\n",
    "for i in index:\n",
    "    filepath = os.path.join('C:\\\\Users\\\\mazzucas\\\\Documents\\\\DM\\\\PDISC\\\\CERBERUS project\\\\estrazioni cdm_sdm', 'ver_csv_'+str(i)+'.csv')\n",
    "    df = pandas.read_csv(filepath,sep=';')\n",
    "    col_to_norm = ['score_cdm']\n",
    "    df['score_cdm_normalized'] = df[col_to_norm].apply(lambda x: (x - x.min()) / (x.max() - x.min()))\n",
    "    #print(df.head(5))\n",
    "    filepath = os.path.join('estrazioni_cdm_sdm_normalized', 'dataset_'+str(i)+'.csv')\n",
    "    df.to_csv(filepath)\n",
    "    #df.to_csv('C:\\Users\\cambierie\\Desktop\\prova.csv',sep=';')"
   ]
  },
  {
   "cell_type": "code",
   "execution_count": 23,
   "metadata": {
    "collapsed": true
   },
   "outputs": [],
   "source": [
    "prova = pandas.read_csv('C:\\\\Users\\\\mazzucas\\\\Documents\\\\DM\\\\PDISC\\\\CERBERUS project\\\\estrazioni cdm_sdm\\\\estrazioni_cdm_sdm_normalized\\\\dataset_180301.csv',sep=',')"
   ]
  },
  {
   "cell_type": "code",
   "execution_count": 24,
   "metadata": {},
   "outputs": [
    {
     "name": "stdout",
     "output_type": "stream",
     "text": [
      "   Unnamed: 0                               COD_CLIENTE_CIFRATO  \\\n",
      "0           0  00d54f52278c11e11f213b67a196006edc78fffdabf3334e   \n",
      "1           1  051f124b978b9a732c0ba231084db6e21aa3ddb3cdb98eaf   \n",
      "2           2  0528832808c6afb9e258ebfb69a77eee4c32ad906240282f   \n",
      "3           3  056582af4e64d8556069c376307e8e2b31d7600785ecc4db   \n",
      "4           4  06412c16d2126c6047056628567cea819c1913432ad90c05   \n",
      "\n",
      "  DAT_PRIMA_ATTIV_CNTR_dt  decile_cdm  score_cdm  fascia_1_sdm  score_1_sdm  \\\n",
      "0              2014-11-01         1.0    0.30342             6     0.004660   \n",
      "1              2014-06-07         NaN        NaN             9     0.001863   \n",
      "2              2006-01-27         NaN        NaN             9     0.002062   \n",
      "3              2010-04-27         NaN        NaN             6     0.005096   \n",
      "4              2016-01-27         NaN        NaN             1     0.021713   \n",
      "\n",
      "   fascia_4_sdm  score_4_sdm pdisc1 pdisc2  score_cdm_normalized  \n",
      "0             5     0.028521    NaN    NaN              0.302406  \n",
      "1             7     0.015002    NaN    NaN                   NaN  \n",
      "2             9     0.007151    NaN    NaN                   NaN  \n",
      "3             4     0.037104    NaN    NaN                   NaN  \n",
      "4             1     0.221418    NaN    NaN                   NaN  \n"
     ]
    }
   ],
   "source": [
    "print(prova.head(5))"
   ]
  },
  {
   "cell_type": "code",
   "execution_count": 25,
   "metadata": {},
   "outputs": [
    {
     "data": {
      "text/html": [
       "<div>\n",
       "<style scoped>\n",
       "    .dataframe tbody tr th:only-of-type {\n",
       "        vertical-align: middle;\n",
       "    }\n",
       "\n",
       "    .dataframe tbody tr th {\n",
       "        vertical-align: top;\n",
       "    }\n",
       "\n",
       "    .dataframe thead th {\n",
       "        text-align: right;\n",
       "    }\n",
       "</style>\n",
       "<table border=\"1\" class=\"dataframe\">\n",
       "  <thead>\n",
       "    <tr style=\"text-align: right;\">\n",
       "      <th></th>\n",
       "      <th>Unnamed: 0</th>\n",
       "      <th>decile_cdm</th>\n",
       "      <th>score_cdm</th>\n",
       "      <th>fascia_1_sdm</th>\n",
       "      <th>score_1_sdm</th>\n",
       "      <th>fascia_4_sdm</th>\n",
       "      <th>score_4_sdm</th>\n",
       "      <th>score_cdm_normalized</th>\n",
       "    </tr>\n",
       "  </thead>\n",
       "  <tbody>\n",
       "    <tr>\n",
       "      <th>count</th>\n",
       "      <td>3.950381e+06</td>\n",
       "      <td>1.480510e+06</td>\n",
       "      <td>1.480510e+06</td>\n",
       "      <td>3.950381e+06</td>\n",
       "      <td>3.950381e+06</td>\n",
       "      <td>3.950381e+06</td>\n",
       "      <td>3.950381e+06</td>\n",
       "      <td>1.480510e+06</td>\n",
       "    </tr>\n",
       "    <tr>\n",
       "      <th>mean</th>\n",
       "      <td>1.975190e+06</td>\n",
       "      <td>5.499029e+00</td>\n",
       "      <td>1.355885e-01</td>\n",
       "      <td>5.505116e+00</td>\n",
       "      <td>9.920758e-03</td>\n",
       "      <td>5.608834e+00</td>\n",
       "      <td>4.097209e-02</td>\n",
       "      <td>1.455648e-01</td>\n",
       "    </tr>\n",
       "    <tr>\n",
       "      <th>std</th>\n",
       "      <td>1.140377e+06</td>\n",
       "      <td>2.872304e+00</td>\n",
       "      <td>1.480486e-01</td>\n",
       "      <td>2.832100e+00</td>\n",
       "      <td>1.892094e-02</td>\n",
       "      <td>2.844713e+00</td>\n",
       "      <td>5.915297e-02</td>\n",
       "      <td>1.383537e-01</td>\n",
       "    </tr>\n",
       "    <tr>\n",
       "      <th>min</th>\n",
       "      <td>0.000000e+00</td>\n",
       "      <td>1.000000e+00</td>\n",
       "      <td>-2.017660e-02</td>\n",
       "      <td>1.000000e+00</td>\n",
       "      <td>3.731520e-05</td>\n",
       "      <td>1.000000e+00</td>\n",
       "      <td>2.141365e-04</td>\n",
       "      <td>0.000000e+00</td>\n",
       "    </tr>\n",
       "    <tr>\n",
       "      <th>25%</th>\n",
       "      <td>9.875950e+05</td>\n",
       "      <td>3.000000e+00</td>\n",
       "      <td>4.108433e-02</td>\n",
       "      <td>3.000000e+00</td>\n",
       "      <td>2.845865e-03</td>\n",
       "      <td>3.000000e+00</td>\n",
       "      <td>1.184099e-02</td>\n",
       "      <td>5.724927e-02</td>\n",
       "    </tr>\n",
       "    <tr>\n",
       "      <th>50%</th>\n",
       "      <td>1.975190e+06</td>\n",
       "      <td>5.000000e+00</td>\n",
       "      <td>8.847707e-02</td>\n",
       "      <td>6.000000e+00</td>\n",
       "      <td>5.201872e-03</td>\n",
       "      <td>6.000000e+00</td>\n",
       "      <td>2.222879e-02</td>\n",
       "      <td>1.015385e-01</td>\n",
       "    </tr>\n",
       "    <tr>\n",
       "      <th>75%</th>\n",
       "      <td>2.962785e+06</td>\n",
       "      <td>8.000000e+00</td>\n",
       "      <td>1.387697e-01</td>\n",
       "      <td>8.000000e+00</td>\n",
       "      <td>9.718921e-03</td>\n",
       "      <td>8.000000e+00</td>\n",
       "      <td>4.517160e-02</td>\n",
       "      <td>1.485377e-01</td>\n",
       "    </tr>\n",
       "    <tr>\n",
       "      <th>max</th>\n",
       "      <td>3.950380e+06</td>\n",
       "      <td>1.000000e+01</td>\n",
       "      <td>1.049897e+00</td>\n",
       "      <td>1.000000e+01</td>\n",
       "      <td>8.068782e-01</td>\n",
       "      <td>1.000000e+01</td>\n",
       "      <td>9.736037e-01</td>\n",
       "      <td>1.000000e+00</td>\n",
       "    </tr>\n",
       "  </tbody>\n",
       "</table>\n",
       "</div>"
      ],
      "text/plain": [
       "         Unnamed: 0    decile_cdm     score_cdm  fascia_1_sdm   score_1_sdm  \\\n",
       "count  3.950381e+06  1.480510e+06  1.480510e+06  3.950381e+06  3.950381e+06   \n",
       "mean   1.975190e+06  5.499029e+00  1.355885e-01  5.505116e+00  9.920758e-03   \n",
       "std    1.140377e+06  2.872304e+00  1.480486e-01  2.832100e+00  1.892094e-02   \n",
       "min    0.000000e+00  1.000000e+00 -2.017660e-02  1.000000e+00  3.731520e-05   \n",
       "25%    9.875950e+05  3.000000e+00  4.108433e-02  3.000000e+00  2.845865e-03   \n",
       "50%    1.975190e+06  5.000000e+00  8.847707e-02  6.000000e+00  5.201872e-03   \n",
       "75%    2.962785e+06  8.000000e+00  1.387697e-01  8.000000e+00  9.718921e-03   \n",
       "max    3.950380e+06  1.000000e+01  1.049897e+00  1.000000e+01  8.068782e-01   \n",
       "\n",
       "       fascia_4_sdm   score_4_sdm  score_cdm_normalized  \n",
       "count  3.950381e+06  3.950381e+06          1.480510e+06  \n",
       "mean   5.608834e+00  4.097209e-02          1.455648e-01  \n",
       "std    2.844713e+00  5.915297e-02          1.383537e-01  \n",
       "min    1.000000e+00  2.141365e-04          0.000000e+00  \n",
       "25%    3.000000e+00  1.184099e-02          5.724927e-02  \n",
       "50%    6.000000e+00  2.222879e-02          1.015385e-01  \n",
       "75%    8.000000e+00  4.517160e-02          1.485377e-01  \n",
       "max    1.000000e+01  9.736037e-01          1.000000e+00  "
      ]
     },
     "execution_count": 25,
     "metadata": {},
     "output_type": "execute_result"
    }
   ],
   "source": [
    "prova.describe()"
   ]
  },
  {
   "cell_type": "code",
   "execution_count": null,
   "metadata": {
    "collapsed": true
   },
   "outputs": [],
   "source": []
  }
 ],
 "metadata": {
  "kernelspec": {
   "display_name": "Python 2",
   "language": "python",
   "name": "python2"
  },
  "language_info": {
   "codemirror_mode": {
    "name": "ipython",
    "version": 2
   },
   "file_extension": ".py",
   "mimetype": "text/x-python",
   "name": "python",
   "nbconvert_exporter": "python",
   "pygments_lexer": "ipython2",
   "version": "2.7.13"
  }
 },
 "nbformat": 4,
 "nbformat_minor": 2
}
