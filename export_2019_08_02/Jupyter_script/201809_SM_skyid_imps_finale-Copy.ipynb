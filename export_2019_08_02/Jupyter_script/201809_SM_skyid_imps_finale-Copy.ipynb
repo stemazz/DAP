{
 "cells": [
  {
   "cell_type": "code",
   "execution_count": 1,
   "metadata": {
    "collapsed": true
   },
   "outputs": [],
   "source": [
    "#spark.stop()\n",
    "%run ../connection.python.py"
   ]
  },
  {
   "cell_type": "code",
   "execution_count": 2,
   "metadata": {
    "collapsed": true
   },
   "outputs": [],
   "source": [
    "#input\n",
    "impression_path = 'hdfs:///STAGE/adform/table=Impression/Impression.parquet'\n",
    "trackingpoint_path = 'hdfs:///STAGE/adform/table=Trackingpoint/Trackingpoint.parquet'"
   ]
  },
  {
   "cell_type": "code",
   "execution_count": 3,
   "metadata": {
    "collapsed": true
   },
   "outputs": [],
   "source": [
    "###############################\n",
    "#loading impression_table dataframe\n",
    "###############################\n",
    "\n",
    "impression_df = spark.read.format('parquet').load(impression_path)\n",
    "# impression_df.printSchema()\n",
    "impression_df = impression_df.filter(impression_df.IsRobot == 'No')\n",
    "impression_df = impression_df.filter(impression_df.CookieID != 0)\n",
    "impression_df = impression_df.where(\"yyyymmdd <= 20180831 and yyyymmdd >= 20180301\")\n",
    "impression_df = impression_df.where(\"regexp_extract(unloadvars.visibility, '\\\"visible1\\\":(\\\\\\w+)',1)='true'\").persist()\n",
    "# impression_df.write.parquet(\"/user/stefano.mazzucca/py_digitalizzazione/impression_filt.parquet\",mode=\"overwrite\")\n",
    "impression_df.createOrReplaceTempView(\"impression\")"
   ]
  },
  {
   "cell_type": "code",
   "execution_count": 6,
   "metadata": {
    "collapsed": true
   },
   "outputs": [],
   "source": [
    "#leggo tracking point per costruire coppie cookieid-skyid\n",
    "trackingpoint_df= spark.read.format('parquet').load(trackingpoint_path)\n",
    "# trackingpoint_df.printSchema()\n",
    "trackingpoint_df = trackingpoint_df.filter(trackingpoint_df.IsRobot == 'No')\\\n",
    "                                   .filter(trackingpoint_df.IsNoRepeats == 'Yes')\\\n",
    "                                   .filter(trackingpoint_df.CookieID != 0)\n",
    "trackingpoint_df.createOrReplaceTempView(\"trackingpoint\")"
   ]
  },
  {
   "cell_type": "code",
   "execution_count": 7,
   "metadata": {},
   "outputs": [
    {
     "name": "stdout",
     "output_type": "stream",
     "text": [
      "+------------------------------------------------+--------------------+------------------+----------+----------------+\n",
      "|skyid                                           |cookieid            |device-name       |os-name   |browser-name    |\n",
      "+------------------------------------------------+--------------------+------------------+----------+----------------+\n",
      "|d7d5740854b729074c0308f2aa645d04d8f0dcfedd526d83|-4222772562261638140|Mobile            |iPhone    |Mobile Safari 11|\n",
      "|d57285008b7f3d875279310f70687f8fd6dd0101dd7ab938|-4786014879383636041|Mobile            |iPhone    |Mobile Safari 11|\n",
      "|599f5439c366bff9cedf9bbf0dfb4502694521ecddc0f54f|6836384834405944840 |Desktop and Laptop|Windows 10|Chrome          |\n",
      "|348fa7f49112b8a92447e663d0780b57ff075c95f37ede23|-6792752978129413992|Mobile            |Android   |Chrome Mobile   |\n",
      "|febad0be14b4b574272599b4720d52df9c94260e61d2317d|-8045372053882171762|Mobile            |iPhone    |Mobile Safari 11|\n",
      "|50e2b62530479d4267b682c09656d923bde7a8b06cde3c12|-7603061383369995060|Desktop and Laptop|Windows 7 |Firefox 4+      |\n",
      "|ba4b37c9d28e17e959fb995cbfe410c9499eabe56a75d3d6|-1069194617607732927|Mobile            |iPhone    |Mobile Safari 11|\n",
      "|759ba29b2d672f5a2c8e35afae6025336fd1369c72b62459|-7825828746312301372|Mobile            |iPhone    |Mobile Safari 11|\n",
      "|2ded618c7d3656de664006f504d77625ce9831696585c080|-7973211813921750012|Mobile            |iPhone    |Mobile Safari 11|\n",
      "|7bffbc7b422ff9018e55eb11597a030661e264c15e74445f|-2104212830215154990|Mobile            |Android   |Opera 15+       |\n",
      "+------------------------------------------------+--------------------+------------------+----------+----------------+\n",
      "only showing top 10 rows\n",
      "\n"
     ]
    }
   ],
   "source": [
    "#coppie cookieid-skyid \n",
    "cookieid_skyid_df = trackingpoint_df.select(regexp_extract(\"customvars.systemvariables\", '\"13\":\"(\\w+)',1).alias(\"skyid\"), 'cookieid', 'device-name', 'os-name', 'browser-name').where(\"customvars.systemvariables like '%13%' and skyid <> '' and length(skyid) = 48 and cookieid <> '0'\").persist()\n",
    "cookieid_skyid_df = cookieid_skyid_df.distinct()\n",
    "cookieid_skyid_df.createOrReplaceTempView(\"cookieid_skyid\")\n",
    "# cookieid_skyid_df.printSchema()\n",
    "cookieid_skyid_df.show(10,False)"
   ]
  },
  {
   "cell_type": "code",
   "execution_count": 8,
   "metadata": {},
   "outputs": [
    {
     "name": "stdout",
     "output_type": "stream",
     "text": [
      "+--------------------+\n",
      "|cookieid            |\n",
      "+--------------------+\n",
      "|-3698676388661340072|\n",
      "|-6795603234760284634|\n",
      "|-2630790933627959160|\n",
      "|-7649843254493758918|\n",
      "|-5802941301142972906|\n",
      "|-246833466618035261 |\n",
      "|-7354590537594738070|\n",
      "|-1515748146956991741|\n",
      "|-2808758924860257011|\n",
      "|-6937652819403878963|\n",
      "+--------------------+\n",
      "only showing top 10 rows\n",
      "\n"
     ]
    }
   ],
   "source": [
    "lista_cookie_df = spark.sql(\"select cookieid from cookieid_skyid group by 1\").persist()\n",
    "lista_cookie_df.show(10,False)"
   ]
  },
  {
   "cell_type": "code",
   "execution_count": 9,
   "metadata": {
    "collapsed": true
   },
   "outputs": [],
   "source": [
    "# lista_cookie_df.printSchema()"
   ]
  },
  {
   "cell_type": "code",
   "execution_count": 10,
   "metadata": {
    "collapsed": true
   },
   "outputs": [],
   "source": [
    "lista_cookie_df.createOrReplaceTempView(\"lista_cookie\")"
   ]
  },
  {
   "cell_type": "code",
   "execution_count": 11,
   "metadata": {},
   "outputs": [
    {
     "name": "stdout",
     "output_type": "stream",
     "text": [
      "+--------------------+------------------+-----------+-------------+----------------------+-------------------+--------+---------------+--------+-------+\n",
      "|cookieid            |device-name       |os-name    |browser-name |publisherdomain       |timestamp          |yyyymmdd|city           |region  |country|\n",
      "+--------------------+------------------+-----------+-------------+----------------------+-------------------+--------+---------------+--------+-------+\n",
      "|5711547453355456937 |Desktop and Laptop|Windows 10 |Edge         |*.tiscali.it          |2018-06-29 11:22:55|20180629|Fiano Romano   |Roma    |Italy  |\n",
      "|7007545821645591060 |Desktop and Laptop|Windows 10 |Chrome       |*.mediaset.it         |2018-06-29 11:18:40|20180629|Trieste        |Trieste |Italy  |\n",
      "|4877002184412356781 |Mobile            |Android    |Chrome Mobile|*.adnxs.com           |2018-06-29 11:22:24|20180629|Arese          |Milano  |Italy  |\n",
      "|-5837774770026123281|Mobile            |Android    |Chrome Mobile|*.ilfattoquotidiano.it|2018-06-29 11:22:38|20180629|Osimo          |Ancona  |Italy  |\n",
      "|-2223106654223388881|Desktop and Laptop|Windows 10 |Chrome       |*.tuttosport.com      |2018-06-29 11:22:15|20180629|Rome           |Roma    |Italy  |\n",
      "|8438358568143697869 |Desktop and Laptop|Windows 8.1|Explorer 11  |*.tiscali.it          |2018-06-29 11:18:26|20180629|Zinasco        |Pavia   |Italy  |\n",
      "|3531942747797900481 |Desktop and Laptop|Windows 7  |Chrome       |*.tuttosport.com      |2018-06-29 11:22:36|20180629|Castel Volturno|Caserta |Italy  |\n",
      "|5351783736032826052 |Desktop and Laptop|Windows 10 |Firefox 4+   |*.nonsprecare.it      |2018-06-29 11:22:42|20180629|Milan          |Milano  |Italy  |\n",
      "|8630948217388212208 |Mobile            |Android    |Chrome Mobile|*.doubleclick.net     |2018-06-29 11:18:38|20180629|Parma          |Parma   |Italy  |\n",
      "|3134935697109658469 |Desktop and Laptop|Windows 7  |Firefox 4+   |*.tiscali.it          |2018-06-29 11:18:29|20180629|Cagliari       |Cagliari|Italy  |\n",
      "+--------------------+------------------+-----------+-------------+----------------------+-------------------+--------+---------------+--------+-------+\n",
      "only showing top 10 rows\n",
      "\n"
     ]
    }
   ],
   "source": [
    "imps_sel_col_df = impression_df.select('cookieid', 'device-name','os-name','browser-name','publisherdomain','timestamp','yyyymmdd','city','region','country').persist()\n",
    "imps_sel_col_df.createOrReplaceTempView(\"imps_sel_col\")\n",
    "imps_sel_col_df.show(10,False)"
   ]
  },
  {
   "cell_type": "code",
   "execution_count": 15,
   "metadata": {
    "collapsed": true
   },
   "outputs": [],
   "source": [
    "skyid_imps_prep_step0_df = spark.sql(\"select distinct * from imps_sel_col as t1 inner join lista_cookie as t2 on t1.cookieid = t2.cookieid\").persist()\n",
    "# skyid_imps_prep_step0_df = spark.sql(\"select * from imps_sel_col where cookieid in (select cookieid from lista_cookie)\").persist()\n",
    "\n",
    "# skyid_imps_prep_step0_df.printSchema()\n",
    "skyid_imps_prep_step0_df.createOrReplaceTempView(\"skyid_imps_prep_step0\")"
   ]
  },
  {
   "cell_type": "code",
   "execution_count": 20,
   "metadata": {},
   "outputs": [
    {
     "name": "stdout",
     "output_type": "stream",
     "text": [
      "+--------------------+-----------+-------+-------------+--------------------------+-------------------+--------+-------------+------+-------+--------------------+\n",
      "|cookieid            |device-name|os-name|browser-name |publisherdomain           |timestamp          |yyyymmdd|city         |region|country|cookieid            |\n",
      "+--------------------+-----------+-------+-------------+--------------------------+-------------------+--------+-------------+------+-------+--------------------+\n",
      "|-9223181771274367924|Mobile     |Android|Chrome Mobile|*.doubleclick.net         |2018-06-17 16:02:53|20180617|Aosta        |Aosta |Italy  |-9223181771274367924|\n",
      "|-9223181771274367924|Mobile     |Android|Chrome Mobile|*.doubleclick.net         |2018-06-17 16:04:03|20180617|Aosta        |Aosta |Italy  |-9223181771274367924|\n",
      "|-9223181771274367924|Tablet     |Android|Chrome       |*.coltivazionebiologica.it|2018-04-24 19:45:33|20180424|Gressan      |Aosta |Italy  |-9223181771274367924|\n",
      "|-9223181771274367924|Tablet     |Android|Chrome       |*.webunivers.net          |2018-04-01 21:31:36|20180401|Aosta        |Aosta |Italy  |-9223181771274367924|\n",
      "|-9223181771274367924|Tablet     |Android|Chrome       |*.aostasera.it            |2018-03-09 13:42:04|20180309|Valtournenche|Aosta |Italy  |-9223181771274367924|\n",
      "|-9223181771274367924|Tablet     |Android|Chrome       |*.aostasera.it            |2018-03-09 13:42:05|20180309|Valtournenche|Aosta |Italy  |-9223181771274367924|\n",
      "|-9223181771274367924|Mobile     |Android|Chrome Mobile|*.doubleclick.net         |2018-06-24 16:56:29|20180624|Aosta        |Aosta |Italy  |-9223181771274367924|\n",
      "|-9223181771274367924|Tablet     |Android|Chrome       |*.valledaostaglocal.it    |2018-03-28 20:56:14|20180328|Aosta        |Aosta |Italy  |-9223181771274367924|\n",
      "|-9223181771274367924|Tablet     |Android|Chrome       |*.caffeinamagazine.it     |2018-04-26 23:05:20|20180426|Gressan      |Aosta |Italy  |-9223181771274367924|\n",
      "|-9223181771274367924|Tablet     |Android|Chrome       |*.valledaostaglocal.it    |2018-06-06 12:53:23|20180606|Aosta        |Aosta |Italy  |-9223181771274367924|\n",
      "+--------------------+-----------+-------+-------------+--------------------------+-------------------+--------+-------------+------+-------+--------------------+\n",
      "only showing top 10 rows\n",
      "\n",
      "root\n",
      " |-- cookieid: long (nullable = true)\n",
      " |-- device-name: string (nullable = true)\n",
      " |-- os-name: string (nullable = true)\n",
      " |-- browser-name: string (nullable = true)\n",
      " |-- publisherdomain: string (nullable = true)\n",
      " |-- timestamp: string (nullable = true)\n",
      " |-- yyyymmdd: integer (nullable = true)\n",
      " |-- city: string (nullable = true)\n",
      " |-- region: string (nullable = true)\n",
      " |-- country: string (nullable = true)\n",
      " |-- cookieid: long (nullable = true)\n",
      "\n"
     ]
    }
   ],
   "source": [
    "skyid_imps_prep_step0_df.show(10,False)\n",
    "skyid_imps_prep_step0_df.printSchema()\n",
    "skyid_imps_prep_step0_df.createOrReplaceTempView(\"skyid_imps_prep_step0\")"
   ]
  },
  {
   "cell_type": "code",
   "execution_count": 21,
   "metadata": {},
   "outputs": [
    {
     "ename": "AnalysisException",
     "evalue": "\"Reference 'cookieid' is ambiguous, could be: cookieid#339L, cookieid#440L.; line 1 pos 7\"",
     "output_type": "error",
     "traceback": [
      "\u001b[0;31m---------------------------------------------------------------------------\u001b[0m",
      "\u001b[0;31mPy4JJavaError\u001b[0m                             Traceback (most recent call last)",
      "\u001b[0;32m/usr/local/spark/python/pyspark/sql/utils.py\u001b[0m in \u001b[0;36mdeco\u001b[0;34m(*a, **kw)\u001b[0m\n\u001b[1;32m     62\u001b[0m         \u001b[0;32mtry\u001b[0m\u001b[0;34m:\u001b[0m\u001b[0;34m\u001b[0m\u001b[0m\n\u001b[0;32m---> 63\u001b[0;31m             \u001b[0;32mreturn\u001b[0m \u001b[0mf\u001b[0m\u001b[0;34m(\u001b[0m\u001b[0;34m*\u001b[0m\u001b[0ma\u001b[0m\u001b[0;34m,\u001b[0m \u001b[0;34m**\u001b[0m\u001b[0mkw\u001b[0m\u001b[0;34m)\u001b[0m\u001b[0;34m\u001b[0m\u001b[0m\n\u001b[0m\u001b[1;32m     64\u001b[0m         \u001b[0;32mexcept\u001b[0m \u001b[0mpy4j\u001b[0m\u001b[0;34m.\u001b[0m\u001b[0mprotocol\u001b[0m\u001b[0;34m.\u001b[0m\u001b[0mPy4JJavaError\u001b[0m \u001b[0;32mas\u001b[0m \u001b[0me\u001b[0m\u001b[0;34m:\u001b[0m\u001b[0;34m\u001b[0m\u001b[0m\n",
      "\u001b[0;32m/usr/local/spark/python/lib/py4j-0.10.4-src.zip/py4j/protocol.py\u001b[0m in \u001b[0;36mget_return_value\u001b[0;34m(answer, gateway_client, target_id, name)\u001b[0m\n\u001b[1;32m    318\u001b[0m                     \u001b[0;34m\"An error occurred while calling {0}{1}{2}.\\n\"\u001b[0m\u001b[0;34m.\u001b[0m\u001b[0;34m\u001b[0m\u001b[0m\n\u001b[0;32m--> 319\u001b[0;31m                     format(target_id, \".\", name), value)\n\u001b[0m\u001b[1;32m    320\u001b[0m             \u001b[0;32melse\u001b[0m\u001b[0;34m:\u001b[0m\u001b[0;34m\u001b[0m\u001b[0m\n",
      "\u001b[0;31mPy4JJavaError\u001b[0m: An error occurred while calling o28.sql.\n: org.apache.spark.sql.AnalysisException: Reference 'cookieid' is ambiguous, could be: cookieid#339L, cookieid#440L.; line 1 pos 7\n\tat org.apache.spark.sql.catalyst.plans.logical.LogicalPlan.resolve(LogicalPlan.scala:264)\n\tat org.apache.spark.sql.catalyst.plans.logical.LogicalPlan.resolveChildren(LogicalPlan.scala:148)\n\tat org.apache.spark.sql.catalyst.analysis.Analyzer$ResolveReferences$$anonfun$apply$9$$anonfun$applyOrElse$5$$anonfun$34.apply(Analyzer.scala:612)\n\tat org.apache.spark.sql.catalyst.analysis.Analyzer$ResolveReferences$$anonfun$apply$9$$anonfun$applyOrElse$5$$anonfun$34.apply(Analyzer.scala:612)\n\tat org.apache.spark.sql.catalyst.analysis.package$.withPosition(package.scala:48)\n\tat org.apache.spark.sql.catalyst.analysis.Analyzer$ResolveReferences$$anonfun$apply$9$$anonfun$applyOrElse$5.applyOrElse(Analyzer.scala:612)\n\tat org.apache.spark.sql.catalyst.analysis.Analyzer$ResolveReferences$$anonfun$apply$9$$anonfun$applyOrElse$5.applyOrElse(Analyzer.scala:608)\n\tat org.apache.spark.sql.catalyst.trees.TreeNode$$anonfun$transformUp$1.apply(TreeNode.scala:310)\n\tat org.apache.spark.sql.catalyst.trees.TreeNode$$anonfun$transformUp$1.apply(TreeNode.scala:310)\n\tat org.apache.spark.sql.catalyst.trees.CurrentOrigin$.withOrigin(TreeNode.scala:70)\n\tat org.apache.spark.sql.catalyst.trees.TreeNode.transformUp(TreeNode.scala:309)\n\tat org.apache.spark.sql.catalyst.plans.QueryPlan.transformExpressionUp$1(QueryPlan.scala:282)\n\tat org.apache.spark.sql.catalyst.plans.QueryPlan.org$apache$spark$sql$catalyst$plans$QueryPlan$$recursiveTransform$2(QueryPlan.scala:292)\n\tat org.apache.spark.sql.catalyst.plans.QueryPlan$$anonfun$org$apache$spark$sql$catalyst$plans$QueryPlan$$recursiveTransform$2$1.apply(QueryPlan.scala:296)\n\tat scala.collection.TraversableLike$$anonfun$map$1.apply(TraversableLike.scala:234)\n\tat scala.collection.TraversableLike$$anonfun$map$1.apply(TraversableLike.scala:234)\n\tat scala.collection.immutable.List.foreach(List.scala:381)\n\tat scala.collection.TraversableLike$class.map(TraversableLike.scala:234)\n\tat scala.collection.immutable.List.map(List.scala:285)\n\tat org.apache.spark.sql.catalyst.plans.QueryPlan.org$apache$spark$sql$catalyst$plans$QueryPlan$$recursiveTransform$2(QueryPlan.scala:296)\n\tat org.apache.spark.sql.catalyst.plans.QueryPlan$$anonfun$7.apply(QueryPlan.scala:301)\n\tat org.apache.spark.sql.catalyst.trees.TreeNode.mapProductIterator(TreeNode.scala:188)\n\tat org.apache.spark.sql.catalyst.plans.QueryPlan.transformExpressionsUp(QueryPlan.scala:301)\n\tat org.apache.spark.sql.catalyst.analysis.Analyzer$ResolveReferences$$anonfun$apply$9.applyOrElse(Analyzer.scala:608)\n\tat org.apache.spark.sql.catalyst.analysis.Analyzer$ResolveReferences$$anonfun$apply$9.applyOrElse(Analyzer.scala:550)\n\tat org.apache.spark.sql.catalyst.plans.logical.LogicalPlan$$anonfun$resolveOperators$1.apply(LogicalPlan.scala:61)\n\tat org.apache.spark.sql.catalyst.plans.logical.LogicalPlan$$anonfun$resolveOperators$1.apply(LogicalPlan.scala:61)\n\tat org.apache.spark.sql.catalyst.trees.CurrentOrigin$.withOrigin(TreeNode.scala:70)\n\tat org.apache.spark.sql.catalyst.plans.logical.LogicalPlan.resolveOperators(LogicalPlan.scala:60)\n\tat org.apache.spark.sql.catalyst.analysis.Analyzer$ResolveReferences$.apply(Analyzer.scala:550)\n\tat org.apache.spark.sql.catalyst.analysis.Analyzer$ResolveReferences$.apply(Analyzer.scala:487)\n\tat org.apache.spark.sql.catalyst.rules.RuleExecutor$$anonfun$execute$1$$anonfun$apply$1.apply(RuleExecutor.scala:85)\n\tat org.apache.spark.sql.catalyst.rules.RuleExecutor$$anonfun$execute$1$$anonfun$apply$1.apply(RuleExecutor.scala:82)\n\tat scala.collection.LinearSeqOptimized$class.foldLeft(LinearSeqOptimized.scala:124)\n\tat scala.collection.immutable.List.foldLeft(List.scala:84)\n\tat org.apache.spark.sql.catalyst.rules.RuleExecutor$$anonfun$execute$1.apply(RuleExecutor.scala:82)\n\tat org.apache.spark.sql.catalyst.rules.RuleExecutor$$anonfun$execute$1.apply(RuleExecutor.scala:74)\n\tat scala.collection.immutable.List.foreach(List.scala:381)\n\tat org.apache.spark.sql.catalyst.rules.RuleExecutor.execute(RuleExecutor.scala:74)\n\tat org.apache.spark.sql.execution.QueryExecution.analyzed$lzycompute(QueryExecution.scala:64)\n\tat org.apache.spark.sql.execution.QueryExecution.analyzed(QueryExecution.scala:62)\n\tat org.apache.spark.sql.execution.QueryExecution.assertAnalyzed(QueryExecution.scala:50)\n\tat org.apache.spark.sql.Dataset$.ofRows(Dataset.scala:63)\n\tat org.apache.spark.sql.SparkSession.sql(SparkSession.scala:592)\n\tat sun.reflect.NativeMethodAccessorImpl.invoke0(Native Method)\n\tat sun.reflect.NativeMethodAccessorImpl.invoke(NativeMethodAccessorImpl.java:62)\n\tat sun.reflect.DelegatingMethodAccessorImpl.invoke(DelegatingMethodAccessorImpl.java:43)\n\tat java.lang.reflect.Method.invoke(Method.java:498)\n\tat py4j.reflection.MethodInvoker.invoke(MethodInvoker.java:244)\n\tat py4j.reflection.ReflectionEngine.invoke(ReflectionEngine.java:357)\n\tat py4j.Gateway.invoke(Gateway.java:280)\n\tat py4j.commands.AbstractCommand.invokeMethod(AbstractCommand.java:132)\n\tat py4j.commands.CallCommand.execute(CallCommand.java:79)\n\tat py4j.GatewayConnection.run(GatewayConnection.java:214)\n\tat java.lang.Thread.run(Thread.java:748)\n",
      "\nDuring handling of the above exception, another exception occurred:\n",
      "\u001b[0;31mAnalysisException\u001b[0m                         Traceback (most recent call last)",
      "\u001b[0;32m<ipython-input-21-55229e831ccf>\u001b[0m in \u001b[0;36m<module>\u001b[0;34m()\u001b[0m\n\u001b[0;32m----> 1\u001b[0;31m \u001b[0mskyid_imps_prep_df\u001b[0m \u001b[0;34m=\u001b[0m \u001b[0mspark\u001b[0m\u001b[0;34m.\u001b[0m\u001b[0msql\u001b[0m\u001b[0;34m(\u001b[0m\u001b[0;34m\"select cookieid, yyyymmdd, `device-name`, `os-name`, `browser-name`, concat(`device-name`,`os-name`) as device_os, substr(cast(yyyymmdd as varchar(8)),1,6) as mese, weekofyear(to_date(timestamp)) as week, date_format(timestamp, 'EEEE') as weekday, hour(timestamp) as hour, case when `device-name`='Mobile' then 1 else 0 end as flag_mobile, case when `device-name`='Tablet' then 1 else 0 end as flag_tablet, case when `device-name`='Desktop and Laptop' then 1 else 0 end as flag_desktop, publisherdomain, timestamp, city, region, country from skyid_imps_prep_step0\"\u001b[0m\u001b[0;34m)\u001b[0m\u001b[0;34m.\u001b[0m\u001b[0mpersist\u001b[0m\u001b[0;34m(\u001b[0m\u001b[0;34m)\u001b[0m\u001b[0;34m\u001b[0m\u001b[0m\n\u001b[0m\u001b[1;32m      2\u001b[0m \u001b[0mskyid_imps_prep_df\u001b[0m\u001b[0;34m.\u001b[0m\u001b[0mprintSchema\u001b[0m\u001b[0;34m(\u001b[0m\u001b[0;34m)\u001b[0m\u001b[0;34m\u001b[0m\u001b[0m\n\u001b[1;32m      3\u001b[0m \u001b[0mskyid_imps_prep_df\u001b[0m\u001b[0;34m.\u001b[0m\u001b[0mcreateOrReplaceTempView\u001b[0m\u001b[0;34m(\u001b[0m\u001b[0;34m\"skyid_imps_prep\"\u001b[0m\u001b[0;34m)\u001b[0m\u001b[0;34m\u001b[0m\u001b[0m\n",
      "\u001b[0;32m/usr/local/spark/python/pyspark/sql/session.py\u001b[0m in \u001b[0;36msql\u001b[0;34m(self, sqlQuery)\u001b[0m\n\u001b[1;32m    539\u001b[0m         \u001b[0;34m[\u001b[0m\u001b[0mRow\u001b[0m\u001b[0;34m(\u001b[0m\u001b[0mf1\u001b[0m\u001b[0;34m=\u001b[0m\u001b[0;36m1\u001b[0m\u001b[0;34m,\u001b[0m \u001b[0mf2\u001b[0m\u001b[0;34m=\u001b[0m\u001b[0;34mu'row1'\u001b[0m\u001b[0;34m)\u001b[0m\u001b[0;34m,\u001b[0m \u001b[0mRow\u001b[0m\u001b[0;34m(\u001b[0m\u001b[0mf1\u001b[0m\u001b[0;34m=\u001b[0m\u001b[0;36m2\u001b[0m\u001b[0;34m,\u001b[0m \u001b[0mf2\u001b[0m\u001b[0;34m=\u001b[0m\u001b[0;34mu'row2'\u001b[0m\u001b[0;34m)\u001b[0m\u001b[0;34m,\u001b[0m \u001b[0mRow\u001b[0m\u001b[0;34m(\u001b[0m\u001b[0mf1\u001b[0m\u001b[0;34m=\u001b[0m\u001b[0;36m3\u001b[0m\u001b[0;34m,\u001b[0m \u001b[0mf2\u001b[0m\u001b[0;34m=\u001b[0m\u001b[0;34mu'row3'\u001b[0m\u001b[0;34m)\u001b[0m\u001b[0;34m]\u001b[0m\u001b[0;34m\u001b[0m\u001b[0m\n\u001b[1;32m    540\u001b[0m         \"\"\"\n\u001b[0;32m--> 541\u001b[0;31m         \u001b[0;32mreturn\u001b[0m \u001b[0mDataFrame\u001b[0m\u001b[0;34m(\u001b[0m\u001b[0mself\u001b[0m\u001b[0;34m.\u001b[0m\u001b[0m_jsparkSession\u001b[0m\u001b[0;34m.\u001b[0m\u001b[0msql\u001b[0m\u001b[0;34m(\u001b[0m\u001b[0msqlQuery\u001b[0m\u001b[0;34m)\u001b[0m\u001b[0;34m,\u001b[0m \u001b[0mself\u001b[0m\u001b[0;34m.\u001b[0m\u001b[0m_wrapped\u001b[0m\u001b[0;34m)\u001b[0m\u001b[0;34m\u001b[0m\u001b[0m\n\u001b[0m\u001b[1;32m    542\u001b[0m \u001b[0;34m\u001b[0m\u001b[0m\n\u001b[1;32m    543\u001b[0m     \u001b[0;34m@\u001b[0m\u001b[0msince\u001b[0m\u001b[0;34m(\u001b[0m\u001b[0;36m2.0\u001b[0m\u001b[0;34m)\u001b[0m\u001b[0;34m\u001b[0m\u001b[0m\n",
      "\u001b[0;32m/usr/local/spark/python/lib/py4j-0.10.4-src.zip/py4j/java_gateway.py\u001b[0m in \u001b[0;36m__call__\u001b[0;34m(self, *args)\u001b[0m\n\u001b[1;32m   1131\u001b[0m         \u001b[0manswer\u001b[0m \u001b[0;34m=\u001b[0m \u001b[0mself\u001b[0m\u001b[0;34m.\u001b[0m\u001b[0mgateway_client\u001b[0m\u001b[0;34m.\u001b[0m\u001b[0msend_command\u001b[0m\u001b[0;34m(\u001b[0m\u001b[0mcommand\u001b[0m\u001b[0;34m)\u001b[0m\u001b[0;34m\u001b[0m\u001b[0m\n\u001b[1;32m   1132\u001b[0m         return_value = get_return_value(\n\u001b[0;32m-> 1133\u001b[0;31m             answer, self.gateway_client, self.target_id, self.name)\n\u001b[0m\u001b[1;32m   1134\u001b[0m \u001b[0;34m\u001b[0m\u001b[0m\n\u001b[1;32m   1135\u001b[0m         \u001b[0;32mfor\u001b[0m \u001b[0mtemp_arg\u001b[0m \u001b[0;32min\u001b[0m \u001b[0mtemp_args\u001b[0m\u001b[0;34m:\u001b[0m\u001b[0;34m\u001b[0m\u001b[0m\n",
      "\u001b[0;32m/usr/local/spark/python/pyspark/sql/utils.py\u001b[0m in \u001b[0;36mdeco\u001b[0;34m(*a, **kw)\u001b[0m\n\u001b[1;32m     67\u001b[0m                                              e.java_exception.getStackTrace()))\n\u001b[1;32m     68\u001b[0m             \u001b[0;32mif\u001b[0m \u001b[0ms\u001b[0m\u001b[0;34m.\u001b[0m\u001b[0mstartswith\u001b[0m\u001b[0;34m(\u001b[0m\u001b[0;34m'org.apache.spark.sql.AnalysisException: '\u001b[0m\u001b[0;34m)\u001b[0m\u001b[0;34m:\u001b[0m\u001b[0;34m\u001b[0m\u001b[0m\n\u001b[0;32m---> 69\u001b[0;31m                 \u001b[0;32mraise\u001b[0m \u001b[0mAnalysisException\u001b[0m\u001b[0;34m(\u001b[0m\u001b[0ms\u001b[0m\u001b[0;34m.\u001b[0m\u001b[0msplit\u001b[0m\u001b[0;34m(\u001b[0m\u001b[0;34m': '\u001b[0m\u001b[0;34m,\u001b[0m \u001b[0;36m1\u001b[0m\u001b[0;34m)\u001b[0m\u001b[0;34m[\u001b[0m\u001b[0;36m1\u001b[0m\u001b[0;34m]\u001b[0m\u001b[0;34m,\u001b[0m \u001b[0mstackTrace\u001b[0m\u001b[0;34m)\u001b[0m\u001b[0;34m\u001b[0m\u001b[0m\n\u001b[0m\u001b[1;32m     70\u001b[0m             \u001b[0;32mif\u001b[0m \u001b[0ms\u001b[0m\u001b[0;34m.\u001b[0m\u001b[0mstartswith\u001b[0m\u001b[0;34m(\u001b[0m\u001b[0;34m'org.apache.spark.sql.catalyst.analysis'\u001b[0m\u001b[0;34m)\u001b[0m\u001b[0;34m:\u001b[0m\u001b[0;34m\u001b[0m\u001b[0m\n\u001b[1;32m     71\u001b[0m                 \u001b[0;32mraise\u001b[0m \u001b[0mAnalysisException\u001b[0m\u001b[0;34m(\u001b[0m\u001b[0ms\u001b[0m\u001b[0;34m.\u001b[0m\u001b[0msplit\u001b[0m\u001b[0;34m(\u001b[0m\u001b[0;34m': '\u001b[0m\u001b[0;34m,\u001b[0m \u001b[0;36m1\u001b[0m\u001b[0;34m)\u001b[0m\u001b[0;34m[\u001b[0m\u001b[0;36m1\u001b[0m\u001b[0;34m]\u001b[0m\u001b[0;34m,\u001b[0m \u001b[0mstackTrace\u001b[0m\u001b[0;34m)\u001b[0m\u001b[0;34m\u001b[0m\u001b[0m\n",
      "\u001b[0;31mAnalysisException\u001b[0m: \"Reference 'cookieid' is ambiguous, could be: cookieid#339L, cookieid#440L.; line 1 pos 7\""
     ]
    }
   ],
   "source": [
    "skyid_imps_prep_df = spark.sql(\"select cookieid, yyyymmdd, `device-name`, `os-name`, `browser-name`, concat(`device-name`,`os-name`) as device_os, substr(cast(yyyymmdd as varchar(8)),1,6) as mese, weekofyear(to_date(timestamp)) as week, date_format(timestamp, 'EEEE') as weekday, hour(timestamp) as hour, case when `device-name`='Mobile' then 1 else 0 end as flag_mobile, case when `device-name`='Tablet' then 1 else 0 end as flag_tablet, case when `device-name`='Desktop and Laptop' then 1 else 0 end as flag_desktop, publisherdomain, timestamp, city, region, country from skyid_imps_prep_step0\").persist()\n",
    "skyid_imps_prep_df.printSchema()\n",
    "skyid_imps_prep_df.createOrReplaceTempView(\"skyid_imps_prep\")"
   ]
  },
  {
   "cell_type": "code",
   "execution_count": null,
   "metadata": {
    "collapsed": true
   },
   "outputs": [],
   "source": [
    "#skyid_imps_prep_df = spark.sql (\"select cookieid, yyyymmdd, `device-name`, `os-name`, `browser-name`, concat(`device-name`,`os-name`) as device_os,substr(cast(yyyymmdd as varchar(8)),1,6) as mese,weekofyear(to_date(timestamp)) as week,date_format(timestamp, 'EEEE') as weekday, hour(timestamp) as hour, case when `device-name`='Mobile' then 1 else 0 end as flag_mobile,case when `device-name`='Tablet' then 1 else 0 end as flag_tablet, case when `device-name`='Desktop and Laptop' then 1 else 0 end as flag_desktop,publisherdomain,timestamp,city,region,country from imps_sel_col where cookieid in (select cookieid from lista_cookie)\").persist()\n",
    "#skyid_imps_prep_df.printSchema()\n",
    "#skyid_imps_prep_df.createOrReplaceTempView(\"skyid_imps_prep\")"
   ]
  },
  {
   "cell_type": "code",
   "execution_count": 14,
   "metadata": {},
   "outputs": [
    {
     "ename": "KeyboardInterrupt",
     "evalue": "",
     "output_type": "error",
     "traceback": [
      "\u001b[0;31m---------------------------------------------------------------------------\u001b[0m",
      "\u001b[0;31mKeyboardInterrupt\u001b[0m                         Traceback (most recent call last)",
      "\u001b[0;32m<ipython-input-14-eda8fb3a4383>\u001b[0m in \u001b[0;36m<module>\u001b[0;34m()\u001b[0m\n\u001b[0;32m----> 1\u001b[0;31m \u001b[0mskyid_imps_prep_df\u001b[0m\u001b[0;34m.\u001b[0m\u001b[0mshow\u001b[0m\u001b[0;34m(\u001b[0m\u001b[0;36m100\u001b[0m\u001b[0;34m)\u001b[0m\u001b[0;34m\u001b[0m\u001b[0m\n\u001b[0m",
      "\u001b[0;32m/usr/local/spark/python/pyspark/sql/dataframe.py\u001b[0m in \u001b[0;36mshow\u001b[0;34m(self, n, truncate)\u001b[0m\n\u001b[1;32m    316\u001b[0m         \"\"\"\n\u001b[1;32m    317\u001b[0m         \u001b[0;32mif\u001b[0m \u001b[0misinstance\u001b[0m\u001b[0;34m(\u001b[0m\u001b[0mtruncate\u001b[0m\u001b[0;34m,\u001b[0m \u001b[0mbool\u001b[0m\u001b[0;34m)\u001b[0m \u001b[0;32mand\u001b[0m \u001b[0mtruncate\u001b[0m\u001b[0;34m:\u001b[0m\u001b[0;34m\u001b[0m\u001b[0m\n\u001b[0;32m--> 318\u001b[0;31m             \u001b[0mprint\u001b[0m\u001b[0;34m(\u001b[0m\u001b[0mself\u001b[0m\u001b[0;34m.\u001b[0m\u001b[0m_jdf\u001b[0m\u001b[0;34m.\u001b[0m\u001b[0mshowString\u001b[0m\u001b[0;34m(\u001b[0m\u001b[0mn\u001b[0m\u001b[0;34m,\u001b[0m \u001b[0;36m20\u001b[0m\u001b[0;34m)\u001b[0m\u001b[0;34m)\u001b[0m\u001b[0;34m\u001b[0m\u001b[0m\n\u001b[0m\u001b[1;32m    319\u001b[0m         \u001b[0;32melse\u001b[0m\u001b[0;34m:\u001b[0m\u001b[0;34m\u001b[0m\u001b[0m\n\u001b[1;32m    320\u001b[0m             \u001b[0mprint\u001b[0m\u001b[0;34m(\u001b[0m\u001b[0mself\u001b[0m\u001b[0;34m.\u001b[0m\u001b[0m_jdf\u001b[0m\u001b[0;34m.\u001b[0m\u001b[0mshowString\u001b[0m\u001b[0;34m(\u001b[0m\u001b[0mn\u001b[0m\u001b[0;34m,\u001b[0m \u001b[0mint\u001b[0m\u001b[0;34m(\u001b[0m\u001b[0mtruncate\u001b[0m\u001b[0;34m)\u001b[0m\u001b[0;34m)\u001b[0m\u001b[0;34m)\u001b[0m\u001b[0;34m\u001b[0m\u001b[0m\n",
      "\u001b[0;32m/usr/local/spark/python/lib/py4j-0.10.4-src.zip/py4j/java_gateway.py\u001b[0m in \u001b[0;36m__call__\u001b[0;34m(self, *args)\u001b[0m\n\u001b[1;32m   1129\u001b[0m             \u001b[0mproto\u001b[0m\u001b[0;34m.\u001b[0m\u001b[0mEND_COMMAND_PART\u001b[0m\u001b[0;34m\u001b[0m\u001b[0m\n\u001b[1;32m   1130\u001b[0m \u001b[0;34m\u001b[0m\u001b[0m\n\u001b[0;32m-> 1131\u001b[0;31m         \u001b[0manswer\u001b[0m \u001b[0;34m=\u001b[0m \u001b[0mself\u001b[0m\u001b[0;34m.\u001b[0m\u001b[0mgateway_client\u001b[0m\u001b[0;34m.\u001b[0m\u001b[0msend_command\u001b[0m\u001b[0;34m(\u001b[0m\u001b[0mcommand\u001b[0m\u001b[0;34m)\u001b[0m\u001b[0;34m\u001b[0m\u001b[0m\n\u001b[0m\u001b[1;32m   1132\u001b[0m         return_value = get_return_value(\n\u001b[1;32m   1133\u001b[0m             answer, self.gateway_client, self.target_id, self.name)\n",
      "\u001b[0;32m/usr/local/spark/python/lib/py4j-0.10.4-src.zip/py4j/java_gateway.py\u001b[0m in \u001b[0;36msend_command\u001b[0;34m(self, command, retry, binary)\u001b[0m\n\u001b[1;32m    881\u001b[0m         \u001b[0mconnection\u001b[0m \u001b[0;34m=\u001b[0m \u001b[0mself\u001b[0m\u001b[0;34m.\u001b[0m\u001b[0m_get_connection\u001b[0m\u001b[0;34m(\u001b[0m\u001b[0;34m)\u001b[0m\u001b[0;34m\u001b[0m\u001b[0m\n\u001b[1;32m    882\u001b[0m         \u001b[0;32mtry\u001b[0m\u001b[0;34m:\u001b[0m\u001b[0;34m\u001b[0m\u001b[0m\n\u001b[0;32m--> 883\u001b[0;31m             \u001b[0mresponse\u001b[0m \u001b[0;34m=\u001b[0m \u001b[0mconnection\u001b[0m\u001b[0;34m.\u001b[0m\u001b[0msend_command\u001b[0m\u001b[0;34m(\u001b[0m\u001b[0mcommand\u001b[0m\u001b[0;34m)\u001b[0m\u001b[0;34m\u001b[0m\u001b[0m\n\u001b[0m\u001b[1;32m    884\u001b[0m             \u001b[0;32mif\u001b[0m \u001b[0mbinary\u001b[0m\u001b[0;34m:\u001b[0m\u001b[0;34m\u001b[0m\u001b[0m\n\u001b[1;32m    885\u001b[0m                 \u001b[0;32mreturn\u001b[0m \u001b[0mresponse\u001b[0m\u001b[0;34m,\u001b[0m \u001b[0mself\u001b[0m\u001b[0;34m.\u001b[0m\u001b[0m_create_connection_guard\u001b[0m\u001b[0;34m(\u001b[0m\u001b[0mconnection\u001b[0m\u001b[0;34m)\u001b[0m\u001b[0;34m\u001b[0m\u001b[0m\n",
      "\u001b[0;32m/usr/local/spark/python/lib/py4j-0.10.4-src.zip/py4j/java_gateway.py\u001b[0m in \u001b[0;36msend_command\u001b[0;34m(self, command)\u001b[0m\n\u001b[1;32m   1026\u001b[0m \u001b[0;34m\u001b[0m\u001b[0m\n\u001b[1;32m   1027\u001b[0m         \u001b[0;32mtry\u001b[0m\u001b[0;34m:\u001b[0m\u001b[0;34m\u001b[0m\u001b[0m\n\u001b[0;32m-> 1028\u001b[0;31m             \u001b[0manswer\u001b[0m \u001b[0;34m=\u001b[0m \u001b[0msmart_decode\u001b[0m\u001b[0;34m(\u001b[0m\u001b[0mself\u001b[0m\u001b[0;34m.\u001b[0m\u001b[0mstream\u001b[0m\u001b[0;34m.\u001b[0m\u001b[0mreadline\u001b[0m\u001b[0;34m(\u001b[0m\u001b[0;34m)\u001b[0m\u001b[0;34m[\u001b[0m\u001b[0;34m:\u001b[0m\u001b[0;34m-\u001b[0m\u001b[0;36m1\u001b[0m\u001b[0;34m]\u001b[0m\u001b[0;34m)\u001b[0m\u001b[0;34m\u001b[0m\u001b[0m\n\u001b[0m\u001b[1;32m   1029\u001b[0m             \u001b[0mlogger\u001b[0m\u001b[0;34m.\u001b[0m\u001b[0mdebug\u001b[0m\u001b[0;34m(\u001b[0m\u001b[0;34m\"Answer received: {0}\"\u001b[0m\u001b[0;34m.\u001b[0m\u001b[0mformat\u001b[0m\u001b[0;34m(\u001b[0m\u001b[0manswer\u001b[0m\u001b[0;34m)\u001b[0m\u001b[0;34m)\u001b[0m\u001b[0;34m\u001b[0m\u001b[0m\n\u001b[1;32m   1030\u001b[0m             \u001b[0;32mif\u001b[0m \u001b[0manswer\u001b[0m\u001b[0;34m.\u001b[0m\u001b[0mstartswith\u001b[0m\u001b[0;34m(\u001b[0m\u001b[0mproto\u001b[0m\u001b[0;34m.\u001b[0m\u001b[0mRETURN_MESSAGE\u001b[0m\u001b[0;34m)\u001b[0m\u001b[0;34m:\u001b[0m\u001b[0;34m\u001b[0m\u001b[0m\n",
      "\u001b[0;32m/opt/conda/lib/python3.5/socket.py\u001b[0m in \u001b[0;36mreadinto\u001b[0;34m(self, b)\u001b[0m\n\u001b[1;32m    574\u001b[0m         \u001b[0;32mwhile\u001b[0m \u001b[0;32mTrue\u001b[0m\u001b[0;34m:\u001b[0m\u001b[0;34m\u001b[0m\u001b[0m\n\u001b[1;32m    575\u001b[0m             \u001b[0;32mtry\u001b[0m\u001b[0;34m:\u001b[0m\u001b[0;34m\u001b[0m\u001b[0m\n\u001b[0;32m--> 576\u001b[0;31m                 \u001b[0;32mreturn\u001b[0m \u001b[0mself\u001b[0m\u001b[0;34m.\u001b[0m\u001b[0m_sock\u001b[0m\u001b[0;34m.\u001b[0m\u001b[0mrecv_into\u001b[0m\u001b[0;34m(\u001b[0m\u001b[0mb\u001b[0m\u001b[0;34m)\u001b[0m\u001b[0;34m\u001b[0m\u001b[0m\n\u001b[0m\u001b[1;32m    577\u001b[0m             \u001b[0;32mexcept\u001b[0m \u001b[0mtimeout\u001b[0m\u001b[0;34m:\u001b[0m\u001b[0;34m\u001b[0m\u001b[0m\n\u001b[1;32m    578\u001b[0m                 \u001b[0mself\u001b[0m\u001b[0;34m.\u001b[0m\u001b[0m_timeout_occurred\u001b[0m \u001b[0;34m=\u001b[0m \u001b[0;32mTrue\u001b[0m\u001b[0;34m\u001b[0m\u001b[0m\n",
      "\u001b[0;31mKeyboardInterrupt\u001b[0m: "
     ]
    }
   ],
   "source": [
    "# skyid_imps_prep_df.show(100)\n",
    "skyid_imps_prep_df.write.parquet(\"/user/stefano.mazzucca/py_digitalizzazione/skyid_imps_1.parquet\",mode=\"overwrite\")"
   ]
  },
  {
   "cell_type": "code",
   "execution_count": null,
   "metadata": {
    "collapsed": true
   },
   "outputs": [],
   "source": [
    "#giorno\n",
    "skyid_imps_aggr_step0_df = spark.sql(\"select cookieid, `device-name`, `os-name`, `browser-name`, yyyymmdd from skyid_imps_prep group by 1,2,3,4,5\").persist()\n",
    "skyid_imps_aggr_step0_df.printSchema()\n",
    "skyid_imps_aggr_step0_df.createOrReplaceTempView(\"skyid_imps_aggr_step0\")"
   ]
  },
  {
   "cell_type": "code",
   "execution_count": null,
   "metadata": {
    "collapsed": true
   },
   "outputs": [],
   "source": [
    "skyid_imps_aggr_step0_df.show(100)"
   ]
  },
  {
   "cell_type": "code",
   "execution_count": null,
   "metadata": {
    "collapsed": true
   },
   "outputs": [],
   "source": [
    "#mese\n",
    "skyid_imps_aggr_step1_df = spark.sql(\"select cookieid, `device-name`, `os-name`, `browser-name`, mese from skyid_imps_prep group by 1,2,3,4,5\").persist()\n",
    "skyid_imps_aggr_step1_df.printSchema()\n",
    "skyid_imps_aggr_step1_df.createOrReplaceTempView(\"skyid_imps_aggr_step1\")"
   ]
  },
  {
   "cell_type": "code",
   "execution_count": null,
   "metadata": {
    "collapsed": true
   },
   "outputs": [],
   "source": [
    "skyid_imps_aggr_step1_df.show(100)"
   ]
  },
  {
   "cell_type": "code",
   "execution_count": null,
   "metadata": {
    "collapsed": true
   },
   "outputs": [],
   "source": [
    "#week\n",
    "skyid_imps_aggr_step2_df = spark.sql(\"select cookieid, `device-name`, `os-name`, `browser-name`, week from skyid_imps_prep group by 1,2,3,4,5\").persist()\n",
    "skyid_imps_aggr_step2_df.printSchema()\n",
    "skyid_imps_aggr_step2_df.createOrReplaceTempView(\"skyid_imps_aggr_step2\")"
   ]
  },
  {
   "cell_type": "code",
   "execution_count": null,
   "metadata": {
    "collapsed": true
   },
   "outputs": [],
   "source": [
    "skyid_imps_aggr_step2_df.show(100)"
   ]
  },
  {
   "cell_type": "code",
   "execution_count": null,
   "metadata": {
    "collapsed": true
   },
   "outputs": [],
   "source": [
    "#imps tot e per device type\n",
    "skyid_imps_aggr_step3_df = spark.sql(\"select cookieid, `device-name`, `os-name`, `browser-name`, count(*) as imps_tot, sum(flag_mobile) as imps_mobile, sum(flag_tablet) as imps_tablet, sum(flag_desktop) as imps_desktop from skyid_imps_prep group by 1,2,3,4\").persist()\n",
    "skyid_imps_aggr_step3_df.printSchema()\n",
    "skyid_imps_aggr_step3_df.createOrReplaceTempView(\"skyid_imps_aggr_step3\")"
   ]
  },
  {
   "cell_type": "code",
   "execution_count": null,
   "metadata": {
    "collapsed": true
   },
   "outputs": [],
   "source": [
    "skyid_imps_aggr_step3_df.show(100)"
   ]
  },
  {
   "cell_type": "code",
   "execution_count": null,
   "metadata": {
    "collapsed": true
   },
   "outputs": [],
   "source": [
    "#skyid_imps_aggr_step4_df=spark.sql(\"select skyid,count (distinct mese) as num_mesi ,count (distinct week) as num_week, count (distinct(yyyymmdd)) as num_giorni from (select skyid, cookieid, `device-name`, `os-name`, `browser-name` from cookieid_skyid where length(skyid)=48) as a left join (select cookieid, `device-name`, `os-name`, `browser-name`, yyyymmdd from  skyid_imps_aggr_step0) as b on (a.cookieid = b.cookieid and a.`device-name`=b.`device-name` and a.`os-name`=b.`os-name` and a.`browser-name`=b.`browser-name`) left join (select cookieid, `device-name`, `os-name`, `browser-name`, mese from  skyid_imps_aggr_step1) as c on (a.cookieid = c.cookieid and a.`device-name`=c.`device-name` and a.`os-name`=c.`os-name` and a.`browser-name`=c.`browser-name`) left join (select cookieid, `device-name`, `os-name`, `browser-name`, week from  skyid_imps_aggr_step2) as d on (a.cookieid = d.cookieid and a.`device-name`=d.`device-name` and a.`os-name`=d.`os-name` and a.`browser-name`=d.`browser-name`) group by 1\").persist()\n",
    "#skyid_imps_aggr_step4_df=skyid_imps_aggr_step4_df.na.fill(0)\n",
    "#skyid_imps_aggr_step4_df.printSchema()\n",
    "#skyid_imps_aggr_step4_df.createOrReplaceTempView(\"skyid_imps_aggr_step4\")"
   ]
  },
  {
   "cell_type": "code",
   "execution_count": null,
   "metadata": {
    "collapsed": true
   },
   "outputs": [],
   "source": [
    "skyid_imps_aggr_step4a_df=spark.sql(\"select skyid,count (distinct(yyyymmdd)) as num_giorni from (select skyid, cookieid, `device-name`, `os-name`, `browser-name` from cookieid_skyid where length(skyid)=48) as a left join (select cookieid, `device-name`, `os-name`, `browser-name`, yyyymmdd from  skyid_imps_aggr_step0) as b on (a.cookieid = b.cookieid and a.`device-name`=b.`device-name` and a.`os-name`=b.`os-name` and a.`browser-name`=b.`browser-name`) group by 1\").persist()\n",
    "skyid_imps_aggr_step4a_df=skyid_imps_aggr_step4a_df.na.fill(0)\n",
    "skyid_imps_aggr_step4a_df.printSchema()\n",
    "skyid_imps_aggr_step4a_df.createOrReplaceTempView(\"skyid_imps_aggr_step4a\")"
   ]
  },
  {
   "cell_type": "code",
   "execution_count": null,
   "metadata": {
    "collapsed": true
   },
   "outputs": [],
   "source": [
    "skyid_imps_aggr_step4a_df.printSchema()"
   ]
  },
  {
   "cell_type": "code",
   "execution_count": null,
   "metadata": {
    "collapsed": true
   },
   "outputs": [],
   "source": [
    "skyid_imps_aggr_step4a_df.show(100)"
   ]
  },
  {
   "cell_type": "code",
   "execution_count": null,
   "metadata": {
    "collapsed": true
   },
   "outputs": [],
   "source": [
    "skyid_imps_aggr_step4a_df.count()"
   ]
  },
  {
   "cell_type": "code",
   "execution_count": null,
   "metadata": {
    "collapsed": true
   },
   "outputs": [],
   "source": [
    "skyid_imps_aggr_step4b_df=spark.sql(\"select skyid,count (distinct mese) as num_mesi from (select skyid, cookieid, `device-name`, `os-name`, `browser-name` from cookieid_skyid where length(skyid)=48) as a left join (select cookieid, `device-name`, `os-name`, `browser-name`, mese from  skyid_imps_aggr_step1) as c on (a.cookieid = c.cookieid and a.`device-name`=c.`device-name` and a.`os-name`=c.`os-name` and a.`browser-name`=c.`browser-name`) group by 1\").persist()\n",
    "skyid_imps_aggr_step4b_df=skyid_imps_aggr_step4b_df.na.fill(0)\n",
    "skyid_imps_aggr_step4b_df.printSchema()\n",
    "skyid_imps_aggr_step4b_df.createOrReplaceTempView(\"skyid_imps_aggr_step4b\")"
   ]
  },
  {
   "cell_type": "code",
   "execution_count": null,
   "metadata": {
    "collapsed": true
   },
   "outputs": [],
   "source": [
    "skyid_imps_aggr_step4b_df.show(100)"
   ]
  },
  {
   "cell_type": "code",
   "execution_count": null,
   "metadata": {
    "collapsed": true
   },
   "outputs": [],
   "source": [
    "skyid_imps_aggr_step4b_df.count()"
   ]
  },
  {
   "cell_type": "code",
   "execution_count": null,
   "metadata": {
    "collapsed": true
   },
   "outputs": [],
   "source": [
    "skyid_imps_aggr_step4c_df=spark.sql(\"select skyid ,count (distinct week) as num_week from (select skyid, cookieid, `device-name`, `os-name`, `browser-name` from cookieid_skyid where length(skyid)=48) as a left join (select cookieid, `device-name`, `os-name`, `browser-name`, week from  skyid_imps_aggr_step2) as d on (a.cookieid = d.cookieid and a.`device-name`=d.`device-name` and a.`os-name`=d.`os-name` and a.`browser-name`=d.`browser-name`) group by 1\").persist()\n",
    "skyid_imps_aggr_step4c_df=skyid_imps_aggr_step4c_df.na.fill(0)\n",
    "skyid_imps_aggr_step4c_df.printSchema()\n",
    "skyid_imps_aggr_step4c_df.createOrReplaceTempView(\"skyid_imps_aggr_step4c\")"
   ]
  },
  {
   "cell_type": "code",
   "execution_count": null,
   "metadata": {
    "collapsed": true
   },
   "outputs": [],
   "source": [
    "skyid_imps_aggr_step4c_df.show(100)"
   ]
  },
  {
   "cell_type": "code",
   "execution_count": null,
   "metadata": {
    "collapsed": true
   },
   "outputs": [],
   "source": [
    "skyid_imps_aggr_step4c_df.count()"
   ]
  },
  {
   "cell_type": "code",
   "execution_count": null,
   "metadata": {
    "collapsed": true
   },
   "outputs": [],
   "source": [
    "#num device step 1\n",
    "skyid_imps_aggr_step5_df = spark.sql(\"select cookieid, `device-name`, `os-name`, `browser-name`, max(flag_mobile) as flag_mobile, max(flag_tablet) as flag_tablet, max(flag_desktop) as flag_desktop from skyid_imps_prep group by 1,2,3,4\").persist()\n",
    "skyid_imps_aggr_step5_df.printSchema()\n",
    "skyid_imps_aggr_step5_df.createOrReplaceTempView(\"skyid_imps_aggr_step5\")"
   ]
  },
  {
   "cell_type": "code",
   "execution_count": null,
   "metadata": {
    "collapsed": true
   },
   "outputs": [],
   "source": [
    "skyid_imps_aggr_step5_df.show(100)"
   ]
  },
  {
   "cell_type": "code",
   "execution_count": null,
   "metadata": {
    "collapsed": true
   },
   "outputs": [],
   "source": [
    "skyid_imps_aggr_step6_df = spark.sql(\"select skyid,count(distinct device_os) as num_device,  count(distinct case when flag_mobile=1 then device_os  else null end) as num_mobile,count(distinct case when flag_tablet=1 then device_os  else null end) as num_tablet,count(distinct case when flag_desktop=1 then device_os else null end) as num_desktop  from (select skyid, cookieid, `device-name`, `os-name`, `browser-name` from cookieid_skyid where length(skyid)=48) as a left join (select cookieid, `device-name`, `os-name`, `browser-name`, flag_mobile, flag_tablet, flag_desktop, concat(`device-name`,`os-name`) as device_os from  skyid_imps_aggr_step5) as b on (a.cookieid = b.cookieid and a.`device-name`=b.`device-name` and a.`os-name`=b.`os-name` and a.`browser-name`=b.`browser-name`) group by 1\").persist()\n",
    "skyid_imps_aggr_step6_df=skyid_imps_aggr_step6_df.na.fill(0)\n",
    "skyid_imps_aggr_step6_df.printSchema()\n",
    "skyid_imps_aggr_step6_df.createOrReplaceTempView(\"skyid_imps_aggr_step6\")"
   ]
  },
  {
   "cell_type": "code",
   "execution_count": null,
   "metadata": {
    "collapsed": true
   },
   "outputs": [],
   "source": [
    "skyid_imps_aggr_step6_df.show(100)"
   ]
  },
  {
   "cell_type": "code",
   "execution_count": null,
   "metadata": {
    "collapsed": true
   },
   "outputs": [],
   "source": [
    "skyid_imps_aggr_step6_df.count()"
   ]
  },
  {
   "cell_type": "code",
   "execution_count": null,
   "metadata": {
    "collapsed": true
   },
   "outputs": [],
   "source": [
    "skyid_imps_aggr_step7_df=spark.sql(\"select skyid, sum(imps_tot) as imps_tot,sum(imps_mobile) as imps_mobile, sum(imps_tablet) as imps_tablet, sum(imps_desktop) as imps_desktop from (select skyid, cookieid, `device-name`, `os-name`, `browser-name` from cookieid_skyid where length(skyid)=48) as a left join (select cookieid, `device-name`, `os-name`, `browser-name`, imps_tot, imps_mobile, imps_tablet, imps_desktop from  skyid_imps_aggr_step3) as b on (a.cookieid = b.cookieid and a.`device-name`=b.`device-name` and a.`os-name`=b.`os-name` and a.`browser-name`=b.`browser-name`) group by 1\").persist()\n",
    "skyid_imps_aggr_step7_df=skyid_imps_aggr_step7_df.na.fill(0)\n",
    "skyid_imps_aggr_step7_df.printSchema()\n",
    "skyid_imps_aggr_step7_df.createOrReplaceTempView(\"skyid_imps_aggr_step7\")"
   ]
  },
  {
   "cell_type": "code",
   "execution_count": null,
   "metadata": {
    "collapsed": true
   },
   "outputs": [],
   "source": [
    "skyid_imps_aggr_step7_df.show(100)"
   ]
  },
  {
   "cell_type": "code",
   "execution_count": null,
   "metadata": {
    "collapsed": true
   },
   "outputs": [],
   "source": [
    "skyid_imps_aggr_step7_df.count()"
   ]
  },
  {
   "cell_type": "code",
   "execution_count": null,
   "metadata": {
    "collapsed": true
   },
   "outputs": [],
   "source": [
    "import pyspark.sql.functions as F\n",
    "skyid_imps_prep_dow_df = skyid_imps_prep_df.withColumn('Sunday', F.expr(\"IF(weekday = 'Sunday', 1, 0)\")).withColumn('Monday', F.expr(\"IF(weekday = 'Monday', 1, 0)\")).withColumn('Tuesday', F.expr(\"IF(weekday = 'Tuesday', 1, 0)\")).withColumn('Wednesday', F.expr(\"IF(weekday = 'Wednesday', 1, 0)\")).withColumn('Thursday', F.expr(\"IF(weekday = 'Thursday', 1, 0)\")).withColumn('Friday', F.expr(\"IF(weekday = 'Friday', 1, 0)\")).withColumn('Saturday', F.expr(\"IF(weekday = 'Saturday', 1, 0)\"))\n",
    "skyid_imps_prep_dow_df.printSchema()\n",
    "skyid_imps_prep_dow_df.createOrReplaceTempView(\"skyid_imps_prep_dow\")"
   ]
  },
  {
   "cell_type": "code",
   "execution_count": null,
   "metadata": {
    "collapsed": true
   },
   "outputs": [],
   "source": [
    "skyid_imps_prep_dow_df.show(100)"
   ]
  },
  {
   "cell_type": "code",
   "execution_count": null,
   "metadata": {
    "collapsed": true
   },
   "outputs": [],
   "source": [
    "#weekday\n",
    "skyid_imps_aggr_step8_df = spark.sql(\"select skyid,count(distinct case when Monday=1 then yyyymmdd else null end) as num_monday,  count(distinct case when Tuesday=1 then yyyymmdd else null end) as num_tuesday,count(distinct case when Wednesday=1 then yyyymmdd else null end) as num_wednesday,count(distinct case when Thursday=1 then yyyymmdd else null end) as num_thursday,count(distinct case when Friday=1 then yyyymmdd else null end) as num_friday,count(distinct case when Saturday=1 then yyyymmdd else null end) as num_saturday,count(distinct case when Sunday=1 then yyyymmdd else null end) as num_sunday from (select skyid, cookieid, `device-name`, `os-name`, `browser-name` from cookieid_skyid where length(skyid)=48) as a left join (select cookieid, `device-name`, `os-name`, `browser-name`, yyyymmdd, Monday, Tuesday, Wednesday, Thursday, Friday, Saturday, Sunday from  skyid_imps_prep_dow) as b on (a.cookieid = b.cookieid and a.`device-name`=b.`device-name` and a.`os-name`=b.`os-name` and a.`browser-name`=b.`browser-name`) group by 1\").persist()\n",
    "skyid_imps_aggr_step8_df.printSchema()\n",
    "skyid_imps_aggr_step8_df.createOrReplaceTempView(\"skyid_imps_aggr_step8\")"
   ]
  },
  {
   "cell_type": "code",
   "execution_count": null,
   "metadata": {
    "collapsed": true
   },
   "outputs": [],
   "source": [
    "skyid_imps_aggr_step8_df.show(100)"
   ]
  },
  {
   "cell_type": "code",
   "execution_count": null,
   "metadata": {
    "collapsed": true
   },
   "outputs": [],
   "source": [
    "#weekday  imps\n",
    "skyid_imps_aggr_step9_df = spark.sql(\"select skyid,sum(case when Monday=1 then 1 else 0 end) as num_imps_monday,  sum(case when Tuesday=1 then 1 else 0 end) as num_imps_tuesday,sum(case when Wednesday=1 then 1 else 0 end) as num_imps_wednesday,sum(case when Thursday=1 then 1 else 0 end) as num_imps_thursday,sum(case when Friday=1 then 1 else 0 end) as num_imps_friday,sum(case when Saturday=1 then 1 else 0 end) as num_imps_saturday,sum(case when Sunday=1 then 1 else 0 end) as num_imps_sunday from (select skyid, cookieid, `device-name`, `os-name`, `browser-name` from cookieid_skyid where length(skyid)=48) as a left join (select cookieid, `device-name`, `os-name`, `browser-name`, yyyymmdd, Monday, Tuesday, Wednesday, Thursday, Friday, Saturday, Sunday from  skyid_imps_prep_dow) as b on (a.cookieid = b.cookieid and a.`device-name`=b.`device-name` and a.`os-name`=b.`os-name` and a.`browser-name`=b.`browser-name`) group by 1\").persist()\n",
    "skyid_imps_aggr_step9_df.printSchema()\n",
    "skyid_imps_aggr_step9_df.createOrReplaceTempView(\"skyid_imps_aggr_step9\")"
   ]
  },
  {
   "cell_type": "code",
   "execution_count": null,
   "metadata": {
    "collapsed": true
   },
   "outputs": [],
   "source": [
    "skyid_imps_aggr_step9_df.show(100)"
   ]
  },
  {
   "cell_type": "code",
   "execution_count": null,
   "metadata": {
    "collapsed": true
   },
   "outputs": [],
   "source": [
    "skyid_imps_prep_hour_df = skyid_imps_prep_df.withColumn('fascia_0_1', F.expr(\"IF(hour = 0, 1, 0)\")).withColumn('fascia_1_2', F.expr(\"IF(hour = 1, 1, 0)\")).withColumn('fascia_2_3', F.expr(\"IF(hour = 2, 1, 0)\")).withColumn('fascia_3_4', F.expr(\"IF(hour = 3, 1, 0)\")).withColumn('fascia_4_5', F.expr(\"IF(hour = 4, 1, 0)\")).withColumn('fascia_5_6', F.expr(\"IF(hour = 5, 1, 0)\")).withColumn('fascia_6_7', F.expr(\"IF(hour = 6, 1, 0)\")).withColumn('fascia_7_8', F.expr(\"IF(hour = 7, 1, 0)\")).withColumn('fascia_8_9', F.expr(\"IF(hour = 8, 1, 0)\")).withColumn('fascia_9_10', F.expr(\"IF(hour = 9, 1, 0)\")).withColumn('fascia_10_11', F.expr(\"IF(hour = 10, 1, 0)\")).withColumn('fascia_11_12', F.expr(\"IF(hour = 11, 1, 0)\")).withColumn('fascia_12_13', F.expr(\"IF(hour = 12, 1, 0)\")).withColumn('fascia_13_14', F.expr(\"IF(hour = 13, 1, 0)\")).withColumn('fascia_14_15', F.expr(\"IF(hour = 14, 1, 0)\")).withColumn('fascia_15_16', F.expr(\"IF(hour = 15, 1, 0)\")).withColumn('fascia_16_17', F.expr(\"IF(hour = 16, 1, 0)\")).withColumn('fascia_17_18', F.expr(\"IF(hour = 17, 1, 0)\")).withColumn('fascia_18_19', F.expr(\"IF(hour = 18, 1, 0)\")).withColumn('fascia_19_20', F.expr(\"IF(hour = 19, 1, 0)\")).withColumn('fascia_20_21', F.expr(\"IF(hour = 20, 1, 0)\")).withColumn('fascia_21_22', F.expr(\"IF(hour = 21, 1, 0)\")).withColumn('fascia_22_23', F.expr(\"IF(hour = 22, 1, 0)\")).withColumn('fascia_23_0', F.expr(\"IF(hour = 23, 1, 0)\"))\n",
    "skyid_imps_prep_hour_df.printSchema()\n",
    "skyid_imps_prep_hour_df.createOrReplaceTempView(\"skyid_imps_prep_hour\")"
   ]
  },
  {
   "cell_type": "code",
   "execution_count": null,
   "metadata": {
    "collapsed": true
   },
   "outputs": [],
   "source": [
    "skyid_imps_prep_hour_df.show(100)"
   ]
  },
  {
   "cell_type": "code",
   "execution_count": null,
   "metadata": {
    "collapsed": true
   },
   "outputs": [],
   "source": [
    "#hour of day imps\n",
    "skyid_imps_aggr_step10_df = spark.sql(\"select skyid,sum(case when fascia_0_1=1 then 1 else 0 end) as num_imps_0_1,   sum(case when fascia_1_2=1 then 1 else 0 end) as num_imps_1_2,sum(case when fascia_2_3=1 then 1 else 0 end) as num_imps_2_3, sum(case when fascia_3_4=1 then 1 else 0 end) as num_imps_3_4,sum(case when fascia_4_5=1 then 1 else 0 end) as num_imps_4_5,sum(case when fascia_5_6=1 then 1 else 0 end) as num_imps_5_6,sum(case when fascia_6_7=1 then 1 else 0 end) as num_imps_6_7,sum(case when fascia_7_8=1 then 1 else 0 end) as num_imps_7_8,sum(case when fascia_8_9=1 then 1 else 0 end) as num_imps_8_9,sum(case when fascia_9_10=1 then 1 else 0 end) as num_imps_9_10,sum(case when fascia_10_11=1 then 1 else 0 end) as num_imps_10_11, sum(case when fascia_11_12=1 then 1 else 0 end) as num_imps_11_12,sum(case when fascia_12_13=1 then 1 else 0 end) as num_imps_12_13,sum(case when fascia_13_14=1 then 1 else 0 end) as num_imps_13_14,sum(case when fascia_14_15=1 then 1 else 0 end) as num_imps_14_15,sum(case when fascia_15_16=1 then 1 else 0 end) as num_imps_15_16,sum(case when fascia_16_17=1 then 1 else 0 end) as num_imps_16_17,sum(case when fascia_17_18=1 then 1 else 0 end) as num_imps_17_18,sum(case when fascia_18_19=1 then 1 else 0 end) as num_imps_18_19,sum(case when fascia_19_20=1 then 1 else 0 end) as num_imps_19_20,sum(case when fascia_20_21=1 then 1 else 0 end) as num_imps_20_21, sum(case when fascia_21_22=1 then 1 else 0 end) as num_imps_21_22,   sum(case when fascia_22_23=1 then 1 else 0 end) as num_imps_22_23,   sum(case when fascia_23_0=1 then 1 else 0 end) as num_imps_23_0   from (select skyid, cookieid, `device-name`, `os-name`, `browser-name` from cookieid_skyid where length(skyid)=48) as a left join (select cookieid, `device-name`, `os-name`, `browser-name`, yyyymmdd, fascia_0_1,fascia_1_2,fascia_2_3,fascia_3_4,fascia_4_5,fascia_5_6,fascia_6_7,fascia_7_8,fascia_8_9,fascia_9_10,fascia_10_11,fascia_11_12,fascia_12_13,fascia_13_14,fascia_14_15,fascia_15_16,fascia_16_17,fascia_17_18,fascia_18_19,fascia_19_20,fascia_20_21,fascia_21_22,fascia_22_23,fascia_23_0 from  skyid_imps_prep_hour) as b on (a.cookieid = b.cookieid and a.`device-name`=b.`device-name` and a.`os-name`=b.`os-name` and a.`browser-name`=b.`browser-name`) group by 1\").persist()\n",
    "skyid_imps_aggr_step10_df.printSchema()\n",
    "skyid_imps_aggr_step10_df.createOrReplaceTempView(\"skyid_imps_aggr_step10\")"
   ]
  },
  {
   "cell_type": "code",
   "execution_count": null,
   "metadata": {
    "collapsed": true
   },
   "outputs": [],
   "source": [
    "skyid_imps_aggr_step10_df.show(100)"
   ]
  },
  {
   "cell_type": "code",
   "execution_count": null,
   "metadata": {
    "collapsed": true
   },
   "outputs": [],
   "source": [
    "skyid_imps_aggr_step6_df.write.parquet(\"201809_sm_skyid_imps_aggr_step6\",mode=\"overwrite\")"
   ]
  },
  {
   "cell_type": "code",
   "execution_count": null,
   "metadata": {
    "collapsed": true
   },
   "outputs": [],
   "source": [
    "skyid_imps_aggr1_df= spark.read.format('parquet').load('hdfs:///user/silvia/201809_sm_skyid_imps_aggr_step6')\n",
    "skyid_imps_aggr1_df.printSchema()\n",
    "skyid_imps_aggr1_df.createOrReplaceTempView(\"skyid_imps_aggr1\")"
   ]
  },
  {
   "cell_type": "code",
   "execution_count": null,
   "metadata": {
    "collapsed": true
   },
   "outputs": [],
   "source": [
    "skyid_imps_aggr_step7_df.write.parquet(\"201809_sm_skyid_imps_aggr_step7\",mode=\"overwrite\")"
   ]
  },
  {
   "cell_type": "code",
   "execution_count": null,
   "metadata": {
    "collapsed": true
   },
   "outputs": [],
   "source": [
    "skyid_imps_aggr2_df= spark.read.format('parquet').load('hdfs:///user/silvia/201809_sm_skyid_imps_aggr_step7')\n",
    "skyid_imps_aggr2_df.printSchema()\n",
    "skyid_imps_aggr2_df.createOrReplaceTempView(\"skyid_imps_aggr2\")"
   ]
  },
  {
   "cell_type": "code",
   "execution_count": null,
   "metadata": {
    "collapsed": true
   },
   "outputs": [],
   "source": [
    "skyid_imps_aggr_step4a_df.write.parquet(\"201809_sm_skyid_imps_aggr_step4a\",mode=\"overwrite\")"
   ]
  },
  {
   "cell_type": "code",
   "execution_count": null,
   "metadata": {
    "collapsed": true
   },
   "outputs": [],
   "source": [
    "skyid_imps_aggr3_df= spark.read.format('parquet').load('hdfs:///user/silvia/201809_sm_skyid_imps_aggr_step4a')\n",
    "skyid_imps_aggr3_df.printSchema()\n",
    "skyid_imps_aggr3_df.createOrReplaceTempView(\"skyid_imps_aggr3\")"
   ]
  },
  {
   "cell_type": "code",
   "execution_count": null,
   "metadata": {
    "collapsed": true
   },
   "outputs": [],
   "source": [
    "skyid_imps_aggr_step4b_df.write.parquet(\"201809_sm_skyid_imps_aggr_step4b\",mode=\"overwrite\")"
   ]
  },
  {
   "cell_type": "code",
   "execution_count": null,
   "metadata": {
    "collapsed": true
   },
   "outputs": [],
   "source": [
    "skyid_imps_aggr4_df= spark.read.format('parquet').load('hdfs:///user/silvia/201809_sm_skyid_imps_aggr_step4b')\n",
    "skyid_imps_aggr4_df.printSchema()\n",
    "skyid_imps_aggr4_df.createOrReplaceTempView(\"skyid_imps_aggr4\")"
   ]
  },
  {
   "cell_type": "code",
   "execution_count": null,
   "metadata": {
    "collapsed": true
   },
   "outputs": [],
   "source": [
    "skyid_imps_aggr_step4c_df.write.parquet(\"201809_sm_skyid_imps_aggr_step4c\",mode=\"overwrite\")"
   ]
  },
  {
   "cell_type": "code",
   "execution_count": null,
   "metadata": {
    "collapsed": true
   },
   "outputs": [],
   "source": [
    "skyid_imps_aggr5_df= spark.read.format('parquet').load('hdfs:///user/silvia/201809_sm_skyid_imps_aggr_step4c')\n",
    "skyid_imps_aggr5_df.printSchema()\n",
    "skyid_imps_aggr5_df.createOrReplaceTempView(\"skyid_imps_aggr5\")"
   ]
  },
  {
   "cell_type": "code",
   "execution_count": null,
   "metadata": {
    "collapsed": true
   },
   "outputs": [],
   "source": [
    "skyid_imps_aggr_step8_df.write.parquet(\"201809_sm_skyid_imps_aggr_step8\",mode=\"overwrite\")"
   ]
  },
  {
   "cell_type": "code",
   "execution_count": null,
   "metadata": {
    "collapsed": true
   },
   "outputs": [],
   "source": [
    "skyid_imps_aggr6_df= spark.read.format('parquet').load('hdfs:///user/silvia/201809_sm_skyid_imps_aggr_step8')\n",
    "skyid_imps_aggr6_df.printSchema()\n",
    "skyid_imps_aggr6_df.createOrReplaceTempView(\"skyid_imps_aggr6\")"
   ]
  },
  {
   "cell_type": "code",
   "execution_count": null,
   "metadata": {
    "collapsed": true
   },
   "outputs": [],
   "source": [
    "skyid_imps_aggr_step9_df.write.parquet(\"201809_sm_skyid_imps_aggr_step9\",mode=\"overwrite\")"
   ]
  },
  {
   "cell_type": "code",
   "execution_count": null,
   "metadata": {
    "collapsed": true
   },
   "outputs": [],
   "source": [
    "skyid_imps_aggr7_df= spark.read.format('parquet').load('hdfs:///user/silvia/201809_sm_skyid_imps_aggr_step9')\n",
    "skyid_imps_aggr7_df.printSchema()\n",
    "skyid_imps_aggr7_df.createOrReplaceTempView(\"skyid_imps_aggr7\")"
   ]
  },
  {
   "cell_type": "code",
   "execution_count": null,
   "metadata": {
    "collapsed": true
   },
   "outputs": [],
   "source": [
    "skyid_imps_aggr_step10_df.write.parquet(\"201809_sm_skyid_imps_aggr_step10\",mode=\"overwrite\")"
   ]
  },
  {
   "cell_type": "code",
   "execution_count": null,
   "metadata": {
    "collapsed": true
   },
   "outputs": [],
   "source": [
    "skyid_imps_aggr8_df= spark.read.format('parquet').load('hdfs:///user/silvia/201809_sm_skyid_imps_aggr_step10')\n",
    "skyid_imps_aggr8_df.printSchema()\n",
    "skyid_imps_aggr8_df.createOrReplaceTempView(\"skyid_imps_aggr8\")"
   ]
  },
  {
   "cell_type": "code",
   "execution_count": null,
   "metadata": {
    "collapsed": true
   },
   "outputs": [],
   "source": [
    "skyid_imps_aggr_finale_df= spark.sql(\"select a.skyid, num_mesi , num_week, num_giorni, imps_tot, imps_mobile, imps_tablet, imps_desktop, num_device, num_mobile, num_tablet, num_desktop,num_monday,num_tuesday,num_wednesday,num_thursday,num_friday,num_saturday,num_sunday,num_imps_monday,num_imps_tuesday,num_imps_wednesday,num_imps_thursday,num_imps_friday,num_imps_saturday,num_imps_sunday,num_imps_0_1,num_imps_1_2,num_imps_2_3,num_imps_3_4,num_imps_4_5,num_imps_5_6,num_imps_6_7,num_imps_7_8,num_imps_8_9,num_imps_9_10,num_imps_10_11,num_imps_11_12,num_imps_12_13,num_imps_13_14,num_imps_14_15,num_imps_15_16,num_imps_16_17,num_imps_17_18,num_imps_18_19,num_imps_19_20,num_imps_20_21,num_imps_21_22,num_imps_22_23,num_imps_23_0 from (select a.skyid, num_mesi , num_week, num_giorni from skyid_imps_aggr3 as a join skyid_imps_aggr4 as b on a.skyid=b.skyid join skyid_imps_aggr5 as c on a.skyid=c.skyid) as a inner join (select skyid, num_device, num_mobile, num_tablet, num_desktop from skyid_imps_aggr1) as b on a.skyid=b.skyid inner join (select skyid, imps_tot, imps_mobile, imps_tablet, imps_desktop from skyid_imps_aggr2) as c on a.skyid=c.skyid inner join (select a.*, num_monday,num_tuesday,num_wednesday,num_thursday,num_friday,num_saturday,num_sunday,num_imps_monday,num_imps_tuesday,num_imps_wednesday,num_imps_thursday,num_imps_friday,num_imps_saturday,num_imps_sunday from skyid_imps_aggr8 as a join skyid_imps_aggr7 as b on a.skyid=b.skyid join skyid_imps_aggr6 as c on a.skyid=c.skyid) as d on a.skyid=d.skyid\").persist()"
   ]
  },
  {
   "cell_type": "code",
   "execution_count": null,
   "metadata": {
    "collapsed": true
   },
   "outputs": [],
   "source": [
    "skyid_imps_aggr_finale_df.show(100)"
   ]
  },
  {
   "cell_type": "code",
   "execution_count": null,
   "metadata": {
    "collapsed": true
   },
   "outputs": [],
   "source": [
    "skyid_imps_aggr_finale_df.count()"
   ]
  },
  {
   "cell_type": "code",
   "execution_count": null,
   "metadata": {
    "collapsed": true
   },
   "outputs": [],
   "source": [
    "skyid_imps_aggr_finale_df.printSchema()\n",
    "skyid_imps_aggr_finale_df.createOrReplaceTempView(\"skyid_imps_aggr_finale\")"
   ]
  },
  {
   "cell_type": "code",
   "execution_count": null,
   "metadata": {
    "collapsed": true
   },
   "outputs": [],
   "source": [
    "skyid_imps_aggr2_finale_df= spark.sql(\"select *, num_mobile/num_device as perc_mobile, num_tablet/num_device as perc_tablet, num_desktop/num_device as perc_desktop, imps_mobile/imps_tot as perc_imps_mobile, imps_tablet/imps_tot as perc_imps_tablet, imps_desktop/imps_tot as perc_imps_desktop, imps_tot/num_giorni as num_imps_per_giorno, imps_tot/num_mesi as num_imps_per_mese, imps_tot/num_week as num_imps_per_week, num_monday/num_giorni as perc_monday, num_tuesday/num_giorni as perc_tuesday, num_wednesday/num_giorni as perc_wednesday, num_thursday/num_giorni as perc_thursday, num_friday/num_giorni as perc_friday, num_saturday/num_giorni as perc_saturday, num_sunday/num_giorni as perc_sunday, num_imps_monday/imps_tot as perc_imps_monday, num_imps_tuesday/imps_tot as perc_imps_tuesday, num_imps_wednesday/imps_tot as perc_imps_wednesday, num_imps_thursday/imps_tot as perc_imps_thursday, num_imps_friday/imps_tot as perc_imps_friday, num_imps_saturday/imps_tot as perc_imps_saturday, num_imps_sunday/imps_tot as perc_imps_sunday, num_imps_0_1/imps_tot as perc_imps_0_1,num_imps_1_2/imps_tot as perc_imps_1_2,num_imps_2_3/imps_tot as perc_imps_2_3,num_imps_3_4/imps_tot as perc_imps_3_4,num_imps_4_5/imps_tot as perc_imps_4_5,num_imps_5_6/imps_tot as perc_imps_5_6,num_imps_6_7/imps_tot as perc_imps_6_7,num_imps_7_8/imps_tot as perc_imps_7_8,num_imps_8_9/imps_tot as perc_imps_8_9,num_imps_9_10/imps_tot as perc_imps_9_10,num_imps_10_11/imps_tot as perc_imps_10_11,num_imps_11_12/imps_tot as perc_imps_11_12,num_imps_12_13/imps_tot as perc_imps_12_13,num_imps_13_14/imps_tot as perc_imps_13_14,num_imps_14_15/imps_tot as perc_imps_14_15,num_imps_15_16/imps_tot as perc_imps_15_16,num_imps_16_17/imps_tot as perc_imps_16_17,num_imps_17_18/imps_tot as perc_imps_17_18,num_imps_18_19/imps_tot as perc_imps_18_19,num_imps_19_20/imps_tot as perc_imps_19_20,num_imps_20_21/imps_tot as perc_imps_20_21,num_imps_21_22/imps_tot as perc_imps_21_22,num_imps_22_23/imps_tot as perc_imps_22_23,num_imps_23_0/imps_tot as perc_imps_23_0 from skyid_imps_aggr_finale\").persist()"
   ]
  },
  {
   "cell_type": "code",
   "execution_count": null,
   "metadata": {
    "collapsed": true
   },
   "outputs": [],
   "source": [
    "skyid_imps_aggr2_finale_df.show(100)"
   ]
  },
  {
   "cell_type": "code",
   "execution_count": null,
   "metadata": {
    "collapsed": true
   },
   "outputs": [],
   "source": [
    "skyid_imps_aggr2_finale_df.count()"
   ]
  },
  {
   "cell_type": "code",
   "execution_count": null,
   "metadata": {
    "collapsed": true
   },
   "outputs": [],
   "source": [
    "skyid_imps_aggr2_finale_df.printSchema()\n",
    "skyid_imps_aggr2_finale_df.createOrReplaceTempView(\"skyid_imps_aggr2_finale\")"
   ]
  },
  {
   "cell_type": "code",
   "execution_count": null,
   "metadata": {
    "collapsed": true
   },
   "outputs": [],
   "source": [
    "spark.sql(\"select count(distinct skyid) from skyid_imps_aggr2_finale\").show()"
   ]
  },
  {
   "cell_type": "code",
   "execution_count": null,
   "metadata": {
    "collapsed": true
   },
   "outputs": [],
   "source": [
    "skyid_imps_aggr2_finale_df.write.parquet(\"201809_sm_skyid_imps_aggr_finale\",mode=\"overwrite\")"
   ]
  },
  {
   "cell_type": "code",
   "execution_count": null,
   "metadata": {
    "collapsed": true
   },
   "outputs": [],
   "source": [
    "skyid_imps_aggr2_finale_df.show(10)"
   ]
  },
  {
   "cell_type": "code",
   "execution_count": null,
   "metadata": {
    "collapsed": true
   },
   "outputs": [],
   "source": [
    "skyid_imps_aggr2_finale_df.count()"
   ]
  }
 ],
 "metadata": {
  "kernelspec": {
   "display_name": "Python 3",
   "language": "python",
   "name": "python3"
  },
  "language_info": {
   "codemirror_mode": {
    "name": "ipython",
    "version": 3
   },
   "file_extension": ".py",
   "mimetype": "text/x-python",
   "name": "python",
   "nbconvert_exporter": "python",
   "pygments_lexer": "ipython3",
   "version": "3.5.3"
  }
 },
 "nbformat": 4,
 "nbformat_minor": 2
}
