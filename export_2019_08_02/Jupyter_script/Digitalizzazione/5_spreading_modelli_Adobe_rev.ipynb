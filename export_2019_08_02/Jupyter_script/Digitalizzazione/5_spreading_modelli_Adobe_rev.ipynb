{
 "cells": [
  {
   "cell_type": "code",
   "execution_count": 2,
   "metadata": {
    "collapsed": true
   },
   "outputs": [],
   "source": [
    "%run ../../connection.python.py"
   ]
  },
  {
   "cell_type": "code",
   "execution_count": 3,
   "metadata": {
    "collapsed": true
   },
   "outputs": [],
   "source": [
    "path_adobe =  '/user/matteo.ballerinipuviani/dig_gen_giu_2018_df_pulito.parquet'\n",
    "#path_test_3 =  \"/user/emma.cambieri/GOLDEN_SET_DIGITALIZZAZIONE_2019_FINALI/golden_lugl_dic_1_0scelti_e_Null.parquet\"\n",
    "\n",
    "\n",
    "path_model_generico = \"/user/matteo.ballerinipuviani/PREDICTIONSDIGITALIZZAZIONE/model_generici_def.parquet\"\n",
    "path_model_fan = \"/user/matteo.ballerinipuviani/PREDICTIONSDIGITALIZZAZIONE/model_fan_def.parquet\"\n",
    "path_model_social = \"/user/matteo.ballerinipuviani/PREDICTIONSDIGITALIZZAZIONE/model_social_definitivo_davvero.parquet\"\n",
    "\n",
    "\n",
    "\n",
    "path_spreading_model_generico = \"/user/matteo.ballerinipuviani/PREDICTIONSDIGITALIZZAZIONE_LUG_DIC/probability_generico_con_decili.parquet\"\n",
    "path_spreading_model_fan = \"/user/matteo.ballerinipuviani/PREDICTIONSDIGITALIZZAZIONE_LUG_DIC/probability_fan_con_decili.parquet\"\n",
    "path_spreading_model_social = \"/user/matteo.ballerinipuviani/PREDICTIONSDIGITALIZZAZIONE_LUG_DIC/probability_social_con_decili.parquet\"\n",
    "\n"
   ]
  },
  {
   "cell_type": "code",
   "execution_count": 4,
   "metadata": {
    "collapsed": true
   },
   "outputs": [],
   "source": [
    "adobe = spark.read.format('parquet').load(path_adobe).persist()\n",
    "\n",
    "#testData3 = spark.read.format('parquet').load(path_test_3).persist()"
   ]
  },
  {
   "cell_type": "markdown",
   "metadata": {},
   "source": [
    "###############"
   ]
  },
  {
   "cell_type": "code",
   "execution_count": 5,
   "metadata": {
    "collapsed": true
   },
   "outputs": [],
   "source": [
    "adobe = adobe.withColumnRenamed('social_network', 'social_network_da_scartare')\n",
    "adobe.createOrReplaceTempView('adobe')\n",
    "adobe= spark.sql('SELECT *, CASE WHEN(social_network_da_scartare is null) THEN \"no_social\" ELSE social_network_da_scartare END AS social_network FROM adobe')\n",
    "adobe= adobe.drop('social_network_da_scartare')"
   ]
  },
  {
   "cell_type": "code",
   "execution_count": 5,
   "metadata": {
    "collapsed": true
   },
   "outputs": [],
   "source": [
    "#prova_social = spark.sql('SELECT social_network_2, count(ext_id) as count_ext_id FROM testData group by social_network_2')"
   ]
  },
  {
   "cell_type": "code",
   "execution_count": 6,
   "metadata": {
    "collapsed": true
   },
   "outputs": [],
   "source": [
    "#prova_social.show()"
   ]
  },
  {
   "cell_type": "markdown",
   "metadata": {},
   "source": [
    "###############"
   ]
  },
  {
   "cell_type": "code",
   "execution_count": 6,
   "metadata": {
    "collapsed": true
   },
   "outputs": [],
   "source": [
    "string_columns= [\"social_network\", \"tipo_device\", \"ricorrenza_corporate\", \"ricorrenza_tg24\", \"ricorrenza_sport\",\n",
    "                      \"ricorrenza_appgtv\", \"ricorrenza_appxfactor\", \"ricorrenza_appsport\", \"ricorrenza_appwsc\",\n",
    "                      \"ricorrenza_corporate_appwsc_appgtv\", \"ricorrenza_editoriale\", \"ricorrenza_web\", \"ricorrenza_app\",\n",
    "                      \"ricorrenza_totale\"]\n",
    "for c in string_columns:\n",
    "    adobe = adobe.withColumn(c, adobe[c].cast('string'))\n",
    "\n",
    "avg_columns= [\"media_visite_corporate\",\"media_visite_tg24\", \"media_visite_sport\",\n",
    "                    \"media_visite_appgtv\",\"media_visite_appxfactor\",\"media_visite_appsport\",\"media_visite_appwsc\",\n",
    "                    \"avg_visite_mese_web\", \"percentuale_mobile\",\n",
    "                    \"percentuale_desktop\", \"percentuale_other\", \"durata_media_visite_corporate\", \"durata_media_visite_tg24\",\n",
    "                     \"durata_media_visite_sport\", \"durata_media_visite_appgtv\", \"durata_media_visite_appxfactor\", \"durata_media_visite_appsport\",\n",
    "                    \"durata_media_visite_appwsc\", \"avg_visite_mese_corporate_appwsc_appgtv\", \"avg_visite_mese_editoriale\", \"avg_visite_mese_app\",\n",
    "                     \"avg_sec_corporate_appwsc_appgtv\",\"avg_sec_editoriale\", \"avg_sec_web\", \"avg_sec_app\"]\n",
    "\n",
    "for cols in avg_columns:\n",
    "    adobe= adobe.withColumn(cols, adobe[cols].cast('float'))\n",
    "        \n",
    "integ_columns = adobe.drop(\"ext_id\",\"social_network\", \"tipo_device\", \"ricorrenza_corporate\", \"ricorrenza_tg24\", \"ricorrenza_sport\",\n",
    "                      \"ricorrenza_appgtv\", \"ricorrenza_appxfactor\", \"ricorrenza_appsport\", \"ricorrenza_appwsc\",\n",
    "                      \"ricorrenza_corporate_appwsc_appgtv\", \"ricorrenza_editoriale\", \"ricorrenza_web\", \"ricorrenza_app\",\n",
    "                      \"ricorrenza_totale\", \"media_visite_corporate\",\"media_visite_tg24\", \"media_visite_sport\",\n",
    "                    \"media_visite_appgtv\",\"media_visite_appxfactor\",\"media_visite_appsport\",\"media_visite_appwsc\",\n",
    "                    \"avg_visite_mese_web\", \"percentuale_mobile\",\n",
    "                    \"percentuale_desktop\", \"percentuale_other\", \"durata_media_visite_corporate\", \"durata_media_visite_tg24\",\n",
    "                     \"durata_media_visite_sport\", \"durata_media_visite_appgtv\", \"durata_media_visite_appxfactor\", \"durata_media_visite_appsport\",\n",
    "                    \"durata_media_visite_appwsc\", \"avg_visite_mese_corporate_appwsc_appgtv\", \"avg_visite_mese_editoriale\", \"avg_visite_mese_app\",\n",
    "                     \"avg_sec_corporate_appwsc_appgtv\", \"avg_sec_editoriale\", \"avg_sec_web\", \"avg_sec_app\").columns\n",
    "\n",
    "\n",
    "for col_int in integ_columns:\n",
    "  adobe = adobe.withColumn(col_int,adobe[col_int].cast(\"integer\"))\n",
    "\n",
    "#adobe.printSchema()"
   ]
  },
  {
   "cell_type": "markdown",
   "metadata": {},
   "source": [
    "## Creo adobe_test e adobe_0_esclusi dallo spreading del modello:"
   ]
  },
  {
   "cell_type": "code",
   "execution_count": 7,
   "metadata": {
    "collapsed": true
   },
   "outputs": [],
   "source": [
    "#0 da escludere dal test:\n",
    "adobe_0_esclusi= adobe.filter('tipo_device == \"desktop\" and visite_app == 0 and visite_web == 1')\n",
    "adobe_0_esclusi = adobe_0_esclusi.withColumn('score_digital', lit(0))\n",
    "adobe_0_esclusi = adobe_0_esclusi.withColumn('prob_1_int',adobe_0_esclusi['score_digital'].cast(\"long\"))"
   ]
  },
  {
   "cell_type": "code",
   "execution_count": 8,
   "metadata": {
    "collapsed": true
   },
   "outputs": [],
   "source": [
    "#adobe_0_esclusi.count()"
   ]
  },
  {
   "cell_type": "code",
   "execution_count": 9,
   "metadata": {
    "collapsed": true
   },
   "outputs": [],
   "source": [
    "adobe_test = adobe.filter('tipo_device != \"desktop\" or visite_app != 0 or visite_web != 1')"
   ]
  },
  {
   "cell_type": "code",
   "execution_count": 11,
   "metadata": {
    "collapsed": true
   },
   "outputs": [],
   "source": [
    "#adobe_test.count()"
   ]
  },
  {
   "cell_type": "code",
   "execution_count": 12,
   "metadata": {
    "collapsed": true,
    "scrolled": false
   },
   "outputs": [],
   "source": [
    "#col_test = testData.columns\n",
    "#col_golden_train = testData3.columns\n",
    "\n",
    "#print(len(set(col_test).intersection(col_golden_train)))\n",
    "\n",
    "#testData2.printSchema()"
   ]
  },
  {
   "cell_type": "code",
   "execution_count": null,
   "metadata": {
    "collapsed": true
   },
   "outputs": [],
   "source": [
    "#print(len(testData.columns))      "
   ]
  },
  {
   "cell_type": "code",
   "execution_count": null,
   "metadata": {
    "collapsed": true
   },
   "outputs": [],
   "source": [
    "#testData.printSchema()"
   ]
  },
  {
   "cell_type": "code",
   "execution_count": 13,
   "metadata": {
    "collapsed": true
   },
   "outputs": [],
   "source": [
    "adobe_test = adobe_test.drop('totale_visite',  'numero_mesi_corporate', 'numero_mesi_tg24', 'numero_mesi_sport', 'numero_mesi_appwsc',  'numero_mesi_appgtv', 'numero_mesi_appsport', 'numero_mesi_appxfactor', 'visite_totali_corporate',  'visite_totali_tg24', 'visite_totali_sport', 'visite_totali_appwsc', 'visite_totali_appgtv', 'visite_totali_appsport', 'visite_totali_appxfactor',  'cookie_corporate', 'cookie_tg24' , 'cookie_sport' , 'secondi_totali_corporate'\n",
    " , 'secondi_totali_tg24' , 'secondi_totali_sport' , 'secondi_totali_appwsc' , 'secondi_totali_appgtv' , 'secondi_totali_appsport' , 'secondi_totali_appxfactor' , 'visite_corporate_appwsc_appgtv'\n",
    " , 'visite_editoriale' , 'visite_web' , 'visite_app' , 'max_mesi_corporate_appwsc_appgtv' , 'max_mesi_editoriale' , 'max_mesi_web' , 'max_mesi_app' , 'secondi_corporate_appwsc_appgtv'\n",
    " , 'secondi_editoriale' , 'secondi_web' , 'secondi_app', 'score_utilizzo',  'visite_settimana_corporate'\n",
    " , 'visite_weekend_corporate'\n",
    " , 'visite_settimana_tg24'\n",
    " , 'visite_weekend_tg24'\n",
    " , 'visite_settimana_sport'\n",
    " , 'visite_weekend_sport'\n",
    " , 'visite_settimana_appwsc'\n",
    " , 'visite_weekend_appwsc'\n",
    " , 'visite_settimana_appgtv'\n",
    " , 'visite_weekend_appgtv'\n",
    " , 'visite_settimana_appsport'\n",
    " , 'visite_weekend_appsport'\n",
    " , 'visite_settimana_appxfactor'\n",
    " , 'visite_weekend_appxfactor'\n",
    " , 'visite_corporate_notte'\n",
    " , 'visite_corporate_mattina'\n",
    " , 'visite_corporate_pomeriggio'\n",
    " , 'visite_corporate_sera'\n",
    " , 'visite_tg24_notte'\n",
    " , 'visite_tg24_mattina'\n",
    " , 'visite_tg24_pomeriggio'\n",
    " , 'visite_tg24_sera'\n",
    " , 'visite_sport_notte'\n",
    " , 'visite_sport_mattina'\n",
    " , 'visite_sport_pomeriggio'\n",
    " , 'visite_sport_sera'\n",
    " , 'visite_appwsc_notte'\n",
    " , 'visite_appwsc_mattina'\n",
    " , 'visite_appwsc_pomeriggio'\n",
    " , 'visite_appwsc_sera'\n",
    " , 'visite_appgtv_notte'\n",
    " , 'visite_appgtv_mattina'\n",
    " , 'visite_appgtv_pomeriggio'\n",
    " , 'visite_appgtv_sera'\n",
    " , 'visite_appsport_notte'\n",
    " , 'visite_appsport_mattina'\n",
    " , 'visite_appsport_pomeriggio'\n",
    " , 'visite_appsport_sera'\n",
    " , 'visite_appxfactor_notte'\n",
    " , 'visite_appxfactor_mattina'\n",
    " , 'visite_appxfactor_pomeriggio'\n",
    " , 'visite_appxfactor_sera', 'score_digital')"
   ]
  },
  {
   "cell_type": "code",
   "execution_count": 15,
   "metadata": {
    "collapsed": true
   },
   "outputs": [],
   "source": [
    "adobe_0_esclusi = adobe_0_esclusi.drop('totale_visite',  'numero_mesi_corporate', 'numero_mesi_tg24', 'numero_mesi_sport', 'numero_mesi_appwsc',  'numero_mesi_appgtv', 'numero_mesi_appsport', 'numero_mesi_appxfactor', 'visite_totali_corporate',  'visite_totali_tg24', 'visite_totali_sport', 'visite_totali_appwsc', 'visite_totali_appgtv', 'visite_totali_appsport', 'visite_totali_appxfactor',  'cookie_corporate', 'cookie_tg24' , 'cookie_sport' , 'secondi_totali_corporate'\n",
    " , 'secondi_totali_tg24' , 'secondi_totali_sport' , 'secondi_totali_appwsc' , 'secondi_totali_appgtv' , 'secondi_totali_appsport' , 'secondi_totali_appxfactor' , 'visite_corporate_appwsc_appgtv'\n",
    " , 'visite_editoriale' , 'visite_web' , 'visite_app' , 'max_mesi_corporate_appwsc_appgtv' , 'max_mesi_editoriale' , 'max_mesi_web' , 'max_mesi_app' , 'secondi_corporate_appwsc_appgtv'\n",
    " , 'secondi_editoriale' , 'secondi_web' , 'secondi_app', 'score_utilizzo',  'visite_settimana_corporate'\n",
    " , 'visite_weekend_corporate'\n",
    " , 'visite_settimana_tg24'\n",
    " , 'visite_weekend_tg24'\n",
    " , 'visite_settimana_sport'\n",
    " , 'visite_weekend_sport'\n",
    " , 'visite_settimana_appwsc'\n",
    " , 'visite_weekend_appwsc'\n",
    " , 'visite_settimana_appgtv'\n",
    " , 'visite_weekend_appgtv'\n",
    " , 'visite_settimana_appsport'\n",
    " , 'visite_weekend_appsport'\n",
    " , 'visite_settimana_appxfactor'\n",
    " , 'visite_weekend_appxfactor'\n",
    " , 'visite_corporate_notte'\n",
    " , 'visite_corporate_mattina'\n",
    " , 'visite_corporate_pomeriggio'\n",
    " , 'visite_corporate_sera'\n",
    " , 'visite_tg24_notte'\n",
    " , 'visite_tg24_mattina'\n",
    " , 'visite_tg24_pomeriggio'\n",
    " , 'visite_tg24_sera'\n",
    " , 'visite_sport_notte'\n",
    " , 'visite_sport_mattina'\n",
    " , 'visite_sport_pomeriggio'\n",
    " , 'visite_sport_sera'\n",
    " , 'visite_appwsc_notte'\n",
    " , 'visite_appwsc_mattina'\n",
    " , 'visite_appwsc_pomeriggio'\n",
    " , 'visite_appwsc_sera'\n",
    " , 'visite_appgtv_notte'\n",
    " , 'visite_appgtv_mattina'\n",
    " , 'visite_appgtv_pomeriggio'\n",
    " , 'visite_appgtv_sera'\n",
    " , 'visite_appsport_notte'\n",
    " , 'visite_appsport_mattina'\n",
    " , 'visite_appsport_pomeriggio'\n",
    " , 'visite_appsport_sera'\n",
    " , 'visite_appxfactor_notte'\n",
    " , 'visite_appxfactor_mattina'\n",
    " , 'visite_appxfactor_pomeriggio'\n",
    " , 'visite_appxfactor_sera', 'score_digital')"
   ]
  },
  {
   "cell_type": "code",
   "execution_count": 16,
   "metadata": {
    "collapsed": true
   },
   "outputs": [],
   "source": [
    "adobe_test = adobe_test.fillna(0)\n",
    "adobe_0_esclusi=adobe_0_esclusi.fillna(0)"
   ]
  },
  {
   "cell_type": "markdown",
   "metadata": {},
   "source": [
    "## Carico i modelli e creo la pipeline per codificare le variabili:"
   ]
  },
  {
   "cell_type": "code",
   "execution_count": 17,
   "metadata": {
    "collapsed": true
   },
   "outputs": [],
   "source": [
    "#Import useful packages:\n",
    "from pyspark.ml import Pipeline\n",
    "from pyspark.ml.classification import RandomForestClassifier, RandomForestClassificationModel\n",
    "from pyspark.ml.regression import RandomForestRegressor\n",
    "from pyspark.ml.tuning import CrossValidator, ParamGridBuilder\n",
    "from pyspark.ml.evaluation import MulticlassClassificationEvaluator, BinaryClassificationEvaluator, RegressionEvaluator\n",
    "from pyspark.ml.feature import VectorAssembler\n",
    "from pyspark.ml.feature import StringIndexer\n",
    "from pyspark.ml.feature import OneHotEncoder"
   ]
  },
  {
   "cell_type": "code",
   "execution_count": 18,
   "metadata": {
    "collapsed": true
   },
   "outputs": [],
   "source": [
    "model_generico = RandomForestClassificationModel.load(path_model_generico)\n",
    "model_fan = RandomForestClassificationModel.load(path_model_fan)\n",
    "model_social = RandomForestClassificationModel.load(path_model_social)"
   ]
  },
  {
   "cell_type": "code",
   "execution_count": 19,
   "metadata": {
    "collapsed": true
   },
   "outputs": [],
   "source": [
    "steps1 =[]\n",
    "CategoricalCol_in = [\"social_network\", \"tipo_device\", \"ricorrenza_corporate\", \"ricorrenza_tg24\", \"ricorrenza_sport\",\n",
    "                      \"ricorrenza_appgtv\", \"ricorrenza_appxfactor\", \"ricorrenza_appsport\", \"ricorrenza_appwsc\",\n",
    "                      \"ricorrenza_corporate_appwsc_appgtv\", \"ricorrenza_editoriale\", \"ricorrenza_web\", \"ricorrenza_app\",\n",
    "                      \"ricorrenza_totale\"]\n",
    "CategoricalCol_out = [ \"social_network_class_vec\", \"tipo_device_class_vec\", \"ricorrenza_corporate_class_vec\", \"ricorrenza_tg24_class_vec\", \"ricorrenza_sport_class_vec\",\n",
    "                      \"ricorrenza_appgtv_class_vec\", \"ricorrenza_appxfactor_class_vec\", \"ricorrenza_appsport_class_vec\", \"ricorrenza_appwsc_class_vec\",\n",
    "                      \"ricorrenza_corporate_appwsc_appgtv_class_vec\", \"ricorrenza_editoriale_class_vec\", \"ricorrenza_web_class_vec\", \"ricorrenza_app_class_vec\",\n",
    "                      \"ricorrenza_totale_class_vec\"]\n",
    " \n",
    "indexers = [StringIndexer(inputCol=x, outputCol=x+'Index')\n",
    "            for x in CategoricalCol_in ]\n",
    " \n",
    "encoders = [OneHotEncoder(dropLast=False, inputCol=x+\"Index\", outputCol=y)\n",
    "for x,y in zip(CategoricalCol_in, CategoricalCol_out)]\n",
    "steps1 = [[i,j] for i,j in zip(indexers, encoders)]\n",
    "steps1 = [i for sublist in steps1 for i in sublist]\n",
    "\n",
    "numericCols = adobe_test.drop(\"ext_id\", \"social_network\", \"tipo_device\", \"ricorrenza_corporate\", \"ricorrenza_tg24\", \"ricorrenza_sport\",\n",
    "                      \"ricorrenza_appgtv\", \"ricorrenza_appxfactor\", \"ricorrenza_appsport\", \"ricorrenza_appwsc\",\n",
    "                      \"ricorrenza_corporate_appwsc_appgtv\", \"ricorrenza_editoriale\", \"ricorrenza_web\", \"ricorrenza_app\",\n",
    "                      \"ricorrenza_totale\").columns\n",
    "\n",
    "assemblerInputs = [c + \"_class_vec\" for c in CategoricalCol_in] + numericCols\n",
    "assembler = VectorAssembler(inputCols=assemblerInputs, outputCol=\"features\")\n",
    "steps1 += [assembler]\n",
    "\n",
    "#Pipeline:  \n",
    "pipeline1 = Pipeline().setStages(steps1)"
   ]
  },
  {
   "cell_type": "code",
   "execution_count": 20,
   "metadata": {
    "collapsed": true
   },
   "outputs": [],
   "source": [
    "# Applico pipeline ad adobe_test:\n",
    "pipelineModel_final = pipeline1.fit(adobe_test)\n",
    "final= pipelineModel_final.transform(adobe_test)"
   ]
  },
  {
   "cell_type": "code",
   "execution_count": 21,
   "metadata": {
    "collapsed": true
   },
   "outputs": [],
   "source": [
    "probab_col = ['prob_1_int']\n",
    "assembler_golden0 = VectorAssembler(inputCols=probab_col, outputCol=\"prob_1\")"
   ]
  },
  {
   "cell_type": "code",
   "execution_count": 22,
   "metadata": {
    "collapsed": true
   },
   "outputs": [],
   "source": [
    "zeri_esclusi = assembler_golden0.transform(adobe_0_esclusi)\n",
    "zeri_esclusi = zeri_esclusi.drop('prob_1_int')"
   ]
  },
  {
   "cell_type": "markdown",
   "metadata": {},
   "source": [
    "## Modello Generico"
   ]
  },
  {
   "cell_type": "code",
   "execution_count": 23,
   "metadata": {
    "collapsed": true
   },
   "outputs": [],
   "source": [
    "predictions_class_generico = model_generico.transform(final)"
   ]
  },
  {
   "cell_type": "code",
   "execution_count": 24,
   "metadata": {
    "collapsed": true,
    "scrolled": true
   },
   "outputs": [],
   "source": [
    "from pyspark.ml.feature import VectorSlicer\n",
    "\n",
    "slicer = VectorSlicer(inputCol=\"probability\", outputCol=\"prob_1\", indices=[1])\n",
    "\n",
    "predictions_class_generico = slicer.transform(predictions_class_generico)\n",
    "\n",
    "#predictions_class_generico.select(\"probability\", \"prob_1\").show()"
   ]
  },
  {
   "cell_type": "markdown",
   "metadata": {},
   "source": [
    "### Unione 0 con predictions modello generico"
   ]
  },
  {
   "cell_type": "code",
   "execution_count": 25,
   "metadata": {
    "collapsed": true
   },
   "outputs": [],
   "source": [
    "predictions_class_generico.createOrReplaceTempView('generico')"
   ]
  },
  {
   "cell_type": "code",
   "execution_count": 26,
   "metadata": {
    "collapsed": true
   },
   "outputs": [],
   "source": [
    "predictions_class_generico1 = predictions_class_generico.drop('features', 'rawPrediction', 'probability', 'prediction',\"social_network_class_vec\", \"tipo_device_class_vec\", \"ricorrenza_corporate_class_vec\", \"ricorrenza_tg24_class_vec\", \"ricorrenza_sport_class_vec\",\n",
    "                      \"ricorrenza_appgtv_class_vec\", \"ricorrenza_appxfactor_class_vec\", \"ricorrenza_appsport_class_vec\", \"ricorrenza_appwsc_class_vec\",\n",
    "                      \"ricorrenza_corporate_appwsc_appgtv_class_vec\", \"ricorrenza_editoriale_class_vec\", \"ricorrenza_web_class_vec\", \"ricorrenza_app_class_vec\",\n",
    "                      \"ricorrenza_totale_class_vec\", \"social_networkIndex\", \"tipo_deviceIndex\", \"ricorrenza_corporateIndex\", \"ricorrenza_tg24Index\", \"ricorrenza_sportIndex\",\n",
    "                      \"ricorrenza_appgtvIndex\", \"ricorrenza_appxfactorIndex\", \"ricorrenza_appsportIndex\", \"ricorrenza_appwscIndex\",\n",
    "                      \"ricorrenza_corporate_appwsc_appgtvIndex\", \"ricorrenza_editorialeIndex\", \"ricorrenza_webIndex\", \"ricorrenza_appIndex\",\n",
    "                      \"ricorrenza_totaleIndex\")"
   ]
  },
  {
   "cell_type": "code",
   "execution_count": 27,
   "metadata": {
    "collapsed": true
   },
   "outputs": [],
   "source": [
    "predictions_class_generico1.createOrReplaceTempView('predictions_class_generico1')\n",
    "zeri_esclusi.createOrReplaceTempView('zeri_esclusi')"
   ]
  },
  {
   "cell_type": "code",
   "execution_count": 28,
   "metadata": {
    "collapsed": true
   },
   "outputs": [],
   "source": [
    "predictions_finale = spark.sql('select * from predictions_class_generico1 union all select * from zeri_esclusi ')"
   ]
  },
  {
   "cell_type": "code",
   "execution_count": 29,
   "metadata": {},
   "outputs": [
    {
     "name": "stdout",
     "output_type": "stream",
     "text": [
      "52\n"
     ]
    }
   ],
   "source": [
    "#print(len(zeri_esclusi.columns))"
   ]
  },
  {
   "cell_type": "code",
   "execution_count": 24,
   "metadata": {
    "collapsed": true
   },
   "outputs": [],
   "source": [
    "#col_test = predictions_class_generico1.columns\n",
    "#col_golden_train = zeri_esclusi.columns\n",
    "\n",
    "#print(len(set(col_test).intersection(col_golden_train)))"
   ]
  },
  {
   "cell_type": "code",
   "execution_count": 30,
   "metadata": {
    "collapsed": true
   },
   "outputs": [],
   "source": [
    "predictions_finale.createOrReplaceTempView('predictions_finale')"
   ]
  },
  {
   "cell_type": "code",
   "execution_count": 31,
   "metadata": {
    "collapsed": true
   },
   "outputs": [],
   "source": [
    "probab_class_asc = spark.sql('SELECT ext_id, prob_1 FROM predictions_finale ORDER BY prob_1').persist()"
   ]
  },
  {
   "cell_type": "code",
   "execution_count": 33,
   "metadata": {
    "collapsed": true
   },
   "outputs": [],
   "source": [
    "#probab_class_asc.count()"
   ]
  },
  {
   "cell_type": "code",
   "execution_count": 34,
   "metadata": {
    "collapsed": true
   },
   "outputs": [],
   "source": [
    "probab_class_asc.createOrReplaceTempView('probab_class_asc')\n",
    "probab_class_asc_indexed = spark.sql('select row_number() over (order by prob_1) as num, * from probab_class_asc').persist()"
   ]
  },
  {
   "cell_type": "code",
   "execution_count": 35,
   "metadata": {
    "collapsed": true
   },
   "outputs": [],
   "source": [
    "#probab_class_asc_indexed.show(100)"
   ]
  },
  {
   "cell_type": "code",
   "execution_count": 36,
   "metadata": {
    "collapsed": true
   },
   "outputs": [],
   "source": [
    "probab_class_asc_indexed.createOrReplaceTempView('probab_class_asc_indexed')"
   ]
  },
  {
   "cell_type": "code",
   "execution_count": 31,
   "metadata": {
    "collapsed": true
   },
   "outputs": [],
   "source": [
    "## ATTENZIONE! Da AUTOMATIZZARE!\n",
    "\n",
    "probab_class_asc_index_decili = spark.sql('SELECT *, CASE WHEN (num between 0 and 297136) THEN 1 WHEN (num between 297137 and 594272) THEN 2 WHEN (num between 594273 and 891408) THEN 3 WHEN (num between 891409 and 1188544) THEN 4 WHEN (num between 1188545 and 1485680) THEN 5 WHEN (num between 1485681 and 1782816) THEN 6 WHEN (num between 1782817 and 2079952) THEN 7 WHEN (num between 2079953 and 2377088) THEN 8 WHEN (num between 2377089 and 2674224) THEN 9 WHEN (num between 2674225 and 2971364) THEN 10 ELSE NULL END AS decile FROM probab_class_asc_indexed')"
   ]
  },
  {
   "cell_type": "code",
   "execution_count": 37,
   "metadata": {
    "collapsed": true
   },
   "outputs": [],
   "source": [
    "#probab_class_asc_index_decili.show(100, False)"
   ]
  },
  {
   "cell_type": "code",
   "execution_count": null,
   "metadata": {
    "collapsed": true
   },
   "outputs": [],
   "source": [
    "probab_class_asc_index_decili.write.parquet(path_spreading_model_generico)"
   ]
  },
  {
   "cell_type": "markdown",
   "metadata": {},
   "source": [
    "## Modello Fan"
   ]
  },
  {
   "cell_type": "code",
   "execution_count": 38,
   "metadata": {
    "collapsed": true
   },
   "outputs": [],
   "source": [
    "predictions_class_fan = model_fan.transform(final)"
   ]
  },
  {
   "cell_type": "code",
   "execution_count": 39,
   "metadata": {
    "collapsed": true,
    "scrolled": true
   },
   "outputs": [],
   "source": [
    "from pyspark.ml.feature import VectorSlicer\n",
    "\n",
    "slicer = VectorSlicer(inputCol=\"probability\", outputCol=\"prob_1\", indices=[1])\n",
    "\n",
    "predictions_class_fan = slicer.transform(predictions_class_fan)\n",
    "\n",
    "#predictions_class_generico.select(\"probability\", \"prob_1\").show()"
   ]
  },
  {
   "cell_type": "markdown",
   "metadata": {},
   "source": [
    "### Unione 0 con predictions modello fan"
   ]
  },
  {
   "cell_type": "code",
   "execution_count": 40,
   "metadata": {
    "collapsed": true
   },
   "outputs": [],
   "source": [
    "#predictions_class_fan.createOrReplaceTempView('fan')"
   ]
  },
  {
   "cell_type": "code",
   "execution_count": 41,
   "metadata": {
    "collapsed": true
   },
   "outputs": [],
   "source": [
    "predictions_class_fan1 = predictions_class_fan.drop('features', 'rawPrediction', 'probability', 'prediction',\"social_network_class_vec\", \"tipo_device_class_vec\", \"ricorrenza_corporate_class_vec\", \"ricorrenza_tg24_class_vec\", \"ricorrenza_sport_class_vec\",\n",
    "                      \"ricorrenza_appgtv_class_vec\", \"ricorrenza_appxfactor_class_vec\", \"ricorrenza_appsport_class_vec\", \"ricorrenza_appwsc_class_vec\",\n",
    "                      \"ricorrenza_corporate_appwsc_appgtv_class_vec\", \"ricorrenza_editoriale_class_vec\", \"ricorrenza_web_class_vec\", \"ricorrenza_app_class_vec\",\n",
    "                      \"ricorrenza_totale_class_vec\", \"social_networkIndex\", \"tipo_deviceIndex\", \"ricorrenza_corporateIndex\", \"ricorrenza_tg24Index\", \"ricorrenza_sportIndex\",\n",
    "                      \"ricorrenza_appgtvIndex\", \"ricorrenza_appxfactorIndex\", \"ricorrenza_appsportIndex\", \"ricorrenza_appwscIndex\",\n",
    "                      \"ricorrenza_corporate_appwsc_appgtvIndex\", \"ricorrenza_editorialeIndex\", \"ricorrenza_webIndex\", \"ricorrenza_appIndex\",\n",
    "                      \"ricorrenza_totaleIndex\")"
   ]
  },
  {
   "cell_type": "code",
   "execution_count": 42,
   "metadata": {
    "collapsed": true
   },
   "outputs": [],
   "source": [
    "predictions_class_fan1.createOrReplaceTempView('predictions_class_fan1')\n",
    "zeri_esclusi.createOrReplaceTempView('zeri_esclusi')"
   ]
  },
  {
   "cell_type": "code",
   "execution_count": 43,
   "metadata": {
    "collapsed": true
   },
   "outputs": [],
   "source": [
    "predictions_finale_fan = spark.sql('select * from predictions_class_fan1 union all select * from zeri_esclusi ')"
   ]
  },
  {
   "cell_type": "code",
   "execution_count": 44,
   "metadata": {
    "collapsed": true
   },
   "outputs": [],
   "source": [
    "#print(len(zeri_esclusi.columns))"
   ]
  },
  {
   "cell_type": "code",
   "execution_count": 45,
   "metadata": {
    "collapsed": true
   },
   "outputs": [],
   "source": [
    "#col_test = predictions_class_fan1.columns\n",
    "#col_golden_train = zeri_esclusi.columns\n",
    "\n",
    "#print(len(set(col_test).intersection(col_golden_train)))"
   ]
  },
  {
   "cell_type": "code",
   "execution_count": 46,
   "metadata": {
    "collapsed": true
   },
   "outputs": [],
   "source": [
    "predictions_finale_fan.createOrReplaceTempView('predictions_finale_fan')"
   ]
  },
  {
   "cell_type": "code",
   "execution_count": 47,
   "metadata": {
    "collapsed": true
   },
   "outputs": [],
   "source": [
    "probab_class_asc_fan = spark.sql('SELECT ext_id, prob_1 FROM predictions_finale_fan ORDER BY prob_1').persist()"
   ]
  },
  {
   "cell_type": "code",
   "execution_count": 48,
   "metadata": {
    "collapsed": true
   },
   "outputs": [],
   "source": [
    "#probab_class_asc_fan.count()"
   ]
  },
  {
   "cell_type": "code",
   "execution_count": 49,
   "metadata": {
    "collapsed": true
   },
   "outputs": [],
   "source": [
    "probab_class_asc_fan.createOrReplaceTempView('probab_class_asc_fan')\n",
    "probab_class_asc_indexed_fan = spark.sql('select row_number() over (order by prob_1) as num, * from probab_class_asc_fan').persist()"
   ]
  },
  {
   "cell_type": "code",
   "execution_count": 50,
   "metadata": {
    "collapsed": true
   },
   "outputs": [],
   "source": [
    "#probab_class_asc_indexed_fan.show(100)"
   ]
  },
  {
   "cell_type": "code",
   "execution_count": 51,
   "metadata": {
    "collapsed": true
   },
   "outputs": [],
   "source": [
    "probab_class_asc_indexed_fan.createOrReplaceTempView('probab_class_asc_indexed_fan')"
   ]
  },
  {
   "cell_type": "code",
   "execution_count": 52,
   "metadata": {
    "collapsed": true
   },
   "outputs": [],
   "source": [
    "## ATTENZIONE! Da automatizzare!\n",
    "\n",
    "probab_class_asc_index_decili_fan = spark.sql('SELECT *, CASE WHEN (num between 0 and 297136) THEN 1 WHEN (num between 297137 and 594272) THEN 2 WHEN (num between 594273 and 891408) THEN 3 WHEN (num between 891409 and 1188544) THEN 4 WHEN (num between 1188545 and 1485680) THEN 5 WHEN (num between 1485681 and 1782816) THEN 6 WHEN (num between 1782817 and 2079952) THEN 7 WHEN (num between 2079953 and 2377088) THEN 8 WHEN (num between 2377089 and 2674224) THEN 9 WHEN (num between 2674225 and 2971364) THEN 10 ELSE NULL END AS decile FROM probab_class_asc_indexed_fan')"
   ]
  },
  {
   "cell_type": "code",
   "execution_count": 53,
   "metadata": {
    "collapsed": true
   },
   "outputs": [],
   "source": [
    "#probab_class_asc_index_decili_fan.show(100, False)"
   ]
  },
  {
   "cell_type": "code",
   "execution_count": null,
   "metadata": {
    "collapsed": true
   },
   "outputs": [],
   "source": [
    "probab_class_asc_index_decili_fan.write.parquet(path_spreading_model_fan)"
   ]
  },
  {
   "cell_type": "markdown",
   "metadata": {},
   "source": [
    "## Modello Social"
   ]
  },
  {
   "cell_type": "code",
   "execution_count": 54,
   "metadata": {
    "collapsed": true
   },
   "outputs": [],
   "source": [
    "predictions_class_social = model_social.transform(final)"
   ]
  },
  {
   "cell_type": "code",
   "execution_count": 55,
   "metadata": {
    "collapsed": true,
    "scrolled": true
   },
   "outputs": [],
   "source": [
    "from pyspark.ml.feature import VectorSlicer\n",
    "\n",
    "slicer = VectorSlicer(inputCol=\"probability\", outputCol=\"prob_1\", indices=[1])\n",
    "\n",
    "predictions_class_social = slicer.transform(predictions_class_social)\n",
    "\n",
    "#predictions_class_generico.select(\"probability\", \"prob_1\").show()"
   ]
  },
  {
   "cell_type": "markdown",
   "metadata": {},
   "source": [
    "### Unione 0 con predictions modello social"
   ]
  },
  {
   "cell_type": "code",
   "execution_count": 56,
   "metadata": {
    "collapsed": true
   },
   "outputs": [],
   "source": [
    "#predictions_class_social.createOrReplaceTempView('social')"
   ]
  },
  {
   "cell_type": "code",
   "execution_count": 57,
   "metadata": {
    "collapsed": true
   },
   "outputs": [],
   "source": [
    "predictions_class_social1 = predictions_class_social.drop('features', 'rawPrediction', 'probability', 'prediction',\"social_network_class_vec\", \"tipo_device_class_vec\", \"ricorrenza_corporate_class_vec\", \"ricorrenza_tg24_class_vec\", \"ricorrenza_sport_class_vec\",\n",
    "                      \"ricorrenza_appgtv_class_vec\", \"ricorrenza_appxfactor_class_vec\", \"ricorrenza_appsport_class_vec\", \"ricorrenza_appwsc_class_vec\",\n",
    "                      \"ricorrenza_corporate_appwsc_appgtv_class_vec\", \"ricorrenza_editoriale_class_vec\", \"ricorrenza_web_class_vec\", \"ricorrenza_app_class_vec\",\n",
    "                      \"ricorrenza_totale_class_vec\", \"social_networkIndex\", \"tipo_deviceIndex\", \"ricorrenza_corporateIndex\", \"ricorrenza_tg24Index\", \"ricorrenza_sportIndex\",\n",
    "                      \"ricorrenza_appgtvIndex\", \"ricorrenza_appxfactorIndex\", \"ricorrenza_appsportIndex\", \"ricorrenza_appwscIndex\",\n",
    "                      \"ricorrenza_corporate_appwsc_appgtvIndex\", \"ricorrenza_editorialeIndex\", \"ricorrenza_webIndex\", \"ricorrenza_appIndex\",\n",
    "                      \"ricorrenza_totaleIndex\")"
   ]
  },
  {
   "cell_type": "code",
   "execution_count": 58,
   "metadata": {
    "collapsed": true
   },
   "outputs": [],
   "source": [
    "predictions_class_social1.createOrReplaceTempView('predictions_class_social1')\n",
    "zeri_esclusi.createOrReplaceTempView('zeri_esclusi')"
   ]
  },
  {
   "cell_type": "code",
   "execution_count": 59,
   "metadata": {
    "collapsed": true
   },
   "outputs": [],
   "source": [
    "predictions_finale_social = spark.sql('select * from predictions_class_social1 union all select * from zeri_esclusi ')"
   ]
  },
  {
   "cell_type": "code",
   "execution_count": 57,
   "metadata": {
    "collapsed": true
   },
   "outputs": [],
   "source": [
    "#print(len(zeri_esclusi.columns))"
   ]
  },
  {
   "cell_type": "code",
   "execution_count": 58,
   "metadata": {
    "collapsed": true
   },
   "outputs": [],
   "source": [
    "#col_test = predictions_class_social1.columns\n",
    "#col_golden_train = zeri_esclusi.columns\n",
    "\n",
    "#print(len(set(col_test).intersection(col_golden_train)))"
   ]
  },
  {
   "cell_type": "code",
   "execution_count": 60,
   "metadata": {
    "collapsed": true
   },
   "outputs": [],
   "source": [
    "predictions_finale_social.createOrReplaceTempView('predictions_finale_social')"
   ]
  },
  {
   "cell_type": "code",
   "execution_count": 61,
   "metadata": {
    "collapsed": true
   },
   "outputs": [],
   "source": [
    "probab_class_asc_social = spark.sql('SELECT ext_id, prob_1 FROM predictions_finale_social ORDER BY prob_1').persist()"
   ]
  },
  {
   "cell_type": "code",
   "execution_count": 62,
   "metadata": {
    "collapsed": true
   },
   "outputs": [],
   "source": [
    "#probab_class_asc_social.count()"
   ]
  },
  {
   "cell_type": "code",
   "execution_count": 63,
   "metadata": {
    "collapsed": true
   },
   "outputs": [],
   "source": [
    "probab_class_asc_social.createOrReplaceTempView('probab_class_asc_social')\n",
    "probab_class_asc_indexed_social = spark.sql('select row_number() over (order by prob_1) as num, * from probab_class_asc_social').persist()"
   ]
  },
  {
   "cell_type": "code",
   "execution_count": 64,
   "metadata": {
    "collapsed": true
   },
   "outputs": [],
   "source": [
    "#probab_class_asc_indexed_social.show(100)"
   ]
  },
  {
   "cell_type": "code",
   "execution_count": 65,
   "metadata": {
    "collapsed": true
   },
   "outputs": [],
   "source": [
    "probab_class_asc_indexed_social.createOrReplaceTempView('probab_class_asc_indexed_social')"
   ]
  },
  {
   "cell_type": "code",
   "execution_count": 66,
   "metadata": {
    "collapsed": true
   },
   "outputs": [],
   "source": [
    "probab_class_asc_index_decili_social = spark.sql('SELECT *, CASE WHEN (num between 0 and 297136) THEN 1 WHEN (num between 297137 and 594272) THEN 2 WHEN (num between 594273 and 891408) THEN 3 WHEN (num between 891409 and 1188544) THEN 4 WHEN (num between 1188545 and 1485680) THEN 5 WHEN (num between 1485681 and 1782816) THEN 6 WHEN (num between 1782817 and 2079952) THEN 7 WHEN (num between 2079953 and 2377088) THEN 8 WHEN (num between 2377089 and 2674224) THEN 9 WHEN (num between 2674225 and 2971364) THEN 10 ELSE NULL END AS decile FROM probab_class_asc_indexed_social')"
   ]
  },
  {
   "cell_type": "code",
   "execution_count": 67,
   "metadata": {
    "collapsed": true
   },
   "outputs": [],
   "source": [
    "#probab_class_asc_index_decili_social.show(100, False)"
   ]
  },
  {
   "cell_type": "code",
   "execution_count": null,
   "metadata": {
    "collapsed": true
   },
   "outputs": [],
   "source": [
    "probab_class_asc_index_decili_social.write.parquet(path_spreading_model_social)"
   ]
  },
  {
   "cell_type": "markdown",
   "metadata": {},
   "source": [
    "## UNIONE 3 DATASET CON DECILI\n",
    "\n"
   ]
  },
  {
   "cell_type": "code",
   "execution_count": 67,
   "metadata": {
    "collapsed": true
   },
   "outputs": [],
   "source": [
    "df_generico = spark.read.format('parquet').load(\"/user/matteo.ballerinipuviani/PREDICTIONSDIGITALIZZAZIONE_LUG_DIC/probability_generico_con_decili.parquet\").persist()\n",
    "df_social = spark.read.format('parquet').load(\"/user/matteo.ballerinipuviani/PREDICTIONSDIGITALIZZAZIONE_LUG_DIC/probability_social_con_decili.parquet\").persist()\n",
    "df_fan = spark.read.format('parquet').load(\"/user/matteo.ballerinipuviani/PREDICTIONSDIGITALIZZAZIONE_LUG_DIC/probability_fan_con_decili.parquet\").persist()"
   ]
  },
  {
   "cell_type": "code",
   "execution_count": 68,
   "metadata": {
    "collapsed": true
   },
   "outputs": [],
   "source": [
    "df_generico = df_generico.withColumnRenamed('decile', 'decile_generico')\n",
    "df_fan = df_fan.withColumnRenamed('decile', 'decile_fan')\n",
    "df_social = df_social.withColumnRenamed('decile', 'decile_social')"
   ]
  },
  {
   "cell_type": "code",
   "execution_count": 69,
   "metadata": {
    "collapsed": true
   },
   "outputs": [],
   "source": [
    "df_generico.createOrReplaceTempView('df_generico')\n",
    "df_fan.createOrReplaceTempView('df_fan')\n",
    "df_social.createOrReplaceTempView('df_social')"
   ]
  },
  {
   "cell_type": "markdown",
   "metadata": {
    "collapsed": true
   },
   "source": [
    "### Unisco in un unico dataset i 3 decili di adobe"
   ]
  },
  {
   "cell_type": "code",
   "execution_count": 70,
   "metadata": {
    "collapsed": true
   },
   "outputs": [],
   "source": [
    "df_generico_fan = spark.sql('select df_generico.ext_id, df_generico.decile_generico, df_fan.decile_fan from df_generico left join df_fan on df_generico.ext_id = df_fan.ext_id')"
   ]
  },
  {
   "cell_type": "code",
   "execution_count": 71,
   "metadata": {},
   "outputs": [
    {
     "name": "stdout",
     "output_type": "stream",
     "text": [
      "+--------------------+---------------+----------+\n",
      "|              ext_id|decile_generico|decile_fan|\n",
      "+--------------------+---------------+----------+\n",
      "|000268bb9b4d06e6a...|              4|         1|\n",
      "|0003fe6fa141cd593...|             10|        10|\n",
      "|0005a79a8451f3eac...|              2|         3|\n",
      "|0006ecec67c1a61e3...|              6|         7|\n",
      "|000b0850c5deb106e...|             10|        10|\n",
      "|00111532921d68306...|             10|        10|\n",
      "|0011f1505715ea009...|              7|         7|\n",
      "|0017cac79130ecafd...|              1|         1|\n",
      "|001c55fd054d139db...|              2|         2|\n",
      "|001f9a2827d51dc6e...|              3|         5|\n",
      "|00248561770c5368d...|              8|         7|\n",
      "|002c4bdb6f7e352f8...|              9|        10|\n",
      "|002f6bb23573e0a7e...|              4|         1|\n",
      "|0032a62cef4ac7a56...|              1|         3|\n",
      "|003489b29db5b2c06...|              3|         4|\n",
      "|0049a818c2e0bc46e...|              1|         2|\n",
      "|004b153b80b8f8109...|              2|         3|\n",
      "|004cfd08586e01ac1...|              6|         8|\n",
      "|00518238c12282ed4...|              1|         2|\n",
      "|00560b113b429a844...|              8|         6|\n",
      "+--------------------+---------------+----------+\n",
      "only showing top 20 rows\n",
      "\n"
     ]
    }
   ],
   "source": [
    "df_generico_fan.show(20)"
   ]
  },
  {
   "cell_type": "code",
   "execution_count": 72,
   "metadata": {
    "collapsed": true
   },
   "outputs": [],
   "source": [
    "df_generico_fan.createOrReplaceTempView('df_generico_fan')"
   ]
  },
  {
   "cell_type": "code",
   "execution_count": 73,
   "metadata": {
    "collapsed": true
   },
   "outputs": [],
   "source": [
    "df_triplo = spark.sql('select df_generico_fan.ext_id, df_generico_fan.decile_generico, df_generico_fan.decile_fan, df_social.decile_social from df_generico_fan left join df_social on df_generico_fan.ext_id = df_social.ext_id')"
   ]
  },
  {
   "cell_type": "code",
   "execution_count": 74,
   "metadata": {},
   "outputs": [
    {
     "name": "stdout",
     "output_type": "stream",
     "text": [
      "+--------------------+---------------+----------+-------------+\n",
      "|              ext_id|decile_generico|decile_fan|decile_social|\n",
      "+--------------------+---------------+----------+-------------+\n",
      "|000268bb9b4d06e6a...|              4|         1|            7|\n",
      "|0003fe6fa141cd593...|             10|        10|            9|\n",
      "|0005a79a8451f3eac...|              2|         3|            1|\n",
      "|0006ecec67c1a61e3...|              6|         7|            7|\n",
      "|000b0850c5deb106e...|             10|        10|            9|\n",
      "|00111532921d68306...|             10|        10|            9|\n",
      "|0011f1505715ea009...|              7|         7|            9|\n",
      "|0017cac79130ecafd...|              1|         1|            2|\n",
      "|001c55fd054d139db...|              2|         2|            1|\n",
      "|001f9a2827d51dc6e...|              3|         5|            1|\n",
      "|00248561770c5368d...|              8|         7|            5|\n",
      "|002c4bdb6f7e352f8...|              9|        10|            8|\n",
      "|002f6bb23573e0a7e...|              4|         1|            7|\n",
      "|0032a62cef4ac7a56...|              1|         3|            1|\n",
      "|003489b29db5b2c06...|              3|         4|            6|\n",
      "|0049a818c2e0bc46e...|              1|         2|            2|\n",
      "|004b153b80b8f8109...|              2|         3|            2|\n",
      "|004cfd08586e01ac1...|              6|         8|            6|\n",
      "|00518238c12282ed4...|              1|         2|            2|\n",
      "|00560b113b429a844...|              8|         6|            9|\n",
      "+--------------------+---------------+----------+-------------+\n",
      "only showing top 20 rows\n",
      "\n"
     ]
    }
   ],
   "source": [
    "df_triplo.show()"
   ]
  },
  {
   "cell_type": "markdown",
   "metadata": {},
   "source": [
    "### Creo il decile pesato di Generico, Fan, Social:"
   ]
  },
  {
   "cell_type": "code",
   "execution_count": 75,
   "metadata": {
    "collapsed": true
   },
   "outputs": [],
   "source": [
    "df_triplo.createOrReplaceTempView('df_triplo')"
   ]
  },
  {
   "cell_type": "code",
   "execution_count": 76,
   "metadata": {
    "collapsed": true
   },
   "outputs": [],
   "source": [
    "df_4 = spark.sql('select ext_id, decile_generico, decile_fan, decile_social, sum(decile_generico*0.5 + decile_fan*0.2 + decile_social*0.3) as score from df_triplo group by ext_id, decile_generico, decile_fan, decile_social')"
   ]
  },
  {
   "cell_type": "code",
   "execution_count": null,
   "metadata": {
    "collapsed": true
   },
   "outputs": [],
   "source": [
    "df_4.write.parquet(\"/user/matteo.ballerinipuviani/df_4_decili_adobe.parquet\")"
   ]
  },
  {
   "cell_type": "code",
   "execution_count": 97,
   "metadata": {},
   "outputs": [
    {
     "name": "stdout",
     "output_type": "stream",
     "text": [
      "+------------------------------------------------+---------------+----------+-------------+-----+\n",
      "|ext_id                                          |decile_generico|decile_fan|decile_social|score|\n",
      "+------------------------------------------------+---------------+----------+-------------+-----+\n",
      "|000268bb9b4d06e6ac81329a96fcc744e05c79835496da4b|4              |1         |7            |4.3  |\n",
      "|0003fe6fa141cd593acb65361edd4832c6ca28d9a70e9aba|10             |10        |9            |9.7  |\n",
      "|0005a79a8451f3eac98207d3d3111926e4e5a15a13e7d093|2              |3         |1            |1.9  |\n",
      "|0006ecec67c1a61e374022c955e98b3ffa326783316cf9aa|6              |7         |7            |6.5  |\n",
      "|000b0850c5deb106e8528933477f8de336ecc62ec46eb24c|10             |10        |9            |9.7  |\n",
      "|00111532921d6830675cab7cc4d3b70dbee2b5a6e78fc08d|10             |10        |9            |9.7  |\n",
      "|0011f1505715ea0090fcdda1fa4ca380c8a3c9c00aeaaa93|7              |7         |9            |7.6  |\n",
      "|0017cac79130ecafd14ec4eac5322da63ef124d9e3d09209|1              |1         |2            |1.3  |\n",
      "|001c55fd054d139db9ef29b5eb9bda94c787b23aa62b8afd|2              |2         |1            |1.7  |\n",
      "|001f9a2827d51dc6ed6d739f1db9c42ace4915262a81018e|3              |5         |1            |2.8  |\n",
      "|00248561770c5368da42390b18929ae14b2abda5c3c769db|8              |7         |5            |6.9  |\n",
      "|002c4bdb6f7e352f8e7ffd1c6f5ad2d4bf8693cc9829de4b|9              |10        |8            |8.9  |\n",
      "|002f6bb23573e0a7e8bd734356be8693ee4ccabfc7800bd6|4              |1         |7            |4.3  |\n",
      "|0032a62cef4ac7a564204babc1c39a9946063c92148f70c4|1              |3         |1            |1.4  |\n",
      "|003489b29db5b2c065a1dc302044ef50781ac3527874f00e|3              |4         |6            |4.1  |\n",
      "|0049a818c2e0bc46e763a4db53386f9b5348dabc5001e33c|1              |2         |2            |1.5  |\n",
      "|004b153b80b8f81096114109048bdc7e1b638f380f5609d7|2              |3         |2            |2.2  |\n",
      "|004cfd08586e01ac1d5033c03997a189022ee6dd17956306|6              |8         |6            |6.4  |\n",
      "|00518238c12282ed4fd0216bd9cfdb1dc14ba9f222015e41|1              |2         |2            |1.5  |\n",
      "|00560b113b429a84469e4f31a90de5eaf8a9535cca841f82|8              |6         |9            |7.9  |\n",
      "|0058ea2c1b521acb3f2d87a6cfb86ced724b744345bd0a13|5              |7         |8            |6.3  |\n",
      "|005bdfd38a013da5c89868b0530545fe14e11a35591dc3ac|5              |3         |3            |4.0  |\n",
      "|005ce8433e0e6acf901a1cf49c62bf015d049c9e08549c72|7              |5         |4            |5.7  |\n",
      "|005e32dfa42a2308e11a44ec318c57666b636a8564838cb6|4              |1         |7            |4.3  |\n",
      "|0069e823d581497ede713bc7247a07c31fa0077f8502e8e2|6              |5         |6            |5.8  |\n",
      "|006c28c58db48e93280059cb0de7eec53d5cb7864921968d|10             |10        |10           |10.0 |\n",
      "|006e6d66129a209fff023c011b0ad9564ff6e13745333edf|3              |4         |4            |3.5  |\n",
      "|0074592e177536885157dc008aff641729b41eb64754ea64|9              |10        |10           |9.5  |\n",
      "|007ad3cfdc2c881e557dc42a40683ea6b6cde7236dc51b31|7              |9         |10           |8.3  |\n",
      "|007f328d7a28683617406917e72d49d4928ade86775c09bc|10             |9         |10           |9.8  |\n",
      "|00864884ed934eb6cc849296f795f5763dc26bf1d9eee2ce|7              |7         |6            |6.7  |\n",
      "|0089083c794fe8f3e13336d674aab28fff250b79db931c1f|3              |3         |3            |3.0  |\n",
      "|008959695460120715a2d6b987889d516b6f772a0e6ae536|7              |9         |5            |6.8  |\n",
      "|00897f7d58df3b1a79b9d98a059dff824fff42e01afadb95|7              |7         |8            |7.3  |\n",
      "|008a695d244dfeca7b894dc82f62bcc761ace8058a7b0752|8              |8         |9            |8.3  |\n",
      "|008ae76ad388cb7c3c44c5ba25bcd6ba14d04fed84677e32|7              |4         |4            |5.5  |\n",
      "|008c1b6ea297dc7716080c3b6971e56ded2693129bedca04|6              |4         |3            |4.7  |\n",
      "|0091c7b28442de8ae59ba3e2907857fa4daff409033f0682|2              |4         |1            |2.1  |\n",
      "|00967adcf72676b914b80013abe90168c1ae8cc5fafc0fc1|1              |2         |2            |1.5  |\n",
      "|009a125188556d74a508a9666309e11bb45831a6b9479a08|9              |8         |10           |9.1  |\n",
      "|00a0a00c6711c3a70fcba38ed2c2c40a852aad8d19c97700|2              |3         |1            |1.9  |\n",
      "|00a848e23fa5e91df4d60833c76b41df100c97d0e2194876|1              |1         |2            |1.3  |\n",
      "|00ad9245013584d88b80ae4551104a0c4480c56f346b0585|4              |4         |7            |4.9  |\n",
      "|00b475d1479abaa0115a5bb3243747bcbbaad87b8cab87b4|4              |3         |3            |3.5  |\n",
      "|00b6b6522e8bd85c54defdac77d886f15f979651e7fc541a|10             |9         |8            |9.2  |\n",
      "|00b78757e231aaa043cd6ed3598d75f8056ebe4d7fa27860|3              |1         |1            |2.0  |\n",
      "|00b8f0d00c1b929ed84b3332723523a8bd5096f72dca4e77|4              |5         |8            |5.4  |\n",
      "|00bbc5f8ea06e4f56f511da07cf549649d50498b02e8d418|2              |4         |3            |2.7  |\n",
      "|00bdb5ae37985245f0e6206db6d516292aed94315e67f9d2|4              |4         |7            |4.9  |\n",
      "|00c8b78f8e5e04ea1750ac0003db198ea422de1bc1cdb51f|10             |7         |10           |9.4  |\n",
      "|00c90686ea0ea854bd8fdc070c0d4fda4e872959f01c8dc2|5              |4         |1            |3.6  |\n",
      "|00c981005d787206de6dc0c0f7930c92cf354920781ee059|10             |8         |8            |9.0  |\n",
      "|00c9f726870051af22259c11e06685167137528412a2700d|2              |3         |1            |1.9  |\n",
      "|00d41513f08a20b1586d997d04d4b2a39a20e0343548e321|6              |4         |8            |6.2  |\n",
      "|00d71ddc14dd0aece6929a34db19f5e0960339561c7970d6|9              |7         |6            |7.7  |\n",
      "|00d9361b74a67ef7447edbf18861c88e541c1a13e29346ff|6              |5         |7            |6.1  |\n",
      "|00eb555bec068472ff725b91f0b47816fe308fca0fa79649|7              |7         |4            |6.1  |\n",
      "|00ee7d8bf52f8a9fe3c8b06915ab1d12c63e7f8fa9fda8e4|7              |6         |4            |5.9  |\n",
      "|00fb16d9339c16329faf3c586aba9c197abb5afa05c1ed5e|10             |7         |9            |9.1  |\n",
      "|0104a5fcc0e74593e938d3f477a70f3fccc0cfea1729ac58|7              |9         |8            |7.7  |\n",
      "|0107a2c4f5489b08df1a39590004a87f592be61026c4c3f8|4              |8         |3            |4.5  |\n",
      "|010e8a4871cc0ce89fdd13511ecb24f5331c97207a957a0c|3              |1         |5            |3.2  |\n",
      "|01104aacac27d34fbaf7014592ec2a6153189b944fecaa25|2              |3         |1            |1.9  |\n",
      "|0116b3cd08e1b724ac296db6f3076b57bcfb926e58c3315a|7              |5         |4            |5.7  |\n",
      "|011b4660445a27acfbf88ee16c927a401941dd58e2dada6a|2              |4         |5            |3.3  |\n",
      "|011c404103edb24a493e3322b0889fd3011ed2a18ede1bb2|7              |7         |9            |7.6  |\n",
      "|0127450857340393e4bdaaaa4c757627e4c2d46880652af4|7              |9         |10           |8.3  |\n",
      "|013feeb4d044abe4a3b28f607a3839490dc42caa43c9d24f|9              |8         |7            |8.2  |\n",
      "|0142f9823853899c2b69b4c204751fa17c731bc1f5a3f81f|8              |9         |6            |7.6  |\n",
      "|01439cfb55e55e05491d2e6cae79e0d4b7160b1878b4513e|7              |6         |5            |6.2  |\n",
      "|0146eb51c4685d13a99a73936564a7e61ac9c119035e36b5|5              |4         |7            |5.4  |\n",
      "|014cc9da9218c06e5702e9ec991704c2b4a9f17ccee2eb6a|7              |4         |2            |4.9  |\n",
      "|014e5eea06c73eef10e861307e9737d36e847b6ff98b6989|3              |1         |4            |2.9  |\n",
      "|0151b82fe90ff716133c309520bc35e03d3b0b68de7bc3eb|3              |7         |9            |5.6  |\n",
      "|01536c530bbc107271a8b099ec6b02669e1b7ed012fc7c3f|9              |9         |10           |9.3  |\n",
      "|015b8540f1215b1e1e0136eba3507bb2bf59ccdecf08443e|2              |3         |1            |1.9  |\n",
      "|015c68bb299d7a93d40b61a0ec2686830c3ed794090174b9|7              |6         |9            |7.4  |\n",
      "|0167dbe9cbfc3aa00e88ab83930c47338ff7d9953349e326|1              |2         |2            |1.5  |\n",
      "|016af5fcbebc2eeba4df767456ccc1234937b0f9a16e1d2c|4              |1         |7            |4.3  |\n",
      "|016c18b596ff1e3d8d00d422d5c5e24b06783a9834cb5dde|10             |10        |9            |9.7  |\n",
      "|01738562a57a71c827823734f85135faec2e8a2a3dc31b9e|1              |1         |2            |1.3  |\n",
      "|01742942ce31c194f4bd827b9de6c467bcb83f5ca283c5c5|2              |3         |2            |2.2  |\n",
      "|0174f8db63bf62ff361180b0feffc6a06d80566ed4c06cda|1              |1         |2            |1.3  |\n",
      "|017698ec51c0b0c9c26096b5eadbc12157580b31784fb536|4              |10        |9            |6.7  |\n",
      "|017df0c7437b02e164d97109f14036a360adf3726ab06c4e|10             |10        |10           |10.0 |\n",
      "|01812911d487d582c161b1957c7b90546b94fba5f4428614|10             |7         |5            |7.9  |\n",
      "|019103ee1ac42b0960e65a9c4347936dc2f37d1d4f3c2663|3              |1         |1            |2.0  |\n",
      "|01960a5157df811cc6528a31eb7fe7323c068536e47658fe|9              |10        |10           |9.5  |\n",
      "|01989901c47db363f0d82148471fa656808d73507d1167a5|3              |2         |4            |3.1  |\n",
      "|0198e244ff43f381fd5cdbeb7c08b2e3f7fd2794e5c20037|8              |6         |5            |6.7  |\n",
      "|019bf5f0ac12041eea21c672bd095d9e4e39c95e32ffb189|6              |8         |4            |5.8  |\n",
      "|019e9db765513628953ad2bf9b849f1fda0a98c03baeb6fc|9              |5         |5            |7.0  |\n",
      "|01a56b4d0fc520f09148ab89cfea2257129d9c54bab6938c|4              |4         |6            |4.6  |\n",
      "|01ad2842d091ead053c67961ba854211b682aa09793da619|3              |1         |4            |2.9  |\n",
      "|01b16159bc3df84bad82a500e4623cb26eb0e74848e8be64|7              |9         |5            |6.8  |\n",
      "|01b22661a6692d1acf7c13d07f667f5000640100f5e61e00|9              |8         |10           |9.1  |\n",
      "|01b3008ea0f108200dccde2a1c199457056fd73a10b43ab6|8              |9         |7            |7.9  |\n",
      "|01c1343c69f82d00adb11866880accf4669fab428e957e52|2              |3         |1            |1.9  |\n",
      "|01c7e7daf27a2baabd87b71dc753be7dc4dd656a06b796b2|7              |7         |10           |7.9  |\n",
      "|01d41decee313edee16780033ad7ef1990fc8d77480c0b48|6              |4         |3            |4.7  |\n",
      "+------------------------------------------------+---------------+----------+-------------+-----+\n",
      "only showing top 100 rows\n",
      "\n"
     ]
    }
   ],
   "source": [
    "#df_4.show(100, False )"
   ]
  },
  {
   "cell_type": "code",
   "execution_count": 113,
   "metadata": {
    "collapsed": true
   },
   "outputs": [],
   "source": [
    "#df_4.count()"
   ]
  },
  {
   "cell_type": "code",
   "execution_count": 77,
   "metadata": {
    "collapsed": true
   },
   "outputs": [],
   "source": [
    "df_4.createOrReplaceTempView('df_4')"
   ]
  },
  {
   "cell_type": "code",
   "execution_count": 115,
   "metadata": {
    "collapsed": true
   },
   "outputs": [],
   "source": [
    "#df_4_ordered = spark.sql('select score, count(ext_id) from df_4 group by score order by score asc')"
   ]
  },
  {
   "cell_type": "code",
   "execution_count": null,
   "metadata": {
    "collapsed": true
   },
   "outputs": [],
   "source": [
    "#df_4_ordered.show(40)"
   ]
  },
  {
   "cell_type": "code",
   "execution_count": 114,
   "metadata": {
    "collapsed": true
   },
   "outputs": [],
   "source": [
    "#df_4.printSchema()"
   ]
  },
  {
   "cell_type": "code",
   "execution_count": 78,
   "metadata": {
    "collapsed": true
   },
   "outputs": [],
   "source": [
    "df_score = spark.sql('select ext_id, decile_generico, decile_fan, decile_social, score from df_4 order by score asc')"
   ]
  },
  {
   "cell_type": "code",
   "execution_count": 106,
   "metadata": {},
   "outputs": [
    {
     "name": "stdout",
     "output_type": "stream",
     "text": [
      "+--------------------+---------------+----------+-------------+-----+\n",
      "|              ext_id|decile_generico|decile_fan|decile_social|score|\n",
      "+--------------------+---------------+----------+-------------+-----+\n",
      "|50f2aa3d72c194bbf...|              1|         2|            1|  1.2|\n",
      "|8818adbf0f0de243f...|              1|         2|            1|  1.2|\n",
      "|50ff059fa34fbc5db...|              1|         2|            1|  1.2|\n",
      "|00924fa0f071e8d74...|              1|         2|            1|  1.2|\n",
      "|52d09b3afde4849d2...|              1|         2|            1|  1.2|\n",
      "|01751ab631e923636...|              1|         2|            1|  1.2|\n",
      "|52fa9db906edbd7a8...|              1|         2|            1|  1.2|\n",
      "|03de3d4f993db45e7...|              1|         2|            1|  1.2|\n",
      "|53be88bbf59924986...|              1|         2|            1|  1.2|\n",
      "|052d9256280aaa211...|              1|         2|            1|  1.2|\n",
      "|53cd5eaaf70d84fc6...|              1|         2|            1|  1.2|\n",
      "|057429a7a03ac29fc...|              1|         2|            1|  1.2|\n",
      "|5414595a66a76de58...|              1|         2|            1|  1.2|\n",
      "|05d1aaabb9ff326f7...|              1|         2|            1|  1.2|\n",
      "|545627a61e8c53c99...|              1|         2|            1|  1.2|\n",
      "|06c0b635190cdb48c...|              1|         2|            1|  1.2|\n",
      "|545cefaf418ed7cd9...|              1|         2|            1|  1.2|\n",
      "|09bbe55cc7325b80a...|              1|         2|            1|  1.2|\n",
      "|556fd1501dda96843...|              1|         2|            1|  1.2|\n",
      "|0c21bac4a38d09ecd...|              1|         2|            1|  1.2|\n",
      "|55747a0d23e8a807f...|              1|         2|            1|  1.2|\n",
      "|0cc58053cdb5cb9f4...|              1|         2|            1|  1.2|\n",
      "|55e42e076b6e62790...|              1|         2|            1|  1.2|\n",
      "|0f56e7d80aa01b796...|              1|         2|            1|  1.2|\n",
      "|55fd2b9d6dc9306cf...|              1|         2|            1|  1.2|\n",
      "|11720a5b1a16fff82...|              1|         2|            1|  1.2|\n",
      "|56e88ea5056b09de5...|              1|         2|            1|  1.2|\n",
      "|12b99851e417a0242...|              1|         2|            1|  1.2|\n",
      "|56f1d298e8480928c...|              1|         2|            1|  1.2|\n",
      "|13156a38279872c7b...|              1|         2|            1|  1.2|\n",
      "|57711e691e9dc948f...|              1|         2|            1|  1.2|\n",
      "|153eff6d9ec741b25...|              1|         2|            1|  1.2|\n",
      "|57a7087642bef2de3...|              1|         2|            1|  1.2|\n",
      "|1703179caf9bc5def...|              1|         2|            1|  1.2|\n",
      "|58b68294ea16f931e...|              1|         2|            1|  1.2|\n",
      "|187406888f361a085...|              1|         2|            1|  1.2|\n",
      "|590cb1182c1f5d266...|              1|         2|            1|  1.2|\n",
      "|18fdc6e948c6e8835...|              1|         2|            1|  1.2|\n",
      "|5a2476930543d05a5...|              1|         2|            1|  1.2|\n",
      "|1bd6e61c31ec810cf...|              1|         2|            1|  1.2|\n",
      "|5b3a61db806323394...|              1|         2|            1|  1.2|\n",
      "|1f09ca74e067cdfb6...|              1|         2|            1|  1.2|\n",
      "|5ba62c5f1bb8f8523...|              1|         2|            1|  1.2|\n",
      "|1f5f74e1ac459351b...|              1|         2|            1|  1.2|\n",
      "|5bcfbc47bb2370c46...|              1|         2|            1|  1.2|\n",
      "|006616f2580451bf0...|              1|         2|            1|  1.2|\n",
      "|5c42f548b99a0a872...|              1|         2|            1|  1.2|\n",
      "|2136c645e0adfc19e...|              1|         2|            1|  1.2|\n",
      "|5c4b0db6d203861c6...|              1|         2|            1|  1.2|\n",
      "|225d51a4e7979ca1e...|              1|         2|            1|  1.2|\n",
      "|5cb4f9a4a4daa7fe4...|              1|         2|            1|  1.2|\n",
      "|240b2ee073a7c50d6...|              1|         2|            1|  1.2|\n",
      "|5ddd18f5a7b48055b...|              1|         2|            1|  1.2|\n",
      "|277957c20dec01332...|              1|         2|            1|  1.2|\n",
      "|601d7ab31a50c0ba5...|              1|         2|            1|  1.2|\n",
      "|292663150e09a8234...|              1|         2|            1|  1.2|\n",
      "|60310fb4454236dcf...|              1|         2|            1|  1.2|\n",
      "|2adaa8cdc1499a25a...|              1|         2|            1|  1.2|\n",
      "|604cdbe6f46376c8c...|              1|         2|            1|  1.2|\n",
      "|2b50201a25d4646d5...|              1|         2|            1|  1.2|\n",
      "|605a2635b2d823f63...|              1|         2|            1|  1.2|\n",
      "|2d57d161a5bc795f2...|              1|         2|            1|  1.2|\n",
      "|6208df70d40493292...|              1|         2|            1|  1.2|\n",
      "|2e9220f6a87df0fce...|              1|         2|            1|  1.2|\n",
      "|629ab2d2342108231...|              1|         2|            1|  1.2|\n",
      "|2f6dfa6a3a6b09b21...|              1|         2|            1|  1.2|\n",
      "|62a423ebd538283e1...|              1|         2|            1|  1.2|\n",
      "|31ee0a831b6349820...|              1|         2|            1|  1.2|\n",
      "|637090903f7b57d29...|              1|         2|            1|  1.2|\n",
      "|34a2cc6748d9f0e4c...|              1|         2|            1|  1.2|\n",
      "|63759c4786a18bf74...|              1|         2|            1|  1.2|\n",
      "|371bffb5efd5189b9...|              1|         2|            1|  1.2|\n",
      "|65473725fa24cbc2d...|              1|         2|            1|  1.2|\n",
      "|37a7d3eb4cc45d638...|              1|         2|            1|  1.2|\n",
      "|668fe5d22f321ad81...|              1|         2|            1|  1.2|\n",
      "|3839ba84a4b60f064...|              1|         2|            1|  1.2|\n",
      "|66cea78fc34612b1d...|              1|         2|            1|  1.2|\n",
      "|3b9404bf87e4eb055...|              1|         2|            1|  1.2|\n",
      "|67573952df1d35c80...|              1|         2|            1|  1.2|\n",
      "|3cd645b7c2ddbf1e0...|              1|         2|            1|  1.2|\n",
      "|680b210f6eff92b07...|              1|         2|            1|  1.2|\n",
      "|3cfc2d4e47d7a7a21...|              1|         2|            1|  1.2|\n",
      "|683d0ad087638de79...|              1|         2|            1|  1.2|\n",
      "|3d7b17d1c84c542a4...|              1|         2|            1|  1.2|\n",
      "|684c4b867d98bfa91...|              1|         2|            1|  1.2|\n",
      "|400b5f432ba8c5d07...|              1|         2|            1|  1.2|\n",
      "|6980729eb322e599f...|              1|         2|            1|  1.2|\n",
      "|405d16cc2ff4a74c9...|              1|         2|            1|  1.2|\n",
      "|69e3ae288c7aa9e12...|              1|         2|            1|  1.2|\n",
      "|41ff9e43393bc6abd...|              1|         2|            1|  1.2|\n",
      "|6a012827878c66f93...|              1|         2|            1|  1.2|\n",
      "|43a9e3be4706d89e1...|              1|         2|            1|  1.2|\n",
      "|6a3a857cee53e26fd...|              1|         2|            1|  1.2|\n",
      "|440840060a52d6de6...|              1|         2|            1|  1.2|\n",
      "|6aa98655619f79d26...|              1|         2|            1|  1.2|\n",
      "|45b08509bdfb1c185...|              1|         2|            1|  1.2|\n",
      "|6ac23af9b6878c877...|              1|         2|            1|  1.2|\n",
      "|4bb3d22ccd78f6a70...|              1|         2|            1|  1.2|\n",
      "|6ac851f976aefb641...|              1|         2|            1|  1.2|\n",
      "|4d0888f6bd38207ba...|              1|         2|            1|  1.2|\n",
      "+--------------------+---------------+----------+-------------+-----+\n",
      "only showing top 100 rows\n",
      "\n"
     ]
    }
   ],
   "source": [
    "#df_score.show(100)"
   ]
  },
  {
   "cell_type": "code",
   "execution_count": 79,
   "metadata": {
    "collapsed": true
   },
   "outputs": [],
   "source": [
    "df_score = df_score.withColumn(\"score\", df_score.score.cast(\"double\"))"
   ]
  },
  {
   "cell_type": "code",
   "execution_count": 80,
   "metadata": {
    "collapsed": true
   },
   "outputs": [],
   "source": [
    "from pyspark.ml.feature import QuantileDiscretizer"
   ]
  },
  {
   "cell_type": "code",
   "execution_count": 81,
   "metadata": {
    "collapsed": true
   },
   "outputs": [],
   "source": [
    "discretizer = QuantileDiscretizer(numBuckets=10, inputCol=\"score\", outputCol=\"bin_score\")\n",
    "df_score_bin = discretizer.fit(df_score).transform(df_score)"
   ]
  },
  {
   "cell_type": "code",
   "execution_count": 109,
   "metadata": {},
   "outputs": [
    {
     "name": "stdout",
     "output_type": "stream",
     "text": [
      "+--------------------+---------------+----------+-------------+-----+---------+\n",
      "|              ext_id|decile_generico|decile_fan|decile_social|score|bin_score|\n",
      "+--------------------+---------------+----------+-------------+-----+---------+\n",
      "|4d0888f6bd38207ba...|              1|         2|            1|  1.2|      0.0|\n",
      "|6208df70d40493292...|              1|         2|            1|  1.2|      0.0|\n",
      "|6ac851f976aefb641...|              1|         2|            1|  1.2|      0.0|\n",
      "|57711e691e9dc948f...|              1|         2|            1|  1.2|      0.0|\n",
      "|2d57d161a5bc795f2...|              1|         2|            1|  1.2|      0.0|\n",
      "|683d0ad087638de79...|              1|         2|            1|  1.2|      0.0|\n",
      "|4bb3d22ccd78f6a70...|              1|         2|            1|  1.2|      0.0|\n",
      "|545627a61e8c53c99...|              1|         2|            1|  1.2|      0.0|\n",
      "|13156a38279872c7b...|              1|         2|            1|  1.2|      0.0|\n",
      "|006616f2580451bf0...|              1|         2|            1|  1.2|      0.0|\n",
      "|605a2635b2d823f63...|              1|         2|            1|  1.2|      0.0|\n",
      "|668fe5d22f321ad81...|              1|         2|            1|  1.2|      0.0|\n",
      "|3cfc2d4e47d7a7a21...|              1|         2|            1|  1.2|      0.0|\n",
      "|41ff9e43393bc6abd...|              1|         2|            1|  1.2|      0.0|\n",
      "|6ac23af9b6878c877...|              1|         2|            1|  1.2|      0.0|\n",
      "|52fa9db906edbd7a8...|              1|         2|            1|  1.2|      0.0|\n",
      "|05d1aaabb9ff326f7...|              1|         2|            1|  1.2|      0.0|\n",
      "|0cc58053cdb5cb9f4...|              1|         2|            1|  1.2|      0.0|\n",
      "|56f1d298e8480928c...|              1|         2|            1|  1.2|      0.0|\n",
      "|18fdc6e948c6e8835...|              1|         2|            1|  1.2|      0.0|\n",
      "|5bcfbc47bb2370c46...|              1|         2|            1|  1.2|      0.0|\n",
      "|5ddd18f5a7b48055b...|              1|         2|            1|  1.2|      0.0|\n",
      "|2b50201a25d4646d5...|              1|         2|            1|  1.2|      0.0|\n",
      "|34a2cc6748d9f0e4c...|              1|         2|            1|  1.2|      0.0|\n",
      "|37a7d3eb4cc45d638...|              1|         2|            1|  1.2|      0.0|\n",
      "|3b9404bf87e4eb055...|              1|         2|            1|  1.2|      0.0|\n",
      "|680b210f6eff92b07...|              1|         2|            1|  1.2|      0.0|\n",
      "|400b5f432ba8c5d07...|              1|         2|            1|  1.2|      0.0|\n",
      "|69e3ae288c7aa9e12...|              1|         2|            1|  1.2|      0.0|\n",
      "|6a3a857cee53e26fd...|              1|         2|            1|  1.2|      0.0|\n",
      "|45b08509bdfb1c185...|              1|         2|            1|  1.2|      0.0|\n",
      "|50ff059fa34fbc5db...|              1|         2|            1|  1.2|      0.0|\n",
      "|01751ab631e923636...|              1|         2|            1|  1.2|      0.0|\n",
      "|052d9256280aaa211...|              1|         2|            1|  1.2|      0.0|\n",
      "|5414595a66a76de58...|              1|         2|            1|  1.2|      0.0|\n",
      "|09bbe55cc7325b80a...|              1|         2|            1|  1.2|      0.0|\n",
      "|55747a0d23e8a807f...|              1|         2|            1|  1.2|      0.0|\n",
      "|55fd2b9d6dc9306cf...|              1|         2|            1|  1.2|      0.0|\n",
      "|12b99851e417a0242...|              1|         2|            1|  1.2|      0.0|\n",
      "|1703179caf9bc5def...|              1|         2|            1|  1.2|      0.0|\n",
      "|590cb1182c1f5d266...|              1|         2|            1|  1.2|      0.0|\n",
      "|5b3a61db806323394...|              1|         2|            1|  1.2|      0.0|\n",
      "|1f5f74e1ac459351b...|              1|         2|            1|  1.2|      0.0|\n",
      "|5c4b0db6d203861c6...|              1|         2|            1|  1.2|      0.0|\n",
      "|240b2ee073a7c50d6...|              1|         2|            1|  1.2|      0.0|\n",
      "|292663150e09a8234...|              1|         2|            1|  1.2|      0.0|\n",
      "|604cdbe6f46376c8c...|              1|         2|            1|  1.2|      0.0|\n",
      "|2f6dfa6a3a6b09b21...|              1|         2|            1|  1.2|      0.0|\n",
      "|637090903f7b57d29...|              1|         2|            1|  1.2|      0.0|\n",
      "|371bffb5efd5189b9...|              1|         2|            1|  1.2|      0.0|\n",
      "|65473725fa24cbc2d...|              1|         2|            1|  1.2|      0.0|\n",
      "|3839ba84a4b60f064...|              1|         2|            1|  1.2|      0.0|\n",
      "|66cea78fc34612b1d...|              1|         2|            1|  1.2|      0.0|\n",
      "|67573952df1d35c80...|              1|         2|            1|  1.2|      0.0|\n",
      "|3cd645b7c2ddbf1e0...|              1|         2|            1|  1.2|      0.0|\n",
      "|3d7b17d1c84c542a4...|              1|         2|            1|  1.2|      0.0|\n",
      "|684c4b867d98bfa91...|              1|         2|            1|  1.2|      0.0|\n",
      "|6980729eb322e599f...|              1|         2|            1|  1.2|      0.0|\n",
      "|405d16cc2ff4a74c9...|              1|         2|            1|  1.2|      0.0|\n",
      "|6a012827878c66f93...|              1|         2|            1|  1.2|      0.0|\n",
      "|43a9e3be4706d89e1...|              1|         2|            1|  1.2|      0.0|\n",
      "|440840060a52d6de6...|              1|         2|            1|  1.2|      0.0|\n",
      "|6aa98655619f79d26...|              1|         2|            1|  1.2|      0.0|\n",
      "|50f2aa3d72c194bbf...|              1|         2|            1|  1.2|      0.0|\n",
      "|8818adbf0f0de243f...|              1|         2|            1|  1.2|      0.0|\n",
      "|00924fa0f071e8d74...|              1|         2|            1|  1.2|      0.0|\n",
      "|52d09b3afde4849d2...|              1|         2|            1|  1.2|      0.0|\n",
      "|03de3d4f993db45e7...|              1|         2|            1|  1.2|      0.0|\n",
      "|53be88bbf59924986...|              1|         2|            1|  1.2|      0.0|\n",
      "|53cd5eaaf70d84fc6...|              1|         2|            1|  1.2|      0.0|\n",
      "|057429a7a03ac29fc...|              1|         2|            1|  1.2|      0.0|\n",
      "|06c0b635190cdb48c...|              1|         2|            1|  1.2|      0.0|\n",
      "|545cefaf418ed7cd9...|              1|         2|            1|  1.2|      0.0|\n",
      "|556fd1501dda96843...|              1|         2|            1|  1.2|      0.0|\n",
      "|0c21bac4a38d09ecd...|              1|         2|            1|  1.2|      0.0|\n",
      "|55e42e076b6e62790...|              1|         2|            1|  1.2|      0.0|\n",
      "|0f56e7d80aa01b796...|              1|         2|            1|  1.2|      0.0|\n",
      "|11720a5b1a16fff82...|              1|         2|            1|  1.2|      0.0|\n",
      "|56e88ea5056b09de5...|              1|         2|            1|  1.2|      0.0|\n",
      "|153eff6d9ec741b25...|              1|         2|            1|  1.2|      0.0|\n",
      "|57a7087642bef2de3...|              1|         2|            1|  1.2|      0.0|\n",
      "|58b68294ea16f931e...|              1|         2|            1|  1.2|      0.0|\n",
      "|187406888f361a085...|              1|         2|            1|  1.2|      0.0|\n",
      "|5a2476930543d05a5...|              1|         2|            1|  1.2|      0.0|\n",
      "|1bd6e61c31ec810cf...|              1|         2|            1|  1.2|      0.0|\n",
      "|1f09ca74e067cdfb6...|              1|         2|            1|  1.2|      0.0|\n",
      "|5ba62c5f1bb8f8523...|              1|         2|            1|  1.2|      0.0|\n",
      "|5c42f548b99a0a872...|              1|         2|            1|  1.2|      0.0|\n",
      "|2136c645e0adfc19e...|              1|         2|            1|  1.2|      0.0|\n",
      "|225d51a4e7979ca1e...|              1|         2|            1|  1.2|      0.0|\n",
      "|5cb4f9a4a4daa7fe4...|              1|         2|            1|  1.2|      0.0|\n",
      "|277957c20dec01332...|              1|         2|            1|  1.2|      0.0|\n",
      "|601d7ab31a50c0ba5...|              1|         2|            1|  1.2|      0.0|\n",
      "|60310fb4454236dcf...|              1|         2|            1|  1.2|      0.0|\n",
      "|2adaa8cdc1499a25a...|              1|         2|            1|  1.2|      0.0|\n",
      "|2e9220f6a87df0fce...|              1|         2|            1|  1.2|      0.0|\n",
      "|629ab2d2342108231...|              1|         2|            1|  1.2|      0.0|\n",
      "|62a423ebd538283e1...|              1|         2|            1|  1.2|      0.0|\n",
      "|31ee0a831b6349820...|              1|         2|            1|  1.2|      0.0|\n",
      "|63759c4786a18bf74...|              1|         2|            1|  1.2|      0.0|\n",
      "+--------------------+---------------+----------+-------------+-----+---------+\n",
      "only showing top 100 rows\n",
      "\n"
     ]
    }
   ],
   "source": [
    "#df_score_bin.show(100)"
   ]
  },
  {
   "cell_type": "code",
   "execution_count": 82,
   "metadata": {
    "collapsed": true
   },
   "outputs": [],
   "source": [
    "df_score_bin.createOrReplaceTempView('df_score_bin')"
   ]
  },
  {
   "cell_type": "code",
   "execution_count": 111,
   "metadata": {
    "collapsed": true
   },
   "outputs": [],
   "source": [
    "#df_score_bin_grouped = spark.sql('select (bin_score+1) as bin_score, count(ext_id) from df_score_bin group by bin_score order by bin_score asc')"
   ]
  },
  {
   "cell_type": "code",
   "execution_count": 112,
   "metadata": {},
   "outputs": [
    {
     "name": "stdout",
     "output_type": "stream",
     "text": [
      "+---------+-------------+\n",
      "|bin_score|count(ext_id)|\n",
      "+---------+-------------+\n",
      "|      1.0|       278012|\n",
      "|      2.0|       284553|\n",
      "|      3.0|       285745|\n",
      "|      4.0|       291653|\n",
      "|      5.0|       266237|\n",
      "|      6.0|       305911|\n",
      "|      7.0|       275558|\n",
      "|      8.0|       294932|\n",
      "|      9.0|       262109|\n",
      "|     10.0|       316959|\n",
      "+---------+-------------+\n",
      "\n"
     ]
    }
   ],
   "source": [
    "#df_score_bin_grouped.show(15)"
   ]
  },
  {
   "cell_type": "markdown",
   "metadata": {
    "collapsed": true
   },
   "source": [
    "## Unisco tutte le variabili di Adobe con decili Generico, Fan, Social e score"
   ]
  },
  {
   "cell_type": "code",
   "execution_count": 83,
   "metadata": {
    "collapsed": true
   },
   "outputs": [],
   "source": [
    "df_originale = spark.read.format('parquet').load(path_adobe).persist()"
   ]
  },
  {
   "cell_type": "code",
   "execution_count": 84,
   "metadata": {
    "collapsed": true
   },
   "outputs": [],
   "source": [
    "df_originale.createOrReplaceTempView('df_originale')\n",
    "df_score_bin.createOrReplaceTempView('df_score_bin')"
   ]
  },
  {
   "cell_type": "code",
   "execution_count": 85,
   "metadata": {
    "collapsed": true
   },
   "outputs": [],
   "source": [
    "df_joined = spark.sql('select df_originale.*,df_score_bin.decile_generico, df_score_bin.decile_fan, df_score_bin.decile_social, df_score_bin.score, (df_score_bin.bin_score + 1) as bin_score from df_originale left join df_score_bin on df_originale.ext_id = df_score_bin.ext_id')"
   ]
  },
  {
   "cell_type": "code",
   "execution_count": 86,
   "metadata": {
    "collapsed": true
   },
   "outputs": [],
   "source": [
    "df_joined = df_joined.drop('score_digital')"
   ]
  },
  {
   "cell_type": "code",
   "execution_count": 136,
   "metadata": {
    "collapsed": true
   },
   "outputs": [],
   "source": [
    "#df_joined.printSchema()"
   ]
  },
  {
   "cell_type": "code",
   "execution_count": null,
   "metadata": {
    "collapsed": true
   },
   "outputs": [],
   "source": [
    "df_joined.write.parquet(\"/user/matteo.ballerinipuviani/df_score_digitale_adobe.parquet\", mode = \"overwrite\")"
   ]
  },
  {
   "cell_type": "markdown",
   "metadata": {},
   "source": [
    "## Unisco i decili di Adobe ed Adform "
   ]
  },
  {
   "cell_type": "code",
   "execution_count": 87,
   "metadata": {
    "collapsed": true
   },
   "outputs": [],
   "source": [
    "df_adobe = spark.read.format('parquet').load(\"/user/matteo.ballerinipuviani/df_score_digitale_adobe.parquet\").persist()"
   ]
  },
  {
   "cell_type": "code",
   "execution_count": 88,
   "metadata": {
    "collapsed": true
   },
   "outputs": [],
   "source": [
    "df_adform = spark.read.format('parquet').load(\"/user/emma.cambieri/PROBABILITY_DECILI_DIGITALIZZAZIONE/probability_adform_con_decili.parquet\").persist()"
   ]
  },
  {
   "cell_type": "code",
   "execution_count": 139,
   "metadata": {
    "collapsed": true
   },
   "outputs": [],
   "source": [
    "#df_adform.printSchema()"
   ]
  },
  {
   "cell_type": "code",
   "execution_count": 143,
   "metadata": {
    "collapsed": true
   },
   "outputs": [],
   "source": [
    "#df_adobe.printSchema()"
   ]
  },
  {
   "cell_type": "code",
   "execution_count": 89,
   "metadata": {
    "collapsed": true
   },
   "outputs": [],
   "source": [
    "df_adobe.createOrReplaceTempView('df_adobe')\n",
    "df_adform.createOrReplaceTempView('df_adform')"
   ]
  },
  {
   "cell_type": "code",
   "execution_count": 145,
   "metadata": {},
   "outputs": [
    {
     "ename": "AnalysisException",
     "evalue": "\"cannot resolve '`df_adobe.decile_generico`' given input columns: [visite_weekend_sport, visite_appsport_notte, ricorrenza_appxfactor, ricorrenza_appgtv, cookie_appwsc, secondi_editoriale, media_visite_sport, media_visite_appxfactor, visite_corporate_sera, ricorrenza_totale, visite_weekend_appgtv, visite_corporate_notte, visite_editoriale, ricorrenza_appsport, numero_reportsuite, numero_mesi_appwsc, durata_media_visite_tg24, visite_tg24_sera, media_visite_appgtv, score_utilizzo, visite_sport_notte, max_mesi_web, percentuale_mobile, visite_settimana_sport, ricorrenza_web, ricorrenza_tg24, visite_sport_pomeriggio, count_visits_other, decile, visite_weekend_appwsc, score, visite_appgtv_notte, numero_mesi_sport, visite_settimana_appwsc, secondi_totali_tg24, avg_visite_mese_web, visite_totali_sport, visite_totali_appgtv, visite_totali_appwsc, visite_appgtv_sera, visite_settimana_corporate, visite_appwsc_sera, visite_appsport_mattina, durata_media_visite_corporate, visite_settimana_appxfactor, cookie_appgtv, visite_sport_sera, visite_weekend_appsport, numero_mesi_corporate, visite_app, count_visits_desktop, visite_sport_mattina, avg_visite_mese_app, visite_tg24_notte, visite_totali_corporate, avg_sec_web, max_mesi_app, visite_weekend_corporate, visite_totali_appxfactor, secondi_totali_appsport, cookie_sport, ricorrenza_corporate_appwsc_appgtv, avg_sec_editoriale, visite_tg24_pomeriggio, avg_visite_mese_editoriale, cookie_appsport, durata_media_visite_appgtv, numero_mesi_tg24, ricorrenza_sport, secondi_totali_sport, ricorrenza_app, max_mesi_corporate_appwsc_appgtv, visite_appsport_sera, visite_settimana_appsport, cookie_skyitdev, durata_media_visite_sport, secondi_totali_appgtv, count_visits_mobile, visite_appwsc_pomeriggio, secondi_totali_appxfactor, ext_id, numero_mesi_appgtv, cookie_corporate, visite_appgtv_mattina, visite_appxfactor_mattina, durata_media_visite_appwsc, visite_appxfactor_notte, avg_visite_mese_corporate_appwsc_appgtv, visite_appgtv_pomeriggio, media_visite_tg24, max_mesi_editoriale, visite_tg24_mattina, ricorrenza_corporate, tipo_device, visite_weekend_tg24, secondi_totali_appwsc, ext_id_impression, visite_settimana_tg24, visite_totali_tg24, percentuale_other, visite_appxfactor_pomeriggio, visite_appwsc_mattina, visite_appwsc_notte, percentile_score_utilizzo, num, visite_weekend_appxfactor, visite_settimana_appgtv, secondi_app, percentuale_desktop, numero_mesi_appxfactor, numero_mesi_appsport, cookie_appxfactor, visite_web, durata_media_visite_appxfactor, ricorrenza_editoriale, media_visite_corporate, media_visite_appwsc, secondi_web, prob_1, count_visits_from_social, visite_corporate_pomeriggio, cookie_tg24, visite_totali_appsport, avg_sec_corporate_appwsc_appgtv, visite_corporate_mattina, media_visite_appsport, secondi_corporate_appwsc_appgtv, durata_media_visite_appsport, ricorrenza_appwsc, bin_score, secondi_totali_corporate, avg_sec_app, visite_appsport_pomeriggio, visite_corporate_appwsc_appgtv, visite_appxfactor_sera, social_network]; line 1 pos 267;\\n'Project [coalesce(ext_id_impression#44181, ext_id#43915) AS ext_id_adobe_adform#44193, ext_id_impression#44181 AS ext_id_adform#44194, ext_id#43915 AS ext_id_adobe#44195, decile#44183 AS adform_decile#44196, score#44045 AS score_adobe#44197, bin_score#44046 AS adobe_decile#44198, 'df_adobe.decile_generico, 'df_adobe.decile_fan, 'df_adobe.decile_social]\\n+- Join FullOuter, (ext_id_impression#44181 = ext_id#43915)\\n   :- SubqueryAlias df_adform, `df_adform`\\n   :  +- Relation[num#44180,ext_id_impression#44181,prob_1#44182,decile#44183] parquet\\n   +- SubqueryAlias df_adobe, `df_adobe`\\n      +- Relation[ext_id#43915,numero_mesi_corporate#43916,numero_mesi_tg24#43917,numero_mesi_sport#43918,numero_mesi_appgtv#43919,numero_mesi_appxfactor#43920,numero_mesi_appsport#43921,numero_mesi_appwsc#43922,visite_totali_corporate#43923,visite_totali_sport#43924,visite_totali_tg24#43925,visite_totali_appwsc#43926,visite_totali_appsport#43927,visite_totali_appgtv#43928,visite_totali_appxfactor#43929,numero_reportsuite#43930,cookie_corporate#43931,cookie_tg24#43932,cookie_sport#43933,cookie_skyitdev#43934,cookie_appgtv#43935,cookie_appxfactor#43936,cookie_appsport#43937,cookie_appwsc#43938,... 108 more fields] parquet\\n\"",
     "output_type": "error",
     "traceback": [
      "\u001b[0;31m---------------------------------------------------------------------------\u001b[0m",
      "\u001b[0;31mPy4JJavaError\u001b[0m                             Traceback (most recent call last)",
      "\u001b[0;32m/usr/local/spark/python/pyspark/sql/utils.py\u001b[0m in \u001b[0;36mdeco\u001b[0;34m(*a, **kw)\u001b[0m\n\u001b[1;32m     62\u001b[0m         \u001b[0;32mtry\u001b[0m\u001b[0;34m:\u001b[0m\u001b[0;34m\u001b[0m\u001b[0m\n\u001b[0;32m---> 63\u001b[0;31m             \u001b[0;32mreturn\u001b[0m \u001b[0mf\u001b[0m\u001b[0;34m(\u001b[0m\u001b[0;34m*\u001b[0m\u001b[0ma\u001b[0m\u001b[0;34m,\u001b[0m \u001b[0;34m**\u001b[0m\u001b[0mkw\u001b[0m\u001b[0;34m)\u001b[0m\u001b[0;34m\u001b[0m\u001b[0m\n\u001b[0m\u001b[1;32m     64\u001b[0m         \u001b[0;32mexcept\u001b[0m \u001b[0mpy4j\u001b[0m\u001b[0;34m.\u001b[0m\u001b[0mprotocol\u001b[0m\u001b[0;34m.\u001b[0m\u001b[0mPy4JJavaError\u001b[0m \u001b[0;32mas\u001b[0m \u001b[0me\u001b[0m\u001b[0;34m:\u001b[0m\u001b[0;34m\u001b[0m\u001b[0m\n",
      "\u001b[0;32m/usr/local/spark/python/lib/py4j-0.10.4-src.zip/py4j/protocol.py\u001b[0m in \u001b[0;36mget_return_value\u001b[0;34m(answer, gateway_client, target_id, name)\u001b[0m\n\u001b[1;32m    318\u001b[0m                     \u001b[0;34m\"An error occurred while calling {0}{1}{2}.\\n\"\u001b[0m\u001b[0;34m.\u001b[0m\u001b[0;34m\u001b[0m\u001b[0m\n\u001b[0;32m--> 319\u001b[0;31m                     format(target_id, \".\", name), value)\n\u001b[0m\u001b[1;32m    320\u001b[0m             \u001b[0;32melse\u001b[0m\u001b[0;34m:\u001b[0m\u001b[0;34m\u001b[0m\u001b[0m\n",
      "\u001b[0;31mPy4JJavaError\u001b[0m: An error occurred while calling o29.sql.\n: org.apache.spark.sql.AnalysisException: cannot resolve '`df_adobe.decile_generico`' given input columns: [visite_weekend_sport, visite_appsport_notte, ricorrenza_appxfactor, ricorrenza_appgtv, cookie_appwsc, secondi_editoriale, media_visite_sport, media_visite_appxfactor, visite_corporate_sera, ricorrenza_totale, visite_weekend_appgtv, visite_corporate_notte, visite_editoriale, ricorrenza_appsport, numero_reportsuite, numero_mesi_appwsc, durata_media_visite_tg24, visite_tg24_sera, media_visite_appgtv, score_utilizzo, visite_sport_notte, max_mesi_web, percentuale_mobile, visite_settimana_sport, ricorrenza_web, ricorrenza_tg24, visite_sport_pomeriggio, count_visits_other, decile, visite_weekend_appwsc, score, visite_appgtv_notte, numero_mesi_sport, visite_settimana_appwsc, secondi_totali_tg24, avg_visite_mese_web, visite_totali_sport, visite_totali_appgtv, visite_totali_appwsc, visite_appgtv_sera, visite_settimana_corporate, visite_appwsc_sera, visite_appsport_mattina, durata_media_visite_corporate, visite_settimana_appxfactor, cookie_appgtv, visite_sport_sera, visite_weekend_appsport, numero_mesi_corporate, visite_app, count_visits_desktop, visite_sport_mattina, avg_visite_mese_app, visite_tg24_notte, visite_totali_corporate, avg_sec_web, max_mesi_app, visite_weekend_corporate, visite_totali_appxfactor, secondi_totali_appsport, cookie_sport, ricorrenza_corporate_appwsc_appgtv, avg_sec_editoriale, visite_tg24_pomeriggio, avg_visite_mese_editoriale, cookie_appsport, durata_media_visite_appgtv, numero_mesi_tg24, ricorrenza_sport, secondi_totali_sport, ricorrenza_app, max_mesi_corporate_appwsc_appgtv, visite_appsport_sera, visite_settimana_appsport, cookie_skyitdev, durata_media_visite_sport, secondi_totali_appgtv, count_visits_mobile, visite_appwsc_pomeriggio, secondi_totali_appxfactor, ext_id, numero_mesi_appgtv, cookie_corporate, visite_appgtv_mattina, visite_appxfactor_mattina, durata_media_visite_appwsc, visite_appxfactor_notte, avg_visite_mese_corporate_appwsc_appgtv, visite_appgtv_pomeriggio, media_visite_tg24, max_mesi_editoriale, visite_tg24_mattina, ricorrenza_corporate, tipo_device, visite_weekend_tg24, secondi_totali_appwsc, ext_id_impression, visite_settimana_tg24, visite_totali_tg24, percentuale_other, visite_appxfactor_pomeriggio, visite_appwsc_mattina, visite_appwsc_notte, percentile_score_utilizzo, num, visite_weekend_appxfactor, visite_settimana_appgtv, secondi_app, percentuale_desktop, numero_mesi_appxfactor, numero_mesi_appsport, cookie_appxfactor, visite_web, durata_media_visite_appxfactor, ricorrenza_editoriale, media_visite_corporate, media_visite_appwsc, secondi_web, prob_1, count_visits_from_social, visite_corporate_pomeriggio, cookie_tg24, visite_totali_appsport, avg_sec_corporate_appwsc_appgtv, visite_corporate_mattina, media_visite_appsport, secondi_corporate_appwsc_appgtv, durata_media_visite_appsport, ricorrenza_appwsc, bin_score, secondi_totali_corporate, avg_sec_app, visite_appsport_pomeriggio, visite_corporate_appwsc_appgtv, visite_appxfactor_sera, social_network]; line 1 pos 267;\n'Project [coalesce(ext_id_impression#44181, ext_id#43915) AS ext_id_adobe_adform#44193, ext_id_impression#44181 AS ext_id_adform#44194, ext_id#43915 AS ext_id_adobe#44195, decile#44183 AS adform_decile#44196, score#44045 AS score_adobe#44197, bin_score#44046 AS adobe_decile#44198, 'df_adobe.decile_generico, 'df_adobe.decile_fan, 'df_adobe.decile_social]\n+- Join FullOuter, (ext_id_impression#44181 = ext_id#43915)\n   :- SubqueryAlias df_adform, `df_adform`\n   :  +- Relation[num#44180,ext_id_impression#44181,prob_1#44182,decile#44183] parquet\n   +- SubqueryAlias df_adobe, `df_adobe`\n      +- Relation[ext_id#43915,numero_mesi_corporate#43916,numero_mesi_tg24#43917,numero_mesi_sport#43918,numero_mesi_appgtv#43919,numero_mesi_appxfactor#43920,numero_mesi_appsport#43921,numero_mesi_appwsc#43922,visite_totali_corporate#43923,visite_totali_sport#43924,visite_totali_tg24#43925,visite_totali_appwsc#43926,visite_totali_appsport#43927,visite_totali_appgtv#43928,visite_totali_appxfactor#43929,numero_reportsuite#43930,cookie_corporate#43931,cookie_tg24#43932,cookie_sport#43933,cookie_skyitdev#43934,cookie_appgtv#43935,cookie_appxfactor#43936,cookie_appsport#43937,cookie_appwsc#43938,... 108 more fields] parquet\n\n\tat org.apache.spark.sql.catalyst.analysis.package$AnalysisErrorAt.failAnalysis(package.scala:42)\n\tat org.apache.spark.sql.catalyst.analysis.CheckAnalysis$$anonfun$checkAnalysis$1$$anonfun$apply$2.applyOrElse(CheckAnalysis.scala:77)\n\tat org.apache.spark.sql.catalyst.analysis.CheckAnalysis$$anonfun$checkAnalysis$1$$anonfun$apply$2.applyOrElse(CheckAnalysis.scala:74)\n\tat org.apache.spark.sql.catalyst.trees.TreeNode$$anonfun$transformUp$1.apply(TreeNode.scala:310)\n\tat org.apache.spark.sql.catalyst.trees.TreeNode$$anonfun$transformUp$1.apply(TreeNode.scala:310)\n\tat org.apache.spark.sql.catalyst.trees.CurrentOrigin$.withOrigin(TreeNode.scala:70)\n\tat org.apache.spark.sql.catalyst.trees.TreeNode.transformUp(TreeNode.scala:309)\n\tat org.apache.spark.sql.catalyst.plans.QueryPlan.transformExpressionUp$1(QueryPlan.scala:282)\n\tat org.apache.spark.sql.catalyst.plans.QueryPlan.org$apache$spark$sql$catalyst$plans$QueryPlan$$recursiveTransform$2(QueryPlan.scala:292)\n\tat org.apache.spark.sql.catalyst.plans.QueryPlan$$anonfun$org$apache$spark$sql$catalyst$plans$QueryPlan$$recursiveTransform$2$1.apply(QueryPlan.scala:296)\n\tat scala.collection.TraversableLike$$anonfun$map$1.apply(TraversableLike.scala:234)\n\tat scala.collection.TraversableLike$$anonfun$map$1.apply(TraversableLike.scala:234)\n\tat scala.collection.immutable.List.foreach(List.scala:381)\n\tat scala.collection.TraversableLike$class.map(TraversableLike.scala:234)\n\tat scala.collection.immutable.List.map(List.scala:285)\n\tat org.apache.spark.sql.catalyst.plans.QueryPlan.org$apache$spark$sql$catalyst$plans$QueryPlan$$recursiveTransform$2(QueryPlan.scala:296)\n\tat org.apache.spark.sql.catalyst.plans.QueryPlan$$anonfun$7.apply(QueryPlan.scala:301)\n\tat org.apache.spark.sql.catalyst.trees.TreeNode.mapProductIterator(TreeNode.scala:188)\n\tat org.apache.spark.sql.catalyst.plans.QueryPlan.transformExpressionsUp(QueryPlan.scala:301)\n\tat org.apache.spark.sql.catalyst.analysis.CheckAnalysis$$anonfun$checkAnalysis$1.apply(CheckAnalysis.scala:74)\n\tat org.apache.spark.sql.catalyst.analysis.CheckAnalysis$$anonfun$checkAnalysis$1.apply(CheckAnalysis.scala:67)\n\tat org.apache.spark.sql.catalyst.trees.TreeNode.foreachUp(TreeNode.scala:128)\n\tat org.apache.spark.sql.catalyst.analysis.CheckAnalysis$class.checkAnalysis(CheckAnalysis.scala:67)\n\tat org.apache.spark.sql.catalyst.analysis.Analyzer.checkAnalysis(Analyzer.scala:57)\n\tat org.apache.spark.sql.execution.QueryExecution.assertAnalyzed(QueryExecution.scala:48)\n\tat org.apache.spark.sql.Dataset$.ofRows(Dataset.scala:63)\n\tat org.apache.spark.sql.SparkSession.sql(SparkSession.scala:592)\n\tat sun.reflect.GeneratedMethodAccessor73.invoke(Unknown Source)\n\tat sun.reflect.DelegatingMethodAccessorImpl.invoke(DelegatingMethodAccessorImpl.java:43)\n\tat java.lang.reflect.Method.invoke(Method.java:498)\n\tat py4j.reflection.MethodInvoker.invoke(MethodInvoker.java:244)\n\tat py4j.reflection.ReflectionEngine.invoke(ReflectionEngine.java:357)\n\tat py4j.Gateway.invoke(Gateway.java:280)\n\tat py4j.commands.AbstractCommand.invokeMethod(AbstractCommand.java:132)\n\tat py4j.commands.CallCommand.execute(CallCommand.java:79)\n\tat py4j.GatewayConnection.run(GatewayConnection.java:214)\n\tat java.lang.Thread.run(Thread.java:748)\n",
      "\nDuring handling of the above exception, another exception occurred:\n",
      "\u001b[0;31mAnalysisException\u001b[0m                         Traceback (most recent call last)",
      "\u001b[0;32m<ipython-input-145-5a52123c1f73>\u001b[0m in \u001b[0;36m<module>\u001b[0;34m()\u001b[0m\n\u001b[0;32m----> 1\u001b[0;31m \u001b[0mdf_finale_digitalizzazione\u001b[0m \u001b[0;34m=\u001b[0m \u001b[0mspark\u001b[0m\u001b[0;34m.\u001b[0m\u001b[0msql\u001b[0m\u001b[0;34m(\u001b[0m\u001b[0;34m'select coalesce(df_adform.ext_id_impression, df_adobe.ext_id) as ext_id_adobe_adform, df_adform.ext_id_impression as ext_id_adform, df_adobe.ext_id as ext_id_adobe, df_adform.decile as adform_decile, df_adobe.score as score_adobe, df_adobe.bin_score as adobe_decile, df_adobe.decile_generico, df_adobe.decile_fan, df_adobe.decile_social from df_adform full outer join df_adobe on df_adform.ext_id_impression = df_adobe.ext_id'\u001b[0m\u001b[0;34m)\u001b[0m\u001b[0;34m\u001b[0m\u001b[0m\n\u001b[0m",
      "\u001b[0;32m/usr/local/spark/python/pyspark/sql/session.py\u001b[0m in \u001b[0;36msql\u001b[0;34m(self, sqlQuery)\u001b[0m\n\u001b[1;32m    539\u001b[0m         \u001b[0;34m[\u001b[0m\u001b[0mRow\u001b[0m\u001b[0;34m(\u001b[0m\u001b[0mf1\u001b[0m\u001b[0;34m=\u001b[0m\u001b[0;36m1\u001b[0m\u001b[0;34m,\u001b[0m \u001b[0mf2\u001b[0m\u001b[0;34m=\u001b[0m\u001b[0;34mu'row1'\u001b[0m\u001b[0;34m)\u001b[0m\u001b[0;34m,\u001b[0m \u001b[0mRow\u001b[0m\u001b[0;34m(\u001b[0m\u001b[0mf1\u001b[0m\u001b[0;34m=\u001b[0m\u001b[0;36m2\u001b[0m\u001b[0;34m,\u001b[0m \u001b[0mf2\u001b[0m\u001b[0;34m=\u001b[0m\u001b[0;34mu'row2'\u001b[0m\u001b[0;34m)\u001b[0m\u001b[0;34m,\u001b[0m \u001b[0mRow\u001b[0m\u001b[0;34m(\u001b[0m\u001b[0mf1\u001b[0m\u001b[0;34m=\u001b[0m\u001b[0;36m3\u001b[0m\u001b[0;34m,\u001b[0m \u001b[0mf2\u001b[0m\u001b[0;34m=\u001b[0m\u001b[0;34mu'row3'\u001b[0m\u001b[0;34m)\u001b[0m\u001b[0;34m]\u001b[0m\u001b[0;34m\u001b[0m\u001b[0m\n\u001b[1;32m    540\u001b[0m         \"\"\"\n\u001b[0;32m--> 541\u001b[0;31m         \u001b[0;32mreturn\u001b[0m \u001b[0mDataFrame\u001b[0m\u001b[0;34m(\u001b[0m\u001b[0mself\u001b[0m\u001b[0;34m.\u001b[0m\u001b[0m_jsparkSession\u001b[0m\u001b[0;34m.\u001b[0m\u001b[0msql\u001b[0m\u001b[0;34m(\u001b[0m\u001b[0msqlQuery\u001b[0m\u001b[0;34m)\u001b[0m\u001b[0;34m,\u001b[0m \u001b[0mself\u001b[0m\u001b[0;34m.\u001b[0m\u001b[0m_wrapped\u001b[0m\u001b[0;34m)\u001b[0m\u001b[0;34m\u001b[0m\u001b[0m\n\u001b[0m\u001b[1;32m    542\u001b[0m \u001b[0;34m\u001b[0m\u001b[0m\n\u001b[1;32m    543\u001b[0m     \u001b[0;34m@\u001b[0m\u001b[0msince\u001b[0m\u001b[0;34m(\u001b[0m\u001b[0;36m2.0\u001b[0m\u001b[0;34m)\u001b[0m\u001b[0;34m\u001b[0m\u001b[0m\n",
      "\u001b[0;32m/usr/local/spark/python/lib/py4j-0.10.4-src.zip/py4j/java_gateway.py\u001b[0m in \u001b[0;36m__call__\u001b[0;34m(self, *args)\u001b[0m\n\u001b[1;32m   1131\u001b[0m         \u001b[0manswer\u001b[0m \u001b[0;34m=\u001b[0m \u001b[0mself\u001b[0m\u001b[0;34m.\u001b[0m\u001b[0mgateway_client\u001b[0m\u001b[0;34m.\u001b[0m\u001b[0msend_command\u001b[0m\u001b[0;34m(\u001b[0m\u001b[0mcommand\u001b[0m\u001b[0;34m)\u001b[0m\u001b[0;34m\u001b[0m\u001b[0m\n\u001b[1;32m   1132\u001b[0m         return_value = get_return_value(\n\u001b[0;32m-> 1133\u001b[0;31m             answer, self.gateway_client, self.target_id, self.name)\n\u001b[0m\u001b[1;32m   1134\u001b[0m \u001b[0;34m\u001b[0m\u001b[0m\n\u001b[1;32m   1135\u001b[0m         \u001b[0;32mfor\u001b[0m \u001b[0mtemp_arg\u001b[0m \u001b[0;32min\u001b[0m \u001b[0mtemp_args\u001b[0m\u001b[0;34m:\u001b[0m\u001b[0;34m\u001b[0m\u001b[0m\n",
      "\u001b[0;32m/usr/local/spark/python/pyspark/sql/utils.py\u001b[0m in \u001b[0;36mdeco\u001b[0;34m(*a, **kw)\u001b[0m\n\u001b[1;32m     67\u001b[0m                                              e.java_exception.getStackTrace()))\n\u001b[1;32m     68\u001b[0m             \u001b[0;32mif\u001b[0m \u001b[0ms\u001b[0m\u001b[0;34m.\u001b[0m\u001b[0mstartswith\u001b[0m\u001b[0;34m(\u001b[0m\u001b[0;34m'org.apache.spark.sql.AnalysisException: '\u001b[0m\u001b[0;34m)\u001b[0m\u001b[0;34m:\u001b[0m\u001b[0;34m\u001b[0m\u001b[0m\n\u001b[0;32m---> 69\u001b[0;31m                 \u001b[0;32mraise\u001b[0m \u001b[0mAnalysisException\u001b[0m\u001b[0;34m(\u001b[0m\u001b[0ms\u001b[0m\u001b[0;34m.\u001b[0m\u001b[0msplit\u001b[0m\u001b[0;34m(\u001b[0m\u001b[0;34m': '\u001b[0m\u001b[0;34m,\u001b[0m \u001b[0;36m1\u001b[0m\u001b[0;34m)\u001b[0m\u001b[0;34m[\u001b[0m\u001b[0;36m1\u001b[0m\u001b[0;34m]\u001b[0m\u001b[0;34m,\u001b[0m \u001b[0mstackTrace\u001b[0m\u001b[0;34m)\u001b[0m\u001b[0;34m\u001b[0m\u001b[0m\n\u001b[0m\u001b[1;32m     70\u001b[0m             \u001b[0;32mif\u001b[0m \u001b[0ms\u001b[0m\u001b[0;34m.\u001b[0m\u001b[0mstartswith\u001b[0m\u001b[0;34m(\u001b[0m\u001b[0;34m'org.apache.spark.sql.catalyst.analysis'\u001b[0m\u001b[0;34m)\u001b[0m\u001b[0;34m:\u001b[0m\u001b[0;34m\u001b[0m\u001b[0m\n\u001b[1;32m     71\u001b[0m                 \u001b[0;32mraise\u001b[0m \u001b[0mAnalysisException\u001b[0m\u001b[0;34m(\u001b[0m\u001b[0ms\u001b[0m\u001b[0;34m.\u001b[0m\u001b[0msplit\u001b[0m\u001b[0;34m(\u001b[0m\u001b[0;34m': '\u001b[0m\u001b[0;34m,\u001b[0m \u001b[0;36m1\u001b[0m\u001b[0;34m)\u001b[0m\u001b[0;34m[\u001b[0m\u001b[0;36m1\u001b[0m\u001b[0;34m]\u001b[0m\u001b[0;34m,\u001b[0m \u001b[0mstackTrace\u001b[0m\u001b[0;34m)\u001b[0m\u001b[0;34m\u001b[0m\u001b[0m\n",
      "\u001b[0;31mAnalysisException\u001b[0m: \"cannot resolve '`df_adobe.decile_generico`' given input columns: [visite_weekend_sport, visite_appsport_notte, ricorrenza_appxfactor, ricorrenza_appgtv, cookie_appwsc, secondi_editoriale, media_visite_sport, media_visite_appxfactor, visite_corporate_sera, ricorrenza_totale, visite_weekend_appgtv, visite_corporate_notte, visite_editoriale, ricorrenza_appsport, numero_reportsuite, numero_mesi_appwsc, durata_media_visite_tg24, visite_tg24_sera, media_visite_appgtv, score_utilizzo, visite_sport_notte, max_mesi_web, percentuale_mobile, visite_settimana_sport, ricorrenza_web, ricorrenza_tg24, visite_sport_pomeriggio, count_visits_other, decile, visite_weekend_appwsc, score, visite_appgtv_notte, numero_mesi_sport, visite_settimana_appwsc, secondi_totali_tg24, avg_visite_mese_web, visite_totali_sport, visite_totali_appgtv, visite_totali_appwsc, visite_appgtv_sera, visite_settimana_corporate, visite_appwsc_sera, visite_appsport_mattina, durata_media_visite_corporate, visite_settimana_appxfactor, cookie_appgtv, visite_sport_sera, visite_weekend_appsport, numero_mesi_corporate, visite_app, count_visits_desktop, visite_sport_mattina, avg_visite_mese_app, visite_tg24_notte, visite_totali_corporate, avg_sec_web, max_mesi_app, visite_weekend_corporate, visite_totali_appxfactor, secondi_totali_appsport, cookie_sport, ricorrenza_corporate_appwsc_appgtv, avg_sec_editoriale, visite_tg24_pomeriggio, avg_visite_mese_editoriale, cookie_appsport, durata_media_visite_appgtv, numero_mesi_tg24, ricorrenza_sport, secondi_totali_sport, ricorrenza_app, max_mesi_corporate_appwsc_appgtv, visite_appsport_sera, visite_settimana_appsport, cookie_skyitdev, durata_media_visite_sport, secondi_totali_appgtv, count_visits_mobile, visite_appwsc_pomeriggio, secondi_totali_appxfactor, ext_id, numero_mesi_appgtv, cookie_corporate, visite_appgtv_mattina, visite_appxfactor_mattina, durata_media_visite_appwsc, visite_appxfactor_notte, avg_visite_mese_corporate_appwsc_appgtv, visite_appgtv_pomeriggio, media_visite_tg24, max_mesi_editoriale, visite_tg24_mattina, ricorrenza_corporate, tipo_device, visite_weekend_tg24, secondi_totali_appwsc, ext_id_impression, visite_settimana_tg24, visite_totali_tg24, percentuale_other, visite_appxfactor_pomeriggio, visite_appwsc_mattina, visite_appwsc_notte, percentile_score_utilizzo, num, visite_weekend_appxfactor, visite_settimana_appgtv, secondi_app, percentuale_desktop, numero_mesi_appxfactor, numero_mesi_appsport, cookie_appxfactor, visite_web, durata_media_visite_appxfactor, ricorrenza_editoriale, media_visite_corporate, media_visite_appwsc, secondi_web, prob_1, count_visits_from_social, visite_corporate_pomeriggio, cookie_tg24, visite_totali_appsport, avg_sec_corporate_appwsc_appgtv, visite_corporate_mattina, media_visite_appsport, secondi_corporate_appwsc_appgtv, durata_media_visite_appsport, ricorrenza_appwsc, bin_score, secondi_totali_corporate, avg_sec_app, visite_appsport_pomeriggio, visite_corporate_appwsc_appgtv, visite_appxfactor_sera, social_network]; line 1 pos 267;\\n'Project [coalesce(ext_id_impression#44181, ext_id#43915) AS ext_id_adobe_adform#44193, ext_id_impression#44181 AS ext_id_adform#44194, ext_id#43915 AS ext_id_adobe#44195, decile#44183 AS adform_decile#44196, score#44045 AS score_adobe#44197, bin_score#44046 AS adobe_decile#44198, 'df_adobe.decile_generico, 'df_adobe.decile_fan, 'df_adobe.decile_social]\\n+- Join FullOuter, (ext_id_impression#44181 = ext_id#43915)\\n   :- SubqueryAlias df_adform, `df_adform`\\n   :  +- Relation[num#44180,ext_id_impression#44181,prob_1#44182,decile#44183] parquet\\n   +- SubqueryAlias df_adobe, `df_adobe`\\n      +- Relation[ext_id#43915,numero_mesi_corporate#43916,numero_mesi_tg24#43917,numero_mesi_sport#43918,numero_mesi_appgtv#43919,numero_mesi_appxfactor#43920,numero_mesi_appsport#43921,numero_mesi_appwsc#43922,visite_totali_corporate#43923,visite_totali_sport#43924,visite_totali_tg24#43925,visite_totali_appwsc#43926,visite_totali_appsport#43927,visite_totali_appgtv#43928,visite_totali_appxfactor#43929,numero_reportsuite#43930,cookie_corporate#43931,cookie_tg24#43932,cookie_sport#43933,cookie_skyitdev#43934,cookie_appgtv#43935,cookie_appxfactor#43936,cookie_appsport#43937,cookie_appwsc#43938,... 108 more fields] parquet\\n\""
     ]
    }
   ],
   "source": [
    "df_finale_digitalizzazione = spark.sql('select coalesce(df_adform.ext_id_impression, df_adobe.ext_id) as ext_id_adobe_adform, df_adform.ext_id_impression as ext_id_adform, df_adobe.ext_id as ext_id_adobe, df_adform.decile as adform_decile, df_adobe.score as score_adobe, df_adobe.bin_score as adobe_decile, df_adobe.decile_generico, df_adobe.decile_fan, df_adobe.decile_social from df_adform full outer join df_adobe on df_adform.ext_id_impression = df_adobe.ext_id')"
   ]
  },
  {
   "cell_type": "code",
   "execution_count": null,
   "metadata": {
    "collapsed": true
   },
   "outputs": [],
   "source": [
    "df_finale_digitalizzazione.write.parquet(\"/user/matteo.ballerinipuviani/DF_CON_SCORE/df_adform_adobe_lug_dic.parquet\", mode = \"overwrite\")"
   ]
  },
  {
   "cell_type": "code",
   "execution_count": 163,
   "metadata": {
    "collapsed": true
   },
   "outputs": [],
   "source": [
    "df_adobe_adform = spark.read.format('parquet').load(\"/user/matteo.ballerinipuviani/DF_CON_SCORE/df_adform_adobe_lug_dic.parquet\").persist()"
   ]
  },
  {
   "cell_type": "code",
   "execution_count": 90,
   "metadata": {
    "collapsed": true
   },
   "outputs": [],
   "source": [
    "#df_adobe_adform.printSchema()"
   ]
  },
  {
   "cell_type": "code",
   "execution_count": 165,
   "metadata": {},
   "outputs": [
    {
     "name": "stdout",
     "output_type": "stream",
     "text": [
      "+--------------------+--------------------+--------------------+-------------+-----------+------------+\n",
      "| ext_id_adobe_adform|       ext_id_adform|        ext_id_adobe|adform_decile|score_adobe|adobe_decile|\n",
      "+--------------------+--------------------+--------------------+-------------+-----------+------------+\n",
      "|0005f3f18bda8a53a...|                null|0005f3f18bda8a53a...|         null|        5.2|         5.0|\n",
      "|0006530d860a31ca2...|0006530d860a31ca2...|0006530d860a31ca2...|            8|        8.7|         9.0|\n",
      "|0006b83f9d38ac301...|0006b83f9d38ac301...|0006b83f9d38ac301...|            3|        1.9|         2.0|\n",
      "|000ae1a773010077d...|000ae1a773010077d...|                null|            1|       null|        null|\n",
      "|000aec8698c204eca...|000aec8698c204eca...|000aec8698c204eca...|            7|        9.1|        10.0|\n",
      "|000effd99733aebfe...|000effd99733aebfe...|000effd99733aebfe...|            3|        3.8|         3.0|\n",
      "|000fd3e0c929462b3...|000fd3e0c929462b3...|000fd3e0c929462b3...|            7|        5.2|         5.0|\n",
      "|001516de23bee4c89...|                null|001516de23bee4c89...|         null|        1.5|         1.0|\n",
      "|001a2224a6e43beef...|001a2224a6e43beef...|001a2224a6e43beef...|            5|        9.7|        10.0|\n",
      "|001a420df0de04a04...|001a420df0de04a04...|                null|            1|       null|        null|\n",
      "|001da7d5e04f2482f...|001da7d5e04f2482f...|001da7d5e04f2482f...|            2|        1.8|         2.0|\n",
      "|001e2193b90bffb5b...|001e2193b90bffb5b...|001e2193b90bffb5b...|            3|       10.0|        10.0|\n",
      "|0026ea7fa4c588c71...|0026ea7fa4c588c71...|0026ea7fa4c588c71...|            3|        3.6|         3.0|\n",
      "|0028e80ef65484c56...|0028e80ef65484c56...|0028e80ef65484c56...|            1|        1.3|         1.0|\n",
      "|002bd395a3f7ca4ec...|002bd395a3f7ca4ec...|002bd395a3f7ca4ec...|            2|        4.3|         4.0|\n",
      "|002e280652ccfb8b0...|002e280652ccfb8b0...|002e280652ccfb8b0...|            9|        5.3|         5.0|\n",
      "|003146d8bef6285ab...|                null|003146d8bef6285ab...|         null|        8.3|         9.0|\n",
      "|0034732e24e76cc3a...|0034732e24e76cc3a...|0034732e24e76cc3a...|            7|        6.3|         6.0|\n",
      "|00376aa9ec875e1e5...|00376aa9ec875e1e5...|00376aa9ec875e1e5...|            7|        4.8|         5.0|\n",
      "|003bd909360cc50de...|003bd909360cc50de...|                null|            5|       null|        null|\n",
      "+--------------------+--------------------+--------------------+-------------+-----------+------------+\n",
      "only showing top 20 rows\n",
      "\n"
     ]
    }
   ],
   "source": [
    "df_adobe_adform.show()"
   ]
  },
  {
   "cell_type": "code",
   "execution_count": 166,
   "metadata": {
    "collapsed": true
   },
   "outputs": [],
   "source": [
    "df_adobe_adform.createOrReplaceTempView('df_adobe_adform')"
   ]
  },
  {
   "cell_type": "code",
   "execution_count": 170,
   "metadata": {
    "collapsed": true
   },
   "outputs": [],
   "source": [
    "decile_pesato_50_50 = spark.sql('SELECT D.*,CASE WHEN (D.adobe_decile is null) THEN D.adform_decile WHEN (D.adform_decile is null) THEN D.adobe_decile WHEN (D.adobe_decile is not null and D.adform_decile is not null) THEN (round(0.5*D.adobe_decile + 0.5*D.adform_decile)) ELSE Null END AS decile_pesato FROM df_adobe_adform D')"
   ]
  },
  {
   "cell_type": "code",
   "execution_count": 171,
   "metadata": {},
   "outputs": [
    {
     "name": "stdout",
     "output_type": "stream",
     "text": [
      "+--------------------+--------------------+--------------------+-------------+-----------+------------+-------------+\n",
      "| ext_id_adobe_adform|       ext_id_adform|        ext_id_adobe|adform_decile|score_adobe|adobe_decile|decile_pesato|\n",
      "+--------------------+--------------------+--------------------+-------------+-----------+------------+-------------+\n",
      "|0005f3f18bda8a53a...|                null|0005f3f18bda8a53a...|         null|        5.2|         5.0|          5.0|\n",
      "|0006530d860a31ca2...|0006530d860a31ca2...|0006530d860a31ca2...|            8|        8.7|         9.0|          9.0|\n",
      "|0006b83f9d38ac301...|0006b83f9d38ac301...|0006b83f9d38ac301...|            3|        1.9|         2.0|          3.0|\n",
      "|000ae1a773010077d...|000ae1a773010077d...|                null|            1|       null|        null|          1.0|\n",
      "|000aec8698c204eca...|000aec8698c204eca...|000aec8698c204eca...|            7|        9.1|        10.0|          9.0|\n",
      "|000effd99733aebfe...|000effd99733aebfe...|000effd99733aebfe...|            3|        3.8|         3.0|          3.0|\n",
      "|000fd3e0c929462b3...|000fd3e0c929462b3...|000fd3e0c929462b3...|            7|        5.2|         5.0|          6.0|\n",
      "|001516de23bee4c89...|                null|001516de23bee4c89...|         null|        1.5|         1.0|          1.0|\n",
      "|001a2224a6e43beef...|001a2224a6e43beef...|001a2224a6e43beef...|            5|        9.7|        10.0|          8.0|\n",
      "|001a420df0de04a04...|001a420df0de04a04...|                null|            1|       null|        null|          1.0|\n",
      "|001da7d5e04f2482f...|001da7d5e04f2482f...|001da7d5e04f2482f...|            2|        1.8|         2.0|          2.0|\n",
      "|001e2193b90bffb5b...|001e2193b90bffb5b...|001e2193b90bffb5b...|            3|       10.0|        10.0|          7.0|\n",
      "|0026ea7fa4c588c71...|0026ea7fa4c588c71...|0026ea7fa4c588c71...|            3|        3.6|         3.0|          3.0|\n",
      "|0028e80ef65484c56...|0028e80ef65484c56...|0028e80ef65484c56...|            1|        1.3|         1.0|          1.0|\n",
      "|002bd395a3f7ca4ec...|002bd395a3f7ca4ec...|002bd395a3f7ca4ec...|            2|        4.3|         4.0|          3.0|\n",
      "|002e280652ccfb8b0...|002e280652ccfb8b0...|002e280652ccfb8b0...|            9|        5.3|         5.0|          7.0|\n",
      "|003146d8bef6285ab...|                null|003146d8bef6285ab...|         null|        8.3|         9.0|          9.0|\n",
      "|0034732e24e76cc3a...|0034732e24e76cc3a...|0034732e24e76cc3a...|            7|        6.3|         6.0|          7.0|\n",
      "|00376aa9ec875e1e5...|00376aa9ec875e1e5...|00376aa9ec875e1e5...|            7|        4.8|         5.0|          6.0|\n",
      "|003bd909360cc50de...|003bd909360cc50de...|                null|            5|       null|        null|          5.0|\n",
      "+--------------------+--------------------+--------------------+-------------+-----------+------------+-------------+\n",
      "only showing top 20 rows\n",
      "\n"
     ]
    }
   ],
   "source": [
    "decile_pesato_50_50.show()"
   ]
  },
  {
   "cell_type": "code",
   "execution_count": 172,
   "metadata": {
    "collapsed": true
   },
   "outputs": [],
   "source": [
    "#decile_pesato_50_50.createOrReplaceTempView('decile_pesato_50_50')"
   ]
  },
  {
   "cell_type": "code",
   "execution_count": 173,
   "metadata": {
    "collapsed": true
   },
   "outputs": [],
   "source": [
    "#count_decili = spark.sql('select decile_pesato, count(ext_id_adobe_adform) from decile_pesato_50_50 group by decile_pesato order by decile_pesato asc')"
   ]
  },
  {
   "cell_type": "code",
   "execution_count": 174,
   "metadata": {},
   "outputs": [
    {
     "name": "stdout",
     "output_type": "stream",
     "text": [
      "+-------------+--------------------------+\n",
      "|decile_pesato|count(ext_id_adobe_adform)|\n",
      "+-------------+--------------------------+\n",
      "|          1.0|                    203032|\n",
      "|          2.0|                    329763|\n",
      "|          3.0|                    326856|\n",
      "|          4.0|                    383638|\n",
      "|          5.0|                    411647|\n",
      "|          6.0|                    423857|\n",
      "|          7.0|                    405673|\n",
      "|          8.0|                    348468|\n",
      "|          9.0|                    276864|\n",
      "|         10.0|                    211977|\n",
      "+-------------+--------------------------+\n",
      "\n"
     ]
    }
   ],
   "source": [
    "#count_decili.show()"
   ]
  },
  {
   "cell_type": "code",
   "execution_count": 175,
   "metadata": {},
   "outputs": [
    {
     "data": {
      "text/plain": [
       "3321775"
      ]
     },
     "execution_count": 175,
     "metadata": {},
     "output_type": "execute_result"
    }
   ],
   "source": [
    "#decile_pesato_50_50.count()"
   ]
  },
  {
   "cell_type": "code",
   "execution_count": null,
   "metadata": {
    "collapsed": true
   },
   "outputs": [],
   "source": [
    "decile_pesato_50_50.write.parquet(\"/user/matteo.ballerinipuviani/DF_CON_SCORE/SCORE_DIGITALE_PESATO_ADFORM_ADOBE_50_50\")"
   ]
  },
  {
   "cell_type": "code",
   "execution_count": 179,
   "metadata": {
    "collapsed": true
   },
   "outputs": [],
   "source": [
    "df_joined = spark.read.format('parquet').load(\"/user/matteo.ballerinipuviani/DF_CON_SCORE/SCORE_DIGITALE_PESATO_ADFORM_ADOBE_50_50\").persist()"
   ]
  },
  {
   "cell_type": "code",
   "execution_count": 180,
   "metadata": {},
   "outputs": [
    {
     "name": "stdout",
     "output_type": "stream",
     "text": [
      "root\n",
      " |-- ext_id_totale: string (nullable = true)\n",
      " |-- numero_mesi_corporate: double (nullable = true)\n",
      " |-- numero_mesi_tg24: double (nullable = true)\n",
      " |-- numero_mesi_sport: double (nullable = true)\n",
      " |-- numero_mesi_appgtv: double (nullable = true)\n",
      " |-- numero_mesi_appxfactor: double (nullable = true)\n",
      " |-- numero_mesi_appsport: double (nullable = true)\n",
      " |-- numero_mesi_appwsc: double (nullable = true)\n",
      " |-- visite_totali_corporate: double (nullable = true)\n",
      " |-- visite_totali_sport: double (nullable = true)\n",
      " |-- visite_totali_tg24: double (nullable = true)\n",
      " |-- visite_totali_appwsc: double (nullable = true)\n",
      " |-- visite_totali_appsport: double (nullable = true)\n",
      " |-- visite_totali_appgtv: double (nullable = true)\n",
      " |-- visite_totali_appxfactor: double (nullable = true)\n",
      " |-- numero_reportsuite: double (nullable = true)\n",
      " |-- cookie_corporate: double (nullable = true)\n",
      " |-- cookie_tg24: double (nullable = true)\n",
      " |-- cookie_sport: double (nullable = true)\n",
      " |-- cookie_skyitdev: double (nullable = true)\n",
      " |-- cookie_appgtv: double (nullable = true)\n",
      " |-- cookie_appxfactor: double (nullable = true)\n",
      " |-- cookie_appsport: double (nullable = true)\n",
      " |-- cookie_appwsc: double (nullable = true)\n",
      " |-- count_visits_from_social: double (nullable = true)\n",
      " |-- social_network: string (nullable = true)\n",
      " |-- secondi_totali_corporate: double (nullable = true)\n",
      " |-- secondi_totali_tg24: double (nullable = true)\n",
      " |-- secondi_totali_sport: double (nullable = true)\n",
      " |-- secondi_totali_appgtv: double (nullable = true)\n",
      " |-- secondi_totali_appxfactor: double (nullable = true)\n",
      " |-- secondi_totali_appsport: double (nullable = true)\n",
      " |-- secondi_totali_appwsc: double (nullable = true)\n",
      " |-- count_visits_mobile: double (nullable = true)\n",
      " |-- count_visits_desktop: double (nullable = true)\n",
      " |-- count_visits_other: double (nullable = true)\n",
      " |-- tipo_device: string (nullable = true)\n",
      " |-- media_visite_corporate: double (nullable = true)\n",
      " |-- media_visite_tg24: double (nullable = true)\n",
      " |-- media_visite_sport: double (nullable = true)\n",
      " |-- media_visite_appgtv: double (nullable = true)\n",
      " |-- media_visite_appxfactor: double (nullable = true)\n",
      " |-- media_visite_appsport: double (nullable = true)\n",
      " |-- media_visite_appwsc: double (nullable = true)\n",
      " |-- avg_visite_mese_web: double (nullable = true)\n",
      " |-- percentuale_mobile: double (nullable = true)\n",
      " |-- percentuale_desktop: double (nullable = true)\n",
      " |-- percentuale_other: double (nullable = true)\n",
      " |-- durata_media_visite_corporate: double (nullable = true)\n",
      " |-- durata_media_visite_tg24: double (nullable = true)\n",
      " |-- durata_media_visite_sport: double (nullable = true)\n",
      " |-- durata_media_visite_appgtv: double (nullable = true)\n",
      " |-- durata_media_visite_appxfactor: double (nullable = true)\n",
      " |-- durata_media_visite_appsport: double (nullable = true)\n",
      " |-- durata_media_visite_appwsc: double (nullable = true)\n",
      " |-- ricorrenza_corporate: double (nullable = true)\n",
      " |-- ricorrenza_tg24: double (nullable = true)\n",
      " |-- ricorrenza_sport: double (nullable = true)\n",
      " |-- ricorrenza_appgtv: double (nullable = true)\n",
      " |-- ricorrenza_appxfactor: double (nullable = true)\n",
      " |-- ricorrenza_appsport: double (nullable = true)\n",
      " |-- ricorrenza_appwsc: double (nullable = true)\n",
      " |-- visite_corporate_appwsc_appgtv: double (nullable = true)\n",
      " |-- visite_editoriale: double (nullable = true)\n",
      " |-- visite_web: double (nullable = true)\n",
      " |-- visite_app: double (nullable = true)\n",
      " |-- max_mesi_corporate_appwsc_appgtv: double (nullable = true)\n",
      " |-- max_mesi_editoriale: double (nullable = true)\n",
      " |-- max_mesi_web: double (nullable = true)\n",
      " |-- max_mesi_app: double (nullable = true)\n",
      " |-- avg_visite_mese_corporate_appwsc_appgtv: double (nullable = true)\n",
      " |-- avg_visite_mese_editoriale: double (nullable = true)\n",
      " |-- avg_visite_mese_app: double (nullable = true)\n",
      " |-- secondi_corporate_appwsc_appgtv: double (nullable = true)\n",
      " |-- secondi_editoriale: double (nullable = true)\n",
      " |-- secondi_web: double (nullable = true)\n",
      " |-- secondi_app: double (nullable = true)\n",
      " |-- avg_sec_corporate_appwsc_appgtv: double (nullable = true)\n",
      " |-- avg_sec_editoriale: double (nullable = true)\n",
      " |-- avg_sec_web: double (nullable = true)\n",
      " |-- avg_sec_app: double (nullable = true)\n",
      " |-- score_utilizzo: double (nullable = true)\n",
      " |-- percentile_score_utilizzo: double (nullable = true)\n",
      " |-- ricorrenza_corporate_appwsc_appgtv: double (nullable = true)\n",
      " |-- ricorrenza_editoriale: double (nullable = true)\n",
      " |-- ricorrenza_web: double (nullable = true)\n",
      " |-- ricorrenza_app: double (nullable = true)\n",
      " |-- visite_settimana_corporate: double (nullable = true)\n",
      " |-- visite_weekend_corporate: double (nullable = true)\n",
      " |-- visite_settimana_sport: double (nullable = true)\n",
      " |-- visite_weekend_sport: double (nullable = true)\n",
      " |-- visite_settimana_tg24: double (nullable = true)\n",
      " |-- visite_weekend_tg24: double (nullable = true)\n",
      " |-- visite_settimana_appwsc: double (nullable = true)\n",
      " |-- visite_weekend_appwsc: double (nullable = true)\n",
      " |-- visite_settimana_appsport: double (nullable = true)\n",
      " |-- visite_weekend_appsport: double (nullable = true)\n",
      " |-- visite_settimana_appgtv: double (nullable = true)\n",
      " |-- visite_weekend_appgtv: double (nullable = true)\n",
      " |-- visite_settimana_appxfactor: double (nullable = true)\n",
      " |-- visite_weekend_appxfactor: double (nullable = true)\n",
      " |-- visite_corporate_notte: double (nullable = true)\n",
      " |-- visite_corporate_mattina: double (nullable = true)\n",
      " |-- visite_corporate_pomeriggio: double (nullable = true)\n",
      " |-- visite_corporate_sera: double (nullable = true)\n",
      " |-- visite_tg24_notte: double (nullable = true)\n",
      " |-- visite_tg24_mattina: double (nullable = true)\n",
      " |-- visite_tg24_pomeriggio: double (nullable = true)\n",
      " |-- visite_tg24_sera: double (nullable = true)\n",
      " |-- visite_sport_notte: double (nullable = true)\n",
      " |-- visite_sport_mattina: double (nullable = true)\n",
      " |-- visite_sport_pomeriggio: double (nullable = true)\n",
      " |-- visite_sport_sera: double (nullable = true)\n",
      " |-- visite_appwsc_notte: double (nullable = true)\n",
      " |-- visite_appwsc_mattina: double (nullable = true)\n",
      " |-- visite_appwsc_pomeriggio: double (nullable = true)\n",
      " |-- visite_appwsc_sera: double (nullable = true)\n",
      " |-- visite_appgtv_notte: double (nullable = true)\n",
      " |-- visite_appgtv_mattina: double (nullable = true)\n",
      " |-- visite_appgtv_pomeriggio: double (nullable = true)\n",
      " |-- visite_appgtv_sera: double (nullable = true)\n",
      " |-- visite_appsport_notte: double (nullable = true)\n",
      " |-- visite_appsport_mattina: double (nullable = true)\n",
      " |-- visite_appsport_pomeriggio: double (nullable = true)\n",
      " |-- visite_appsport_sera: double (nullable = true)\n",
      " |-- visite_appxfactor_notte: double (nullable = true)\n",
      " |-- visite_appxfactor_mattina: double (nullable = true)\n",
      " |-- visite_appxfactor_pomeriggio: double (nullable = true)\n",
      " |-- visite_appxfactor_sera: double (nullable = true)\n",
      " |-- ricorrenza_totale: string (nullable = true)\n",
      " |-- numero_mesi: long (nullable = true)\n",
      " |-- numero_week: long (nullable = true)\n",
      " |-- numero_giorni: long (nullable = true)\n",
      " |-- impression_tot: double (nullable = true)\n",
      " |-- impression_mobile: double (nullable = true)\n",
      " |-- impression_desktop: double (nullable = true)\n",
      " |-- impression_tablet: double (nullable = true)\n",
      " |-- impression_week: double (nullable = true)\n",
      " |-- impression_weekend: double (nullable = true)\n",
      " |-- impression_mattina: double (nullable = true)\n",
      " |-- impression_pomeriggio: double (nullable = true)\n",
      " |-- impression_sera: double (nullable = true)\n",
      " |-- impression_notte: double (nullable = true)\n",
      " |-- avg_impression_mese: double (nullable = true)\n",
      " |-- avg_impression_week: double (nullable = true)\n",
      " |-- avg_impression_giorno: double (nullable = true)\n",
      " |-- perc_impression_mobile: double (nullable = true)\n",
      " |-- perc_impression_desktop: double (nullable = true)\n",
      " |-- perc_impression_tablet: double (nullable = true)\n",
      " |-- numero_device: double (nullable = true)\n",
      " |-- numero_mobile: double (nullable = true)\n",
      " |-- numero_desktop: double (nullable = true)\n",
      " |-- numero_tablet: long (nullable = true)\n",
      " |-- perc_mobile: double (nullable = true)\n",
      " |-- perc_desktop: double (nullable = true)\n",
      " |-- perc_tablet: double (nullable = true)\n",
      " |-- numero_social_provenienza: long (nullable = true)\n",
      " |-- numero_impression_social: double (nullable = true)\n",
      " |-- flag_social: double (nullable = true)\n",
      " |-- numero_cookies: double (nullable = true)\n",
      " |-- visite_settimana_corporate_appwsc_appgtv: double (nullable = true)\n",
      " |-- visite_settimana_editoriale: double (nullable = true)\n",
      " |-- visite_settimana_web: double (nullable = true)\n",
      " |-- visite_settimana_app: double (nullable = true)\n",
      " |-- visite_weekend_corporate_appwsc_appgtv: double (nullable = true)\n",
      " |-- visite_weekend_editoriale: double (nullable = true)\n",
      " |-- visite_weekend_web: double (nullable = true)\n",
      " |-- visite_weekend_app: double (nullable = true)\n",
      " |-- visite_mattina_corporate_appwsc_appgtv: double (nullable = true)\n",
      " |-- visite_mattina_editoriale: double (nullable = true)\n",
      " |-- visite_mattina_web: double (nullable = true)\n",
      " |-- visite_mattina_app: double (nullable = true)\n",
      " |-- visite_pomeriggio_corporate_appwsc_appgtv: double (nullable = true)\n",
      " |-- visite_pomeriggio_editoriale: double (nullable = true)\n",
      " |-- visite_pomeriggio_web: double (nullable = true)\n",
      " |-- visite_pomeriggio_app: double (nullable = true)\n",
      " |-- visite_sera_corporate_appwsc_appgtv: double (nullable = true)\n",
      " |-- visite_sera_editoriale: double (nullable = true)\n",
      " |-- visite_sera_web: double (nullable = true)\n",
      " |-- visite_sera_app: double (nullable = true)\n",
      " |-- visite_notte_corporate_appwsc_appgtv: double (nullable = true)\n",
      " |-- visite_notte_editoriale: double (nullable = true)\n",
      " |-- visite_notte_web: double (nullable = true)\n",
      " |-- visite_notte_app: double (nullable = true)\n",
      " |-- adobe_decile: double (nullable = true)\n",
      " |-- adform_decile: integer (nullable = true)\n",
      " |-- decile_pesato: double (nullable = true)\n",
      "\n"
     ]
    }
   ],
   "source": [
    "#df_joined.printSchema()"
   ]
  }
 ],
 "metadata": {
  "kernelspec": {
   "display_name": "Python 3",
   "language": "python",
   "name": "python3"
  },
  "language_info": {
   "codemirror_mode": {
    "name": "ipython",
    "version": 3
   },
   "file_extension": ".py",
   "mimetype": "text/x-python",
   "name": "python",
   "nbconvert_exporter": "python",
   "pygments_lexer": "ipython3",
   "version": "3.5.3"
  }
 },
 "nbformat": 4,
 "nbformat_minor": 2
}
