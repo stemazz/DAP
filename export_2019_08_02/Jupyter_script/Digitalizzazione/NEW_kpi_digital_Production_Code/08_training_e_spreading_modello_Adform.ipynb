{
 "cells": [
  {
   "cell_type": "code",
   "execution_count": 1,
   "metadata": {
    "collapsed": true
   },
   "outputs": [],
   "source": [
    "%run ../../connection.python.py"
   ]
  },
  {
   "cell_type": "code",
   "execution_count": 11,
   "metadata": {
    "collapsed": true
   },
   "outputs": [],
   "source": [
    "path_golden_adform = \"/user/emma.cambieri/Digitalizzazione/Apr2019/golden_adform_nov_apr.parquet\"  ## di EMMA!!\n",
    "path_model_adform = \"/user/emma.cambieri/Digitalizzazione/Apr2019/modelli/model_adform\" ## di EMMA!!\n",
    "path_prediction_adform = \"/user/emma.cambieri/Digitalizzazione/Apr2019/prediction/prediction_adform_nov_apr.parquet\"  ## di EMMA!!\n",
    "path_decile_adform_e_variabili = \"/user/emma.cambieri/Digitalizzazione/Apr2019/decile_adform_e_variabili.parquet\"  ## di EMMA!!"
   ]
  },
  {
   "cell_type": "code",
   "execution_count": 6,
   "metadata": {
    "collapsed": true
   },
   "outputs": [],
   "source": [
    "golden_train = spark.read.format('parquet').load(path_golden_adform).persist()"
   ]
  },
  {
   "cell_type": "code",
   "execution_count": 7,
   "metadata": {},
   "outputs": [
    {
     "data": {
      "text/plain": [
       "2790876"
      ]
     },
     "execution_count": 7,
     "metadata": {},
     "output_type": "execute_result"
    }
   ],
   "source": [
    "golden_train.count()"
   ]
  },
  {
   "cell_type": "code",
   "execution_count": 11,
   "metadata": {
    "collapsed": true,
    "scrolled": false
   },
   "outputs": [],
   "source": [
    "#golden_train.printSchema()"
   ]
  },
  {
   "cell_type": "code",
   "execution_count": 12,
   "metadata": {
    "collapsed": true
   },
   "outputs": [],
   "source": [
    "golden_train = golden_train.drop('numero_week', 'impression_tot', 'impression_week', 'impression_weekend',\n",
    "                                 'impression_mattina', 'impression_pomeriggio','impression_sera',  'impression_notte',\n",
    "                                 'avg_impression_week','numero_social_provenienza') "
   ]
  },
  {
   "cell_type": "code",
   "execution_count": 15,
   "metadata": {
    "collapsed": true
   },
   "outputs": [],
   "source": [
    "#golden_train.show(10)"
   ]
  },
  {
   "cell_type": "code",
   "execution_count": null,
   "metadata": {
    "collapsed": true
   },
   "outputs": [],
   "source": [
    "#golden_train = golden_train.fillna(0)"
   ]
  },
  {
   "cell_type": "code",
   "execution_count": 16,
   "metadata": {},
   "outputs": [
    {
     "name": "stdout",
     "output_type": "stream",
     "text": [
      "26\n"
     ]
    }
   ],
   "source": [
    "print(len(golden_train.columns))"
   ]
  },
  {
   "cell_type": "code",
   "execution_count": 18,
   "metadata": {
    "collapsed": true
   },
   "outputs": [],
   "source": [
    "#string_columns= [\"social_network\", \"tipo_device\", \"ricorrenza_corporate\", \"ricorrenza_tg24\", \"ricorrenza_sport\",\n",
    "                      #\"ricorrenza_appgtv\", \"ricorrenza_appxfactor\", \"ricorrenza_appsport\", \"ricorrenza_appwsc\",\n",
    "                      #\"ricorrenza_corporate_appwsc_appgtv\", \"ricorrenza_editoriale\", \"ricorrenza_web\", \"ricorrenza_app\",\n",
    "                      #\"ricorrenza_totale\"]\n",
    "#for c in string_columns:\n",
    "#    golden_train = golden_train.withColumn(c, golden_train[c].cast('string'))\n",
    "\n",
    "avg_columns= [\"avg_impression_mese\",\"avg_impression_giorno\", \"perc_impression_mobile\",\n",
    "                    \"perc_impression_desktop\",\"perc_impression_tablet\",\"perc_impression_tv_unknown\",\"perc_mobile\",\"perc_desktop\",\n",
    "                    \"perc_tablet\", \"perc_tv_unknown\"]\n",
    "\n",
    "for cols in avg_columns:\n",
    "    golden_train= golden_train.withColumn(cols, golden_train[cols].cast('float'))\n",
    "        \n",
    "integ_columns = golden_train.drop(\"ext_id_impression\",\"avg_impression_mese\",\"avg_impression_giorno\", \"perc_impression_mobile\",\n",
    "                    \"perc_impression_desktop\",\"perc_impression_tablet\",\"perc_impression_tv_unknown\",\"perc_mobile\",\"perc_desktop\",\n",
    "                    \"perc_tablet\",\"perc_tv_unknown\",\"flag_social\", \"score_digital\").columns\n",
    "\n",
    "\n",
    "for col_int in integ_columns:\n",
    "  golden_train = golden_train.withColumn(col_int,golden_train[col_int].cast(\"integer\"))\n",
    "\n",
    "#golden_train.printSchema()"
   ]
  },
  {
   "cell_type": "code",
   "execution_count": 19,
   "metadata": {
    "scrolled": true
   },
   "outputs": [
    {
     "name": "stdout",
     "output_type": "stream",
     "text": [
      "train dataset 0 and 1: 200011\n",
      "train dataset 0: 84661\n",
      "train dataset 1: 115350\n"
     ]
    }
   ],
   "source": [
    "prova= golden_train.filter('score_digital == 0 or score_digital == 1')\n",
    "print(str(\"train dataset 0 and 1:\"), prova.count()) #dovremo avere intorno ai 200K\n",
    "\n",
    "prova0= golden_train.filter('score_digital == 0')\n",
    "print(str(\"train dataset 0:\"), prova0.count()) #intorno ai 80 K\n",
    "\n",
    "prova1= golden_train.filter('score_digital == 1')\n",
    "print(str(\"train dataset 1:\"), prova1.count()) #intorno ai 120 K"
   ]
  },
  {
   "cell_type": "code",
   "execution_count": 20,
   "metadata": {
    "collapsed": true
   },
   "outputs": [],
   "source": [
    "testData= golden_train.filter('score_digital == 1 or score_digital is null')"
   ]
  },
  {
   "cell_type": "code",
   "execution_count": 21,
   "metadata": {},
   "outputs": [
    {
     "data": {
      "text/plain": [
       "2706215"
      ]
     },
     "execution_count": 21,
     "metadata": {},
     "output_type": "execute_result"
    }
   ],
   "source": [
    "testData.count() #2.407.826"
   ]
  },
  {
   "cell_type": "code",
   "execution_count": 22,
   "metadata": {
    "collapsed": true
   },
   "outputs": [],
   "source": [
    "testData = testData.drop('numero_week', 'impression_tot', 'impression_week', 'impression_weekend',\n",
    "                                 'impression_mattina', 'impression_pomeriggio','impression_sera',  'impression_notte',\n",
    "                                 'avg_impression_week', 'numero_social_provenienza', 'score_digital')"
   ]
  },
  {
   "cell_type": "code",
   "execution_count": 23,
   "metadata": {},
   "outputs": [
    {
     "name": "stdout",
     "output_type": "stream",
     "text": [
      "25\n"
     ]
    }
   ],
   "source": [
    "print(len(testData.columns))"
   ]
  },
  {
   "cell_type": "code",
   "execution_count": 24,
   "metadata": {},
   "outputs": [
    {
     "name": "stdout",
     "output_type": "stream",
     "text": [
      "25\n"
     ]
    }
   ],
   "source": [
    "col_test = testData.columns\n",
    "col_golden_train = golden_train.columns\n",
    "\n",
    "print(len(set(col_test).intersection(col_golden_train)))"
   ]
  },
  {
   "cell_type": "code",
   "execution_count": 25,
   "metadata": {
    "collapsed": true
   },
   "outputs": [],
   "source": [
    "#string_columns= [\"social_network\", \"tipo_device\", \"ricorrenza_corporate\", \"ricorrenza_tg24\", \"ricorrenza_sport\",\n",
    "                      #\"ricorrenza_appgtv\", \"ricorrenza_appxfactor\", \"ricorrenza_appsport\", \"ricorrenza_appwsc\",\n",
    "                      #\"ricorrenza_corporate_appwsc_appgtv\", \"ricorrenza_editoriale\", \"ricorrenza_web\", \"ricorrenza_app\",\n",
    "                      #\"ricorrenza_totale\"]\n",
    "#for c in string_columns:\n",
    "#    golden_train = golden_train.withColumn(c, golden_train[c].cast('string'))\n",
    "\n",
    "avg_columns= [\"avg_impression_mese\",\"avg_impression_giorno\", \"perc_impression_mobile\",\n",
    "                    \"perc_impression_desktop\",\"perc_impression_tablet\",\"perc_impression_tv_unknown\", \"perc_mobile\",\"perc_desktop\",\n",
    "                    \"perc_tablet\", \"perc_tv_unknown\"]\n",
    "\n",
    "for cols in avg_columns:\n",
    "    testData= testData.withColumn(cols, testData[cols].cast('float'))\n",
    "        \n",
    "integ_columns = testData.drop(\"ext_id_impression\",\"avg_impression_mese\",\"avg_impression_giorno\", \"perc_impression_mobile\",\n",
    "                    \"perc_impression_desktop\",\"perc_impression_tablet\",\"perc_impression_tv_unknown\",\"perc_mobile\",\"perc_desktop\",\n",
    "                    \"perc_tablet\",\"flag_social\", \"perc_tv_unknown\").columns\n",
    "\n",
    "\n",
    "for col_int in integ_columns:\n",
    "  testData = testData.withColumn(col_int,testData[col_int].cast(\"integer\"))\n",
    "\n",
    "#testData.printSchema()"
   ]
  },
  {
   "cell_type": "code",
   "execution_count": 26,
   "metadata": {
    "collapsed": true
   },
   "outputs": [],
   "source": [
    "#Import useful packages:\n",
    "from pyspark.ml import Pipeline\n",
    "from pyspark.ml.classification import RandomForestClassifier\n",
    "from pyspark.ml.regression import RandomForestRegressor\n",
    "from pyspark.ml.tuning import CrossValidator, ParamGridBuilder\n",
    "from pyspark.ml.evaluation import MulticlassClassificationEvaluator, BinaryClassificationEvaluator, RegressionEvaluator\n",
    "from pyspark.ml.feature import VectorAssembler\n",
    "from pyspark.ml.feature import StringIndexer\n",
    "from pyspark.ml.feature import OneHotEncoder"
   ]
  },
  {
   "cell_type": "markdown",
   "metadata": {},
   "source": [
    "### Train, validation and test dataset"
   ]
  },
  {
   "cell_type": "code",
   "execution_count": 133,
   "metadata": {
    "collapsed": true
   },
   "outputs": [],
   "source": [
    "#0 da escludere dal training:\n",
    "golden_train_0_esclusi = golden_train.filter('score_digital == 0')"
   ]
  },
  {
   "cell_type": "code",
   "execution_count": 29,
   "metadata": {
    "collapsed": true
   },
   "outputs": [],
   "source": [
    "#golden_train_0_esclusi.count() "
   ]
  },
  {
   "cell_type": "code",
   "execution_count": 30,
   "metadata": {
    "collapsed": true
   },
   "outputs": [],
   "source": [
    "#nuovo golden_train, senza gli 0:\n",
    "golden_train_1_e_null =golden_train.filter('score_digital == 1 or score_digital is null')"
   ]
  },
  {
   "cell_type": "code",
   "execution_count": 59,
   "metadata": {
    "collapsed": true
   },
   "outputs": [],
   "source": [
    "#golden_train_1_e_null.count()"
   ]
  },
  {
   "cell_type": "code",
   "execution_count": 33,
   "metadata": {
    "collapsed": true
   },
   "outputs": [],
   "source": [
    "golden_train1 = golden_train.filter('score_digital==1')"
   ]
  },
  {
   "cell_type": "code",
   "execution_count": 99,
   "metadata": {
    "collapsed": true,
    "scrolled": true
   },
   "outputs": [],
   "source": [
    "#golden_train1.count()"
   ]
  },
  {
   "cell_type": "code",
   "execution_count": 36,
   "metadata": {
    "collapsed": true
   },
   "outputs": [],
   "source": [
    "golden_train_null = golden_train.filter('score_digital is null')"
   ]
  },
  {
   "cell_type": "code",
   "execution_count": 38,
   "metadata": {
    "collapsed": true
   },
   "outputs": [],
   "source": [
    "#golden_train_null.count()"
   ]
  },
  {
   "cell_type": "code",
   "execution_count": 52,
   "metadata": {
    "collapsed": true
   },
   "outputs": [],
   "source": [
    "#proportion of data to be sampled from golen_train_null:\n",
    "limite_1 = (0.7*golden_train1.count())/0.3\n",
    "limite = int(limite_1)"
   ]
  },
  {
   "cell_type": "code",
   "execution_count": 53,
   "metadata": {
    "collapsed": true
   },
   "outputs": [],
   "source": [
    "golden_train0_70 = golden_train_null.limit(limite)"
   ]
  },
  {
   "cell_type": "code",
   "execution_count": 54,
   "metadata": {},
   "outputs": [
    {
     "data": {
      "text/plain": [
       "269150"
      ]
     },
     "execution_count": 54,
     "metadata": {},
     "output_type": "execute_result"
    }
   ],
   "source": [
    "#golden_train0_70.count()"
   ]
  },
  {
   "cell_type": "code",
   "execution_count": 55,
   "metadata": {
    "collapsed": true
   },
   "outputs": [],
   "source": [
    "golden_train1.createOrReplaceTempView('golden_train1')\n",
    "golden_train0_70.createOrReplaceTempView('golden_train0_70')"
   ]
  },
  {
   "cell_type": "code",
   "execution_count": 56,
   "metadata": {
    "collapsed": true
   },
   "outputs": [],
   "source": [
    "# 80% zeri e 20% uni\n",
    "golden_train0e1 = spark.sql('select * from golden_train1 union all select * from golden_train0_70 ')"
   ]
  },
  {
   "cell_type": "code",
   "execution_count": 57,
   "metadata": {},
   "outputs": [
    {
     "data": {
      "text/plain": [
       "384500"
      ]
     },
     "execution_count": 57,
     "metadata": {},
     "output_type": "execute_result"
    }
   ],
   "source": [
    "#golden_train0e1.count()"
   ]
  },
  {
   "cell_type": "code",
   "execution_count": 62,
   "metadata": {
    "collapsed": true
   },
   "outputs": [],
   "source": [
    "golden_train0e1 = golden_train0e1.fillna(0)"
   ]
  },
  {
   "cell_type": "code",
   "execution_count": 64,
   "metadata": {
    "collapsed": true
   },
   "outputs": [],
   "source": [
    "#golden_train0e1.printSchema()"
   ]
  },
  {
   "cell_type": "code",
   "execution_count": 65,
   "metadata": {
    "collapsed": true
   },
   "outputs": [],
   "source": [
    "steps =[]\n",
    "CategoricalCol_in = [\"flag_social\"]\n",
    "CategoricalCol_out = [ \"flag_social_class_vec\"]\n",
    " \n",
    "indexers = [StringIndexer(inputCol=x, outputCol=x+'Index')\n",
    "            for x in CategoricalCol_in ]\n",
    " \n",
    "encoders = [OneHotEncoder(dropLast=False, inputCol=x+\"Index\", outputCol=y)\n",
    "for x,y in zip(CategoricalCol_in, CategoricalCol_out)]\n",
    "steps = [[i,j] for i,j in zip(indexers, encoders)]\n",
    "steps = [i for sublist in steps for i in sublist]\n",
    "\n",
    "# Convert label into label indices using the StringIndexer\n",
    "label_stringIdx = StringIndexer(inputCol=\"score_digital\", outputCol=\"label\")\n",
    "#stages += [label_stringIdx]\n",
    "\n",
    "numericCols = golden_train0e1.drop(\"ext_id_impression\", \"score_digital\",\"flag_social\").columns\n",
    "\n",
    "assemblerInputs = [c + \"_class_vec\" for c in CategoricalCol_in] + numericCols\n",
    "assembler = VectorAssembler(inputCols=assemblerInputs, outputCol=\"features\")\n",
    "steps += [assembler, label_stringIdx]\n",
    "\n",
    "#Pipeline:  \n",
    "pipeline = Pipeline().setStages(steps)"
   ]
  },
  {
   "cell_type": "code",
   "execution_count": 66,
   "metadata": {
    "collapsed": true
   },
   "outputs": [],
   "source": [
    "# Applico pipeline a golden_train:\n",
    "pipelineModel = pipeline.fit(golden_train0e1)\n",
    "train = pipelineModel.transform(golden_train0e1)"
   ]
  },
  {
   "cell_type": "code",
   "execution_count": 67,
   "metadata": {
    "collapsed": true
   },
   "outputs": [],
   "source": [
    "(training, validation) = train.randomSplit([0.8, 0.2], seed=1)"
   ]
  },
  {
   "cell_type": "code",
   "execution_count": 68,
   "metadata": {},
   "outputs": [
    {
     "name": "stdout",
     "output_type": "stream",
     "text": [
      "percentuale 0 training: 0.7004407147639445\n"
     ]
    }
   ],
   "source": [
    "#training_0 = training.filter('score_digital == 0')\n",
    "#righe_training_0 = training_0.count()\n",
    "\n",
    "#training_1 = training.filter('score_digital == 1')\n",
    "#print (training_1.count())\n",
    "\n",
    "#print (\"percentuale 0 training:\", righe_training_0/training.count())\n",
    "#print (\"percentuale 1 training:\", training_1.count()/training.count())\n",
    "\n",
    "#validation_0 = validation.filter('score_digital == 0')\n",
    "#righe_validation_0 = validation_0.count()\n",
    "\n",
    "#validation_1 = validation.filter('score_digital == 1')\n",
    "#print (validation_1.count())\n",
    "\n",
    "#print (\"percentuale 0 validation:\", righe_validation_0/validation.count())\n",
    "#print (\"percentuale 1 validation:\", validation_1.count()/validation.count())\n"
   ]
  },
  {
   "cell_type": "markdown",
   "metadata": {},
   "source": [
    "## Classification:"
   ]
  },
  {
   "cell_type": "code",
   "execution_count": 69,
   "metadata": {
    "collapsed": true
   },
   "outputs": [],
   "source": [
    "#Creo il modello:\n",
    "rf = RandomForestClassifier(labelCol=\"label\", featuresCol=\"features\", numTrees=50, maxDepth = 4)"
   ]
  },
  {
   "cell_type": "code",
   "execution_count": null,
   "metadata": {
    "collapsed": true,
    "scrolled": false
   },
   "outputs": [],
   "source": [
    "#Ottengo la spiegazione di tutti i parametri:\n",
    "#print(rf.explainParams())"
   ]
  },
  {
   "cell_type": "code",
   "execution_count": 70,
   "metadata": {
    "collapsed": true
   },
   "outputs": [],
   "source": [
    "# Run model:\n",
    "model = rf.fit(training)\n",
    "predictions_class = model.transform(validation)"
   ]
  },
  {
   "cell_type": "code",
   "execution_count": 76,
   "metadata": {
    "collapsed": true
   },
   "outputs": [],
   "source": [
    "model.save(path_model_adform)"
   ]
  },
  {
   "cell_type": "code",
   "execution_count": 118,
   "metadata": {
    "collapsed": true
   },
   "outputs": [],
   "source": [
    "# Print degli alberi:\n",
    "#print(model.toDebugString)"
   ]
  },
  {
   "cell_type": "code",
   "execution_count": 120,
   "metadata": {
    "collapsed": true
   },
   "outputs": [],
   "source": [
    "# Select example rows to display.\n",
    "#predictions_class.select(\"label\", 'prediction').show(10, False)"
   ]
  },
  {
   "cell_type": "code",
   "execution_count": 78,
   "metadata": {},
   "outputs": [
    {
     "data": {
      "text/plain": [
       "0.9999618147384152"
      ]
     },
     "execution_count": 78,
     "metadata": {},
     "output_type": "execute_result"
    }
   ],
   "source": [
    "evaluator = BinaryClassificationEvaluator()\n",
    "evaluator.evaluate(predictions_class)"
   ]
  },
  {
   "cell_type": "code",
   "execution_count": 80,
   "metadata": {},
   "outputs": [
    {
     "name": "stdout",
     "output_type": "stream",
     "text": [
      "Test Error = 0.00436096\n"
     ]
    }
   ],
   "source": [
    "# Select (prediction, true label) and compute test error\n",
    "evaluator = MulticlassClassificationEvaluator(\n",
    "    labelCol=\"label\", predictionCol=\"prediction\", metricName=\"accuracy\")\n",
    "accuracy = evaluator.evaluate(predictions_class)\n",
    "print(\"Test Error = %g\" % (1.0 - accuracy))\n",
    "\n",
    "#rfModel = model.stages[2]\n",
    "#print(rfModel)  # summary only"
   ]
  },
  {
   "cell_type": "code",
   "execution_count": 81,
   "metadata": {
    "scrolled": false
   },
   "outputs": [
    {
     "name": "stdout",
     "output_type": "stream",
     "text": [
      "(25,[0,1,2,3,5,6,7,8,9,10,11,12,13,14,16,17,18,19,20,21,23,24],[0.113730815976,0.184929389309,1.11017329583e-05,0.033126425201,0.0266966103501,0.00564951849834,0.0034122422667,0.0650811088448,0.0587427232203,3.14931545783e-06,0.000788559196609,0.0033673091705,0.00185786988904,0.0914038841684,0.0116869477827,0.012148730905,0.00440662278796,0.00634281494617,0.00313100223002,0.00553715380119,0.353877951657,0.0140680687513])\n"
     ]
    }
   ],
   "source": [
    "importance_class= model.featureImportances\n",
    "print(importance_class)"
   ]
  },
  {
   "cell_type": "code",
   "execution_count": 82,
   "metadata": {
    "collapsed": true
   },
   "outputs": [],
   "source": [
    "import pandas as pd\n",
    "def ExtractFeatureImp(featureImp, dataset, featuresCol):\n",
    "    list_extract = []\n",
    "    for i in dataset.schema[featuresCol].metadata[\"ml_attr\"][\"attrs\"]:\n",
    "        list_extract = list_extract + dataset.schema[featuresCol].metadata[\"ml_attr\"][\"attrs\"][i]\n",
    "    varlist = pd.DataFrame(list_extract)\n",
    "    varlist['score'] = varlist['idx'].apply(lambda x: featureImp[x])\n",
    "    return(varlist.sort_values('score', ascending = False))"
   ]
  },
  {
   "cell_type": "code",
   "execution_count": 83,
   "metadata": {
    "scrolled": false
   },
   "outputs": [
    {
     "data": {
      "text/html": [
       "<div>\n",
       "<table border=\"1\" class=\"dataframe\">\n",
       "  <thead>\n",
       "    <tr style=\"text-align: right;\">\n",
       "      <th></th>\n",
       "      <th>idx</th>\n",
       "      <th>name</th>\n",
       "      <th>score</th>\n",
       "    </tr>\n",
       "  </thead>\n",
       "  <tbody>\n",
       "    <tr>\n",
       "      <th>23</th>\n",
       "      <td>23</td>\n",
       "      <td>numero_impression_social</td>\n",
       "      <td>0.353878</td>\n",
       "    </tr>\n",
       "    <tr>\n",
       "      <th>1</th>\n",
       "      <td>1</td>\n",
       "      <td>flag_social_class_vec_1.0</td>\n",
       "      <td>0.184929</td>\n",
       "    </tr>\n",
       "    <tr>\n",
       "      <th>0</th>\n",
       "      <td>0</td>\n",
       "      <td>flag_social_class_vec_0.0</td>\n",
       "      <td>0.113731</td>\n",
       "    </tr>\n",
       "    <tr>\n",
       "      <th>14</th>\n",
       "      <td>14</td>\n",
       "      <td>numero_device</td>\n",
       "      <td>0.091404</td>\n",
       "    </tr>\n",
       "    <tr>\n",
       "      <th>8</th>\n",
       "      <td>8</td>\n",
       "      <td>avg_impression_mese</td>\n",
       "      <td>0.065081</td>\n",
       "    </tr>\n",
       "    <tr>\n",
       "      <th>9</th>\n",
       "      <td>9</td>\n",
       "      <td>avg_impression_giorno</td>\n",
       "      <td>0.058743</td>\n",
       "    </tr>\n",
       "    <tr>\n",
       "      <th>3</th>\n",
       "      <td>3</td>\n",
       "      <td>numero_giorni</td>\n",
       "      <td>0.033126</td>\n",
       "    </tr>\n",
       "    <tr>\n",
       "      <th>5</th>\n",
       "      <td>5</td>\n",
       "      <td>impression_mobile</td>\n",
       "      <td>0.026697</td>\n",
       "    </tr>\n",
       "    <tr>\n",
       "      <th>24</th>\n",
       "      <td>24</td>\n",
       "      <td>numero_cookies</td>\n",
       "      <td>0.014068</td>\n",
       "    </tr>\n",
       "    <tr>\n",
       "      <th>17</th>\n",
       "      <td>17</td>\n",
       "      <td>numero_desktop</td>\n",
       "      <td>0.012149</td>\n",
       "    </tr>\n",
       "    <tr>\n",
       "      <th>16</th>\n",
       "      <td>16</td>\n",
       "      <td>numero_mobile</td>\n",
       "      <td>0.011687</td>\n",
       "    </tr>\n",
       "    <tr>\n",
       "      <th>19</th>\n",
       "      <td>19</td>\n",
       "      <td>perc_mobile</td>\n",
       "      <td>0.006343</td>\n",
       "    </tr>\n",
       "    <tr>\n",
       "      <th>6</th>\n",
       "      <td>6</td>\n",
       "      <td>impression_desktop</td>\n",
       "      <td>0.005650</td>\n",
       "    </tr>\n",
       "    <tr>\n",
       "      <th>21</th>\n",
       "      <td>21</td>\n",
       "      <td>perc_tablet</td>\n",
       "      <td>0.005537</td>\n",
       "    </tr>\n",
       "    <tr>\n",
       "      <th>18</th>\n",
       "      <td>18</td>\n",
       "      <td>numero_tablet</td>\n",
       "      <td>0.004407</td>\n",
       "    </tr>\n",
       "    <tr>\n",
       "      <th>7</th>\n",
       "      <td>7</td>\n",
       "      <td>impression_tablet</td>\n",
       "      <td>0.003412</td>\n",
       "    </tr>\n",
       "    <tr>\n",
       "      <th>12</th>\n",
       "      <td>12</td>\n",
       "      <td>perc_impression_desktop</td>\n",
       "      <td>0.003367</td>\n",
       "    </tr>\n",
       "    <tr>\n",
       "      <th>20</th>\n",
       "      <td>20</td>\n",
       "      <td>perc_desktop</td>\n",
       "      <td>0.003131</td>\n",
       "    </tr>\n",
       "    <tr>\n",
       "      <th>13</th>\n",
       "      <td>13</td>\n",
       "      <td>perc_impression_tablet</td>\n",
       "      <td>0.001858</td>\n",
       "    </tr>\n",
       "    <tr>\n",
       "      <th>11</th>\n",
       "      <td>11</td>\n",
       "      <td>perc_impression_mobile</td>\n",
       "      <td>0.000789</td>\n",
       "    </tr>\n",
       "    <tr>\n",
       "      <th>2</th>\n",
       "      <td>2</td>\n",
       "      <td>numero_mesi</td>\n",
       "      <td>0.000011</td>\n",
       "    </tr>\n",
       "    <tr>\n",
       "      <th>10</th>\n",
       "      <td>10</td>\n",
       "      <td>perc_impression_tv_unknown</td>\n",
       "      <td>0.000003</td>\n",
       "    </tr>\n",
       "    <tr>\n",
       "      <th>4</th>\n",
       "      <td>4</td>\n",
       "      <td>impression_tv_unknown</td>\n",
       "      <td>0.000000</td>\n",
       "    </tr>\n",
       "    <tr>\n",
       "      <th>15</th>\n",
       "      <td>15</td>\n",
       "      <td>numero_tv_unknown</td>\n",
       "      <td>0.000000</td>\n",
       "    </tr>\n",
       "    <tr>\n",
       "      <th>22</th>\n",
       "      <td>22</td>\n",
       "      <td>perc_tv_unknown</td>\n",
       "      <td>0.000000</td>\n",
       "    </tr>\n",
       "  </tbody>\n",
       "</table>\n",
       "</div>"
      ],
      "text/plain": [
       "    idx                        name     score\n",
       "23   23    numero_impression_social  0.353878\n",
       "1     1   flag_social_class_vec_1.0  0.184929\n",
       "0     0   flag_social_class_vec_0.0  0.113731\n",
       "14   14               numero_device  0.091404\n",
       "8     8         avg_impression_mese  0.065081\n",
       "9     9       avg_impression_giorno  0.058743\n",
       "3     3               numero_giorni  0.033126\n",
       "5     5           impression_mobile  0.026697\n",
       "24   24              numero_cookies  0.014068\n",
       "17   17              numero_desktop  0.012149\n",
       "16   16               numero_mobile  0.011687\n",
       "19   19                 perc_mobile  0.006343\n",
       "6     6          impression_desktop  0.005650\n",
       "21   21                 perc_tablet  0.005537\n",
       "18   18               numero_tablet  0.004407\n",
       "7     7           impression_tablet  0.003412\n",
       "12   12     perc_impression_desktop  0.003367\n",
       "20   20                perc_desktop  0.003131\n",
       "13   13      perc_impression_tablet  0.001858\n",
       "11   11      perc_impression_mobile  0.000789\n",
       "2     2                 numero_mesi  0.000011\n",
       "10   10  perc_impression_tv_unknown  0.000003\n",
       "4     4       impression_tv_unknown  0.000000\n",
       "15   15           numero_tv_unknown  0.000000\n",
       "22   22             perc_tv_unknown  0.000000"
      ]
     },
     "execution_count": 83,
     "metadata": {},
     "output_type": "execute_result"
    }
   ],
   "source": [
    "#CLASSIFICATION. FEATURE IMPORTANCE\n",
    "ExtractFeatureImp(importance_class, training, \"features\").head(50)"
   ]
  },
  {
   "cell_type": "markdown",
   "metadata": {},
   "source": [
    "### Spreading on customer base"
   ]
  },
  {
   "cell_type": "code",
   "execution_count": 121,
   "metadata": {
    "collapsed": true
   },
   "outputs": [],
   "source": [
    "steps1 =[]\n",
    "CategoricalCol_in = [\"flag_social\"]\n",
    "CategoricalCol_out = [ \"flag_social_class_vec\"]\n",
    " \n",
    "indexers = [StringIndexer(inputCol=x, outputCol=x+'Index')\n",
    "            for x in CategoricalCol_in ]\n",
    " \n",
    "encoders = [OneHotEncoder(dropLast=False, inputCol=x+\"Index\", outputCol=y)\n",
    "for x,y in zip(CategoricalCol_in, CategoricalCol_out)]\n",
    "steps1 = [[i,j] for i,j in zip(indexers, encoders)]\n",
    "steps1 = [i for sublist in steps1 for i in sublist]\n",
    "\n",
    "numericCols = testData.drop(\"ext_id_impression\",\"flag_social\").columns\n",
    "\n",
    "assemblerInputs = [c + \"_class_vec\" for c in CategoricalCol_in] + numericCols\n",
    "assembler = VectorAssembler(inputCols=assemblerInputs, outputCol=\"features\")\n",
    "steps1 += [assembler]\n",
    "\n",
    "#Pipeline:  \n",
    "pipeline1 = Pipeline().setStages(steps1)"
   ]
  },
  {
   "cell_type": "code",
   "execution_count": null,
   "metadata": {
    "collapsed": true
   },
   "outputs": [],
   "source": [
    "#testData = testData.fillna(0)"
   ]
  },
  {
   "cell_type": "code",
   "execution_count": 122,
   "metadata": {
    "collapsed": true
   },
   "outputs": [],
   "source": [
    "# Applico pipeline a test:\n",
    "pipelineModel_final = pipeline1.fit(testData)\n",
    "final= pipelineModel_final.transform(testData)"
   ]
  },
  {
   "cell_type": "code",
   "execution_count": 123,
   "metadata": {
    "collapsed": true
   },
   "outputs": [],
   "source": [
    "predictions_class_test = model.transform(final)"
   ]
  },
  {
   "cell_type": "code",
   "execution_count": 124,
   "metadata": {},
   "outputs": [
    {
     "name": "stdout",
     "output_type": "stream",
     "text": [
      "+--------------------+--------------------+\n",
      "|         probability|              prob_1|\n",
      "+--------------------+--------------------+\n",
      "|[0.99344219826037...|[0.00655780173962...|\n",
      "|[0.99351718084905...|[0.00648281915094...|\n",
      "|[0.99833985865467...|[0.00166014134532...|\n",
      "|[0.99833985865467...|[0.00166014134532...|\n",
      "|[0.99587805919711...|[0.00412194080288...|\n",
      "|[0.98616681722560...|[0.01383318277439...|\n",
      "|[0.99351718084905...|[0.00648281915094...|\n",
      "|[0.99833985865467...|[0.00166014134532...|\n",
      "|[0.99344219826037...|[0.00655780173962...|\n",
      "|[0.99351718084905...|[0.00648281915094...|\n",
      "|[0.99344219826037...|[0.00655780173962...|\n",
      "|[0.76383734968001...| [0.236162650319982]|\n",
      "|[0.99345252180576...|[0.00654747819423...|\n",
      "|[0.98848309689694...|[0.01151690310305...|\n",
      "|[0.98421301072403...|[0.01578698927596...|\n",
      "|[0.99014737613017...|[0.00985262386982...|\n",
      "|[0.98495668447783...|[0.01504331552216...|\n",
      "|[0.99351718084905...|[0.00648281915094...|\n",
      "|[0.98569588216316...|[0.01430411783683...|\n",
      "|[0.98690501563735...|[0.01309498436264...|\n",
      "+--------------------+--------------------+\n",
      "only showing top 20 rows\n",
      "\n"
     ]
    }
   ],
   "source": [
    "from pyspark.ml.feature import VectorSlicer\n",
    "\n",
    "slicer = VectorSlicer(inputCol=\"probability\", outputCol=\"prob_1\", indices=[1])\n",
    "\n",
    "predictions_class_test = slicer.transform(predictions_class_test)\n",
    "\n",
    "predictions_class_test.select(\"probability\", \"prob_1\").show()"
   ]
  },
  {
   "cell_type": "code",
   "execution_count": 89,
   "metadata": {
    "collapsed": true
   },
   "outputs": [],
   "source": [
    "#predictions_class_test.printSchema()"
   ]
  },
  {
   "cell_type": "code",
   "execution_count": 125,
   "metadata": {
    "collapsed": true
   },
   "outputs": [],
   "source": [
    "predictions_class_test.createOrReplaceTempView('class')"
   ]
  },
  {
   "cell_type": "code",
   "execution_count": 126,
   "metadata": {
    "collapsed": true
   },
   "outputs": [],
   "source": [
    "probab_class = spark.sql('SELECT prob_1, COUNT(features) as count_ext_id_impression FROM class GROUP BY prob_1 ORDER BY count_ext_id_impression DESC')"
   ]
  },
  {
   "cell_type": "code",
   "execution_count": 127,
   "metadata": {
    "scrolled": true
   },
   "outputs": [
    {
     "name": "stdout",
     "output_type": "stream",
     "text": [
      "+-----------------------+-----------------------+\n",
      "|prob_1                 |count_ext_id_impression|\n",
      "+-----------------------+-----------------------+\n",
      "|[0.006557801739629491] |246341                 |\n",
      "|[0.0016601413453203222]|224913                 |\n",
      "|[0.0030662872114683255]|101676                 |\n",
      "|[0.00235570488849465]  |93651                  |\n",
      "|[0.009935343533227264] |88737                  |\n",
      "|[0.0013844140331188458]|75782                  |\n",
      "|[0.006482819150944841] |71836                  |\n",
      "|[0.01359935922372438]  |56531                  |\n",
      "|[0.005423711796313224] |44379                  |\n",
      "|[0.0055833913714696945]|39714                  |\n",
      "|[0.011516903103055552] |38879                  |\n",
      "|[0.00550923073993488]  |38717                  |\n",
      "|[0.007458083193664094] |38419                  |\n",
      "|[0.014205429706137852] |30434                  |\n",
      "|[0.008139361309457778] |30403                  |\n",
      "|[0.010304537093533047] |27961                  |\n",
      "|[0.010752905323855429] |26532                  |\n",
      "|[0.009852623869820824] |26368                  |\n",
      "|[0.00648679233828829]  |19956                  |\n",
      "|[0.0115134247928134]   |19497                  |\n",
      "|[0.0031309462547539626]|19458                  |\n",
      "|[0.006547478194230479] |19352                  |\n",
      "|[0.004121940802885987] |19317                  |\n",
      "|[0.008329196071223696] |18899                  |\n",
      "|[0.0027316859069286712]|17813                  |\n",
      "|[0.013540045947918489] |16638                  |\n",
      "|[0.007618613748250022] |16300                  |\n",
      "|[0.005009660182896551] |16000                  |\n",
      "|[0.008331664684214772] |15960                  |\n",
      "|[0.005573889783220517] |15452                  |\n",
      "|[0.015180918793552666] |14534                  |\n",
      "|[0.00806437872077313]  |13557                  |\n",
      "|[0.014581410724571872] |12990                  |\n",
      "|[0.017051883606006804] |11973                  |\n",
      "|[0.004733932870695075] |11693                  |\n",
      "|[0.004173574115951951] |11045                  |\n",
      "|[0.013615028536603138] |10792                  |\n",
      "|[0.01578698927596614]  |10440                  |\n",
      "|[0.013094984362641693] |9504                   |\n",
      "|[0.002420363931780287] |9357                   |\n",
      "|[0.0049151327447382554]|9154                   |\n",
      "|[0.00735807627320481]  |8695                   |\n",
      "|[0.0028818887779321865]|8503                   |\n",
      "|[0.012334464893683715] |8477                   |\n",
      "|[0.010772139599690252] |8360                   |\n",
      "|[0.01451530999063774]  |8037                   |\n",
      "|[0.01699257033020091]  |7638                   |\n",
      "|[0.017811221870392625] |6996                   |\n",
      "|[0.007834064212098113] |6968                   |\n",
      "|[0.007782822580653769] |6939                   |\n",
      "|[0.013544019135261938] |6938                   |\n",
      "|[0.013012818086793788] |6733                   |\n",
      "|[0.012781797433096218] |6724                   |\n",
      "|[0.011784189066497195] |6524                   |\n",
      "|[0.012153577968019426] |6390                   |\n",
      "|[0.008406647272899422] |6320                   |\n",
      "|[0.18494407883969013]  |6047                   |\n",
      "|[0.011886096663361333] |5979                   |\n",
      "|[0.014194548159529988] |5607                   |\n",
      "|[0.009039642763492381] |5549                   |\n",
      "|[0.00839632372750041]  |5536                   |\n",
      "|[0.007203693143841437] |5532                   |\n",
      "|[0.003508986878590253] |5238                   |\n",
      "|[0.0100000025765129]   |5218                   |\n",
      "|[0.3902931525127903]   |5205                   |\n",
      "|[0.011434183439649113] |5199                   |\n",
      "|[0.9465470205985714]   |5094                   |\n",
      "|[0.013604704991204124] |4982                   |\n",
      "|[0.0070582549935069]   |4942                   |\n",
      "|[0.01616297029440016]  |4890                   |\n",
      "|[0.004332400016548966] |4837                   |\n",
      "|[0.23326902626199042]  |4591                   |\n",
      "|[0.9938624335855163]   |4556                   |\n",
      "|[0.014359878692682354] |4496                   |\n",
      "|[0.004366290641177251] |4429                   |\n",
      "|[0.011420355068371062] |4413                   |\n",
      "|[0.017361763890506688] |4398                   |\n",
      "|[0.011321773172944428] |4312                   |\n",
      "|[0.016631204945065856] |4294                   |\n",
      "|[0.00420455042176458]  |4290                   |\n",
      "|[0.0014490730764044832]|4218                   |\n",
      "|[0.007522742236949732] |4206                   |\n",
      "|[0.00648046509233019]  |4198                   |\n",
      "|[0.0017248003886059596]|4195                   |\n",
      "|[0.014774297555226855] |4123                   |\n",
      "|[0.015043315522164393] |4077                   |\n",
      "|[0.006809234169643807] |3893                   |\n",
      "|[0.04610773813524285]  |3887                   |\n",
      "|[0.008923408620796743] |3874                   |\n",
      "|[0.01890596035238005]  |3840                   |\n",
      "|[0.002094996356092522] |3796                   |\n",
      "|[0.007422735316490447] |3796                   |\n",
      "|[0.03915502396663353]  |3539                   |\n",
      "|[0.008377754577288534] |3491                   |\n",
      "|[0.008129037764058766] |3472                   |\n",
      "|[0.007994594766684042] |3419                   |\n",
      "|[0.018544594967244997] |3416                   |\n",
      "|[0.018633443175835093] |3369                   |\n",
      "|[0.020656586020698024] |3340                   |\n",
      "|[0.010742023777247558] |3215                   |\n",
      "|[0.009306928726934026] |3213                   |\n",
      "|[0.012600371993697835] |3210                   |\n",
      "|[0.008878213501661028] |3203                   |\n",
      "|[0.05516453690258202]  |3179                   |\n",
      "|[0.016428700012816887] |3143                   |\n",
      "|[0.04012631482200934]  |3125                   |\n",
      "|[0.017427864624440827] |3125                   |\n",
      "|[0.007857805169338419] |2959                   |\n",
      "|[0.21940682684979515]  |2951                   |\n",
      "|[0.011235346962936193] |2919                   |\n",
      "|[0.1846541803672057]   |2860                   |\n",
      "|[0.013863298596837617] |2820                   |\n",
      "|[0.008099450761515912] |2805                   |\n",
      "|[0.011128886342289448] |2782                   |\n",
      "|[0.016858421814407453] |2669                   |\n",
      "|[0.038410158806027134] |2640                   |\n",
      "|[0.030453711332210025] |2629                   |\n",
      "|[0.23858245222080626]  |2555                   |\n",
      "|[0.9458810273260946]   |2498                   |\n",
      "|[0.01158156214634119]  |2489                   |\n",
      "|[0.017810132120829075] |2489                   |\n",
      "|[0.9330194224909159]   |2486                   |\n",
      "|[0.007847481623939407] |2485                   |\n",
      "|[0.9453940750152603]   |2456                   |\n",
      "|[0.0032332595663887758]|2441                   |\n",
      "|[0.06226719790944488]  |2435                   |\n",
      "|[0.013130056403384471] |2422                   |\n",
      "|[0.04174294643258041]  |2369                   |\n",
      "|[0.23618733485594037]  |2325                   |\n",
      "|[0.15004954161829945]  |2288                   |\n",
      "|[0.23211608067867917]  |2278                   |\n",
      "|[0.002796344950214308] |2277                   |\n",
      "|[0.9481251018581577]   |2255                   |\n",
      "|[0.012003584506021308] |2209                   |\n",
      "|[0.015448204756994308] |2181                   |\n",
      "|[0.9649443545813576]   |2147                   |\n",
      "|[0.10204546163556745]  |2128                   |\n",
      "|[0.060768676287750824] |2108                   |\n",
      "|[0.004979791788023893] |2079                   |\n",
      "|[0.02679450091817419]  |2074                   |\n",
      "|[0.00927351219496301]  |2057                   |\n",
      "|[0.01972352214300822]  |2008                   |\n",
      "|[0.021263746252675044] |1996                   |\n",
      "|[0.0029601447750292487]|1971                   |\n",
      "|[0.8785566744808108]   |1969                   |\n",
      "|[0.0036557083182035756]|1961                   |\n",
      "|[0.02577241496180265]  |1850                   |\n",
      "|[0.02542668992421944]  |1836                   |\n",
      "|[0.02510003851426763]  |1820                   |\n",
      "|[0.016421748618623066] |1816                   |\n",
      "|[0.005769882769356515] |1809                   |\n",
      "|[0.23260303298951354]  |1790                   |\n",
      "|[0.320777269361641]    |1786                   |\n",
      "|[0.01216653995300562]  |1773                   |\n",
      "|[0.007432236904739625] |1753                   |\n",
      "|[0.05119911140422288]  |1724                   |\n",
      "|[0.9270333833495203]   |1688                   |\n",
      "|[0.014891291009071763] |1687                   |\n",
      "|[0.015619064335288046] |1687                   |\n",
      "|[0.01336227032608333]  |1685                   |\n",
      "|[0.009211076766672746] |1683                   |\n",
      "|[0.009052538677111366] |1682                   |\n",
      "|[0.006873893212929444] |1668                   |\n",
      "|[0.009329273050813791] |1599                   |\n",
      "|[0.008068351908116578] |1592                   |\n",
      "|[0.019894913043768222] |1589                   |\n",
      "|[0.01409051546617922]  |1588                   |\n",
      "|[0.19318695254109597]  |1581                   |\n",
      "|[0.00994829629478584]  |1578                   |\n",
      "|[0.015012109950158148] |1565                   |\n",
      "|[0.01260175085712536]  |1564                   |\n",
      "|[0.9420744684755863]   |1552                   |\n",
      "|[0.011717287819966815] |1542                   |\n",
      "|[0.011386432216230065] |1534                   |\n",
      "|[0.1564847276950382]   |1533                   |\n",
      "|[0.001760395051552867] |1527                   |\n",
      "|[0.00897846720789357]  |1526                   |\n",
      "|[0.011647571937712663] |1503                   |\n",
      "|[0.23484710752157656]  |1492                   |\n",
      "|[0.04578493915125978]  |1489                   |\n",
      "|[0.1964817746712873]   |1482                   |\n",
      "|[0.00875808662337302]  |1481                   |\n",
      "|[0.21595430246751277]  |1473                   |\n",
      "|[0.012153382626802978] |1468                   |\n",
      "|[0.17891117099043172]  |1445                   |\n",
      "|[0.014711615973212761] |1440                   |\n",
      "|[0.2465325948182727]   |1440                   |\n",
      "|[0.0019074784097723896]|1389                   |\n",
      "|[0.018570651589787043] |1382                   |\n",
      "|[0.010817006365932209] |1377                   |\n",
      "|[0.39649664184795375]  |1368                   |\n",
      "|[0.01139675576162908]  |1363                   |\n",
      "|[0.019874273000905492] |1363                   |\n",
      "|[0.013975340242158399] |1342                   |\n",
      "|[0.18589221155645208]  |1335                   |\n",
      "|[0.013833182774394928] |1318                   |\n",
      "|[0.23863027838440692]  |1310                   |\n",
      "|[0.01246660200359681]  |1310                   |\n",
      "|[0.25289458510224444]  |1288                   |\n",
      "|[0.014363357002924508] |1281                   |\n",
      "|[0.011889789670724162] |1277                   |\n",
      "|[0.9295668981086334]   |1255                   |\n",
      "|[0.041380425689714055] |1252                   |\n",
      "|[0.1314996421515927]   |1229                   |\n",
      "|[0.006551451381573928] |1221                   |\n",
      "|[0.010226600110558466] |1220                   |\n",
      "|[0.33732041938854757]  |1215                   |\n",
      "|[0.19025750479850595]  |1209                   |\n",
      "|[0.16201940639721654]  |1204                   |\n",
      "|[0.011122357728232942] |1203                   |\n",
      "|[0.22472025280861102]  |1199                   |\n",
      "|[0.01567312222001414]  |1197                   |\n",
      "|[0.16309966447596833]  |1179                   |\n",
      "|[0.011578083836099038] |1178                   |\n",
      "|[0.9266068794149482]   |1156                   |\n",
      "|[0.23791645894832936]  |1155                   |\n",
      "|[0.05783773203636764]  |1148                   |\n",
      "|[0.023176046525290636] |1138                   |\n",
      "|[0.01605427523940778]  |1126                   |\n",
      "|[0.017057229373486547] |1125                   |\n",
      "|[0.020745393553812056] |1121                   |\n",
      "|[0.5628010601317854]   |1121                   |\n",
      "|[0.011727273414864764] |1108                   |\n",
      "|[0.9474591085856807]   |1106                   |\n",
      "|[0.01577262941911612]  |1100                   |\n",
      "|[0.011848848109782832] |1096                   |\n",
      "|[0.13586431935312465]  |1089                   |\n",
      "|[0.00833563787155822]  |1084                   |\n",
      "|[0.026053583646051717] |1079                   |\n",
      "|[0.04350153207500716]  |1077                   |\n",
      "|[0.02800945313835887]  |1069                   |\n",
      "|[0.23549665704750503]  |1065                   |\n",
      "|[0.237429506637495]    |1052                   |\n",
      "|[0.018786485913111876] |1048                   |\n",
      "|[0.018278509367335466] |1045                   |\n",
      "|[0.04990286699132627]  |1043                   |\n",
      "|[0.028440704547490352] |1035                   |\n",
      "|[0.004430949684462888] |1028                   |\n",
      "|[0.010817564367141066] |1028                   |\n",
      "|[0.05288760015812263]  |1027                   |\n",
      "|[0.01673777792607095]  |1026                   |\n",
      "|[0.0026844174628277723]|1026                   |\n",
      "|[0.0045805314401986]   |1023                   |\n",
      "|[0.0178585638500271]   |1020                   |\n",
      "|[0.9128656267939449]   |1019                   |\n",
      "|[0.029500911276224864] |1019                   |\n",
      "|[0.007898723255383752] |1017                   |\n",
      "|[0.014563741719835767] |1016                   |\n",
      "|[0.40158868124055713]  |1001                   |\n",
      "|[0.016352378814812985] |996                    |\n",
      "|[0.18396966847153032]  |995                    |\n",
      "|[0.01942785348096369]  |985                    |\n",
      "|[0.9621346443520901]   |965                    |\n",
      "|[0.009415623781926402] |952                    |\n",
      "|[0.015941438262510644] |938                    |\n",
      "|[0.2367621478700238]   |936                    |\n",
      "|[0.017486814700373287] |929                    |\n",
      "|[0.016909850666794467] |926                    |\n",
      "|[0.9416479645410142]   |921                    |\n",
      "|[0.005683645077702238] |896                    |\n",
      "|[0.9067995481822166]   |888                    |\n",
      "|[0.9303747435111446]   |887                    |\n",
      "|[0.38465307793662296]  |886                    |\n",
      "|[0.04997149345484869]  |876                    |\n",
      "|[0.10713683490454748]  |873                    |\n",
      "|[0.2401605334803924]   |872                    |\n",
      "|[0.015835565838868908] |871                    |\n",
      "|[0.014579969033923376] |870                    |\n",
      "|[0.012710445912117736] |864                    |\n",
      "|[0.020310946196689873] |863                    |\n",
      "|[0.023329471433336094] |852                    |\n",
      "|[0.24537964923496144]  |848                    |\n",
      "|[0.9100943703124079]   |845                    |\n",
      "|[0.0016317510975709132]|840                    |\n",
      "|[0.017523808359293166] |837                    |\n",
      "|[0.014899362653433303] |836                    |\n",
      "|[0.006883394801178622] |835                    |\n",
      "|[0.9447280817427832]   |834                    |\n",
      "|[0.009694887718787366] |829                    |\n",
      "|[0.021997119349527416] |827                    |\n",
      "|[0.018302450025345498] |820                    |\n",
      "|[0.018438313245723967] |808                    |\n",
      "|[0.018464634332440576] |805                    |\n",
      "|[0.020484041611966188] |796                    |\n",
      "|[0.024819614905817477] |793                    |\n",
      "|[0.020083729327348275] |792                    |\n",
      "|[0.039860845280825494] |790                    |\n",
      "|[0.005970786336155915] |789                    |\n",
      "|[0.015156677558489557] |786                    |\n",
      "|[0.3423393299120753]   |782                    |\n",
      "|[0.017285707156677356] |779                    |\n",
      "|[0.3559404186509793]   |778                    |\n",
      "|[0.005096351171045782] |774                    |\n",
      "|[0.011009746199060843] |774                    |\n",
      "|[0.028597014521336825] |772                    |\n",
      "|[0.03353562810755443]  |770                    |\n",
      "|[0.03929686793826473]  |770                    |\n",
      "|[0.015945727099707027] |767                    |\n",
      "|[0.9153085703224114]   |767                    |\n",
      "|[0.0033136242759203927]|764                    |\n",
      "|[0.028576279755870675] |763                    |\n",
      "|[0.565610770361053]    |760                    |\n",
      "|[0.019009424194269115] |758                    |\n",
      "|[0.011701469403090756] |752                    |\n",
      "|[0.03317974533294256]  |751                    |\n",
      "|[0.039415654720722976] |736                    |\n",
      "|[0.004798591913980712] |735                    |\n",
      "|[0.002603041952946717] |735                    |\n",
      "|[0.015211291028198135] |734                    |\n",
      "|[0.009682909745368047] |732                    |\n",
      "|[0.9209244667593617]   |731                    |\n",
      "|[0.3716731532503585]   |730                    |\n",
      "|[0.009280836105370687] |729                    |\n",
      "|[0.10851281068371545]  |723                    |\n",
      "|[0.015591859345855018] |718                    |\n",
      "|[0.021262656503111495] |717                    |\n",
      "|[0.9195048071975728]   |714                    |\n",
      "|[0.014838956598512493] |714                    |\n",
      "|[0.01224152254169027]  |713                    |\n",
      "|[0.02355202754372466]  |709                    |\n",
      "|[0.0048841564389256265]|709                    |\n",
      "|[0.17289313039215]     |704                    |\n",
      "|[0.046789497726182266] |704                    |\n",
      "|[0.0484581342850454]   |694                    |\n",
      "|[0.02412874765889183]  |682                    |\n",
      "|[0.010369196136818684] |682                    |\n",
      "|[0.08068299672750172]  |678                    |\n",
      "|[0.009104301806778018] |677                    |\n",
      "|[0.014304117836831571] |677                    |\n",
      "|[0.022335530927072068] |672                    |\n",
      "|[0.012678216782254132] |672                    |\n",
      "|[0.1473238223772993]   |671                    |\n",
      "|[0.014978901936654401] |669                    |\n",
      "|[0.01686255744626009]  |668                    |\n",
      "|[0.009005108793169212] |665                    |\n",
      "|[0.047099002197258245] |655                    |\n",
      "|[0.012052908753564356] |655                    |\n",
      "|[0.01633073899193666]  |652                    |\n",
      "|[0.01085999631362794]  |650                    |\n",
      "|[0.006677910740874072] |649                    |\n",
      "|[0.5469907710986213]   |649                    |\n",
      "|[0.21388442771781194]  |645                    |\n",
      "|[0.012231198996291257] |642                    |\n",
      "|[0.014500708705224461] |641                    |\n",
      "|[0.17448170511735445]  |640                    |\n",
      "|[0.23145008740620227]  |638                    |\n",
      "|[0.010745996964591007] |637                    |\n",
      "|[0.42978120101270273]  |634                    |\n",
      "|[0.012813428222522327] |631                    |\n",
      "|[0.012297037215663685] |631                    |\n",
      "|[0.01904438372813744]  |630                    |\n",
      "|[0.03288398383683157]  |629                    |\n",
      "|[0.033774798513982913] |626                    |\n",
      "|[0.018186113139263094] |625                    |\n",
      "|[0.02031508182854251]  |619                    |\n",
      "|[0.004186599846171623] |618                    |\n",
      "|[0.060338430578874946] |616                    |\n",
      "|[0.2356267571523906]   |612                    |\n",
      "|[0.011604540523241972] |611                    |\n",
      "|[0.3588800933471435]   |610                    |\n",
      "|[0.23806970068085717]  |609                    |\n",
      "|[0.01315964340592733]  |596                    |\n",
      "|[0.1429669803599875]   |595                    |\n",
      "|[0.010936989614738987] |594                    |\n",
      "|[0.9420086118713251]   |593                    |\n",
      "|[0.01386582605461447]  |592                    |\n",
      "|[0.0056480504147553325]|592                    |\n",
      "|[0.021638637521545517] |592                    |\n",
      "|[0.3426334619402842]   |591                    |\n",
      "|[0.19877037328480482]  |589                    |\n",
      "|[0.01669586398835149]  |588                    |\n",
      "|[0.022279376103417754] |583                    |\n",
      "|[0.04467524781990539]  |581                    |\n",
      "|[0.3680721631254269]   |578                    |\n",
      "|[0.13109051876307162]  |577                    |\n",
      "|[0.008503696573550363] |575                    |\n",
      "|[0.0188406153508746]   |574                    |\n",
      "|[0.36455576451139127]  |570                    |\n",
      "|[0.383175763773823]    |567                    |\n",
      "|[0.025135455958971382] |567                    |\n",
      "|[0.0164302562578418]   |564                    |\n",
      "|[0.016457981828668086] |558                    |\n",
      "|[0.2212677284263286]   |558                    |\n",
      "|[0.24597201711472294]  |558                    |\n",
      "|[0.016649651697365916] |555                    |\n",
      "|[0.015505433135846776] |552                    |\n",
      "|[0.0507350710295048]   |551                    |\n",
      "|[0.024988180165207926] |550                    |\n",
      "|[0.2742834919675824]   |550                    |\n",
      "|[0.019953692731133756] |550                    |\n",
      "|[0.007786795767997217] |549                    |\n",
      "|[0.9125095502900493]   |548                    |\n",
      "|[0.023310794969791326] |547                    |\n",
      "|[0.005511528295569037] |542                    |\n",
      "|[0.005074319226182189] |540                    |\n",
      "|[0.1330389120272938]   |540                    |\n",
      "|[0.16157610096401825]  |535                    |\n",
      "|[0.025958814461185722] |533                    |\n",
      "|[0.012014567617944106] |530                    |\n",
      "|[0.017833685857126705] |529                    |\n",
      "|[0.9490718443401093]   |524                    |\n",
      "|[0.01130000600622183]  |523                    |\n",
      "|[0.03424451608205613]  |518                    |\n",
      "|[0.04058156316604728]  |517                    |\n",
      "|[0.024109110402980444] |515                    |\n",
      "|[0.015557761000744175] |511                    |\n",
      "|[0.22274772345907193]  |509                    |\n",
      "|[0.017886204459077272] |508                    |\n",
      "|[0.24981486723263885]  |508                    |\n",
      "|[0.01042550324643517]  |508                    |\n",
      "|[0.347964195910767]    |507                    |\n",
      "|[0.057283625227618575] |505                    |\n",
      "|[0.9466126118840783]   |504                    |\n",
      "|[0.9164680371603753]   |503                    |\n",
      "|[0.004031689336637596] |502                    |\n",
      "|[0.05736471006833078]  |500                    |\n",
      "|[0.051757450258423]    |495                    |\n",
      "|[0.017815195057736072] |493                    |\n",
      "|[0.02928547132755154]  |492                    |\n",
      "|[0.006556825172755612] |491                    |\n",
      "|[0.19151312965458187]  |490                    |\n",
      "|[0.006145863787790536] |487                    |\n",
      "|[0.9269675267452593]   |487                    |\n",
      "|[0.1573566550991943]   |487                    |\n",
      "|[0.3917704264016536]   |486                    |\n",
      "|[0.17698240365986181]  |484                    |\n",
      "|[0.38586368663971304]  |479                    |\n",
      "|[0.022841827512261187] |479                    |\n",
      "|[0.02885348250347878]  |479                    |\n",
      "|[0.0042692094650502175]|479                    |\n",
      "|[0.044063463725449725] |474                    |\n",
      "|[0.030748805179590454] |474                    |\n",
      "|[0.23343486685845627]  |473                    |\n",
      "|[0.14411460083802533]  |473                    |\n",
      "|[0.1802247144941285]   |469                    |\n",
      "|[0.12479390154829963]  |469                    |\n",
      "|[0.20915924790188736]  |467                    |\n",
      "|[0.23418111424909965]  |463                    |\n",
      "|[0.015143491115532634] |462                    |\n",
      "|[0.03732290702441327]  |454                    |\n",
      "|[0.051507636809380315] |454                    |\n",
      "|[0.951881554569377]    |454                    |\n",
      "|[0.018900729139276734] |452                    |\n",
      "|[0.9470317181929226]   |451                    |\n",
      "|[0.06854879699232401]  |450                    |\n",
      "|[0.0059840705510563474]|450                    |\n",
      "|[0.9476977114653996]   |446                    |\n",
      "|[0.2345878124417675]   |444                    |\n",
      "|[0.23663324904498131]  |444                    |\n",
      "|[0.9510394998798485]   |443                    |\n",
      "|[0.03588183545524636]  |443                    |\n",
      "|[0.23149412364905206]  |441                    |\n",
      "|[0.140888696884953]    |439                    |\n",
      "|[0.017197145594874178] |439                    |\n",
      "|[0.03390623571449245]  |438                    |\n",
      "|[0.19803844045694768]  |438                    |\n",
      "|[0.4041659048904534]   |436                    |\n",
      "|[0.19120563751526792]  |436                    |\n",
      "|[0.19850037849991178]  |436                    |\n",
      "|[0.24207557382883962]  |435                    |\n",
      "|[0.07671982240323726]  |434                    |\n",
      "|[0.015453435970097634] |428                    |\n",
      "|[0.06848244289679277]  |427                    |\n",
      "|[0.9543604572519439]   |426                    |\n",
      "|[0.00939945419122484]  |424                    |\n",
      "|[0.058981341678901844] |424                    |\n",
      "|[0.19049768152204577]  |424                    |\n",
      "|[0.1903372008656814]   |424                    |\n",
      "|[0.20179520063010314]  |423                    |\n",
      "|[0.1485026694370888]   |422                    |\n",
      "|[0.0751031907926662]   |419                    |\n",
      "|[0.03221550569992667]  |418                    |\n",
      "|[0.03844436386534718]  |417                    |\n",
      "|[0.2420716044433079]   |416                    |\n",
      "|[0.004549555134385972] |415                    |\n",
      "|[0.014500774306718612] |414                    |\n",
      "|[0.3401467204878157]   |412                    |\n",
      "|[0.00544451519366875]  |412                    |\n",
      "|[0.009571624089477555] |403                    |\n",
      "|[0.025788055309354494] |401                    |\n",
      "|[0.24191255079877302]  |401                    |\n",
      "|[0.9251458492710178]   |398                    |\n",
      "|[0.009677758006997461] |397                    |\n",
      "|[0.23978974522237068]  |397                    |\n",
      "|[0.2367635133650181]   |395                    |\n",
      "|[0.04489531308307489]  |393                    |\n",
      "|[0.009371587770219663] |393                    |\n",
      "|[0.016804681031250907] |392                    |\n",
      "|[0.10896776370237045]  |390                    |\n",
      "|[0.34317323934838784]  |387                    |\n",
      "|[0.013426929369368968] |385                    |\n",
      "|[0.02237667137735092]  |385                    |\n",
      "|[0.012399123936969354] |384                    |\n",
      "|[0.00530668749239434]  |383                    |\n",
      "|[0.08198302160272782]  |381                    |\n",
      "|[0.09417340447375616]  |379                    |\n",
      "|[0.005421944232594913] |379                    |\n",
      "|[0.0687892710029454]   |378                    |\n",
      "|[0.019949580811554818] |378                    |\n",
      "|[0.21337965893718816]  |378                    |\n",
      "|[0.02018728320035811]  |378                    |\n",
      "|[0.008328036049385517] |378                    |\n",
      "|[0.941582107936753]    |376                    |\n",
      "|[0.11335203803873622]  |376                    |\n",
      "|[0.041355473278182564] |376                    |\n",
      "|[0.24168666248184745]  |376                    |\n",
      "|[0.011152627299529753] |375                    |\n",
      "|[0.5458319512849473]   |374                    |\n",
      "|[0.0618929487172924]   |372                    |\n",
      "|[0.05908158030050016]  |372                    |\n",
      "|[0.1388347086907923]   |372                    |\n",
      "|[0.2094549618447347]   |370                    |\n",
      "|[0.01813508098803802]  |368                    |\n",
      "|[0.9571701674812115]   |367                    |\n",
      "|[0.025829108173108586] |365                    |\n",
      "|[0.11228784570897268]  |362                    |\n",
      "|[0.06075058299597964]  |360                    |\n",
      "|[0.23338708245387313]  |358                    |\n",
      "|[0.9471100808308262]   |357                    |\n",
      "|[0.06711644209530043]  |357                    |\n",
      "|[0.2394945402079154]   |357                    |\n",
      "|[0.01928308002578516]  |357                    |\n",
      "|[0.0161529633701015]   |356                    |\n",
      "|[0.13840286444440347]  |355                    |\n",
      "|[0.009681010331344199] |355                    |\n",
      "|[0.9621745874154582]   |355                    |\n",
      "|[0.03388408814534733]  |353                    |\n",
      "|[0.010573515624671936] |353                    |\n",
      "|[0.23204245528596382]  |350                    |\n",
      "|[0.9220839335973254]   |348                    |\n",
      "|[0.9265410228106871]   |346                    |\n",
      "|[0.012265770689158182] |346                    |\n",
      "|[0.5164438146466033]   |346                    |\n",
      "|[0.015683723378573683] |346                    |\n",
      "|[0.021988748532731986] |345                    |\n",
      "|[0.1448585120395321]   |345                    |\n",
      "|[0.023386164644642035] |342                    |\n",
      "|[0.02166181058693441]  |339                    |\n",
      "|[0.9278658067783485]   |339                    |\n",
      "|[0.025918334707413806] |339                    |\n",
      "|[0.9197715211760504]   |338                    |\n",
      "|[0.1560844656169424]   |336                    |\n",
      "|[0.005867046247137464] |336                    |\n",
      "|[0.008052308737184042] |334                    |\n",
      "|[0.24008682499105397]  |334                    |\n",
      "|[0.021452354260491628] |332                    |\n",
      "|[0.025823210062798384] |332                    |\n",
      "|[0.40300587831934925]  |331                    |\n",
      "|[0.016424753890493568] |331                    |\n",
      "|[0.06077604270440672]  |330                    |\n",
      "|[0.009134067641807042] |330                    |\n",
      "|[0.2258790126507539]   |329                    |\n",
      "|[0.15383340340757157]  |326                    |\n",
      "|[0.15722088550503505]  |324                    |\n",
      "|[0.026592214109803877] |324                    |\n",
      "|[0.10531639049165191]  |323                    |\n",
      "|[0.9937416963783773]   |322                    |\n",
      "|[0.005913959586377254] |322                    |\n",
      "|[0.016436626125916207] |321                    |\n",
      "|[0.02703816228298307]  |321                    |\n",
      "|[0.01631446678707776]  |321                    |\n",
      "|[0.015388090968592167] |320                    |\n",
      "|[0.21954934127254683]  |318                    |\n",
      "|[0.22670853886174022]  |316                    |\n",
      "|[0.12950282161251903]  |316                    |\n",
      "|[0.9299112433815624]   |315                    |\n",
      "|[0.31634780348856373]  |315                    |\n",
      "|[0.16715569111555126]  |314                    |\n",
      "|[0.022983012236844288] |314                    |\n",
      "|[0.24846511922916723]  |313                    |\n",
      "|[0.1503054051577451]   |313                    |\n",
      "|[0.38974511732922634]  |312                    |\n",
      "|[0.01900594588402696]  |310                    |\n",
      "|[0.08014118322920029]  |309                    |\n",
      "|[0.22673764045776185]  |309                    |\n",
      "|[0.021632939812980832] |308                    |\n",
      "|[0.010360006709321776] |307                    |\n",
      "|[0.9651655355052519]   |306                    |\n",
      "|[0.013664018267010015] |306                    |\n",
      "|[0.04715146535960327]  |306                    |\n",
      "|[0.023575200609113556] |304                    |\n",
      "|[0.030018785807076478] |304                    |\n",
      "|[0.08277326624771518]  |303                    |\n",
      "|[0.9391570069873348]   |303                    |\n",
      "|[0.013141803995724875] |303                    |\n",
      "|[0.011193545385575088] |303                    |\n",
      "|[0.055062866723828714] |302                    |\n",
      "|[0.23588530540387967]  |302                    |\n",
      "|[0.024458459122832253] |301                    |\n",
      "|[0.04504442841833983]  |301                    |\n",
      "|[0.01886378841626348]  |300                    |\n",
      "|[0.06763080754843433]  |300                    |\n",
      "|[0.39968980673218113]  |298                    |\n",
      "|[0.018247836555636922] |298                    |\n",
      "|[0.9778902191567801]   |297                    |\n",
      "|[0.2394696072703065]   |295                    |\n",
      "|[0.09458551681720753]  |293                    |\n",
      "|[0.9267128611950374]   |292                    |\n",
      "|[0.18823890096988147]  |291                    |\n",
      "|[0.9453835583793467]   |290                    |\n",
      "|[0.2234137167315489]   |290                    |\n",
      "|[0.4128120921658646]   |290                    |\n",
      "|[0.00874208766280219]  |290                    |\n",
      "|[0.12948769781408923]  |290                    |\n",
      "|[0.02009950316144224]  |289                    |\n",
      "|[0.06601417593786325]  |288                    |\n",
      "|[0.015784977870085776] |287                    |\n",
      "|[0.017654234556664695] |287                    |\n",
      "|[0.03670412735835801]  |287                    |\n",
      "|[0.012093268838400836] |286                    |\n",
      "|[0.1254988195914984]   |285                    |\n",
      "|[0.01988915050819863]  |284                    |\n",
      "|[0.5041799524521463]   |284                    |\n",
      "|[0.9144818531798816]   |283                    |\n",
      "|[0.01796901042538406]  |283                    |\n",
      "|[0.04700222568527919]  |282                    |\n",
      "|[0.01863531063307268]  |281                    |\n",
      "|[0.022081308043303206] |281                    |\n",
      "|[0.02136638062627322]  |279                    |\n",
      "|[0.013585144075849598] |279                    |\n",
      "|[0.240789677333969]    |279                    |\n",
      "|[0.1396851349649481]   |278                    |\n",
      "|[0.9215864646505776]   |278                    |\n",
      "|[0.9593648771861906]   |277                    |\n",
      "|[0.027207541269567273] |277                    |\n",
      "|[0.007768837316480575] |276                    |\n",
      "|[0.9924014034415858]   |276                    |\n",
      "|[0.021082374161403485] |273                    |\n",
      "|[0.2476920616562364]   |273                    |\n",
      "|[0.32290099659093097]  |272                    |\n",
      "|[0.00743423601194092]  |272                    |\n",
      "|[0.056329274461336655] |272                    |\n",
      "|[0.1947396228616243]   |271                    |\n",
      "|[0.01394034995048134]  |270                    |\n",
      "|[0.1499228577945978]   |270                    |\n",
      "|[0.0068627733567223105]|270                    |\n",
      "|[0.016933404403092104] |270                    |\n",
      "|[0.18934473593873452]  |270                    |\n",
      "|[0.0057565678043869474]|269                    |\n",
      "|[0.33055540920306187]  |269                    |\n",
      "|[0.9123829689259254]   |269                    |\n",
      "|[0.08541880619047047]  |268                    |\n",
      "|[0.21636062456641758]  |268                    |\n",
      "|[0.058794892281408904] |268                    |\n",
      "|[0.9497683198866119]   |267                    |\n",
      "|[0.04495221854980552]  |267                    |\n",
      "|[0.9888600544803614]   |266                    |\n",
      "|[0.027681134590183253] |265                    |\n",
      "|[0.0191624669315459]   |265                    |\n",
      "|[0.9470998211226664]   |264                    |\n",
      "|[0.24075281826353084]  |264                    |\n",
      "|[0.15630136699530522]  |264                    |\n",
      "|[0.25073342769456775]  |263                    |\n",
      "|[0.9163603191001926]   |263                    |\n",
      "|[0.015881414154280796] |262                    |\n",
      "|[0.92557235320559]     |262                    |\n",
      "|[0.014955950052357399] |262                    |\n",
      "|[0.8178520656791128]   |261                    |\n",
      "|[0.14165874099577686]  |261                    |\n",
      "|[0.0168623950017509]   |260                    |\n",
      "|[0.04453660786520695]  |260                    |\n",
      "|[0.9476468889437433]   |260                    |\n",
      "|[0.2283054069429228]   |259                    |\n",
      "|[0.25955952575840413]  |259                    |\n",
      "|[0.25365674224189727]  |258                    |\n",
      "|[0.009355555797348498] |258                    |\n",
      "|[0.09767667581435488]  |257                    |\n",
      "|[0.9333936056551007]   |256                    |\n",
      "|[0.304722781411265]    |255                    |\n",
      "|[0.02887921430650187]  |254                    |\n",
      "|[0.27817952502083587]  |254                    |\n",
      "|[0.040506269027786805] |254                    |\n",
      "|[0.19606080275343266]  |253                    |\n",
      "|[0.010855071764791299] |252                    |\n",
      "|[0.31315316093802925]  |252                    |\n",
      "|[0.04372296516977937]  |252                    |\n",
      "|[0.019420364746571463] |252                    |\n",
      "|[0.24152138522239303]  |251                    |\n",
      "|[0.116400697675315]    |251                    |\n",
      "|[0.9241102771631665]   |250                    |\n",
      "|[0.23791509345333506]  |250                    |\n",
      "|[0.9303670867945286]   |250                    |\n",
      "|[0.5955318522248774]   |249                    |\n",
      "|[0.28589395357682834]  |249                    |\n",
      "|[0.021138268022688155] |249                    |\n",
      "|[0.20320693535092985]  |249                    |\n",
      "|[0.04380109115797814]  |248                    |\n",
      "|[0.02950610802833414]  |248                    |\n",
      "|[0.012977731875559381] |248                    |\n",
      "|[0.20160061274452892]  |247                    |\n",
      "|[0.013608678178547573] |247                    |\n",
      "|[0.920426997812614]    |247                    |\n",
      "|[0.005109913889129095] |246                    |\n",
      "|[0.2392291675188209]   |246                    |\n",
      "|[0.12235664485447133]  |245                    |\n",
      "|[0.021685804130425274] |245                    |\n",
      "|[0.06322435815448613]  |245                    |\n",
      "|[0.05867791967232039]  |245                    |\n",
      "|[0.24024085264735726]  |244                    |\n",
      "|[0.8174255617445407]   |243                    |\n",
      "|[0.2542210891277785]   |243                    |\n",
      "|[0.16695818961187595]  |243                    |\n",
      "|[0.05189980858825944]  |243                    |\n",
      "|[0.014691577891820415] |243                    |\n",
      "|[0.12906705773702382]  |243                    |\n",
      "|[0.014646069767857508] |243                    |\n",
      "|[0.003720367361489213] |242                    |\n",
      "|[0.014430059833093398] |241                    |\n",
      "|[0.9436192773932852]   |241                    |\n",
      "|[0.1440162375957577]   |240                    |\n",
      "|[0.052671912182177635] |240                    |\n",
      "|[0.07589362432467575]  |240                    |\n",
      "|[0.02415707367029139]  |239                    |\n",
      "|[0.1836036129429346]   |239                    |\n",
      "|[0.06579846016030269]  |238                    |\n",
      "|[0.015885677406659863] |238                    |\n",
      "|[0.9159705682136274]   |238                    |\n",
      "|[0.914509139605451]    |238                    |\n",
      "|[0.05639341921295497]  |237                    |\n",
      "|[0.18723267745320768]  |237                    |\n",
      "|[0.2540163868198131]   |237                    |\n",
      "|[0.019839024230069856] |237                    |\n",
      "|[0.8218125051902521]   |237                    |\n",
      "|[0.8775822641126511]   |236                    |\n",
      "|[0.24814316908122305]  |236                    |\n",
      "|[0.034806113976338426] |236                    |\n",
      "|[0.982892598261935]    |236                    |\n",
      "|[0.02069183479153365]  |236                    |\n",
      "|[0.9203211345028609]   |235                    |\n",
      "|[0.027623479699885493] |235                    |\n",
      "|[0.2778064121251248]   |234                    |\n",
      "|[0.02754534077465158]  |234                    |\n",
      "|[0.028484974796547605] |233                    |\n",
      "|[0.01738926102968719]  |232                    |\n",
      "|[0.5371036151937545]   |232                    |\n",
      "|[0.3799268624903228]   |231                    |\n",
      "|[0.15165499974386518]  |231                    |\n",
      "|[0.02492776194317216]  |229                    |\n",
      "|[0.015124983515895234] |227                    |\n",
      "|[0.5350638139090351]   |227                    |\n",
      "|[0.2448190715314117]   |227                    |\n",
      "|[0.9426095313696173]   |227                    |\n",
      "|[0.40697561511972113]  |227                    |\n",
      "|[0.018475053424978523] |227                    |\n",
      "|[0.023579379533126683] |226                    |\n",
      "|[0.05095883282755271]  |226                    |\n",
      "|[0.21757254598852507]  |225                    |\n",
      "|[0.017397012661342318] |225                    |\n",
      "|[0.22933153703303635]  |225                    |\n",
      "|[0.014501722664313559] |225                    |\n",
      "|[0.24352312506172344]  |225                    |\n",
      "|[0.024756223426541542] |225                    |\n",
      "|[0.02758910012901428]  |225                    |\n",
      "|[0.24713148395268672]  |224                    |\n",
      "|[0.014270088749423489] |222                    |\n",
      "|[0.4027409494940875]   |222                    |\n",
      "|[0.0651500450588894]   |222                    |\n",
      "|[0.37367181113377]     |222                    |\n",
      "|[0.12149207094429505]  |221                    |\n",
      "|[0.025102397246185022] |221                    |\n",
      "|[0.05270867706033357]  |221                    |\n",
      "|[0.30181830396153964]  |221                    |\n",
      "|[0.011085753763831408] |221                    |\n",
      "|[0.9263889250287386]   |220                    |\n",
      "|[0.9290164976451767]   |220                    |\n",
      "|[0.0205849136995112]   |220                    |\n",
      "|[0.016417037858098626] |220                    |\n",
      "|[0.8346808592867663]   |219                    |\n",
      "|[0.0331232026546282]   |218                    |\n",
      "|[0.04010714199212973]  |217                    |\n",
      "|[0.5785627433780391]   |217                    |\n",
      "|[0.025832946945269115] |217                    |\n",
      "|[0.3259275154515031]   |216                    |\n",
      "|[0.015988257895593827] |216                    |\n",
      "|[0.05527145162124464]  |215                    |\n",
      "|[0.9268154289633108]   |214                    |\n",
      "|[0.008444750038426091] |214                    |\n",
      "|[0.2492542895290891]   |214                    |\n",
      "|[0.032226945276957394] |213                    |\n",
      "|[0.17880228343835752]  |213                    |\n",
      "|[0.007975315436072989] |212                    |\n",
      "|[0.014707280490700343] |212                    |\n",
      "|[0.31365988062267375]  |211                    |\n",
      "|[0.5529139042269187]   |210                    |\n",
      "|[0.08483176277019601]  |209                    |\n",
      "|[0.3639721327397469]   |209                    |\n",
      "|[0.24307201763673678]  |209                    |\n",
      "|[0.13683037612207544]  |209                    |\n",
      "|[0.24869199376783474]  |209                    |\n",
      "|[0.01989584002839827]  |208                    |\n",
      "|[0.10489801192843444]  |207                    |\n",
      "|[0.42223822422955576]  |207                    |\n",
      "|[0.13379854759646231]  |207                    |\n",
      "|[0.519253524875871]    |207                    |\n",
      "|[0.190527499583399]    |206                    |\n",
      "|[0.007117183927498737] |206                    |\n",
      "|[0.014677132511704322] |206                    |\n",
      "|[0.09246081052324714]  |205                    |\n",
      "|[0.0045379398845590765]|205                    |\n",
      "|[0.008822745666658659] |204                    |\n",
      "|[0.028082987682522924] |204                    |\n",
      "|[0.24833776967834922]  |204                    |\n",
      "|[0.021890837628006393] |203                    |\n",
      "|[0.009315283795154283] |203                    |\n",
      "|[0.41781133623378564]  |202                    |\n",
      "|[0.9481902386270258]   |202                    |\n",
      "|[0.9336825336596306]   |202                    |\n",
      "|[0.24102066920937054]  |202                    |\n",
      "|[0.13443347354012944]  |201                    |\n",
      "|[0.22867614550443846]  |200                    |\n",
      "|[0.02141710548965599]  |199                    |\n",
      "|[0.16047253421600588]  |199                    |\n",
      "|[0.9106145566985729]   |199                    |\n",
      "|[0.02188902745627601]  |199                    |\n",
      "|[0.07627835093030658]  |199                    |\n",
      "|[0.1395995512337219]   |198                    |\n",
      "|[0.13411307618121768]  |197                    |\n",
      "|[0.8219984086379288]   |197                    |\n",
      "|[0.02317713627485419]  |196                    |\n",
      "|[0.015556899811986687] |195                    |\n",
      "|[0.3541538779008433]   |195                    |\n",
      "|[0.37199482245809506]  |195                    |\n",
      "|[0.1410382130294176]   |195                    |\n",
      "|[0.9360617565032952]   |194                    |\n",
      "|[0.012938404783515501] |194                    |\n",
      "|[0.05537114916306463]  |194                    |\n",
      "|[0.38576015442246453]  |193                    |\n",
      "|[0.01752728666953532]  |192                    |\n",
      "|[0.41613576966937044]  |192                    |\n",
      "|[0.04761730379135355]  |192                    |\n",
      "|[0.03821035097481112]  |192                    |\n",
      "|[0.2770811692708208]   |192                    |\n",
      "|[0.2514254414955892]   |191                    |\n",
      "|[0.018108986174101924] |191                    |\n",
      "|[0.018351887035715733] |191                    |\n",
      "|[0.03295343565850729]  |191                    |\n",
      "|[0.9446528243532788]   |190                    |\n",
      "|[0.01910536792912146]  |190                    |\n",
      "|[0.9170263123726695]   |190                    |\n",
      "|[0.20410711174244428]  |190                    |\n",
      "|[0.05959632837445529]  |189                    |\n",
      "|[0.1762683289176409]   |189                    |\n",
      "|[0.22112511811803132]  |189                    |\n",
      "|[0.028013617878712843] |189                    |\n",
      "|[0.18557818887430774]  |188                    |\n",
      "|[0.021250949119653074] |188                    |\n",
      "|[0.20206277927145727]  |188                    |\n",
      "|[0.21663814494647954]  |188                    |\n",
      "|[0.02261888911036242]  |188                    |\n",
      "|[0.06378215575539035]  |188                    |\n",
      "|[0.030510404543515966] |187                    |\n",
      "|[0.2796142259380651]   |186                    |\n",
      "|[0.15010812756265457]  |186                    |\n",
      "|[0.9496435030372402]   |186                    |\n",
      "|[0.01787479116411471]  |186                    |\n",
      "|[0.24089028610415938]  |186                    |\n",
      "|[0.2862577937652749]   |185                    |\n",
      "|[0.3486358306024178]   |185                    |\n",
      "|[0.020899679218120096] |184                    |\n",
      "|[0.010560026777721861] |184                    |\n",
      "|[0.2260425455892633]   |184                    |\n",
      "|[0.1508335254680621]   |183                    |\n",
      "|[0.13607890672952488]  |183                    |\n",
      "|[0.019725617784672998] |183                    |\n",
      "|[0.4696750336428073]   |183                    |\n",
      "|[0.13075500545955449]  |183                    |\n",
      "|[0.030457295566087995] |183                    |\n",
      "|[0.24286327790265275]  |182                    |\n",
      "|[0.051431691558356425] |182                    |\n",
      "|[0.02143103966955886]  |182                    |\n",
      "|[0.236162650319982]    |182                    |\n",
      "|[0.027353587075760643] |182                    |\n",
      "|[0.8250827195063123]   |181                    |\n",
      "|[0.25097433407060254]  |181                    |\n",
      "|[0.24135197309522333]  |181                    |\n",
      "|[0.22164434148658874]  |181                    |\n",
      "|[0.938063010947097]    |181                    |\n",
      "|[0.1554278877686244]   |180                    |\n",
      "|[0.9391923893975151]   |180                    |\n",
      "|[0.9234544692131545]   |179                    |\n",
      "|[0.9796098174563902]   |179                    |\n",
      "|[0.006415806049044552] |179                    |\n",
      "|[0.03548431697407859]  |179                    |\n",
      "|[0.06370852531418894]  |178                    |\n",
      "|[0.0969835839385194]   |178                    |\n",
      "|[0.9148111013756638]   |178                    |\n",
      "|[0.9068644080403842]   |178                    |\n",
      "|[0.23119243860956973]  |177                    |\n",
      "|[0.10201418958038798]  |177                    |\n",
      "|[0.23655129867635658]  |177                    |\n",
      "|[0.23990123840058328]  |177                    |\n",
      "|[0.14549339192152058]  |177                    |\n",
      "|[0.12550350560718485]  |176                    |\n",
      "|[0.1254478038516187]   |175                    |\n",
      "|[0.2985562799742777]   |175                    |\n",
      "|[0.027014171527827244] |175                    |\n",
      "|[0.04123950398315422]  |175                    |\n",
      "|[0.9469616396389329]   |174                    |\n",
      "|[0.1577625568924372]   |174                    |\n",
      "|[0.023278442197505477] |173                    |\n",
      "|[0.3443123217105687]   |173                    |\n",
      "|[0.8807682867566718]   |173                    |\n",
      "|[0.015071570437779777] |173                    |\n",
      "|[0.23871781642435588]  |172                    |\n",
      "|[0.02123703833700643]  |172                    |\n",
      "|[0.9466501685464472]   |172                    |\n",
      "|[0.009587057785106767] |172                    |\n",
      "|[0.017181674463326583] |172                    |\n",
      "|[0.22806114941788777]  |171                    |\n",
      "|[0.03003204365748083]  |171                    |\n",
      "|[0.016093171723647187] |170                    |\n",
      "|[0.9315276890944557]   |170                    |\n",
      "|[0.02643545938868031]  |170                    |\n",
      "|[0.0021596553993781585]|170                    |\n",
      "|[0.005705223726070878] |170                    |\n",
      "|[0.2910261431781495]   |170                    |\n",
      "|[0.417051454521259]    |170                    |\n",
      "|[0.021361344633805214] |170                    |\n",
      "|[0.045011097731117854] |170                    |\n",
      "|[0.046669361519629575] |169                    |\n",
      "|[0.13407388812857843]  |169                    |\n",
      "|[0.0032979186096744133]|168                    |\n",
      "|[0.010525395009088286] |168                    |\n",
      "|[0.14397227110411037]  |168                    |\n",
      "|[0.24194667500379716]  |168                    |\n",
      "|[0.9447440628280345]   |168                    |\n",
      "|[0.014818432412012129] |168                    |\n",
      "|[0.14509051408938226]  |167                    |\n",
      "|[0.204785016610516]    |167                    |\n",
      "|[0.9308645557412762]   |166                    |\n",
      "|[0.16580326818648863]  |166                    |\n",
      "|[0.9101880527640007]   |166                    |\n",
      "|[0.14886251406055273]  |165                    |\n",
      "|[0.01131297063317301]  |165                    |\n",
      "|[0.24974759542658112]  |165                    |\n",
      "|[0.3382039960672071]   |164                    |\n",
      "|[0.014111828496123541] |164                    |\n",
      "|[0.9142911852192414]   |164                    |\n",
      "|[0.2833493242970707]   |163                    |\n",
      "|[0.1314348534800474]   |163                    |\n",
      "|[0.2519742661822009]   |162                    |\n",
      "|[0.3279451003848211]   |162                    |\n",
      "|[0.965262793496411]    |162                    |\n",
      "|[0.019578512797044395] |162                    |\n",
      "|[0.9779926396898877]   |162                    |\n",
      "|[0.9422232805506771]   |162                    |\n",
      "|[0.16227526993666214]  |161                    |\n",
      "|[0.1625287237387987]   |161                    |\n",
      "|[0.024485091421414466] |160                    |\n",
      "|[0.20919945995742076]  |160                    |\n",
      "|[0.133190538426521]    |160                    |\n",
      "|[0.9486779023822526]   |160                    |\n",
      "|[0.22278376216671417]  |160                    |\n",
      "|[0.18114872300123053]  |160                    |\n",
      "|[0.3025063991996785]   |159                    |\n",
      "|[0.23874829281727203]  |159                    |\n",
      "|[0.3541305765494723]   |159                    |\n",
      "|[0.012878087265807964] |159                    |\n",
      "|[0.010910832620642082] |159                    |\n",
      "|[0.19168044516671026]  |159                    |\n",
      "|[0.00337828331920603]  |159                    |\n",
      "|[0.021128507987318038] |158                    |\n",
      "|[0.2811677381305282]   |158                    |\n",
      "|[0.9180325358893434]   |158                    |\n",
      "|[0.1691907502839521]   |158                    |\n",
      "|[0.16417271386488577]  |158                    |\n",
      "|[0.010727059034930956] |158                    |\n",
      "|[0.09962478296886561]  |158                    |\n",
      "|[0.18265385998286512]  |158                    |\n",
      "|[0.004645190483484238] |157                    |\n",
      "|[0.032049538903619244] |157                    |\n",
      "|[0.24218737849486993]  |157                    |\n",
      "|[0.23493607934395533]  |157                    |\n",
      "|[0.040246858468486815] |157                    |\n",
      "|[0.1958111074808616]   |157                    |\n",
      "|[0.9401869343970837]   |157                    |\n",
      "|[0.13197570170938283]  |156                    |\n",
      "|[0.2856954092076668]   |156                    |\n",
      "|[0.5999587402206474]   |156                    |\n",
      "|[0.12239510880872485]  |156                    |\n",
      "|[0.032523326065199594] |155                    |\n",
      "|[0.9229573315798553]   |155                    |\n",
      "|[0.2018236901259476]   |155                    |\n",
      "|[0.005162469809190323] |154                    |\n",
      "|[0.9504343131590888]   |154                    |\n",
      "|[0.9131619369136675]   |154                    |\n",
      "|[0.19547555115461349]  |154                    |\n",
      "|[0.05678000969365277]  |154                    |\n",
      "|[0.012568755092542683] |154                    |\n",
      "|[0.018794094808539868] |153                    |\n",
      "|[0.18609702442300138]  |153                    |\n",
      "|[0.014876689723658482] |153                    |\n",
      "|[0.04186349007905788]  |153                    |\n",
      "|[0.23463222167408626]  |153                    |\n",
      "|[0.925100069740339]    |153                    |\n",
      "|[0.038805404155851465] |153                    |\n",
      "|[0.020680139756995654] |152                    |\n",
      "|[0.014738730934860025] |152                    |\n",
      "|[0.9392601386898203]   |152                    |\n",
      "|[0.0852325564981803]   |152                    |\n",
      "+-----------------------+-----------------------+\n",
      "only showing top 1000 rows\n",
      "\n"
     ]
    }
   ],
   "source": [
    "# CLASSIFICATION: DISTRIBUTION OF PROBABILITY\n",
    "#probab_class.show(1000, False)"
   ]
  },
  {
   "cell_type": "code",
   "execution_count": 128,
   "metadata": {
    "collapsed": true
   },
   "outputs": [],
   "source": [
    "probab_class = spark.sql('SELECT prob_1, COUNT(features) as count_ext_id_impression FROM class GROUP BY prob_1 ORDER BY prob_1 DESC')"
   ]
  },
  {
   "cell_type": "code",
   "execution_count": 95,
   "metadata": {
    "scrolled": true
   },
   "outputs": [
    {
     "name": "stdout",
     "output_type": "stream",
     "text": [
      "+--------------------+-----------------------+\n",
      "|prob_1              |count_ext_id_impression|\n",
      "+--------------------+-----------------------+\n",
      "|[0.9938624335855163]|4556                   |\n",
      "|[0.9937933791470427]|53                     |\n",
      "|[0.9937416963783773]|322                    |\n",
      "|[0.9936726419399037]|1                      |\n",
      "|[0.9933703930645322]|92                     |\n",
      "|[0.9933013386260586]|3                      |\n",
      "|[0.9932496558573932]|16                     |\n",
      "|[0.9924014034415858]|276                    |\n",
      "|[0.9923323490031122]|2                      |\n",
      "|[0.9922806662344468]|81                     |\n",
      "|[0.9921351931026041]|8                      |\n",
      "|[0.9919093629206017]|11                     |\n",
      "|[0.991876005485372] |52                     |\n",
      "|[0.9918278369065547]|6                      |\n",
      "|[0.991755268278233] |5                      |\n",
      "|[0.9917070996994157]|4                      |\n",
      "|[0.9913357963855707]|1                      |\n",
      "|[0.9912150591784317]|2                      |\n",
      "|[0.9906479778661644]|18                     |\n",
      "|[0.9905272406590254]|4                      |\n",
      "|[0.9905242480477086]|1                      |\n",
      "|[0.9904149753414415]|2                      |\n",
      "|[0.9904035108405693]|1                      |\n",
      "|[0.9903668067626242]|13                     |\n",
      "|[0.9902942381343025]|1                      |\n",
      "|[0.9902460695554852]|3                      |\n",
      "|[0.9900322075267244]|14                     |\n",
      "|[0.9899631530882508]|1                      |\n",
      "|[0.9899114703195854]|2                      |\n",
      "|[0.9898199818506405]|18                     |\n",
      "|[0.9897509274121667]|56                     |\n",
      "|[0.9896992446435013]|2                      |\n",
      "|[0.9896301902050277]|1                      |\n",
      "|[0.9892588868911827]|13                     |\n",
      "|[0.9891869477222339]|36                     |\n",
      "|[0.9890662105150949]|7                      |\n",
      "|[0.989063217903778] |53                     |\n",
      "|[0.9889424806966389]|12                     |\n",
      "|[0.9888600544803614]|266                    |\n",
      "|[0.9887970075647963]|2                      |\n",
      "|[0.9887393172732224]|7                      |\n",
      "|[0.9885711773827939]|11                     |\n",
      "|[0.9884504401756549]|4                      |\n",
      "|[0.9883680139593772]|2                      |\n",
      "|[0.98835895170671]  |14                     |\n",
      "|[0.9882898972682362]|13                     |\n",
      "|[0.9881691600610972]|3                      |\n",
      "|[0.987690981413418] |1                      |\n",
      "|[0.9876771195401132]|1                      |\n",
      "|[0.9876646479645398]|1                      |\n",
      "|[0.987648602861449] |3                      |\n",
      "|[0.9873945743657124]|128                    |\n",
      "|[0.987319678099573] |7                      |\n",
      "|[0.9872738371585734]|21                     |\n",
      "|[0.9871989408924339]|2                      |\n",
      "|[0.9870286212248164]|7                      |\n",
      "|[0.9869078840176774]|2                      |\n",
      "|[0.9869025338447284]|2                      |\n",
      "|[0.9867817966375894]|2                      |\n",
      "|[0.9866055261312884]|1                      |\n",
      "|[0.9865365807038323]|7                      |\n",
      "|[0.9864687438210586]|2                      |\n",
      "|[0.9864614676484842]|1                      |\n",
      "|[0.9863506884766265]|2                      |\n",
      "|[0.9863243550277483]|1                      |\n",
      "|[0.9862729614239565]|1                      |\n",
      "|[0.9861875727175184]|1                      |\n",
      "|[0.9861522242168175]|2                      |\n",
      "|[0.9861204543565559]|1                      |\n",
      "|[0.9859997171494167]|2                      |\n",
      "|[0.9859897557918483]|1                      |\n",
      "|[0.9859335442217819]|18                     |\n",
      "|[0.9859207013533748]|2                      |\n",
      "|[0.9858586479556425]|17                     |\n",
      "|[0.9858487621844261]|9                      |\n",
      "|[0.9858128070146429]|5                      |\n",
      "|[0.9857895935171688]|1                      |\n",
      "|[0.9857379107485034]|4                      |\n",
      "|[0.9856688563100298]|1                      |\n",
      "|[0.9855553826835264]|3                      |\n",
      "|[0.985492478025538] |4                      |\n",
      "|[0.9854415037007979]|1                      |\n",
      "|[0.9854346454763874]|2                      |\n",
      "|[0.9854081462655683]|4                      |\n",
      "|[0.9853717408183988]|2                      |\n",
      "|[0.9853599776867509]|2                      |\n",
      "|[0.9852850814206113]|1                      |\n",
      "|[0.9851752933618161]|1                      |\n",
      "|[0.985144495987358] |1                      |\n",
      "|[0.9850207661689021]|4                      |\n",
      "|[0.9850077136771281]|1                      |\n",
      "|[0.9850004375045538]|2                      |\n",
      "|[0.9849517117304285]|6                      |\n",
      "|[0.9848198581090264]|1                      |\n",
      "|[0.9845386870054863]|3                      |\n",
      "|[0.9845287256479179]|4                      |\n",
      "|[0.9844596712094443]|4                      |\n",
      "|[0.9844471996338711]|2                      |\n",
      "|[0.9843389340023053]|1                      |\n",
      "|[0.984316091797665] |2                      |\n",
      "|[0.9842267631425012]|1                      |\n",
      "|[0.984195354590526] |1                      |\n",
      "|[0.9841801186463606]|1                      |\n",
      "|[0.9841285423786753]|13                     |\n",
      "|[0.9841060259353622]|2                      |\n",
      "|[0.9841002594740957]|1                      |\n",
      "|[0.9840594879402016]|1                      |\n",
      "|[0.9840336738436516]|1                      |\n",
      "|[0.9840078051715362]|3                      |\n",
      "|[0.9839471161216378]|1                      |\n",
      "|[0.9838240512766809]|7                      |\n",
      "|[0.983769266885681] |1                      |\n",
      "|[0.9837033140695418]|3                      |\n",
      "|[0.983648529678542] |1                      |\n",
      "|[0.9834714366428818]|1                      |\n",
      "|[0.9834000487974258]|1                      |\n",
      "|[0.983277226364697] |1                      |\n",
      "|[0.9832081719262235]|4                      |\n",
      "|[0.9829861694899406]|1                      |\n",
      "|[0.9829745520104002]|1                      |\n",
      "|[0.982892598261935] |236                    |\n",
      "|[0.9828538148032612]|1                      |\n",
      "|[0.9828493871797106]|2                      |\n",
      "|[0.982842853256375] |2                      |\n",
      "|[0.9828220449429995]|1                      |\n",
      "|[0.9828140386790096]|1                      |\n",
      "|[0.9827718610547959]|23                     |\n",
      "|[0.9827221160492359]|1                      |\n",
      "|[0.9827190885024301]|3                      |\n",
      "|[0.9827013077358605]|1                      |\n",
      "|[0.9825983512952909]|3                      |\n",
      "|[0.9824941289689564]|1                      |\n",
      "|[0.9824005577409508]|4                      |\n",
      "|[0.9823573466587265]|1                      |\n",
      "|[0.9823509581672105]|1                      |\n",
      "|[0.9823508127353908]|4                      |\n",
      "|[0.9823082367417506]|1                      |\n",
      "|[0.9822879080774024]|2                      |\n",
      "|[0.9822780223061859]|1                      |\n",
      "|[0.9822587925936601]|2                      |\n",
      "|[0.9822300755282518]|1                      |\n",
      "|[0.9821921664635397]|1                      |\n",
      "|[0.9821897381551865]|1                      |\n",
      "|[0.9820939456997136]|3                      |\n",
      "|[0.9818161962207665]|1                      |\n",
      "|[0.9818029156995267]|1                      |\n",
      "|[0.9817471417822929]|4                      |\n",
      "|[0.9816695281393203]|2                      |\n",
      "|[0.9816264045751538]|2                      |\n",
      "|[0.9815906900234427]|3                      |\n",
      "|[0.9814160129515238]|1                      |\n",
      "|[0.981361014799069] |2                      |\n",
      "|[0.9813530085350791]|1                      |\n",
      "|[0.9813212386748175]|1                      |\n",
      "|[0.9812619875204911]|5                      |\n",
      "|[0.98124027759193]  |3                      |\n",
      "|[0.9812005014676786]|1                      |\n",
      "|[0.9811412503133521]|4                      |\n",
      "|[0.9810945469033853]|4                      |\n",
      "|[0.9810280032590571]|1                      |\n",
      "|[0.9809061701617907]|31                     |\n",
      "|[0.9808609680140951]|1                      |\n",
      "|[0.9807854329546517]|3                      |\n",
      "|[0.9807198963120741]|2                      |\n",
      "|[0.9805125606829089]|1                      |\n",
      "|[0.9804810629503757]|1                      |\n",
      "|[0.9804151422593813]|10                     |\n",
      "|[0.980412008511902] |3                      |\n",
      "|[0.9803162160564293]|5                      |\n",
      "|[0.9802944050522422]|2                      |\n",
      "|[0.9802241959146986]|1                      |\n",
      "|[0.9801954788492903]|2                      |\n",
      "|[0.9801843114076253]|1                      |\n",
      "|[0.98015290285565]  |1                      |\n",
      "|[0.9800874136044686]|1                      |\n",
      "|[0.9800635742004863]|1                      |\n",
      "|[0.9799331671290323]|5                      |\n",
      "|[0.979885728824797] |19                     |\n",
      "|[0.9798124299218932]|1                      |\n",
      "|[0.9798051022041527]|1                      |\n",
      "|[0.979781599541805] |2                      |\n",
      "|[0.979764991617658] |5                      |\n",
      "|[0.9797429500695962]|5                      |\n",
      "|[0.9797419237909871]|1                      |\n",
      "|[0.9796788718948639]|31                     |\n",
      "|[0.9796608623346659]|1                      |\n",
      "|[0.979644817231575] |1                      |\n",
      "|[0.9796335167594548]|1                      |\n",
      "|[0.9796222128624572]|2                      |\n",
      "|[0.9796098174563902]|179                    |\n",
      "|[0.9795544127241271]|4                      |\n",
      "|[0.9795127795523157]|1                      |\n",
      "|[0.9794680790373197]|1                      |\n",
      "|[0.979433675516988] |1                      |\n",
      "|[0.9793922377354759]|2                      |\n",
      "|[0.9793231832970022]|2                      |\n",
      "|[0.9792921631348225]|43                     |\n",
      "|[0.9792920876173986]|2                      |\n",
      "|[0.9792715005283368]|1                      |\n",
      "|[0.9792344581619131]|2                      |\n",
      "|[0.9792286698556291]|3                      |\n",
      "|[0.9792026883016516]|1                      |\n",
      "|[0.9792024460898632]|2                      |\n",
      "|[0.9791868313738797]|1                      |\n",
      "|[0.9791714259276835]|4                      |\n",
      "|[0.9791177769354061]|1                      |\n",
      "|[0.9790819510945126]|1                      |\n",
      "|[0.9790599502244237]|1                      |\n",
      "|[0.9790435242749886]|1                      |\n",
      "|[0.9790277995178177]|1                      |\n",
      "|[0.9790117544147269]|3                      |\n",
      "|[0.978941634996004] |1                      |\n",
      "|[0.9787971786055343]|4                      |\n",
      "|[0.9787612163150667]|2                      |\n",
      "|[0.9786764413983953]|1                      |\n",
      "|[0.9786502004819811]|2                      |\n",
      "|[0.9786421268958925]|1                      |\n",
      "|[0.9786404791079276]|2                      |\n",
      "|[0.9784763380358925]|1                      |\n",
      "|[0.978316109764745] |2                      |\n",
      "|[0.9783096839611842]|1                      |\n",
      "|[0.9783025954493725]|1                      |\n",
      "|[0.9782702864526793]|16                     |\n",
      "|[0.9782691757940826]|1                      |\n",
      "|[0.9782116396642603]|1                      |\n",
      "|[0.978195372557606] |1                      |\n",
      "|[0.9781818582422335]|1                      |\n",
      "|[0.9781484385869436]|2                      |\n",
      "|[0.978116668726682] |2                      |\n",
      "|[0.9780904312799792]|1                      |\n",
      "|[0.97808515148159]  |1                      |\n",
      "|[0.9780634173440171]|1                      |\n",
      "|[0.9780616941283613]|30                     |\n",
      "|[0.9780289775215247]|1                      |\n",
      "|[0.9780228292612613]|2                      |\n",
      "|[0.977995931519543] |1                      |\n",
      "|[0.9779926396898877]|162                    |\n",
      "|[0.9779469246013082]|2                      |\n",
      "|[0.9778952418326428]|2                      |\n",
      "|[0.9778902191567801]|297                    |\n",
      "|[0.9778883769188376]|1                      |\n",
      "|[0.9778105549283884]|1                      |\n",
      "|[0.9777782459316953]|2                      |\n",
      "|[0.9777763002345968]|1                      |\n",
      "|[0.9777694819496411]|11                     |\n",
      "|[0.9777604639646508]|1                      |\n",
      "|[0.9776397267575118]|1                      |\n",
      "|[0.9775989200804932]|2                      |\n",
      "|[0.977534044763586] |2                      |\n",
      "|[0.9775238070251452]|1                      |\n",
      "|[0.9775005991689036]|17                     |\n",
      "|[0.977398178635796] |1                      |\n",
      "|[0.9773703383006833]|3                      |\n",
      "|[0.9772574909384371]|1                      |\n",
      "|[0.9772496010935443]|2                      |\n",
      "|[0.9771944167983709]|1                      |\n",
      "|[0.9771780280735766]|1                      |\n",
      "|[0.9770154523846883]|1                      |\n",
      "|[0.9769830407300357]|1                      |\n",
      "|[0.9769313579613703]|1                      |\n",
      "|[0.9768623035228967]|1                      |\n",
      "|[0.9767906465102892]|2                      |\n",
      "|[0.9767221631246504]|3                      |\n",
      "|[0.9767211460898366]|1                      |\n",
      "|[0.9766712731054451]|9                      |\n",
      "|[0.9766531086861768]|52                     |\n",
      "|[0.9766420206042085]|1                      |\n",
      "|[0.9766006639844309]|4                      |\n",
      "|[0.976550535898306] |2                      |\n",
      "|[0.9765316095459572]|39                     |\n",
      "|[0.9764360072978053]|1                      |\n",
      "|[0.976424739042131] |136                    |\n",
      "|[0.9763865631497148]|1                      |\n",
      "|[0.9763859555834573]|1                      |\n",
      "|[0.9763773055412562]|2                      |\n",
      "|[0.976304001834992] |25                     |\n",
      "|[0.9762658259425758]|1                      |\n",
      "|[0.9762301226036664]|1                      |\n",
      "|[0.976172328705503] |15                     |\n",
      "|[0.9761610681651927]|6                      |\n",
      "|[0.976150179934917] |1                      |\n",
      "|[0.9761393142940291]|1                      |\n",
      "|[0.9760714472234808]|1                      |\n",
      "|[0.976051591498364] |6                      |\n",
      "|[0.9760395690249731]|3                      |\n",
      "|[0.975983672845887] |8                      |\n",
      "|[0.9759539775970145]|1                      |\n",
      "|[0.9759326985211471]|2                      |\n",
      "|[0.9759037910566358]|35                     |\n",
      "|[0.9758903151391699]|1                      |\n",
      "|[0.975862935638748] |1                      |\n",
      "|[0.975853780239876] |1                      |\n",
      "|[0.9757830538494967]|3                      |\n",
      "|[0.9756214900861576]|1                      |\n",
      "|[0.9755673657215144]|1                      |\n",
      "|[0.9755234705400705]|2                      |\n",
      "|[0.9754916323249029]|1                      |\n",
      "|[0.9754012733789662]|1                      |\n",
      "|[0.975379851308529] |1                      |\n",
      "|[0.9753120149441734]|2                      |\n",
      "|[0.9753069553278921]|1                      |\n",
      "|[0.9752611329807199]|1                      |\n",
      "|[0.975246412966558] |1                      |\n",
      "|[0.9752379008894185]|1                      |\n",
      "|[0.9751920785422463]|13                     |\n",
      "|[0.9751862181207531]|2                      |\n",
      "|[0.9751729217673766]|1                      |\n",
      "|[0.975125675759419] |1                      |\n",
      "|[0.9751008740274145]|1                      |\n",
      "|[0.9750479345374993]|4                      |\n",
      "|[0.9750456626466659]|1                      |\n",
      "|[0.9750368563243035]|1                      |\n",
      "|[0.9749801368202755]|1                      |\n",
      "|[0.9748931555792651]|1                      |\n",
      "|[0.9748807161793179]|1                      |\n",
      "|[0.9748015233204299]|1                      |\n",
      "|[0.9747599789721789]|1                      |\n",
      "|[0.9747104560987796]|1                      |\n",
      "|[0.9747021603222601]|1                      |\n",
      "|[0.9746764927897089]|108                    |\n",
      "|[0.9746647410102001]|1                      |\n",
      "|[0.974640603366692] |1                      |\n",
      "|[0.9746197371990244]|2                      |\n",
      "|[0.9746111183639934]|1                      |\n",
      "|[0.9746088335064303]|5                      |\n",
      "|[0.9745972207557113]|2                      |\n",
      "|[0.9745507841354589]|1                      |\n",
      "|[0.9745484441399759]|1                      |\n",
      "|[0.9745459288484419]|1                      |\n",
      "|[0.9745104945347637]|14                     |\n",
      "|[0.9744982395449662]|2                      |\n",
      "|[0.9744880962992913]|2                      |\n",
      "|[0.974456699186188] |1                      |\n",
      "|[0.9744383109419869]|32                     |\n",
      "|[0.9744292849952394]|1                      |\n",
      "|[0.9743980034006365]|1                      |\n",
      "|[0.9743897573276247]|6                      |\n",
      "|[0.974373712224534] |1                      |\n",
      "|[0.9743224346456048]|1                      |\n",
      "|[0.9743175737348478]|5                      |\n",
      "|[0.9743025789204878]|1                      |\n",
      "|[0.9742897840296676]|38                     |\n",
      "|[0.9742598044914469]|1                      |\n",
      "|[0.9742314680695694]|1                      |\n",
      "|[0.9742257845790334]|2                      |\n",
      "|[0.9741859006053588]|1                      |\n",
      "|[0.9741690468225285]|3                      |\n",
      "|[0.9741624136310958]|5                      |\n",
      "|[0.9740910848602417]|1                      |\n",
      "|[0.9740890022688036]|1                      |\n",
      "|[0.9740651633982198]|2                      |\n",
      "|[0.9740587436144749]|1                      |\n",
      "|[0.9739501879550118]|7                      |\n",
      "|[0.9738459251839616]|1                      |\n",
      "|[0.973815950412012] |1                      |\n",
      "|[0.973656133538349] |1                      |\n",
      "|[0.9734581474340277]|3                      |\n",
      "|[0.9734357311384783]|2                      |\n",
      "|[0.9733862082650789]|1                      |\n",
      "|[0.9733709250950686]|2                      |\n",
      "|[0.9733525676744249]|1                      |\n",
      "|[0.9733369617859979]|12                     |\n",
      "|[0.9732966268652212]|1                      |\n",
      "|[0.9732917164836863]|1                      |\n",
      "|[0.9732624784466231]|3                      |\n",
      "|[0.9732559259744038]|1                      |\n",
      "|[0.9732494259548491]|4                      |\n",
      "|[0.9732318304672857]|1                      |\n",
      "|[0.9732110126750599]|3                      |\n",
      "|[0.9732048496368901]|1                      |\n",
      "|[0.9731934240081493]|14                     |\n",
      "|[0.9731516214417916]|1                      |\n",
      "|[0.9731504062115965]|1                      |\n",
      "|[0.9731355763387007]|1                      |\n",
      "|[0.9731215659157971]|2                      |\n",
      "|[0.9730897960555355]|3                      |\n",
      "|[0.9730897539915284]|1                      |\n",
      "|[0.9730872514132943]|1                      |\n",
      "|[0.9730593150232064]|2                      |\n",
      "|[0.9730148391315616]|2                      |\n",
      "|[0.9729690588483965]|1                      |\n",
      "|[0.9729684599292852]|2                      |\n",
      "|[0.9729456480384877]|1                      |\n",
      "|[0.9728243039150186]|42                     |\n",
      "|[0.9728228826273849]|1                      |\n",
      "|[0.9728206353843508]|3                      |\n",
      "|[0.9728159528618844]|1                      |\n",
      "|[0.9727464306834128]|1                      |\n",
      "|[0.972721478227339] |1                      |\n",
      "|[0.9727035667078796]|6                      |\n",
      "|[0.9727013834871653]|6                      |\n",
      "|[0.9726625168447124]|1                      |\n",
      "|[0.9726106569513009]|3                      |\n",
      "|[0.9725977134705444]|1                      |\n",
      "|[0.9725672745022225]|2                      |\n",
      "|[0.9724764194083009]|1                      |\n",
      "|[0.9722253014507757]|1                      |\n",
      "|[0.9722213350752265]|1                      |\n",
      "|[0.9721951805954522]|12                     |\n",
      "|[0.9721823412621774]|5                      |\n",
      "|[0.9720616040550384]|6                      |\n",
      "|[0.972044044597895] |1                      |\n",
      "|[0.9719864969987284]|1                      |\n",
      "|[0.9719493708767416]|1                      |\n",
      "|[0.9719476657064147]|1                      |\n",
      "|[0.971923307390756] |2                      |\n",
      "|[0.9719229474429121]|1                      |\n",
      "|[0.9719098949511381]|1                      |\n",
      "|[0.9719072077718729]|1                      |\n",
      "|[0.9718985889368419]|1                      |\n",
      "|[0.9718915375304944]|2                      |\n",
      "|[0.9718573999890256]|3                      |\n",
      "|[0.9718538930044385]|5                      |\n",
      "|[0.9717708003233553]|1                      |\n",
      "|[0.9717599349012083]|2                      |\n",
      "|[0.9717531823408402]|1                      |\n",
      "|[0.9716745461947702]|1                      |\n",
      "|[0.9716629557506843]|1                      |\n",
      "|[0.9716172922617861]|1                      |\n",
      "|[0.9715938349085574]|87                     |\n",
      "|[0.9715901902809854]|1                      |\n",
      "|[0.971572486640264] |1                      |\n",
      "|[0.9715074297853546]|1                      |\n",
      "|[0.9714157068949987]|1                      |\n",
      "|[0.9714065484158578]|1                      |\n",
      "|[0.9714054362333155]|1                      |\n",
      "|[0.9713937950794999]|9                      |\n",
      "|[0.9713618524834544]|4                      |\n",
      "|[0.9713549227179539]|1                      |\n",
      "|[0.9712277434985114]|2                      |\n",
      "|[0.9711175228357379]|1                      |\n",
      "|[0.9711049386013139]|1                      |\n",
      "|[0.9711017943875734]|5                      |\n",
      "|[0.9710910994574316]|2                      |\n",
      "|[0.9710204560414404]|1                      |\n",
      "|[0.9709938567622689]|1                      |\n",
      "|[0.9709729465570248]|4                      |\n",
      "|[0.9709063370797304]|1                      |\n",
      "|[0.9707297004808032]|6                      |\n",
      "|[0.9706607281913293]|2                      |\n",
      "|[0.9706089632736642]|2                      |\n",
      "|[0.9705990589364475]|1                      |\n",
      "|[0.9705717108667252]|8                      |\n",
      "|[0.970509341647499] |6                      |\n",
      "|[0.9704777648742041]|1                      |\n",
      "|[0.9703769236451462]|1                      |\n",
      "|[0.9703575863591212]|2                      |\n",
      "|[0.9703118459877933]|1                      |\n",
      "|[0.9702989047572779]|3                      |\n",
      "|[0.9702561864380072]|1                      |\n",
      "|[0.9702543039048466]|36                     |\n",
      "|[0.9701959131620331]|1                      |\n",
      "|[0.9701781675501389]|6                      |\n",
      "|[0.9701750636775636]|1                      |\n",
      "|[0.9701463976898771]|1                      |\n",
      "|[0.9701328047646269]|29                     |\n",
      "|[0.9701301595061134]|1                      |\n",
      "|[0.9701081059571994]|13                     |\n",
      "|[0.9700480227272711]|1                      |\n",
      "|[0.969916520162877] |1                      |\n",
      "|[0.9698829106504278]|1                      |\n",
      "|[0.9698778238591536]|1                      |\n",
      "|[0.9698324023011636]|8                      |\n",
      "|[0.9697746636027168]|1                      |\n",
      "|[0.9697674847971574]|1                      |\n",
      "|[0.9697622633838624]|2                      |\n",
      "|[0.9697506054408953]|1                      |\n",
      "|[0.9697345603378045]|2                      |\n",
      "|[0.969691738568383] |2                      |\n",
      "|[0.9696665545965876]|1                      |\n",
      "|[0.969640764243643] |1                      |\n",
      "|[0.9696379147641916]|6                      |\n",
      "|[0.9695761752377802]|3                      |\n",
      "|[0.9695444053775185]|1                      |\n",
      "|[0.9695098476501427]|3                      |\n",
      "|[0.9694613160632647]|2                      |\n",
      "|[0.9694504506411177]|3                      |\n",
      "|[0.96943388692988]  |2                      |\n",
      "|[0.9694315580152721]|1                      |\n",
      "|[0.969419305740902] |2                      |\n",
      "|[0.9693960443081084]|2                      |\n",
      "|[0.9693297134339787]|2                      |\n",
      "|[0.9693047450844374]|2                      |\n",
      "|[0.969297943573717] |1                      |\n",
      "|[0.9692322479191937]|1                      |\n",
      "|[0.9692180938611966]|1                      |\n",
      "|[0.9691996980473988]|2                      |\n",
      "|[0.9691840078772982]|3                      |\n",
      "|[0.9691448705618741]|4                      |\n",
      "|[0.9690010099731028]|1                      |\n",
      "|[0.9689857268030925]|1                      |\n",
      "|[0.9688929482641897]|1                      |\n",
      "|[0.9688453401822802]|2                      |\n",
      "|[0.9688444703838129]|2                      |\n",
      "|[0.9688073045850942]|1                      |\n",
      "|[0.9687932737609161]|11                     |\n",
      "|[0.9687821011645867]|1                      |\n",
      "|[0.9687572895590988]|5                      |\n",
      "|[0.9687246029751412]|1                      |\n",
      "|[0.9687028344846094]|3                      |\n",
      "|[0.9686812656523484]|2                      |\n",
      "|[0.9686443125252394]|1                      |\n",
      "|[0.9685921491483026]|1                      |\n",
      "|[0.9685717094133303]|1                      |\n",
      "|[0.9685438617535057]|1                      |\n",
      "|[0.9685362093776435]|1                      |\n",
      "|[0.9684928712974528]|1                      |\n",
      "|[0.9684611689279259]|2                      |\n",
      "|[0.9684560703455766]|5                      |\n",
      "|[0.9684388506440454]|1                      |\n",
      "|[0.9684209221619882]|1                      |\n",
      "|[0.9684154721705043]|2                      |\n",
      "|[0.9683837023102427]|3                      |\n",
      "|[0.9683808654742871]|3                      |\n",
      "|[0.9683793791892056]|1                      |\n",
      "|[0.9683629039263378]|2                      |\n",
      "|[0.968352207564672] |2                      |\n",
      "|[0.9683133526298252]|3                      |\n",
      "|[0.968293684649573] |83                     |\n",
      "|[0.9682887343419773]|1                      |\n",
      "|[0.9682604171298733]|5                      |\n",
      "|[0.9682588345320476]|1                      |\n",
      "|[0.9681703166464318]|3                      |\n",
      "|[0.9681692442475467]|2                      |\n",
      "|[0.9681262028074171]|1                      |\n",
      "|[0.9681178719446858]|2                      |\n",
      "|[0.9680982080856654]|2                      |\n",
      "|[0.9680565133043976]|3                      |\n",
      "|[0.9680488175062122]|11                     |\n",
      "|[0.968005465600278] |4                      |\n",
      "|[0.9679924654360508]|6                      |\n",
      "|[0.9679894204971872]|3                      |\n",
      "|[0.967976914023422] |3                      |\n",
      "|[0.9679752457345195]|137                    |\n",
      "|[0.9679223874236106]|12                     |\n",
      "|[0.9679187069968502]|1                      |\n",
      "|[0.9678686832900482]|2                      |\n",
      "|[0.9678529585328773]|1                      |\n",
      "|[0.9678497477202994]|9                      |\n",
      "|[0.9678476681457332]|3                      |\n",
      "|[0.9678369134297865]|1                      |\n",
      "|[0.9678251294324515]|6                      |\n",
      "|[0.9677968122203475]|3                      |\n",
      "|[0.967730077750446] |1                      |\n",
      "|[0.9677276667049008]|1                      |\n",
      "|[0.9677161762226476]|1                      |\n",
      "|[0.9676571418894214]|1                      |\n",
      "|[0.9675729871107939]|2                      |\n",
      "|[0.9675722664039835]|1                      |\n",
      "|[0.9675467829574979]|1                      |\n",
      "|[0.9674784504943371]|11                     |\n",
      "|[0.9674204800433932]|3                      |\n",
      "|[0.9674075230994249]|1                      |\n",
      "|[0.9673840632362074]|22                     |\n",
      "|[0.9673770149459792]|1                      |\n",
      "|[0.9672997428362541]|1                      |\n",
      "|[0.9672866005086569]|1                      |\n",
      "|[0.9672182299319538]|3                      |\n",
      "|[0.9672026965255526]|5                      |\n",
      "|[0.9671703812232763]|12                     |\n",
      "|[0.9671509815256215]|3                      |\n",
      "|[0.9671277544644321]|1                      |\n",
      "|[0.9669540251694362]|1                      |\n",
      "|[0.9669183490452751]|6                      |\n",
      "|[0.9668370686789995]|1                      |\n",
      "|[0.9667910695370261]|5                      |\n",
      "|[0.9667783409409749]|1                      |\n",
      "|[0.9667764885180337]|1                      |\n",
      "|[0.9667163314718605]|1                      |\n",
      "|[0.9667092865025013]|3                      |\n",
      "|[0.9667067763137505]|10                     |\n",
      "|[0.9667002863687698]|1                      |\n",
      "|[0.9666845616115988]|3                      |\n",
      "|[0.9666703323298872]|5                      |\n",
      "|[0.9666542872267964]|2                      |\n",
      "|[0.9666310156199008]|4                      |\n",
      "|[0.9666070236110298]|29                     |\n",
      "|[0.9665664441666607]|8                      |\n",
      "|[0.9665638244044598]|1                      |\n",
      "|[0.966542786318713] |2                      |\n",
      "|[0.9665367032530756]|4                      |\n",
      "|[0.9665335500196574]|4                      |\n",
      "|[0.9665331766469611]|2                      |\n",
      "|[0.9665203871911141]|2                      |\n",
      "|[0.9665178252624865]|2                      |\n",
      "|[0.9665097656198707]|9                      |\n",
      "|[0.9664963470311513]|1                      |\n",
      "|[0.9664942167633558]|2                      |\n",
      "|[0.966477282849031] |1                      |\n",
      "|[0.9663633768120908]|1                      |\n",
      "|[0.9663176108857104]|1                      |\n",
      "|[0.9663086085185885]|1                      |\n",
      "|[0.9662069577197542]|2                      |\n",
      "|[0.9660755268080026]|2                      |\n",
      "|[0.9660081622103763]|5                      |\n",
      "|[0.9659619812034808]|1                      |\n",
      "|[0.9659464929554944]|3                      |\n",
      "|[0.9659436087659933]|1                      |\n",
      "|[0.9659223106158467]|1                      |\n",
      "|[0.9658674855797973]|1                      |\n",
      "|[0.9657899505662877]|2                      |\n",
      "|[0.9657781607431181]|1                      |\n",
      "|[0.9657512100114249]|1                      |\n",
      "|[0.9657435409184252]|4                      |\n",
      "|[0.9657042763024829]|1                      |\n",
      "|[0.9656726918258504]|1                      |\n",
      "|[0.9656291404147777]|12                     |\n",
      "|[0.9656008232026738]|4                      |\n",
      "|[0.9655928062331773]|1                      |\n",
      "|[0.9655788180415641]|2                      |\n",
      "|[0.9655602741213885]|2                      |\n",
      "|[0.9654673959152668]|2                      |\n",
      "|[0.9654237410427093]|1                      |\n",
      "|[0.9654172004630109]|2                      |\n",
      "|[0.9653691926878951]|2                      |\n",
      "|[0.9653360248391012]|1                      |\n",
      "|[0.9653136499709857]|1                      |\n",
      "|[0.96530501691192]  |1                      |\n",
      "|[0.965262793496411] |162                    |\n",
      "|[0.965248455480756] |5                      |\n",
      "|[0.9652106877063446]|1                      |\n",
      "|[0.9651880742185337]|4                      |\n",
      "|[0.9651655355052519]|306                    |\n",
      "|[0.9651546857596449]|2                      |\n",
      "|[0.9651526202577112]|5                      |\n",
      "|[0.96513775184532]  |1                      |\n",
      "|[0.965137218293148] |14                     |\n",
      "|[0.9651351387185818]|3                      |\n",
      "|[0.9651098629482245]|1                      |\n",
      "|[0.965102399357497] |2                      |\n",
      "|[0.9651007657121933]|1                      |\n",
      "|[0.9650629842927337]|1                      |\n",
      "|[0.9650104724510622]|2                      |\n",
      "|[0.9650092900904323]|1                      |\n",
      "|[0.9649894343653154]|2                      |\n",
      "|[0.9649443545813576]|2147                   |\n",
      "|[0.964928126491651] |1                      |\n",
      "|[0.9648914027887007]|1                      |\n",
      "|[0.9648885528832932]|1                      |\n",
      "|[0.9648797831281175]|2                      |\n",
      "|[0.9648188565671376]|1                      |\n",
      "|[0.964807389284512] |1                      |\n",
      "|[0.9648044537208037]|1                      |\n",
      "|[0.9647942382792896]|29                     |\n",
      "|[0.964772362881926] |5                      |\n",
      "|[0.9647352866795365]|1                      |\n",
      "|[0.9647244693090079]|14                     |\n",
      "|[0.9646686312066654]|1                      |\n",
      "|[0.9646626452386609]|1                      |\n",
      "|[0.9645471320664458]|3                      |\n",
      "|[0.964391892212638] |2                      |\n",
      "|[0.9643641687493205]|1                      |\n",
      "|[0.9643531720830455]|14                     |\n",
      "|[0.9643284259526524]|5                      |\n",
      "|[0.9642254095162238]|1                      |\n",
      "|[0.9642207431176775]|1                      |\n",
      "|[0.9641200903724596]|32                     |\n",
      "|[0.9640907390911518]|1                      |\n",
      "|[0.9640900807876329]|12                     |\n",
      "|[0.9639457955999663]|1                      |\n",
      "|[0.9638372564451303]|4                      |\n",
      "|[0.9637879388121431]|1                      |\n",
      "|[0.9637496518821725]|8                      |\n",
      "|[0.9636876260155699]|1                      |\n",
      "|[0.9636129867435669]|1                      |\n",
      "|[0.9635702327171219]|1                      |\n",
      "|[0.9635355530134988]|12                     |\n",
      "|[0.9635264491650612]|3                      |\n",
      "|[0.9635256774424268]|2                      |\n",
      "|[0.9635010315782115]|1                      |\n",
      "|[0.9634788744667087]|72                     |\n",
      "|[0.9634099778102357]|2                      |\n",
      "|[0.9633698043041632]|2                      |\n",
      "|[0.9633629973808511]|1                      |\n",
      "|[0.963350609368349] |1                      |\n",
      "|[0.9632179876762694]|1                      |\n",
      "|[0.9632174744659352]|1                      |\n",
      "|[0.9631864665387541]|1                      |\n",
      "|[0.9631242998386027]|1                      |\n",
      "|[0.9630089129884386]|1                      |\n",
      "|[0.9629224952895733]|3                      |\n",
      "|[0.9627728524155347]|1                      |\n",
      "|[0.9627437888473448]|1                      |\n",
      "|[0.9627422071685058]|1                      |\n",
      "|[0.9626741971645535]|5                      |\n",
      "|[0.9626239012022905]|1                      |\n",
      "|[0.9626054232281853]|2                      |\n",
      "|[0.96253409073808]  |2                      |\n",
      "|[0.9624930263305116]|47                     |\n",
      "|[0.9624755447913822]|2                      |\n",
      "|[0.96245176502848]  |1                      |\n",
      "|[0.9624340785948866]|1                      |\n",
      "|[0.9623532713973725]|1                      |\n",
      "|[0.9622756251635863]|1                      |\n",
      "|[0.9621861464387159]|1                      |\n",
      "|[0.9621745874154582]|355                    |\n",
      "|[0.9621503145165252]|1                      |\n",
      "|[0.9621346443520901]|965                    |\n",
      "|[0.9621127689547265]|12                     |\n",
      "|[0.9620244711133901]|8                      |\n",
      "|[0.9620119398818564]|3                      |\n",
      "|[0.9620025957160265]|2                      |\n",
      "|[0.9619597245074958]|1                      |\n",
      "|[0.9619451854502441]|3                      |\n",
      "|[0.9618779434622243]|1                      |\n",
      "|[0.9618372586166316]|1                      |\n",
      "|[0.9618236863100246]|1                      |\n",
      "|[0.9617254363948236]|1                      |\n",
      "|[0.9616935781558459]|2                      |\n",
      "|[0.9616442137376049]|6                      |\n",
      "|[0.9615834049171461]|3                      |\n",
      "|[0.9614725982404919]|1                      |\n",
      "|[0.9613889992382029]|1                      |\n",
      "|[0.9613503232065601]|13                     |\n",
      "|[0.9613496102614186]|4                      |\n",
      "|[0.9613452180956475]|1                      |\n",
      "|[0.9613174605675101]|1                      |\n",
      "|[0.9612031475413609]|6                      |\n",
      "|[0.9611823919032372]|1                      |\n",
      "|[0.9611730043837733]|1                      |\n",
      "|[0.961112234024769] |1                      |\n",
      "|[0.960970065830775] |17                     |\n",
      "|[0.9609552150947671]|1                      |\n",
      "|[0.9609302111813104]|2                      |\n",
      "|[0.9608600015775433]|1                      |\n",
      "|[0.9607657858475994]|4                      |\n",
      "|[0.9607187607290106]|45                     |\n",
      "|[0.9607091073008093]|23                     |\n",
      "|[0.9605236794375503]|2                      |\n",
      "|[0.9604996758307842]|1                      |\n",
      "|[0.9604868728550194]|1                      |\n",
      "|[0.9602691000481005]|1                      |\n",
      "|[0.9602592500038293]|1                      |\n",
      "|[0.9602525749602596]|1                      |\n",
      "|[0.9601482003234645]|2                      |\n",
      "|[0.9601251195216122]|1                      |\n",
      "|[0.9600363375832813]|1                      |\n",
      "|[0.9600136310081728]|1                      |\n",
      "|[0.9600100792577078]|1                      |\n",
      "|[0.9600056870919367]|1                      |\n",
      "|[0.9599824018058608]|1                      |\n",
      "|[0.9599796432097562]|1                      |\n",
      "|[0.9599250260975328]|1                      |\n",
      "|[0.9598928938010338]|1                      |\n",
      "|[0.9598580143135297]|20                     |\n",
      "|[0.9597471691323028]|1                      |\n",
      "|[0.9597213617593069]|1                      |\n",
      "|[0.9596403116984651]|1                      |\n",
      "|[0.959610386822073] |4                      |\n",
      "|[0.9595906801775993]|1                      |\n",
      "|[0.9594383150575159]|1                      |\n",
      "|[0.9594111737304154]|1                      |\n",
      "|[0.9594008532800499]|1                      |\n",
      "|[0.9593973529203963]|1                      |\n",
      "|[0.9593658077448132]|1                      |\n",
      "|[0.9593648771861906]|277                    |\n",
      "|[0.9593430017888269]|3                      |\n",
      "|[0.9593037903356084]|1                      |\n",
      "|[0.9592428253478628]|1                      |\n",
      "|[0.9592422647190791]|2                      |\n",
      "|[0.9591814091538607]|1                      |\n",
      "|[0.9591072477211725]|1                      |\n",
      "|[0.9590099094740512]|1                      |\n",
      "|[0.9589846198104054]|36                     |\n",
      "|[0.9589285009349728]|1                      |\n",
      "|[0.9588855145334209]|1                      |\n",
      "|[0.9588756345160057]|1                      |\n",
      "|[0.9588744465717055]|1                      |\n",
      "|[0.9588624163850757]|1                      |\n",
      "|[0.9588328365108836]|8                      |\n",
      "|[0.9588175676020139]|1                      |\n",
      "|[0.9587390154656964]|1                      |\n",
      "|[0.958437563004984] |1                      |\n",
      "|[0.9584333803754614]|2                      |\n",
      "|[0.9584311740086787]|1                      |\n",
      "|[0.9584233628857628]|1                      |\n",
      "|[0.9583007806947542]|2                      |\n",
      "|[0.958270855818362] |3                      |\n",
      "|[0.9582551613229486]|2                      |\n",
      "|[0.958219521260944] |1                      |\n",
      "|[0.9582002986648755]|1                      |\n",
      "|[0.9581030048481582]|3                      |\n",
      "|[0.9580977210589091]|3                      |\n",
      "|[0.9580378911735714]|1                      |\n",
      "|[0.9579598565513564]|1                      |\n",
      "|[0.9579489935631113]|14                     |\n",
      "|[0.9579389674399621]|1                      |\n",
      "|[0.9579381590834977]|1                      |\n",
      "|[0.957905752407229] |1                      |\n",
      "|[0.9578818158291549]|1                      |\n",
      "|[0.9576672968019904]|8                      |\n",
      "|[0.9575976691338413]|1                      |\n",
      "|[0.957568736187326] |30                     |\n",
      "|[0.9575595788609739]|1                      |\n",
      "|[0.9575467205766779]|23                     |\n",
      "|[0.957488606396265] |74                     |\n",
      "|[0.9574272172447853]|1                      |\n",
      "|[0.9573581628063117]|2                      |\n",
      "|[0.9573128460754067]|1                      |\n",
      "|[0.9573071585265427]|2                      |\n",
      "|[0.9572568208099318]|1                      |\n",
      "|[0.9571701674812115]|367                    |\n",
      "|[0.9571055960279713]|2                      |\n",
      "|[0.9570628587806947]|1                      |\n",
      "|[0.9570200511791433]|17                     |\n",
      "|[0.9569981757817798]|1                      |\n",
      "|[0.9569043254348678]|1                      |\n",
      "|[0.9568701154170088]|1                      |\n",
      "|[0.9568340019562005]|3                      |\n",
      "|[0.9567995065494219]|1                      |\n",
      "|[0.9567545715096176]|1                      |\n",
      "|[0.9567335489680552]|1                      |\n",
      "|[0.956664509066327] |1                      |\n",
      "|[0.9566469994820213]|2                      |\n",
      "|[0.9565789849828994]|8                      |\n",
      "|[0.9565153968527352]|2                      |\n",
      "|[0.9563459032723135]|16                     |\n",
      "|[0.9563221653840128]|3                      |\n",
      "|[0.9562809649749775]|1                      |\n",
      "|[0.9562649715136199]|1                      |\n",
      "|[0.9562413906451149]|1                      |\n",
      "|[0.9562385297371067]|7                      |\n",
      "|[0.9562232880447797]|1                      |\n",
      "|[0.956214852644506] |3                      |\n",
      "|[0.9561842787562495]|3                      |\n",
      "|[0.956157593874751] |2                      |\n",
      "|[0.9560186318026007]|2                      |\n",
      "|[0.9560166818405712]|1                      |\n",
      "|[0.9558088383076161]|1                      |\n",
      "|[0.955800325786731] |1                      |\n",
      "|[0.9557869300517245]|1                      |\n",
      "|[0.9557711553008816]|1                      |\n",
      "|[0.9557613659133527]|3                      |\n",
      "|[0.9557546867309213]|1                      |\n",
      "|[0.9557091138792941]|1                      |\n",
      "|[0.9557046873665626]|44                     |\n",
      "|[0.955682811969199] |1                      |\n",
      "|[0.9556608600302292]|1                      |\n",
      "|[0.9556307063395403]|1                      |\n",
      "|[0.9555330345575291]|1                      |\n",
      "|[0.9555192128938234]|2                      |\n",
      "|[0.9555118430475775]|1                      |\n",
      "|[0.955486509559692] |1                      |\n",
      "|[0.9554689288004955]|1                      |\n",
      "|[0.9554088043978609]|1                      |\n",
      "|[0.9554052348913169]|1                      |\n",
      "|[0.9553965115429768]|4                      |\n",
      "|[0.9553882544880317]|1                      |\n",
      "|[0.9553706261375408]|1                      |\n",
      "|[0.955365772352553] |2                      |\n",
      "|[0.9553174289840791]|1                      |\n",
      "|[0.9552711529538996]|1                      |\n",
      "|[0.9552461584800295]|1                      |\n",
      "|[0.9552145115171602]|1                      |\n",
      "|[0.9551887158562807]|2                      |\n",
      "|[0.9551599127956638]|5                      |\n",
      "|[0.9551272022160201]|1                      |\n",
      "|[0.955124479065231] |1                      |\n",
      "|[0.9550748789754718]|1                      |\n",
      "|[0.9550672724970023]|8                      |\n",
      "|[0.9550556079842974]|2                      |\n",
      "|[0.9550543667088047]|1                      |\n",
      "|[0.954995275852677] |24                     |\n",
      "|[0.9549782415739564]|2                      |\n",
      "|[0.9549629078351447]|1                      |\n",
      "|[0.954925440509909] |1                      |\n",
      "|[0.9549018596414041]|1                      |\n",
      "|[0.9548871266494783]|4                      |\n",
      "|[0.9548785856165567]|1                      |\n",
      "|[0.9548774728317051]|1                      |\n",
      "|[0.9548678086329143]|1                      |\n",
      "|[0.9548516280487367]|4                      |\n",
      "|[0.9548149885011986]|1                      |\n",
      "|[0.9547989690214266]|7                      |\n",
      "|[0.9547422560266593]|1                      |\n",
      "|[0.9546599367915567]|2                      |\n",
      "|[0.9546597139995205]|1                      |\n",
      "|[0.9546186627894012]|1                      |\n",
      "|[0.954611274065946] |3                      |\n",
      "|[0.95458984153572]  |7                      |\n",
      "|[0.954577410028724] |4                      |\n",
      "|[0.9545678599797582]|6                      |\n",
      "|[0.9545548713154423]|3                      |\n",
      "|[0.9545459586931611]|1                      |\n",
      "|[0.9545146366644306]|1                      |\n",
      "|[0.9544135970805376]|1                      |\n",
      "|[0.9543739806089033]|1                      |\n",
      "|[0.9543604572519439]|426                    |\n",
      "|[0.9543393790207199]|1                      |\n",
      "|[0.9543385818545803]|4                      |\n",
      "|[0.9543064756363796]|1                      |\n",
      "|[0.9542814772895558]|1                      |\n",
      "|[0.9542572599059251]|1                      |\n",
      "|[0.9542497074292942]|3                      |\n",
      "|[0.9542496232014176]|2                      |\n",
      "|[0.9542339776512127]|8                      |\n",
      "|[0.9541333289203794]|27                     |\n",
      "|[0.9541262366261942]|2                      |\n",
      "|[0.9541138051191982]|7                      |\n",
      "|[0.9541100989148379]|2                      |\n",
      "|[0.9540923725889722]|8                      |\n",
      "|[0.9540703910330105]|39                     |\n",
      "|[0.9540552693240332]|1                      |\n",
      "|[0.9540174586161764]|4                      |\n",
      "|[0.9540171677176827]|1                      |\n",
      "|[0.9539773450752791]|1                      |\n",
      "|[0.9539401782797099]|1                      |\n",
      "|[0.9539275912319044]|1                      |\n",
      "|[0.9539119411740908]|1                      |\n",
      "|[0.9538700266374588]|4                      |\n",
      "|[0.9537887431775988]|2                      |\n",
      "|[0.9537603874766997]|2                      |\n",
      "|[0.9537324347269069]|1                      |\n",
      "|[0.9537311457307801]|3                      |\n",
      "|[0.953714165327495] |1                      |\n",
      "|[0.9537064640695394]|1                      |\n",
      "|[0.9536385054321188]|2                      |\n",
      "|[0.9536287676794464]|7                      |\n",
      "|[0.9536261514810431]|1                      |\n",
      "|[0.9536154905250602]|6                      |\n",
      "|[0.953568435547826] |3                      |\n",
      "|[0.9535681990730425]|1                      |\n",
      "|[0.9535519822467569]|1                      |\n",
      "|[0.953535819348327] |1                      |\n",
      "|[0.9535330660636383]|1                      |\n",
      "|[0.953524553506778] |5                      |\n",
      "|[0.9535220379361152]|1                      |\n",
      "|[0.9535004923485622]|18                     |\n",
      "|[0.9534794165978232]|2                      |\n",
      "|[0.9534289604412147]|3                      |\n",
      "|[0.9534247877438855]|7                      |\n",
      "|[0.9534191007346392]|3                      |\n",
      "|[0.9533852556258854]|1                      |\n",
      "|[0.9533190937578739]|3                      |\n",
      "|[0.953317377559603] |2                      |\n",
      "|[0.9533069004910998]|1                      |\n",
      "|[0.9533041524134197]|17                     |\n",
      "|[0.9532961860496515]|2                      |\n",
      "|[0.953291274230851] |8                      |\n",
      "|[0.9532779611698108]|2                      |\n",
      "|[0.9532568437183745]|1                      |\n",
      "|[0.9532503371144447]|1                      |\n",
      "|[0.9531958787306288]|13                     |\n",
      "|[0.9531875187197835]|1                      |\n",
      "|[0.9531841637703867]|4                      |\n",
      "|[0.9531808545450506]|5                      |\n",
      "|[0.9531153492524334]|2                      |\n",
      "|[0.9530612448201661]|3                      |\n",
      "|[0.9530270845600302]|3                      |\n",
      "|[0.952980967115082] |1                      |\n",
      "|[0.9529471403040521]|3                      |\n",
      "|[0.9529445736288645]|15                     |\n",
      "|[0.9529411044536715]|1                      |\n",
      "|[0.9529273187971377]|9                      |\n",
      "|[0.9529248888236892]|2                      |\n",
      "|[0.9529145741589032]|2                      |\n",
      "|[0.952881664758944] |1                      |\n",
      "|[0.9528796353315285]|1                      |\n",
      "|[0.9528563512445163]|5                      |\n",
      "|[0.952852249120378] |1                      |\n",
      "|[0.9528405475038939]|7                      |\n",
      "|[0.9528205051303776]|1                      |\n",
      "|[0.9528066834666719]|15                     |\n",
      "|[0.9528052105863289]|1                      |\n",
      "|[0.9528005659111877]|2                      |\n",
      "|[0.9527660289775396]|1                      |\n",
      "|[0.9527494923374041]|1                      |\n",
      "|[0.9527322814260494]|1                      |\n",
      "|[0.9526839821158252]|15                     |\n",
      "|[0.9526813318499543]|3                      |\n",
      "|[0.9526678488057304]|4                      |\n",
      "|[0.9526049109183614]|2                      |\n",
      "|[0.9525886915512929]|2                      |\n",
      "|[0.9525313925183244]|2                      |\n",
      "|[0.9524391275447328]|1                      |\n",
      "|[0.9524152850482723]|3                      |\n",
      "|[0.9523952515476891]|3                      |\n",
      "|[0.9523946683066025]|3                      |\n",
      "|[0.9523927463349905]|20                     |\n",
      "|[0.9523683441915998]|15                     |\n",
      "|[0.9523623495483204]|1                      |\n",
      "|[0.9523594997149435]|14                     |\n",
      "|[0.9523588822977684]|6                      |\n",
      "|[0.9523509324214661]|1                      |\n",
      "|[0.9523430785571461]|8                      |\n",
      "|[0.952335013999805] |1                      |\n",
      "|[0.9523232630629498]|1                      |\n",
      "|[0.9523055944220559]|1                      |\n",
      "|[0.9523030969644398]|3                      |\n",
      "|[0.952271233131685] |2                      |\n",
      "|[0.952241351698137] |2                      |\n",
      "|[0.9522261403324834]|1                      |\n",
      "|[0.9521982316895752]|3                      |\n",
      "|[0.9521811644099475]|1                      |\n",
      "|[0.9521390986215852]|8                      |\n",
      "|[0.9520888446307363]|1                      |\n",
      "|[0.9520214491090282]|5                      |\n",
      "|[0.9519903336697557]|6                      |\n",
      "|[0.9519854938796333]|1                      |\n",
      "|[0.9519516801387465]|5                      |\n",
      "+--------------------+-----------------------+\n",
      "only showing top 1000 rows\n",
      "\n"
     ]
    }
   ],
   "source": [
    "#probab_class.show(1000, False)"
   ]
  },
  {
   "cell_type": "code",
   "execution_count": 129,
   "metadata": {
    "collapsed": true
   },
   "outputs": [],
   "source": [
    "probab_class_prediction = spark.sql('SELECT prediction, COUNT(features) as count_ext_id_impression FROM class GROUP BY prediction ORDER BY count_ext_id_impression DESC')"
   ]
  },
  {
   "cell_type": "code",
   "execution_count": 130,
   "metadata": {},
   "outputs": [
    {
     "name": "stdout",
     "output_type": "stream",
     "text": [
      "+----------+-----------------------+\n",
      "|prediction|count_ext_id_impression|\n",
      "+----------+-----------------------+\n",
      "|0.0       |2579365                |\n",
      "|1.0       |126850                 |\n",
      "+----------+-----------------------+\n",
      "\n"
     ]
    }
   ],
   "source": [
    "probab_class_prediction.show(1000, False)"
   ]
  },
  {
   "cell_type": "markdown",
   "metadata": {},
   "source": [
    "### Creation of quantiles for column prob_1:"
   ]
  },
  {
   "cell_type": "code",
   "execution_count": 131,
   "metadata": {},
   "outputs": [
    {
     "name": "stdout",
     "output_type": "stream",
     "text": [
      "+--------------------+--------------------+\n",
      "|   ext_id_impression|              prob_1|\n",
      "+--------------------+--------------------+\n",
      "|0005f3f18bda8a53a...|[0.00655780173962...|\n",
      "|0006530d860a31ca2...|[0.00648281915094...|\n",
      "|0006b83f9d38ac301...|[0.00166014134532...|\n",
      "|000ae1a773010077d...|[0.00166014134532...|\n",
      "|000aec8698c204eca...|[0.00412194080288...|\n",
      "|000fd3e0c929462b3...|[0.01383318277439...|\n",
      "|001a2224a6e43beef...|[0.00648281915094...|\n",
      "|001a420df0de04a04...|[0.00166014134532...|\n",
      "|001da7d5e04f2482f...|[0.00655780173962...|\n",
      "|001e2193b90bffb5b...|[0.00648281915094...|\n",
      "|0028e80ef65484c56...|[0.00655780173962...|\n",
      "|002bd395a3f7ca4ec...| [0.236162650319982]|\n",
      "|002e280652ccfb8b0...|[0.00654747819423...|\n",
      "|0034732e24e76cc3a...|[0.01151690310305...|\n",
      "|00376aa9ec875e1e5...|[0.01578698927596...|\n",
      "|003bd909360cc50de...|[0.00985262386982...|\n",
      "|003f67404607a7474...|[0.01504331552216...|\n",
      "|0040ef69407f61914...|[0.00648281915094...|\n",
      "|00426deec96b82d73...|[0.01430411783683...|\n",
      "|00445b35f036de3ae...|[0.01309498436264...|\n",
      "+--------------------+--------------------+\n",
      "only showing top 20 rows\n",
      "\n"
     ]
    }
   ],
   "source": [
    "predictions_class_test.select(\"ext_id_impression\", \"prob_1\").show()"
   ]
  },
  {
   "cell_type": "code",
   "execution_count": 134,
   "metadata": {},
   "outputs": [
    {
     "name": "stdout",
     "output_type": "stream",
     "text": [
      "+--------------------+-------------+\n",
      "|   ext_id_impression|score_digital|\n",
      "+--------------------+-------------+\n",
      "|00c25fa3cdfeda4af...|          0.0|\n",
      "|011b58b13ce8d79b6...|          0.0|\n",
      "|01311ff44add3945b...|          0.0|\n",
      "|0239ea93c8ba9db0e...|          0.0|\n",
      "|0261f9a4b52eee5fa...|          0.0|\n",
      "|030eb141ee6916a27...|          0.0|\n",
      "|04a609e713f788414...|          0.0|\n",
      "|04b14798f630d65f4...|          0.0|\n",
      "|0581ad2e5ce5f5a8f...|          0.0|\n",
      "|05a3d479558d8ad32...|          0.0|\n",
      "|06875c0facb5006a5...|          0.0|\n",
      "|07155432bf41e5807...|          0.0|\n",
      "|07e93ebb8fb1f6b80...|          0.0|\n",
      "|088c376e730314643...|          0.0|\n",
      "|0a5b02590d83a11ed...|          0.0|\n",
      "|0aad0dc51f2b55c8c...|          0.0|\n",
      "|0b05bb6b399ecba5e...|          0.0|\n",
      "|0b5bd059c5fe5e43e...|          0.0|\n",
      "|0decd80710c7530d8...|          0.0|\n",
      "|0e3cadfda8d9643cc...|          0.0|\n",
      "+--------------------+-------------+\n",
      "only showing top 20 rows\n",
      "\n"
     ]
    }
   ],
   "source": [
    "#0 da escludere dal training:\n",
    "#golden_train_0_esclusi = golden_train.filter('score_digital == 0')\n",
    "golden_train_0_esclusi.select(\"ext_id_impression\",\"score_digital\").show()"
   ]
  },
  {
   "cell_type": "code",
   "execution_count": 135,
   "metadata": {
    "collapsed": true
   },
   "outputs": [],
   "source": [
    "golden_train_0_esclusi= golden_train_0_esclusi.withColumnRenamed(\"score_digital\",\"prob_1_int\")\n",
    "golden_train_0_esclusi = golden_train_0_esclusi.withColumn('prob_1_int',golden_train_0_esclusi['prob_1_int'].cast(\"long\"))"
   ]
  },
  {
   "cell_type": "code",
   "execution_count": 136,
   "metadata": {
    "collapsed": true
   },
   "outputs": [],
   "source": [
    "#golden_train_0_esclusi.printSchema()"
   ]
  },
  {
   "cell_type": "code",
   "execution_count": 137,
   "metadata": {
    "collapsed": true
   },
   "outputs": [],
   "source": [
    "probab_col = ['prob_1_int']\n",
    "assembler_golden0 = VectorAssembler(inputCols=probab_col, outputCol=\"prob_1\")"
   ]
  },
  {
   "cell_type": "code",
   "execution_count": 138,
   "metadata": {
    "collapsed": true
   },
   "outputs": [],
   "source": [
    "zeri_esclusi = assembler_golden0.transform(golden_train_0_esclusi)"
   ]
  },
  {
   "cell_type": "code",
   "execution_count": 139,
   "metadata": {
    "collapsed": true
   },
   "outputs": [],
   "source": [
    "zeri_esclusi = zeri_esclusi.drop('prob_1_int')"
   ]
  },
  {
   "cell_type": "code",
   "execution_count": 140,
   "metadata": {
    "collapsed": true
   },
   "outputs": [],
   "source": [
    "#zeri_esclusi.printSchema()"
   ]
  },
  {
   "cell_type": "code",
   "execution_count": 141,
   "metadata": {
    "collapsed": true
   },
   "outputs": [],
   "source": [
    "#predictions_class_test.printSchema()"
   ]
  },
  {
   "cell_type": "code",
   "execution_count": 142,
   "metadata": {
    "collapsed": true
   },
   "outputs": [],
   "source": [
    "predictions_class_test1=predictions_class_test.drop('features', 'rawPrediction', 'probability', 'prediction', 'flag_socialIndex',\n",
    "                                                   'flag_social_class_vec')"
   ]
  },
  {
   "cell_type": "code",
   "execution_count": 143,
   "metadata": {
    "collapsed": true
   },
   "outputs": [],
   "source": [
    "#predictions_class_test1.printSchema()"
   ]
  },
  {
   "cell_type": "code",
   "execution_count": null,
   "metadata": {
    "collapsed": true
   },
   "outputs": [],
   "source": [
    "#from pyspark.sql.functions import udf, col\n",
    "#from pyspark.sql.types import ArrayType, DoubleType\n",
    "\n",
    "#def to_array(col):\n",
    "#    def to_array_(v):\n",
    "#        return v.toArray().tolist()\n",
    "#    return udf(to_array_, ArrayType(DoubleType()))(col)"
   ]
  },
  {
   "cell_type": "code",
   "execution_count": null,
   "metadata": {
    "collapsed": true
   },
   "outputs": [],
   "source": [
    "#predictions_class_test1 = predictions_class_test1.withColumn(\"prob_1_prova\", to_array(col(\"prob_1\")))"
   ]
  },
  {
   "cell_type": "code",
   "execution_count": null,
   "metadata": {
    "collapsed": true
   },
   "outputs": [],
   "source": [
    "#predictions_class_test1['prob_1', 'prob_1_prova'].show()"
   ]
  },
  {
   "cell_type": "code",
   "execution_count": null,
   "metadata": {
    "collapsed": true
   },
   "outputs": [],
   "source": [
    "#from pyspark.sql.functions import udf\n",
    "\n",
    "#vector_udf = udf(lambda vector: float(vector))\n",
    "\n",
    "#predictions_class_test1 = predictions_class_test1.withColumn('prob_1_int', vector_udf('prob_1'))"
   ]
  },
  {
   "cell_type": "code",
   "execution_count": null,
   "metadata": {
    "collapsed": true
   },
   "outputs": [],
   "source": [
    "#udf1 = udf(lambda x : float(x[0]),DoubleType())\n",
    "#predictions_class_test1 = predictions_class_test1.withColumn('prob_1_double', udf1('prob_1'))"
   ]
  },
  {
   "cell_type": "markdown",
   "metadata": {
    "collapsed": true
   },
   "source": [
    "### Unione dei dataset"
   ]
  },
  {
   "cell_type": "code",
   "execution_count": 144,
   "metadata": {
    "collapsed": true
   },
   "outputs": [],
   "source": [
    "predictions_class_test1.createOrReplaceTempView('predictions_class_test1')\n",
    "zeri_esclusi.createOrReplaceTempView('zeri_esclusi')"
   ]
  },
  {
   "cell_type": "code",
   "execution_count": 145,
   "metadata": {},
   "outputs": [
    {
     "data": {
      "text/plain": [
       "[('ext_id_impression', 'string'),\n",
       " ('numero_mesi', 'int'),\n",
       " ('numero_giorni', 'int'),\n",
       " ('impression_tv_unknown', 'int'),\n",
       " ('impression_mobile', 'int'),\n",
       " ('impression_desktop', 'int'),\n",
       " ('impression_tablet', 'int'),\n",
       " ('avg_impression_mese', 'float'),\n",
       " ('avg_impression_giorno', 'float'),\n",
       " ('perc_impression_tv_unknown', 'float'),\n",
       " ('perc_impression_mobile', 'float'),\n",
       " ('perc_impression_desktop', 'float'),\n",
       " ('perc_impression_tablet', 'float'),\n",
       " ('numero_device', 'int'),\n",
       " ('numero_tv_unknown', 'int'),\n",
       " ('numero_mobile', 'int'),\n",
       " ('numero_desktop', 'int'),\n",
       " ('numero_tablet', 'int'),\n",
       " ('perc_mobile', 'float'),\n",
       " ('perc_desktop', 'float'),\n",
       " ('perc_tablet', 'float'),\n",
       " ('perc_tv_unknown', 'float'),\n",
       " ('numero_impression_social', 'int'),\n",
       " ('flag_social', 'double'),\n",
       " ('numero_cookies', 'int'),\n",
       " ('prob_1', 'vector')]"
      ]
     },
     "execution_count": 145,
     "metadata": {},
     "output_type": "execute_result"
    }
   ],
   "source": [
    "zeri_esclusi.dtypes"
   ]
  },
  {
   "cell_type": "code",
   "execution_count": 146,
   "metadata": {
    "collapsed": true
   },
   "outputs": [],
   "source": [
    "predictions_finale = spark.sql('select * from predictions_class_test1 union all select * from zeri_esclusi ')"
   ]
  },
  {
   "cell_type": "code",
   "execution_count": 147,
   "metadata": {},
   "outputs": [
    {
     "data": {
      "text/plain": [
       "2790876"
      ]
     },
     "execution_count": 147,
     "metadata": {},
     "output_type": "execute_result"
    }
   ],
   "source": [
    "predictions_finale.count()"
   ]
  },
  {
   "cell_type": "code",
   "execution_count": 149,
   "metadata": {
    "collapsed": true
   },
   "outputs": [],
   "source": [
    "#predictions_finale.groupBy('prob_1').count().sort('count', ascending=False).show()"
   ]
  },
  {
   "cell_type": "code",
   "execution_count": null,
   "metadata": {
    "collapsed": true
   },
   "outputs": [],
   "source": [
    "#predictions_class_test1.createOrReplaceTempView('predictions_class_test1')\n",
    "#quantiles = spark.sql(\"select percentile_approx(prob_1_int, 0.25) as q25, percentile_approx(prob_1_int, 0.50) as mediana, percentile_approx(prob_1_int, 0.75) as q75, percentile_approx(prob_1_int, 0.95) as q95, percentile_approx(prob_1_int, 1) as max from predictions_class_test1\")"
   ]
  },
  {
   "cell_type": "markdown",
   "metadata": {},
   "source": [
    "### Creazione decili"
   ]
  },
  {
   "cell_type": "code",
   "execution_count": 150,
   "metadata": {
    "collapsed": true
   },
   "outputs": [],
   "source": [
    "predictions_finale.createOrReplaceTempView('predictions_finale')"
   ]
  },
  {
   "cell_type": "code",
   "execution_count": 151,
   "metadata": {
    "collapsed": true
   },
   "outputs": [],
   "source": [
    "probab_class_asc = spark.sql('SELECT ext_id_impression, prob_1 FROM predictions_finale ORDER BY prob_1').persist()"
   ]
  },
  {
   "cell_type": "code",
   "execution_count": 152,
   "metadata": {},
   "outputs": [
    {
     "data": {
      "text/plain": [
       "2790876"
      ]
     },
     "execution_count": 152,
     "metadata": {},
     "output_type": "execute_result"
    }
   ],
   "source": [
    "probab_class_asc.count()"
   ]
  },
  {
   "cell_type": "code",
   "execution_count": 153,
   "metadata": {
    "collapsed": true
   },
   "outputs": [],
   "source": [
    "probab_class_asc.createOrReplaceTempView('probab_class_asc')"
   ]
  },
  {
   "cell_type": "code",
   "execution_count": 154,
   "metadata": {
    "collapsed": true
   },
   "outputs": [],
   "source": [
    "probab_class_asc_indexed = spark.sql('select row_number() over (order by prob_1) as num, * from probab_class_asc').persist()"
   ]
  },
  {
   "cell_type": "code",
   "execution_count": 155,
   "metadata": {},
   "outputs": [
    {
     "name": "stdout",
     "output_type": "stream",
     "text": [
      "+---+--------------------+------+\n",
      "|num|   ext_id_impression|prob_1|\n",
      "+---+--------------------+------+\n",
      "|  1|00c25fa3cdfeda4af...| [0.0]|\n",
      "|  2|011b58b13ce8d79b6...| [0.0]|\n",
      "|  3|01311ff44add3945b...| [0.0]|\n",
      "|  4|0239ea93c8ba9db0e...| [0.0]|\n",
      "|  5|0261f9a4b52eee5fa...| [0.0]|\n",
      "|  6|030eb141ee6916a27...| [0.0]|\n",
      "|  7|04a609e713f788414...| [0.0]|\n",
      "|  8|04b14798f630d65f4...| [0.0]|\n",
      "|  9|0581ad2e5ce5f5a8f...| [0.0]|\n",
      "| 10|05a3d479558d8ad32...| [0.0]|\n",
      "| 11|06875c0facb5006a5...| [0.0]|\n",
      "| 12|07155432bf41e5807...| [0.0]|\n",
      "| 13|07e93ebb8fb1f6b80...| [0.0]|\n",
      "| 14|088c376e730314643...| [0.0]|\n",
      "| 15|0a5b02590d83a11ed...| [0.0]|\n",
      "| 16|0aad0dc51f2b55c8c...| [0.0]|\n",
      "| 17|0b05bb6b399ecba5e...| [0.0]|\n",
      "| 18|0b5bd059c5fe5e43e...| [0.0]|\n",
      "| 19|0decd80710c7530d8...| [0.0]|\n",
      "| 20|0e3cadfda8d9643cc...| [0.0]|\n",
      "| 21|0e59f953e3bb2dedf...| [0.0]|\n",
      "| 22|0fc31d081ec61d66b...| [0.0]|\n",
      "| 23|10ee37834c585d58d...| [0.0]|\n",
      "| 24|10f70840c0cdf0f7e...| [0.0]|\n",
      "| 25|11fa9bde02e952b20...| [0.0]|\n",
      "| 26|1201e96d9346e007f...| [0.0]|\n",
      "| 27|124f4b8e0d5e92e57...| [0.0]|\n",
      "| 28|12569d22aebe1f1c0...| [0.0]|\n",
      "| 29|12679e0874a883743...| [0.0]|\n",
      "| 30|13975cb9f6541fab6...| [0.0]|\n",
      "| 31|13a175cb18353b01a...| [0.0]|\n",
      "| 32|15599c109842bf7a2...| [0.0]|\n",
      "| 33|157bd59f097a29308...| [0.0]|\n",
      "| 34|1659eba8021fdcc00...| [0.0]|\n",
      "| 35|16ba96efece4e288f...| [0.0]|\n",
      "| 36|16c6acd810ea55a1d...| [0.0]|\n",
      "| 37|16ebc7c602c27c836...| [0.0]|\n",
      "| 38|175e32a1436abe511...| [0.0]|\n",
      "| 39|17cbb44d776cddff2...| [0.0]|\n",
      "| 40|17f9807fb36839a19...| [0.0]|\n",
      "| 41|1819d9c2f17511636...| [0.0]|\n",
      "| 42|186100b332f60d64c...| [0.0]|\n",
      "| 43|18cd28d39efce1a71...| [0.0]|\n",
      "| 44|19fdccc0af6231c28...| [0.0]|\n",
      "| 45|1c20682c0b71a53d5...| [0.0]|\n",
      "| 46|1c9744f80f589a06e...| [0.0]|\n",
      "| 47|1ca30c9bc2d57d67e...| [0.0]|\n",
      "| 48|1cdc9d6aeb74be5f5...| [0.0]|\n",
      "| 49|1f05d83c1d1c60dd0...| [0.0]|\n",
      "| 50|1f32cbe6a29b82a49...| [0.0]|\n",
      "| 51|1fc46d35570929279...| [0.0]|\n",
      "| 52|20469d96dca4c0f05...| [0.0]|\n",
      "| 53|22303a6e7c57eec7c...| [0.0]|\n",
      "| 54|2234afb9097c6d4ca...| [0.0]|\n",
      "| 55|225c3a3a639dbe4e1...| [0.0]|\n",
      "| 56|2362d4ecdb2ea4f6b...| [0.0]|\n",
      "| 57|23762bafb153cd7a9...| [0.0]|\n",
      "| 58|237b4407a54923ff3...| [0.0]|\n",
      "| 59|23823cb1cc0b76b56...| [0.0]|\n",
      "| 60|239d46004af0835bc...| [0.0]|\n",
      "| 61|239f9ae98ce596c84...| [0.0]|\n",
      "| 62|23f1d83d30ef63ece...| [0.0]|\n",
      "| 63|243a9d38943e1c8be...| [0.0]|\n",
      "| 64|246950ff3483cc5d7...| [0.0]|\n",
      "| 65|246cb549e097dc524...| [0.0]|\n",
      "| 66|25feb1ddbc1f7bb09...| [0.0]|\n",
      "| 67|2675175115c201326...| [0.0]|\n",
      "| 68|277b6e4a8b87b5f42...| [0.0]|\n",
      "| 69|27b4ec18bb4687118...| [0.0]|\n",
      "| 70|27e50de39b331d622...| [0.0]|\n",
      "| 71|28672baf362a3b26a...| [0.0]|\n",
      "| 72|2a1338142f84f5207...| [0.0]|\n",
      "| 73|2a76f3728cf592853...| [0.0]|\n",
      "| 74|2ade92a4784d21066...| [0.0]|\n",
      "| 75|2ae37bfc8ea3d8274...| [0.0]|\n",
      "| 76|2bc3f54988f8d983e...| [0.0]|\n",
      "| 77|2c422fbdd956c0ecc...| [0.0]|\n",
      "| 78|2c6332b093cea949f...| [0.0]|\n",
      "| 79|2d17a821d4821ffae...| [0.0]|\n",
      "| 80|2d49d36a6866d14f2...| [0.0]|\n",
      "| 81|2e68fee2cc188e071...| [0.0]|\n",
      "| 82|2ea992913d791d19b...| [0.0]|\n",
      "| 83|2ed19e814dcc35fd4...| [0.0]|\n",
      "| 84|2fe83d61baeaec604...| [0.0]|\n",
      "| 85|305f559373d68b313...| [0.0]|\n",
      "| 86|30a017cae84881534...| [0.0]|\n",
      "| 87|30e67bfd8790d5a92...| [0.0]|\n",
      "| 88|31b6a8a322c072344...| [0.0]|\n",
      "| 89|31dd5895733f514b0...| [0.0]|\n",
      "| 90|3501f7cf43211f7ab...| [0.0]|\n",
      "| 91|3536839b5d8b2dea6...| [0.0]|\n",
      "| 92|36083749fb594b399...| [0.0]|\n",
      "| 93|36f4c0659fe6e38fe...| [0.0]|\n",
      "| 94|371e8b4b45be330b6...| [0.0]|\n",
      "| 95|37ab13a5beaa54a3f...| [0.0]|\n",
      "| 96|37c5e7d4ceb591928...| [0.0]|\n",
      "| 97|3814bad4d0195c070...| [0.0]|\n",
      "| 98|38573d7963f436952...| [0.0]|\n",
      "| 99|38c366dab5a33d2b5...| [0.0]|\n",
      "|100|38f5a9e2f52093faa...| [0.0]|\n",
      "+---+--------------------+------+\n",
      "only showing top 100 rows\n",
      "\n"
     ]
    }
   ],
   "source": [
    "#probab_class_asc_indexed.show(100)"
   ]
  },
  {
   "cell_type": "code",
   "execution_count": 157,
   "metadata": {
    "collapsed": true
   },
   "outputs": [],
   "source": [
    "#probab_class_asc_indexed.printSchema()"
   ]
  },
  {
   "cell_type": "code",
   "execution_count": null,
   "metadata": {
    "collapsed": true
   },
   "outputs": [],
   "source": [
    "#display(probab_class_asc_indexed.count()/10)\n",
    "#display(297136*2)\n",
    "#display(297136*3)\n",
    "#display(297136*4)\n",
    "#display(297136*5)\n",
    "#display(297136*6)\n",
    "#display(297136*7)\n",
    "#display(297136*8)\n",
    "#display(297136*9)\n",
    "#display(probab_class_asc_indexed.count())"
   ]
  },
  {
   "cell_type": "code",
   "execution_count": 170,
   "metadata": {},
   "outputs": [
    {
     "data": {
      "text/plain": [
       "279087"
      ]
     },
     "execution_count": 170,
     "metadata": {},
     "output_type": "execute_result"
    }
   ],
   "source": [
    "lung = int(probab_class_asc.count()/10)\n",
    "lung"
   ]
  },
  {
   "cell_type": "code",
   "execution_count": 171,
   "metadata": {
    "collapsed": true
   },
   "outputs": [],
   "source": [
    "probab_class_asc_indexed_2 = probab_class_asc_indexed.withColumn('lunghezza', lit(lung))"
   ]
  },
  {
   "cell_type": "code",
   "execution_count": 164,
   "metadata": {
    "collapsed": true
   },
   "outputs": [],
   "source": [
    "#probab_class_asc_indexed_2.show(100)\n",
    "#probab_class_asc_indexed_2.printSchema()"
   ]
  },
  {
   "cell_type": "code",
   "execution_count": 172,
   "metadata": {
    "collapsed": true
   },
   "outputs": [],
   "source": [
    "probab_class_asc_indexed_2.createOrReplaceTempView('probab_class_asc_indexed')"
   ]
  },
  {
   "cell_type": "code",
   "execution_count": 173,
   "metadata": {
    "collapsed": true
   },
   "outputs": [],
   "source": [
    "probab_class_asc_index_decili = spark.sql('SELECT *, CASE WHEN (num between 0 and lunghezza) THEN 1 WHEN (num between lunghezza and lunghezza*2) THEN 2 WHEN (num between lunghezza*2 and lunghezza*3) THEN 3 WHEN (num between lunghezza*3 and lunghezza*4) THEN 4 WHEN (num between lunghezza*4 and lunghezza*5) THEN 5 WHEN (num between lunghezza*5 and lunghezza*6) THEN 6 WHEN (num between lunghezza*6 and lunghezza*7) THEN 7 WHEN (num between lunghezza*7 and lunghezza*8) THEN 8 WHEN (num between lunghezza*8 and lunghezza*9) THEN 9 WHEN (num > lunghezza*9) THEN 10 ELSE NULL END AS decile FROM probab_class_asc_indexed')"
   ]
  },
  {
   "cell_type": "code",
   "execution_count": 181,
   "metadata": {
    "collapsed": true
   },
   "outputs": [],
   "source": [
    "#probab_class_asc_index_decili.show(100, False)"
   ]
  },
  {
   "cell_type": "code",
   "execution_count": 179,
   "metadata": {
    "collapsed": true
   },
   "outputs": [],
   "source": [
    "probab_class_asc_index_decili_1= probab_class_asc_index_decili.drop('lunghezza')"
   ]
  },
  {
   "cell_type": "code",
   "execution_count": 183,
   "metadata": {
    "collapsed": true
   },
   "outputs": [],
   "source": [
    "probab_class_asc_index_decili_1.write.parquet(path_prediction_adform)"
   ]
  },
  {
   "cell_type": "code",
   "execution_count": 175,
   "metadata": {
    "collapsed": true
   },
   "outputs": [],
   "source": [
    "#bin_count = probab_class_asc_index_decili.groupby('decile').count()"
   ]
  },
  {
   "cell_type": "code",
   "execution_count": 176,
   "metadata": {},
   "outputs": [
    {
     "name": "stdout",
     "output_type": "stream",
     "text": [
      "+------+------+\n",
      "|decile| count|\n",
      "+------+------+\n",
      "|     1|279087|\n",
      "|     2|279087|\n",
      "|     3|279087|\n",
      "|     4|279087|\n",
      "|     5|279087|\n",
      "|     6|279087|\n",
      "|     7|279087|\n",
      "|     8|279087|\n",
      "|     9|279087|\n",
      "|    10|279093|\n",
      "+------+------+\n",
      "\n"
     ]
    }
   ],
   "source": [
    "#bin_count.show()"
   ]
  },
  {
   "cell_type": "code",
   "execution_count": 184,
   "metadata": {
    "collapsed": true
   },
   "outputs": [],
   "source": [
    "#decili_e_probability = probab_class_asc_index_decili_1.filter('num == 297136 or num== 594272 or num == 891408 or num==1188544 or num==1485680 or num == 1782816 or num ==2079952 or num ==2377088 or num == 2674224 or num == 2971364')"
   ]
  },
  {
   "cell_type": "code",
   "execution_count": 185,
   "metadata": {
    "collapsed": true
   },
   "outputs": [],
   "source": [
    "#decili_e_probability.show(100, False)"
   ]
  },
  {
   "cell_type": "markdown",
   "metadata": {
    "collapsed": true
   },
   "source": [
    "### Unisco decili e variabili di Adform"
   ]
  },
  {
   "cell_type": "code",
   "execution_count": 3,
   "metadata": {
    "collapsed": true
   },
   "outputs": [],
   "source": [
    "df_originale = spark.read.format('parquet').load(path_golden_adform).persist()"
   ]
  },
  {
   "cell_type": "code",
   "execution_count": 6,
   "metadata": {
    "scrolled": true
   },
   "outputs": [
    {
     "name": "stdout",
     "output_type": "stream",
     "text": [
      "root\n",
      " |-- ext_id_impression: string (nullable = true)\n",
      " |-- numero_mesi: long (nullable = true)\n",
      " |-- numero_week: long (nullable = true)\n",
      " |-- numero_giorni: long (nullable = true)\n",
      " |-- impression_tot: long (nullable = true)\n",
      " |-- impression_tv_unknown: long (nullable = true)\n",
      " |-- impression_mobile: long (nullable = true)\n",
      " |-- impression_desktop: long (nullable = true)\n",
      " |-- impression_tablet: long (nullable = true)\n",
      " |-- impression_week: long (nullable = true)\n",
      " |-- impression_weekend: long (nullable = true)\n",
      " |-- impression_mattina: long (nullable = true)\n",
      " |-- impression_pomeriggio: long (nullable = true)\n",
      " |-- impression_sera: long (nullable = true)\n",
      " |-- impression_notte: long (nullable = true)\n",
      " |-- avg_impression_mese: double (nullable = true)\n",
      " |-- avg_impression_week: double (nullable = true)\n",
      " |-- avg_impression_giorno: double (nullable = true)\n",
      " |-- perc_impression_tv_unknown: double (nullable = true)\n",
      " |-- perc_impression_mobile: double (nullable = true)\n",
      " |-- perc_impression_desktop: double (nullable = true)\n",
      " |-- perc_impression_tablet: double (nullable = true)\n",
      " |-- numero_device: long (nullable = true)\n",
      " |-- numero_tv_unknown: long (nullable = true)\n",
      " |-- numero_mobile: long (nullable = true)\n",
      " |-- numero_desktop: long (nullable = true)\n",
      " |-- numero_tablet: long (nullable = true)\n",
      " |-- perc_mobile: double (nullable = true)\n",
      " |-- perc_desktop: double (nullable = true)\n",
      " |-- perc_tablet: double (nullable = true)\n",
      " |-- perc_tv_unknown: double (nullable = true)\n",
      " |-- numero_social_provenienza: long (nullable = true)\n",
      " |-- numero_impression_social: long (nullable = true)\n",
      " |-- flag_social: double (nullable = true)\n",
      " |-- numero_cookies: long (nullable = true)\n",
      " |-- score_digital: double (nullable = true)\n",
      "\n"
     ]
    }
   ],
   "source": [
    "df_originale.printSchema()"
   ]
  },
  {
   "cell_type": "code",
   "execution_count": 4,
   "metadata": {
    "collapsed": true
   },
   "outputs": [],
   "source": [
    "df_decile_adform = spark.read.format('parquet').load(path_prediction_adform).persist()"
   ]
  },
  {
   "cell_type": "code",
   "execution_count": 5,
   "metadata": {},
   "outputs": [
    {
     "name": "stdout",
     "output_type": "stream",
     "text": [
      "root\n",
      " |-- num: integer (nullable = true)\n",
      " |-- ext_id_impression: string (nullable = true)\n",
      " |-- prob_1: vector (nullable = true)\n",
      " |-- decile: integer (nullable = true)\n",
      "\n"
     ]
    }
   ],
   "source": [
    "#df_decile_adform.printSchema()"
   ]
  },
  {
   "cell_type": "code",
   "execution_count": 7,
   "metadata": {
    "collapsed": true
   },
   "outputs": [],
   "source": [
    "df_originale.createOrReplaceTempView('df_originale')\n",
    "df_decile_adform.createOrReplaceTempView('df_decile_adform')"
   ]
  },
  {
   "cell_type": "code",
   "execution_count": 9,
   "metadata": {},
   "outputs": [],
   "source": [
    "df_joined = spark.sql('select distinct df_originale.*, df_decile_adform.decile as decile_adform from df_originale left join df_decile_adform on df_originale.ext_id_impression = df_decile_adform.ext_id_impression')"
   ]
  },
  {
   "cell_type": "code",
   "execution_count": 10,
   "metadata": {
    "collapsed": true
   },
   "outputs": [],
   "source": [
    "df_joined = df_joined.drop('score_digital')"
   ]
  },
  {
   "cell_type": "code",
   "execution_count": 12,
   "metadata": {
    "collapsed": true
   },
   "outputs": [],
   "source": [
    "df_joined.write.parquet(path_decile_adform_e_variabili)"
   ]
  },
  {
   "cell_type": "code",
   "execution_count": null,
   "metadata": {
    "collapsed": true
   },
   "outputs": [],
   "source": []
  },
  {
   "cell_type": "code",
   "execution_count": 13,
   "metadata": {
    "collapsed": true
   },
   "outputs": [],
   "source": [
    "#a = spark.read.format('parquet').load(path_decile_adform_e_variabili).persist()"
   ]
  },
  {
   "cell_type": "code",
   "execution_count": 20,
   "metadata": {},
   "outputs": [],
   "source": [
    "#a.printSchema()"
   ]
  },
  {
   "cell_type": "code",
   "execution_count": 19,
   "metadata": {},
   "outputs": [
    {
     "name": "stdout",
     "output_type": "stream",
     "text": [
      "+-------------+------+\n",
      "|decile_adform| count|\n",
      "+-------------+------+\n",
      "|            1|279087|\n",
      "|            6|279087|\n",
      "|            3|279087|\n",
      "|            5|279087|\n",
      "|            9|279087|\n",
      "|            4|279087|\n",
      "|            8|279087|\n",
      "|            7|279087|\n",
      "|           10|279093|\n",
      "|            2|279087|\n",
      "+-------------+------+\n",
      "\n"
     ]
    }
   ],
   "source": [
    "#a_count = a.groupby('decile_adform').count()\n",
    "#a_count.show(15)"
   ]
  },
  {
   "cell_type": "code",
   "execution_count": null,
   "metadata": {
    "collapsed": true
   },
   "outputs": [],
   "source": []
  }
 ],
 "metadata": {
  "kernelspec": {
   "display_name": "Python 3",
   "language": "python",
   "name": "python3"
  },
  "language_info": {
   "codemirror_mode": {
    "name": "ipython",
    "version": 3
   },
   "file_extension": ".py",
   "mimetype": "text/x-python",
   "name": "python",
   "nbconvert_exporter": "python",
   "pygments_lexer": "ipython3",
   "version": "3.5.3"
  }
 },
 "nbformat": 4,
 "nbformat_minor": 2
}
