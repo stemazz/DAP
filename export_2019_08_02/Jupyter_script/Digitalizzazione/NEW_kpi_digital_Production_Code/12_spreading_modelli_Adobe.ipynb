{
 "cells": [
  {
   "cell_type": "code",
   "execution_count": 1,
   "metadata": {
    "collapsed": true
   },
   "outputs": [],
   "source": [
    "%run ../../connection.python.py"
   ]
  },
  {
   "cell_type": "code",
   "execution_count": 249,
   "metadata": {
    "collapsed": true
   },
   "outputs": [],
   "source": [
    "#path_adobe =  \"/user/emma.cambieri/GOLDEN_SET_DIGITALIZZAZIONE_2019_FINALI/golden_lugl_dic_1_0scelti_e_Null.parquet\"\n",
    "\n",
    "#Posso caricare qualsiasi dei 3 golden set, dal momento che gli 0 sono gli stessi (198K per apr-nov)\n",
    "path_adobe = '/user/emma.cambieri/Digitalizzazione/Apr2019/df_pulito_nov_apr_senza_na.parquet' ## di EMMA!!\n",
    "\n",
    "\n",
    "path_model_adobe_generico = \"/user/emma.cambieri/Digitalizzazione/Apr2019/modelli/model_adobe_generico\" ## di EMMA!!path_model_fan = \"/user/matteo.ballerinipuviani/PREDICTIONSDIGITALIZZAZIONE/model_fan_def.parquet\"\n",
    "path_model_adobe_fan = \"/user/emma.cambieri/Digitalizzazione/Apr2019/modelli/model_adobe_fan\" ## di EMMA!!\n",
    "path_model_adobe_social = \"/user/emma.cambieri/Digitalizzazione/Apr2019/modelli/model_adobe_social\" ## di EMMA!!\n",
    "\n",
    "path_prediction_adform = \"/user/emma.cambieri/Digitalizzazione/Apr2019/prediction/prediction_adform_nov_apr.parquet\"  ## di EMMA!!\n",
    "path_prediction_adobe_general = \"/user/emma.cambieri/Digitalizzazione/Apr2019/prediction/prediction_adobe_general_nov_apr.parquet\"  ## di EMMA!!\n",
    "path_prediction_adobe_fan = \"/user/emma.cambieri/Digitalizzazione/Apr2019/prediction/prediction_adobe_fan_nov_apr.parquet\"  ## di EMMA!!\n",
    "path_prediction_adobe_social = \"/user/emma.cambieri/Digitalizzazione/Apr2019/prediction/prediction_adobe_social_nov_apr.parquet\"  ## di EMMA!!\n",
    "\n",
    "path_score_pesato_adobe = \"/user/emma.cambieri/Digitalizzazione/Apr2019/score_pesato_adobe.parquet\"  ## di EMMA!!\n",
    "path_decile_pesato_adobe_e_variabili = \"/user/emma.cambieri/Digitalizzazione/Apr2019/decile_pesato_adobe_e_variabili.parquet\"  ## di EMMA!!\n",
    "path_decile_adform_e_variabili = \"/user/emma.cambieri/Digitalizzazione/Apr2019/decile_adform_e_variabili.parquet\"  ## di EMMA!!\n",
    "path_df_finale_digitalizzazione = \"/user/emma.cambieri/Digitalizzazione/Apr2019/df_finale_digitalizzazione_nov_apr.parquet\"  ## di EMMA!!\n",
    "path_df_kpi_finalissimo = \"/user/emma.cambieri/Digitalizzazione/Apr2019/df_kpi_finalissimo.parquet\"  ## di EMMA!!"
   ]
  },
  {
   "cell_type": "code",
   "execution_count": 13,
   "metadata": {
    "collapsed": true
   },
   "outputs": [],
   "source": [
    "adobe = spark.read.format('parquet').load(path_adobe).persist()"
   ]
  },
  {
   "cell_type": "code",
   "execution_count": 14,
   "metadata": {},
   "outputs": [
    {
     "data": {
      "text/plain": [
       "2685258"
      ]
     },
     "execution_count": 14,
     "metadata": {},
     "output_type": "execute_result"
    }
   ],
   "source": [
    "adobe.count()"
   ]
  },
  {
   "cell_type": "code",
   "execution_count": 15,
   "metadata": {
    "collapsed": true
   },
   "outputs": [],
   "source": [
    "adobe = adobe.drop('totale_visite',  'numero_mesi_corporate', 'numero_mesi_tg24', 'numero_mesi_sport', 'numero_mesi_appwsc',  'numero_mesi_appgtv', 'numero_mesi_appsport', 'numero_mesi_appxfactor', 'visite_totali_corporate',  'visite_totali_tg24', 'visite_totali_sport', 'visite_totali_appwsc', 'visite_totali_appgtv', 'visite_totali_appsport', 'visite_totali_appxfactor',  'cookie_corporate', 'cookie_tg24' , 'cookie_sport' , 'secondi_totali_corporate'\n",
    " , 'secondi_totali_tg24' , 'secondi_totali_sport' , 'secondi_totali_appwsc' , 'secondi_totali_appgtv' , 'secondi_totali_appsport' , 'secondi_totali_appxfactor' , 'visite_corporate_appwsc_appgtv'\n",
    " , 'visite_editoriale' , 'visite_web' , 'visite_app', 'max_mesi_corporate_appwsc_appgtv' , 'max_mesi_editoriale' , 'max_mesi_web' , 'max_mesi_app' , 'secondi_corporate_appwsc_appgtv'\n",
    " , 'secondi_editoriale' , 'secondi_web' , 'secondi_app', 'score_utilizzo',  'visite_settimana_corporate'\n",
    " , 'visite_weekend_corporate'\n",
    " , 'visite_settimana_tg24'\n",
    " , 'visite_weekend_tg24'\n",
    " , 'visite_settimana_sport'\n",
    " , 'visite_weekend_sport'\n",
    " , 'visite_settimana_appwsc'\n",
    " , 'visite_weekend_appwsc'\n",
    " , 'visite_settimana_appgtv'\n",
    " , 'visite_weekend_appgtv'\n",
    " , 'visite_settimana_appsport'\n",
    " , 'visite_weekend_appsport'\n",
    " , 'visite_settimana_appxfactor'\n",
    " , 'visite_weekend_appxfactor'\n",
    " , 'visite_corporate_notte'\n",
    " , 'visite_corporate_mattina'\n",
    " , 'visite_corporate_pomeriggio'\n",
    " , 'visite_corporate_sera'\n",
    " , 'visite_tg24_notte'\n",
    " , 'visite_tg24_mattina'\n",
    " , 'visite_tg24_pomeriggio'\n",
    " , 'visite_tg24_sera'\n",
    " , 'visite_sport_notte'\n",
    " , 'visite_sport_mattina'\n",
    " , 'visite_sport_pomeriggio'\n",
    " , 'visite_sport_sera'\n",
    " , 'visite_appwsc_notte'\n",
    " , 'visite_appwsc_mattina'\n",
    " , 'visite_appwsc_pomeriggio'\n",
    " , 'visite_appwsc_sera'\n",
    " , 'visite_appgtv_notte'\n",
    " , 'visite_appgtv_mattina'\n",
    " , 'visite_appgtv_pomeriggio'\n",
    " , 'visite_appgtv_sera'\n",
    " , 'visite_appsport_notte'\n",
    " , 'visite_appsport_mattina'\n",
    " , 'visite_appsport_pomeriggio'\n",
    " , 'visite_appsport_sera'\n",
    " , 'visite_appxfactor_notte'\n",
    " , 'visite_appxfactor_mattina'\n",
    " , 'visite_appxfactor_pomeriggio'\n",
    " , 'visite_appxfactor_sera' ) "
   ]
  },
  {
   "cell_type": "code",
   "execution_count": 16,
   "metadata": {
    "collapsed": true
   },
   "outputs": [],
   "source": [
    "string_columns= [\"social_network\", \"tipo_device\", \"ricorrenza_corporate\", \"ricorrenza_tg24\", \"ricorrenza_sport\",\n",
    "                      \"ricorrenza_appgtv\", \"ricorrenza_appxfactor\", \"ricorrenza_appsport\", \"ricorrenza_appwsc\",\n",
    "                      \"ricorrenza_corporate_appwsc_appgtv\", \"ricorrenza_editoriale\", \"ricorrenza_web\", \"ricorrenza_app\",\n",
    "                      \"ricorrenza_totale\"]\n",
    "for c in string_columns:\n",
    "    adobe = adobe.withColumn(c, adobe[c].cast('string'))\n",
    "\n",
    "avg_columns= [\"media_visite_corporate\",\"media_visite_tg24\", \"media_visite_sport\",\n",
    "                    \"media_visite_appgtv\",\"media_visite_appxfactor\",\"media_visite_appsport\",\"media_visite_appwsc\",\n",
    "                    \"avg_visite_mese_web\", \"percentuale_mobile\",\n",
    "                    \"percentuale_desktop\", \"percentuale_other\", \"durata_media_visite_corporate\", \"durata_media_visite_tg24\",\n",
    "                     \"durata_media_visite_sport\", \"durata_media_visite_appgtv\", \"durata_media_visite_appxfactor\", \"durata_media_visite_appsport\",\n",
    "                    \"durata_media_visite_appwsc\", \"avg_visite_mese_corporate_appwsc_appgtv\", \"avg_visite_mese_editoriale\", \"avg_visite_mese_app\",\n",
    "                     \"avg_sec_corporate_appwsc_appgtv\",\"avg_sec_editoriale\", \"avg_sec_web\", \"avg_sec_app\"]\n",
    "\n",
    "for cols in avg_columns:\n",
    "    adobe= adobe.withColumn(cols, adobe[cols].cast('float'))\n",
    "        \n",
    "integ_columns = adobe.drop(\"ext_id\",\"social_network\", \"tipo_device\", \"ricorrenza_corporate\", \"ricorrenza_tg24\", \"ricorrenza_sport\",\n",
    "                      \"ricorrenza_appgtv\", \"ricorrenza_appxfactor\", \"ricorrenza_appsport\", \"ricorrenza_appwsc\",\n",
    "                      \"ricorrenza_corporate_appwsc_appgtv\", \"ricorrenza_editoriale\", \"ricorrenza_web\", \"ricorrenza_app\",\n",
    "                      \"ricorrenza_totale\", \"media_visite_corporate\",\"media_visite_tg24\", \"media_visite_sport\",\n",
    "                    \"media_visite_appgtv\",\"media_visite_appxfactor\",\"media_visite_appsport\",\"media_visite_appwsc\",\n",
    "                    \"avg_visite_mese_web\", \"percentuale_mobile\",\n",
    "                    \"percentuale_desktop\", \"percentuale_other\", \"durata_media_visite_corporate\", \"durata_media_visite_tg24\",\n",
    "                     \"durata_media_visite_sport\", \"durata_media_visite_appgtv\", \"durata_media_visite_appxfactor\", \"durata_media_visite_appsport\",\n",
    "                    \"durata_media_visite_appwsc\", \"avg_visite_mese_corporate_appwsc_appgtv\", \"avg_visite_mese_editoriale\", \"avg_visite_mese_app\",\n",
    "                     \"avg_sec_corporate_appwsc_appgtv\", \"avg_sec_editoriale\", \"avg_sec_web\", \"avg_sec_app\").columns\n",
    "\n",
    "\n",
    "for col_int in integ_columns:\n",
    "  adobe = adobe.withColumn(col_int,adobe[col_int].cast(\"integer\"))\n",
    "\n",
    "#adobe.printSchema()"
   ]
  },
  {
   "cell_type": "markdown",
   "metadata": {},
   "source": [
    "## Creo adobe_test e adobe_0_esclusi dallo spreading del modello:"
   ]
  },
  {
   "cell_type": "code",
   "execution_count": 18,
   "metadata": {
    "collapsed": true
   },
   "outputs": [],
   "source": [
    "#0 da escludere dal test:\n",
    "adobe_0_esclusi= adobe.filter('tipo_device == \"desktop\" and visite_app == 0 and visite_web == 1')\n",
    "adobe_0_esclusi = adobe_0_esclusi.withColumn('score_digital', lit(0))\n",
    "adobe_0_esclusi = adobe_0_esclusi.withColumn('prob_1_int',adobe_0_esclusi['score_digital'].cast(\"long\"))"
   ]
  },
  {
   "cell_type": "code",
   "execution_count": 20,
   "metadata": {},
   "outputs": [],
   "source": [
    "#adobe_0_esclusi.count() #198853"
   ]
  },
  {
   "cell_type": "code",
   "execution_count": 21,
   "metadata": {
    "collapsed": true
   },
   "outputs": [],
   "source": [
    "adobe_test = adobe.filter('tipo_device != \"desktop\" or visite_app != 0 or visite_web != 1')"
   ]
  },
  {
   "cell_type": "code",
   "execution_count": 22,
   "metadata": {},
   "outputs": [
    {
     "data": {
      "text/plain": [
       "2486405"
      ]
     },
     "execution_count": 22,
     "metadata": {},
     "output_type": "execute_result"
    }
   ],
   "source": [
    "adobe_test.count()"
   ]
  },
  {
   "cell_type": "code",
   "execution_count": 24,
   "metadata": {},
   "outputs": [],
   "source": [
    "#print(len(adobe_test.columns))      "
   ]
  },
  {
   "cell_type": "code",
   "execution_count": 26,
   "metadata": {
    "collapsed": true
   },
   "outputs": [],
   "source": [
    "adobe_test = adobe_test.drop('totale_visite',  'numero_mesi_corporate', 'numero_mesi_tg24', 'numero_mesi_sport', 'numero_mesi_appwsc',  'numero_mesi_appgtv', 'numero_mesi_appsport', 'numero_mesi_appxfactor', 'visite_totali_corporate',  'visite_totali_tg24', 'visite_totali_sport', 'visite_totali_appwsc', 'visite_totali_appgtv', 'visite_totali_appsport', 'visite_totali_appxfactor',  'cookie_corporate', 'cookie_tg24' , 'cookie_sport' , 'secondi_totali_corporate'\n",
    " , 'secondi_totali_tg24' , 'secondi_totali_sport' , 'secondi_totali_appwsc' , 'secondi_totali_appgtv' , 'secondi_totali_appsport' , 'secondi_totali_appxfactor' , 'visite_corporate_appwsc_appgtv'\n",
    " , 'visite_editoriale' , 'visite_web' , 'visite_app' , 'max_mesi_corporate_appwsc_appgtv' , 'max_mesi_editoriale' , 'max_mesi_web' , 'max_mesi_app' , 'secondi_corporate_appwsc_appgtv'\n",
    " , 'secondi_editoriale' , 'secondi_web' , 'secondi_app', 'score_utilizzo',  'visite_settimana_corporate'\n",
    " , 'visite_weekend_corporate'\n",
    " , 'visite_settimana_tg24'\n",
    " , 'visite_weekend_tg24'\n",
    " , 'visite_settimana_sport'\n",
    " , 'visite_weekend_sport'\n",
    " , 'visite_settimana_appwsc'\n",
    " , 'visite_weekend_appwsc'\n",
    " , 'visite_settimana_appgtv'\n",
    " , 'visite_weekend_appgtv'\n",
    " , 'visite_settimana_appsport'\n",
    " , 'visite_weekend_appsport'\n",
    " , 'visite_settimana_appxfactor'\n",
    " , 'visite_weekend_appxfactor'\n",
    " , 'visite_corporate_notte'\n",
    " , 'visite_corporate_mattina'\n",
    " , 'visite_corporate_pomeriggio'\n",
    " , 'visite_corporate_sera'\n",
    " , 'visite_tg24_notte'\n",
    " , 'visite_tg24_mattina'\n",
    " , 'visite_tg24_pomeriggio'\n",
    " , 'visite_tg24_sera'\n",
    " , 'visite_sport_notte'\n",
    " , 'visite_sport_mattina'\n",
    " , 'visite_sport_pomeriggio'\n",
    " , 'visite_sport_sera'\n",
    " , 'visite_appwsc_notte'\n",
    " , 'visite_appwsc_mattina'\n",
    " , 'visite_appwsc_pomeriggio'\n",
    " , 'visite_appwsc_sera'\n",
    " , 'visite_appgtv_notte'\n",
    " , 'visite_appgtv_mattina'\n",
    " , 'visite_appgtv_pomeriggio'\n",
    " , 'visite_appgtv_sera'\n",
    " , 'visite_appsport_notte'\n",
    " , 'visite_appsport_mattina'\n",
    " , 'visite_appsport_pomeriggio'\n",
    " , 'visite_appsport_sera'\n",
    " , 'visite_appxfactor_notte'\n",
    " , 'visite_appxfactor_mattina'\n",
    " , 'visite_appxfactor_pomeriggio'\n",
    " , 'visite_appxfactor_sera', 'score_digital')"
   ]
  },
  {
   "cell_type": "code",
   "execution_count": 27,
   "metadata": {
    "collapsed": true
   },
   "outputs": [],
   "source": [
    "adobe_0_esclusi = adobe_0_esclusi.drop('totale_visite',  'numero_mesi_corporate', 'numero_mesi_tg24', 'numero_mesi_sport', 'numero_mesi_appwsc',  'numero_mesi_appgtv', 'numero_mesi_appsport', 'numero_mesi_appxfactor', 'visite_totali_corporate',  'visite_totali_tg24', 'visite_totali_sport', 'visite_totali_appwsc', 'visite_totali_appgtv', 'visite_totali_appsport', 'visite_totali_appxfactor',  'cookie_corporate', 'cookie_tg24' , 'cookie_sport' , 'secondi_totali_corporate'\n",
    " , 'secondi_totali_tg24' , 'secondi_totali_sport' , 'secondi_totali_appwsc' , 'secondi_totali_appgtv' , 'secondi_totali_appsport' , 'secondi_totali_appxfactor' , 'visite_corporate_appwsc_appgtv'\n",
    " , 'visite_editoriale' , 'visite_web' , 'visite_app' , 'max_mesi_corporate_appwsc_appgtv' , 'max_mesi_editoriale' , 'max_mesi_web' , 'max_mesi_app' , 'secondi_corporate_appwsc_appgtv'\n",
    " , 'secondi_editoriale' , 'secondi_web' , 'secondi_app', 'score_utilizzo',  'visite_settimana_corporate'\n",
    " , 'visite_weekend_corporate'\n",
    " , 'visite_settimana_tg24'\n",
    " , 'visite_weekend_tg24'\n",
    " , 'visite_settimana_sport'\n",
    " , 'visite_weekend_sport'\n",
    " , 'visite_settimana_appwsc'\n",
    " , 'visite_weekend_appwsc'\n",
    " , 'visite_settimana_appgtv'\n",
    " , 'visite_weekend_appgtv'\n",
    " , 'visite_settimana_appsport'\n",
    " , 'visite_weekend_appsport'\n",
    " , 'visite_settimana_appxfactor'\n",
    " , 'visite_weekend_appxfactor'\n",
    " , 'visite_corporate_notte'\n",
    " , 'visite_corporate_mattina'\n",
    " , 'visite_corporate_pomeriggio'\n",
    " , 'visite_corporate_sera'\n",
    " , 'visite_tg24_notte'\n",
    " , 'visite_tg24_mattina'\n",
    " , 'visite_tg24_pomeriggio'\n",
    " , 'visite_tg24_sera'\n",
    " , 'visite_sport_notte'\n",
    " , 'visite_sport_mattina'\n",
    " , 'visite_sport_pomeriggio'\n",
    " , 'visite_sport_sera'\n",
    " , 'visite_appwsc_notte'\n",
    " , 'visite_appwsc_mattina'\n",
    " , 'visite_appwsc_pomeriggio'\n",
    " , 'visite_appwsc_sera'\n",
    " , 'visite_appgtv_notte'\n",
    " , 'visite_appgtv_mattina'\n",
    " , 'visite_appgtv_pomeriggio'\n",
    " , 'visite_appgtv_sera'\n",
    " , 'visite_appsport_notte'\n",
    " , 'visite_appsport_mattina'\n",
    " , 'visite_appsport_pomeriggio'\n",
    " , 'visite_appsport_sera'\n",
    " , 'visite_appxfactor_notte'\n",
    " , 'visite_appxfactor_mattina'\n",
    " , 'visite_appxfactor_pomeriggio'\n",
    " , 'visite_appxfactor_sera', 'score_digital')"
   ]
  },
  {
   "cell_type": "code",
   "execution_count": 28,
   "metadata": {
    "collapsed": true
   },
   "outputs": [],
   "source": [
    "adobe_test = adobe_test.fillna(0)\n",
    "adobe_0_esclusi=adobe_0_esclusi.fillna(0)"
   ]
  },
  {
   "cell_type": "markdown",
   "metadata": {},
   "source": [
    "## Carico i modelli e creo la pipeline per codificare le variabili:"
   ]
  },
  {
   "cell_type": "code",
   "execution_count": 29,
   "metadata": {
    "collapsed": true
   },
   "outputs": [],
   "source": [
    "#Import useful packages:\n",
    "from pyspark.ml import Pipeline\n",
    "from pyspark.ml.classification import RandomForestClassifier, RandomForestClassificationModel\n",
    "from pyspark.ml.regression import RandomForestRegressor\n",
    "from pyspark.ml.tuning import CrossValidator, ParamGridBuilder\n",
    "from pyspark.ml.evaluation import MulticlassClassificationEvaluator, BinaryClassificationEvaluator, RegressionEvaluator\n",
    "from pyspark.ml.feature import VectorAssembler\n",
    "from pyspark.ml.feature import StringIndexer\n",
    "from pyspark.ml.feature import OneHotEncoder"
   ]
  },
  {
   "cell_type": "code",
   "execution_count": 30,
   "metadata": {
    "collapsed": true
   },
   "outputs": [],
   "source": [
    "model_generico = RandomForestClassificationModel.load(path_model_adobe_generico)\n",
    "model_fan = RandomForestClassificationModel.load(path_model_adobe_fan)\n",
    "model_social = RandomForestClassificationModel.load(path_model_adobe_social)"
   ]
  },
  {
   "cell_type": "code",
   "execution_count": 34,
   "metadata": {},
   "outputs": [],
   "source": [
    "steps1 =[]\n",
    "CategoricalCol_in = [\"social_network\", \"tipo_device\", \"ricorrenza_corporate\", \"ricorrenza_tg24\", \"ricorrenza_sport\",\n",
    "                      \"ricorrenza_appgtv\", \"ricorrenza_appxfactor\", \"ricorrenza_appsport\", \"ricorrenza_appwsc\",\n",
    "                      \"ricorrenza_corporate_appwsc_appgtv\", \"ricorrenza_editoriale\", \"ricorrenza_web\", \"ricorrenza_app\",\n",
    "                      \"ricorrenza_totale\"]\n",
    "CategoricalCol_out = [ \"social_network_class_vec\", \"tipo_device_class_vec\", \"ricorrenza_corporate_class_vec\", \"ricorrenza_tg24_class_vec\", \"ricorrenza_sport_class_vec\",\n",
    "                      \"ricorrenza_appgtv_class_vec\", \"ricorrenza_appxfactor_class_vec\", \"ricorrenza_appsport_class_vec\", \"ricorrenza_appwsc_class_vec\",\n",
    "                      \"ricorrenza_corporate_appwsc_appgtv_class_vec\", \"ricorrenza_editoriale_class_vec\", \"ricorrenza_web_class_vec\", \"ricorrenza_app_class_vec\",\n",
    "                      \"ricorrenza_totale_class_vec\"]\n",
    " \n",
    "indexers = [StringIndexer(inputCol=x, outputCol=x+'Index')\n",
    "            for x in CategoricalCol_in ]\n",
    " \n",
    "encoders = [OneHotEncoder(dropLast=False, inputCol=x+\"Index\", outputCol=y)\n",
    "for x,y in zip(CategoricalCol_in, CategoricalCol_out)]\n",
    "steps1 = [[i,j] for i,j in zip(indexers, encoders)]\n",
    "steps1 = [i for sublist in steps1 for i in sublist]\n",
    "\n",
    "numericCols = adobe_test.drop(\"ext_id\", \"score_digital\",\"social_network\", \"tipo_device\", \"ricorrenza_corporate\", \"ricorrenza_tg24\", \"ricorrenza_sport\",\n",
    "                      \"ricorrenza_appgtv\", \"ricorrenza_appxfactor\", \"ricorrenza_appsport\", \"ricorrenza_appwsc\",\n",
    "                      \"ricorrenza_corporate_appwsc_appgtv\", \"ricorrenza_editoriale\", \"ricorrenza_web\", \"ricorrenza_app\",\n",
    "                      \"ricorrenza_totale\").columns\n",
    "\n",
    "assemblerInputs = [c + \"_class_vec\" for c in CategoricalCol_in] + numericCols\n",
    "assembler = VectorAssembler(inputCols=assemblerInputs, outputCol=\"features\")\n",
    "steps1 += [assembler]\n",
    "\n",
    "#Pipeline:  \n",
    "pipeline1 = Pipeline().setStages(steps1)"
   ]
  },
  {
   "cell_type": "code",
   "execution_count": 13,
   "metadata": {
    "collapsed": true
   },
   "outputs": [],
   "source": [
    "steps1 =[]\n",
    "CategoricalCol_in = [\"social_network\", \"tipo_device\", \"ricorrenza_corporate\", \"ricorrenza_tg24\", \"ricorrenza_sport\",\n",
    "                      \"ricorrenza_appgtv\", \"ricorrenza_appxfactor\", \"ricorrenza_appsport\", \"ricorrenza_appwsc\",\n",
    "                      \"ricorrenza_corporate_appwsc_appgtv\", \"ricorrenza_editoriale\", \"ricorrenza_web\", \"ricorrenza_app\",\n",
    "                      \"ricorrenza_totale\"]\n",
    "CategoricalCol_out = [ \"social_network_class_vec\", \"tipo_device_class_vec\", \"ricorrenza_corporate_class_vec\", \"ricorrenza_tg24_class_vec\", \"ricorrenza_sport_class_vec\",\n",
    "                      \"ricorrenza_appgtv_class_vec\", \"ricorrenza_appxfactor_class_vec\", \"ricorrenza_appsport_class_vec\", \"ricorrenza_appwsc_class_vec\",\n",
    "                      \"ricorrenza_corporate_appwsc_appgtv_class_vec\", \"ricorrenza_editoriale_class_vec\", \"ricorrenza_web_class_vec\", \"ricorrenza_app_class_vec\",\n",
    "                      \"ricorrenza_totale_class_vec\"]\n",
    " \n",
    "indexers = [StringIndexer(inputCol=x, outputCol=x+'Index')\n",
    "            for x in CategoricalCol_in ]\n",
    " \n",
    "encoders = [OneHotEncoder(dropLast=False, inputCol=x+\"Index\", outputCol=y)\n",
    "for x,y in zip(CategoricalCol_in, CategoricalCol_out)]\n",
    "steps1 = [[i,j] for i,j in zip(indexers, encoders)]\n",
    "steps1 = [i for sublist in steps1 for i in sublist]\n",
    "\n",
    "numericCols = adobe_test.drop(\"ext_id\", \"social_network\", \"tipo_device\", \"ricorrenza_corporate\", \"ricorrenza_tg24\", \"ricorrenza_sport\",\n",
    "                      \"ricorrenza_appgtv\", \"ricorrenza_appxfactor\", \"ricorrenza_appsport\", \"ricorrenza_appwsc\",\n",
    "                      \"ricorrenza_corporate_appwsc_appgtv\", \"ricorrenza_editoriale\", \"ricorrenza_web\", \"ricorrenza_app\",\n",
    "                      \"ricorrenza_totale\").columns\n",
    "\n",
    "assemblerInputs = [c + \"_class_vec\" for c in CategoricalCol_in] + numericCols\n",
    "assembler = VectorAssembler(inputCols=assemblerInputs, outputCol=\"features\")\n",
    "steps1 += [assembler]\n",
    "\n",
    "#Pipeline:  \n",
    "pipeline1 = Pipeline().setStages(steps1)"
   ]
  },
  {
   "cell_type": "code",
   "execution_count": 35,
   "metadata": {},
   "outputs": [],
   "source": [
    "# Applico pipeline ad adobe_test:\n",
    "pipelineModel_final = pipeline1.fit(adobe_test)\n",
    "final= pipelineModel_final.transform(adobe_test)"
   ]
  },
  {
   "cell_type": "code",
   "execution_count": 36,
   "metadata": {
    "collapsed": true
   },
   "outputs": [],
   "source": [
    "probab_col = ['prob_1_int']\n",
    "assembler_golden0 = VectorAssembler(inputCols=probab_col, outputCol=\"prob_1\")"
   ]
  },
  {
   "cell_type": "code",
   "execution_count": 37,
   "metadata": {
    "collapsed": true
   },
   "outputs": [],
   "source": [
    "zeri_esclusi = assembler_golden0.transform(adobe_0_esclusi)\n",
    "zeri_esclusi = zeri_esclusi.drop('prob_1_int')"
   ]
  },
  {
   "cell_type": "markdown",
   "metadata": {},
   "source": [
    "## Modello Generico"
   ]
  },
  {
   "cell_type": "code",
   "execution_count": 40,
   "metadata": {
    "collapsed": true
   },
   "outputs": [],
   "source": [
    "predictions_class_generico = model_generico.transform(final)"
   ]
  },
  {
   "cell_type": "code",
   "execution_count": 41,
   "metadata": {
    "scrolled": true
   },
   "outputs": [
    {
     "name": "stdout",
     "output_type": "stream",
     "text": [
      "+--------------------+--------------------+\n",
      "|         probability|              prob_1|\n",
      "+--------------------+--------------------+\n",
      "|[0.96703605649434...|[0.03296394350565...|\n",
      "|[0.88783769576559...|[0.11216230423440...|\n",
      "|[0.99128926923795...|[0.00871073076204...|\n",
      "|[8.02940943095680...|[0.9991970590569044]|\n",
      "|[0.97849317511721...|[0.02150682488278...|\n",
      "|[0.36126374253030...|[0.6387362574696974]|\n",
      "|[0.99069584792824...|[0.00930415207175...|\n",
      "|[0.90561452324788...|[0.0943854767521129]|\n",
      "|[0.97849317511721...|[0.02150682488278...|\n",
      "|[0.01662899946909...|[0.9833710005309071]|\n",
      "|[0.97849317511721...|[0.02150682488278...|\n",
      "|[0.99112778652318...|[0.00887221347681...|\n",
      "|[0.96383230579654...|[0.03616769420345...|\n",
      "|[0.00144709809158...|[0.9985529019084153]|\n",
      "|[0.91794147636491...|[0.08205852363508...|\n",
      "|[0.98919992496420...|[0.01080007503579...|\n",
      "|[0.32415685271150...|[0.6758431472884927]|\n",
      "|[0.98941448341662...|[0.01058551658337...|\n",
      "|[0.95943500603361...|[0.04056499396638...|\n",
      "|[0.93785778521286...|[0.06214221478713...|\n",
      "+--------------------+--------------------+\n",
      "only showing top 20 rows\n",
      "\n"
     ]
    }
   ],
   "source": [
    "from pyspark.ml.feature import VectorSlicer\n",
    "\n",
    "slicer = VectorSlicer(inputCol=\"probability\", outputCol=\"prob_1\", indices=[1])\n",
    "\n",
    "predictions_class_generico = slicer.transform(predictions_class_generico)\n",
    "\n",
    "predictions_class_generico.select(\"probability\", \"prob_1\").show()"
   ]
  },
  {
   "cell_type": "markdown",
   "metadata": {},
   "source": [
    "### Unione 0 con predictions modello generico"
   ]
  },
  {
   "cell_type": "code",
   "execution_count": 42,
   "metadata": {
    "collapsed": true
   },
   "outputs": [],
   "source": [
    "predictions_class_generico.createOrReplaceTempView('generico')"
   ]
  },
  {
   "cell_type": "code",
   "execution_count": 43,
   "metadata": {
    "collapsed": true
   },
   "outputs": [],
   "source": [
    "predictions_class_generico1 = predictions_class_generico.drop('features', 'rawPrediction', 'probability', 'prediction',\"social_network_class_vec\", \"tipo_device_class_vec\", \"ricorrenza_corporate_class_vec\", \"ricorrenza_tg24_class_vec\", \"ricorrenza_sport_class_vec\",\n",
    "                      \"ricorrenza_appgtv_class_vec\", \"ricorrenza_appxfactor_class_vec\", \"ricorrenza_appsport_class_vec\", \"ricorrenza_appwsc_class_vec\",\n",
    "                      \"ricorrenza_corporate_appwsc_appgtv_class_vec\", \"ricorrenza_editoriale_class_vec\", \"ricorrenza_web_class_vec\", \"ricorrenza_app_class_vec\",\n",
    "                      \"ricorrenza_totale_class_vec\", \"social_networkIndex\", \"tipo_deviceIndex\", \"ricorrenza_corporateIndex\", \"ricorrenza_tg24Index\", \"ricorrenza_sportIndex\",\n",
    "                      \"ricorrenza_appgtvIndex\", \"ricorrenza_appxfactorIndex\", \"ricorrenza_appsportIndex\", \"ricorrenza_appwscIndex\",\n",
    "                      \"ricorrenza_corporate_appwsc_appgtvIndex\", \"ricorrenza_editorialeIndex\", \"ricorrenza_webIndex\", \"ricorrenza_appIndex\",\n",
    "                      \"ricorrenza_totaleIndex\")"
   ]
  },
  {
   "cell_type": "code",
   "execution_count": 44,
   "metadata": {
    "collapsed": true
   },
   "outputs": [],
   "source": [
    "predictions_class_generico1.createOrReplaceTempView('predictions_class_generico1')\n",
    "zeri_esclusi.createOrReplaceTempView('zeri_esclusi')"
   ]
  },
  {
   "cell_type": "code",
   "execution_count": 45,
   "metadata": {
    "collapsed": true
   },
   "outputs": [],
   "source": [
    "predictions_finale = spark.sql('select * from predictions_class_generico1 union all select * from zeri_esclusi ')"
   ]
  },
  {
   "cell_type": "code",
   "execution_count": 49,
   "metadata": {},
   "outputs": [],
   "source": [
    "#print(len(zeri_esclusi.columns))"
   ]
  },
  {
   "cell_type": "code",
   "execution_count": 51,
   "metadata": {},
   "outputs": [],
   "source": [
    "#col_test = predictions_class_generico1.columns\n",
    "#col_golden_train = zeri_esclusi.columns\n",
    "\n",
    "#print(len(set(col_test).intersection(col_golden_train)))"
   ]
  },
  {
   "cell_type": "code",
   "execution_count": 52,
   "metadata": {
    "collapsed": true
   },
   "outputs": [],
   "source": [
    "predictions_finale.createOrReplaceTempView('predictions_finale')"
   ]
  },
  {
   "cell_type": "code",
   "execution_count": 53,
   "metadata": {
    "collapsed": true
   },
   "outputs": [],
   "source": [
    "probab_class_asc = spark.sql('SELECT ext_id, prob_1 FROM predictions_finale ORDER BY prob_1').persist()"
   ]
  },
  {
   "cell_type": "code",
   "execution_count": 54,
   "metadata": {},
   "outputs": [
    {
     "data": {
      "text/plain": [
       "2685258"
      ]
     },
     "execution_count": 54,
     "metadata": {},
     "output_type": "execute_result"
    }
   ],
   "source": [
    "probab_class_asc.count()"
   ]
  },
  {
   "cell_type": "code",
   "execution_count": 55,
   "metadata": {
    "collapsed": true
   },
   "outputs": [],
   "source": [
    "probab_class_asc.createOrReplaceTempView('probab_class_asc')\n",
    "probab_class_asc_indexed = spark.sql('select row_number() over (order by prob_1) as num, * from probab_class_asc').persist()"
   ]
  },
  {
   "cell_type": "code",
   "execution_count": 56,
   "metadata": {},
   "outputs": [
    {
     "name": "stdout",
     "output_type": "stream",
     "text": [
      "+---+--------------------+------+\n",
      "|num|              ext_id|prob_1|\n",
      "+---+--------------------+------+\n",
      "|  1|001a420df0de04a04...| [0.0]|\n",
      "|  2|004a2e66854b6f1bd...| [0.0]|\n",
      "|  3|00656b0c274297b5e...| [0.0]|\n",
      "|  4|00c16a69025a609af...| [0.0]|\n",
      "|  5|00dbdf14c0787a2bd...| [0.0]|\n",
      "|  6|01311ff44add3945b...| [0.0]|\n",
      "|  7|01694bc591be887ef...| [0.0]|\n",
      "|  8|01c3b61c51e5a5350...| [0.0]|\n",
      "|  9|0239ea93c8ba9db0e...| [0.0]|\n",
      "| 10|0270835ec932f300f...| [0.0]|\n",
      "| 11|02b34a51d571227e5...| [0.0]|\n",
      "| 12|02cfab436e70c8f53...| [0.0]|\n",
      "| 13|02dfd6625624d027f...| [0.0]|\n",
      "| 14|02f7e98788ae65cdc...| [0.0]|\n",
      "| 15|0328223682f070cbf...| [0.0]|\n",
      "| 16|037917bed522bf3d0...| [0.0]|\n",
      "| 17|03b5d615de63dde8a...| [0.0]|\n",
      "| 18|044cd8a20a557f8f2...| [0.0]|\n",
      "| 19|045488273b2c19df3...| [0.0]|\n",
      "| 20|0486c7787b8c46fd4...| [0.0]|\n",
      "| 21|04ac76d4710e0693a...| [0.0]|\n",
      "| 22|055e96d25ae91f6f5...| [0.0]|\n",
      "| 23|0560bb9a6290556b4...| [0.0]|\n",
      "| 24|05967a453ee50b2c7...| [0.0]|\n",
      "| 25|05a3d479558d8ad32...| [0.0]|\n",
      "| 26|061ebdecfc2fd58c0...| [0.0]|\n",
      "| 27|064d77d428bb1ba6a...| [0.0]|\n",
      "| 28|0668c1064e7dc3499...| [0.0]|\n",
      "| 29|06908ba755be5f4dc...| [0.0]|\n",
      "| 30|06cb46150bd6f4448...| [0.0]|\n",
      "| 31|071e61d2247d45fc0...| [0.0]|\n",
      "| 32|074afa79cf7e3e7dc...| [0.0]|\n",
      "| 33|07923440ebbd3af68...| [0.0]|\n",
      "| 34|07a0870b464573d05...| [0.0]|\n",
      "| 35|07ced8e42559ddfa9...| [0.0]|\n",
      "| 36|0846632597bd303d5...| [0.0]|\n",
      "| 37|084b9ba542f02a1e2...| [0.0]|\n",
      "| 38|085a27e39c06cb5dc...| [0.0]|\n",
      "| 39|08c43748ed9c9d75b...| [0.0]|\n",
      "| 40|09eeb84a5433cde0d...| [0.0]|\n",
      "| 41|0a0e7d6ce31c9fa30...| [0.0]|\n",
      "| 42|0a43c9736e4b567e8...| [0.0]|\n",
      "| 43|0aaecca458e2d925d...| [0.0]|\n",
      "| 44|0adae416214ba3486...| [0.0]|\n",
      "| 45|0b05bb6b399ecba5e...| [0.0]|\n",
      "| 46|0b1d61aff2f2a279e...| [0.0]|\n",
      "| 47|0b592a2b09d857542...| [0.0]|\n",
      "| 48|0beb9496a7c21f118...| [0.0]|\n",
      "| 49|0c3ee09c7fa9022c5...| [0.0]|\n",
      "| 50|0c700358a0524626a...| [0.0]|\n",
      "| 51|0c880029d8b9cfae8...| [0.0]|\n",
      "| 52|0cbbc3ee789802969...| [0.0]|\n",
      "| 53|0d2b12ca7054df58b...| [0.0]|\n",
      "| 54|0dc79cea90be75c84...| [0.0]|\n",
      "| 55|0dd1892f2cfd4206f...| [0.0]|\n",
      "| 56|0e2a93eb2fa8e7b46...| [0.0]|\n",
      "| 57|0e3cadfda8d9643cc...| [0.0]|\n",
      "| 58|0e910bf2e1971947d...| [0.0]|\n",
      "| 59|0ec96078833bd10ce...| [0.0]|\n",
      "| 60|0f688258c89c1347f...| [0.0]|\n",
      "| 61|0f76ac66bbd5fd40d...| [0.0]|\n",
      "| 62|0faa24f24d910091e...| [0.0]|\n",
      "| 63|0fabe82374b4aa690...| [0.0]|\n",
      "| 64|0fce66958ba8238a6...| [0.0]|\n",
      "| 65|10041535abf92a008...| [0.0]|\n",
      "| 66|106d3343382b13cf4...| [0.0]|\n",
      "| 67|10789b35ea89fabae...| [0.0]|\n",
      "| 68|10a4e77dee3952ea8...| [0.0]|\n",
      "| 69|10ee37834c585d58d...| [0.0]|\n",
      "| 70|112cd72108a67d9cb...| [0.0]|\n",
      "| 71|1201e96d9346e007f...| [0.0]|\n",
      "| 72|125f5fdbd2f204ea5...| [0.0]|\n",
      "| 73|12679e0874a883743...| [0.0]|\n",
      "| 74|1268d34c204e1b2c4...| [0.0]|\n",
      "| 75|12ee944fb8c8ca6ab...| [0.0]|\n",
      "| 76|137b4b7a128677e11...| [0.0]|\n",
      "| 77|13af3ebdbc032b0e2...| [0.0]|\n",
      "| 78|13c3ddc91e0881fd0...| [0.0]|\n",
      "| 79|13fa02fdc215ebf32...| [0.0]|\n",
      "| 80|145fbd491d5281d52...| [0.0]|\n",
      "| 81|146fc6d0137080a26...| [0.0]|\n",
      "| 82|148655b1a125186ab...| [0.0]|\n",
      "| 83|14a702986188fca1a...| [0.0]|\n",
      "| 84|1508c1628ff136fd1...| [0.0]|\n",
      "| 85|151e16c229bf4879b...| [0.0]|\n",
      "| 86|15ce45679ca4ce108...| [0.0]|\n",
      "| 87|16bd770457f331058...| [0.0]|\n",
      "| 88|171530d59221e387e...| [0.0]|\n",
      "| 89|175d016bb29fb3a82...| [0.0]|\n",
      "| 90|1775a34d9cd37bf3e...| [0.0]|\n",
      "| 91|17cbb44d776cddff2...| [0.0]|\n",
      "| 92|181d2c47cd64e6187...| [0.0]|\n",
      "| 93|186100b332f60d64c...| [0.0]|\n",
      "| 94|18714c4f7b84f2cc5...| [0.0]|\n",
      "| 95|18b00eae2f8d439f4...| [0.0]|\n",
      "| 96|18bd8f3a018b8987c...| [0.0]|\n",
      "| 97|18ea49ed2a94bf920...| [0.0]|\n",
      "| 98|18fb9c9251ffd4c87...| [0.0]|\n",
      "| 99|192c0680a41c81e5d...| [0.0]|\n",
      "|100|193e3d4080a0f9484...| [0.0]|\n",
      "+---+--------------------+------+\n",
      "only showing top 100 rows\n",
      "\n"
     ]
    }
   ],
   "source": [
    "probab_class_asc_indexed.show(100)"
   ]
  },
  {
   "cell_type": "code",
   "execution_count": 60,
   "metadata": {},
   "outputs": [
    {
     "name": "stdout",
     "output_type": "stream",
     "text": [
      "268525\n"
     ]
    }
   ],
   "source": [
    "# Inserisco la lunghezza del dataset per calcolare i decili:\n",
    "lung = int(probab_class_asc.count()/10)\n",
    "print(lung)\n",
    "probab_class_asc_indexed_2 = probab_class_asc_indexed.withColumn('lunghezza', lit(lung))"
   ]
  },
  {
   "cell_type": "code",
   "execution_count": 61,
   "metadata": {
    "collapsed": true
   },
   "outputs": [],
   "source": [
    "probab_class_asc_indexed_2.createOrReplaceTempView('probab_class_asc_indexed_2')"
   ]
  },
  {
   "cell_type": "code",
   "execution_count": 62,
   "metadata": {
    "collapsed": true
   },
   "outputs": [],
   "source": [
    "probab_class_asc_index_decili = spark.sql('SELECT *, CASE WHEN (num between 0 and lunghezza) THEN 1 WHEN (num between lunghezza and lunghezza*2) THEN 2 WHEN (num between lunghezza*2 and lunghezza*3) THEN 3 WHEN (num between lunghezza*3 and lunghezza*4) THEN 4 WHEN (num between lunghezza*4 and lunghezza*5) THEN 5 WHEN (num between lunghezza*5 and lunghezza*6) THEN 6 WHEN (num between lunghezza*6 and lunghezza*7) THEN 7 WHEN (num between lunghezza*7 and lunghezza*8) THEN 8 WHEN (num between lunghezza*8 and lunghezza*9) THEN 9 WHEN (num > lunghezza*9) THEN 10 ELSE NULL END AS decile FROM probab_class_asc_indexed_2')"
   ]
  },
  {
   "cell_type": "code",
   "execution_count": 63,
   "metadata": {},
   "outputs": [
    {
     "name": "stdout",
     "output_type": "stream",
     "text": [
      "+---+------------------------------------------------+------+---------+------+\n",
      "|num|ext_id                                          |prob_1|lunghezza|decile|\n",
      "+---+------------------------------------------------+------+---------+------+\n",
      "|1  |001a420df0de04a04dab0302a03e44b5058812c92cfd9cf1|[0.0] |268525   |1     |\n",
      "|2  |004a2e66854b6f1bdebd0fdefccbcdf776dd5017a81afd09|[0.0] |268525   |1     |\n",
      "|3  |00656b0c274297b5e1bca6f5c284905dd621cd6fd0a08581|[0.0] |268525   |1     |\n",
      "|4  |00c16a69025a609afd7e84baab8f8f22e6819ab4e25987bd|[0.0] |268525   |1     |\n",
      "|5  |00dbdf14c0787a2bd6b820b7304e73ecf8d6a6d69698eaf6|[0.0] |268525   |1     |\n",
      "|6  |01311ff44add3945b0bf9888774594535368d03f53b1e241|[0.0] |268525   |1     |\n",
      "|7  |01694bc591be887efa1b0158861a6aae9b96b0a268ed1b0d|[0.0] |268525   |1     |\n",
      "|8  |01c3b61c51e5a53505d85a65d937209ffa93565ef88fe469|[0.0] |268525   |1     |\n",
      "|9  |0239ea93c8ba9db0e1707b004e059a234d6ef4d3506e9eab|[0.0] |268525   |1     |\n",
      "|10 |0270835ec932f300faeabdaead8a1d301fcb6c37b2cda1ad|[0.0] |268525   |1     |\n",
      "|11 |02b34a51d571227e5549350a19cad35509907685b71ec3a3|[0.0] |268525   |1     |\n",
      "|12 |02cfab436e70c8f533cc8f60df564b01d205e1aae0c5f46c|[0.0] |268525   |1     |\n",
      "|13 |02dfd6625624d027fad4a97aa82cd489b1813c2b1c30257f|[0.0] |268525   |1     |\n",
      "|14 |02f7e98788ae65cdc404b7dd6a8871da215612ca9a74b6ff|[0.0] |268525   |1     |\n",
      "|15 |0328223682f070cbf2e54c97ec17628643559c25d01ea6b5|[0.0] |268525   |1     |\n",
      "|16 |037917bed522bf3d0a81b1bf05826f80b505480d3400cd45|[0.0] |268525   |1     |\n",
      "|17 |03b5d615de63dde8ae4940e02cb4dc5eec92222602007bed|[0.0] |268525   |1     |\n",
      "|18 |044cd8a20a557f8f2eddcd0507f7446b0ad8b501474bbddc|[0.0] |268525   |1     |\n",
      "|19 |045488273b2c19df3b9e87a1e8be7256200a6cecb2df5efd|[0.0] |268525   |1     |\n",
      "|20 |0486c7787b8c46fd44bbf32df32c894c3f27ee11eb310cfe|[0.0] |268525   |1     |\n",
      "|21 |04ac76d4710e0693a509fe5392108b46f63e693d76c053de|[0.0] |268525   |1     |\n",
      "|22 |055e96d25ae91f6f59c562c1be534bbf1399f1d93a29ae44|[0.0] |268525   |1     |\n",
      "|23 |0560bb9a6290556b43f4906c32e7eedf2ec3d89eb05cb6e3|[0.0] |268525   |1     |\n",
      "|24 |05967a453ee50b2c7ef0415807650c093a6b45b48fc3f414|[0.0] |268525   |1     |\n",
      "|25 |05a3d479558d8ad32dfb9fc5a6542ae8e9186529a9048c17|[0.0] |268525   |1     |\n",
      "|26 |061ebdecfc2fd58c088cda5a968e250d5b4c34d6b88f5dd1|[0.0] |268525   |1     |\n",
      "|27 |064d77d428bb1ba6abe518e3f36915d9405fffc452331712|[0.0] |268525   |1     |\n",
      "|28 |0668c1064e7dc3499f09e0879adf8248bf3762dd667c5c1e|[0.0] |268525   |1     |\n",
      "|29 |06908ba755be5f4dc7f9c8f71e4ee9901544e1c788206420|[0.0] |268525   |1     |\n",
      "|30 |06cb46150bd6f44488b72e2874cfe8098ec02280deaba4b4|[0.0] |268525   |1     |\n",
      "|31 |071e61d2247d45fc005f480e221b95a346eb0bbd2861bbe0|[0.0] |268525   |1     |\n",
      "|32 |074afa79cf7e3e7dcc88cda2bc0ad8d13bb77abe3f4c7e55|[0.0] |268525   |1     |\n",
      "|33 |07923440ebbd3af6847a5c7541d96737977150359ae4ea88|[0.0] |268525   |1     |\n",
      "|34 |07a0870b464573d05eb38da6d62336b40f82487164b1c40e|[0.0] |268525   |1     |\n",
      "|35 |07ced8e42559ddfa9940a599cc77e0a186df0e6ce08d6aba|[0.0] |268525   |1     |\n",
      "|36 |0846632597bd303d568f4a2f0740e5e3d26b5770bf9d7b5e|[0.0] |268525   |1     |\n",
      "|37 |084b9ba542f02a1e20a006978e12084c004cc4312020a2eb|[0.0] |268525   |1     |\n",
      "|38 |085a27e39c06cb5dcfe73eb78c272158e8cc1e7e0400c660|[0.0] |268525   |1     |\n",
      "|39 |08c43748ed9c9d75b8a69576072c6db884d2cb0da7f89324|[0.0] |268525   |1     |\n",
      "|40 |09eeb84a5433cde0d14fdf79e731b244dd377c3a59d9905c|[0.0] |268525   |1     |\n",
      "|41 |0a0e7d6ce31c9fa30fc60e4cb076bb341d2dee2bb1d1b480|[0.0] |268525   |1     |\n",
      "|42 |0a43c9736e4b567e8f3c264e3af1cae17a35be5ccc489b79|[0.0] |268525   |1     |\n",
      "|43 |0aaecca458e2d925d23d07625b84918998ed4e7e19fecaa3|[0.0] |268525   |1     |\n",
      "|44 |0adae416214ba348607a3167fed61d6cb4c1d1f34606ecda|[0.0] |268525   |1     |\n",
      "|45 |0b05bb6b399ecba5e32cd12142700b20ec3b98944ab9c087|[0.0] |268525   |1     |\n",
      "|46 |0b1d61aff2f2a279e6ed37e80eeb4c77c48c71cc525ac92c|[0.0] |268525   |1     |\n",
      "|47 |0b592a2b09d85754209bbe0cd4eac892b82edbca3d590038|[0.0] |268525   |1     |\n",
      "|48 |0beb9496a7c21f1188d121c4a542d3bf4f1a066e7e329aaf|[0.0] |268525   |1     |\n",
      "|49 |0c3ee09c7fa9022c520ad20cea1a8dc6c1fe3a80d2486524|[0.0] |268525   |1     |\n",
      "|50 |0c700358a0524626aa4542334a0d2c9e7b646e091988a190|[0.0] |268525   |1     |\n",
      "|51 |0c880029d8b9cfae88510a616ad83a71cc3932cb960ace52|[0.0] |268525   |1     |\n",
      "|52 |0cbbc3ee789802969740a79fd12c02666274b8b49b68c2d0|[0.0] |268525   |1     |\n",
      "|53 |0d2b12ca7054df58b7538662ef31703d8d156a0735be51e4|[0.0] |268525   |1     |\n",
      "|54 |0dc79cea90be75c84e3f2a7222defe9a57fe3d365b7d9a81|[0.0] |268525   |1     |\n",
      "|55 |0dd1892f2cfd4206ffca5b2b25f3a21d45b722d472ddfafd|[0.0] |268525   |1     |\n",
      "|56 |0e2a93eb2fa8e7b46b0ce842f97335ebb70732902e9dfda0|[0.0] |268525   |1     |\n",
      "|57 |0e3cadfda8d9643cc1403b82132f8c27abae97cdf44c80eb|[0.0] |268525   |1     |\n",
      "|58 |0e910bf2e1971947d55e1fb22cb0e6a0d6e806cbe990f125|[0.0] |268525   |1     |\n",
      "|59 |0ec96078833bd10ceb130c5b5ea1b3022453afec877d29be|[0.0] |268525   |1     |\n",
      "|60 |0f688258c89c1347f134c3f3b1cf7adfa8d7b5015537fdd9|[0.0] |268525   |1     |\n",
      "|61 |0f76ac66bbd5fd40d8471aa73a246f13fc5939641257597e|[0.0] |268525   |1     |\n",
      "|62 |0faa24f24d910091e512be3bb50fb0c47f1160368d7a1dd2|[0.0] |268525   |1     |\n",
      "|63 |0fabe82374b4aa690f8b3f9ab454db472968efc0718bd37c|[0.0] |268525   |1     |\n",
      "|64 |0fce66958ba8238a6b83adad2fad0c981d2006b75bf03381|[0.0] |268525   |1     |\n",
      "|65 |10041535abf92a008a9a6fc9a1e2a1e77a4fe611fc800b2e|[0.0] |268525   |1     |\n",
      "|66 |106d3343382b13cf49b70680c2c100b623196bee03b332c8|[0.0] |268525   |1     |\n",
      "|67 |10789b35ea89fabae8b1df6d0202ad484b2c75f2f97be2fd|[0.0] |268525   |1     |\n",
      "|68 |10a4e77dee3952ea8205db99f4f1e747bc8662fe2933343a|[0.0] |268525   |1     |\n",
      "|69 |10ee37834c585d58d44833c26683146459f2b5eac1c67729|[0.0] |268525   |1     |\n",
      "|70 |112cd72108a67d9cb7d286bb68ad233d16862ef6d24cb06d|[0.0] |268525   |1     |\n",
      "|71 |1201e96d9346e007f0d4613c7a2ad3c5d83343604ef1fbc6|[0.0] |268525   |1     |\n",
      "|72 |125f5fdbd2f204ea5ac67ec93e00b280a7b5cde923b9a749|[0.0] |268525   |1     |\n",
      "|73 |12679e0874a883743cc141d2d43376818afc17cb8335a9b0|[0.0] |268525   |1     |\n",
      "|74 |1268d34c204e1b2c41d45d9d3065703f8e1a5f261d3165a6|[0.0] |268525   |1     |\n",
      "|75 |12ee944fb8c8ca6abdea7ae0df3f803401922d27c6089c55|[0.0] |268525   |1     |\n",
      "|76 |137b4b7a128677e114a666736e1f45517f94839dd516f6d5|[0.0] |268525   |1     |\n",
      "|77 |13af3ebdbc032b0e25075e196ebf741332a7c554b1f8d18b|[0.0] |268525   |1     |\n",
      "|78 |13c3ddc91e0881fd0ae4466a8e3093ba6158cf3578540d61|[0.0] |268525   |1     |\n",
      "|79 |13fa02fdc215ebf32da98f155fd6cdfb50a453b0bc6a9e17|[0.0] |268525   |1     |\n",
      "|80 |145fbd491d5281d52083da3f997330fa841ac5f14d02774c|[0.0] |268525   |1     |\n",
      "|81 |146fc6d0137080a26d7c6408a7f86b5a1cfba61b2467ea0e|[0.0] |268525   |1     |\n",
      "|82 |148655b1a125186ab0d2caefaf63303d115326f606a53515|[0.0] |268525   |1     |\n",
      "|83 |14a702986188fca1a1d164392ff3049f97925545bcc66bda|[0.0] |268525   |1     |\n",
      "|84 |1508c1628ff136fd126951f473bb9c1303a69ba9fcc99fc5|[0.0] |268525   |1     |\n",
      "|85 |151e16c229bf4879bc21a8a3c448bece078b121d133b40cb|[0.0] |268525   |1     |\n",
      "|86 |15ce45679ca4ce1081760929bb981beb008193fbc2742dbb|[0.0] |268525   |1     |\n",
      "|87 |16bd770457f331058ad1d0fd904bc6896cd17a153cb86b30|[0.0] |268525   |1     |\n",
      "|88 |171530d59221e387eea0b9ff70aa4c0b12b7866215596b44|[0.0] |268525   |1     |\n",
      "|89 |175d016bb29fb3a8233bfa6a332009beb154ba29cf0450e2|[0.0] |268525   |1     |\n",
      "|90 |1775a34d9cd37bf3ec89322f116387a0f270f82732996149|[0.0] |268525   |1     |\n",
      "|91 |17cbb44d776cddff2c2c09d2ba611478054e07bed1746150|[0.0] |268525   |1     |\n",
      "|92 |181d2c47cd64e618714b7eb8191593020216f964b4401799|[0.0] |268525   |1     |\n",
      "|93 |186100b332f60d64c557bbf9b0a039a480aa2e68bcbe3ad3|[0.0] |268525   |1     |\n",
      "|94 |18714c4f7b84f2cc5fcd6e6098e399762fd02dc9c93e7b44|[0.0] |268525   |1     |\n",
      "|95 |18b00eae2f8d439f4b758140c3480c1da2a4d431b390f69c|[0.0] |268525   |1     |\n",
      "|96 |18bd8f3a018b8987c35bc94a287d64c04689eb86ed3bd18d|[0.0] |268525   |1     |\n",
      "|97 |18ea49ed2a94bf9200eba9c0b6a3532e280711863972db1e|[0.0] |268525   |1     |\n",
      "|98 |18fb9c9251ffd4c875fbaa91b89f11cab81ba2140f9c74ea|[0.0] |268525   |1     |\n",
      "|99 |192c0680a41c81e5d01967add88234b5fcdd0af4504a66de|[0.0] |268525   |1     |\n",
      "|100|193e3d4080a0f94840ea2b40b86ef9dc54fd1380f6b1446c|[0.0] |268525   |1     |\n",
      "+---+------------------------------------------------+------+---------+------+\n",
      "only showing top 100 rows\n",
      "\n"
     ]
    }
   ],
   "source": [
    "probab_class_asc_index_decili.show(100, False)"
   ]
  },
  {
   "cell_type": "code",
   "execution_count": 65,
   "metadata": {
    "collapsed": true
   },
   "outputs": [],
   "source": [
    "probab_class_asc_index_decili.write.parquet(path_prediction_adobe_general)"
   ]
  },
  {
   "cell_type": "markdown",
   "metadata": {},
   "source": [
    "## Modello Fan"
   ]
  },
  {
   "cell_type": "code",
   "execution_count": 66,
   "metadata": {
    "collapsed": true
   },
   "outputs": [],
   "source": [
    "predictions_class_fan = model_fan.transform(final)"
   ]
  },
  {
   "cell_type": "code",
   "execution_count": 67,
   "metadata": {
    "scrolled": true
   },
   "outputs": [
    {
     "name": "stdout",
     "output_type": "stream",
     "text": [
      "+--------------------+--------------------+\n",
      "|         probability|              prob_1|\n",
      "+--------------------+--------------------+\n",
      "|[0.98626333306061...|[0.01373666693938...|\n",
      "|[0.95746011261729...|[0.04253988738270...|\n",
      "|[0.98797684544714...|[0.01202315455285...|\n",
      "|[0.00111164964677...|[0.9988883503532285]|\n",
      "|[0.98626333306061...|[0.01373666693938...|\n",
      "|[0.98040745897271...|[0.01959254102728...|\n",
      "|[0.98835734910502...|[0.01164265089497...|\n",
      "|[0.97159728402143...|[0.02840271597856...|\n",
      "|[0.98626333306061...|[0.01373666693938...|\n",
      "|[0.25973246995475...|[0.7402675300452404]|\n",
      "|[0.98626333306061...|[0.01373666693938...|\n",
      "|[0.98822094164736...|[0.01177905835263...|\n",
      "|[0.98484912259179...|[0.01515087740820...|\n",
      "|[0.00134090345320...|[0.9986590965467925]|\n",
      "|[0.98513369800456...|[0.01486630199543...|\n",
      "|[0.97350402417989...|[0.02649597582010...|\n",
      "|[0.98591553911719...|[0.01408446088280...|\n",
      "|[0.98822094164736...|[0.01177905835263...|\n",
      "|[0.98346855717250...|[0.0165314428274928]|\n",
      "|[0.97154641559314...|[0.02845358440685...|\n",
      "+--------------------+--------------------+\n",
      "only showing top 20 rows\n",
      "\n"
     ]
    }
   ],
   "source": [
    "from pyspark.ml.feature import VectorSlicer\n",
    "\n",
    "slicer = VectorSlicer(inputCol=\"probability\", outputCol=\"prob_1\", indices=[1])\n",
    "\n",
    "predictions_class_fan = slicer.transform(predictions_class_fan)\n",
    "\n",
    "predictions_class_fan.select(\"probability\", \"prob_1\").show()"
   ]
  },
  {
   "cell_type": "markdown",
   "metadata": {},
   "source": [
    "### Unione 0 con predictions modello fan"
   ]
  },
  {
   "cell_type": "code",
   "execution_count": 68,
   "metadata": {
    "collapsed": true
   },
   "outputs": [],
   "source": [
    "predictions_class_fan1 = predictions_class_fan.drop('features', 'rawPrediction', 'probability', 'prediction',\"social_network_class_vec\", \"tipo_device_class_vec\", \"ricorrenza_corporate_class_vec\", \"ricorrenza_tg24_class_vec\", \"ricorrenza_sport_class_vec\",\n",
    "                      \"ricorrenza_appgtv_class_vec\", \"ricorrenza_appxfactor_class_vec\", \"ricorrenza_appsport_class_vec\", \"ricorrenza_appwsc_class_vec\",\n",
    "                      \"ricorrenza_corporate_appwsc_appgtv_class_vec\", \"ricorrenza_editoriale_class_vec\", \"ricorrenza_web_class_vec\", \"ricorrenza_app_class_vec\",\n",
    "                      \"ricorrenza_totale_class_vec\", \"social_networkIndex\", \"tipo_deviceIndex\", \"ricorrenza_corporateIndex\", \"ricorrenza_tg24Index\", \"ricorrenza_sportIndex\",\n",
    "                      \"ricorrenza_appgtvIndex\", \"ricorrenza_appxfactorIndex\", \"ricorrenza_appsportIndex\", \"ricorrenza_appwscIndex\",\n",
    "                      \"ricorrenza_corporate_appwsc_appgtvIndex\", \"ricorrenza_editorialeIndex\", \"ricorrenza_webIndex\", \"ricorrenza_appIndex\",\n",
    "                      \"ricorrenza_totaleIndex\")"
   ]
  },
  {
   "cell_type": "code",
   "execution_count": 69,
   "metadata": {
    "collapsed": true
   },
   "outputs": [],
   "source": [
    "predictions_class_fan1.createOrReplaceTempView('predictions_class_fan1')\n",
    "zeri_esclusi.createOrReplaceTempView('zeri_esclusi')"
   ]
  },
  {
   "cell_type": "code",
   "execution_count": 70,
   "metadata": {
    "collapsed": true
   },
   "outputs": [],
   "source": [
    "predictions_finale_fan = spark.sql('select * from predictions_class_fan1 union all select * from zeri_esclusi ')"
   ]
  },
  {
   "cell_type": "code",
   "execution_count": 73,
   "metadata": {},
   "outputs": [],
   "source": [
    "#print(len(zeri_esclusi.columns))"
   ]
  },
  {
   "cell_type": "code",
   "execution_count": 42,
   "metadata": {
    "collapsed": true
   },
   "outputs": [],
   "source": [
    "#col_test = predictions_class_fan1.columns\n",
    "#col_golden_train = zeri_esclusi.columns\n",
    "\n",
    "#print(len(set(col_test).intersection(col_golden_train)))"
   ]
  },
  {
   "cell_type": "code",
   "execution_count": 74,
   "metadata": {
    "collapsed": true
   },
   "outputs": [],
   "source": [
    "predictions_finale_fan.createOrReplaceTempView('predictions_finale_fan')"
   ]
  },
  {
   "cell_type": "code",
   "execution_count": 75,
   "metadata": {
    "collapsed": true
   },
   "outputs": [],
   "source": [
    "probab_class_asc_fan = spark.sql('SELECT ext_id, prob_1 FROM predictions_finale_fan ORDER BY prob_1').persist()"
   ]
  },
  {
   "cell_type": "code",
   "execution_count": 76,
   "metadata": {},
   "outputs": [
    {
     "data": {
      "text/plain": [
       "2685258"
      ]
     },
     "execution_count": 76,
     "metadata": {},
     "output_type": "execute_result"
    }
   ],
   "source": [
    "probab_class_asc_fan.count()"
   ]
  },
  {
   "cell_type": "code",
   "execution_count": 77,
   "metadata": {
    "collapsed": true
   },
   "outputs": [],
   "source": [
    "probab_class_asc_fan.createOrReplaceTempView('probab_class_asc_fan')\n",
    "probab_class_asc_indexed_fan = spark.sql('select row_number() over (order by prob_1) as num, * from probab_class_asc_fan').persist()"
   ]
  },
  {
   "cell_type": "code",
   "execution_count": 78,
   "metadata": {},
   "outputs": [
    {
     "name": "stdout",
     "output_type": "stream",
     "text": [
      "+---+--------------------+------+\n",
      "|num|              ext_id|prob_1|\n",
      "+---+--------------------+------+\n",
      "|  1|000af7cf9f031d944...| [0.0]|\n",
      "|  2|007aec860db466390...| [0.0]|\n",
      "|  3|0108e78bf19103045...| [0.0]|\n",
      "|  4|0134a26feb4bb3c17...| [0.0]|\n",
      "|  5|0135a5014e358751e...| [0.0]|\n",
      "|  6|015e38675ddc30c07...| [0.0]|\n",
      "|  7|017d6fd8b970c21e0...| [0.0]|\n",
      "|  8|01cb6c2809fedbdc1...| [0.0]|\n",
      "|  9|0204eb42b757e4074...| [0.0]|\n",
      "| 10|0206ee97b90d11173...| [0.0]|\n",
      "| 11|02ac6835b22e5a60e...| [0.0]|\n",
      "| 12|02eb8d789de8e9f8f...| [0.0]|\n",
      "| 13|0322deefead0c156c...| [0.0]|\n",
      "| 14|03dd69ddef2cdded5...| [0.0]|\n",
      "| 15|03ef6995b537700a0...| [0.0]|\n",
      "| 16|041f3b44b13160570...| [0.0]|\n",
      "| 17|04a187bb512105517...| [0.0]|\n",
      "| 18|04ccc4e4b28d2dadb...| [0.0]|\n",
      "| 19|057224590e1bab985...| [0.0]|\n",
      "| 20|05cf4cf8e908f6806...| [0.0]|\n",
      "| 21|05d2e5a6f50b13627...| [0.0]|\n",
      "| 22|05fd8d454f61db606...| [0.0]|\n",
      "| 23|060beffbebea1b57a...| [0.0]|\n",
      "| 24|07161049c143454be...| [0.0]|\n",
      "| 25|075186bb24c029b9f...| [0.0]|\n",
      "| 26|0795bca7fb8efd86e...| [0.0]|\n",
      "| 27|0867e2694ef543bd9...| [0.0]|\n",
      "| 28|088147c57c962b835...| [0.0]|\n",
      "| 29|0886bacb035292dc8...| [0.0]|\n",
      "| 30|08b25d95040f34964...| [0.0]|\n",
      "| 31|08e3b41c4fdd6633a...| [0.0]|\n",
      "| 32|09b85753d8f33f7d5...| [0.0]|\n",
      "| 33|09f5da0368361ac88...| [0.0]|\n",
      "| 34|0a010d8ce0c974a59...| [0.0]|\n",
      "| 35|0a63590f0dd4fd6a4...| [0.0]|\n",
      "| 36|0aab1f61f6a32155b...| [0.0]|\n",
      "| 37|0abef5cbc89069aeb...| [0.0]|\n",
      "| 38|0ac0f80b231426ff5...| [0.0]|\n",
      "| 39|0b059397dbc4902d8...| [0.0]|\n",
      "| 40|0b82186440005525f...| [0.0]|\n",
      "| 41|0cd3a210dcbc9eca1...| [0.0]|\n",
      "| 42|0d663d2d3215159de...| [0.0]|\n",
      "| 43|0d8a6df5bb2bce82c...| [0.0]|\n",
      "| 44|0da3b8ecc18bf4fad...| [0.0]|\n",
      "| 45|0ddc1d2b14460c060...| [0.0]|\n",
      "| 46|0dfb55df5de4a632d...| [0.0]|\n",
      "| 47|0e67838da1c728485...| [0.0]|\n",
      "| 48|0e7b0fd447daaa0d5...| [0.0]|\n",
      "| 49|0e8a5d9166ee133e1...| [0.0]|\n",
      "| 50|0f0323ec66a074d70...| [0.0]|\n",
      "| 51|0f135cb920b8cd97f...| [0.0]|\n",
      "| 52|0f49ed0681cfa86de...| [0.0]|\n",
      "| 53|0f67319a2efcace7f...| [0.0]|\n",
      "| 54|0f7f586cff98da6f9...| [0.0]|\n",
      "| 55|0fbff5f5acc69be53...| [0.0]|\n",
      "| 56|0fff0970bd299d37e...| [0.0]|\n",
      "| 57|10029417aa8f099b1...| [0.0]|\n",
      "| 58|10afee17925b7a02c...| [0.0]|\n",
      "| 59|10b4f0dea066b3d1f...| [0.0]|\n",
      "| 60|110fc814f0c641b9b...| [0.0]|\n",
      "| 61|1128894edb9ce8228...| [0.0]|\n",
      "| 62|11e9a96bd28f6fd04...| [0.0]|\n",
      "| 63|1225afc45875d853b...| [0.0]|\n",
      "| 64|124d16dba35475b86...| [0.0]|\n",
      "| 65|1269ce6b32641753c...| [0.0]|\n",
      "| 66|127c1b10c9fd40290...| [0.0]|\n",
      "| 67|12ca68915c8858222...| [0.0]|\n",
      "| 68|12dab767226c3b878...| [0.0]|\n",
      "| 69|131c54df11b036361...| [0.0]|\n",
      "| 70|133769ddd797df23f...| [0.0]|\n",
      "| 71|138e63419d7e88965...| [0.0]|\n",
      "| 72|139a48e45ee2dcdb4...| [0.0]|\n",
      "| 73|13c860c902273a1a2...| [0.0]|\n",
      "| 74|141b2c5c73777a7a9...| [0.0]|\n",
      "| 75|1433ec3a2d2349e8a...| [0.0]|\n",
      "| 76|1488a01c87449dd79...| [0.0]|\n",
      "| 77|1491f35a895d2ab5d...| [0.0]|\n",
      "| 78|14d56f072bd54ed5d...| [0.0]|\n",
      "| 79|14e9528e55d6f40ab...| [0.0]|\n",
      "| 80|14f8f826e7178d790...| [0.0]|\n",
      "| 81|1509d6a85f3bc3199...| [0.0]|\n",
      "| 82|15376f487aefcd310...| [0.0]|\n",
      "| 83|15543f7dbd5e7fb88...| [0.0]|\n",
      "| 84|159eb00c0261c6d90...| [0.0]|\n",
      "| 85|15c50a8bba90e3bf7...| [0.0]|\n",
      "| 86|1602a85aad70c20dc...| [0.0]|\n",
      "| 87|1655e773afba578f0...| [0.0]|\n",
      "| 88|165fcb303b2fafeee...| [0.0]|\n",
      "| 89|16a4927518b9c8cfe...| [0.0]|\n",
      "| 90|16cc7fec1f99b619d...| [0.0]|\n",
      "| 91|1779d084b4f3018c7...| [0.0]|\n",
      "| 92|17b39dfa361884cf8...| [0.0]|\n",
      "| 93|1827b239ab6c61c73...| [0.0]|\n",
      "| 94|1839c5f6f9efe9d20...| [0.0]|\n",
      "| 95|183eed62f4284586d...| [0.0]|\n",
      "| 96|184d00d74964aab29...| [0.0]|\n",
      "| 97|18d0ba41c98d17a9a...| [0.0]|\n",
      "| 98|19069df60e047e70e...| [0.0]|\n",
      "| 99|19bb978a75d18f586...| [0.0]|\n",
      "|100|19d1c77a3566ba965...| [0.0]|\n",
      "+---+--------------------+------+\n",
      "only showing top 100 rows\n",
      "\n"
     ]
    }
   ],
   "source": [
    "probab_class_asc_indexed_fan.show(100)"
   ]
  },
  {
   "cell_type": "code",
   "execution_count": 80,
   "metadata": {},
   "outputs": [
    {
     "name": "stdout",
     "output_type": "stream",
     "text": [
      "268525\n"
     ]
    }
   ],
   "source": [
    "# Inserisco la lunghezza del dataset per calcolare i decili:\n",
    "lung = int(probab_class_asc_fan.count()/10)\n",
    "print(lung)\n",
    "probab_class_asc_indexed_fan_2 = probab_class_asc_indexed_fan.withColumn('lunghezza', lit(lung))"
   ]
  },
  {
   "cell_type": "code",
   "execution_count": 81,
   "metadata": {
    "collapsed": true
   },
   "outputs": [],
   "source": [
    "probab_class_asc_indexed_fan_2.createOrReplaceTempView('probab_class_asc_indexed_fan_2')"
   ]
  },
  {
   "cell_type": "code",
   "execution_count": 82,
   "metadata": {
    "collapsed": true
   },
   "outputs": [],
   "source": [
    "probab_class_asc_index_decili_fan = spark.sql('SELECT *, CASE WHEN (num between 0 and lunghezza) THEN 1 WHEN (num between lunghezza and lunghezza*2) THEN 2 WHEN (num between lunghezza*2 and lunghezza*3) THEN 3 WHEN (num between lunghezza*3 and lunghezza*4) THEN 4 WHEN (num between lunghezza*4 and lunghezza*5) THEN 5 WHEN (num between lunghezza*5 and lunghezza*6) THEN 6 WHEN (num between lunghezza*6 and lunghezza*7) THEN 7 WHEN (num between lunghezza*7 and lunghezza*8) THEN 8 WHEN (num between lunghezza*8 and lunghezza*9) THEN 9 WHEN (num > lunghezza*9) THEN 10 ELSE NULL END AS decile FROM probab_class_asc_indexed_fan_2')"
   ]
  },
  {
   "cell_type": "code",
   "execution_count": 83,
   "metadata": {},
   "outputs": [
    {
     "name": "stdout",
     "output_type": "stream",
     "text": [
      "+---+------------------------------------------------+------+---------+------+\n",
      "|num|ext_id                                          |prob_1|lunghezza|decile|\n",
      "+---+------------------------------------------------+------+---------+------+\n",
      "|1  |000af7cf9f031d9448eca6d5d55f74f50cf833fc3d7f7f29|[0.0] |268525   |1     |\n",
      "|2  |007aec860db4663901bdf1f0c704d84581d9a0b4d939cb46|[0.0] |268525   |1     |\n",
      "|3  |0108e78bf19103045d1fda46e3415131632a0401adc95257|[0.0] |268525   |1     |\n",
      "|4  |0134a26feb4bb3c17cd56b429b904449022c22180419de56|[0.0] |268525   |1     |\n",
      "|5  |0135a5014e358751e080b2d1b3d20a934548b44cc408555c|[0.0] |268525   |1     |\n",
      "|6  |015e38675ddc30c0706ddd1d6046a275ff516e9a5ee52075|[0.0] |268525   |1     |\n",
      "|7  |017d6fd8b970c21e0c7ccf419cad1bea5b85b1421b5bd873|[0.0] |268525   |1     |\n",
      "|8  |01cb6c2809fedbdc16186a988b6270f8c65494ae1e434026|[0.0] |268525   |1     |\n",
      "|9  |0204eb42b757e40744b2ac0f1acb8154fae6c3aee45d2a7a|[0.0] |268525   |1     |\n",
      "|10 |0206ee97b90d11173f6b04f40263606b610f0401e765057d|[0.0] |268525   |1     |\n",
      "|11 |02ac6835b22e5a60ee217329d3234d1d45ef4b3cbae876bd|[0.0] |268525   |1     |\n",
      "|12 |02eb8d789de8e9f8f8818271878f9e16bb0bcfd6b0c540b2|[0.0] |268525   |1     |\n",
      "|13 |0322deefead0c156c030f8e04a4687780cd29a3f6c26daf4|[0.0] |268525   |1     |\n",
      "|14 |03dd69ddef2cdded5ef7fb9eccb5f39fff1bdfb3967f6e5f|[0.0] |268525   |1     |\n",
      "|15 |03ef6995b537700a0fba3dd6047954076a70027e761d1964|[0.0] |268525   |1     |\n",
      "|16 |041f3b44b131605708695df573a03c7c9dfce0e6ad97d956|[0.0] |268525   |1     |\n",
      "|17 |04a187bb512105517842a2bcc52ced5ea59c8d9a4e5f285c|[0.0] |268525   |1     |\n",
      "|18 |04ccc4e4b28d2dadb7d5165aa7f6d307238d3a17b1739bbe|[0.0] |268525   |1     |\n",
      "|19 |057224590e1bab9855e101c7fa1c2a27bb4207532e7826ff|[0.0] |268525   |1     |\n",
      "|20 |05cf4cf8e908f68066eeb195333f9c3d3be1e257d3e90c19|[0.0] |268525   |1     |\n",
      "|21 |05d2e5a6f50b1362744b57a82cfbf4bee1b853ff3f4c2638|[0.0] |268525   |1     |\n",
      "|22 |05fd8d454f61db60660b82e6b772f8c6612d35d1a190b1e2|[0.0] |268525   |1     |\n",
      "|23 |060beffbebea1b57a58b09227583c7d3834838b8ba8f1203|[0.0] |268525   |1     |\n",
      "|24 |07161049c143454becdae48d83bef9541e9bdeebe1357f7b|[0.0] |268525   |1     |\n",
      "|25 |075186bb24c029b9f2b9be259668554a68ef2c84615278ab|[0.0] |268525   |1     |\n",
      "|26 |0795bca7fb8efd86e8d57038df9f8eebfb980f8b38140c8c|[0.0] |268525   |1     |\n",
      "|27 |0867e2694ef543bd975047d6b5730458333eccd8554a0999|[0.0] |268525   |1     |\n",
      "|28 |088147c57c962b835bf1a315cc1cba8704f27d17d5c175b8|[0.0] |268525   |1     |\n",
      "|29 |0886bacb035292dc8dae71ff82f0f7864c24b577840f7b55|[0.0] |268525   |1     |\n",
      "|30 |08b25d95040f349645494da618dcfa8c62fb0b6fa3e3e454|[0.0] |268525   |1     |\n",
      "|31 |08e3b41c4fdd6633ac02401bac8b8c5f8a96ab61e98c85d1|[0.0] |268525   |1     |\n",
      "|32 |09b85753d8f33f7d50a9d796d2e4e3f4ef2367879593c952|[0.0] |268525   |1     |\n",
      "|33 |09f5da0368361ac88a5e19fec2d759946c2367dbcce7004b|[0.0] |268525   |1     |\n",
      "|34 |0a010d8ce0c974a597d924fc8a47087dd11c27d1d52f1347|[0.0] |268525   |1     |\n",
      "|35 |0a63590f0dd4fd6a47ac5678628f848dc7f7f0947cf22f5c|[0.0] |268525   |1     |\n",
      "|36 |0aab1f61f6a32155ba5df927f519c81b69fe1f7ce1147c79|[0.0] |268525   |1     |\n",
      "|37 |0abef5cbc89069aeb8d0964144255589b636947568b02081|[0.0] |268525   |1     |\n",
      "|38 |0ac0f80b231426ff56bb18903e5b13183d417c8ab2fbcc55|[0.0] |268525   |1     |\n",
      "|39 |0b059397dbc4902d8cd967a3cf793bfb5243852557f7fe07|[0.0] |268525   |1     |\n",
      "|40 |0b82186440005525f83044eae575492bb1b2b9804a9525cb|[0.0] |268525   |1     |\n",
      "|41 |0cd3a210dcbc9eca1b29fbe8e3e3b78f0f0e03bd0a6d3a52|[0.0] |268525   |1     |\n",
      "|42 |0d663d2d3215159dee9c1d9ebba5d453da2de468e2f75796|[0.0] |268525   |1     |\n",
      "|43 |0d8a6df5bb2bce82c15f8161e87ee17ca27427097871f0f4|[0.0] |268525   |1     |\n",
      "|44 |0da3b8ecc18bf4fadaaffe40f258295bfe0215f9bf620df9|[0.0] |268525   |1     |\n",
      "|45 |0ddc1d2b14460c0603f7590b116d44633d591a51a3e71b2b|[0.0] |268525   |1     |\n",
      "|46 |0dfb55df5de4a632d66d6c44c9ddcf4afdb2905185f7e5af|[0.0] |268525   |1     |\n",
      "|47 |0e67838da1c728485fcc258202f9a593ef7e746950520032|[0.0] |268525   |1     |\n",
      "|48 |0e7b0fd447daaa0d59600b7acdd99d82cea27020945e2aa2|[0.0] |268525   |1     |\n",
      "|49 |0e8a5d9166ee133e17655b45d654be9b7d48116314f69584|[0.0] |268525   |1     |\n",
      "|50 |0f0323ec66a074d70b2c3b3f59a0c629878381b9c7816ade|[0.0] |268525   |1     |\n",
      "|51 |0f135cb920b8cd97f429883350345b523eb0054eafcd6d5d|[0.0] |268525   |1     |\n",
      "|52 |0f49ed0681cfa86de71dc2d26153112ecf505cc52f10f9bb|[0.0] |268525   |1     |\n",
      "|53 |0f67319a2efcace7f0d69407fe9bb070e70f2595f7205826|[0.0] |268525   |1     |\n",
      "|54 |0f7f586cff98da6f90e80fd70d873e8d8df60c2030e52f3d|[0.0] |268525   |1     |\n",
      "|55 |0fbff5f5acc69be536b6569ec87b31504017eed066d6f165|[0.0] |268525   |1     |\n",
      "|56 |0fff0970bd299d37e735f1f6aa4810131675cfb23160c3bd|[0.0] |268525   |1     |\n",
      "|57 |10029417aa8f099b119eb322d6af13b9b774dfd1067f2b4d|[0.0] |268525   |1     |\n",
      "|58 |10afee17925b7a02c84af8cdfcc302a143e7cfe9ba77528e|[0.0] |268525   |1     |\n",
      "|59 |10b4f0dea066b3d1fe34964c4f04e62b6dd354e0326ea2c2|[0.0] |268525   |1     |\n",
      "|60 |110fc814f0c641b9b58ff2019aacc102d056c98df4fd2dad|[0.0] |268525   |1     |\n",
      "|61 |1128894edb9ce8228c1a533f0ef8229fddea22509f659a0c|[0.0] |268525   |1     |\n",
      "|62 |11e9a96bd28f6fd047dd27d7f7e29759eab251a1e7fef434|[0.0] |268525   |1     |\n",
      "|63 |1225afc45875d853bb011a53d219d173b2ea261a2a4914da|[0.0] |268525   |1     |\n",
      "|64 |124d16dba35475b86c3fac46e1771c0dd13f8a05ef2a0df8|[0.0] |268525   |1     |\n",
      "|65 |1269ce6b32641753c2356e72dbf9d00dd817a1c81502d273|[0.0] |268525   |1     |\n",
      "|66 |127c1b10c9fd40290c1c02b65e39ae7ac7ec1290398b05e0|[0.0] |268525   |1     |\n",
      "|67 |12ca68915c8858222e2e475e847c414de196b45d90b460c0|[0.0] |268525   |1     |\n",
      "|68 |12dab767226c3b878b2621dd739a47cbcffe61bc01fcea16|[0.0] |268525   |1     |\n",
      "|69 |131c54df11b036361b575e8abfcc43d37e1b00bdc175036d|[0.0] |268525   |1     |\n",
      "|70 |133769ddd797df23f5e90cb59288f902874caf32e40dd2e6|[0.0] |268525   |1     |\n",
      "|71 |138e63419d7e88965a41a4ad1a140350966db336068d2c76|[0.0] |268525   |1     |\n",
      "|72 |139a48e45ee2dcdb4c3845b36eaee215fbe6c1a86cf481dc|[0.0] |268525   |1     |\n",
      "|73 |13c860c902273a1a2c0f85d3b0e0fc76ae61041acafb7bd8|[0.0] |268525   |1     |\n",
      "|74 |141b2c5c73777a7a92208c8e0851086c6f748188d9685be5|[0.0] |268525   |1     |\n",
      "|75 |1433ec3a2d2349e8a0deadc8dbcc433e7921d94c6399bc24|[0.0] |268525   |1     |\n",
      "|76 |1488a01c87449dd79c9a00ba15784a720d28ca27ec84c24b|[0.0] |268525   |1     |\n",
      "|77 |1491f35a895d2ab5d88fcea06cc261f42ec254793166cf89|[0.0] |268525   |1     |\n",
      "|78 |14d56f072bd54ed5dd6f02397d207219f661456ba5de1585|[0.0] |268525   |1     |\n",
      "|79 |14e9528e55d6f40ab55ee0d2291a4b88c82379e1344b71c4|[0.0] |268525   |1     |\n",
      "|80 |14f8f826e7178d7905a8fca1bf5ee2e07a7ecc3c635ea9ce|[0.0] |268525   |1     |\n",
      "|81 |1509d6a85f3bc3199917fa5166c9f04b566931e9fe5d1c5b|[0.0] |268525   |1     |\n",
      "|82 |15376f487aefcd310b44d3c60a198e28ad7abf0eae425b6d|[0.0] |268525   |1     |\n",
      "|83 |15543f7dbd5e7fb88453030f0d58a8c6ed0b73a2a908fa39|[0.0] |268525   |1     |\n",
      "|84 |159eb00c0261c6d904f833a97bf46ef1eff0b0310fa8865a|[0.0] |268525   |1     |\n",
      "|85 |15c50a8bba90e3bf78346f127775e03ea400fd0bb548b104|[0.0] |268525   |1     |\n",
      "|86 |1602a85aad70c20dce7d0c9ceb00ff4e7ef2bbb3777e884e|[0.0] |268525   |1     |\n",
      "|87 |1655e773afba578f0326cf5a3d8ad40f3e30ca804888010e|[0.0] |268525   |1     |\n",
      "|88 |165fcb303b2fafeeefbd0360e030499c9505529aa007462f|[0.0] |268525   |1     |\n",
      "|89 |16a4927518b9c8cfea2d6a9356c008db6ada04d49b99cab1|[0.0] |268525   |1     |\n",
      "|90 |16cc7fec1f99b619d6f600aa6feea59b26c2f35ed9a4914f|[0.0] |268525   |1     |\n",
      "|91 |1779d084b4f3018c70bc0e0173f45c533260c8f46223a63d|[0.0] |268525   |1     |\n",
      "|92 |17b39dfa361884cf88e70bf73be8e9806fa74fac8bd8a68f|[0.0] |268525   |1     |\n",
      "|93 |1827b239ab6c61c73b2a2c2ea9941f8aef2fdbf3351049a8|[0.0] |268525   |1     |\n",
      "|94 |1839c5f6f9efe9d2075773d3dd9c1167b948cac1a4455ffe|[0.0] |268525   |1     |\n",
      "|95 |183eed62f4284586dd5da98e1e98944b1b27f1f564fe8b6d|[0.0] |268525   |1     |\n",
      "|96 |184d00d74964aab296313596e0f7f62fd2d29ad008d7cf9f|[0.0] |268525   |1     |\n",
      "|97 |18d0ba41c98d17a9a88557f735b0e9fbda0ff6044de3e962|[0.0] |268525   |1     |\n",
      "|98 |19069df60e047e70e29ccd37100c78c9222544f10be3c337|[0.0] |268525   |1     |\n",
      "|99 |19bb978a75d18f586d8dc61af91e6b5a9cc5209e1e8f4d58|[0.0] |268525   |1     |\n",
      "|100|19d1c77a3566ba965d23de14c274f69bc7cd4ba58801c2e3|[0.0] |268525   |1     |\n",
      "+---+------------------------------------------------+------+---------+------+\n",
      "only showing top 100 rows\n",
      "\n"
     ]
    }
   ],
   "source": [
    "probab_class_asc_index_decili_fan.show(100, False)"
   ]
  },
  {
   "cell_type": "code",
   "execution_count": 85,
   "metadata": {
    "collapsed": true
   },
   "outputs": [],
   "source": [
    "probab_class_asc_index_decili_fan.write.parquet(path_prediction_adobe_fan)"
   ]
  },
  {
   "cell_type": "markdown",
   "metadata": {},
   "source": [
    "## Modello Social"
   ]
  },
  {
   "cell_type": "code",
   "execution_count": 86,
   "metadata": {
    "collapsed": true
   },
   "outputs": [],
   "source": [
    "predictions_class_social = model_social.transform(final)"
   ]
  },
  {
   "cell_type": "code",
   "execution_count": 87,
   "metadata": {
    "scrolled": true
   },
   "outputs": [
    {
     "name": "stdout",
     "output_type": "stream",
     "text": [
      "+--------------------+--------------------+\n",
      "|         probability|              prob_1|\n",
      "+--------------------+--------------------+\n",
      "|[0.97314776771025...|[0.02685223228974...|\n",
      "|[0.83051466782265...|[0.16948533217734...|\n",
      "|[0.99302110753418...|[0.00697889246581...|\n",
      "|[8.98219854709978...|[0.9991017801452899]|\n",
      "|[0.99316274335839...|[0.00683725664160...|\n",
      "|[0.99015338541926...|[0.00984661458073...|\n",
      "|[0.99323383217814...|[0.00676616782186...|\n",
      "|[0.97180375772839...|[0.02819624227160...|\n",
      "|[0.99316274335839...|[0.00683725664160...|\n",
      "|[0.05897904032012...|[0.9410209596798715]|\n",
      "|[0.99316274335839...|[0.00683725664160...|\n",
      "|[0.97435071489585...|[0.02564928510414...|\n",
      "|[0.96723606364133...|[0.03276393635866...|\n",
      "|[0.36232397016843...|[0.6376760298315672]|\n",
      "|[0.96164213790644...|[0.03835786209355...|\n",
      "|[0.99321358378376...|[0.00678641621623...|\n",
      "|[0.96822926844963...|[0.03177073155036...|\n",
      "|[0.97435071489585...|[0.02564928510414...|\n",
      "|[0.95485420417318...|[0.04514579582681...|\n",
      "|[0.99316274335839...|[0.00683725664160...|\n",
      "+--------------------+--------------------+\n",
      "only showing top 20 rows\n",
      "\n"
     ]
    }
   ],
   "source": [
    "from pyspark.ml.feature import VectorSlicer\n",
    "\n",
    "slicer = VectorSlicer(inputCol=\"probability\", outputCol=\"prob_1\", indices=[1])\n",
    "\n",
    "predictions_class_social = slicer.transform(predictions_class_social)\n",
    "\n",
    "predictions_class_social.select(\"probability\", \"prob_1\").show()"
   ]
  },
  {
   "cell_type": "markdown",
   "metadata": {},
   "source": [
    "### Unione 0 con predictions modello social"
   ]
  },
  {
   "cell_type": "code",
   "execution_count": 89,
   "metadata": {
    "collapsed": true
   },
   "outputs": [],
   "source": [
    "predictions_class_social1 = predictions_class_social.drop('features', 'rawPrediction', 'probability', 'prediction',\"social_network_class_vec\", \"tipo_device_class_vec\", \"ricorrenza_corporate_class_vec\", \"ricorrenza_tg24_class_vec\", \"ricorrenza_sport_class_vec\",\n",
    "                      \"ricorrenza_appgtv_class_vec\", \"ricorrenza_appxfactor_class_vec\", \"ricorrenza_appsport_class_vec\", \"ricorrenza_appwsc_class_vec\",\n",
    "                      \"ricorrenza_corporate_appwsc_appgtv_class_vec\", \"ricorrenza_editoriale_class_vec\", \"ricorrenza_web_class_vec\", \"ricorrenza_app_class_vec\",\n",
    "                      \"ricorrenza_totale_class_vec\", \"social_networkIndex\", \"tipo_deviceIndex\", \"ricorrenza_corporateIndex\", \"ricorrenza_tg24Index\", \"ricorrenza_sportIndex\",\n",
    "                      \"ricorrenza_appgtvIndex\", \"ricorrenza_appxfactorIndex\", \"ricorrenza_appsportIndex\", \"ricorrenza_appwscIndex\",\n",
    "                      \"ricorrenza_corporate_appwsc_appgtvIndex\", \"ricorrenza_editorialeIndex\", \"ricorrenza_webIndex\", \"ricorrenza_appIndex\",\n",
    "                      \"ricorrenza_totaleIndex\")"
   ]
  },
  {
   "cell_type": "code",
   "execution_count": 90,
   "metadata": {
    "collapsed": true
   },
   "outputs": [],
   "source": [
    "predictions_class_social1.createOrReplaceTempView('predictions_class_social1')\n",
    "zeri_esclusi.createOrReplaceTempView('zeri_esclusi')"
   ]
  },
  {
   "cell_type": "code",
   "execution_count": 91,
   "metadata": {
    "collapsed": true
   },
   "outputs": [],
   "source": [
    "predictions_finale_social = spark.sql('select * from predictions_class_social1 union all select * from zeri_esclusi ')"
   ]
  },
  {
   "cell_type": "code",
   "execution_count": 94,
   "metadata": {},
   "outputs": [],
   "source": [
    "#print(len(zeri_esclusi.columns))"
   ]
  },
  {
   "cell_type": "code",
   "execution_count": 58,
   "metadata": {
    "collapsed": true
   },
   "outputs": [],
   "source": [
    "#col_test = predictions_class_social1.columns\n",
    "#col_golden_train = zeri_esclusi.columns\n",
    "\n",
    "#print(len(set(col_test).intersection(col_golden_train)))"
   ]
  },
  {
   "cell_type": "code",
   "execution_count": 95,
   "metadata": {
    "collapsed": true
   },
   "outputs": [],
   "source": [
    "predictions_finale_social.createOrReplaceTempView('predictions_finale_social')"
   ]
  },
  {
   "cell_type": "code",
   "execution_count": 96,
   "metadata": {
    "collapsed": true
   },
   "outputs": [],
   "source": [
    "probab_class_asc_social = spark.sql('SELECT ext_id, prob_1 FROM predictions_finale_social ORDER BY prob_1').persist()"
   ]
  },
  {
   "cell_type": "code",
   "execution_count": 97,
   "metadata": {},
   "outputs": [
    {
     "data": {
      "text/plain": [
       "2685258"
      ]
     },
     "execution_count": 97,
     "metadata": {},
     "output_type": "execute_result"
    }
   ],
   "source": [
    "probab_class_asc_social.count()"
   ]
  },
  {
   "cell_type": "code",
   "execution_count": 98,
   "metadata": {
    "collapsed": true
   },
   "outputs": [],
   "source": [
    "probab_class_asc_social.createOrReplaceTempView('probab_class_asc_social')\n",
    "probab_class_asc_indexed_social = spark.sql('select row_number() over (order by prob_1) as num, * from probab_class_asc_social').persist()"
   ]
  },
  {
   "cell_type": "code",
   "execution_count": 99,
   "metadata": {},
   "outputs": [
    {
     "name": "stdout",
     "output_type": "stream",
     "text": [
      "+---+--------------------+------+\n",
      "|num|              ext_id|prob_1|\n",
      "+---+--------------------+------+\n",
      "|  1|000af7cf9f031d944...| [0.0]|\n",
      "|  2|007aec860db466390...| [0.0]|\n",
      "|  3|0108e78bf19103045...| [0.0]|\n",
      "|  4|0134a26feb4bb3c17...| [0.0]|\n",
      "|  5|0135a5014e358751e...| [0.0]|\n",
      "|  6|015e38675ddc30c07...| [0.0]|\n",
      "|  7|017d6fd8b970c21e0...| [0.0]|\n",
      "|  8|01cb6c2809fedbdc1...| [0.0]|\n",
      "|  9|0204eb42b757e4074...| [0.0]|\n",
      "| 10|0206ee97b90d11173...| [0.0]|\n",
      "| 11|02ac6835b22e5a60e...| [0.0]|\n",
      "| 12|02eb8d789de8e9f8f...| [0.0]|\n",
      "| 13|0322deefead0c156c...| [0.0]|\n",
      "| 14|03dd69ddef2cdded5...| [0.0]|\n",
      "| 15|03ef6995b537700a0...| [0.0]|\n",
      "| 16|041f3b44b13160570...| [0.0]|\n",
      "| 17|04a187bb512105517...| [0.0]|\n",
      "| 18|04ccc4e4b28d2dadb...| [0.0]|\n",
      "| 19|057224590e1bab985...| [0.0]|\n",
      "| 20|05cf4cf8e908f6806...| [0.0]|\n",
      "| 21|05d2e5a6f50b13627...| [0.0]|\n",
      "| 22|05fd8d454f61db606...| [0.0]|\n",
      "| 23|060beffbebea1b57a...| [0.0]|\n",
      "| 24|07161049c143454be...| [0.0]|\n",
      "| 25|075186bb24c029b9f...| [0.0]|\n",
      "| 26|0795bca7fb8efd86e...| [0.0]|\n",
      "| 27|0867e2694ef543bd9...| [0.0]|\n",
      "| 28|088147c57c962b835...| [0.0]|\n",
      "| 29|0886bacb035292dc8...| [0.0]|\n",
      "| 30|08b25d95040f34964...| [0.0]|\n",
      "| 31|08e3b41c4fdd6633a...| [0.0]|\n",
      "| 32|09b85753d8f33f7d5...| [0.0]|\n",
      "| 33|09f5da0368361ac88...| [0.0]|\n",
      "| 34|0a010d8ce0c974a59...| [0.0]|\n",
      "| 35|0a63590f0dd4fd6a4...| [0.0]|\n",
      "| 36|0aab1f61f6a32155b...| [0.0]|\n",
      "| 37|0abef5cbc89069aeb...| [0.0]|\n",
      "| 38|0ac0f80b231426ff5...| [0.0]|\n",
      "| 39|0b059397dbc4902d8...| [0.0]|\n",
      "| 40|0b82186440005525f...| [0.0]|\n",
      "| 41|0cd3a210dcbc9eca1...| [0.0]|\n",
      "| 42|0d663d2d3215159de...| [0.0]|\n",
      "| 43|0d8a6df5bb2bce82c...| [0.0]|\n",
      "| 44|0da3b8ecc18bf4fad...| [0.0]|\n",
      "| 45|0ddc1d2b14460c060...| [0.0]|\n",
      "| 46|0dfb55df5de4a632d...| [0.0]|\n",
      "| 47|0e67838da1c728485...| [0.0]|\n",
      "| 48|0e7b0fd447daaa0d5...| [0.0]|\n",
      "| 49|0e8a5d9166ee133e1...| [0.0]|\n",
      "| 50|0f0323ec66a074d70...| [0.0]|\n",
      "| 51|0f135cb920b8cd97f...| [0.0]|\n",
      "| 52|0f49ed0681cfa86de...| [0.0]|\n",
      "| 53|0f67319a2efcace7f...| [0.0]|\n",
      "| 54|0f7f586cff98da6f9...| [0.0]|\n",
      "| 55|0fbff5f5acc69be53...| [0.0]|\n",
      "| 56|0fff0970bd299d37e...| [0.0]|\n",
      "| 57|10029417aa8f099b1...| [0.0]|\n",
      "| 58|10afee17925b7a02c...| [0.0]|\n",
      "| 59|10b4f0dea066b3d1f...| [0.0]|\n",
      "| 60|110fc814f0c641b9b...| [0.0]|\n",
      "| 61|1128894edb9ce8228...| [0.0]|\n",
      "| 62|11e9a96bd28f6fd04...| [0.0]|\n",
      "| 63|1225afc45875d853b...| [0.0]|\n",
      "| 64|124d16dba35475b86...| [0.0]|\n",
      "| 65|1269ce6b32641753c...| [0.0]|\n",
      "| 66|127c1b10c9fd40290...| [0.0]|\n",
      "| 67|12ca68915c8858222...| [0.0]|\n",
      "| 68|12dab767226c3b878...| [0.0]|\n",
      "| 69|131c54df11b036361...| [0.0]|\n",
      "| 70|133769ddd797df23f...| [0.0]|\n",
      "| 71|138e63419d7e88965...| [0.0]|\n",
      "| 72|139a48e45ee2dcdb4...| [0.0]|\n",
      "| 73|13c860c902273a1a2...| [0.0]|\n",
      "| 74|141b2c5c73777a7a9...| [0.0]|\n",
      "| 75|1433ec3a2d2349e8a...| [0.0]|\n",
      "| 76|1488a01c87449dd79...| [0.0]|\n",
      "| 77|1491f35a895d2ab5d...| [0.0]|\n",
      "| 78|14d56f072bd54ed5d...| [0.0]|\n",
      "| 79|14e9528e55d6f40ab...| [0.0]|\n",
      "| 80|14f8f826e7178d790...| [0.0]|\n",
      "| 81|1509d6a85f3bc3199...| [0.0]|\n",
      "| 82|15376f487aefcd310...| [0.0]|\n",
      "| 83|15543f7dbd5e7fb88...| [0.0]|\n",
      "| 84|159eb00c0261c6d90...| [0.0]|\n",
      "| 85|15c50a8bba90e3bf7...| [0.0]|\n",
      "| 86|1602a85aad70c20dc...| [0.0]|\n",
      "| 87|1655e773afba578f0...| [0.0]|\n",
      "| 88|165fcb303b2fafeee...| [0.0]|\n",
      "| 89|16a4927518b9c8cfe...| [0.0]|\n",
      "| 90|16cc7fec1f99b619d...| [0.0]|\n",
      "| 91|1779d084b4f3018c7...| [0.0]|\n",
      "| 92|17b39dfa361884cf8...| [0.0]|\n",
      "| 93|1827b239ab6c61c73...| [0.0]|\n",
      "| 94|1839c5f6f9efe9d20...| [0.0]|\n",
      "| 95|183eed62f4284586d...| [0.0]|\n",
      "| 96|184d00d74964aab29...| [0.0]|\n",
      "| 97|18d0ba41c98d17a9a...| [0.0]|\n",
      "| 98|19069df60e047e70e...| [0.0]|\n",
      "| 99|19bb978a75d18f586...| [0.0]|\n",
      "|100|19d1c77a3566ba965...| [0.0]|\n",
      "+---+--------------------+------+\n",
      "only showing top 100 rows\n",
      "\n"
     ]
    }
   ],
   "source": [
    "probab_class_asc_indexed_social.show(100)"
   ]
  },
  {
   "cell_type": "code",
   "execution_count": 100,
   "metadata": {},
   "outputs": [
    {
     "name": "stdout",
     "output_type": "stream",
     "text": [
      "268525\n"
     ]
    }
   ],
   "source": [
    "# Inserisco la lunghezza del dataset per calcolare i decili:\n",
    "lung = int(probab_class_asc_social.count()/10)\n",
    "print(lung)\n",
    "probab_class_asc_indexed_social_2 = probab_class_asc_indexed_social.withColumn('lunghezza', lit(lung))"
   ]
  },
  {
   "cell_type": "code",
   "execution_count": 101,
   "metadata": {
    "collapsed": true
   },
   "outputs": [],
   "source": [
    "probab_class_asc_indexed_social_2.createOrReplaceTempView('probab_class_asc_indexed_social_2')"
   ]
  },
  {
   "cell_type": "code",
   "execution_count": 102,
   "metadata": {
    "collapsed": true
   },
   "outputs": [],
   "source": [
    "probab_class_asc_index_decili_social = spark.sql('SELECT *, CASE WHEN (num between 0 and lunghezza) THEN 1 WHEN (num between lunghezza and lunghezza*2) THEN 2 WHEN (num between lunghezza*2 and lunghezza*3) THEN 3 WHEN (num between lunghezza*3 and lunghezza*4) THEN 4 WHEN (num between lunghezza*4 and lunghezza*5) THEN 5 WHEN (num between lunghezza*5 and lunghezza*6) THEN 6 WHEN (num between lunghezza*6 and lunghezza*7) THEN 7 WHEN (num between lunghezza*7 and lunghezza*8) THEN 8 WHEN (num between lunghezza*8 and lunghezza*9) THEN 9 WHEN (num > lunghezza*9) THEN 10 ELSE NULL END AS decile FROM probab_class_asc_indexed_social_2')"
   ]
  },
  {
   "cell_type": "code",
   "execution_count": 103,
   "metadata": {},
   "outputs": [
    {
     "name": "stdout",
     "output_type": "stream",
     "text": [
      "+---+------------------------------------------------+------+---------+------+\n",
      "|num|ext_id                                          |prob_1|lunghezza|decile|\n",
      "+---+------------------------------------------------+------+---------+------+\n",
      "|1  |000af7cf9f031d9448eca6d5d55f74f50cf833fc3d7f7f29|[0.0] |268525   |1     |\n",
      "|2  |007aec860db4663901bdf1f0c704d84581d9a0b4d939cb46|[0.0] |268525   |1     |\n",
      "|3  |0108e78bf19103045d1fda46e3415131632a0401adc95257|[0.0] |268525   |1     |\n",
      "|4  |0134a26feb4bb3c17cd56b429b904449022c22180419de56|[0.0] |268525   |1     |\n",
      "|5  |0135a5014e358751e080b2d1b3d20a934548b44cc408555c|[0.0] |268525   |1     |\n",
      "|6  |015e38675ddc30c0706ddd1d6046a275ff516e9a5ee52075|[0.0] |268525   |1     |\n",
      "|7  |017d6fd8b970c21e0c7ccf419cad1bea5b85b1421b5bd873|[0.0] |268525   |1     |\n",
      "|8  |01cb6c2809fedbdc16186a988b6270f8c65494ae1e434026|[0.0] |268525   |1     |\n",
      "|9  |0204eb42b757e40744b2ac0f1acb8154fae6c3aee45d2a7a|[0.0] |268525   |1     |\n",
      "|10 |0206ee97b90d11173f6b04f40263606b610f0401e765057d|[0.0] |268525   |1     |\n",
      "|11 |02ac6835b22e5a60ee217329d3234d1d45ef4b3cbae876bd|[0.0] |268525   |1     |\n",
      "|12 |02eb8d789de8e9f8f8818271878f9e16bb0bcfd6b0c540b2|[0.0] |268525   |1     |\n",
      "|13 |0322deefead0c156c030f8e04a4687780cd29a3f6c26daf4|[0.0] |268525   |1     |\n",
      "|14 |03dd69ddef2cdded5ef7fb9eccb5f39fff1bdfb3967f6e5f|[0.0] |268525   |1     |\n",
      "|15 |03ef6995b537700a0fba3dd6047954076a70027e761d1964|[0.0] |268525   |1     |\n",
      "|16 |041f3b44b131605708695df573a03c7c9dfce0e6ad97d956|[0.0] |268525   |1     |\n",
      "|17 |04a187bb512105517842a2bcc52ced5ea59c8d9a4e5f285c|[0.0] |268525   |1     |\n",
      "|18 |04ccc4e4b28d2dadb7d5165aa7f6d307238d3a17b1739bbe|[0.0] |268525   |1     |\n",
      "|19 |057224590e1bab9855e101c7fa1c2a27bb4207532e7826ff|[0.0] |268525   |1     |\n",
      "|20 |05cf4cf8e908f68066eeb195333f9c3d3be1e257d3e90c19|[0.0] |268525   |1     |\n",
      "|21 |05d2e5a6f50b1362744b57a82cfbf4bee1b853ff3f4c2638|[0.0] |268525   |1     |\n",
      "|22 |05fd8d454f61db60660b82e6b772f8c6612d35d1a190b1e2|[0.0] |268525   |1     |\n",
      "|23 |060beffbebea1b57a58b09227583c7d3834838b8ba8f1203|[0.0] |268525   |1     |\n",
      "|24 |07161049c143454becdae48d83bef9541e9bdeebe1357f7b|[0.0] |268525   |1     |\n",
      "|25 |075186bb24c029b9f2b9be259668554a68ef2c84615278ab|[0.0] |268525   |1     |\n",
      "|26 |0795bca7fb8efd86e8d57038df9f8eebfb980f8b38140c8c|[0.0] |268525   |1     |\n",
      "|27 |0867e2694ef543bd975047d6b5730458333eccd8554a0999|[0.0] |268525   |1     |\n",
      "|28 |088147c57c962b835bf1a315cc1cba8704f27d17d5c175b8|[0.0] |268525   |1     |\n",
      "|29 |0886bacb035292dc8dae71ff82f0f7864c24b577840f7b55|[0.0] |268525   |1     |\n",
      "|30 |08b25d95040f349645494da618dcfa8c62fb0b6fa3e3e454|[0.0] |268525   |1     |\n",
      "|31 |08e3b41c4fdd6633ac02401bac8b8c5f8a96ab61e98c85d1|[0.0] |268525   |1     |\n",
      "|32 |09b85753d8f33f7d50a9d796d2e4e3f4ef2367879593c952|[0.0] |268525   |1     |\n",
      "|33 |09f5da0368361ac88a5e19fec2d759946c2367dbcce7004b|[0.0] |268525   |1     |\n",
      "|34 |0a010d8ce0c974a597d924fc8a47087dd11c27d1d52f1347|[0.0] |268525   |1     |\n",
      "|35 |0a63590f0dd4fd6a47ac5678628f848dc7f7f0947cf22f5c|[0.0] |268525   |1     |\n",
      "|36 |0aab1f61f6a32155ba5df927f519c81b69fe1f7ce1147c79|[0.0] |268525   |1     |\n",
      "|37 |0abef5cbc89069aeb8d0964144255589b636947568b02081|[0.0] |268525   |1     |\n",
      "|38 |0ac0f80b231426ff56bb18903e5b13183d417c8ab2fbcc55|[0.0] |268525   |1     |\n",
      "|39 |0b059397dbc4902d8cd967a3cf793bfb5243852557f7fe07|[0.0] |268525   |1     |\n",
      "|40 |0b82186440005525f83044eae575492bb1b2b9804a9525cb|[0.0] |268525   |1     |\n",
      "|41 |0cd3a210dcbc9eca1b29fbe8e3e3b78f0f0e03bd0a6d3a52|[0.0] |268525   |1     |\n",
      "|42 |0d663d2d3215159dee9c1d9ebba5d453da2de468e2f75796|[0.0] |268525   |1     |\n",
      "|43 |0d8a6df5bb2bce82c15f8161e87ee17ca27427097871f0f4|[0.0] |268525   |1     |\n",
      "|44 |0da3b8ecc18bf4fadaaffe40f258295bfe0215f9bf620df9|[0.0] |268525   |1     |\n",
      "|45 |0ddc1d2b14460c0603f7590b116d44633d591a51a3e71b2b|[0.0] |268525   |1     |\n",
      "|46 |0dfb55df5de4a632d66d6c44c9ddcf4afdb2905185f7e5af|[0.0] |268525   |1     |\n",
      "|47 |0e67838da1c728485fcc258202f9a593ef7e746950520032|[0.0] |268525   |1     |\n",
      "|48 |0e7b0fd447daaa0d59600b7acdd99d82cea27020945e2aa2|[0.0] |268525   |1     |\n",
      "|49 |0e8a5d9166ee133e17655b45d654be9b7d48116314f69584|[0.0] |268525   |1     |\n",
      "|50 |0f0323ec66a074d70b2c3b3f59a0c629878381b9c7816ade|[0.0] |268525   |1     |\n",
      "|51 |0f135cb920b8cd97f429883350345b523eb0054eafcd6d5d|[0.0] |268525   |1     |\n",
      "|52 |0f49ed0681cfa86de71dc2d26153112ecf505cc52f10f9bb|[0.0] |268525   |1     |\n",
      "|53 |0f67319a2efcace7f0d69407fe9bb070e70f2595f7205826|[0.0] |268525   |1     |\n",
      "|54 |0f7f586cff98da6f90e80fd70d873e8d8df60c2030e52f3d|[0.0] |268525   |1     |\n",
      "|55 |0fbff5f5acc69be536b6569ec87b31504017eed066d6f165|[0.0] |268525   |1     |\n",
      "|56 |0fff0970bd299d37e735f1f6aa4810131675cfb23160c3bd|[0.0] |268525   |1     |\n",
      "|57 |10029417aa8f099b119eb322d6af13b9b774dfd1067f2b4d|[0.0] |268525   |1     |\n",
      "|58 |10afee17925b7a02c84af8cdfcc302a143e7cfe9ba77528e|[0.0] |268525   |1     |\n",
      "|59 |10b4f0dea066b3d1fe34964c4f04e62b6dd354e0326ea2c2|[0.0] |268525   |1     |\n",
      "|60 |110fc814f0c641b9b58ff2019aacc102d056c98df4fd2dad|[0.0] |268525   |1     |\n",
      "|61 |1128894edb9ce8228c1a533f0ef8229fddea22509f659a0c|[0.0] |268525   |1     |\n",
      "|62 |11e9a96bd28f6fd047dd27d7f7e29759eab251a1e7fef434|[0.0] |268525   |1     |\n",
      "|63 |1225afc45875d853bb011a53d219d173b2ea261a2a4914da|[0.0] |268525   |1     |\n",
      "|64 |124d16dba35475b86c3fac46e1771c0dd13f8a05ef2a0df8|[0.0] |268525   |1     |\n",
      "|65 |1269ce6b32641753c2356e72dbf9d00dd817a1c81502d273|[0.0] |268525   |1     |\n",
      "|66 |127c1b10c9fd40290c1c02b65e39ae7ac7ec1290398b05e0|[0.0] |268525   |1     |\n",
      "|67 |12ca68915c8858222e2e475e847c414de196b45d90b460c0|[0.0] |268525   |1     |\n",
      "|68 |12dab767226c3b878b2621dd739a47cbcffe61bc01fcea16|[0.0] |268525   |1     |\n",
      "|69 |131c54df11b036361b575e8abfcc43d37e1b00bdc175036d|[0.0] |268525   |1     |\n",
      "|70 |133769ddd797df23f5e90cb59288f902874caf32e40dd2e6|[0.0] |268525   |1     |\n",
      "|71 |138e63419d7e88965a41a4ad1a140350966db336068d2c76|[0.0] |268525   |1     |\n",
      "|72 |139a48e45ee2dcdb4c3845b36eaee215fbe6c1a86cf481dc|[0.0] |268525   |1     |\n",
      "|73 |13c860c902273a1a2c0f85d3b0e0fc76ae61041acafb7bd8|[0.0] |268525   |1     |\n",
      "|74 |141b2c5c73777a7a92208c8e0851086c6f748188d9685be5|[0.0] |268525   |1     |\n",
      "|75 |1433ec3a2d2349e8a0deadc8dbcc433e7921d94c6399bc24|[0.0] |268525   |1     |\n",
      "|76 |1488a01c87449dd79c9a00ba15784a720d28ca27ec84c24b|[0.0] |268525   |1     |\n",
      "|77 |1491f35a895d2ab5d88fcea06cc261f42ec254793166cf89|[0.0] |268525   |1     |\n",
      "|78 |14d56f072bd54ed5dd6f02397d207219f661456ba5de1585|[0.0] |268525   |1     |\n",
      "|79 |14e9528e55d6f40ab55ee0d2291a4b88c82379e1344b71c4|[0.0] |268525   |1     |\n",
      "|80 |14f8f826e7178d7905a8fca1bf5ee2e07a7ecc3c635ea9ce|[0.0] |268525   |1     |\n",
      "|81 |1509d6a85f3bc3199917fa5166c9f04b566931e9fe5d1c5b|[0.0] |268525   |1     |\n",
      "|82 |15376f487aefcd310b44d3c60a198e28ad7abf0eae425b6d|[0.0] |268525   |1     |\n",
      "|83 |15543f7dbd5e7fb88453030f0d58a8c6ed0b73a2a908fa39|[0.0] |268525   |1     |\n",
      "|84 |159eb00c0261c6d904f833a97bf46ef1eff0b0310fa8865a|[0.0] |268525   |1     |\n",
      "|85 |15c50a8bba90e3bf78346f127775e03ea400fd0bb548b104|[0.0] |268525   |1     |\n",
      "|86 |1602a85aad70c20dce7d0c9ceb00ff4e7ef2bbb3777e884e|[0.0] |268525   |1     |\n",
      "|87 |1655e773afba578f0326cf5a3d8ad40f3e30ca804888010e|[0.0] |268525   |1     |\n",
      "|88 |165fcb303b2fafeeefbd0360e030499c9505529aa007462f|[0.0] |268525   |1     |\n",
      "|89 |16a4927518b9c8cfea2d6a9356c008db6ada04d49b99cab1|[0.0] |268525   |1     |\n",
      "|90 |16cc7fec1f99b619d6f600aa6feea59b26c2f35ed9a4914f|[0.0] |268525   |1     |\n",
      "|91 |1779d084b4f3018c70bc0e0173f45c533260c8f46223a63d|[0.0] |268525   |1     |\n",
      "|92 |17b39dfa361884cf88e70bf73be8e9806fa74fac8bd8a68f|[0.0] |268525   |1     |\n",
      "|93 |1827b239ab6c61c73b2a2c2ea9941f8aef2fdbf3351049a8|[0.0] |268525   |1     |\n",
      "|94 |1839c5f6f9efe9d2075773d3dd9c1167b948cac1a4455ffe|[0.0] |268525   |1     |\n",
      "|95 |183eed62f4284586dd5da98e1e98944b1b27f1f564fe8b6d|[0.0] |268525   |1     |\n",
      "|96 |184d00d74964aab296313596e0f7f62fd2d29ad008d7cf9f|[0.0] |268525   |1     |\n",
      "|97 |18d0ba41c98d17a9a88557f735b0e9fbda0ff6044de3e962|[0.0] |268525   |1     |\n",
      "|98 |19069df60e047e70e29ccd37100c78c9222544f10be3c337|[0.0] |268525   |1     |\n",
      "|99 |19bb978a75d18f586d8dc61af91e6b5a9cc5209e1e8f4d58|[0.0] |268525   |1     |\n",
      "|100|19d1c77a3566ba965d23de14c274f69bc7cd4ba58801c2e3|[0.0] |268525   |1     |\n",
      "+---+------------------------------------------------+------+---------+------+\n",
      "only showing top 100 rows\n",
      "\n"
     ]
    }
   ],
   "source": [
    "probab_class_asc_index_decili_social.show(100, False)"
   ]
  },
  {
   "cell_type": "code",
   "execution_count": 104,
   "metadata": {
    "collapsed": true
   },
   "outputs": [],
   "source": [
    "probab_class_asc_index_decili_social.write.parquet(path_prediction_adobe_social)"
   ]
  },
  {
   "cell_type": "markdown",
   "metadata": {},
   "source": [
    "## UNIONE 3 DATASET CON DECILI\n",
    "\n"
   ]
  },
  {
   "cell_type": "code",
   "execution_count": 105,
   "metadata": {
    "collapsed": true
   },
   "outputs": [],
   "source": [
    "df_generico = spark.read.format('parquet').load(path_prediction_adobe_general).persist()\n",
    "df_social = spark.read.format('parquet').load(path_prediction_adobe_fan).persist()\n",
    "df_fan = spark.read.format('parquet').load(path_prediction_adobe_social).persist()"
   ]
  },
  {
   "cell_type": "code",
   "execution_count": 106,
   "metadata": {
    "collapsed": true
   },
   "outputs": [],
   "source": [
    "df_generico = df_generico.withColumnRenamed('decile', 'decile_generico')\n",
    "df_fan = df_fan.withColumnRenamed('decile', 'decile_fan')\n",
    "df_social = df_social.withColumnRenamed('decile', 'decile_social')"
   ]
  },
  {
   "cell_type": "code",
   "execution_count": 107,
   "metadata": {
    "collapsed": true
   },
   "outputs": [],
   "source": [
    "df_generico.createOrReplaceTempView('df_generico')\n",
    "df_fan.createOrReplaceTempView('df_fan')\n",
    "df_social.createOrReplaceTempView('df_social')"
   ]
  },
  {
   "cell_type": "code",
   "execution_count": 109,
   "metadata": {},
   "outputs": [
    {
     "name": "stdout",
     "output_type": "stream",
     "text": [
      "2685258\n",
      "2685258\n",
      "2685258\n"
     ]
    }
   ],
   "source": [
    "#devono essere lunghi uguali:\n",
    "#print(df_generico.count())\n",
    "#print(df_fan.count())\n",
    "#print(df_social.count())"
   ]
  },
  {
   "cell_type": "markdown",
   "metadata": {
    "collapsed": true
   },
   "source": [
    "### Unisco in un unico dataset i 3 decili di adobe"
   ]
  },
  {
   "cell_type": "code",
   "execution_count": 159,
   "metadata": {
    "collapsed": true
   },
   "outputs": [],
   "source": [
    "df_generico_fan = spark.sql('select distinct df_generico.ext_id, df_generico.decile_generico, df_fan.decile_fan from df_generico left join df_fan on df_generico.ext_id = df_fan.ext_id')"
   ]
  },
  {
   "cell_type": "code",
   "execution_count": 160,
   "metadata": {},
   "outputs": [
    {
     "name": "stdout",
     "output_type": "stream",
     "text": [
      "+--------------------+---------------+----------+\n",
      "|              ext_id|decile_generico|decile_fan|\n",
      "+--------------------+---------------+----------+\n",
      "|000268bb9b4d06e6a...|              5|         7|\n",
      "|0003fe6fa141cd593...|             10|         9|\n",
      "|0005a79a8451f3eac...|              1|         4|\n",
      "|0006ecec67c1a61e3...|             10|         9|\n",
      "|000b0850c5deb106e...|              9|         8|\n",
      "|000d4e5158beb4f03...|              1|         1|\n",
      "|00111532921d68306...|             10|        10|\n",
      "|0011f1505715ea009...|              8|         8|\n",
      "|001c55fd054d139db...|              3|         3|\n",
      "|001f9a2827d51dc6e...|              4|         3|\n",
      "|00248561770c5368d...|              6|         1|\n",
      "|002c1aca8065a9901...|              1|         1|\n",
      "|002c4bdb6f7e352f8...|              6|         6|\n",
      "|002f6bb23573e0a7e...|              3|         7|\n",
      "|0032a62cef4ac7a56...|              1|         1|\n",
      "|003489b29db5b2c06...|              2|         6|\n",
      "|0049a818c2e0bc46e...|              1|         1|\n",
      "|004cfd08586e01ac1...|              3|         9|\n",
      "|00518238c12282ed4...|              6|         3|\n",
      "|00560b113b429a844...|              2|         6|\n",
      "+--------------------+---------------+----------+\n",
      "only showing top 20 rows\n",
      "\n"
     ]
    }
   ],
   "source": [
    "df_generico_fan.show(20)"
   ]
  },
  {
   "cell_type": "code",
   "execution_count": 161,
   "metadata": {
    "collapsed": true
   },
   "outputs": [],
   "source": [
    "df_generico_fan.createOrReplaceTempView('df_generico_fan')"
   ]
  },
  {
   "cell_type": "code",
   "execution_count": 162,
   "metadata": {
    "collapsed": true
   },
   "outputs": [],
   "source": [
    "df_triplo = spark.sql('select distinct df_generico_fan.ext_id, df_generico_fan.decile_generico, df_generico_fan.decile_fan, df_social.decile_social from df_generico_fan left join df_social on df_generico_fan.ext_id = df_social.ext_id')"
   ]
  },
  {
   "cell_type": "code",
   "execution_count": 163,
   "metadata": {},
   "outputs": [
    {
     "name": "stdout",
     "output_type": "stream",
     "text": [
      "+--------------------+---------------+----------+-------------+\n",
      "|              ext_id|decile_generico|decile_fan|decile_social|\n",
      "+--------------------+---------------+----------+-------------+\n",
      "|000268bb9b4d06e6a...|              5|         7|            3|\n",
      "|0003fe6fa141cd593...|             10|         9|            9|\n",
      "|0005a79a8451f3eac...|              1|         4|            3|\n",
      "|0006ecec67c1a61e3...|             10|         9|           10|\n",
      "|000b0850c5deb106e...|              9|         8|            7|\n",
      "|000d4e5158beb4f03...|              1|         1|            1|\n",
      "|00111532921d68306...|             10|        10|           10|\n",
      "|0011f1505715ea009...|              8|         8|            9|\n",
      "|001c55fd054d139db...|              3|         3|            2|\n",
      "|001f9a2827d51dc6e...|              4|         3|            8|\n",
      "|00248561770c5368d...|              6|         1|            7|\n",
      "|002c1aca8065a9901...|              1|         1|            1|\n",
      "|002c4bdb6f7e352f8...|              6|         6|            4|\n",
      "|002f6bb23573e0a7e...|              3|         7|            5|\n",
      "|0032a62cef4ac7a56...|              1|         1|            1|\n",
      "|003489b29db5b2c06...|              2|         6|            2|\n",
      "|0049a818c2e0bc46e...|              1|         1|            1|\n",
      "|004cfd08586e01ac1...|              3|         9|            8|\n",
      "|00518238c12282ed4...|              6|         3|            4|\n",
      "|00560b113b429a844...|              2|         6|            3|\n",
      "+--------------------+---------------+----------+-------------+\n",
      "only showing top 20 rows\n",
      "\n"
     ]
    }
   ],
   "source": [
    "df_triplo.show()"
   ]
  },
  {
   "cell_type": "markdown",
   "metadata": {},
   "source": [
    "### Creo il decile pesato di Generico, Fan, Social:"
   ]
  },
  {
   "cell_type": "code",
   "execution_count": 164,
   "metadata": {
    "collapsed": true
   },
   "outputs": [],
   "source": [
    "df_triplo.createOrReplaceTempView('df_triplo')"
   ]
  },
  {
   "cell_type": "code",
   "execution_count": 165,
   "metadata": {},
   "outputs": [],
   "source": [
    "df_4 = spark.sql('select ext_id, decile_generico, decile_fan, decile_social, sum(decile_generico*0.5 + decile_fan*0.2 + decile_social*0.3) as score from df_triplo group by ext_id, decile_generico, decile_fan, decile_social')"
   ]
  },
  {
   "cell_type": "code",
   "execution_count": 166,
   "metadata": {},
   "outputs": [
    {
     "data": {
      "text/plain": [
       "2685258"
      ]
     },
     "execution_count": 166,
     "metadata": {},
     "output_type": "execute_result"
    }
   ],
   "source": [
    "#df_4.count()"
   ]
  },
  {
   "cell_type": "code",
   "execution_count": 167,
   "metadata": {
    "collapsed": true
   },
   "outputs": [],
   "source": [
    "df_4.write.parquet(path_score_pesato_adobe, mode ='overwrite')"
   ]
  },
  {
   "cell_type": "code",
   "execution_count": 168,
   "metadata": {
    "collapsed": true
   },
   "outputs": [],
   "source": [
    "df_4 = spark.read.format('parquet').load(path_score_pesato_adobe).persist()"
   ]
  },
  {
   "cell_type": "code",
   "execution_count": 169,
   "metadata": {},
   "outputs": [
    {
     "name": "stdout",
     "output_type": "stream",
     "text": [
      "+------------------------------------------------+---------------+----------+-------------+-----+\n",
      "|ext_id                                          |decile_generico|decile_fan|decile_social|score|\n",
      "+------------------------------------------------+---------------+----------+-------------+-----+\n",
      "|0005f3f18bda8a53a22af40921ad131c0e4e913cbdb5f565|6              |6         |5            |5.7  |\n",
      "|0006530d860a31ca2a4b3539ad9baab4e2d668b4ee0da1a4|9              |9         |8            |8.7  |\n",
      "|0006b83f9d38ac301f2026071b2b816841bab3c09da501cc|1              |4         |3            |2.2  |\n",
      "|000aec8698c204ecadd4011222549f24efc5bc3ac949c457|10             |10        |10           |10.0 |\n",
      "|000effd99733aebfe511e729e39b71cdee0c9edd644891f5|4              |2         |5            |3.9  |\n",
      "|000fd3e0c929462b34a48485da2eb775e19b90b2a467e904|10             |5         |7            |8.1  |\n",
      "|001516de23bee4c89ee975bc01f82af32a4228043563858b|2              |1         |2            |1.8  |\n",
      "|001a2224a6e43beefdf4ad48b4eb61b8d398ca1353590d6a|8              |7         |7            |7.5  |\n",
      "|001a420df0de04a04dab0302a03e44b5058812c92cfd9cf1|1              |1         |1            |1.0  |\n",
      "|001da7d5e04f2482f9166429f59224f02cb1a638f675e514|4              |2         |5            |3.9  |\n",
      "|001e2193b90bffb5b4e1e77dd80e961f8519c089a0800471|10             |10        |9            |9.7  |\n",
      "|0028e80ef65484c563c7955f0a3e5cf2240ce74bb2958bb9|4              |2         |5            |3.9  |\n",
      "|002bd395a3f7ca4ecbf37eefaa15d31cbd881c60be300a7f|2              |6         |3            |3.1  |\n",
      "|002e280652ccfb8b07b83ba7bcff855f5ac4d98dec0143ff|6              |7         |6            |6.2  |\n",
      "|003146d8bef6285ab20684d70aa3e6fc0d69da40da835441|10             |9         |10           |9.8  |\n",
      "|0034732e24e76cc3aec6f9acdcaa67b51be5a99879700207|8              |8         |6            |7.4  |\n",
      "|00376aa9ec875e1e58e02acf186fbf10782ca26fb8a1c52c|2              |2         |7            |3.5  |\n",
      "|003f67404607a74743d0c419dddfbaefd61e6fa307a4659a|10             |7         |6            |8.2  |\n",
      "|0040ef69407f61914e5425adc0942b7294950616389ec2a6|2              |6         |3            |3.1  |\n",
      "|00426deec96b82d7334d19a2b67b69d7e4a7f6fd8c5f3bee|6              |8         |6            |6.4  |\n",
      "|00445b35f036de3aef6f9dc997b3b73ebf2c7dc8df7de95e|7              |2         |7            |6.0  |\n",
      "|0045ec82d0bf6b822e6ca3f1d119cb71547b0bf7103ca35f|2              |4         |3            |2.7  |\n",
      "|004a2e66854b6f1bdebd0fdefccbcdf776dd5017a81afd09|1              |1         |1            |1.0  |\n",
      "|004bc559d81eb842fd12088834463928fa8ef141c371fb99|6              |2         |4            |4.6  |\n",
      "|004f0eba2ca079a3de8291e55e8396c92011e178cfe0e071|6              |2         |4            |4.6  |\n",
      "|005646e65483e056a1da8e65a20dc014627141bcc3369a32|6              |2         |5            |4.9  |\n",
      "|006494c3303ddb69ee38363e707687b7d225dde9d59d324f|9              |10        |10           |9.5  |\n",
      "|00656b0c274297b5e1bca6f5c284905dd621cd6fd0a08581|1              |1         |1            |1.0  |\n",
      "|007249c7ce5b22db74ca386eb14c7785f33d5ba4af93c7b9|3              |2         |7            |4.0  |\n",
      "|0072f74f728dfa2782f74e0215afc2bf09924cc316190457|2              |7         |1            |2.7  |\n",
      "|0076c71c30a4cbb0b187bbf4d6c6b6ed662230f853ea8945|4              |2         |5            |3.9  |\n",
      "|0079a67538d692b50f8fa65787d26e807fb442c1d2a985fa|5              |2         |4            |4.1  |\n",
      "|007fc80acf092cb46e5f51b6d319f0d343871ecee436eb3d|4              |2         |5            |3.9  |\n",
      "|00917383f930551cf21d1677d285a9141f24c622dae83769|2              |1         |2            |1.8  |\n",
      "|0093c10508018ec3b1164667302376803d1a2c369d546124|2              |4         |3            |2.7  |\n",
      "|0095943b895d372b5f05d8bda9c04e9f60fefbcd0667860e|7              |5         |8            |6.9  |\n",
      "|009bd2ea5d9b05894a3a1086afb720b1a616dcbf46f663e3|10             |10        |9            |9.7  |\n",
      "|00a69077b40a51afda53f5a180d990f6a59c2b78d7b4be99|5              |5         |8            |5.9  |\n",
      "|00a93ca69e6bcf96cb8c085b2d650f130459488a37669064|2              |2         |3            |2.3  |\n",
      "|00b19149b0beb0be661866a4d30f7b64f02047380e8bd164|2              |6         |1            |2.5  |\n",
      "|00ba313047cebc99157a0dc9c4d0a675b30f73eb660b3296|7              |6         |5            |6.2  |\n",
      "|00bc99e69cc7aaf6313a0759915d7fbabc04575cc0d117b5|10             |10        |9            |9.7  |\n",
      "|00c16a69025a609afd7e84baab8f8f22e6819ab4e25987bd|1              |1         |1            |1.0  |\n",
      "|00c25fa3cdfeda4af3db578136c619a94a8754af44cd3e83|3              |1         |5            |3.2  |\n",
      "|00c28c7adeeb16e0c775c9d87656cf368d862c7fb6036a65|3              |1         |7            |3.8  |\n",
      "|00c784981e4fd479e3e770b87002e567370f8084d698c60f|8              |5         |8            |7.4  |\n",
      "|00c982cd314511ea717360b20e8e412a9aeabb794a62a20e|3              |1         |6            |3.5  |\n",
      "|00ca876aaf1a2e7c217567239d048c07e454c207b2f82efa|9              |10        |9            |9.2  |\n",
      "|00cd8fe2554b1430e4a669afef84794ae1392e2f8b51021c|6              |6         |5            |5.7  |\n",
      "|00cd94a4386d7fbe525499f536e1a50c278a0d3241b4d728|3              |2         |2            |2.5  |\n",
      "|00d0023355e04875a983778c36cd5bbece02a9a28e78602b|9              |9         |10           |9.3  |\n",
      "|00d76d610ddd682ec7014a6c413fe3c56087ec26383b2737|9              |8         |9            |8.8  |\n",
      "|00dbdf14c0787a2bd6b820b7304e73ecf8d6a6d69698eaf6|1              |1         |1            |1.0  |\n",
      "|00dcdd1c94524f7747de03eba058ddc8066eb725f2cc2a45|5              |6         |6            |5.5  |\n",
      "|00e0d807dedb1a8c6570d30be2773f7c6a4683d176b2cb80|9              |9         |9            |9.0  |\n",
      "|00e2f4822a845b8eae766afb7ff4950ccb42c97d27ee4e0f|3              |6         |5            |4.2  |\n",
      "|00e3008114d3ab658a1c95c9d820a723f679a3d3e52cf990|3              |1         |5            |3.2  |\n",
      "|00e3e160032642e4c1f41a274bcb3958194fdfc96607b18e|9              |10        |10           |9.5  |\n",
      "|00e669669df5b27964f9a00656e01ff8e1dc4e35eeeaea24|3              |6         |1            |3.0  |\n",
      "|00ed5b05837529d5d61a898933d4ee8814954a9d2f1f801c|7              |2         |5            |5.4  |\n",
      "|00f88ab5bd53e20c909c68a9d9a77d75222d0b8f910c2b6b|9              |10        |10           |9.5  |\n",
      "|00fb492635ce0e2d5491c6a2c9ec0c238ac8446f1871633e|2              |4         |3            |2.7  |\n",
      "|00ffb11f708b057e7319e81c1045a9e045b8b0101820042b|4              |8         |6            |5.4  |\n",
      "|01024dae35ed3c62611c50411030979161651cfe6a2d4701|8              |6         |7            |7.3  |\n",
      "|010a1d61dcf6dab8f73e4fafead3507419af3ae2b7941459|2              |1         |2            |1.8  |\n",
      "|010fb31dabdf99a81db93e83d233f07a642d9b05c72d3791|9              |7         |8            |8.3  |\n",
      "|0112703fd571bc4314fc4b3ee8da1e355368dab9cc5aaa53|7              |5         |8            |6.9  |\n",
      "|0117fd3a3f84dbc91ba32db92c98fc627e5f2f0b2e9f1c8b|7              |6         |6            |6.5  |\n",
      "|0128565c965d121d4a7a2ce702283beea6be5ab844258918|7              |6         |5            |6.2  |\n",
      "|013040275e5c16c0d134125bce7302b195c35bb18bb8e661|3              |6         |2            |3.3  |\n",
      "|01311ff44add3945b0bf9888774594535368d03f53b1e241|1              |1         |1            |1.0  |\n",
      "|013be12b5820681a4201410a8c65e0073ce57bad1b9c4431|5              |2         |7            |5.0  |\n",
      "|013e3eb9497383aab6709a9c16e5737562bfdb79442bc4a0|9              |9         |6            |8.1  |\n",
      "|0140dab282db2ffb838d19e139cd7b9504b1bca3c9a5d56b|5              |6         |5            |5.2  |\n",
      "|0145c93b583615790dedb40a7f94f5357d2e73f7fddb5740|3              |2         |5            |3.4  |\n",
      "|0147b4cdf738f52228bea68c94e97f6982f4ff588f328e1f|3              |7         |3            |3.8  |\n",
      "|01481bff11d3c8f8115e7d4d73ffc2e7226cb391583de425|5              |8         |2            |4.7  |\n",
      "|014867677a8ed46f1d6355979f292c685bee31f870a74ea2|4              |2         |5            |3.9  |\n",
      "|0149190285fae0c73ae43a6c4ace397af87c2488a2d901cf|5              |7         |3            |4.8  |\n",
      "|01497ee03299eb5476e03310d319258ae6595eb43f7ff4ca|8              |2         |6            |6.2  |\n",
      "|014989f3fc3930be8ba0fd3bbc76f608fd22f85ee876c367|8              |5         |6            |6.8  |\n",
      "|014beb23e1419ed4310dc6896e3919b67b3221f948ae154d|6              |2         |5            |4.9  |\n",
      "|0152f4e85572d0b46a212ed4f12c07453b7255d2caed94c7|8              |9         |9            |8.5  |\n",
      "|01533dd95110067ee0595c7fb428b04e74f45af7d7f7db69|6              |2         |5            |4.9  |\n",
      "|015bb7148d7aa9cc0695183febba206b3e03f6de23542dca|7              |9         |9            |8.0  |\n",
      "|015fe9189814f163bda01c6f9cf7fdcf8f100c84c609ccec|4              |2         |5            |3.9  |\n",
      "|016232d8b333aa6cf240c2a286010c62edfcf3e881afa43c|7              |6         |6            |6.5  |\n",
      "|0164c6a0393c626e4d4003e430a748b34fa7ee00aa669b01|7              |7         |6            |6.7  |\n",
      "|016574ff5c3edb563dda0518a0910c6ef5f5f6f9c872ec31|4              |10        |10           |7.0  |\n",
      "|0168bd4a424f491b29eb6bf88e288a10fbbf37974c0ad9a6|9              |9         |8            |8.7  |\n",
      "|01694bc591be887efa1b0158861a6aae9b96b0a268ed1b0d|1              |1         |1            |1.0  |\n",
      "|016fb73834da81dcf16f7d1b05c5e93638e2273529d5a756|8              |10        |9            |8.7  |\n",
      "|017e01c1e3c966fb13f9bd183b448b676868ef076c37c7c6|7              |8         |9            |7.8  |\n",
      "|0193430208ccd9c00afecc00466758fb13b34ef7c0ccfa37|6              |6         |7            |6.3  |\n",
      "|0196db8a655c9e153abc77d15a51539469f57e570e6f7491|8              |5         |8            |7.4  |\n",
      "|019b91d7b7f2c381be0d4f18f780a5dea2a1565b1f6d7687|4              |8         |5            |5.1  |\n",
      "|019c02ee729667dbd044c6185f92c813f987f4e0a9e20505|3              |4         |5            |3.8  |\n",
      "|019daa6c70e5a3f9f323705f9fd5660cb4368e51c8a2eb8e|4              |2         |5            |3.9  |\n",
      "|01a1185bfd69d32298707e3913f7cbd0bd06178f7234913b|2              |4         |3            |2.7  |\n",
      "|01a20f398af1762fa9ae27ed75ae1f9a59472b32bd07c36b|6              |2         |4            |4.6  |\n",
      "+------------------------------------------------+---------------+----------+-------------+-----+\n",
      "only showing top 100 rows\n",
      "\n"
     ]
    }
   ],
   "source": [
    "df_4.show(100, False )"
   ]
  },
  {
   "cell_type": "code",
   "execution_count": 170,
   "metadata": {
    "collapsed": true
   },
   "outputs": [],
   "source": [
    "df_4.createOrReplaceTempView('df_4')"
   ]
  },
  {
   "cell_type": "code",
   "execution_count": 171,
   "metadata": {
    "collapsed": true
   },
   "outputs": [],
   "source": [
    "df_score = spark.sql('select ext_id, decile_generico, decile_fan, decile_social, score from df_4 order by score asc')"
   ]
  },
  {
   "cell_type": "code",
   "execution_count": 172,
   "metadata": {},
   "outputs": [
    {
     "name": "stdout",
     "output_type": "stream",
     "text": [
      "+--------------------+---------------+----------+-------------+-----+\n",
      "|              ext_id|decile_generico|decile_fan|decile_social|score|\n",
      "+--------------------+---------------+----------+-------------+-----+\n",
      "|0ed2ed51494d5317a...|              1|         1|            1|  1.0|\n",
      "|106c764cb383ae90c...|              1|         1|            1|  1.0|\n",
      "|107bcfd49ba1419e4...|              1|         1|            1|  1.0|\n",
      "|0eaa4e0728c77538a...|              1|         1|            1|  1.0|\n",
      "|1080c72d5037cc154...|              1|         1|            1|  1.0|\n",
      "|07fdb693d522e156d...|              1|         1|            1|  1.0|\n",
      "|1091f82b75d33c262...|              1|         1|            1|  1.0|\n",
      "|0804c4ff13a025eb4...|              1|         1|            1|  1.0|\n",
      "|10bd284f743083732...|              1|         1|            1|  1.0|\n",
      "|080872979c128fb8c...|              1|         1|            1|  1.0|\n",
      "|1100910274d49fc37...|              1|         1|            1|  1.0|\n",
      "|015aac6483dfcaa0f...|              1|         1|            1|  1.0|\n",
      "|126792d5d42b77d67...|              1|         1|            1|  1.0|\n",
      "|03690b3f483333aef...|              1|         1|            1|  1.0|\n",
      "|1282dbe1cbd75a19f...|              1|         1|            1|  1.0|\n",
      "|0231aa5f07fb54e43...|              1|         1|            1|  1.0|\n",
      "|1291cd7b0bb7cdd76...|              1|         1|            1|  1.0|\n",
      "|025a1a5440ae0ac08...|              1|         1|            1|  1.0|\n",
      "|1294a753dd80a96aa...|              1|         1|            1|  1.0|\n",
      "|0296ecfeaee127abc...|              1|         1|            1|  1.0|\n",
      "|129c98e1b79f71cf8...|              1|         1|            1|  1.0|\n",
      "|02dc171ef8c5bca24...|              1|         1|            1|  1.0|\n",
      "|12fdd05370ff89bb4...|              1|         1|            1|  1.0|\n",
      "|034fcafc1a393ff62...|              1|         1|            1|  1.0|\n",
      "|1311e5ca8069ee924...|              1|         1|            1|  1.0|\n",
      "|03e12161361d189da...|              1|         1|            1|  1.0|\n",
      "|139058b2420de0c76...|              1|         1|            1|  1.0|\n",
      "|044abee0eabf23f89...|              1|         1|            1|  1.0|\n",
      "|13979f4f821cfcd74...|              1|         1|            1|  1.0|\n",
      "|053b08f4b97ea160d...|              1|         1|            1|  1.0|\n",
      "|13af7c62a0669629e...|              1|         1|            1|  1.0|\n",
      "|05b117988acd90def...|              1|         1|            1|  1.0|\n",
      "|13b0190a54a62d7d6...|              1|         1|            1|  1.0|\n",
      "|0600ed20bd19759f9...|              1|         1|            1|  1.0|\n",
      "|13f8c21684d6ffc83...|              1|         1|            1|  1.0|\n",
      "|06b53a5510780babf...|              1|         1|            1|  1.0|\n",
      "|142c9bb184a6371b5...|              1|         1|            1|  1.0|\n",
      "|074b87d2fde5b806b...|              1|         1|            1|  1.0|\n",
      "|145d4da32c5d3d840...|              1|         1|            1|  1.0|\n",
      "|0778f8fe69ccd941b...|              1|         1|            1|  1.0|\n",
      "|148ab8c9235757834...|              1|         1|            1|  1.0|\n",
      "|002d7c74f3752df4b...|              1|         1|            1|  1.0|\n",
      "|1491737895eb2bc22...|              1|         1|            1|  1.0|\n",
      "|00d75f2f69f2c97de...|              1|         1|            1|  1.0|\n",
      "|14a05d589c5cddf72...|              1|         1|            1|  1.0|\n",
      "|0153a21b0abafea18...|              1|         1|            1|  1.0|\n",
      "|14b849c6f85287563...|              1|         1|            1|  1.0|\n",
      "|0854c81a12260f5c0...|              1|         1|            1|  1.0|\n",
      "|14c20f14a30d436e6...|              1|         1|            1|  1.0|\n",
      "|08e06ebd9d345e50e...|              1|         1|            1|  1.0|\n",
      "|14d74ac4a80f254a9...|              1|         1|            1|  1.0|\n",
      "|095b9d4875558dfda...|              1|         1|            1|  1.0|\n",
      "|15319fe756fd97575...|              1|         1|            1|  1.0|\n",
      "|09d22d71f8ced84ad...|              1|         1|            1|  1.0|\n",
      "|1559bd83122fb83b1...|              1|         1|            1|  1.0|\n",
      "|09e9d8c2b53c0762e...|              1|         1|            1|  1.0|\n",
      "|155b8bcfdcb1c8948...|              1|         1|            1|  1.0|\n",
      "|0a397a34bc1186e6a...|              1|         1|            1|  1.0|\n",
      "|156646359922ee990...|              1|         1|            1|  1.0|\n",
      "|0a8f742b4f68394e2...|              1|         1|            1|  1.0|\n",
      "|158449f1228bc0b74...|              1|         1|            1|  1.0|\n",
      "|0afb26a9990e10208...|              1|         1|            1|  1.0|\n",
      "|15ca8ed62e5ad69eb...|              1|         1|            1|  1.0|\n",
      "|0b5d897d172b9c93c...|              1|         1|            1|  1.0|\n",
      "|15cd39509ba22f517...|              1|         1|            1|  1.0|\n",
      "|0bbe1ff6c55a9eb18...|              1|         1|            1|  1.0|\n",
      "|15d201bd539f36e6e...|              1|         1|            1|  1.0|\n",
      "|0c2ce3d73a5e4c13b...|              1|         1|            1|  1.0|\n",
      "|15dfd57116d754070...|              1|         1|            1|  1.0|\n",
      "|0cc928b5e2ab0aeb3...|              1|         1|            1|  1.0|\n",
      "|1646e164321d33430...|              1|         1|            1|  1.0|\n",
      "|0d165bd7301d4bb92...|              1|         1|            1|  1.0|\n",
      "|164ab1bb031b280e5...|              1|         1|            1|  1.0|\n",
      "|0d63f02efc8773b12...|              1|         1|            1|  1.0|\n",
      "|165b13bbdf3539ebf...|              1|         1|            1|  1.0|\n",
      "|0da1b68888c472120...|              1|         1|            1|  1.0|\n",
      "|1690fd042fe0e0827...|              1|         1|            1|  1.0|\n",
      "|0e360e1591fdb5e8b...|              1|         1|            1|  1.0|\n",
      "|169da7708d4c08460...|              1|         1|            1|  1.0|\n",
      "|0e834f8ad77d51928...|              1|         1|            1|  1.0|\n",
      "|1745b39fd8063881d...|              1|         1|            1|  1.0|\n",
      "|0f3598e6e22b5fc27...|              1|         1|            1|  1.0|\n",
      "|178ad7cfe1eb68f52...|              1|         1|            1|  1.0|\n",
      "|0f4f0d947b461c563...|              1|         1|            1|  1.0|\n",
      "|17f649e293599d151...|              1|         1|            1|  1.0|\n",
      "|1009346298072030c...|              1|         1|            1|  1.0|\n",
      "|180a160d42ebb5742...|              1|         1|            1|  1.0|\n",
      "|07fbb41759e6a0929...|              1|         1|            1|  1.0|\n",
      "|18229cb8784c965c1...|              1|         1|            1|  1.0|\n",
      "|00e6011cf09279699...|              1|         1|            1|  1.0|\n",
      "|18368d3193c45c906...|              1|         1|            1|  1.0|\n",
      "|018fd9fdd9b1e9a45...|              1|         1|            1|  1.0|\n",
      "|18c6de820c347e609...|              1|         1|            1|  1.0|\n",
      "|024cd1bd4f6b98bc2...|              1|         1|            1|  1.0|\n",
      "|1a230da4c69bbbaa4...|              1|         1|            1|  1.0|\n",
      "|02c0bf395b0e1273b...|              1|         1|            1|  1.0|\n",
      "|1a2971209ee2937c7...|              1|         1|            1|  1.0|\n",
      "|03532e1d7aef066ad...|              1|         1|            1|  1.0|\n",
      "|1a69af781714a13f8...|              1|         1|            1|  1.0|\n",
      "|048695e70ce177790...|              1|         1|            1|  1.0|\n",
      "+--------------------+---------------+----------+-------------+-----+\n",
      "only showing top 100 rows\n",
      "\n"
     ]
    }
   ],
   "source": [
    "df_score.show(100)"
   ]
  },
  {
   "cell_type": "code",
   "execution_count": 173,
   "metadata": {
    "collapsed": true
   },
   "outputs": [],
   "source": [
    "df_score = df_score.withColumn(\"score\", df_score.score.cast(\"double\"))"
   ]
  },
  {
   "cell_type": "code",
   "execution_count": 174,
   "metadata": {
    "collapsed": true
   },
   "outputs": [],
   "source": [
    "from pyspark.ml.feature import QuantileDiscretizer"
   ]
  },
  {
   "cell_type": "code",
   "execution_count": 175,
   "metadata": {},
   "outputs": [],
   "source": [
    "discretizer = QuantileDiscretizer(numBuckets=10, inputCol=\"score\", outputCol=\"bin_score\")\n",
    "df_score_bin = discretizer.fit(df_score).transform(df_score)"
   ]
  },
  {
   "cell_type": "code",
   "execution_count": 176,
   "metadata": {},
   "outputs": [
    {
     "name": "stdout",
     "output_type": "stream",
     "text": [
      "+--------------------+---------------+----------+-------------+-----+---------+\n",
      "|              ext_id|decile_generico|decile_fan|decile_social|score|bin_score|\n",
      "+--------------------+---------------+----------+-------------+-----+---------+\n",
      "|0f737c8e088ef6dfb...|              1|         1|            1|  1.0|      0.0|\n",
      "|1e30a0481dc95490c...|              1|         1|            1|  1.0|      0.0|\n",
      "|0fd98c7f91650f8cc...|              1|         1|            1|  1.0|      0.0|\n",
      "|101a25ce7acde00d9...|              1|         1|            1|  1.0|      0.0|\n",
      "|10474bf904838a151...|              1|         1|            1|  1.0|      0.0|\n",
      "|00b65900c6fbbdeb4...|              1|         1|            1|  1.0|      0.0|\n",
      "|10ca3f00bcceb0fbd...|              1|         1|            1|  1.0|      0.0|\n",
      "|0105e0c6d4000007d...|              1|         1|            1|  1.0|      0.0|\n",
      "|00fdfb2b3706aecd6...|              1|         1|            1|  1.0|      0.0|\n",
      "|014bcecc2abdb84d0...|              1|         1|            1|  1.0|      0.0|\n",
      "|01ce40a412e42b648...|              1|         1|            1|  1.0|      0.0|\n",
      "|03bee7609d489d586...|              1|         1|            1|  1.0|      0.0|\n",
      "|1dbcc6fe4cedc22b5...|              1|         1|            1|  1.0|      0.0|\n",
      "|11015bf5eed3c4043...|              1|         1|            1|  1.0|      0.0|\n",
      "|031ae25fc68c0f8bf...|              1|         1|            1|  1.0|      0.0|\n",
      "|11ef9eb5f31512621...|              1|         1|            1|  1.0|      0.0|\n",
      "|034fafc7abc916053...|              1|         1|            1|  1.0|      0.0|\n",
      "|1238c493722382b2f...|              1|         1|            1|  1.0|      0.0|\n",
      "|03a6343b13277f33a...|              1|         1|            1|  1.0|      0.0|\n",
      "|1251dac65cfd6901c...|              1|         1|            1|  1.0|      0.0|\n",
      "|0868943b25c8029bf...|              1|         1|            1|  1.0|      0.0|\n",
      "|1268741ce61b012d6...|              1|         1|            1|  1.0|      0.0|\n",
      "|044f7026e628f3b04...|              1|         1|            1|  1.0|      0.0|\n",
      "|12ee4fa9a003fab73...|              1|         1|            1|  1.0|      0.0|\n",
      "|0628ea5384580a18c...|              1|         1|            1|  1.0|      0.0|\n",
      "|130bc47d85cd4f2a2...|              1|         1|            1|  1.0|      0.0|\n",
      "|06b8f2738d0509c97...|              1|         1|            1|  1.0|      0.0|\n",
      "|1422562bd1461e94f...|              1|         1|            1|  1.0|      0.0|\n",
      "|0f654d1dc53cb86a6...|              1|         1|            1|  1.0|      0.0|\n",
      "|149f10b43611330b6...|              1|         1|            1|  1.0|      0.0|\n",
      "|08bc5fcffd62866ed...|              1|         1|            1|  1.0|      0.0|\n",
      "|14dec61d52cf33192...|              1|         1|            1|  1.0|      0.0|\n",
      "|094355c96e396b788...|              1|         1|            1|  1.0|      0.0|\n",
      "|15690456de6158320...|              1|         1|            1|  1.0|      0.0|\n",
      "|0a272ced7b9ddc95a...|              1|         1|            1|  1.0|      0.0|\n",
      "|15c7ef5e8058d5457...|              1|         1|            1|  1.0|      0.0|\n",
      "|0a68936f375ec15e1...|              1|         1|            1|  1.0|      0.0|\n",
      "|15fcf2efc16194af0...|              1|         1|            1|  1.0|      0.0|\n",
      "|0aa18a5a5e68df809...|              1|         1|            1|  1.0|      0.0|\n",
      "|162176dc6d8f8c420...|              1|         1|            1|  1.0|      0.0|\n",
      "|0bb3145f0fd452116...|              1|         1|            1|  1.0|      0.0|\n",
      "|168a11c73af22a9cd...|              1|         1|            1|  1.0|      0.0|\n",
      "|0c110c736b2d1fc34...|              1|         1|            1|  1.0|      0.0|\n",
      "|16a342450cac3bb42...|              1|         1|            1|  1.0|      0.0|\n",
      "|0cf3dd460c6cbf8d0...|              1|         1|            1|  1.0|      0.0|\n",
      "|16aae751da26ad9de...|              1|         1|            1|  1.0|      0.0|\n",
      "|0d78cab4990221df4...|              1|         1|            1|  1.0|      0.0|\n",
      "|16ae2fe645229e7a6...|              1|         1|            1|  1.0|      0.0|\n",
      "|0da2953f9151fee06...|              1|         1|            1|  1.0|      0.0|\n",
      "|16c913e4ae13f0191...|              1|         1|            1|  1.0|      0.0|\n",
      "|0e3421f9cbac2184a...|              1|         1|            1|  1.0|      0.0|\n",
      "|17ca242856ae36f6a...|              1|         1|            1|  1.0|      0.0|\n",
      "|0f4e8b910a9c12695...|              1|         1|            1|  1.0|      0.0|\n",
      "|17e53ff393057a0b1...|              1|         1|            1|  1.0|      0.0|\n",
      "|004e376dadfbaf318...|              1|         1|            1|  1.0|      0.0|\n",
      "|17ef84976a8ef811e...|              1|         1|            1|  1.0|      0.0|\n",
      "|00889d9d15c623f10...|              1|         1|            1|  1.0|      0.0|\n",
      "|17f7e39103dfd7e61...|              1|         1|            1|  1.0|      0.0|\n",
      "|1ddc72d2b02448f3d...|              1|         1|            1|  1.0|      0.0|\n",
      "|1805cc31670607ef6...|              1|         1|            1|  1.0|      0.0|\n",
      "|01e55a1a9fce795df...|              1|         1|            1|  1.0|      0.0|\n",
      "|184180139a860bfa9...|              1|         1|            1|  1.0|      0.0|\n",
      "|032eb0a9baf1cb42e...|              1|         1|            1|  1.0|      0.0|\n",
      "|1867e541992339376...|              1|         1|            1|  1.0|      0.0|\n",
      "|03aa7f85246d8890b...|              1|         1|            1|  1.0|      0.0|\n",
      "|189610be55e347c0c...|              1|         1|            1|  1.0|      0.0|\n",
      "|04aacddae829ad0d0...|              1|         1|            1|  1.0|      0.0|\n",
      "|18d59abb688f2df2f...|              1|         1|            1|  1.0|      0.0|\n",
      "|071038378f686792a...|              1|         1|            1|  1.0|      0.0|\n",
      "|18f1ded7fba11cec3...|              1|         1|            1|  1.0|      0.0|\n",
      "|08ccfc80ae83b36b6...|              1|         1|            1|  1.0|      0.0|\n",
      "|1903d464d3f0aec68...|              1|         1|            1|  1.0|      0.0|\n",
      "|0a5871920d2005773...|              1|         1|            1|  1.0|      0.0|\n",
      "|19a0416fbfe526259...|              1|         1|            1|  1.0|      0.0|\n",
      "|0ae2fb8800ca23469...|              1|         1|            1|  1.0|      0.0|\n",
      "|19a4b7988f03b3fd4...|              1|         1|            1|  1.0|      0.0|\n",
      "|0cad1914dc60d9006...|              1|         1|            1|  1.0|      0.0|\n",
      "|1a10180333df22048...|              1|         1|            1|  1.0|      0.0|\n",
      "|0d9aa8511acd9dc4e...|              1|         1|            1|  1.0|      0.0|\n",
      "|1a1e4d1c68988df42...|              1|         1|            1|  1.0|      0.0|\n",
      "|0ea0190ab029c308d...|              1|         1|            1|  1.0|      0.0|\n",
      "|1a4e79f7629aaba8d...|              1|         1|            1|  1.0|      0.0|\n",
      "|006d76a74080440a6...|              1|         1|            1|  1.0|      0.0|\n",
      "|1a9934ea5c7576b68...|              1|         1|            1|  1.0|      0.0|\n",
      "|1dda07abd2aea8b13...|              1|         1|            1|  1.0|      0.0|\n",
      "|1b0e6ddb35d39358a...|              1|         1|            1|  1.0|      0.0|\n",
      "|03897694210adbb10...|              1|         1|            1|  1.0|      0.0|\n",
      "|1b6c35bd4041d850f...|              1|         1|            1|  1.0|      0.0|\n",
      "|062a8518729bffa61...|              1|         1|            1|  1.0|      0.0|\n",
      "|1ba750e3c92d85222...|              1|         1|            1|  1.0|      0.0|\n",
      "|09690a0e6e95bf240...|              1|         1|            1|  1.0|      0.0|\n",
      "|1c7a7cb972df63a70...|              1|         1|            1|  1.0|      0.0|\n",
      "|0bf4ee7161f3effd6...|              1|         1|            1|  1.0|      0.0|\n",
      "|1cf11a22d5e340085...|              1|         1|            1|  1.0|      0.0|\n",
      "|0e1d1d6a87046a4a1...|              1|         1|            1|  1.0|      0.0|\n",
      "|1d1442369c8fa21df...|              1|         1|            1|  1.0|      0.0|\n",
      "|0feba2c9ae7788a19...|              1|         1|            1|  1.0|      0.0|\n",
      "|1d316b2e6d81fe4d6...|              1|         1|            1|  1.0|      0.0|\n",
      "|043172149ded82090...|              1|         1|            1|  1.0|      0.0|\n",
      "|1d89d2ad0037f2b54...|              1|         1|            1|  1.0|      0.0|\n",
      "+--------------------+---------------+----------+-------------+-----+---------+\n",
      "only showing top 100 rows\n",
      "\n"
     ]
    }
   ],
   "source": [
    "df_score_bin.show(100)"
   ]
  },
  {
   "cell_type": "code",
   "execution_count": 177,
   "metadata": {
    "collapsed": true
   },
   "outputs": [],
   "source": [
    "df_score_bin.createOrReplaceTempView('df_score_bin')"
   ]
  },
  {
   "cell_type": "code",
   "execution_count": 178,
   "metadata": {},
   "outputs": [],
   "source": [
    "df_score_bin_grouped = spark.sql('select (bin_score+1) as bin_score, count(ext_id) from df_score_bin group by bin_score order by bin_score asc')"
   ]
  },
  {
   "cell_type": "code",
   "execution_count": 179,
   "metadata": {},
   "outputs": [
    {
     "name": "stdout",
     "output_type": "stream",
     "text": [
      "+---------+-------------+\n",
      "|bin_score|count(ext_id)|\n",
      "+---------+-------------+\n",
      "|      1.0|       246293|\n",
      "|      2.0|       272931|\n",
      "|      3.0|       238443|\n",
      "|      4.0|       293709|\n",
      "|      5.0|       261133|\n",
      "|      6.0|       278993|\n",
      "|      7.0|       266920|\n",
      "|      8.0|       271257|\n",
      "|      9.0|       279719|\n",
      "|     10.0|       275860|\n",
      "+---------+-------------+\n",
      "\n"
     ]
    }
   ],
   "source": [
    "df_score_bin_grouped.show(15)"
   ]
  },
  {
   "cell_type": "markdown",
   "metadata": {
    "collapsed": true
   },
   "source": [
    "## Unisco tutte le variabili di Adobe con decili Generico, Fan, Social e score"
   ]
  },
  {
   "cell_type": "code",
   "execution_count": 180,
   "metadata": {
    "collapsed": true
   },
   "outputs": [],
   "source": [
    "df_originale = spark.read.format('parquet').load(path_adobe).persist()"
   ]
  },
  {
   "cell_type": "code",
   "execution_count": 181,
   "metadata": {
    "collapsed": true
   },
   "outputs": [],
   "source": [
    "df_originale.createOrReplaceTempView('df_originale')\n",
    "df_score_bin.createOrReplaceTempView('df_score_bin')"
   ]
  },
  {
   "cell_type": "code",
   "execution_count": 182,
   "metadata": {
    "collapsed": true
   },
   "outputs": [],
   "source": [
    "df_joined = spark.sql('select distinct df_originale.*, df_score_bin.decile_generico, df_score_bin.decile_fan, df_score_bin.decile_social, df_score_bin.score, df_score_bin.bin_score as bin_score_0, (df_score_bin.bin_score + 1) as bin_score from df_originale left join df_score_bin on df_originale.ext_id = df_score_bin.ext_id')"
   ]
  },
  {
   "cell_type": "code",
   "execution_count": 183,
   "metadata": {
    "collapsed": true
   },
   "outputs": [],
   "source": [
    "df_joined = df_joined.drop('score_digital')"
   ]
  },
  {
   "cell_type": "code",
   "execution_count": 184,
   "metadata": {},
   "outputs": [
    {
     "name": "stdout",
     "output_type": "stream",
     "text": [
      "root\n",
      " |-- ext_id: string (nullable = true)\n",
      " |-- numero_mesi_corporate: double (nullable = true)\n",
      " |-- numero_mesi_tg24: double (nullable = true)\n",
      " |-- numero_mesi_sport: double (nullable = true)\n",
      " |-- numero_mesi_appwsc: double (nullable = true)\n",
      " |-- numero_mesi_appgtv: double (nullable = true)\n",
      " |-- numero_mesi_appsport: double (nullable = true)\n",
      " |-- numero_mesi_appxfactor: double (nullable = true)\n",
      " |-- visite_totali_corporate: long (nullable = true)\n",
      " |-- visite_totali_tg24: long (nullable = true)\n",
      " |-- visite_totali_sport: long (nullable = true)\n",
      " |-- visite_totali_appwsc: long (nullable = true)\n",
      " |-- visite_totali_appgtv: long (nullable = true)\n",
      " |-- visite_totali_appsport: long (nullable = true)\n",
      " |-- visite_totali_appxfactor: long (nullable = true)\n",
      " |-- numero_reportsuite: double (nullable = true)\n",
      " |-- cookie_corporate: long (nullable = true)\n",
      " |-- cookie_tg24: long (nullable = true)\n",
      " |-- cookie_sport: long (nullable = true)\n",
      " |-- cookie_skyitdev: long (nullable = true)\n",
      " |-- cookie_appwsc: long (nullable = true)\n",
      " |-- cookie_appgtv: long (nullable = true)\n",
      " |-- cookie_appsport: long (nullable = true)\n",
      " |-- cookie_appxfactor: long (nullable = true)\n",
      " |-- count_visits_mobile: double (nullable = true)\n",
      " |-- count_visits_desktop: double (nullable = true)\n",
      " |-- count_visits_other: double (nullable = true)\n",
      " |-- tipo_device: string (nullable = true)\n",
      " |-- count_visits_from_social: long (nullable = true)\n",
      " |-- social_network: string (nullable = true)\n",
      " |-- secondi_totali_corporate: long (nullable = true)\n",
      " |-- secondi_totali_tg24: long (nullable = true)\n",
      " |-- secondi_totali_sport: long (nullable = true)\n",
      " |-- secondi_totali_appwsc: long (nullable = true)\n",
      " |-- secondi_totali_appgtv: long (nullable = true)\n",
      " |-- secondi_totali_appsport: long (nullable = true)\n",
      " |-- secondi_totali_appxfactor: long (nullable = true)\n",
      " |-- media_visite_corporate: double (nullable = true)\n",
      " |-- media_visite_tg24: double (nullable = true)\n",
      " |-- media_visite_sport: double (nullable = true)\n",
      " |-- media_visite_appwsc: double (nullable = true)\n",
      " |-- media_visite_appgtv: double (nullable = true)\n",
      " |-- media_visite_appsport: double (nullable = true)\n",
      " |-- media_visite_appxfactor: double (nullable = true)\n",
      " |-- percentuale_mobile: double (nullable = true)\n",
      " |-- percentuale_desktop: double (nullable = true)\n",
      " |-- percentuale_other: double (nullable = true)\n",
      " |-- durata_media_visite_corporate: double (nullable = true)\n",
      " |-- durata_media_visite_tg24: double (nullable = true)\n",
      " |-- durata_media_visite_sport: double (nullable = true)\n",
      " |-- durata_media_visite_appwsc: double (nullable = true)\n",
      " |-- durata_media_visite_appgtv: double (nullable = true)\n",
      " |-- durata_media_visite_appsport: double (nullable = true)\n",
      " |-- durata_media_visite_appxfactor: double (nullable = true)\n",
      " |-- ricorrenza_corporate: double (nullable = true)\n",
      " |-- ricorrenza_tg24: double (nullable = true)\n",
      " |-- ricorrenza_sport: double (nullable = true)\n",
      " |-- ricorrenza_appwsc: double (nullable = true)\n",
      " |-- ricorrenza_appgtv: double (nullable = true)\n",
      " |-- ricorrenza_appsport: double (nullable = true)\n",
      " |-- ricorrenza_appxfactor: double (nullable = true)\n",
      " |-- ricorrenza_totale: string (nullable = true)\n",
      " |-- visite_corporate_appwsc_appgtv: long (nullable = true)\n",
      " |-- visite_editoriale: long (nullable = true)\n",
      " |-- visite_web: long (nullable = true)\n",
      " |-- visite_app: long (nullable = true)\n",
      " |-- max_mesi_corporate_appwsc_appgtv: double (nullable = true)\n",
      " |-- max_mesi_editoriale: double (nullable = true)\n",
      " |-- max_mesi_web: double (nullable = true)\n",
      " |-- max_mesi_app: double (nullable = true)\n",
      " |-- avg_visite_mese_corporate_appwsc_appgtv: double (nullable = true)\n",
      " |-- avg_visite_mese_editoriale: double (nullable = true)\n",
      " |-- avg_visite_mese_web: double (nullable = true)\n",
      " |-- avg_visite_mese_app: double (nullable = true)\n",
      " |-- secondi_corporate_appwsc_appgtv: long (nullable = true)\n",
      " |-- secondi_editoriale: long (nullable = true)\n",
      " |-- secondi_web: long (nullable = true)\n",
      " |-- secondi_app: long (nullable = true)\n",
      " |-- avg_sec_corporate_appwsc_appgtv: double (nullable = true)\n",
      " |-- avg_sec_editoriale: double (nullable = true)\n",
      " |-- avg_sec_web: double (nullable = true)\n",
      " |-- avg_sec_app: double (nullable = true)\n",
      " |-- score_utilizzo: long (nullable = true)\n",
      " |-- percentile_score_utilizzo: double (nullable = true)\n",
      " |-- ricorrenza_corporate_appwsc_appgtv: double (nullable = true)\n",
      " |-- ricorrenza_editoriale: double (nullable = true)\n",
      " |-- ricorrenza_web: double (nullable = true)\n",
      " |-- ricorrenza_app: double (nullable = true)\n",
      " |-- visite_settimana_corporate: long (nullable = true)\n",
      " |-- visite_weekend_corporate: long (nullable = true)\n",
      " |-- visite_settimana_tg24: long (nullable = true)\n",
      " |-- visite_weekend_tg24: long (nullable = true)\n",
      " |-- visite_settimana_sport: long (nullable = true)\n",
      " |-- visite_weekend_sport: long (nullable = true)\n",
      " |-- visite_settimana_appwsc: long (nullable = true)\n",
      " |-- visite_weekend_appwsc: long (nullable = true)\n",
      " |-- visite_settimana_appgtv: long (nullable = true)\n",
      " |-- visite_weekend_appgtv: long (nullable = true)\n",
      " |-- visite_settimana_appsport: long (nullable = true)\n",
      " |-- visite_weekend_appsport: long (nullable = true)\n",
      " |-- visite_settimana_appxfactor: long (nullable = true)\n",
      " |-- visite_weekend_appxfactor: long (nullable = true)\n",
      " |-- visite_corporate_notte: long (nullable = true)\n",
      " |-- visite_corporate_mattina: long (nullable = true)\n",
      " |-- visite_corporate_pomeriggio: long (nullable = true)\n",
      " |-- visite_corporate_sera: long (nullable = true)\n",
      " |-- visite_tg24_notte: long (nullable = true)\n",
      " |-- visite_tg24_mattina: long (nullable = true)\n",
      " |-- visite_tg24_pomeriggio: long (nullable = true)\n",
      " |-- visite_tg24_sera: long (nullable = true)\n",
      " |-- visite_sport_notte: long (nullable = true)\n",
      " |-- visite_sport_mattina: long (nullable = true)\n",
      " |-- visite_sport_pomeriggio: long (nullable = true)\n",
      " |-- visite_sport_sera: long (nullable = true)\n",
      " |-- visite_appwsc_notte: long (nullable = true)\n",
      " |-- visite_appwsc_mattina: long (nullable = true)\n",
      " |-- visite_appwsc_pomeriggio: long (nullable = true)\n",
      " |-- visite_appwsc_sera: long (nullable = true)\n",
      " |-- visite_appgtv_notte: long (nullable = true)\n",
      " |-- visite_appgtv_mattina: long (nullable = true)\n",
      " |-- visite_appgtv_pomeriggio: long (nullable = true)\n",
      " |-- visite_appgtv_sera: long (nullable = true)\n",
      " |-- visite_appsport_notte: long (nullable = true)\n",
      " |-- visite_appsport_mattina: long (nullable = true)\n",
      " |-- visite_appsport_pomeriggio: long (nullable = true)\n",
      " |-- visite_appsport_sera: long (nullable = true)\n",
      " |-- visite_appxfactor_notte: long (nullable = true)\n",
      " |-- visite_appxfactor_mattina: long (nullable = true)\n",
      " |-- visite_appxfactor_pomeriggio: long (nullable = true)\n",
      " |-- visite_appxfactor_sera: long (nullable = true)\n",
      " |-- totale_visite: long (nullable = true)\n",
      " |-- decile_generico: integer (nullable = true)\n",
      " |-- decile_fan: integer (nullable = true)\n",
      " |-- decile_social: integer (nullable = true)\n",
      " |-- score: double (nullable = true)\n",
      " |-- bin_score_0: double (nullable = true)\n",
      " |-- bin_score: double (nullable = true)\n",
      "\n"
     ]
    }
   ],
   "source": [
    "df_joined.printSchema()"
   ]
  },
  {
   "cell_type": "code",
   "execution_count": 186,
   "metadata": {
    "collapsed": true
   },
   "outputs": [],
   "source": [
    "df_joined.write.parquet(path_decile_pesato_adobe_e_variabili)"
   ]
  },
  {
   "cell_type": "markdown",
   "metadata": {},
   "source": [
    "## Unisco i decili di Adobe ed Adform con variabili"
   ]
  },
  {
   "cell_type": "code",
   "execution_count": 191,
   "metadata": {
    "collapsed": true
   },
   "outputs": [],
   "source": [
    "df_adobe = spark.read.format('parquet').load(path_decile_pesato_adobe_e_variabili).persist()"
   ]
  },
  {
   "cell_type": "code",
   "execution_count": 192,
   "metadata": {},
   "outputs": [
    {
     "data": {
      "text/plain": [
       "2685258"
      ]
     },
     "execution_count": 192,
     "metadata": {},
     "output_type": "execute_result"
    }
   ],
   "source": [
    "df_adobe.count()"
   ]
  },
  {
   "cell_type": "code",
   "execution_count": 193,
   "metadata": {
    "collapsed": true
   },
   "outputs": [],
   "source": [
    "df_adform = spark.read.format('parquet').load(path_decile_adform_e_variabili).persist()"
   ]
  },
  {
   "cell_type": "code",
   "execution_count": 195,
   "metadata": {},
   "outputs": [],
   "source": [
    "#df_adform.printSchema()"
   ]
  },
  {
   "cell_type": "code",
   "execution_count": 197,
   "metadata": {},
   "outputs": [],
   "source": [
    "#df_adobe.printSchema()"
   ]
  },
  {
   "cell_type": "code",
   "execution_count": 204,
   "metadata": {
    "collapsed": true
   },
   "outputs": [],
   "source": [
    "df_adobe.createOrReplaceTempView('df_adobe')\n",
    "df_adform.createOrReplaceTempView('df_adform')"
   ]
  },
  {
   "cell_type": "code",
   "execution_count": 205,
   "metadata": {},
   "outputs": [],
   "source": [
    "df_finale_digitalizzazione = spark.sql('select coalesce(df_adform.ext_id_impression, df_adobe.ext_id) as ext_id_adobe_adform, df_adform.ext_id_impression as ext_id_adform, df_adobe.ext_id as ext_id_adobe, df_adform.decile_adform as adform_decile, df_adobe.score as score_adobe, df_adobe.bin_score as adobe_decile, df_adobe.decile_generico as decile_generico_adobe, df_adobe.decile_fan as decile_fan_adobe, df_adobe.decile_social as decile_social_adobe, df_adobe.*, df_adform.* from df_adform full outer join df_adobe on df_adform.ext_id_impression = df_adobe.ext_id')"
   ]
  },
  {
   "cell_type": "code",
   "execution_count": 206,
   "metadata": {},
   "outputs": [
    {
     "name": "stdout",
     "output_type": "stream",
     "text": [
      "root\n",
      " |-- ext_id_adobe_adform: string (nullable = true)\n",
      " |-- ext_id_adform: string (nullable = true)\n",
      " |-- ext_id_adobe: string (nullable = true)\n",
      " |-- adform_decile: integer (nullable = true)\n",
      " |-- score_adobe: double (nullable = true)\n",
      " |-- adobe_decile: double (nullable = true)\n",
      " |-- decile_generico_adobe: integer (nullable = true)\n",
      " |-- decile_fan_adobe: integer (nullable = true)\n",
      " |-- decile_social_adobe: integer (nullable = true)\n",
      " |-- ext_id: string (nullable = true)\n",
      " |-- numero_mesi_corporate: double (nullable = true)\n",
      " |-- numero_mesi_tg24: double (nullable = true)\n",
      " |-- numero_mesi_sport: double (nullable = true)\n",
      " |-- numero_mesi_appwsc: double (nullable = true)\n",
      " |-- numero_mesi_appgtv: double (nullable = true)\n",
      " |-- numero_mesi_appsport: double (nullable = true)\n",
      " |-- numero_mesi_appxfactor: double (nullable = true)\n",
      " |-- visite_totali_corporate: long (nullable = true)\n",
      " |-- visite_totali_tg24: long (nullable = true)\n",
      " |-- visite_totali_sport: long (nullable = true)\n",
      " |-- visite_totali_appwsc: long (nullable = true)\n",
      " |-- visite_totali_appgtv: long (nullable = true)\n",
      " |-- visite_totali_appsport: long (nullable = true)\n",
      " |-- visite_totali_appxfactor: long (nullable = true)\n",
      " |-- numero_reportsuite: double (nullable = true)\n",
      " |-- cookie_corporate: long (nullable = true)\n",
      " |-- cookie_tg24: long (nullable = true)\n",
      " |-- cookie_sport: long (nullable = true)\n",
      " |-- cookie_skyitdev: long (nullable = true)\n",
      " |-- cookie_appwsc: long (nullable = true)\n",
      " |-- cookie_appgtv: long (nullable = true)\n",
      " |-- cookie_appsport: long (nullable = true)\n",
      " |-- cookie_appxfactor: long (nullable = true)\n",
      " |-- count_visits_mobile: double (nullable = true)\n",
      " |-- count_visits_desktop: double (nullable = true)\n",
      " |-- count_visits_other: double (nullable = true)\n",
      " |-- tipo_device: string (nullable = true)\n",
      " |-- count_visits_from_social: long (nullable = true)\n",
      " |-- social_network: string (nullable = true)\n",
      " |-- secondi_totali_corporate: long (nullable = true)\n",
      " |-- secondi_totali_tg24: long (nullable = true)\n",
      " |-- secondi_totali_sport: long (nullable = true)\n",
      " |-- secondi_totali_appwsc: long (nullable = true)\n",
      " |-- secondi_totali_appgtv: long (nullable = true)\n",
      " |-- secondi_totali_appsport: long (nullable = true)\n",
      " |-- secondi_totali_appxfactor: long (nullable = true)\n",
      " |-- media_visite_corporate: double (nullable = true)\n",
      " |-- media_visite_tg24: double (nullable = true)\n",
      " |-- media_visite_sport: double (nullable = true)\n",
      " |-- media_visite_appwsc: double (nullable = true)\n",
      " |-- media_visite_appgtv: double (nullable = true)\n",
      " |-- media_visite_appsport: double (nullable = true)\n",
      " |-- media_visite_appxfactor: double (nullable = true)\n",
      " |-- percentuale_mobile: double (nullable = true)\n",
      " |-- percentuale_desktop: double (nullable = true)\n",
      " |-- percentuale_other: double (nullable = true)\n",
      " |-- durata_media_visite_corporate: double (nullable = true)\n",
      " |-- durata_media_visite_tg24: double (nullable = true)\n",
      " |-- durata_media_visite_sport: double (nullable = true)\n",
      " |-- durata_media_visite_appwsc: double (nullable = true)\n",
      " |-- durata_media_visite_appgtv: double (nullable = true)\n",
      " |-- durata_media_visite_appsport: double (nullable = true)\n",
      " |-- durata_media_visite_appxfactor: double (nullable = true)\n",
      " |-- ricorrenza_corporate: double (nullable = true)\n",
      " |-- ricorrenza_tg24: double (nullable = true)\n",
      " |-- ricorrenza_sport: double (nullable = true)\n",
      " |-- ricorrenza_appwsc: double (nullable = true)\n",
      " |-- ricorrenza_appgtv: double (nullable = true)\n",
      " |-- ricorrenza_appsport: double (nullable = true)\n",
      " |-- ricorrenza_appxfactor: double (nullable = true)\n",
      " |-- ricorrenza_totale: string (nullable = true)\n",
      " |-- visite_corporate_appwsc_appgtv: long (nullable = true)\n",
      " |-- visite_editoriale: long (nullable = true)\n",
      " |-- visite_web: long (nullable = true)\n",
      " |-- visite_app: long (nullable = true)\n",
      " |-- max_mesi_corporate_appwsc_appgtv: double (nullable = true)\n",
      " |-- max_mesi_editoriale: double (nullable = true)\n",
      " |-- max_mesi_web: double (nullable = true)\n",
      " |-- max_mesi_app: double (nullable = true)\n",
      " |-- avg_visite_mese_corporate_appwsc_appgtv: double (nullable = true)\n",
      " |-- avg_visite_mese_editoriale: double (nullable = true)\n",
      " |-- avg_visite_mese_web: double (nullable = true)\n",
      " |-- avg_visite_mese_app: double (nullable = true)\n",
      " |-- secondi_corporate_appwsc_appgtv: long (nullable = true)\n",
      " |-- secondi_editoriale: long (nullable = true)\n",
      " |-- secondi_web: long (nullable = true)\n",
      " |-- secondi_app: long (nullable = true)\n",
      " |-- avg_sec_corporate_appwsc_appgtv: double (nullable = true)\n",
      " |-- avg_sec_editoriale: double (nullable = true)\n",
      " |-- avg_sec_web: double (nullable = true)\n",
      " |-- avg_sec_app: double (nullable = true)\n",
      " |-- score_utilizzo: long (nullable = true)\n",
      " |-- percentile_score_utilizzo: double (nullable = true)\n",
      " |-- ricorrenza_corporate_appwsc_appgtv: double (nullable = true)\n",
      " |-- ricorrenza_editoriale: double (nullable = true)\n",
      " |-- ricorrenza_web: double (nullable = true)\n",
      " |-- ricorrenza_app: double (nullable = true)\n",
      " |-- visite_settimana_corporate: long (nullable = true)\n",
      " |-- visite_weekend_corporate: long (nullable = true)\n",
      " |-- visite_settimana_tg24: long (nullable = true)\n",
      " |-- visite_weekend_tg24: long (nullable = true)\n",
      " |-- visite_settimana_sport: long (nullable = true)\n",
      " |-- visite_weekend_sport: long (nullable = true)\n",
      " |-- visite_settimana_appwsc: long (nullable = true)\n",
      " |-- visite_weekend_appwsc: long (nullable = true)\n",
      " |-- visite_settimana_appgtv: long (nullable = true)\n",
      " |-- visite_weekend_appgtv: long (nullable = true)\n",
      " |-- visite_settimana_appsport: long (nullable = true)\n",
      " |-- visite_weekend_appsport: long (nullable = true)\n",
      " |-- visite_settimana_appxfactor: long (nullable = true)\n",
      " |-- visite_weekend_appxfactor: long (nullable = true)\n",
      " |-- visite_corporate_notte: long (nullable = true)\n",
      " |-- visite_corporate_mattina: long (nullable = true)\n",
      " |-- visite_corporate_pomeriggio: long (nullable = true)\n",
      " |-- visite_corporate_sera: long (nullable = true)\n",
      " |-- visite_tg24_notte: long (nullable = true)\n",
      " |-- visite_tg24_mattina: long (nullable = true)\n",
      " |-- visite_tg24_pomeriggio: long (nullable = true)\n",
      " |-- visite_tg24_sera: long (nullable = true)\n",
      " |-- visite_sport_notte: long (nullable = true)\n",
      " |-- visite_sport_mattina: long (nullable = true)\n",
      " |-- visite_sport_pomeriggio: long (nullable = true)\n",
      " |-- visite_sport_sera: long (nullable = true)\n",
      " |-- visite_appwsc_notte: long (nullable = true)\n",
      " |-- visite_appwsc_mattina: long (nullable = true)\n",
      " |-- visite_appwsc_pomeriggio: long (nullable = true)\n",
      " |-- visite_appwsc_sera: long (nullable = true)\n",
      " |-- visite_appgtv_notte: long (nullable = true)\n",
      " |-- visite_appgtv_mattina: long (nullable = true)\n",
      " |-- visite_appgtv_pomeriggio: long (nullable = true)\n",
      " |-- visite_appgtv_sera: long (nullable = true)\n",
      " |-- visite_appsport_notte: long (nullable = true)\n",
      " |-- visite_appsport_mattina: long (nullable = true)\n",
      " |-- visite_appsport_pomeriggio: long (nullable = true)\n",
      " |-- visite_appsport_sera: long (nullable = true)\n",
      " |-- visite_appxfactor_notte: long (nullable = true)\n",
      " |-- visite_appxfactor_mattina: long (nullable = true)\n",
      " |-- visite_appxfactor_pomeriggio: long (nullable = true)\n",
      " |-- visite_appxfactor_sera: long (nullable = true)\n",
      " |-- totale_visite: long (nullable = true)\n",
      " |-- decile_generico: integer (nullable = true)\n",
      " |-- decile_fan: integer (nullable = true)\n",
      " |-- decile_social: integer (nullable = true)\n",
      " |-- score: double (nullable = true)\n",
      " |-- bin_score_0: double (nullable = true)\n",
      " |-- bin_score: double (nullable = true)\n",
      " |-- ext_id_impression: string (nullable = true)\n",
      " |-- numero_mesi: long (nullable = true)\n",
      " |-- numero_week: long (nullable = true)\n",
      " |-- numero_giorni: long (nullable = true)\n",
      " |-- impression_tot: long (nullable = true)\n",
      " |-- impression_tv_unknown: long (nullable = true)\n",
      " |-- impression_mobile: long (nullable = true)\n",
      " |-- impression_desktop: long (nullable = true)\n",
      " |-- impression_tablet: long (nullable = true)\n",
      " |-- impression_week: long (nullable = true)\n",
      " |-- impression_weekend: long (nullable = true)\n",
      " |-- impression_mattina: long (nullable = true)\n",
      " |-- impression_pomeriggio: long (nullable = true)\n",
      " |-- impression_sera: long (nullable = true)\n",
      " |-- impression_notte: long (nullable = true)\n",
      " |-- avg_impression_mese: double (nullable = true)\n",
      " |-- avg_impression_week: double (nullable = true)\n",
      " |-- avg_impression_giorno: double (nullable = true)\n",
      " |-- perc_impression_tv_unknown: double (nullable = true)\n",
      " |-- perc_impression_mobile: double (nullable = true)\n",
      " |-- perc_impression_desktop: double (nullable = true)\n",
      " |-- perc_impression_tablet: double (nullable = true)\n",
      " |-- numero_device: long (nullable = true)\n",
      " |-- numero_tv_unknown: long (nullable = true)\n",
      " |-- numero_mobile: long (nullable = true)\n",
      " |-- numero_desktop: long (nullable = true)\n",
      " |-- numero_tablet: long (nullable = true)\n",
      " |-- perc_mobile: double (nullable = true)\n",
      " |-- perc_desktop: double (nullable = true)\n",
      " |-- perc_tablet: double (nullable = true)\n",
      " |-- perc_tv_unknown: double (nullable = true)\n",
      " |-- numero_social_provenienza: long (nullable = true)\n",
      " |-- numero_impression_social: long (nullable = true)\n",
      " |-- flag_social: double (nullable = true)\n",
      " |-- numero_cookies: long (nullable = true)\n",
      " |-- decile_adform: integer (nullable = true)\n",
      "\n"
     ]
    }
   ],
   "source": [
    "df_finale_digitalizzazione.printSchema()"
   ]
  },
  {
   "cell_type": "code",
   "execution_count": 207,
   "metadata": {},
   "outputs": [],
   "source": [
    "df_finale_digitalizzazione.write.parquet(path_df_finale_digitalizzazione)"
   ]
  },
  {
   "cell_type": "code",
   "execution_count": 208,
   "metadata": {
    "collapsed": true
   },
   "outputs": [],
   "source": [
    "df_adobe_adform = spark.read.format('parquet').load(path_df_finale_digitalizzazione).persist()"
   ]
  },
  {
   "cell_type": "code",
   "execution_count": 210,
   "metadata": {},
   "outputs": [
    {
     "data": {
      "text/plain": [
       "3209998"
      ]
     },
     "execution_count": 210,
     "metadata": {},
     "output_type": "execute_result"
    }
   ],
   "source": [
    "df_adobe_adform.count() #3209998"
   ]
  },
  {
   "cell_type": "code",
   "execution_count": 209,
   "metadata": {},
   "outputs": [
    {
     "name": "stdout",
     "output_type": "stream",
     "text": [
      "+--------------------+--------------------+--------------------+-------------+-----------+------------+---------------------+----------------+-------------------+--------------------+---------------------+----------------+-----------------+------------------+------------------+--------------------+----------------------+-----------------------+------------------+-------------------+--------------------+--------------------+----------------------+------------------------+------------------+----------------+-----------+------------+---------------+-------------+-------------+---------------+-----------------+-------------------+--------------------+------------------+--------------+------------------------+--------------+------------------------+-------------------+--------------------+---------------------+---------------------+-----------------------+-------------------------+----------------------+-----------------+------------------+-------------------+-------------------+---------------------+-----------------------+------------------+-------------------+-----------------+-----------------------------+------------------------+-------------------------+--------------------------+--------------------------+----------------------------+------------------------------+--------------------+---------------+----------------+-----------------+-----------------+-------------------+---------------------+-----------------+------------------------------+-----------------+----------+----------+--------------------------------+-------------------+------------+------------+---------------------------------------+--------------------------+-------------------+-------------------+-------------------------------+------------------+-----------+-----------+-------------------------------+------------------+------------------+------------------+--------------+-------------------------+----------------------------------+---------------------+--------------+--------------+--------------------------+------------------------+---------------------+-------------------+----------------------+--------------------+-----------------------+---------------------+-----------------------+---------------------+-------------------------+-----------------------+---------------------------+-------------------------+----------------------+------------------------+---------------------------+---------------------+-----------------+-------------------+----------------------+----------------+------------------+--------------------+-----------------------+-----------------+-------------------+---------------------+------------------------+------------------+-------------------+---------------------+------------------------+------------------+---------------------+-----------------------+--------------------------+--------------------+-----------------------+-------------------------+----------------------------+----------------------+-------------+---------------+----------+-------------+-----+-----------+---------+--------------------+-----------+-----------+-------------+--------------+---------------------+-----------------+------------------+-----------------+---------------+------------------+------------------+---------------------+---------------+----------------+-------------------+-------------------+---------------------+--------------------------+----------------------+-----------------------+----------------------+-------------+-----------------+-------------+--------------+-------------+------------------+------------------+------------------+---------------+-------------------------+------------------------+-----------+--------------+-------------+\n",
      "| ext_id_adobe_adform|       ext_id_adform|        ext_id_adobe|adform_decile|score_adobe|adobe_decile|decile_generico_adobe|decile_fan_adobe|decile_social_adobe|              ext_id|numero_mesi_corporate|numero_mesi_tg24|numero_mesi_sport|numero_mesi_appwsc|numero_mesi_appgtv|numero_mesi_appsport|numero_mesi_appxfactor|visite_totali_corporate|visite_totali_tg24|visite_totali_sport|visite_totali_appwsc|visite_totali_appgtv|visite_totali_appsport|visite_totali_appxfactor|numero_reportsuite|cookie_corporate|cookie_tg24|cookie_sport|cookie_skyitdev|cookie_appwsc|cookie_appgtv|cookie_appsport|cookie_appxfactor|count_visits_mobile|count_visits_desktop|count_visits_other|   tipo_device|count_visits_from_social|social_network|secondi_totali_corporate|secondi_totali_tg24|secondi_totali_sport|secondi_totali_appwsc|secondi_totali_appgtv|secondi_totali_appsport|secondi_totali_appxfactor|media_visite_corporate|media_visite_tg24|media_visite_sport|media_visite_appwsc|media_visite_appgtv|media_visite_appsport|media_visite_appxfactor|percentuale_mobile|percentuale_desktop|percentuale_other|durata_media_visite_corporate|durata_media_visite_tg24|durata_media_visite_sport|durata_media_visite_appwsc|durata_media_visite_appgtv|durata_media_visite_appsport|durata_media_visite_appxfactor|ricorrenza_corporate|ricorrenza_tg24|ricorrenza_sport|ricorrenza_appwsc|ricorrenza_appgtv|ricorrenza_appsport|ricorrenza_appxfactor|ricorrenza_totale|visite_corporate_appwsc_appgtv|visite_editoriale|visite_web|visite_app|max_mesi_corporate_appwsc_appgtv|max_mesi_editoriale|max_mesi_web|max_mesi_app|avg_visite_mese_corporate_appwsc_appgtv|avg_visite_mese_editoriale|avg_visite_mese_web|avg_visite_mese_app|secondi_corporate_appwsc_appgtv|secondi_editoriale|secondi_web|secondi_app|avg_sec_corporate_appwsc_appgtv|avg_sec_editoriale|       avg_sec_web|       avg_sec_app|score_utilizzo|percentile_score_utilizzo|ricorrenza_corporate_appwsc_appgtv|ricorrenza_editoriale|ricorrenza_web|ricorrenza_app|visite_settimana_corporate|visite_weekend_corporate|visite_settimana_tg24|visite_weekend_tg24|visite_settimana_sport|visite_weekend_sport|visite_settimana_appwsc|visite_weekend_appwsc|visite_settimana_appgtv|visite_weekend_appgtv|visite_settimana_appsport|visite_weekend_appsport|visite_settimana_appxfactor|visite_weekend_appxfactor|visite_corporate_notte|visite_corporate_mattina|visite_corporate_pomeriggio|visite_corporate_sera|visite_tg24_notte|visite_tg24_mattina|visite_tg24_pomeriggio|visite_tg24_sera|visite_sport_notte|visite_sport_mattina|visite_sport_pomeriggio|visite_sport_sera|visite_appwsc_notte|visite_appwsc_mattina|visite_appwsc_pomeriggio|visite_appwsc_sera|visite_appgtv_notte|visite_appgtv_mattina|visite_appgtv_pomeriggio|visite_appgtv_sera|visite_appsport_notte|visite_appsport_mattina|visite_appsport_pomeriggio|visite_appsport_sera|visite_appxfactor_notte|visite_appxfactor_mattina|visite_appxfactor_pomeriggio|visite_appxfactor_sera|totale_visite|decile_generico|decile_fan|decile_social|score|bin_score_0|bin_score|   ext_id_impression|numero_mesi|numero_week|numero_giorni|impression_tot|impression_tv_unknown|impression_mobile|impression_desktop|impression_tablet|impression_week|impression_weekend|impression_mattina|impression_pomeriggio|impression_sera|impression_notte|avg_impression_mese|avg_impression_week|avg_impression_giorno|perc_impression_tv_unknown|perc_impression_mobile|perc_impression_desktop|perc_impression_tablet|numero_device|numero_tv_unknown|numero_mobile|numero_desktop|numero_tablet|       perc_mobile|      perc_desktop|       perc_tablet|perc_tv_unknown|numero_social_provenienza|numero_impression_social|flag_social|numero_cookies|decile_adform|\n",
      "+--------------------+--------------------+--------------------+-------------+-----------+------------+---------------------+----------------+-------------------+--------------------+---------------------+----------------+-----------------+------------------+------------------+--------------------+----------------------+-----------------------+------------------+-------------------+--------------------+--------------------+----------------------+------------------------+------------------+----------------+-----------+------------+---------------+-------------+-------------+---------------+-----------------+-------------------+--------------------+------------------+--------------+------------------------+--------------+------------------------+-------------------+--------------------+---------------------+---------------------+-----------------------+-------------------------+----------------------+-----------------+------------------+-------------------+-------------------+---------------------+-----------------------+------------------+-------------------+-----------------+-----------------------------+------------------------+-------------------------+--------------------------+--------------------------+----------------------------+------------------------------+--------------------+---------------+----------------+-----------------+-----------------+-------------------+---------------------+-----------------+------------------------------+-----------------+----------+----------+--------------------------------+-------------------+------------+------------+---------------------------------------+--------------------------+-------------------+-------------------+-------------------------------+------------------+-----------+-----------+-------------------------------+------------------+------------------+------------------+--------------+-------------------------+----------------------------------+---------------------+--------------+--------------+--------------------------+------------------------+---------------------+-------------------+----------------------+--------------------+-----------------------+---------------------+-----------------------+---------------------+-------------------------+-----------------------+---------------------------+-------------------------+----------------------+------------------------+---------------------------+---------------------+-----------------+-------------------+----------------------+----------------+------------------+--------------------+-----------------------+-----------------+-------------------+---------------------+------------------------+------------------+-------------------+---------------------+------------------------+------------------+---------------------+-----------------------+--------------------------+--------------------+-----------------------+-------------------------+----------------------------+----------------------+-------------+---------------+----------+-------------+-----+-----------+---------+--------------------+-----------+-----------+-------------+--------------+---------------------+-----------------+------------------+-----------------+---------------+------------------+------------------+---------------------+---------------+----------------+-------------------+-------------------+---------------------+--------------------------+----------------------+-----------------------+----------------------+-------------+-----------------+-------------+--------------+-------------+------------------+------------------+------------------+---------------+-------------------------+------------------------+-----------+--------------+-------------+\n",
      "|0005f3f18bda8a53a...|0005f3f18bda8a53a...|0005f3f18bda8a53a...|            4|        5.7|         6.0|                    6|               6|                  5|0005f3f18bda8a53a...|                  3.0|             0.0|              0.0|               2.0|               0.0|                 0.0|                   0.0|                      4|                 0|                  0|                   2|                   0|                     0|                       0|               2.0|               3|          0|           0|              3|            1|            0|              0|                0|                1.0|                 3.0|               0.0|mobile_desktop|                       0|     no_social|                     586|                  0|                   0|                  234|                    0|                      0|                        0|                   1.0|              0.0|               0.0|                1.0|                0.0|                  0.0|                    0.0|              0.25|               0.75|              0.0|                        147.0|                     0.0|                      0.0|                     117.0|                       0.0|                         0.0|                           0.0|                 0.0|            0.0|             0.0|              0.0|              0.0|                0.0|                  0.0|   non ricorrente|                             6|                0|         4|         2|                             3.0|                0.0|         3.0|         2.0|                                    2.0|                       0.0| 1.3333333333333333|                1.0|                            820|                 0|        586|        234|             136.66666666666666|               0.0|             146.5|             117.0|             6|                      5.0|                               0.0|                  0.0|           0.0|           0.0|                         4|                       0|                    0|                  0|                     0|                   0|                      1|                    1|                      0|                    0|                        0|                      0|                          0|                        0|                     0|                       1|                          2|                    1|                0|                  0|                     0|               0|                 0|                   0|                      0|                0|                  0|                    0|                       2|                 0|                  0|                    0|                       0|                 0|                    0|                      0|                         0|                   0|                      0|                        0|                           0|                     0|            0|              6|         6|            5|  5.7|        5.0|      6.0|0005f3f18bda8a53a...|          3|          5|            8|            28|                    0|                0|                28|                0|             28|                 0|                 2|                   25|              1|               0|  9.333333333333334|                5.6|                  3.5|                       0.0|                   0.0|                    1.0|                   0.0|            1|                0|            0|             1|            0|               0.0|               1.0|               0.0|            0.0|                        0|                       0|        0.0|             5|            4|\n",
      "|0006530d860a31ca2...|0006530d860a31ca2...|0006530d860a31ca2...|            4|        8.7|         9.0|                    9|               9|                  8|0006530d860a31ca2...|                  4.0|             1.0|              0.0|               5.0|               0.0|                 0.0|                   0.0|                     19|                 1|                  0|                  11|                   0|                     0|                       0|               3.0|               1|          1|           0|              2|            2|            0|              0|                0|               19.0|                 1.0|               0.0|mobile_desktop|                       0|     no_social|                    7966|                  0|                   0|                 4330|                    0|                      0|                        0|                   5.0|              1.0|               0.0|                2.0|                0.0|                  0.0|                    0.0|              0.95|               0.05|              0.0|                        419.0|                     0.0|                      0.0|                     394.0|                       0.0|                         0.0|                           0.0|                 0.0|            0.0|             0.0|              0.0|              0.0|                0.0|                  0.0|   non ricorrente|                            30|                1|        20|        11|                             5.0|                1.0|         4.0|         5.0|                                    6.0|                       1.0|                5.0|                2.2|                          12296|                 0|       7966|       4330|              409.8666666666667|               0.0|             398.3| 393.6363636363636|            31|                      9.0|                               0.0|                  0.0|           0.0|           0.0|                        12|                       7|                    1|                  0|                     0|                   0|                      5|                    6|                      0|                    0|                        0|                      0|                          0|                        0|                     0|                       0|                          6|                   13|                0|                  0|                     1|               0|                 0|                   0|                      0|                0|                  0|                    2|                       6|                 3|                  0|                    0|                       0|                 0|                    0|                      0|                         0|                   0|                      0|                        0|                           0|                     0|            0|              9|         9|            8|  8.7|        8.0|      9.0|0006530d860a31ca2...|          6|         25|          121|           540|                    0|              531|                 9|                0|            360|               180|               130|                  183|            148|              79|               90.0|               21.6|    4.462809917355372|                       0.0|    0.9833333333333333|   0.016666666666666666|                   0.0|            2|                0|            1|             1|            0|               0.5|               0.5|               0.0|            0.0|                        0|                       0|        0.0|            20|            4|\n",
      "|0006b83f9d38ac301...|0006b83f9d38ac301...|0006b83f9d38ac301...|            2|        2.2|         2.0|                    1|               4|                  3|0006b83f9d38ac301...|                  0.0|             0.0|              1.0|               0.0|               0.0|                 0.0|                   0.0|                      0|                 0|                  1|                   0|                   0|                     0|                       0|               1.0|               0|          0|           1|              1|            0|            0|              0|                0|                1.0|                 0.0|               0.0|        mobile|                       0|     no_social|                       0|                  0|                   0|                    0|                    0|                      0|                        0|                   0.0|              0.0|               1.0|                0.0|                0.0|                  0.0|                    0.0|               1.0|                0.0|              0.0|                          0.0|                     0.0|                      0.0|                       0.0|                       0.0|                         0.0|                           0.0|                 0.0|            0.0|             0.0|              0.0|              0.0|                0.0|                  0.0|   non ricorrente|                             0|                1|         1|         0|                             0.0|                1.0|         1.0|         0.0|                                    0.0|                       1.0|                1.0|                0.0|                              0|                 0|          0|          0|                            0.0|               0.0|               0.0|               0.0|             1|                      1.0|                               0.0|                  0.0|           0.0|           0.0|                         0|                       0|                    0|                  0|                     0|                   1|                      0|                    0|                      0|                    0|                        0|                      0|                          0|                        0|                     0|                       0|                          0|                    0|                0|                  0|                     0|               0|                 0|                   0|                      0|                1|                  0|                    0|                       0|                 0|                  0|                    0|                       0|                 0|                    0|                      0|                         0|                   0|                      0|                        0|                           0|                     0|            0|              1|         4|            3|  2.2|        1.0|      2.0|0006b83f9d38ac301...|          5|         11|           18|            41|                    0|               41|                 0|                0|             28|                13|                 8|                    6|             15|              12|                8.2|  3.727272727272727|   2.2777777777777777|                       0.0|                   1.0|                    0.0|                   0.0|            1|                0|            1|             0|            0|               1.0|               0.0|               0.0|            0.0|                        0|                       0|        0.0|            11|            2|\n",
      "|000ae1a773010077d...|000ae1a773010077d...|                null|            2|       null|        null|                 null|            null|               null|                null|                 null|            null|             null|              null|              null|                null|                  null|                   null|              null|               null|                null|                null|                  null|                    null|              null|            null|       null|        null|           null|         null|         null|           null|             null|               null|                null|              null|          null|                    null|          null|                    null|               null|                null|                 null|                 null|                   null|                     null|                  null|             null|              null|               null|               null|                 null|                   null|              null|               null|             null|                         null|                    null|                     null|                      null|                      null|                        null|                          null|                null|           null|            null|             null|             null|               null|                 null|             null|                          null|             null|      null|      null|                            null|               null|        null|        null|                                   null|                      null|               null|               null|                           null|              null|       null|       null|                           null|              null|              null|              null|          null|                     null|                              null|                 null|          null|          null|                      null|                    null|                 null|               null|                  null|                null|                   null|                 null|                   null|                 null|                     null|                   null|                       null|                     null|                  null|                    null|                       null|                 null|             null|               null|                  null|            null|              null|                null|                   null|             null|               null|                 null|                    null|              null|               null|                 null|                    null|              null|                 null|                   null|                      null|                null|                   null|                     null|                        null|                  null|         null|           null|      null|         null| null|       null|     null|000ae1a773010077d...|          3|          3|            3|             5|                    0|                5|                 0|                0|              5|                 0|                 0|                    3|              1|               1| 1.6666666666666667| 1.6666666666666667|   1.6666666666666667|                       0.0|                   1.0|                    0.0|                   0.0|            1|                0|            1|             0|            0|               1.0|               0.0|               0.0|            0.0|                        0|                       0|        0.0|             1|            2|\n",
      "|000aec8698c204eca...|000aec8698c204eca...|000aec8698c204eca...|            3|       10.0|        10.0|                   10|              10|                 10|000aec8698c204eca...|                  4.0|             0.0|              1.0|               0.0|               0.0|                 6.0|                   0.0|                      7|                 0|                  1|                   0|                   0|                   733|                       0|               3.0|               3|          0|           1|              3|            0|            0|              2|                0|                1.0|                 7.0|               0.0|mobile_desktop|                       0|     no_social|                    2308|                  0|                   0|                    0|                    0|                 930278|                        0|                   2.0|              0.0|               1.0|                0.0|                0.0|                122.0|                    0.0|              0.13|               0.88|              0.0|                        330.0|                     0.0|                      0.0|                       0.0|                       0.0|                      1278.0|                           0.0|                 0.0|            0.0|             0.0|              0.0|              0.0|                1.0|                  0.0|       ricorrente|                             7|              296|         8|       253|                             4.0|                6.0|         4.0|         6.0|                                   1.75|                      74.0|                2.0|               74.0|                           2308|            133992|       2308|     108962|              329.7142857142857|1276.5694822888283|             288.5|1278.3110504774897|           326|                     10.0|                               0.0|                  1.0|           0.0|           1.0|                         5|                       2|                    0|                  0|                     1|                   0|                      0|                    0|                      0|                    0|                      477|                    256|                          0|                        0|                     1|                       0|                          2|                    4|                0|                  0|                     0|               0|                 0|                   0|                      0|                1|                  0|                    0|                       0|                 0|                  0|                    0|                       0|                 0|                   28|                    110|                       249|                 358|                      0|                        0|                           0|                     0|            0|             10|        10|           10| 10.0|        9.0|     10.0|000aec8698c204eca...|          5|          9|           13|            22|                    0|               21|                 1|                0|             14|                 8|                 3|                    3|              9|               7|                4.4| 2.4444444444444446|   1.6923076923076923|                       0.0|    0.9545454545454546|   0.045454545454545456|                   0.0|            2|                0|            1|             1|            0|               0.5|               0.5|               0.0|            0.0|                        0|                       0|        0.0|             7|            3|\n",
      "|000effd99733aebfe...|                null|000effd99733aebfe...|         null|        3.9|         4.0|                    4|               2|                  5|000effd99733aebfe...|                  1.0|             0.0|              0.0|               0.0|               0.0|                 0.0|                   0.0|                      2|                 0|                  0|                   0|                   0|                     0|                       0|               1.0|               2|          0|           0|              2|            0|            0|              0|                0|                0.0|                 2.0|               0.0|       desktop|                       0|     no_social|                    2956|                  0|                   0|                    0|                    0|                      0|                        0|                   2.0|              0.0|               0.0|                0.0|                0.0|                  0.0|                    0.0|               0.0|                1.0|              0.0|                       1478.0|                     0.0|                      0.0|                       0.0|                       0.0|                         0.0|                           0.0|                 0.0|            0.0|             0.0|              0.0|              0.0|                0.0|                  0.0|   non ricorrente|                             2|                0|         2|         0|                             1.0|                0.0|         1.0|         0.0|                                    2.0|                       0.0|                2.0|                0.0|                           2956|                 0|       2956|          0|                         1478.0|               0.0|            1478.0|               0.0|             2|                      2.0|                               0.0|                  0.0|           0.0|           0.0|                         2|                       0|                    0|                  0|                     0|                   0|                      0|                    0|                      0|                    0|                        0|                      0|                          0|                        0|                     0|                       0|                          0|                    2|                0|                  0|                     0|               0|                 0|                   0|                      0|                0|                  0|                    0|                       0|                 0|                  0|                    0|                       0|                 0|                    0|                      0|                         0|                   0|                      0|                        0|                           0|                     0|            0|              4|         2|            5|  3.9|        3.0|      4.0|                null|       null|       null|         null|          null|                 null|             null|              null|             null|           null|              null|              null|                 null|           null|            null|               null|               null|                 null|                      null|                  null|                   null|                  null|         null|             null|         null|          null|         null|              null|              null|              null|           null|                     null|                    null|       null|          null|         null|\n",
      "|000fd3e0c929462b3...|000fd3e0c929462b3...|000fd3e0c929462b3...|            8|        8.1|         8.0|                   10|               5|                  7|000fd3e0c929462b3...|                  4.0|             2.0|              0.0|               0.0|               0.0|                 0.0|                   0.0|                     10|                 5|                  0|                   0|                   0|                     0|                       0|               2.0|               6|          3|           0|              8|            0|            0|              0|                0|               14.0|                 1.0|               0.0|mobile_desktop|                       0|     no_social|                     294|                  0|                   0|                    0|                    0|                      0|                        0|                   3.0|              3.0|               0.0|                0.0|                0.0|                  0.0|                    0.0|              0.93|               0.07|              0.0|                         29.0|                     0.0|                      0.0|                       0.0|                       0.0|                         0.0|                           0.0|                 0.0|            0.0|             0.0|              0.0|              0.0|                0.0|                  0.0|   non ricorrente|                            10|                5|        15|         0|                             4.0|                2.0|         4.0|         0.0|                                    2.5|                       2.5|               3.75|                0.0|                            294|                 0|        294|          0|                           29.4|               0.0|              19.6|               0.0|            15|                      8.0|                               0.0|                  0.0|           0.0|           0.0|                         9|                       1|                    5|                  0|                     0|                   0|                      0|                    0|                      0|                    0|                        0|                      0|                          0|                        0|                     0|                       2|                          0|                    8|                0|                  3|                     1|               1|                 0|                   0|                      0|                0|                  0|                    0|                       0|                 0|                  0|                    0|                       0|                 0|                    0|                      0|                         0|                   0|                      0|                        0|                           0|                     0|            0|             10|         5|            7|  8.1|        7.0|      8.0|000fd3e0c929462b3...|          6|         25|          131|           916|                    0|                0|                58|              601|            533|               383|               162|                  342|            300|             112| 152.66666666666666|              36.64|     6.99236641221374|                       0.0|                   0.0|    0.06331877729257641|    0.9366812227074236|            3|                0|            0|             2|            1|               0.0|0.6666666666666666|0.3333333333333333|            0.0|                        0|                       0|        0.0|            19|            8|\n",
      "|001516de23bee4c89...|                null|001516de23bee4c89...|         null|        1.8|         1.0|                    2|               1|                  2|001516de23bee4c89...|                  2.0|             1.0|              0.0|               0.0|               0.0|                 0.0|                   0.0|                      3|                 2|                  0|                   0|                   0|                     0|                       0|               2.0|               1|          1|           0|              1|            0|            0|              0|                0|                5.0|                 0.0|               0.0|        mobile|                       0|     no_social|                      75|                  0|                   0|                    0|                    0|                      0|                        0|                   2.0|              2.0|               0.0|                0.0|                0.0|                  0.0|                    0.0|               1.0|                0.0|              0.0|                         25.0|                     0.0|                      0.0|                       0.0|                       0.0|                         0.0|                           0.0|                 0.0|            0.0|             0.0|              0.0|              0.0|                0.0|                  0.0|   non ricorrente|                             3|                2|         5|         0|                             2.0|                1.0|         2.0|         0.0|                                    1.5|                       2.0|                2.5|                0.0|                             75|                 0|         75|          0|                           25.0|               0.0|              15.0|               0.0|             5|                      4.0|                               0.0|                  0.0|           0.0|           0.0|                         3|                       0|                    1|                  1|                     0|                   0|                      0|                    0|                      0|                    0|                        0|                      0|                          0|                        0|                     0|                       0|                          1|                    2|                1|                  1|                     0|               0|                 0|                   0|                      0|                0|                  0|                    0|                       0|                 0|                  0|                    0|                       0|                 0|                    0|                      0|                         0|                   0|                      0|                        0|                           0|                     0|            0|              2|         1|            2|  1.8|        0.0|      1.0|                null|       null|       null|         null|          null|                 null|             null|              null|             null|           null|              null|              null|                 null|           null|            null|               null|               null|                 null|                      null|                  null|                   null|                  null|         null|             null|         null|          null|         null|              null|              null|              null|           null|                     null|                    null|       null|          null|         null|\n",
      "|001a2224a6e43beef...|001a2224a6e43beef...|001a2224a6e43beef...|            4|        7.5|         8.0|                    8|               7|                  7|001a2224a6e43beef...|                  3.0|             3.0|              1.0|               3.0|               0.0|                 0.0|                   0.0|                      5|                 6|                  2|                   5|                   0|                     0|                       0|               4.0|               3|          2|           1|              3|            1|            0|              0|                0|               12.0|                 1.0|               0.0|mobile_desktop|                       0|     no_social|                    3982|                  0|                   0|                 2733|                    0|                      0|                        0|                   2.0|              2.0|               2.0|                2.0|                0.0|                  0.0|                    0.0|              0.92|               0.08|              0.0|                        796.0|                     0.0|                      0.0|                     547.0|                       0.0|                         0.0|                           0.0|                 0.0|            0.0|             0.0|              0.0|              0.0|                0.0|                  0.0|   non ricorrente|                            10|                8|        13|         5|                             3.0|                3.0|         3.0|         3.0|                     3.3333333333333335|        2.6666666666666665|  4.333333333333333| 1.6666666666666667|                           6715|                 0|       3982|       2733|                          671.5|               0.0| 306.3076923076923|             546.6|            18|                      8.0|                               0.0|                  0.0|           0.0|           0.0|                         4|                       1|                    4|                  2|                     0|                   2|                      5|                    0|                      0|                    0|                        0|                      0|                          0|                        0|                     1|                       0|                          1|                    3|                0|                  1|                     1|               4|                 0|                   2|                      0|                0|                  1|                    1|                       1|                 3|                  0|                    0|                       0|                 0|                    0|                      0|                         0|                   0|                      0|                        0|                           0|                     0|            0|              8|         7|            7|  7.5|        7.0|      8.0|001a2224a6e43beef...|          6|         24|          123|           631|                    0|              630|                 1|                0|            426|               205|               177|                  178|            209|              67| 105.16666666666667| 26.291666666666668|    5.130081300813008|                       0.0|    0.9984152139461173|   0.001584786053882726|                   0.0|            2|                0|            1|             1|            0|               0.5|               0.5|               0.0|            0.0|                        0|                       0|        0.0|            12|            4|\n",
      "|001a420df0de04a04...|001a420df0de04a04...|001a420df0de04a04...|            2|        1.0|         1.0|                    1|               1|                  1|001a420df0de04a04...|                  1.0|             0.0|              0.0|               0.0|               0.0|                 0.0|                   0.0|                      1|                 0|                  0|                   0|                   0|                     0|                       0|               1.0|               1|          0|           0|              1|            0|            0|              0|                0|                0.0|                 1.0|               0.0|       desktop|                       0|     no_social|                    1498|                  0|                   0|                    0|                    0|                      0|                        0|                   1.0|              0.0|               0.0|                0.0|                0.0|                  0.0|                    0.0|               0.0|                1.0|              0.0|                       1498.0|                     0.0|                      0.0|                       0.0|                       0.0|                         0.0|                           0.0|                 0.0|            0.0|             0.0|              0.0|              0.0|                0.0|                  0.0|   non ricorrente|                             1|                0|         1|         0|                             1.0|                0.0|         1.0|         0.0|                                    1.0|                       0.0|                1.0|                0.0|                           1498|                 0|       1498|          0|                         1498.0|               0.0|            1498.0|               0.0|             1|                      1.0|                               0.0|                  0.0|           0.0|           0.0|                         1|                       0|                    0|                  0|                     0|                   0|                      0|                    0|                      0|                    0|                        0|                      0|                          0|                        0|                     0|                       0|                          1|                    0|                0|                  0|                     0|               0|                 0|                   0|                      0|                0|                  0|                    0|                       0|                 0|                  0|                    0|                       0|                 0|                    0|                      0|                         0|                   0|                      0|                        0|                           0|                     0|            0|              1|         1|            1|  1.0|        0.0|      1.0|001a420df0de04a04...|          1|          1|            1|             1|                    0|                1|                 0|                0|              1|                 0|                 0|                    0|              1|               0|                1.0|                1.0|                  1.0|                       0.0|                   1.0|                    0.0|                   0.0|            1|                0|            1|             0|            0|               1.0|               0.0|               0.0|            0.0|                        0|                       0|        0.0|             2|            2|\n",
      "|001da7d5e04f2482f...|001da7d5e04f2482f...|001da7d5e04f2482f...|            4|        3.9|         4.0|                    4|               2|                  5|001da7d5e04f2482f...|                  1.0|             0.0|              0.0|               0.0|               0.0|                 0.0|                   0.0|                      2|                 0|                  0|                   0|                   0|                     0|                       0|               1.0|               1|          0|           0|              1|            0|            0|              0|                0|                0.0|                 2.0|               0.0|       desktop|                       0|     no_social|                     317|                  0|                   0|                    0|                    0|                      0|                        0|                   2.0|              0.0|               0.0|                0.0|                0.0|                  0.0|                    0.0|               0.0|                1.0|              0.0|                        159.0|                     0.0|                      0.0|                       0.0|                       0.0|                         0.0|                           0.0|                 0.0|            0.0|             0.0|              0.0|              0.0|                0.0|                  0.0|   non ricorrente|                             2|                0|         2|         0|                             1.0|                0.0|         1.0|         0.0|                                    2.0|                       0.0|                2.0|                0.0|                            317|                 0|        317|          0|                          158.5|               0.0|             158.5|               0.0|             2|                      2.0|                               0.0|                  0.0|           0.0|           0.0|                         2|                       0|                    0|                  0|                     0|                   0|                      0|                    0|                      0|                    0|                        0|                      0|                          0|                        0|                     0|                       2|                          0|                    0|                0|                  0|                     0|               0|                 0|                   0|                      0|                0|                  0|                    0|                       0|                 0|                  0|                    0|                       0|                 0|                    0|                      0|                         0|                   0|                      0|                        0|                           0|                     0|            0|              4|         2|            5|  3.9|        3.0|      4.0|001da7d5e04f2482f...|          2|          4|            7|            25|                    0|                0|                25|                0|             25|                 0|                15|                   10|              0|               0|               12.5|               6.25|   3.5714285714285716|                       0.0|                   0.0|                    1.0|                   0.0|            1|                0|            0|             1|            0|               0.0|               1.0|               0.0|            0.0|                        0|                       0|        0.0|             1|            4|\n",
      "|001e2193b90bffb5b...|001e2193b90bffb5b...|001e2193b90bffb5b...|            4|        9.7|        10.0|                   10|              10|                  9|001e2193b90bffb5b...|                  3.0|             0.0|              2.0|               0.0|               6.0|                 0.0|                   0.0|                      3|                 0|                 11|                   0|                 118|                     0|                       0|               3.0|               2|          0|           1|              2|            0|            1|              0|                0|               13.0|                 1.0|               0.0|mobile_desktop|                       0|     no_social|                       0|                  0|                   0|                    0|                30974|                      0|                        0|                   1.0|              0.0|               6.0|                0.0|               21.0|                  0.0|                    0.0|              0.93|               0.07|              0.0|                          0.0|                     0.0|                      0.0|                       0.0|                     201.0|                         0.0|                           0.0|                 0.0|            0.0|             0.0|              0.0|              1.0|                0.0|                  0.0|       ricorrente|                            76|               11|        14|       202|                             6.0|                2.0|         3.0|         6.0|                                   14.0|                       5.5|  4.666666666666667| 33.666666666666664|                          27420|                 0|          0|      40592|             198.00975609756097|               0.0|               0.0|200.95049504950495|           216|                     10.0|                               1.0|                  0.0|           0.0|           1.0|                         1|                       2|                    0|                  0|                     4|                   7|                      0|                    0|                     84|                   37|                        0|                      0|                          0|                        0|                     0|                       0|                          1|                    2|                0|                  0|                     0|               0|                 0|                   0|                      5|                6|                  0|                    0|                       0|                 0|                  0|                   22|                      36|                63|                    0|                      0|                         0|                   0|                      0|                        0|                           0|                     0|            0|             10|        10|            9|  9.7|        9.0|     10.0|001e2193b90bffb5b...|          6|         24|           79|           246|                    0|              212|                34|                0|            172|                74|                51|                   77|            109|               9|               41.0|              10.25|   3.1139240506329116|                       0.0|    0.8617886178861789|    0.13821138211382114|                   0.0|            2|                0|            1|             1|            0|               0.5|               0.5|               0.0|            0.0|                        0|                       0|        0.0|             6|            4|\n",
      "|0028e80ef65484c56...|0028e80ef65484c56...|0028e80ef65484c56...|            4|        3.9|         4.0|                    4|               2|                  5|0028e80ef65484c56...|                  1.0|             0.0|              0.0|               0.0|               0.0|                 0.0|                   0.0|                      2|                 0|                  0|                   0|                   0|                     0|                       0|               1.0|               2|          0|           0|              2|            0|            0|              0|                0|                0.0|                 2.0|               0.0|       desktop|                       0|     no_social|                    1539|                  0|                   0|                    0|                    0|                      0|                        0|                   2.0|              0.0|               0.0|                0.0|                0.0|                  0.0|                    0.0|               0.0|                1.0|              0.0|                        770.0|                     0.0|                      0.0|                       0.0|                       0.0|                         0.0|                           0.0|                 0.0|            0.0|             0.0|              0.0|              0.0|                0.0|                  0.0|   non ricorrente|                             2|                0|         2|         0|                             1.0|                0.0|         1.0|         0.0|                                    2.0|                       0.0|                2.0|                0.0|                           1539|                 0|       1539|          0|                          769.5|               0.0|             769.5|               0.0|             2|                      2.0|                               0.0|                  0.0|           0.0|           0.0|                         0|                       2|                    0|                  0|                     0|                   0|                      0|                    0|                      0|                    0|                        0|                      0|                          0|                        0|                     0|                       0|                          2|                    0|                0|                  0|                     0|               0|                 0|                   0|                      0|                0|                  0|                    0|                       0|                 0|                  0|                    0|                       0|                 0|                    0|                      0|                         0|                   0|                      0|                        0|                           0|                     0|            0|              4|         2|            5|  3.9|        3.0|      4.0|0028e80ef65484c56...|          2|          2|            2|             5|                    0|                0|                 5|                0|              5|                 0|                 0|                    5|              0|               0|                2.5|                2.5|                  2.5|                       0.0|                   0.0|                    1.0|                   0.0|            1|                0|            0|             1|            0|               0.0|               1.0|               0.0|            0.0|                        0|                       0|        0.0|             5|            4|\n",
      "|002bd395a3f7ca4ec...|002bd395a3f7ca4ec...|002bd395a3f7ca4ec...|           10|        3.1|         3.0|                    2|               6|                  3|002bd395a3f7ca4ec...|                  0.0|             0.0|              0.0|               2.0|               0.0|                 0.0|                   0.0|                      0|                 0|                  0|                   2|                   0|                     0|                       0|               1.0|               0|          0|           0|              0|            1|            0|              0|                0|                0.0|                 0.0|               0.0|        mobile|                       0|     no_social|                       0|                  0|                   0|                  263|                    0|                      0|                        0|                   0.0|              0.0|               0.0|                1.0|                0.0|                  0.0|                    0.0|               1.0|                0.0|              0.0|                          0.0|                     0.0|                      0.0|                     132.0|                       0.0|                         0.0|                           0.0|                 0.0|            0.0|             0.0|              0.0|              0.0|                0.0|                  0.0|   non ricorrente|                             2|                0|         0|         2|                             2.0|                0.0|         0.0|         2.0|                                    1.0|                       0.0|                0.0|                1.0|                            263|                 0|          0|        263|                          131.5|               0.0|               0.0|             131.5|             2|                      2.0|                               0.0|                  0.0|           0.0|           0.0|                         0|                       0|                    0|                  0|                     0|                   0|                      2|                    0|                      0|                    0|                        0|                      0|                          0|                        0|                     0|                       0|                          0|                    0|                0|                  0|                     0|               0|                 0|                   0|                      0|                0|                  1|                    0|                       1|                 0|                  0|                    0|                       0|                 0|                    0|                      0|                         0|                   0|                      0|                        0|                           0|                     0|            0|              2|         6|            3|  3.1|        2.0|      3.0|002bd395a3f7ca4ec...|          6|         16|           35|            66|                    0|               66|                 0|                0|             49|                17|                19|                   17|             24|               6|               11.0|              4.125|   1.8857142857142857|                       0.0|                   1.0|                    0.0|                   0.0|            1|                0|            1|             0|            0|               1.0|               0.0|               0.0|            0.0|                        1|                       1|        1.0|             2|           10|\n",
      "|002e280652ccfb8b0...|002e280652ccfb8b0...|002e280652ccfb8b0...|            4|        6.2|         7.0|                    6|               7|                  6|002e280652ccfb8b0...|                  2.0|             0.0|              0.0|               0.0|               3.0|                 0.0|                   0.0|                      3|                 0|                  0|                   0|                   5|                     0|                       0|               2.0|               1|          0|           0|              1|            0|            1|              0|                0|                0.0|                 3.0|               0.0|       desktop|                       0|     no_social|                     815|                  0|                   0|                    0|                 3320|                      0|                        0|                   2.0|              0.0|               0.0|                0.0|                2.0|                  0.0|                    0.0|               0.0|                1.0|              0.0|                        272.0|                     0.0|                      0.0|                       0.0|                     664.0|                         0.0|                           0.0|                 0.0|            0.0|             0.0|              0.0|              0.0|                0.0|                  0.0|   non ricorrente|                             8|                0|         3|         5|                             3.0|                0.0|         2.0|         3.0|                     2.6666666666666665|                       0.0|                1.5| 1.6666666666666667|                           4135|                 0|        815|       3320|                        516.875|               0.0| 271.6666666666667|             664.0|             8|                      6.0|                               0.0|                  0.0|           0.0|           0.0|                         1|                       2|                    0|                  0|                     0|                   0|                      0|                    0|                      5|                    0|                        0|                      0|                          0|                        0|                     0|                       1|                          1|                    1|                0|                  0|                     0|               0|                 0|                   0|                      0|                0|                  0|                    0|                       0|                 0|                  0|                    0|                       1|                 4|                    0|                      0|                         0|                   0|                      0|                        0|                           0|                     0|            0|              6|         7|            6|  6.2|        6.0|      7.0|002e280652ccfb8b0...|          6|         25|          162|          1213|                    0|             1132|                81|                0|            690|               523|               341|                  447|            287|             138| 202.16666666666666|              48.52|    7.487654320987654|                       0.0|    0.9332234130255564|    0.06677658697444352|                   0.0|            3|                0|            2|             1|            0|0.6666666666666666|0.3333333333333333|               0.0|            0.0|                        0|                       0|        0.0|            20|            4|\n",
      "|003146d8bef6285ab...|                null|003146d8bef6285ab...|         null|        9.8|        10.0|                   10|               9|                 10|003146d8bef6285ab...|                  2.0|             1.0|              6.0|               0.0|               0.0|                 0.0|                   0.0|                      3|                 1|                121|                   0|                   0|                     0|                       0|               3.0|               2|          1|           1|              3|            0|            0|              0|                0|              123.0|                 1.0|               0.0|mobile_desktop|                      12|        social|                       6|                  0|               30127|                    0|                    0|                      0|                        0|                   2.0|              1.0|              20.0|                0.0|                0.0|                  0.0|                    0.0|              0.99|               0.01|              0.0|                          2.0|                     0.0|                    249.0|                       0.0|                       0.0|                         0.0|                           0.0|                 0.0|            0.0|             1.0|              0.0|              0.0|                0.0|                  0.0|       ricorrente|                             3|              122|       125|         0|                             2.0|                6.0|         6.0|         0.0|                                    1.5|        20.333333333333332| 20.833333333333332|                0.0|                              6|             30127|      30133|          0|                            2.0|246.94262295081967|           241.064|               0.0|           125|                     10.0|                               0.0|                  1.0|           1.0|           0.0|                         2|                       1|                    1|                  0|                    97|                  24|                      0|                    0|                      0|                    0|                        0|                      0|                          0|                        0|                     0|                       1|                          1|                    1|                1|                  0|                     0|               0|                 3|                  32|                     51|               38|                  0|                    0|                       0|                 0|                  0|                    0|                       0|                 0|                    0|                      0|                         0|                   0|                      0|                        0|                           0|                     0|            0|             10|         9|           10|  9.8|        9.0|     10.0|                null|       null|       null|         null|          null|                 null|             null|              null|             null|           null|              null|              null|                 null|           null|            null|               null|               null|                 null|                      null|                  null|                   null|                  null|         null|             null|         null|          null|         null|              null|              null|              null|           null|                     null|                    null|       null|          null|         null|\n",
      "|0034732e24e76cc3a...|0034732e24e76cc3a...|0034732e24e76cc3a...|            7|        7.4|         8.0|                    8|               8|                  6|0034732e24e76cc3a...|                  3.0|             0.0|              0.0|               3.0|               0.0|                 0.0|                   0.0|                      8|                 0|                  0|                   5|                   0|                     0|                       0|               2.0|               4|          0|           0|              4|            1|            0|              0|                0|                3.0|                 5.0|               0.0|mobile_desktop|                       0|     no_social|                    2936|                  0|                   0|                 1818|                    0|                      0|                        0|                   3.0|              0.0|               0.0|                2.0|                0.0|                  0.0|                    0.0|              0.38|               0.63|              0.0|                        367.0|                     0.0|                      0.0|                     364.0|                       0.0|                         0.0|                           0.0|                 0.0|            0.0|             0.0|              0.0|              0.0|                0.0|                  0.0|   non ricorrente|                            13|                0|         8|         5|                             3.0|                0.0|         3.0|         3.0|                      4.333333333333333|                       0.0| 2.6666666666666665| 1.6666666666666667|                           4754|                 0|       2936|       1818|              365.6923076923077|               0.0|             367.0|             363.6|            13|                      7.0|                               0.0|                  0.0|           0.0|           0.0|                         4|                       4|                    0|                  0|                     0|                   0|                      5|                    0|                      0|                    0|                        0|                      0|                          0|                        0|                     0|                       1|                          3|                    4|                0|                  0|                     0|               0|                 0|                   0|                      0|                0|                  0|                    3|                       2|                 1|                  0|                    0|                       0|                 0|                    0|                      0|                         0|                   0|                      0|                        0|                           0|                     0|            0|              8|         8|            6|  7.4|        7.0|      8.0|0034732e24e76cc3a...|          6|         25|           65|           238|                    0|               99|               139|                0|             75|               163|                23|                   72|            136|               7| 39.666666666666664|               9.52|   3.6615384615384614|                       0.0|   0.41596638655462187|     0.5840336134453782|                   0.0|            3|                0|            1|             2|            0|0.3333333333333333|0.6666666666666666|               0.0|            0.0|                        0|                       0|        0.0|             9|            7|\n",
      "|00376aa9ec875e1e5...|00376aa9ec875e1e5...|00376aa9ec875e1e5...|            8|        3.5|         3.0|                    2|               2|                  7|00376aa9ec875e1e5...|                  1.0|             2.0|              1.0|               0.0|               0.0|                 0.0|                   0.0|                      1|                 2|                  1|                   0|                   0|                     0|                       0|               3.0|               1|          1|           1|              1|            0|            0|              0|                0|                4.0|                 0.0|               0.0|        mobile|                       0|     no_social|                       0|                  0|                  16|                    0|                    0|                      0|                        0|                   1.0|              1.0|               1.0|                0.0|                0.0|                  0.0|                    0.0|               1.0|                0.0|              0.0|                          0.0|                     0.0|                     16.0|                       0.0|                       0.0|                         0.0|                           0.0|                 0.0|            0.0|             0.0|              0.0|              0.0|                0.0|                  0.0|   non ricorrente|                             1|                3|         4|         0|                             1.0|                2.0|         2.0|         0.0|                                    1.0|                       1.5|                2.0|                0.0|                              0|                16|         16|          0|                            0.0| 5.333333333333333|               4.0|               0.0|             4|                      4.0|                               0.0|                  0.0|           0.0|           0.0|                         1|                       0|                    1|                  1|                     1|                   0|                      0|                    0|                      0|                    0|                        0|                      0|                          0|                        0|                     0|                       0|                          0|                    1|                0|                  0|                     1|               1|                 0|                   0|                      0|                1|                  0|                    0|                       0|                 0|                  0|                    0|                       0|                 0|                    0|                      0|                         0|                   0|                      0|                        0|                           0|                     0|            0|              2|         2|            7|  3.5|        2.0|      3.0|00376aa9ec875e1e5...|          6|         22|           61|           157|                    0|                0|               157|                0|            133|                24|                70|                   45|             42|               0| 26.166666666666668|  7.136363636363637|   2.5737704918032787|                       0.0|                   0.0|                    1.0|                   0.0|            2|                0|            0|             2|            0|               0.0|               1.0|               0.0|            0.0|                        0|                       0|        0.0|            12|            8|\n",
      "|003bd909360cc50de...|003bd909360cc50de...|                null|            6|       null|        null|                 null|            null|               null|                null|                 null|            null|             null|              null|              null|                null|                  null|                   null|              null|               null|                null|                null|                  null|                    null|              null|            null|       null|        null|           null|         null|         null|           null|             null|               null|                null|              null|          null|                    null|          null|                    null|               null|                null|                 null|                 null|                   null|                     null|                  null|             null|              null|               null|               null|                 null|                   null|              null|               null|             null|                         null|                    null|                     null|                      null|                      null|                        null|                          null|                null|           null|            null|             null|             null|               null|                 null|             null|                          null|             null|      null|      null|                            null|               null|        null|        null|                                   null|                      null|               null|               null|                           null|              null|       null|       null|                           null|              null|              null|              null|          null|                     null|                              null|                 null|          null|          null|                      null|                    null|                 null|               null|                  null|                null|                   null|                 null|                   null|                 null|                     null|                   null|                       null|                     null|                  null|                    null|                       null|                 null|             null|               null|                  null|            null|              null|                null|                   null|             null|               null|                 null|                    null|              null|               null|                 null|                    null|              null|                 null|                   null|                      null|                null|                   null|                     null|                        null|                  null|         null|           null|      null|         null| null|       null|     null|003bd909360cc50de...|          3|          8|           18|            50|                    0|                0|                50|                0|             37|                13|                 2|                   23|             25|               0| 16.666666666666668|               6.25|   2.7777777777777777|                       0.0|                   0.0|                    1.0|                   0.0|            1|                0|            0|             1|            0|               0.0|               1.0|               0.0|            0.0|                        0|                       0|        0.0|             1|            6|\n",
      "|003f67404607a7474...|003f67404607a7474...|003f67404607a7474...|            8|        8.2|         9.0|                   10|               7|                  6|003f67404607a7474...|                  4.0|             0.0|              0.0|               4.0|               0.0|                 0.0|                   0.0|                      7|                 0|                  0|                   6|                   0|                     0|                       0|               2.0|               7|          0|           0|              7|            1|            0|              0|                0|                0.0|                 0.0|               7.0|         other|                       0|     no_social|                    1719|                  0|                   0|                 3060|                    0|                      0|                        0|                   2.0|              0.0|               0.0|                2.0|                0.0|                  0.0|                    0.0|               0.0|                0.0|              1.0|                        246.0|                     0.0|                      0.0|                     510.0|                       0.0|                         0.0|                           0.0|                 0.0|            0.0|             0.0|              0.0|              0.0|                0.0|                  0.0|   non ricorrente|                            13|                0|         7|         6|                             4.0|                0.0|         4.0|         4.0|                                   3.25|                       0.0|               1.75|                1.5|                           4779|                 0|       1719|       3060|             367.61538461538464|               0.0|245.57142857142858|             510.0|            13|                      7.0|                               0.0|                  0.0|           0.0|           0.0|                         4|                       3|                    0|                  0|                     0|                   0|                      4|                    2|                      0|                    0|                        0|                      0|                          0|                        0|                     0|                       0|                          1|                    6|                0|                  0|                     0|               0|                 0|                   0|                      0|                0|                  0|                    0|                       1|                 5|                  0|                    0|                       0|                 0|                    0|                      0|                         0|                   0|                      0|                        0|                           0|                     0|            0|             10|         7|            6|  8.2|        8.0|      9.0|003f67404607a7474...|          6|         25|          151|          1089|                    0|             1019|                 0|               70|            625|               464|               307|                  436|            227|             119|              181.5|              43.56|    7.211920529801325|                       0.0|    0.9357208448117539|                    0.0|    0.0642791551882461|            2|                0|            1|             0|            1|               0.5|               0.0|               0.5|            0.0|                        0|                       0|        0.0|            47|            8|\n",
      "+--------------------+--------------------+--------------------+-------------+-----------+------------+---------------------+----------------+-------------------+--------------------+---------------------+----------------+-----------------+------------------+------------------+--------------------+----------------------+-----------------------+------------------+-------------------+--------------------+--------------------+----------------------+------------------------+------------------+----------------+-----------+------------+---------------+-------------+-------------+---------------+-----------------+-------------------+--------------------+------------------+--------------+------------------------+--------------+------------------------+-------------------+--------------------+---------------------+---------------------+-----------------------+-------------------------+----------------------+-----------------+------------------+-------------------+-------------------+---------------------+-----------------------+------------------+-------------------+-----------------+-----------------------------+------------------------+-------------------------+--------------------------+--------------------------+----------------------------+------------------------------+--------------------+---------------+----------------+-----------------+-----------------+-------------------+---------------------+-----------------+------------------------------+-----------------+----------+----------+--------------------------------+-------------------+------------+------------+---------------------------------------+--------------------------+-------------------+-------------------+-------------------------------+------------------+-----------+-----------+-------------------------------+------------------+------------------+------------------+--------------+-------------------------+----------------------------------+---------------------+--------------+--------------+--------------------------+------------------------+---------------------+-------------------+----------------------+--------------------+-----------------------+---------------------+-----------------------+---------------------+-------------------------+-----------------------+---------------------------+-------------------------+----------------------+------------------------+---------------------------+---------------------+-----------------+-------------------+----------------------+----------------+------------------+--------------------+-----------------------+-----------------+-------------------+---------------------+------------------------+------------------+-------------------+---------------------+------------------------+------------------+---------------------+-----------------------+--------------------------+--------------------+-----------------------+-------------------------+----------------------------+----------------------+-------------+---------------+----------+-------------+-----+-----------+---------+--------------------+-----------+-----------+-------------+--------------+---------------------+-----------------+------------------+-----------------+---------------+------------------+------------------+---------------------+---------------+----------------+-------------------+-------------------+---------------------+--------------------------+----------------------+-----------------------+----------------------+-------------+-----------------+-------------+--------------+-------------+------------------+------------------+------------------+---------------+-------------------------+------------------------+-----------+--------------+-------------+\n",
      "only showing top 20 rows\n",
      "\n"
     ]
    }
   ],
   "source": [
    "#df_adobe_adform.show()"
   ]
  },
  {
   "cell_type": "code",
   "execution_count": 220,
   "metadata": {},
   "outputs": [
    {
     "data": {
      "text/plain": [
       "2685258"
      ]
     },
     "execution_count": 220,
     "metadata": {},
     "output_type": "execute_result"
    }
   ],
   "source": [
    "#prova_adobe = df_adobe_adform.filter('adobe_decile > 0')\n",
    "#prova_adobe.count()"
   ]
  },
  {
   "cell_type": "code",
   "execution_count": 215,
   "metadata": {},
   "outputs": [
    {
     "data": {
      "text/plain": [
       "2790876"
      ]
     },
     "execution_count": 215,
     "metadata": {},
     "output_type": "execute_result"
    }
   ],
   "source": [
    "#prova_adform = df_adobe_adform.filter('adform_decile > 0')\n",
    "#prova_adform.count()"
   ]
  },
  {
   "cell_type": "code",
   "execution_count": 221,
   "metadata": {},
   "outputs": [
    {
     "data": {
      "text/plain": [
       "2266136"
      ]
     },
     "execution_count": 221,
     "metadata": {},
     "output_type": "execute_result"
    }
   ],
   "source": [
    "#prova_adform_adobe = df_adobe_adform.filter('adform_decile > 0 and adobe_decile>0')\n",
    "#prova_adform_adobe.count()"
   ]
  },
  {
   "cell_type": "code",
   "execution_count": 216,
   "metadata": {},
   "outputs": [
    {
     "data": {
      "text/plain": [
       "524740"
      ]
     },
     "execution_count": 216,
     "metadata": {},
     "output_type": "execute_result"
    }
   ],
   "source": [
    "#solo_adform = df_adobe_adform.filter('adobe_decile is null')\n",
    "#solo_adform.count()"
   ]
  },
  {
   "cell_type": "code",
   "execution_count": 217,
   "metadata": {},
   "outputs": [
    {
     "data": {
      "text/plain": [
       "419122"
      ]
     },
     "execution_count": 217,
     "metadata": {},
     "output_type": "execute_result"
    }
   ],
   "source": [
    "#solo_adobe = df_adobe_adform.filter('adform_decile is null')\n",
    "#solo_adobe.count() #419122"
   ]
  },
  {
   "cell_type": "code",
   "execution_count": 222,
   "metadata": {},
   "outputs": [
    {
     "data": {
      "text/plain": [
       "3209998"
      ]
     },
     "execution_count": 222,
     "metadata": {},
     "output_type": "execute_result"
    }
   ],
   "source": [
    "2266136 + 419122 +524740"
   ]
  },
  {
   "cell_type": "code",
   "execution_count": 226,
   "metadata": {
    "collapsed": true
   },
   "outputs": [],
   "source": [
    "df_adobe_adform.createOrReplaceTempView('df_adobe_adform')"
   ]
  },
  {
   "cell_type": "code",
   "execution_count": 231,
   "metadata": {},
   "outputs": [],
   "source": [
    "decile_pesato_50_50 = spark.sql('SELECT distinct df.*, CASE WHEN (df.adobe_decile is null) THEN df.adform_decile WHEN (df.adform_decile is null) THEN df.adobe_decile WHEN (df.adobe_decile > 0 and df.adform_decile > 0) THEN (0.5*df.adobe_decile + 0.5*df.adform_decile) ELSE Null END AS decile_finale_pesato FROM df_adobe_adform df')"
   ]
  },
  {
   "cell_type": "code",
   "execution_count": 232,
   "metadata": {
    "collapsed": true
   },
   "outputs": [],
   "source": [
    "#decile_pesato_50_50_select = decile_pesato_50_50.select('ext_id_adobe_adform','ext_id_adform','ext_id_adobe','adform_decile','adobe_decile','decile_finale_pesato')"
   ]
  },
  {
   "cell_type": "code",
   "execution_count": 233,
   "metadata": {},
   "outputs": [
    {
     "name": "stdout",
     "output_type": "stream",
     "text": [
      "+--------------------+--------------------+--------------------+-------------+------------+--------------------+\n",
      "| ext_id_adobe_adform|       ext_id_adform|        ext_id_adobe|adform_decile|adobe_decile|decile_finale_pesato|\n",
      "+--------------------+--------------------+--------------------+-------------+------------+--------------------+\n",
      "|021130e827dbf3667...|021130e827dbf3667...|021130e827dbf3667...|            4|         3.0|                 3.5|\n",
      "|0a5e116d038c659ca...|0a5e116d038c659ca...|0a5e116d038c659ca...|            3|         4.0|                 3.5|\n",
      "|0d9f9a65f42e83dd8...|0d9f9a65f42e83dd8...|                null|            6|        null|                 6.0|\n",
      "|18f6893843f1d1dd7...|18f6893843f1d1dd7...|18f6893843f1d1dd7...|            6|         3.0|                 4.5|\n",
      "|190847eb7d773c48e...|190847eb7d773c48e...|190847eb7d773c48e...|            6|         4.0|                 5.0|\n",
      "|190d1f4bdf140a68f...|190d1f4bdf140a68f...|190d1f4bdf140a68f...|           10|         4.0|                 7.0|\n",
      "|19e7eca48de61ba2a...|19e7eca48de61ba2a...|19e7eca48de61ba2a...|           10|         5.0|                 7.5|\n",
      "|1a53b8bd3b9df48f1...|1a53b8bd3b9df48f1...|                null|            9|        null|                 9.0|\n",
      "|1b871f50e641f0fc4...|1b871f50e641f0fc4...|1b871f50e641f0fc4...|            9|         5.0|                 7.0|\n",
      "|20b2252f0469d0d9b...|                null|20b2252f0469d0d9b...|         null|         8.0|                 8.0|\n",
      "|2210865d61b361550...|2210865d61b361550...|2210865d61b361550...|            9|        10.0|                 9.5|\n",
      "|24066bfcf25906938...|24066bfcf25906938...|24066bfcf25906938...|           10|         6.0|                 8.0|\n",
      "|287c9b2ba44be34b2...|287c9b2ba44be34b2...|287c9b2ba44be34b2...|            1|         1.0|                 1.0|\n",
      "|2945c6846f3aa6af4...|2945c6846f3aa6af4...|2945c6846f3aa6af4...|            1|         8.0|                 4.5|\n",
      "|2aef69887ed63d932...|2aef69887ed63d932...|2aef69887ed63d932...|           10|         6.0|                 8.0|\n",
      "|2ee522130f6fd66ab...|2ee522130f6fd66ab...|2ee522130f6fd66ab...|            6|         9.0|                 7.5|\n",
      "|32ad264ede6d02e76...|                null|32ad264ede6d02e76...|         null|         2.0|                 2.0|\n",
      "|34adcb8a2f0e1264f...|34adcb8a2f0e1264f...|34adcb8a2f0e1264f...|            4|         8.0|                 6.0|\n",
      "|360985e4ed4c986da...|360985e4ed4c986da...|360985e4ed4c986da...|            5|         7.0|                 6.0|\n",
      "|3a38c2e028b2fbda4...|3a38c2e028b2fbda4...|                null|            7|        null|                 7.0|\n",
      "+--------------------+--------------------+--------------------+-------------+------------+--------------------+\n",
      "only showing top 20 rows\n",
      "\n"
     ]
    }
   ],
   "source": [
    "#decile_pesato_50_50_select.show()"
   ]
  },
  {
   "cell_type": "code",
   "execution_count": 234,
   "metadata": {
    "collapsed": true
   },
   "outputs": [],
   "source": [
    "#decile_finale_rounded = decile_pesato_50_50_select.withColumn('decile_pesato_rounded', round('decile_finale_pesato'))"
   ]
  },
  {
   "cell_type": "code",
   "execution_count": 235,
   "metadata": {},
   "outputs": [
    {
     "name": "stdout",
     "output_type": "stream",
     "text": [
      "+--------------------+--------------------+--------------------+-------------+------------+--------------------+---------------------+\n",
      "| ext_id_adobe_adform|       ext_id_adform|        ext_id_adobe|adform_decile|adobe_decile|decile_finale_pesato|decile_pesato_rounded|\n",
      "+--------------------+--------------------+--------------------+-------------+------------+--------------------+---------------------+\n",
      "|00d76d610ddd682ec...|00d76d610ddd682ec...|00d76d610ddd682ec...|            8|         9.0|                 8.5|                  9.0|\n",
      "|05546750041956564...|05546750041956564...|05546750041956564...|           10|         8.0|                 9.0|                  9.0|\n",
      "|091967c9f98b70c90...|091967c9f98b70c90...|091967c9f98b70c90...|            3|         2.0|                 2.5|                  3.0|\n",
      "|12460bb3a113d5a2e...|                null|12460bb3a113d5a2e...|         null|         9.0|                 9.0|                  9.0|\n",
      "|14fed4b7c18bbed86...|14fed4b7c18bbed86...|                null|            8|        null|                 8.0|                  8.0|\n",
      "|18ae00f69c312ee3a...|18ae00f69c312ee3a...|18ae00f69c312ee3a...|            2|         2.0|                 2.0|                  2.0|\n",
      "|1c56d75c93badf285...|1c56d75c93badf285...|1c56d75c93badf285...|            4|         5.0|                 4.5|                  5.0|\n",
      "|1e47c296886915d31...|1e47c296886915d31...|1e47c296886915d31...|            4|         4.0|                 4.0|                  4.0|\n",
      "|26fa48dc5fd09b368...|26fa48dc5fd09b368...|26fa48dc5fd09b368...|            3|         6.0|                 4.5|                  5.0|\n",
      "|2c3bd9b72d04bdb49...|2c3bd9b72d04bdb49...|                null|            6|        null|                 6.0|                  6.0|\n",
      "|30447a40eecfd8cdd...|30447a40eecfd8cdd...|30447a40eecfd8cdd...|            3|         6.0|                 4.5|                  5.0|\n",
      "|34be7358534bd6158...|                null|34be7358534bd6158...|         null|         1.0|                 1.0|                  1.0|\n",
      "|36ebc889c3d03b900...|                null|36ebc889c3d03b900...|         null|         1.0|                 1.0|                  1.0|\n",
      "|3a3a3d60f1ddbbec3...|3a3a3d60f1ddbbec3...|3a3a3d60f1ddbbec3...|            2|         3.0|                 2.5|                  3.0|\n",
      "|3a8acf7fb87e83082...|3a8acf7fb87e83082...|                null|            4|        null|                 4.0|                  4.0|\n",
      "|401d8fef4ef075b65...|                null|401d8fef4ef075b65...|         null|         2.0|                 2.0|                  2.0|\n",
      "|45aac2e7edf2836dd...|45aac2e7edf2836dd...|45aac2e7edf2836dd...|            7|         1.0|                 4.0|                  4.0|\n",
      "|4b8749ca55f26b14d...|4b8749ca55f26b14d...|4b8749ca55f26b14d...|           10|        10.0|                10.0|                 10.0|\n",
      "|4c812cb99dcc75c90...|4c812cb99dcc75c90...|4c812cb99dcc75c90...|            8|         8.0|                 8.0|                  8.0|\n",
      "|4d3e2d8039dbd0904...|4d3e2d8039dbd0904...|4d3e2d8039dbd0904...|            8|         4.0|                 6.0|                  6.0|\n",
      "+--------------------+--------------------+--------------------+-------------+------------+--------------------+---------------------+\n",
      "only showing top 20 rows\n",
      "\n"
     ]
    }
   ],
   "source": [
    "#decile_finale_rounded.show()"
   ]
  },
  {
   "cell_type": "code",
   "execution_count": 237,
   "metadata": {},
   "outputs": [],
   "source": [
    "decile_finale_rounded = decile_pesato_50_50.withColumn('decile_pesato_rounded', round('decile_finale_pesato'))"
   ]
  },
  {
   "cell_type": "code",
   "execution_count": 244,
   "metadata": {},
   "outputs": [
    {
     "data": {
      "text/plain": [
       "3209998"
      ]
     },
     "execution_count": 244,
     "metadata": {},
     "output_type": "execute_result"
    }
   ],
   "source": [
    "decile_finale_rounded.count() "
   ]
  },
  {
   "cell_type": "code",
   "execution_count": 240,
   "metadata": {
    "collapsed": true
   },
   "outputs": [],
   "source": [
    "decile_finale_rounded.createOrReplaceTempView('decile_finale_rounded')"
   ]
  },
  {
   "cell_type": "code",
   "execution_count": 241,
   "metadata": {},
   "outputs": [],
   "source": [
    "# count senza distinct\n",
    "#count_decili = spark.sql('select decile_pesato_rounded, count(ext_id_adobe_adform) from decile_finale_rounded group by decile_pesato_rounded order by decile_pesato_rounded asc')"
   ]
  },
  {
   "cell_type": "code",
   "execution_count": 246,
   "metadata": {},
   "outputs": [],
   "source": [
    "#count con distinct:\n",
    "count_decili = spark.sql('select decile_pesato_rounded, count(distinct(ext_id_adobe_adform)) from decile_finale_rounded group by decile_pesato_rounded order by decile_pesato_rounded asc')"
   ]
  },
  {
   "cell_type": "code",
   "execution_count": 247,
   "metadata": {},
   "outputs": [
    {
     "name": "stdout",
     "output_type": "stream",
     "text": [
      "+---------------------+-----------------------------------+\n",
      "|decile_pesato_rounded|count(DISTINCT ext_id_adobe_adform)|\n",
      "+---------------------+-----------------------------------+\n",
      "|                  1.0|                             192364|\n",
      "|                  2.0|                             289929|\n",
      "|                  3.0|                             334597|\n",
      "|                  4.0|                             340974|\n",
      "|                  5.0|                             427975|\n",
      "|                  6.0|                             439761|\n",
      "|                  7.0|                             392134|\n",
      "|                  8.0|                             338424|\n",
      "|                  9.0|                             255917|\n",
      "|                 10.0|                             197923|\n",
      "+---------------------+-----------------------------------+\n",
      "\n"
     ]
    }
   ],
   "source": [
    "count_decili.show()"
   ]
  },
  {
   "cell_type": "code",
   "execution_count": 250,
   "metadata": {
    "collapsed": true
   },
   "outputs": [],
   "source": [
    "decile_finale_rounded.write.parquet(path_df_kpi_finalissimo)"
   ]
  },
  {
   "cell_type": "code",
   "execution_count": 251,
   "metadata": {
    "collapsed": true
   },
   "outputs": [],
   "source": [
    "prova = spark.read.format('parquet').load(path_df_kpi_finalissimo).persist()"
   ]
  },
  {
   "cell_type": "code",
   "execution_count": 252,
   "metadata": {},
   "outputs": [
    {
     "data": {
      "text/plain": [
       "3209998"
      ]
     },
     "execution_count": 252,
     "metadata": {},
     "output_type": "execute_result"
    }
   ],
   "source": [
    "prova.count()"
   ]
  }
 ],
 "metadata": {
  "kernelspec": {
   "display_name": "Python 3",
   "language": "python",
   "name": "python3"
  },
  "language_info": {
   "codemirror_mode": {
    "name": "ipython",
    "version": 3
   },
   "file_extension": ".py",
   "mimetype": "text/x-python",
   "name": "python",
   "nbconvert_exporter": "python",
   "pygments_lexer": "ipython3",
   "version": "3.5.3"
  }
 },
 "nbformat": 4,
 "nbformat_minor": 2
}
