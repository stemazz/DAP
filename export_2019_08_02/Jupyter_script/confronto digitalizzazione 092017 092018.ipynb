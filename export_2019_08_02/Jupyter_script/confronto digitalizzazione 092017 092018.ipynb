{
 "cells": [
  {
   "cell_type": "code",
   "execution_count": 2,
   "metadata": {
    "collapsed": true
   },
   "outputs": [],
   "source": [
    "#spark.stop()\n",
    "%run ../connection.python.py"
   ]
  },
  {
   "cell_type": "code",
   "execution_count": 3,
   "metadata": {
    "collapsed": true
   },
   "outputs": [],
   "source": [
    "digitalizzazione_201810_df= spark.read.format('parquet').load('hdfs:///user/silvia/digitalizzazione_parziale_navigazione_201810')\n",
    "digitalizzazione_201810_df.createOrReplaceTempView(\"digitalizzazione_201810\")"
   ]
  },
  {
   "cell_type": "code",
   "execution_count": 28,
   "metadata": {},
   "outputs": [
    {
     "name": "stdout",
     "output_type": "stream",
     "text": [
      "+------------------------------------------------+------------------------+------------------------+\n",
      "|skyid                                           |score_totale_navigazione|livello_digitalizzazione|\n",
      "+------------------------------------------------+------------------------+------------------------+\n",
      "|0005eb13fdd2dd6347d3e560c21230692adeceb96c9db2cd|0.0                     |0                       |\n",
      "|0005f3f18bda8a53a22af40921ad131c0e4e913cbdb5f565|6.0                     |6                       |\n",
      "|0006530d860a31ca2a4b3539ad9baab4e2d668b4ee0da1a4|6.5                     |7                       |\n",
      "|0006b83f9d38ac301f2026071b2b816841bab3c09da501cc|3.0                     |3                       |\n",
      "|000aec8698c204ecadd4011222549f24efc5bc3ac949c457|7.0                     |7                       |\n",
      "|000effd99733aebfe511e729e39b71cdee0c9edd644891f5|6.0                     |6                       |\n",
      "|000fd3e0c929462b34a48485da2eb775e19b90b2a467e904|9.0                     |9                       |\n",
      "|001516de23bee4c89ee975bc01f82af32a4228043563858b|2.5                     |3                       |\n",
      "|0019000f9b848e357f8d21997d2164bdfd23f1b7ddff5e99|0.0                     |0                       |\n",
      "|001a2224a6e43beefdf4ad48b4eb61b8d398ca1353590d6a|8.5                     |9                       |\n",
      "+------------------------------------------------+------------------------+------------------------+\n",
      "only showing top 10 rows\n",
      "\n",
      "+------------------------+-------+\n",
      "|livello_digitalizzazione|count  |\n",
      "+------------------------+-------+\n",
      "|1                       |276419 |\n",
      "|6                       |358963 |\n",
      "|3                       |326641 |\n",
      "|5                       |309597 |\n",
      "|9                       |250478 |\n",
      "|4                       |338753 |\n",
      "|8                       |256619 |\n",
      "|7                       |307044 |\n",
      "|10                      |466004 |\n",
      "|2                       |344004 |\n",
      "|0                       |1271922|\n",
      "+------------------------+-------+\n",
      "\n"
     ]
    }
   ],
   "source": [
    "digitalizzazione_201810_df.show(10,False)\n",
    "\n",
    "\n",
    "gb_liv_finale_2018 = spark.sql(\"select livello_digitalizzazione, count(*) as count from digitalizzazione_201810 group by livello_digitalizzazione\")\n",
    "\n",
    "gb_liv_finale_2018.show(15,False)"
   ]
  },
  {
   "cell_type": "code",
   "execution_count": 5,
   "metadata": {},
   "outputs": [
    {
     "data": {
      "text/plain": [
       "4506444"
      ]
     },
     "execution_count": 5,
     "metadata": {},
     "output_type": "execute_result"
    }
   ],
   "source": [
    "digitalizzazione_201810_df.count()"
   ]
  },
  {
   "cell_type": "code",
   "execution_count": 6,
   "metadata": {
    "collapsed": true
   },
   "outputs": [],
   "source": [
    "digitalizzazione_201709_path= 'hdfs:///user/alessandro/clusterfinalscore_conApp.parquet'"
   ]
  },
  {
   "cell_type": "code",
   "execution_count": 7,
   "metadata": {},
   "outputs": [
    {
     "name": "stdout",
     "output_type": "stream",
     "text": [
      "root\n",
      " |-- skyid: string (nullable = true)\n",
      " |-- livello_digitalizzazione: double (nullable = true)\n",
      " |-- predictionCMDM: integer (nullable = true)\n",
      " |-- scoreCMDM: double (nullable = true)\n",
      " |-- cluster: integer (nullable = true)\n",
      " |-- cluster_score: integer (nullable = true)\n",
      " |-- devices_prediction: integer (nullable = true)\n",
      " |-- visite_prediction: integer (nullable = true)\n",
      " |-- devices_prediction_score: integer (nullable = true)\n",
      " |-- visite_prediction_score: integer (nullable = true)\n",
      "\n"
     ]
    }
   ],
   "source": [
    "digitalizzazione_201709_df= spark.read.format('parquet').load(digitalizzazione_201709_path)\n",
    "digitalizzazione_201709_df.printSchema()\n",
    "digitalizzazione_201709_df.createOrReplaceTempView(\"digitalizzazione_201709\")"
   ]
  },
  {
   "cell_type": "code",
   "execution_count": 8,
   "metadata": {
    "collapsed": true
   },
   "outputs": [],
   "source": [
    "digitalizzazione_201709_df=digitalizzazione_201709_df.distinct()"
   ]
  },
  {
   "cell_type": "code",
   "execution_count": 9,
   "metadata": {
    "collapsed": true
   },
   "outputs": [],
   "source": [
    "import pyspark.sql.functions as F"
   ]
  },
  {
   "cell_type": "code",
   "execution_count": 10,
   "metadata": {
    "collapsed": true
   },
   "outputs": [],
   "source": [
    "digitalizzazione_201709_df=digitalizzazione_201709_df.withColumn('digitalizzazione_bin', F.expr(\"IF(livello_digitalizzazione = 0, 0, IF(livello_digitalizzazione <=3, 1, IF(livello_digitalizzazione <=6, 2, IF(livello_digitalizzazione <=9, 3, IF(livello_digitalizzazione <=12, 4, IF(livello_digitalizzazione <=15, 5, IF(livello_digitalizzazione <=18, 6, IF(livello_digitalizzazione <=21, 7, IF(livello_digitalizzazione <=24, 8, IF(livello_digitalizzazione <=27, 9, IF(livello_digitalizzazione <=30, 10, null)))))))))))\"))"
   ]
  },
  {
   "cell_type": "code",
   "execution_count": 11,
   "metadata": {},
   "outputs": [
    {
     "data": {
      "text/plain": [
       "4178841"
      ]
     },
     "execution_count": 11,
     "metadata": {},
     "output_type": "execute_result"
    }
   ],
   "source": [
    "digitalizzazione_201709_df.createOrReplaceTempView(\"digitalizzazione_201709\")\n",
    "digitalizzazione_201709_df.count()"
   ]
  },
  {
   "cell_type": "code",
   "execution_count": 12,
   "metadata": {},
   "outputs": [
    {
     "name": "stdout",
     "output_type": "stream",
     "text": [
      "+------------------------------------------------+------------------------+--------------+---------+-------+-------------+------------------+-----------------+------------------------+-----------------------+--------------------+\n",
      "|skyid                                           |livello_digitalizzazione|predictionCMDM|scoreCMDM|cluster|cluster_score|devices_prediction|visite_prediction|devices_prediction_score|visite_prediction_score|digitalizzazione_bin|\n",
      "+------------------------------------------------+------------------------+--------------+---------+-------+-------------+------------------+-----------------+------------------------+-----------------------+--------------------+\n",
      "|015297d80b4b967f8c4ad4fc67d68f4af2293373d1c7c11f|20.184                  |4             |7.184    |4      |6            |4                 |1                |5                       |2                      |7                   |\n",
      "|042f6438eb89c8d28cd7fb82abef7ced689be9928b77beea|7.184                   |4             |7.184    |0      |0            |0                 |0                |0                       |0                      |3                   |\n",
      "|057e00511f17ab51eb83b6c7beb21279bb0d4b48fa6de0c9|21.184                  |4             |7.184    |4      |6            |2                 |3                |4                       |4                      |8                   |\n",
      "|06afc0a3a80402fdb1977b57ec11e95356a699621e5bfbfc|27.184                  |4             |7.184    |0      |10           |0                 |4                |5                       |5                      |10                  |\n",
      "|06ffe54517237ef007c31f63dc1db834d40c577e59bbf471|7.7509999999999994      |1             |2.751    |1      |2            |1                 |2                |2                       |1                      |3                   |\n",
      "|08e77482c6de4073a9ea313e41330e6979fb9d227ef52c17|19.184                  |4             |7.184    |3      |6            |2                 |1                |4                       |2                      |7                   |\n",
      "|0a79a4ef7edcf616adb485675d60abea747a4fd237047aad|27.27                   |5             |7.27     |0      |10           |0                 |0                |5                       |5                      |10                  |\n",
      "|0c7cbe385593fa35e38107abeea805d157c750dd95d28aa8|22.27                   |5             |7.27     |2      |8            |0                 |1                |5                       |2                      |8                   |\n",
      "|149b586271fd64e520c1cb63a575146ea7ab21413fb57170|2.751                   |1             |2.751    |0      |0            |0                 |0                |0                       |0                      |1                   |\n",
      "|18845193e17be54eb279ffc83fdc978b8915512060ac574c|25.0                    |2             |10.0     |2      |8            |0                 |1                |5                       |2                      |9                   |\n",
      "+------------------------------------------------+------------------------+--------------+---------+-------+-------------+------------------+-----------------+------------------------+-----------------------+--------------------+\n",
      "only showing top 10 rows\n",
      "\n"
     ]
    }
   ],
   "source": [
    "digitalizzazione_201709_df.show(10,False)"
   ]
  },
  {
   "cell_type": "code",
   "execution_count": 25,
   "metadata": {
    "collapsed": true
   },
   "outputs": [],
   "source": [
    "digitalizzazione_201709_df_mod = spark.sql(\"select skyid, digitalizzazione_bin as livello_vecchio, (cluster_score + (devices_prediction_score + visite_prediction_score)) as livello_digitalizzazione from digitalizzazione_201709\")"
   ]
  },
  {
   "cell_type": "code",
   "execution_count": 26,
   "metadata": {},
   "outputs": [
    {
     "name": "stdout",
     "output_type": "stream",
     "text": [
      "+------------------------------------------------+---------------+------------------------+--------------+\n",
      "|skyid                                           |livello_vecchio|livello_digitalizzazione|livello_finale|\n",
      "+------------------------------------------------+---------------+------------------------+--------------+\n",
      "|015297d80b4b967f8c4ad4fc67d68f4af2293373d1c7c11f|7              |13                      |7             |\n",
      "|042f6438eb89c8d28cd7fb82abef7ced689be9928b77beea|3              |0                       |0             |\n",
      "|057e00511f17ab51eb83b6c7beb21279bb0d4b48fa6de0c9|8              |14                      |7             |\n",
      "|06afc0a3a80402fdb1977b57ec11e95356a699621e5bfbfc|10             |20                      |10            |\n",
      "|06ffe54517237ef007c31f63dc1db834d40c577e59bbf471|3              |5                       |3             |\n",
      "|08e77482c6de4073a9ea313e41330e6979fb9d227ef52c17|7              |12                      |6             |\n",
      "|0a79a4ef7edcf616adb485675d60abea747a4fd237047aad|10             |20                      |10            |\n",
      "|0c7cbe385593fa35e38107abeea805d157c750dd95d28aa8|8              |15                      |8             |\n",
      "|149b586271fd64e520c1cb63a575146ea7ab21413fb57170|1              |0                       |0             |\n",
      "|18845193e17be54eb279ffc83fdc978b8915512060ac574c|9              |15                      |8             |\n",
      "|197f4170d96f73f934a0a9c27d5ebd1501bb0797d4307114|8              |15                      |8             |\n",
      "|1ef9bf8a13b2b74091770b7bc6e041dc3476a3de68fc2e04|0              |0                       |0             |\n",
      "|1fdcafaebbbb2b285782c4ccc223b4618aa0be9d2c50ab98|6              |11                      |6             |\n",
      "|2200e53261115c4c2911efb5dd7f7336affa1669e6ac399c|3              |0                       |0             |\n",
      "|228842cc57678e26d62804e9f8389aca6ad6a3021e8293a1|3              |0                       |0             |\n",
      "+------------------------------------------------+---------------+------------------------+--------------+\n",
      "only showing top 15 rows\n",
      "\n"
     ]
    }
   ],
   "source": [
    "digitalizzazione_201709_df_mod = digitalizzazione_201709_df_mod.withColumn('livello_finale', F.expr(\"IF(livello_digitalizzazione = 0, 0, IF(livello_digitalizzazione <=2, 1, IF(livello_digitalizzazione <=4, 2, IF(livello_digitalizzazione <=6, 3, IF(livello_digitalizzazione <=8, 4, IF(livello_digitalizzazione <=10, 5, IF(livello_digitalizzazione <=12, 6, IF(livello_digitalizzazione <=14, 7, IF(livello_digitalizzazione <=16, 8, IF(livello_digitalizzazione <=18, 9, IF(livello_digitalizzazione <=20, 10, null)))))))))))\"))\n",
    "digitalizzazione_201709_df_mod.show(15,False)\n"
   ]
  },
  {
   "cell_type": "code",
   "execution_count": 27,
   "metadata": {},
   "outputs": [
    {
     "name": "stdout",
     "output_type": "stream",
     "text": [
      "+--------------+-------+\n",
      "|livello_finale|count  |\n",
      "+--------------+-------+\n",
      "|6             |295701 |\n",
      "|3             |276395 |\n",
      "|5             |293690 |\n",
      "|9             |329016 |\n",
      "|4             |257684 |\n",
      "|8             |309624 |\n",
      "|7             |330023 |\n",
      "|10            |480615 |\n",
      "|2             |100848 |\n",
      "|0             |1505245|\n",
      "+--------------+-------+\n",
      "\n",
      "+---------------+------+\n",
      "|livello_vecchio|count |\n",
      "+---------------+------+\n",
      "|1              |726186|\n",
      "|6              |331278|\n",
      "|3              |388745|\n",
      "|5              |316538|\n",
      "|9              |354094|\n",
      "|4              |220934|\n",
      "|8              |380383|\n",
      "|7              |405872|\n",
      "|10             |507456|\n",
      "|2              |232957|\n",
      "|0              |314398|\n",
      "+---------------+------+\n",
      "\n"
     ]
    }
   ],
   "source": [
    "digitalizzazione_201709_df_mod.createOrReplaceTempView(\"digitalizzazione_201709_df_mod\")\n",
    "gb_liv_finale_2017 = spark.sql(\"select livello_finale, count(*) as count from digitalizzazione_201709_df_mod group by livello_finale\")\n",
    "\n",
    "gb_liv_finale_2017.show(15,False)\n",
    "\n",
    "\n",
    "gb_liv_vecchio_2017 = spark.sql(\"select livello_vecchio, count(*) as count from digitalizzazione_201709_df_mod group by livello_vecchio\")\n",
    "\n",
    "gb_liv_vecchio_2017.show(15,False)"
   ]
  },
  {
   "cell_type": "code",
   "execution_count": 29,
   "metadata": {
    "collapsed": true
   },
   "outputs": [],
   "source": [
    "summary_confronto=spark.sql(\"select a.livello_finale as livello_digitalizzazione_2017, b.livello_digitalizzazione as livello_digitalizzazione_2018, count(*) num_skyid from digitalizzazione_201709 a full outer join digitalizzazione_201810 b on a.skyid=b.skyid group by 1,2\").persist()"
   ]
  },
  {
   "cell_type": "code",
   "execution_count": 30,
   "metadata": {},
   "outputs": [
    {
     "name": "stdout",
     "output_type": "stream",
     "text": [
      "+-----------------------------+-----------------------------+---------+\n",
      "|livello_digitalizzazione_2017|livello_digitalizzazione_2018|num_skyid|\n",
      "+-----------------------------+-----------------------------+---------+\n",
      "|10                           |2                            |423      |\n",
      "|1                            |0                            |482315   |\n",
      "|9                            |10                           |70573    |\n",
      "|4                            |10                           |6424     |\n",
      "|6                            |1                            |24738    |\n",
      "|3                            |1                            |45655    |\n",
      "|7                            |4                            |47354    |\n",
      "|2                            |2                            |25649    |\n",
      "|8                            |9                            |34447    |\n",
      "|9                            |4                            |19330    |\n",
      "|8                            |3                            |22531    |\n",
      "|1                            |7                            |6310     |\n",
      "|2                            |3                            |16599    |\n",
      "|4                            |7                            |8339     |\n",
      "|7                            |1                            |12736    |\n",
      "|1                            |2                            |30979    |\n",
      "|0                            |7                            |2805     |\n",
      "|9                            |1                            |675      |\n",
      "|6                            |0                            |59       |\n",
      "|4                            |0                            |9204     |\n",
      "|1                            |9                            |3547     |\n",
      "|0                            |5                            |4590     |\n",
      "|5                            |7                            |17153    |\n",
      "|5                            |6                            |27628    |\n",
      "|null                         |1                            |54390    |\n",
      "|1                            |null                         |112249   |\n",
      "|6                            |8                            |16464    |\n",
      "|10                           |5                            |17440    |\n",
      "|1                            |1                            |18654    |\n",
      "|9                            |7                            |53346    |\n",
      "|6                            |5                            |38746    |\n",
      "|4                            |9                            |4162     |\n",
      "|1                            |3                            |22764    |\n",
      "|null                         |6                            |45397    |\n",
      "|6                            |null                         |30646    |\n",
      "|null                         |3                            |57216    |\n",
      "|3                            |null                         |43138    |\n",
      "|3                            |10                           |11269    |\n",
      "|10                           |6                            |27470    |\n",
      "|3                            |5                            |19006    |\n",
      "|2                            |5                            |7325     |\n",
      "|0                            |0                            |213091   |\n",
      "|7                            |2                            |25234    |\n",
      "|1                            |4                            |16652    |\n",
      "|5                            |4                            |40790    |\n",
      "|5                            |null                         |32515    |\n",
      "|null                         |5                            |42499    |\n",
      "|0                            |10                           |3017     |\n",
      "|7                            |9                            |25594    |\n",
      "|2                            |9                            |2216     |\n",
      "|8                            |10                           |39938    |\n",
      "|10                           |4                            |10672    |\n",
      "|7                            |3                            |37813    |\n",
      "|10                           |1                            |40       |\n",
      "|3                            |3                            |36834    |\n",
      "|9                            |3                            |10162    |\n",
      "|1                            |8                            |4717     |\n",
      "|9                            |2                            |2992     |\n",
      "|8                            |5                            |43748    |\n",
      "|8                            |1                            |3856     |\n",
      "|null                         |9                            |17988    |\n",
      "|9                            |null                         |25893    |\n",
      "|0                            |9                            |1596     |\n",
      "|4                            |3                            |28403    |\n",
      "|6                            |7                            |25890    |\n",
      "|2                            |1                            |23806    |\n",
      "|8                            |8                            |41723    |\n",
      "|2                            |4                            |12793    |\n",
      "|null                         |4                            |47269    |\n",
      "|4                            |null                         |27143    |\n",
      "|8                            |null                         |28301    |\n",
      "|null                         |8                            |23403    |\n",
      "|4                            |6                            |15411    |\n",
      "|6                            |3                            |40733    |\n",
      "|7                            |null                         |33049    |\n",
      "|null                         |7                            |29490    |\n",
      "|9                            |8                            |51635    |\n",
      "|8                            |7                            |59417    |\n",
      "|3                            |6                            |16785    |\n",
      "|8                            |2                            |10709    |\n",
      "|7                            |5                            |52089    |\n",
      "|5                            |10                           |12756    |\n",
      "|null                         |10                           |28910    |\n",
      "|10                           |null                         |35101    |\n",
      "|6                            |2                            |36316    |\n",
      "|9                            |5                            |26359    |\n",
      "|10                           |9                            |81906    |\n",
      "|3                            |9                            |5871     |\n",
      "|2                            |0                            |97194    |\n",
      "|0                            |1                            |8198     |\n",
      "|5                            |8                            |11107    |\n",
      "|6                            |10                           |18460    |\n",
      "|7                            |8                            |31025    |\n",
      "|8                            |4                            |32611    |\n",
      "|2                            |10                           |4222     |\n",
      "|10                           |3                            |3186     |\n",
      "|5                            |0                            |1735     |\n",
      "|0                            |8                            |2131     |\n",
      "|3                            |2                            |49961    |\n",
      "|1                            |5                            |10656    |\n",
      "|5                            |2                            |47631    |\n",
      "|5                            |1                            |45508    |\n",
      "|8                            |0                            |5        |\n",
      "|5                            |3                            |40812    |\n",
      "|9                            |0                            |4        |\n",
      "|0                            |6                            |4195     |\n",
      "|9                            |9                            |51141    |\n",
      "|0                            |2                            |13079    |\n",
      "|7                            |7                            |46894    |\n",
      "|3                            |8                            |7499     |\n",
      "|3                            |4                            |31206    |\n",
      "|4                            |2                            |34648    |\n",
      "|7                            |10                           |32743    |\n",
      "|4                            |4                            |26759    |\n",
      "|10                           |10                           |229758   |\n",
      "|6                            |6                            |39894    |\n",
      "|8                            |6                            |63097    |\n",
      "|2                            |8                            |2935     |\n",
      "|0                            |3                            |9588     |\n",
      "|10                           |7                            |42743    |\n",
      "|2                            |null                         |29801    |\n",
      "|null                         |2                            |66383    |\n",
      "|3                            |0                            |110916   |\n",
      "|9                            |6                            |41984    |\n",
      "|1                            |6                            |9409     |\n",
      "|4                            |1                            |38163    |\n",
      "|1                            |10                           |7934     |\n",
      "|3                            |7                            |10605    |\n",
      "|6                            |9                            |13231    |\n",
      "|5                            |9                            |8779     |\n",
      "|0                            |4                            |7216     |\n",
      "|4                            |8                            |5263     |\n",
      "|2                            |7                            |4052     |\n",
      "|4                            |5                            |17015    |\n",
      "|5                            |5                            |30124    |\n",
      "|0                            |null                         |44892    |\n",
      "|null                         |0                            |357386   |\n",
      "|7                            |0                            |13       |\n",
      "|7                            |6                            |61328    |\n",
      "|6                            |4                            |46101    |\n",
      "|10                           |8                            |58717    |\n",
      "|2                            |6                            |6365     |\n",
      "+-----------------------------+-----------------------------+---------+\n",
      "\n"
     ]
    }
   ],
   "source": [
    "summary_confronto.show(10000,False)"
   ]
  },
  {
   "cell_type": "code",
   "execution_count": 33,
   "metadata": {},
   "outputs": [
    {
     "ename": "AnalysisException",
     "evalue": "\"cannot resolve '`a.livello_finale`' given input columns: [scoreCMDM, digitalizzazione_bin, score_totale_navigazione, devices_prediction, cluster, skyid, visite_prediction_score, devices_prediction_score, livello_digitalizzazione, skyid, livello_digitalizzazione, cluster_score, predictionCMDM, visite_prediction]; line 1 pos 7;\\n'Aggregate [unresolvedordinal(1), unresolvedordinal(2)], ['a.livello_finale AS livello_digitalizzazione_2017#327, livello_digitalizzazione#2 AS livello_digitalizzazione_2018#328, count(1) AS num_skyid#329L]\\n+- Filter isnull(skyid#23)\\n   +- Join LeftOuter, (skyid#23 = skyid#0)\\n      :- SubqueryAlias a, `digitalizzazione_201709`\\n      :  +- Project [skyid#23, livello_digitalizzazione#24, predictionCMDM#25, scoreCMDM#26, cluster#27, cluster_score#28, devices_prediction#29, visite_prediction#30, devices_prediction_score#31, visite_prediction_score#32, if ((livello_digitalizzazione#24 = cast(0 as double))) 0 else if ((livello_digitalizzazione#24 <= cast(3 as double))) 1 else if ((livello_digitalizzazione#24 <= cast(6 as double))) 2 else if ((livello_digitalizzazione#24 <= cast(9 as double))) 3 else if ((livello_digitalizzazione#24 <= cast(12 as double))) 4 else if ((livello_digitalizzazione#24 <= cast(15 as double))) 5 else if ((livello_digitalizzazione#24 <= cast(18 as double))) 6 else if ((livello_digitalizzazione#24 <= cast(21 as double))) 7 else if ((livello_digitalizzazione#24 <= cast(24 as double))) 8 else if ((livello_digitalizzazione#24 <= cast(27 as double))) 9 else if ((livello_digitalizzazione#24 <= cast(30 as double))) 10 else cast(null as int) AS digitalizzazione_bin#46]\\n      :     +- Aggregate [skyid#23, livello_digitalizzazione#24, predictionCMDM#25, scoreCMDM#26, cluster#27, cluster_score#28, devices_prediction#29, visite_prediction#30, devices_prediction_score#31, visite_prediction_score#32], [skyid#23, livello_digitalizzazione#24, predictionCMDM#25, scoreCMDM#26, cluster#27, cluster_score#28, devices_prediction#29, visite_prediction#30, devices_prediction_score#31, visite_prediction_score#32]\\n      :        +- Relation[skyid#23,livello_digitalizzazione#24,predictionCMDM#25,scoreCMDM#26,cluster#27,cluster_score#28,devices_prediction#29,visite_prediction#30,devices_prediction_score#31,visite_prediction_score#32] parquet\\n      +- SubqueryAlias b, `digitalizzazione_201810`\\n         +- Relation[skyid#0,score_totale_navigazione#1,livello_digitalizzazione#2] parquet\\n\"",
     "output_type": "error",
     "traceback": [
      "\u001b[0;31m---------------------------------------------------------------------------\u001b[0m",
      "\u001b[0;31mPy4JJavaError\u001b[0m                             Traceback (most recent call last)",
      "\u001b[0;32m/usr/local/spark/python/pyspark/sql/utils.py\u001b[0m in \u001b[0;36mdeco\u001b[0;34m(*a, **kw)\u001b[0m\n\u001b[1;32m     62\u001b[0m         \u001b[0;32mtry\u001b[0m\u001b[0;34m:\u001b[0m\u001b[0;34m\u001b[0m\u001b[0m\n\u001b[0;32m---> 63\u001b[0;31m             \u001b[0;32mreturn\u001b[0m \u001b[0mf\u001b[0m\u001b[0;34m(\u001b[0m\u001b[0;34m*\u001b[0m\u001b[0ma\u001b[0m\u001b[0;34m,\u001b[0m \u001b[0;34m**\u001b[0m\u001b[0mkw\u001b[0m\u001b[0;34m)\u001b[0m\u001b[0;34m\u001b[0m\u001b[0m\n\u001b[0m\u001b[1;32m     64\u001b[0m         \u001b[0;32mexcept\u001b[0m \u001b[0mpy4j\u001b[0m\u001b[0;34m.\u001b[0m\u001b[0mprotocol\u001b[0m\u001b[0;34m.\u001b[0m\u001b[0mPy4JJavaError\u001b[0m \u001b[0;32mas\u001b[0m \u001b[0me\u001b[0m\u001b[0;34m:\u001b[0m\u001b[0;34m\u001b[0m\u001b[0m\n",
      "\u001b[0;32m/usr/local/spark/python/lib/py4j-0.10.4-src.zip/py4j/protocol.py\u001b[0m in \u001b[0;36mget_return_value\u001b[0;34m(answer, gateway_client, target_id, name)\u001b[0m\n\u001b[1;32m    318\u001b[0m                     \u001b[0;34m\"An error occurred while calling {0}{1}{2}.\\n\"\u001b[0m\u001b[0;34m.\u001b[0m\u001b[0;34m\u001b[0m\u001b[0m\n\u001b[0;32m--> 319\u001b[0;31m                     format(target_id, \".\", name), value)\n\u001b[0m\u001b[1;32m    320\u001b[0m             \u001b[0;32melse\u001b[0m\u001b[0;34m:\u001b[0m\u001b[0;34m\u001b[0m\u001b[0m\n",
      "\u001b[0;31mPy4JJavaError\u001b[0m: An error occurred while calling o29.sql.\n: org.apache.spark.sql.AnalysisException: cannot resolve '`a.livello_finale`' given input columns: [scoreCMDM, digitalizzazione_bin, score_totale_navigazione, devices_prediction, cluster, skyid, visite_prediction_score, devices_prediction_score, livello_digitalizzazione, skyid, livello_digitalizzazione, cluster_score, predictionCMDM, visite_prediction]; line 1 pos 7;\n'Aggregate [unresolvedordinal(1), unresolvedordinal(2)], ['a.livello_finale AS livello_digitalizzazione_2017#327, livello_digitalizzazione#2 AS livello_digitalizzazione_2018#328, count(1) AS num_skyid#329L]\n+- Filter isnull(skyid#23)\n   +- Join LeftOuter, (skyid#23 = skyid#0)\n      :- SubqueryAlias a, `digitalizzazione_201709`\n      :  +- Project [skyid#23, livello_digitalizzazione#24, predictionCMDM#25, scoreCMDM#26, cluster#27, cluster_score#28, devices_prediction#29, visite_prediction#30, devices_prediction_score#31, visite_prediction_score#32, if ((livello_digitalizzazione#24 = cast(0 as double))) 0 else if ((livello_digitalizzazione#24 <= cast(3 as double))) 1 else if ((livello_digitalizzazione#24 <= cast(6 as double))) 2 else if ((livello_digitalizzazione#24 <= cast(9 as double))) 3 else if ((livello_digitalizzazione#24 <= cast(12 as double))) 4 else if ((livello_digitalizzazione#24 <= cast(15 as double))) 5 else if ((livello_digitalizzazione#24 <= cast(18 as double))) 6 else if ((livello_digitalizzazione#24 <= cast(21 as double))) 7 else if ((livello_digitalizzazione#24 <= cast(24 as double))) 8 else if ((livello_digitalizzazione#24 <= cast(27 as double))) 9 else if ((livello_digitalizzazione#24 <= cast(30 as double))) 10 else cast(null as int) AS digitalizzazione_bin#46]\n      :     +- Aggregate [skyid#23, livello_digitalizzazione#24, predictionCMDM#25, scoreCMDM#26, cluster#27, cluster_score#28, devices_prediction#29, visite_prediction#30, devices_prediction_score#31, visite_prediction_score#32], [skyid#23, livello_digitalizzazione#24, predictionCMDM#25, scoreCMDM#26, cluster#27, cluster_score#28, devices_prediction#29, visite_prediction#30, devices_prediction_score#31, visite_prediction_score#32]\n      :        +- Relation[skyid#23,livello_digitalizzazione#24,predictionCMDM#25,scoreCMDM#26,cluster#27,cluster_score#28,devices_prediction#29,visite_prediction#30,devices_prediction_score#31,visite_prediction_score#32] parquet\n      +- SubqueryAlias b, `digitalizzazione_201810`\n         +- Relation[skyid#0,score_totale_navigazione#1,livello_digitalizzazione#2] parquet\n\n\tat org.apache.spark.sql.catalyst.analysis.package$AnalysisErrorAt.failAnalysis(package.scala:42)\n\tat org.apache.spark.sql.catalyst.analysis.CheckAnalysis$$anonfun$checkAnalysis$1$$anonfun$apply$2.applyOrElse(CheckAnalysis.scala:77)\n\tat org.apache.spark.sql.catalyst.analysis.CheckAnalysis$$anonfun$checkAnalysis$1$$anonfun$apply$2.applyOrElse(CheckAnalysis.scala:74)\n\tat org.apache.spark.sql.catalyst.trees.TreeNode$$anonfun$transformUp$1.apply(TreeNode.scala:310)\n\tat org.apache.spark.sql.catalyst.trees.TreeNode$$anonfun$transformUp$1.apply(TreeNode.scala:310)\n\tat org.apache.spark.sql.catalyst.trees.CurrentOrigin$.withOrigin(TreeNode.scala:70)\n\tat org.apache.spark.sql.catalyst.trees.TreeNode.transformUp(TreeNode.scala:309)\n\tat org.apache.spark.sql.catalyst.trees.TreeNode$$anonfun$4.apply(TreeNode.scala:307)\n\tat org.apache.spark.sql.catalyst.trees.TreeNode$$anonfun$4.apply(TreeNode.scala:307)\n\tat org.apache.spark.sql.catalyst.trees.TreeNode$$anonfun$5.apply(TreeNode.scala:331)\n\tat org.apache.spark.sql.catalyst.trees.TreeNode.mapProductIterator(TreeNode.scala:188)\n\tat org.apache.spark.sql.catalyst.trees.TreeNode.transformChildren(TreeNode.scala:329)\n\tat org.apache.spark.sql.catalyst.trees.TreeNode.transformUp(TreeNode.scala:307)\n\tat org.apache.spark.sql.catalyst.plans.QueryPlan.transformExpressionUp$1(QueryPlan.scala:282)\n\tat org.apache.spark.sql.catalyst.plans.QueryPlan.org$apache$spark$sql$catalyst$plans$QueryPlan$$recursiveTransform$2(QueryPlan.scala:292)\n\tat org.apache.spark.sql.catalyst.plans.QueryPlan$$anonfun$org$apache$spark$sql$catalyst$plans$QueryPlan$$recursiveTransform$2$1.apply(QueryPlan.scala:296)\n\tat scala.collection.TraversableLike$$anonfun$map$1.apply(TraversableLike.scala:234)\n\tat scala.collection.TraversableLike$$anonfun$map$1.apply(TraversableLike.scala:234)\n\tat scala.collection.immutable.List.foreach(List.scala:381)\n\tat scala.collection.TraversableLike$class.map(TraversableLike.scala:234)\n\tat scala.collection.immutable.List.map(List.scala:285)\n\tat org.apache.spark.sql.catalyst.plans.QueryPlan.org$apache$spark$sql$catalyst$plans$QueryPlan$$recursiveTransform$2(QueryPlan.scala:296)\n\tat org.apache.spark.sql.catalyst.plans.QueryPlan$$anonfun$7.apply(QueryPlan.scala:301)\n\tat org.apache.spark.sql.catalyst.trees.TreeNode.mapProductIterator(TreeNode.scala:188)\n\tat org.apache.spark.sql.catalyst.plans.QueryPlan.transformExpressionsUp(QueryPlan.scala:301)\n\tat org.apache.spark.sql.catalyst.analysis.CheckAnalysis$$anonfun$checkAnalysis$1.apply(CheckAnalysis.scala:74)\n\tat org.apache.spark.sql.catalyst.analysis.CheckAnalysis$$anonfun$checkAnalysis$1.apply(CheckAnalysis.scala:67)\n\tat org.apache.spark.sql.catalyst.trees.TreeNode.foreachUp(TreeNode.scala:128)\n\tat org.apache.spark.sql.catalyst.analysis.CheckAnalysis$class.checkAnalysis(CheckAnalysis.scala:67)\n\tat org.apache.spark.sql.catalyst.analysis.Analyzer.checkAnalysis(Analyzer.scala:57)\n\tat org.apache.spark.sql.execution.QueryExecution.assertAnalyzed(QueryExecution.scala:48)\n\tat org.apache.spark.sql.Dataset$.ofRows(Dataset.scala:63)\n\tat org.apache.spark.sql.SparkSession.sql(SparkSession.scala:592)\n\tat sun.reflect.GeneratedMethodAccessor36.invoke(Unknown Source)\n\tat sun.reflect.DelegatingMethodAccessorImpl.invoke(DelegatingMethodAccessorImpl.java:43)\n\tat java.lang.reflect.Method.invoke(Method.java:498)\n\tat py4j.reflection.MethodInvoker.invoke(MethodInvoker.java:244)\n\tat py4j.reflection.ReflectionEngine.invoke(ReflectionEngine.java:357)\n\tat py4j.Gateway.invoke(Gateway.java:280)\n\tat py4j.commands.AbstractCommand.invokeMethod(AbstractCommand.java:132)\n\tat py4j.commands.CallCommand.execute(CallCommand.java:79)\n\tat py4j.GatewayConnection.run(GatewayConnection.java:214)\n\tat java.lang.Thread.run(Thread.java:748)\n",
      "\nDuring handling of the above exception, another exception occurred:\n",
      "\u001b[0;31mAnalysisException\u001b[0m                         Traceback (most recent call last)",
      "\u001b[0;32m<ipython-input-33-6ad9cc96cade>\u001b[0m in \u001b[0;36m<module>\u001b[0;34m()\u001b[0m\n\u001b[0;32m----> 1\u001b[0;31m \u001b[0mnew_skyid\u001b[0m\u001b[0;34m=\u001b[0m\u001b[0mspark\u001b[0m\u001b[0;34m.\u001b[0m\u001b[0msql\u001b[0m\u001b[0;34m(\u001b[0m\u001b[0;34m\"select a.livello_finale as livello_digitalizzazione_2017, b.livello_digitalizzazione as livello_digitalizzazione_2018, count(*) num_skyid from digitalizzazione_201709 a left join digitalizzazione_201810 b on a.skyid=b.skyid where a.skyid is NULL group by 1,2\"\u001b[0m\u001b[0;34m)\u001b[0m\u001b[0;34m.\u001b[0m\u001b[0mpersist\u001b[0m\u001b[0;34m(\u001b[0m\u001b[0;34m)\u001b[0m\u001b[0;34m\u001b[0m\u001b[0m\n\u001b[0m\u001b[1;32m      2\u001b[0m \u001b[0;34m\u001b[0m\u001b[0m\n\u001b[1;32m      3\u001b[0m \u001b[0mnew_skyid\u001b[0m\u001b[0;34m.\u001b[0m\u001b[0mshow\u001b[0m\u001b[0;34m(\u001b[0m\u001b[0;36m20\u001b[0m\u001b[0;34m,\u001b[0m\u001b[0;32mFalse\u001b[0m\u001b[0;34m)\u001b[0m\u001b[0;34m\u001b[0m\u001b[0m\n\u001b[1;32m      4\u001b[0m \u001b[0;34m\u001b[0m\u001b[0m\n",
      "\u001b[0;32m/usr/local/spark/python/pyspark/sql/session.py\u001b[0m in \u001b[0;36msql\u001b[0;34m(self, sqlQuery)\u001b[0m\n\u001b[1;32m    539\u001b[0m         \u001b[0;34m[\u001b[0m\u001b[0mRow\u001b[0m\u001b[0;34m(\u001b[0m\u001b[0mf1\u001b[0m\u001b[0;34m=\u001b[0m\u001b[0;36m1\u001b[0m\u001b[0;34m,\u001b[0m \u001b[0mf2\u001b[0m\u001b[0;34m=\u001b[0m\u001b[0;34mu'row1'\u001b[0m\u001b[0;34m)\u001b[0m\u001b[0;34m,\u001b[0m \u001b[0mRow\u001b[0m\u001b[0;34m(\u001b[0m\u001b[0mf1\u001b[0m\u001b[0;34m=\u001b[0m\u001b[0;36m2\u001b[0m\u001b[0;34m,\u001b[0m \u001b[0mf2\u001b[0m\u001b[0;34m=\u001b[0m\u001b[0;34mu'row2'\u001b[0m\u001b[0;34m)\u001b[0m\u001b[0;34m,\u001b[0m \u001b[0mRow\u001b[0m\u001b[0;34m(\u001b[0m\u001b[0mf1\u001b[0m\u001b[0;34m=\u001b[0m\u001b[0;36m3\u001b[0m\u001b[0;34m,\u001b[0m \u001b[0mf2\u001b[0m\u001b[0;34m=\u001b[0m\u001b[0;34mu'row3'\u001b[0m\u001b[0;34m)\u001b[0m\u001b[0;34m]\u001b[0m\u001b[0;34m\u001b[0m\u001b[0m\n\u001b[1;32m    540\u001b[0m         \"\"\"\n\u001b[0;32m--> 541\u001b[0;31m         \u001b[0;32mreturn\u001b[0m \u001b[0mDataFrame\u001b[0m\u001b[0;34m(\u001b[0m\u001b[0mself\u001b[0m\u001b[0;34m.\u001b[0m\u001b[0m_jsparkSession\u001b[0m\u001b[0;34m.\u001b[0m\u001b[0msql\u001b[0m\u001b[0;34m(\u001b[0m\u001b[0msqlQuery\u001b[0m\u001b[0;34m)\u001b[0m\u001b[0;34m,\u001b[0m \u001b[0mself\u001b[0m\u001b[0;34m.\u001b[0m\u001b[0m_wrapped\u001b[0m\u001b[0;34m)\u001b[0m\u001b[0;34m\u001b[0m\u001b[0m\n\u001b[0m\u001b[1;32m    542\u001b[0m \u001b[0;34m\u001b[0m\u001b[0m\n\u001b[1;32m    543\u001b[0m     \u001b[0;34m@\u001b[0m\u001b[0msince\u001b[0m\u001b[0;34m(\u001b[0m\u001b[0;36m2.0\u001b[0m\u001b[0;34m)\u001b[0m\u001b[0;34m\u001b[0m\u001b[0m\n",
      "\u001b[0;32m/usr/local/spark/python/lib/py4j-0.10.4-src.zip/py4j/java_gateway.py\u001b[0m in \u001b[0;36m__call__\u001b[0;34m(self, *args)\u001b[0m\n\u001b[1;32m   1131\u001b[0m         \u001b[0manswer\u001b[0m \u001b[0;34m=\u001b[0m \u001b[0mself\u001b[0m\u001b[0;34m.\u001b[0m\u001b[0mgateway_client\u001b[0m\u001b[0;34m.\u001b[0m\u001b[0msend_command\u001b[0m\u001b[0;34m(\u001b[0m\u001b[0mcommand\u001b[0m\u001b[0;34m)\u001b[0m\u001b[0;34m\u001b[0m\u001b[0m\n\u001b[1;32m   1132\u001b[0m         return_value = get_return_value(\n\u001b[0;32m-> 1133\u001b[0;31m             answer, self.gateway_client, self.target_id, self.name)\n\u001b[0m\u001b[1;32m   1134\u001b[0m \u001b[0;34m\u001b[0m\u001b[0m\n\u001b[1;32m   1135\u001b[0m         \u001b[0;32mfor\u001b[0m \u001b[0mtemp_arg\u001b[0m \u001b[0;32min\u001b[0m \u001b[0mtemp_args\u001b[0m\u001b[0;34m:\u001b[0m\u001b[0;34m\u001b[0m\u001b[0m\n",
      "\u001b[0;32m/usr/local/spark/python/pyspark/sql/utils.py\u001b[0m in \u001b[0;36mdeco\u001b[0;34m(*a, **kw)\u001b[0m\n\u001b[1;32m     67\u001b[0m                                              e.java_exception.getStackTrace()))\n\u001b[1;32m     68\u001b[0m             \u001b[0;32mif\u001b[0m \u001b[0ms\u001b[0m\u001b[0;34m.\u001b[0m\u001b[0mstartswith\u001b[0m\u001b[0;34m(\u001b[0m\u001b[0;34m'org.apache.spark.sql.AnalysisException: '\u001b[0m\u001b[0;34m)\u001b[0m\u001b[0;34m:\u001b[0m\u001b[0;34m\u001b[0m\u001b[0m\n\u001b[0;32m---> 69\u001b[0;31m                 \u001b[0;32mraise\u001b[0m \u001b[0mAnalysisException\u001b[0m\u001b[0;34m(\u001b[0m\u001b[0ms\u001b[0m\u001b[0;34m.\u001b[0m\u001b[0msplit\u001b[0m\u001b[0;34m(\u001b[0m\u001b[0;34m': '\u001b[0m\u001b[0;34m,\u001b[0m \u001b[0;36m1\u001b[0m\u001b[0;34m)\u001b[0m\u001b[0;34m[\u001b[0m\u001b[0;36m1\u001b[0m\u001b[0;34m]\u001b[0m\u001b[0;34m,\u001b[0m \u001b[0mstackTrace\u001b[0m\u001b[0;34m)\u001b[0m\u001b[0;34m\u001b[0m\u001b[0m\n\u001b[0m\u001b[1;32m     70\u001b[0m             \u001b[0;32mif\u001b[0m \u001b[0ms\u001b[0m\u001b[0;34m.\u001b[0m\u001b[0mstartswith\u001b[0m\u001b[0;34m(\u001b[0m\u001b[0;34m'org.apache.spark.sql.catalyst.analysis'\u001b[0m\u001b[0;34m)\u001b[0m\u001b[0;34m:\u001b[0m\u001b[0;34m\u001b[0m\u001b[0m\n\u001b[1;32m     71\u001b[0m                 \u001b[0;32mraise\u001b[0m \u001b[0mAnalysisException\u001b[0m\u001b[0;34m(\u001b[0m\u001b[0ms\u001b[0m\u001b[0;34m.\u001b[0m\u001b[0msplit\u001b[0m\u001b[0;34m(\u001b[0m\u001b[0;34m': '\u001b[0m\u001b[0;34m,\u001b[0m \u001b[0;36m1\u001b[0m\u001b[0;34m)\u001b[0m\u001b[0;34m[\u001b[0m\u001b[0;36m1\u001b[0m\u001b[0;34m]\u001b[0m\u001b[0;34m,\u001b[0m \u001b[0mstackTrace\u001b[0m\u001b[0;34m)\u001b[0m\u001b[0;34m\u001b[0m\u001b[0m\n",
      "\u001b[0;31mAnalysisException\u001b[0m: \"cannot resolve '`a.livello_finale`' given input columns: [scoreCMDM, digitalizzazione_bin, score_totale_navigazione, devices_prediction, cluster, skyid, visite_prediction_score, devices_prediction_score, livello_digitalizzazione, skyid, livello_digitalizzazione, cluster_score, predictionCMDM, visite_prediction]; line 1 pos 7;\\n'Aggregate [unresolvedordinal(1), unresolvedordinal(2)], ['a.livello_finale AS livello_digitalizzazione_2017#327, livello_digitalizzazione#2 AS livello_digitalizzazione_2018#328, count(1) AS num_skyid#329L]\\n+- Filter isnull(skyid#23)\\n   +- Join LeftOuter, (skyid#23 = skyid#0)\\n      :- SubqueryAlias a, `digitalizzazione_201709`\\n      :  +- Project [skyid#23, livello_digitalizzazione#24, predictionCMDM#25, scoreCMDM#26, cluster#27, cluster_score#28, devices_prediction#29, visite_prediction#30, devices_prediction_score#31, visite_prediction_score#32, if ((livello_digitalizzazione#24 = cast(0 as double))) 0 else if ((livello_digitalizzazione#24 <= cast(3 as double))) 1 else if ((livello_digitalizzazione#24 <= cast(6 as double))) 2 else if ((livello_digitalizzazione#24 <= cast(9 as double))) 3 else if ((livello_digitalizzazione#24 <= cast(12 as double))) 4 else if ((livello_digitalizzazione#24 <= cast(15 as double))) 5 else if ((livello_digitalizzazione#24 <= cast(18 as double))) 6 else if ((livello_digitalizzazione#24 <= cast(21 as double))) 7 else if ((livello_digitalizzazione#24 <= cast(24 as double))) 8 else if ((livello_digitalizzazione#24 <= cast(27 as double))) 9 else if ((livello_digitalizzazione#24 <= cast(30 as double))) 10 else cast(null as int) AS digitalizzazione_bin#46]\\n      :     +- Aggregate [skyid#23, livello_digitalizzazione#24, predictionCMDM#25, scoreCMDM#26, cluster#27, cluster_score#28, devices_prediction#29, visite_prediction#30, devices_prediction_score#31, visite_prediction_score#32], [skyid#23, livello_digitalizzazione#24, predictionCMDM#25, scoreCMDM#26, cluster#27, cluster_score#28, devices_prediction#29, visite_prediction#30, devices_prediction_score#31, visite_prediction_score#32]\\n      :        +- Relation[skyid#23,livello_digitalizzazione#24,predictionCMDM#25,scoreCMDM#26,cluster#27,cluster_score#28,devices_prediction#29,visite_prediction#30,devices_prediction_score#31,visite_prediction_score#32] parquet\\n      +- SubqueryAlias b, `digitalizzazione_201810`\\n         +- Relation[skyid#0,score_totale_navigazione#1,livello_digitalizzazione#2] parquet\\n\""
     ]
    }
   ],
   "source": [
    "new_skyid=spark.sql(\"select a.livello_finale as livello_digitalizzazione_2017, b.livello_digitalizzazione as livello_digitalizzazione_2018, count(*) num_skyid from digitalizzazione_201709 a left join digitalizzazione_201810 b on a.skyid=b.skyid where a.skyid is NULL group by 1,2\").persist()\n",
    "\n",
    "new_skyid.show(20,False)\n",
    "\n"
   ]
  }
 ],
 "metadata": {
  "kernelspec": {
   "display_name": "Python 3",
   "language": "python",
   "name": "python3"
  },
  "language_info": {
   "codemirror_mode": {
    "name": "ipython",
    "version": 3
   },
   "file_extension": ".py",
   "mimetype": "text/x-python",
   "name": "python",
   "nbconvert_exporter": "python",
   "pygments_lexer": "ipython3",
   "version": "3.5.3"
  }
 },
 "nbformat": 4,
 "nbformat_minor": 2
}
