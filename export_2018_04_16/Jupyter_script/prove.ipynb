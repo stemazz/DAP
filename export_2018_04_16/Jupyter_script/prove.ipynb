{
 "cells": [
  {
   "cell_type": "code",
   "execution_count": 3,
   "metadata": {},
   "outputs": [
    {
     "name": "stdout",
     "output_type": "stream",
     "text": [
      "['Lazio', 'Liguria', 'Toscana', 'Marche']\n"
     ]
    }
   ],
   "source": [
    "regioni = [\"Lazio\",\"Liguria\",\"Toscana\",\"Marche\"]\n",
    "print regioni"
   ]
  },
  {
   "cell_type": "code",
   "execution_count": 8,
   "metadata": {},
   "outputs": [
    {
     "name": "stdout",
     "output_type": "stream",
     "text": [
      "   anno  pop  regione\n",
      "0  2000  1.5    Lazio\n",
      "1  2001  1.4    Lazio\n",
      "2  2002  1.7    Lazio\n",
      "3  2001  1.6  Liguria\n",
      "4  2002  1.8  Liguria\n"
     ]
    }
   ],
   "source": [
    "from pandas import DataFrame\n",
    "\n",
    "data = {\"regione\": [\"Lazio\", \"Lazio\", \"Lazio\", \"Liguria\", \"Liguria\"],\n",
    "        \"anno\":[2000,2001,2002,2001,2002],\"pop\":[1.5, 1.4, 1.7, 1.6,1.8]}\n",
    "\n",
    "df = DataFrame(data)\n",
    "print df"
   ]
  },
  {
   "cell_type": "code",
   "execution_count": 9,
   "metadata": {},
   "outputs": [
    {
     "name": "stdout",
     "output_type": "stream",
     "text": [
      "quanti utenti vuoi inserire nella rubrica? 2\n",
      "dammi un NOME da inserire nella rubrica: Andrea\n",
      "dammi un NUMERO da inserire nella rubrica: 333123456\n",
      "dammi un NOME da inserire nella rubrica: Stefano\n",
      "dammi un NUMERO da inserire nella rubrica: 348987654\n",
      "{'Andrea': [333123456], 'Stefano': [348987654]}\n",
      "di chi vuoi sapere il numero? Stefano\n",
      "[348987654]\n"
     ]
    }
   ],
   "source": [
    "rubrica = {}\n",
    "\n",
    "n = input(\"quanti utenti vuoi inserire nella rubrica? \")\n",
    "\n",
    "for i in xrange(n):\n",
    "    nome = raw_input(\"dammi un NOME da inserire nella rubrica: \")\n",
    "    if nome not in rubrica:\n",
    "    \tnumero = input(\"dammi un NUMERO da inserire nella rubrica: \")\n",
    "    \trubrica[nome] = [numero]\n",
    "    else: \n",
    "    \tnumero2 = input(\"dammi un altro NUMERO da inserire nella rubrica: \")\n",
    "    \trubrica[nome] += [numero2]\n",
    "    \t# rubrica[nome].append(numero2)\n",
    "\n",
    "print rubrica\n",
    "\n",
    "# rubrica = {'andrea':[123,456], 'ste':[789]}\n",
    "\n",
    "domanda = raw_input(\"di chi vuoi sapere il numero? \")\n",
    "\n",
    "print rubrica[domanda]\n"
   ]
  }
 ],
 "metadata": {
  "kernelspec": {
   "display_name": "Python 2",
   "language": "python",
   "name": "python2"
  },
  "language_info": {
   "codemirror_mode": {
    "name": "ipython",
    "version": 2
   },
   "file_extension": ".py",
   "mimetype": "text/x-python",
   "name": "python",
   "nbconvert_exporter": "python",
   "pygments_lexer": "ipython2",
   "version": "2.7.13"
  }
 },
 "nbformat": 4,
 "nbformat_minor": 2
}
